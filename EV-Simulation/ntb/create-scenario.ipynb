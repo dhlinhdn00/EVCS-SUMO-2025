{
 "cells": [
  {
   "cell_type": "code",
   "execution_count": null,
   "metadata": {},
   "outputs": [],
   "source": [
    "import os\n",
    "import sys\n",
    "from pathlib import Path\n",
    "\n",
    "os.environ[\"LD_LIBRARY_PATH\"] = os.path.expanduser(\"~/Libs/libnsl\")\n",
    "os.environ[\"SUMO_HOME\"] = os.path.expanduser(\"~/Envs/sumo-env/lib/python3.10/site-packages/sumo\")\n",
    "\n",
    "sys.path.append(\"/home/hoai-linh.dao/Works/EVCS/EV-Simulations/src\")\n",
    "\n",
    "from scenarioCreationOneDay import *\n",
    "\n",
    "NET_XML = \"/home/hoai-linh.dao/Works/EVCS/EV-Simulations/data/network/connected-network.net.xml\"\n",
    "TAZ_XML = \"/home/hoai-linh.dao/Works/EVCS/EV-Simulations/data/network/taz.xml\"\n",
    "ODS_DIR = \"/home/hoai-linh.dao/Works/EVCS/CEREMA-Mini/data/processed-data/total_scenario/old-form-all\"\n",
    "ORIG_VTYPES_XML = Path(\"/home/hoai-linh.dao/Works/EVCS/EV-Simulations/data/additional-files/vtypes-original/1EV_1ICE.add.xml\")\n",
    "\n",
    "SCALE = 0.2\n",
    "EV_RATIO = 0.2\n",
    "SEED = 65\n",
    "EV_BRANDS = [\"Renault\"]\n",
    "ROUTING_THREADS = 64\n",
    "DIST_ID = Path(ORIG_VTYPES_XML).stem.replace(\".add\", \"\")\n",
    "\n",
    "TRIPS_ROUTES_TLS_DIR = Path(\"/home/hoai-linh.dao/Works/EVCS/EV-Simulations/results/scenarios/050625_check\") # <- Must check\n",
    "\n",
    "DIST_VTYPES_XML = TRIPS_ROUTES_TLS_DIR / f\"{DIST_ID}_{str(EV_RATIO).replace('.', '_')}.add.xml\"\n",
    "TRIPS_DIR = TRIPS_ROUTES_TLS_DIR / \"trips\"\n",
    "ROUTES_DIR = TRIPS_ROUTES_TLS_DIR / \"routes\"\n",
    "REROUTER_XML = TRIPS_ROUTES_TLS_DIR / \"rerouter.xml\"\n",
    "TLS_DIR = TRIPS_ROUTES_TLS_DIR / \"tls\"\n",
    "\n",
    "for d in [TRIPS_ROUTES_TLS_DIR, TRIPS_DIR, ROUTES_DIR, TLS_DIR]:\n",
    "    d.mkdir(parents=True, exist_ok=True)\n",
    "\n",
    "print(DIST_VTYPES_XML)\n",
    "print(DIST_ID)\n"
   ]
  },
  {
   "cell_type": "code",
   "execution_count": null,
   "metadata": {},
   "outputs": [],
   "source": [
    "assign_probabilities_to_vtypes(\n",
    "    vtypes_xml=ORIG_VTYPES_XML,\n",
    "    dist_id=DIST_ID,\n",
    "    ev_brands=EV_BRANDS,\n",
    "    ev_ratio=EV_RATIO,\n",
    "    output_xml=DIST_VTYPES_XML\n",
    ")"
   ]
  },
  {
   "cell_type": "code",
   "execution_count": null,
   "metadata": {},
   "outputs": [],
   "source": [
    "create_trips_for_1day(\n",
    "    trips_dir=TRIPS_DIR,\n",
    "    taz_xml=TAZ_XML,\n",
    "    ods_dir=ODS_DIR,\n",
    "    dist_id=DIST_ID,\n",
    "    seed=SEED,\n",
    "    scale=SCALE\n",
    ")"
   ]
  },
  {
   "cell_type": "code",
   "execution_count": null,
   "metadata": {},
   "outputs": [],
   "source": [
    "create_routes_for_1day(\n",
    "    routes_dir= ROUTES_DIR,\n",
    "    trips_dir=TRIPS_DIR,\n",
    "    net_xml=NET_XML,\n",
    "    vtypes_xml=DIST_VTYPES_XML,\n",
    "    seed=SEED,\n",
    "    threads=ROUTING_THREADS\n",
    ")"
   ]
  },
  {
   "cell_type": "code",
   "execution_count": 2,
   "metadata": {},
   "outputs": [
    {
     "name": "stdout",
     "output_type": "stream",
     "text": [
      "[H00] Generated /home/hoai-linh.dao/Works/EVCS/EV-Simulations/results/scenarios/050625_check/tls/tls_cycle_00.add.xml\n",
      "[H00] Generated /home/hoai-linh.dao/Works/EVCS/EV-Simulations/results/scenarios/050625_check/tls/tls_coord_00.add.xml\n",
      "[H01] Generated /home/hoai-linh.dao/Works/EVCS/EV-Simulations/results/scenarios/050625_check/tls/tls_cycle_01.add.xml\n",
      "[H01] Generated /home/hoai-linh.dao/Works/EVCS/EV-Simulations/results/scenarios/050625_check/tls/tls_coord_01.add.xml\n",
      "[H02] Generated /home/hoai-linh.dao/Works/EVCS/EV-Simulations/results/scenarios/050625_check/tls/tls_cycle_02.add.xml\n",
      "[H02] Generated /home/hoai-linh.dao/Works/EVCS/EV-Simulations/results/scenarios/050625_check/tls/tls_coord_02.add.xml\n",
      "[H03] Generated /home/hoai-linh.dao/Works/EVCS/EV-Simulations/results/scenarios/050625_check/tls/tls_cycle_03.add.xml\n",
      "[H03] Generated /home/hoai-linh.dao/Works/EVCS/EV-Simulations/results/scenarios/050625_check/tls/tls_coord_03.add.xml\n",
      "[H04] Generated /home/hoai-linh.dao/Works/EVCS/EV-Simulations/results/scenarios/050625_check/tls/tls_cycle_04.add.xml\n",
      "[H04] Generated /home/hoai-linh.dao/Works/EVCS/EV-Simulations/results/scenarios/050625_check/tls/tls_coord_04.add.xml\n",
      "[H05] Generated /home/hoai-linh.dao/Works/EVCS/EV-Simulations/results/scenarios/050625_check/tls/tls_cycle_05.add.xml\n",
      "[H05] Generated /home/hoai-linh.dao/Works/EVCS/EV-Simulations/results/scenarios/050625_check/tls/tls_coord_05.add.xml\n",
      "[H06] Generated /home/hoai-linh.dao/Works/EVCS/EV-Simulations/results/scenarios/050625_check/tls/tls_cycle_06.add.xml\n",
      "[H06] Generated /home/hoai-linh.dao/Works/EVCS/EV-Simulations/results/scenarios/050625_check/tls/tls_coord_06.add.xml\n",
      "[H07] Generated /home/hoai-linh.dao/Works/EVCS/EV-Simulations/results/scenarios/050625_check/tls/tls_cycle_07.add.xml\n",
      "[H07] Generated /home/hoai-linh.dao/Works/EVCS/EV-Simulations/results/scenarios/050625_check/tls/tls_coord_07.add.xml\n",
      "[H08] Generated /home/hoai-linh.dao/Works/EVCS/EV-Simulations/results/scenarios/050625_check/tls/tls_cycle_08.add.xml\n",
      "[H08] Generated /home/hoai-linh.dao/Works/EVCS/EV-Simulations/results/scenarios/050625_check/tls/tls_coord_08.add.xml\n",
      "[H09] Generated /home/hoai-linh.dao/Works/EVCS/EV-Simulations/results/scenarios/050625_check/tls/tls_cycle_09.add.xml\n",
      "[H09] Generated /home/hoai-linh.dao/Works/EVCS/EV-Simulations/results/scenarios/050625_check/tls/tls_coord_09.add.xml\n",
      "[H10] Generated /home/hoai-linh.dao/Works/EVCS/EV-Simulations/results/scenarios/050625_check/tls/tls_cycle_10.add.xml\n",
      "[H10] Generated /home/hoai-linh.dao/Works/EVCS/EV-Simulations/results/scenarios/050625_check/tls/tls_coord_10.add.xml\n",
      "[H11] Generated /home/hoai-linh.dao/Works/EVCS/EV-Simulations/results/scenarios/050625_check/tls/tls_cycle_11.add.xml\n",
      "[H11] Generated /home/hoai-linh.dao/Works/EVCS/EV-Simulations/results/scenarios/050625_check/tls/tls_coord_11.add.xml\n",
      "[H12] Generated /home/hoai-linh.dao/Works/EVCS/EV-Simulations/results/scenarios/050625_check/tls/tls_cycle_12.add.xml\n",
      "[H12] Generated /home/hoai-linh.dao/Works/EVCS/EV-Simulations/results/scenarios/050625_check/tls/tls_coord_12.add.xml\n",
      "[H13] Generated /home/hoai-linh.dao/Works/EVCS/EV-Simulations/results/scenarios/050625_check/tls/tls_cycle_13.add.xml\n",
      "[H13] Generated /home/hoai-linh.dao/Works/EVCS/EV-Simulations/results/scenarios/050625_check/tls/tls_coord_13.add.xml\n",
      "[H14] Generated /home/hoai-linh.dao/Works/EVCS/EV-Simulations/results/scenarios/050625_check/tls/tls_cycle_14.add.xml\n",
      "[H14] Generated /home/hoai-linh.dao/Works/EVCS/EV-Simulations/results/scenarios/050625_check/tls/tls_coord_14.add.xml\n",
      "[H15] Generated /home/hoai-linh.dao/Works/EVCS/EV-Simulations/results/scenarios/050625_check/tls/tls_cycle_15.add.xml\n",
      "[H15] Generated /home/hoai-linh.dao/Works/EVCS/EV-Simulations/results/scenarios/050625_check/tls/tls_coord_15.add.xml\n",
      "[H16] Generated /home/hoai-linh.dao/Works/EVCS/EV-Simulations/results/scenarios/050625_check/tls/tls_cycle_16.add.xml\n",
      "[H16] Generated /home/hoai-linh.dao/Works/EVCS/EV-Simulations/results/scenarios/050625_check/tls/tls_coord_16.add.xml\n",
      "[H17] Generated /home/hoai-linh.dao/Works/EVCS/EV-Simulations/results/scenarios/050625_check/tls/tls_cycle_17.add.xml\n",
      "[H17] Generated /home/hoai-linh.dao/Works/EVCS/EV-Simulations/results/scenarios/050625_check/tls/tls_coord_17.add.xml\n",
      "[H18] Generated /home/hoai-linh.dao/Works/EVCS/EV-Simulations/results/scenarios/050625_check/tls/tls_cycle_18.add.xml\n",
      "[H18] Generated /home/hoai-linh.dao/Works/EVCS/EV-Simulations/results/scenarios/050625_check/tls/tls_coord_18.add.xml\n",
      "[H19] Generated /home/hoai-linh.dao/Works/EVCS/EV-Simulations/results/scenarios/050625_check/tls/tls_cycle_19.add.xml\n",
      "[H19] Generated /home/hoai-linh.dao/Works/EVCS/EV-Simulations/results/scenarios/050625_check/tls/tls_coord_19.add.xml\n",
      "[H20] Generated /home/hoai-linh.dao/Works/EVCS/EV-Simulations/results/scenarios/050625_check/tls/tls_cycle_20.add.xml\n",
      "[H20] Generated /home/hoai-linh.dao/Works/EVCS/EV-Simulations/results/scenarios/050625_check/tls/tls_coord_20.add.xml\n",
      "[H21] Generated /home/hoai-linh.dao/Works/EVCS/EV-Simulations/results/scenarios/050625_check/tls/tls_cycle_21.add.xml\n",
      "[H21] Generated /home/hoai-linh.dao/Works/EVCS/EV-Simulations/results/scenarios/050625_check/tls/tls_coord_21.add.xml\n",
      "[H22] Generated /home/hoai-linh.dao/Works/EVCS/EV-Simulations/results/scenarios/050625_check/tls/tls_cycle_22.add.xml\n",
      "[H22] Generated /home/hoai-linh.dao/Works/EVCS/EV-Simulations/results/scenarios/050625_check/tls/tls_coord_22.add.xml\n",
      "[H23] Generated /home/hoai-linh.dao/Works/EVCS/EV-Simulations/results/scenarios/050625_check/tls/tls_cycle_23.add.xml\n",
      "[H23] Generated /home/hoai-linh.dao/Works/EVCS/EV-Simulations/results/scenarios/050625_check/tls/tls_coord_23.add.xml\n"
     ]
    }
   ],
   "source": [
    "create_tls_for_1day(\n",
    "    routes_dir=ROUTES_DIR,\n",
    "    tls_dir=TLS_DIR,\n",
    "    net_xml=NET_XML,\n",
    ")"
   ]
  },
  {
   "cell_type": "code",
   "execution_count": null,
   "metadata": {},
   "outputs": [],
   "source": [
    "create_continuous_rerouter(\n",
    "    net_xml=NET_XML,\n",
    "    rerouter_xml=REROUTER_XML,\n",
    ")"
   ]
  }
 ],
 "metadata": {
  "kernelspec": {
   "display_name": "Python 3",
   "language": "python",
   "name": "python3"
  },
  "language_info": {
   "codemirror_mode": {
    "name": "ipython",
    "version": 3
   },
   "file_extension": ".py",
   "mimetype": "text/x-python",
   "name": "python",
   "nbconvert_exporter": "python",
   "pygments_lexer": "ipython3",
   "version": "3.10.16"
  }
 },
 "nbformat": 4,
 "nbformat_minor": 2
}
