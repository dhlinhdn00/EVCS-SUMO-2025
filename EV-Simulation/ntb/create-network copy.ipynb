{
 "cells": [
  {
   "cell_type": "markdown",
   "metadata": {},
   "source": [
    "# **SETUP**"
   ]
  },
  {
   "cell_type": "code",
   "execution_count": 1,
   "metadata": {},
   "outputs": [],
   "source": [
    "import os\n",
    "import sys\n",
    "import xml.etree.ElementTree as ET\n",
    "from pathlib import Path\n",
    "sys.path.append('/home/hoai-linh.dao/Works/EVCS/EV-Simulations/src') \n",
    "from networkUtils import generateNetwork, mergeRegionsJSON, splitNetwork, showNetworkStats, makeNetworkConnected\n",
    "from TAZCreation import createTAZ\n",
    "from config import TAZ_IDS\n",
    "\n",
    "os.environ[\"SUMO_HOME\"] = os.path.expanduser(\"~/Envs/sumo-env/lib/python3.10/site-packages/sumo\")\n",
    "os.environ[\"LD_LIBRARY_PATH\"] = os.path.expanduser(\"~/Libs/libnsl\")"
   ]
  },
  {
   "cell_type": "code",
   "execution_count": 2,
   "metadata": {},
   "outputs": [],
   "source": [
    "BASE_FOLDER = Path(\"/home/hoai-linh.dao/Works/EVCS/EV-Simulations/data/network-1\")\n",
    "\n",
    "REGIONS_JSON = \"/home/hoai-linh.dao/Works/EVCS/EV-Simulations/data/processed-data/AMP-mapping.json\"\n",
    "IDS_JSON = \"/home/hoai-linh.dao/Works/EVCS/EV-Simulations/data/processed-data/AMP-TAZ-IDs.json\"\n",
    "COMMUNES_JSON = \"/home/hoai-linh.dao/Works/EVCS/EV-Simulations/data/processed-data/AMP-TAZ-Communes.json\"\n",
    "COLORS_JSON = \"/home/hoai-linh.dao/Works/EVCS/EV-Simulations/data/processed-data/AMP-TAZ-Colors.json\"\n",
    "\n",
    "\n",
    "SUB_FOLDER_NAME  = \"ouest-etang-de-berre\"\n",
    "REGION_IDS       = [\"ouest-etang-de-berre\"]"
   ]
  },
  {
   "cell_type": "markdown",
   "metadata": {},
   "source": [
    "# **RUN**"
   ]
  },
  {
   "cell_type": "code",
   "execution_count": 3,
   "metadata": {},
   "outputs": [
    {
     "name": "stdout",
     "output_type": "stream",
     "text": [
      "Combined data saved to: /home/hoai-linh.dao/Works/EVCS/CEREMA-Mini/data/processed-data/AMP-mapping.json\n"
     ]
    }
   ],
   "source": [
    "mergeRegionsJSON(COMMUNES_JSON, IDS_JSON, COLORS_JSON, REGIONS_JSON)"
   ]
  },
  {
   "cell_type": "code",
   "execution_count": 3,
   "metadata": {},
   "outputs": [],
   "source": [
    "generateNetwork(BASE_FOLDER, REGIONS_JSON, 0.001)"
   ]
  },
  {
   "cell_type": "code",
   "execution_count": null,
   "metadata": {},
   "outputs": [],
   "source": [
    "makeNetworkConnected(BASE_FOLDER)"
   ]
  },
  {
   "cell_type": "code",
   "execution_count": null,
   "metadata": {},
   "outputs": [],
   "source": [
    "splitNetwork(BASE_FOLDER, SUB_FOLDER_NAME, REGION_IDS)"
   ]
  },
  {
   "cell_type": "markdown",
   "metadata": {},
   "source": [
    "# **CHECK**"
   ]
  },
  {
   "cell_type": "code",
   "execution_count": 3,
   "metadata": {},
   "outputs": [
    {
     "data": {
      "text/plain": [
       "{'junctions': 211853,\n",
       " 'signal_junctions': 5971,\n",
       " 'edges': 209146,\n",
       " 'lanes': 222551,\n",
       " 'components': 218,\n",
       " 'coverage_area': 5813601867.370719,\n",
       " 'total_length': 22852663.7899924,\n",
       " 'max_vehicles': 1459042}"
      ]
     },
     "execution_count": 3,
     "metadata": {},
     "output_type": "execute_result"
    }
   ],
   "source": [
    "showNetworkStats(\"/home/hoai-linh.dao/Works/EVCS/CEREMA-Mini/result/net-creation/310525-AMP-test-func/raw-network.net.xml\")"
   ]
  },
  {
   "cell_type": "code",
   "execution_count": 4,
   "metadata": {},
   "outputs": [
    {
     "data": {
      "text/plain": [
       "{'junctions': 210174,\n",
       " 'signal_junctions': 5960,\n",
       " 'edges': 207459,\n",
       " 'lanes': 220860,\n",
       " 'components': 1,\n",
       " 'coverage_area': 5672634211.624558,\n",
       " 'total_length': 22561016.289992847,\n",
       " 'max_vehicles': 1441101}"
      ]
     },
     "execution_count": 4,
     "metadata": {},
     "output_type": "execute_result"
    }
   ],
   "source": [
    "showNetworkStats(\"/home/hoai-linh.dao/Works/EVCS/CEREMA-Mini/result/net-creation/310525-AMP-test-func/connected-network.net.xml\")"
   ]
  },
  {
   "cell_type": "code",
   "execution_count": 9,
   "metadata": {},
   "outputs": [
    {
     "data": {
      "text/plain": [
       "{'junctions': 52566,\n",
       " 'signal_junctions': 4140,\n",
       " 'edges': 54052,\n",
       " 'lanes': 59717,\n",
       " 'components': 32,\n",
       " 'coverage_area': 605267123.4647912,\n",
       " 'total_length': 3948098.7900003153,\n",
       " 'max_vehicles': 261713}"
      ]
     },
     "execution_count": 9,
     "metadata": {},
     "output_type": "execute_result"
    }
   ],
   "source": [
    "showNetworkStats(\"/home/hoai-linh.dao/Works/EVCS/EV-Simulations/data/network/subnetworks/marseille/marseille.net.xml\")"
   ]
  },
  {
   "cell_type": "code",
   "execution_count": 16,
   "metadata": {},
   "outputs": [
    {
     "data": {
      "text/plain": [
       "{'junctions': 88201,\n",
       " 'signal_junctions': 1289,\n",
       " 'edges': 85754,\n",
       " 'lanes': 90234,\n",
       " 'components': 36,\n",
       " 'coverage_area': 2251870491.5886707,\n",
       " 'total_length': 10103177.139999533,\n",
       " 'max_vehicles': 637859}"
      ]
     },
     "execution_count": 16,
     "metadata": {},
     "output_type": "execute_result"
    }
   ],
   "source": [
    "showNetworkStats(\"/home/hoai-linh.dao/Works/EVCS/EV-Simulations/data/network/subnetworks/aix-en-provence/aix-en-provence.net.xml\")"
   ]
  },
  {
   "cell_type": "code",
   "execution_count": 20,
   "metadata": {},
   "outputs": [
    {
     "data": {
      "text/plain": [
       "{'junctions': 26690,\n",
       " 'signal_junctions': 194,\n",
       " 'edges': 25634,\n",
       " 'lanes': 27339,\n",
       " 'components': 31,\n",
       " 'coverage_area': 720070507.4619968,\n",
       " 'total_length': 3140246.750000113,\n",
       " 'max_vehicles': 200946}"
      ]
     },
     "execution_count": 20,
     "metadata": {},
     "output_type": "execute_result"
    }
   ],
   "source": [
    "showNetworkStats(\"/home/hoai-linh.dao/Works/EVCS/EV-Simulations/data/network/subnetworks/sud-est/sud-est.net.xml\")"
   ]
  },
  {
   "cell_type": "code",
   "execution_count": 27,
   "metadata": {},
   "outputs": [
    {
     "data": {
      "text/plain": [
       "{'junctions': 29902,\n",
       " 'signal_junctions': 176,\n",
       " 'edges': 28693,\n",
       " 'lanes': 30047,\n",
       " 'components': 18,\n",
       " 'coverage_area': 873237112.1091005,\n",
       " 'total_length': 3754593.5000000927,\n",
       " 'max_vehicles': 235906}"
      ]
     },
     "execution_count": 27,
     "metadata": {},
     "output_type": "execute_result"
    }
   ],
   "source": [
    "showNetworkStats(\"/home/hoai-linh.dao/Works/EVCS/EV-Simulations/data/network/subnetworks/nord-ouest/nord-ouest.net.xml\")"
   ]
  },
  {
   "cell_type": "code",
   "execution_count": 33,
   "metadata": {},
   "outputs": [
    {
     "data": {
      "text/plain": [
       "{'junctions': 51319,\n",
       " 'signal_junctions': 788,\n",
       " 'edges': 49576,\n",
       " 'lanes': 51980,\n",
       " 'components': 26,\n",
       " 'coverage_area': 881965864.6716439,\n",
       " 'total_length': 4410860.840000263,\n",
       " 'max_vehicles': 277484}"
      ]
     },
     "execution_count": 33,
     "metadata": {},
     "output_type": "execute_result"
    }
   ],
   "source": [
    "showNetworkStats(\"/home/hoai-linh.dao/Works/EVCS/EV-Simulations/data/network/subnetworks/est-etang-de-berre/est-etang-de-berre.net.xml\")"
   ]
  },
  {
   "cell_type": "code",
   "execution_count": 37,
   "metadata": {},
   "outputs": [
    {
     "data": {
      "text/plain": [
       "{'junctions': 33664,\n",
       " 'signal_junctions': 368,\n",
       " 'edges': 33124,\n",
       " 'lanes': 34437,\n",
       " 'components': 10,\n",
       " 'coverage_area': 1242034769.049748,\n",
       " 'total_length': 3480059.030000107,\n",
       " 'max_vehicles': 217080}"
      ]
     },
     "execution_count": 37,
     "metadata": {},
     "output_type": "execute_result"
    }
   ],
   "source": [
    "showNetworkStats(\"/home/hoai-linh.dao/Works/EVCS/EV-Simulations/data/network/subnetworks/ouest-etang-de-berre/ouest-etang-de-berre.net.xml\")"
   ]
  },
  {
   "cell_type": "markdown",
   "metadata": {},
   "source": [
    "# **TAZ**"
   ]
  },
  {
   "cell_type": "code",
   "execution_count": 2,
   "metadata": {},
   "outputs": [
    {
     "name": "stdout",
     "output_type": "stream",
     "text": [
      "[1] Reading bassins ...\n",
      "[3] Writing TAZ (spatial)…\n",
      "[DONE] (spatial) wrote /home/hoai-linh.dao/Works/EVCS/CEREMA-Mini/result/net-creation/310525-AMP-test-func/taz.xml\n"
     ]
    }
   ],
   "source": [
    "createTAZ(\n",
    "    grouped_poly_xml=\"/home/hoai-linh.dao/Works/EVCS/CEREMA-Mini/result/net-creation/310525-AMP-test-func/regions-based.poly.xml\",\n",
    "    net_xml=\"/home/hoai-linh.dao/Works/EVCS/CEREMA-Mini/result/net-creation/310525-AMP-test-func/connected-network.net.xml\",\n",
    "    taz_ids=TAZ_IDS,\n",
    "    taz_output_xml=\"/home/hoai-linh.dao/Works/EVCS/CEREMA-Mini/result/net-creation/310525-AMP-test-func/taz.xml\",\n",
    "    filter_mode=\"spatial\",\n",
    "    border_ratio=-1\n",
    ")"
   ]
  },
  {
   "cell_type": "code",
   "execution_count": null,
   "metadata": {},
   "outputs": [],
   "source": []
  }
 ],
 "metadata": {
  "kernelspec": {
   "display_name": "Python 3",
   "language": "python",
   "name": "python3"
  },
  "language_info": {
   "codemirror_mode": {
    "name": "ipython",
    "version": 3
   },
   "file_extension": ".py",
   "mimetype": "text/x-python",
   "name": "python",
   "nbconvert_exporter": "python",
   "pygments_lexer": "ipython3",
   "version": "3.10.16"
  }
 },
 "nbformat": 4,
 "nbformat_minor": 2
}
