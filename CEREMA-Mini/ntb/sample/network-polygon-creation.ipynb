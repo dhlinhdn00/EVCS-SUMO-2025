{
 "cells": [
  {
   "cell_type": "markdown",
   "metadata": {},
   "source": [
    "# **SETUP**"
   ]
  },
  {
   "cell_type": "code",
   "execution_count": 1,
   "metadata": {},
   "outputs": [],
   "source": [
    "import os\n",
    "import sys\n",
    "import xml.etree.ElementTree as ET\n",
    "from pathlib import Path\n",
    "sys.path.append('/home/hoai-linh.dao/Works/EVCS/CEREMA-Mini/src') \n",
    "from networkUtils import generateNetwork, mergeRegionsJSON, splitNetwork, showNetworkStats, makeNetworkConnected\n",
    "from TAZCreation import createTAZ\n",
    "from config import TAZ_IDS\n",
    "\n",
    "os.environ[\"SUMO_HOME\"] = os.path.expanduser(\"~/Envs/sumo-env/lib/python3.10/site-packages/sumo\")\n",
    "os.environ[\"LD_LIBRARY_PATH\"] = os.path.expanduser(\"~/Libs/libnsl\")"
   ]
  },
  {
   "cell_type": "code",
   "execution_count": 5,
   "metadata": {},
   "outputs": [],
   "source": [
    "FILE_NAME = \"310525-AMP-test-func\"\n",
    "NET_CREATION_FOLDER = Path(\"/home/hoai-linh.dao/Works/EVCS/CEREMA-Mini/result/net-creation\")\n",
    "BASE_FOLDER = NET_CREATION_FOLDER / FILE_NAME\n",
    "\n",
    "REGIONS_JSON = \"/home/hoai-linh.dao/Works/EVCS/CEREMA-Mini/data/processed-data/AMP-mapping.json\"\n",
    "IDS_JSON = \"/home/hoai-linh.dao/Works/EVCS/CEREMA-Mini/data/processed-data/AMP-TAZ-IDs.json\"\n",
    "COMMUNES_JSON = \"/home/hoai-linh.dao/Works/EVCS/CEREMA-Mini/data/processed-data/AMP-TAZ-Communes.json\"\n",
    "COLORS_JSON = \"/home/hoai-linh.dao/Works/EVCS/CEREMA-Mini/data/processed-data/AMP-TAZ-Colors.json\"\n",
    "\n",
    "\n",
    "SUB_FOLDER_NAME  = \"focus\"\n",
    "REGION_IDS       = [\"marseille\"]"
   ]
  },
  {
   "cell_type": "markdown",
   "metadata": {},
   "source": [
    "# **RUN**"
   ]
  },
  {
   "cell_type": "code",
   "execution_count": 3,
   "metadata": {},
   "outputs": [
    {
     "name": "stdout",
     "output_type": "stream",
     "text": [
      "Combined data saved to: /home/hoai-linh.dao/Works/EVCS/CEREMA-Mini/data/processed-data/AMP-mapping.json\n"
     ]
    }
   ],
   "source": [
    "mergeRegionsJSON(COMMUNES_JSON, IDS_JSON, COLORS_JSON, REGIONS_JSON)"
   ]
  },
  {
   "cell_type": "code",
   "execution_count": 4,
   "metadata": {},
   "outputs": [],
   "source": [
    "generateNetwork(BASE_FOLDER, REGIONS_JSON, 0.001)"
   ]
  },
  {
   "cell_type": "code",
   "execution_count": null,
   "metadata": {},
   "outputs": [
    {
     "name": "stdout",
     "output_type": "stream",
     "text": [
      "Found component with 207469 edges, written to /home/hoai-linh.dao/Works/EVCS/CEREMA-Mini/result/net-creation/310525-AMP-test-func/logs/keep-edges.txt\n",
      "Connected network written to: /home/hoai-linh.dao/Works/EVCS/CEREMA-Mini/result/net-creation/310525-AMP-test-func/connected-network.net.xml\n"
     ]
    },
    {
     "data": {
      "text/plain": [
       "PosixPath('/home/hoai-linh.dao/Works/EVCS/CEREMA-Mini/result/net-creation/310525-AMP-test-func/connected-network.net.xml')"
      ]
     },
     "execution_count": 6,
     "metadata": {},
     "output_type": "execute_result"
    }
   ],
   "source": [
    "makeNetworkConnected(BASE_FOLDER)"
   ]
  },
  {
   "cell_type": "code",
   "execution_count": 7,
   "metadata": {},
   "outputs": [
    {
     "name": "stdout",
     "output_type": "stream",
     "text": [
      "Sub‑network saved to: /home/hoai-linh.dao/Works/EVCS/CEREMA-Mini/result/net-creation/310525-AMP-test-func/subnetworks/focus/marseille.net.xml\n",
      "Filtered polygons  : /home/hoai-linh.dao/Works/EVCS/CEREMA-Mini/result/net-creation/310525-AMP-test-func/subnetworks/focus/marseille.poly.xml\n"
     ]
    }
   ],
   "source": [
    "splitNetwork(BASE_FOLDER, SUB_FOLDER_NAME, REGION_IDS)"
   ]
  },
  {
   "cell_type": "markdown",
   "metadata": {},
   "source": [
    "# Check"
   ]
  },
  {
   "cell_type": "code",
   "execution_count": 3,
   "metadata": {},
   "outputs": [
    {
     "data": {
      "text/plain": [
       "{'junctions': 211853,\n",
       " 'signal_junctions': 5971,\n",
       " 'edges': 209146,\n",
       " 'lanes': 222551,\n",
       " 'components': 218,\n",
       " 'coverage_area': 5813601867.370719,\n",
       " 'total_length': 22852663.7899924,\n",
       " 'max_vehicles': 1459042}"
      ]
     },
     "execution_count": 3,
     "metadata": {},
     "output_type": "execute_result"
    }
   ],
   "source": [
    "showNetworkStats(\"/home/hoai-linh.dao/Works/EVCS/CEREMA-Mini/result/net-creation/310525-AMP-test-func/raw-network.net.xml\")"
   ]
  },
  {
   "cell_type": "code",
   "execution_count": 4,
   "metadata": {},
   "outputs": [
    {
     "data": {
      "text/plain": [
       "{'junctions': 210174,\n",
       " 'signal_junctions': 5960,\n",
       " 'edges': 207459,\n",
       " 'lanes': 220860,\n",
       " 'components': 1,\n",
       " 'coverage_area': 5672634211.624558,\n",
       " 'total_length': 22561016.289992847,\n",
       " 'max_vehicles': 1441101}"
      ]
     },
     "execution_count": 4,
     "metadata": {},
     "output_type": "execute_result"
    }
   ],
   "source": [
    "showNetworkStats(\"/home/hoai-linh.dao/Works/EVCS/CEREMA-Mini/result/net-creation/310525-AMP-test-func/connected-network.net.xml\")"
   ]
  },
  {
   "cell_type": "code",
   "execution_count": 5,
   "metadata": {},
   "outputs": [
    {
     "data": {
      "text/plain": [
       "{'junctions': 52566,\n",
       " 'signal_junctions': 4140,\n",
       " 'edges': 54052,\n",
       " 'lanes': 59717,\n",
       " 'components': 32,\n",
       " 'coverage_area': 605267123.4647912,\n",
       " 'total_length': 3948098.7900003153,\n",
       " 'max_vehicles': 261713}"
      ]
     },
     "execution_count": 5,
     "metadata": {},
     "output_type": "execute_result"
    }
   ],
   "source": [
    "showNetworkStats(\"/home/hoai-linh.dao/Works/EVCS/CEREMA-Mini/result/net-creation/310525-AMP-test-func/subnetworks/focus/marseille.net.xml\")"
   ]
  },
  {
   "cell_type": "code",
   "execution_count": null,
   "metadata": {},
   "outputs": [],
   "source": []
  },
  {
   "cell_type": "code",
   "execution_count": 2,
   "metadata": {},
   "outputs": [
    {
     "name": "stdout",
     "output_type": "stream",
     "text": [
      "[1] Reading bassins ...\n",
      "[3] Writing TAZ (spatial)…\n",
      "[DONE] (spatial) wrote /home/hoai-linh.dao/Works/EVCS/CEREMA-Mini/result/net-creation/310525-AMP-test-func/taz.xml\n"
     ]
    }
   ],
   "source": [
    "createTAZ(\n",
    "    grouped_poly_xml=\"/home/hoai-linh.dao/Works/EVCS/CEREMA-Mini/result/net-creation/310525-AMP-test-func/regions-based.poly.xml\",\n",
    "    net_xml=\"/home/hoai-linh.dao/Works/EVCS/CEREMA-Mini/result/net-creation/310525-AMP-test-func/connected-network.net.xml\",\n",
    "    taz_ids=TAZ_IDS,\n",
    "    taz_output_xml=\"/home/hoai-linh.dao/Works/EVCS/CEREMA-Mini/result/net-creation/310525-AMP-test-func/taz.xml\",\n",
    "    filter_mode=\"spatial\",\n",
    "    border_ratio=-1\n",
    ")"
   ]
  },
  {
   "cell_type": "code",
   "execution_count": null,
   "metadata": {},
   "outputs": [],
   "source": []
  }
 ],
 "metadata": {
  "kernelspec": {
   "display_name": "Python 3",
   "language": "python",
   "name": "python3"
  },
  "language_info": {
   "codemirror_mode": {
    "name": "ipython",
    "version": 3
   },
   "file_extension": ".py",
   "mimetype": "text/x-python",
   "name": "python",
   "nbconvert_exporter": "python",
   "pygments_lexer": "ipython3",
   "version": "3.10.16"
  }
 },
 "nbformat": 4,
 "nbformat_minor": 2
}
