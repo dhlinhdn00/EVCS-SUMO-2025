{
 "cells": [
  {
   "cell_type": "markdown",
   "metadata": {},
   "source": [
    "# **SETUP**"
   ]
  },
  {
   "cell_type": "markdown",
   "metadata": {},
   "source": [
    "## Libs && Envs"
   ]
  },
  {
   "cell_type": "code",
   "execution_count": 3,
   "metadata": {},
   "outputs": [],
   "source": [
    "import os\n",
    "import glob\n",
    "from pathlib import Path\n",
    "import subprocess\n",
    "import sys\n",
    "import shutil\n",
    "\n",
    "import itertools\n",
    "import random\n",
    "import pandas as pd\n",
    "import math\n",
    "import csv\n",
    "import re\n",
    "from collections import OrderedDict, defaultdict\n",
    "from typing import List, Dict, Tuple\n",
    "from collections import Counter\n",
    "\n",
    "import traci\n",
    "import sumolib\n",
    "import xml.etree.ElementTree as ET\n",
    "from pyproj import Transformer, CRS\n",
    "import networkx as nx\n",
    "from shapely.geometry import Point, Polygon\n",
    "from shapely.ops import unary_union\n",
    "from shapely.errors import TopologicalError\n",
    "\n",
    "from helpers import *\n",
    "\n",
    "# export LD_LIBRARY_PATH=~/Libs/libnsl\n",
    "# export SUMO_HOME=~/Envs/sumo-env/lib/python3.10/site-packages/sumo\n",
    "os.environ[\"LD_LIBRARY_PATH\"] = os.path.expanduser(\"~/Libs/libnsl\")\n",
    "os.environ[\"SUMO_HOME\"] = os.path.expanduser(\"~/Envs/sumo-env/lib/python3.10/site-packages/sumo\")\n"
   ]
  },
  {
   "cell_type": "markdown",
   "metadata": {},
   "source": [
    "## Configs"
   ]
  },
  {
   "cell_type": "code",
   "execution_count": 4,
   "metadata": {},
   "outputs": [],
   "source": [
    "# Fixed PATHs\n",
    "NET_XML = Path(\"/home/hoai-linh.dao/Works/EVCS/CEREMA-Mini/data/newtest-osm.net.xml\")\n",
    "POLY_XML = \"/home/hoai-linh.dao/Works/EVCS/AMP-Metropole/Task-1-Completion/results/p0/newtest-poly/bassin-based.poly.xml\"\n",
    "ORIG_VTYPES_XML = \"/home/hoai-linh.dao/Works/EVCS/CEREMA-Mini/data/integrated-dist.add.xml\"\n",
    "GROUPED_POLY_XML = \"/home/hoai-linh.dao/Works/EVCS/CEREMA-Mini/data/group-based.poly.xml\"\n",
    "FLOW_CSV = \"/home/hoai-linh.dao/Works/EVCS/CEREMA-Mini/data/flow.csv\"\n",
    "MAIN_FLOW_CSV = \"/home/hoai-linh.dao/Works/EVCS/CEREMA-Mini/result/main-flow.csv\"\n",
    "\n",
    "SUMO_TOOLS_DIR = Path(\"/home/hoai-linh.dao/Envs/sumo-env/lib/python3.10/site-packages/sumo/tools\")\n",
    "REROUTING_PY = SUMO_TOOLS_DIR / \"generateContinuousRerouters.py\"\n",
    "NETCHECK_PY = SUMO_TOOLS_DIR / \"net/netcheck.py\"\n",
    "RANDOMTRIPS_PY = SUMO_TOOLS_DIR / \"randomTrips.py\"\n",
    "FINDALLROUTES_PY = SUMO_TOOLS_DIR / \"findAllRoutes.py\"\n",
    "PLOTXMLATTRIBUTES_PY = SUMO_TOOLS_DIR / \"visualization/plotXMLAttributes.py\"\n",
    "PLOTTRAJECTORIES_PY = SUMO_TOOLS_DIR / \"plot_trajectories.py\"\n",
    "PLOTNETDUMP_PY = SUMO_TOOLS_DIR / \"visualization/plot_net_dump.py\"\n",
    "PLOTNETSPEED_PY = SUMO_TOOLS_DIR / \"visualization/plot_net_speed.py\"\n",
    "PLOTNETTRAFFICLIGHTS_PY = SUMO_TOOLS_DIR / \"visualization/plot_net_trafficLights.py\"\n",
    "PLOTSUMMARY_PY = SUMO_TOOLS_DIR / \"visualization/plot_summary.py\"\n",
    "PLOTTRIPINFODISTRIBUTIONS_PY = SUMO_TOOLS_DIR / \"visualization/plot_tripinfo_distributions.py\"\n",
    "PLOTCSVTIMELINE_PY = SUMO_TOOLS_DIR / \"visualization/plot_csv_timeline.py\"\n",
    "PLOTCSVPIE_PY = SUMO_TOOLS_DIR / \"visualization/plot_csv_pie.py\"\n",
    "PLOTCSVBARS_PY = SUMO_TOOLS_DIR / \"visualization/plot_csv_bars.py\"\n",
    "MACROUTPUT_PY = SUMO_TOOLS_DIR / \"visualization/marcoOutput.py\"\n",
    "ROUTESTATS_PY = SUMO_TOOLS_DIR / \"route/routeStats.py\"\n",
    "ROUTECHECK_PY = SUMO_TOOLS_DIR / \"route/routecheck.py\"\n",
    "\n",
    "# Dynamic DIRs\n",
    "SIMULATION_DIR = Path(\"/home/hoai-linh.dao/Works/EVCS/CEREMA-Mini/result/experiments/simulation-10percent\")\n",
    "\n",
    "ODS_DIR = SIMULATION_DIR / \"ods\"\n",
    "TRIPS_DIR = SIMULATION_DIR / \"trips\"\n",
    "OUTPUTS_DIR = SIMULATION_DIR / \"outputs\"\n",
    "LOGS_DIR = SIMULATION_DIR / \"logs\"\n",
    "VISUALIZATIONS_DIR = SIMULATION_DIR / \"visualizations\"\n",
    "\n",
    "SIMULATION_DIR.mkdir(parents=True, exist_ok=True)\n",
    "for path in [ODS_DIR, TRIPS_DIR, OUTPUTS_DIR, LOGS_DIR, VISUALIZATIONS_DIR]:\n",
    "    path.mkdir(parents=True, exist_ok=True)\n",
    "\n",
    "# Dynamic PATHs\n",
    "TAZ_XML = SIMULATION_DIR / \"taz.add.xml\"\n",
    "VTYPES_DIST_XML = SIMULATION_DIR / \"vtypes-dist.add.xml\"\n",
    "ALL_TRIPS_XML = SIMULATION_DIR / \"trips.xml\"\n",
    "ROUTE_XML = SIMULATION_DIR / \"route.xml\"\n",
    "ROUTE_ALT_XML = SIMULATION_DIR / \"route.alt.xml\"\n",
    "REROUTER_XML = SIMULATION_DIR / \"rerouter.add.xml\"\n",
    "SUMOCFG_XML = SIMULATION_DIR / \"run.sumocfg\"\n",
    "\n",
    "DUAROUTER_LOG = LOGS_DIR / \"duarouter.log\"\n",
    "SIMULATION_LOG = LOGS_DIR / \"sumo_run.log\"\n",
    "REROUTING_LOG = LOGS_DIR / \"rerouting.log\"\n",
    "\n",
    "# Outputs Paths\n",
    "COLLISIONS_XML = OUTPUTS_DIR / \"collisions.xml\"\n",
    "BATTERY_XML = OUTPUTS_DIR / \"battery.xml\"\n",
    "LANECHANGES_XML = OUTPUTS_DIR / \"laneChanges.xml\"\n",
    "STATISTICS_XML = OUTPUTS_DIR / \"statistics.xml\"\n",
    "TRACE_XML = OUTPUTS_DIR / \"sumoTrace.xml\"\n",
    "SUMMARY_XML = OUTPUTS_DIR / \"summary.xml\"\n",
    "TRIPINFO_XML = OUTPUTS_DIR / \"tripinfo.xml\"\n",
    "VEHROUTES_XML = OUTPUTS_DIR / \"vehRoutes.xml\"\n",
    "NETSTATE_XML = OUTPUTS_DIR / \"netstate.xml\"\n",
    "LOG_TXT = OUTPUTS_DIR / \"log.txt\"\n",
    "\n",
    "# Visualization Paths\n",
    "PLOT_1_PNG = VISUALIZATIONS_DIR / \"plot_1.png\"\n",
    "PLOT_2_PNG = VISUALIZATIONS_DIR / \"plot_2.png\"\n",
    "\n",
    "# Net-Repairment Task\n",
    "NET_REPAIRMENT_DIR = Path(\"/home/hoai-linh.dao/Works/EVCS/CEREMA-Mini/result/net-repairment\")\n",
    "CLEANED_NET_XML_1 = NET_REPAIRMENT_DIR /  f\"cleaned_1_{NET_XML.name}\"\n",
    "CLEANED_NET_XML_2 = NET_REPAIRMENT_DIR /  f\"cleaned_2_{NET_XML.name}\"\n",
    "\n",
    "KEEP_EDGES_TXT_1 = NET_REPAIRMENT_DIR / \"keep-edges_1.txt\"\n",
    "KEEP_EDGES_TXT_2 = NET_REPAIRMENT_DIR / \"keep-edges_2.txt\"\n",
    "COMPONENTS_NW_TXT_1 = NET_REPAIRMENT_DIR / \"components_nw_1.txt\"\n",
    "COMPONENTS_NW_TXT_2 = NET_REPAIRMENT_DIR / \"components_nw_2.txt\"\n",
    "\n",
    "NET_REPAIRMENT_LOGS_DIR = NET_REPAIRMENT_DIR / \"logs\"\n",
    "NETCHECK_LOG_1 = NET_REPAIRMENT_LOGS_DIR / \"netcheck_1.log\"\n",
    "NETCHECK_LOG_2 = NET_REPAIRMENT_LOGS_DIR / \"netcheck_2.log\"\n",
    "NETCHECK_LOG_3 = NET_REPAIRMENT_LOGS_DIR / \"netcheck_3.log\"\n",
    "NETCONVERT_LOG_1 = NET_REPAIRMENT_LOGS_DIR / \"netconvert_1.log\"\n",
    "NETCONVERT_LOG_2 = NET_REPAIRMENT_LOGS_DIR / \"netconvert_2.log\"\n"
   ]
  },
  {
   "cell_type": "code",
   "execution_count": 5,
   "metadata": {},
   "outputs": [],
   "source": [
    "TAZ_IDS = {\n",
    "    'marseille': '1',\n",
    "    'aix-en-provence': '2',\n",
    "    'est-etang-de-berre': '3',\n",
    "    'nord-ouest': '4',\n",
    "    'ouest-etang-de-berre': '5',\n",
    "    'sud-est': '6',\n",
    "    'hors_amp': '99'\n",
    "}\n",
    "\n",
    "BORDER_RATIO = 0.40\n",
    "REAL_ORIGIN   = 'marseille'\n",
    "\n",
    "CAR_PREFIX = \"carDist\"              \n",
    "EV_BRANDS = [\"Renault\", \"Tesla\", \"Citroen\", \"Peugeot\", \"Dacia\", \"Volkswagen\", \"BMW\", \"Fiat\", \"KIA\"]\n",
    "\n",
    "EV_RATIO = 0.20\n",
    "\n",
    "DIST_ID = \"vehDist\"\n",
    "\n",
    "# Page 11\n",
    "INCOMING_RATIO = 178729/(178729 + 174729)\n",
    "OUTGOING_RATIO = 174729/(178729 + 174729)\n",
    "INCOMING_RATIO, OUTGOING_RATIO\n",
    "\n",
    "# Page 14 + Page 15\n",
    "TRIPS_RATIO_0 = 1 # default\n",
    "TRIPS_RATIO_1 = 0.40 # Marseille \n",
    "TRIPS_RATIO_2 = 0.41 # Marseille Bassin\n",
    "TRIPS_RATIO_3 = 0.52 # AMP Bassin = CEREMA\n",
    "TRIPS_RATIO_4 = 0.10 # test\n"
   ]
  },
  {
   "cell_type": "markdown",
   "metadata": {},
   "source": [
    "# **PREPARATION**"
   ]
  },
  {
   "cell_type": "markdown",
   "metadata": {},
   "source": [
    "## Processing Raw Flow"
   ]
  },
  {
   "cell_type": "code",
   "execution_count": null,
   "metadata": {},
   "outputs": [],
   "source": [
    "df = pd.read_csv(FLOW_CSV)\n",
    "\n",
    "columns_inter = ['Est_Etang-de-Berre','Aix-en-Provence','Sud-Est','Ouest_Etang-de-Berre','Nord-Ouest','Hors_AMP']\n",
    "df[\"Intra\"] = df[\"Total\"] - df[columns_inter].sum(axis=1)\n",
    "\n",
    "df.columns = [col.lower() for col in df.columns]\n",
    "\n",
    "df.to_csv(MAIN_FLOW_CSV, index=False)\n"
   ]
  },
  {
   "cell_type": "markdown",
   "metadata": {},
   "source": [
    "## Repairing Network"
   ]
  },
  {
   "cell_type": "code",
   "execution_count": null,
   "metadata": {},
   "outputs": [],
   "source": [
    "NETCHECK_CMD_1 = [\n",
    "    \"python\", NETCHECK_PY,\n",
    "    NET_XML,\n",
    "    \"--vclass\", \"passenger\",\n",
    "    \"--component-output\", COMPONENTS_NW_TXT_1\n",
    "]\n",
    "\n",
    "with open(NETCHECK_LOG_1, \"w\") as f:\n",
    "    print(f\"Running NETCHECK Step 1 ...\")\n",
    "    subprocess.run(NETCHECK_CMD_1, stdout=f, stderr=subprocess.STDOUT, check=True)\n",
    "    print(f\"[DONE] Components Ouput written to {COMPONENTS_NW_TXT_1}\\n[LOG] Output logged in {NETCHECK_LOG_1}\")\n",
    "\n",
    "print()\n",
    "print(f\"Running extractMaxComponent ...\")\n",
    "extractMaxComponent(COMPONENTS_NW_TXT_1, KEEP_EDGES_TXT_1)\n"
   ]
  },
  {
   "cell_type": "code",
   "execution_count": null,
   "metadata": {},
   "outputs": [],
   "source": [
    "NETCONVERT_CMD_1 = [\n",
    "    \"netconvert\",\n",
    "    \"--net-file\", NET_XML,\n",
    "    \"--keep-edges.input-file\", KEEP_EDGES_TXT_1,\n",
    "    \"--geometry.remove\",\n",
    "    \"--geometry.remove.min-length\", \"2\",\n",
    "    \"--geometry.max-segment-length\", \"20\",\n",
    "    \"--geometry.min-dist\", \"0.1\",\n",
    "    \"--geometry.max-angle\", \"150\",\n",
    "    \"--geometry.max-angle.fix\",\n",
    "    \"--remove-edges.isolated\",\n",
    "    \"--junctions.join\",\n",
    "    \"--junctions.join-dist\", \"60\",\n",
    "    \"--roundabouts.guess\",\n",
    "    \"--ramps.guess\",\n",
    "    \"--keep-edges.by-vclass=passenger\",\n",
    "    \"--osm.bike-access=false\",\n",
    "    \"--osm.sidewalks=false\",\n",
    "    \"--crossings.guess=false\",\n",
    "    \"--tls.guess\",\n",
    "    \"--tls.guess.threshold\", \"40\",\n",
    "    \"--tls.join\",\n",
    "    \"--tls.layout\", \"incoming\",\n",
    "    \"--tls.discard-loaded\",\n",
    "    \"--ptstop-output\", \"/dev/null\",\n",
    "    \"--ptline-output\", \"/dev/null\",\n",
    "    \"-o\", CLEANED_NET_XML_1\n",
    "]\n",
    "\n",
    "with open(NETCONVERT_LOG_1, \"w\") as f:\n",
    "    print(f\"Running NETCONVERT Step 1 ...\")\n",
    "    subprocess.run(NETCONVERT_CMD_1, stdout=f, stderr=subprocess.STDOUT, check=True)\n",
    "    print(f\"[DONE] Cleaned Network written to {CLEANED_NET_XML_1}\\n[LOG] Output logged in {NETCONVERT_LOG_1}\")\n"
   ]
  },
  {
   "cell_type": "code",
   "execution_count": null,
   "metadata": {},
   "outputs": [],
   "source": [
    "NETCHECK_CMD_2 = [\n",
    "    \"python\", NETCHECK_PY,\n",
    "    CLEANED_NET_XML_1,\n",
    "    \"--vclass\", \"passenger\",\n",
    "    \"--component-output\", COMPONENTS_NW_TXT_2,\n",
    "    \"-t\"\n",
    "]\n",
    "\n",
    "with open(NETCHECK_LOG_2, \"w\") as f:\n",
    "    print(f\"Running NETCHECK Step 2 ...\")\n",
    "    subprocess.run(NETCHECK_CMD_2, stdout=f, stderr=subprocess.STDOUT, check=True)\n",
    "    print(f\"[DONE] Output logged in {NETCHECK_LOG_2}\")\n",
    "\n",
    "print()\n",
    "print(f\"Running extractMaxComponent ...\")\n",
    "extractMaxComponent(COMPONENTS_NW_TXT_2, KEEP_EDGES_TXT_2)\n"
   ]
  },
  {
   "cell_type": "code",
   "execution_count": null,
   "metadata": {},
   "outputs": [],
   "source": [
    "NETCONVERT_CMD_2 = [\n",
    "    \"netconvert\",\n",
    "    \"--net-file\", CLEANED_NET_XML_1,\n",
    "    \"--keep-edges.input-file\", KEEP_EDGES_TXT_2,\n",
    "    \"-o\", CLEANED_NET_XML_2\n",
    "]\n",
    "\n",
    "with open(NETCONVERT_LOG_2, \"w\") as f:\n",
    "    print(f\"Running NETCONVERT Step 2 ...\")\n",
    "    subprocess.run(NETCONVERT_CMD_2, stdout=f, stderr=subprocess.STDOUT, check=True)\n",
    "    print(f\"[DONE] Cleaned Network written to {CLEANED_NET_XML_2}\\n[LOG] Output logged in {NETCONVERT_LOG_2}\")\n"
   ]
  },
  {
   "cell_type": "code",
   "execution_count": 8,
   "metadata": {},
   "outputs": [
    {
     "name": "stdout",
     "output_type": "stream",
     "text": [
      "Running NETCHECK Step 3 ...\n"
     ]
    },
    {
     "name": "stdout",
     "output_type": "stream",
     "text": [
      "[DONE] Output logged in /home/hoai-linh.dao/Works/EVCS/CEREMA-Mini/result/net-repairment/logs/netcheck_3.log\n"
     ]
    }
   ],
   "source": [
    "NETCHECK_CMD_3 = [\n",
    "    \"python\", NETCHECK_PY,\n",
    "    CLEANED_NET_XML_2,\n",
    "    \"--vclass\", \"passenger\",\n",
    "    \"-t\"\n",
    "\n",
    "]\n",
    "\n",
    "with open(NETCHECK_LOG_3, \"w\") as f:\n",
    "    print(f\"Running NETCHECK Step 3 ...\")\n",
    "    subprocess.run(NETCHECK_CMD_3, stdout=f, stderr=subprocess.STDOUT, check=True)\n",
    "    print(f\"[DONE] Output logged in {NETCHECK_LOG_3}\")\n"
   ]
  },
  {
   "cell_type": "code",
   "execution_count": 11,
   "metadata": {},
   "outputs": [
    {
     "name": "stdout",
     "output_type": "stream",
     "text": [
      "64502815#1  → 510193665: True\n",
      "510193665   → 64502815#1: False\n"
     ]
    }
   ],
   "source": [
    "net = sumolib.net.readNet(CLEANED_NET_XML_2)\n",
    "\n",
    "# Chiều A → B\n",
    "print(\"64502815#1  → 510193665:\",\n",
    "      net.getShortestPath(\n",
    "          net.getEdge('64502815#1'),\n",
    "          net.getEdge('510193665'))[0] is None)\n",
    "\n",
    "# Chiều ngược lại B → A\n",
    "print(\"510193665   → 64502815#1:\",\n",
    "      net.getShortestPath(\n",
    "          net.getEdge('510193665'),\n",
    "          net.getEdge('64502815#1'))[0] is None)\n"
   ]
  },
  {
   "cell_type": "markdown",
   "metadata": {},
   "source": [
    "## Checking Route"
   ]
  },
  {
   "cell_type": "code",
   "execution_count": null,
   "metadata": {},
   "outputs": [
    {
     "name": "stderr",
     "output_type": "stream",
     "text": [
      "Traceback (most recent call last):\n",
      "  File \"/home/hoai-linh.dao/Envs/sumo-env/lib/python3.10/site-packages/sumo/tools/route/routeStats.py\", line 158, in <module>\n",
      "    main()\n",
      "  File \"/home/hoai-linh.dao/Envs/sumo-env/lib/python3.10/site-packages/sumo/tools/route/routeStats.py\", line 127, in main\n",
      "    length = attribute_retriever(vehicle)\n",
      "  File \"/home/hoai-linh.dao/Envs/sumo-env/lib/python3.10/site-packages/sumo/tools/route/routeStats.py\", line 101, in attribute_retriever\n",
      "    return float(vehicle.routeLength)\n",
      "TypeError: float() argument must be a string or a real number, not 'NoneType'\n"
     ]
    },
    {
     "ename": "CalledProcessError",
     "evalue": "Command '['python', PosixPath('/home/hoai-linh.dao/Envs/sumo-env/lib/python3.10/site-packages/sumo/tools/route/routeStats.py'), PosixPath('/home/hoai-linh.dao/Works/EVCS/CEREMA-Mini/result/vtypes-simulation/route.alt.xml'), '-a', 'routeLength', '--binwidth', '500', '--hist-output', '/home/hoai-linh.dao/Works/EVCS/CEREMA-Mini/result/hist.dat']' returned non-zero exit status 1.",
     "output_type": "error",
     "traceback": [
      "\u001b[0;31m---------------------------------------------------------------------------\u001b[0m",
      "\u001b[0;31mCalledProcessError\u001b[0m                        Traceback (most recent call last)",
      "Cell \u001b[0;32mIn[10], line 9\u001b[0m\n\u001b[1;32m      1\u001b[0m ROUTESTATS_CMD \u001b[38;5;241m=\u001b[39m [\n\u001b[1;32m      2\u001b[0m     \u001b[38;5;124m\"\u001b[39m\u001b[38;5;124mpython\u001b[39m\u001b[38;5;124m\"\u001b[39m, ROUTESTATS_PY,\n\u001b[1;32m      3\u001b[0m     ROUTE_ALT_XML,\n\u001b[0;32m   (...)\u001b[0m\n\u001b[1;32m      7\u001b[0m     \u001b[38;5;124m\"\u001b[39m\u001b[38;5;124m--hist-output\u001b[39m\u001b[38;5;124m\"\u001b[39m, \u001b[38;5;124m\"\u001b[39m\u001b[38;5;124m/home/hoai-linh.dao/Works/EVCS/CEREMA-Mini/result/hist.dat\u001b[39m\u001b[38;5;124m\"\u001b[39m\n\u001b[1;32m      8\u001b[0m ]\n\u001b[0;32m----> 9\u001b[0m \u001b[43msubprocess\u001b[49m\u001b[38;5;241;43m.\u001b[39;49m\u001b[43mrun\u001b[49m\u001b[43m(\u001b[49m\u001b[43mROUTESTATS_CMD\u001b[49m\u001b[43m,\u001b[49m\u001b[43m \u001b[49m\u001b[43mcheck\u001b[49m\u001b[38;5;241;43m=\u001b[39;49m\u001b[38;5;28;43;01mTrue\u001b[39;49;00m\u001b[43m)\u001b[49m\n",
      "File \u001b[0;32m~/Envs/sumo-env/lib/python3.10/subprocess.py:526\u001b[0m, in \u001b[0;36mrun\u001b[0;34m(input, capture_output, timeout, check, *popenargs, **kwargs)\u001b[0m\n\u001b[1;32m    524\u001b[0m     retcode \u001b[38;5;241m=\u001b[39m process\u001b[38;5;241m.\u001b[39mpoll()\n\u001b[1;32m    525\u001b[0m     \u001b[38;5;28;01mif\u001b[39;00m check \u001b[38;5;129;01mand\u001b[39;00m retcode:\n\u001b[0;32m--> 526\u001b[0m         \u001b[38;5;28;01mraise\u001b[39;00m CalledProcessError(retcode, process\u001b[38;5;241m.\u001b[39margs,\n\u001b[1;32m    527\u001b[0m                                  output\u001b[38;5;241m=\u001b[39mstdout, stderr\u001b[38;5;241m=\u001b[39mstderr)\n\u001b[1;32m    528\u001b[0m \u001b[38;5;28;01mreturn\u001b[39;00m CompletedProcess(process\u001b[38;5;241m.\u001b[39margs, retcode, stdout, stderr)\n",
      "\u001b[0;31mCalledProcessError\u001b[0m: Command '['python', PosixPath('/home/hoai-linh.dao/Envs/sumo-env/lib/python3.10/site-packages/sumo/tools/route/routeStats.py'), PosixPath('/home/hoai-linh.dao/Works/EVCS/CEREMA-Mini/result/vtypes-simulation/route.alt.xml'), '-a', 'routeLength', '--binwidth', '500', '--hist-output', '/home/hoai-linh.dao/Works/EVCS/CEREMA-Mini/result/hist.dat']' returned non-zero exit status 1."
     ]
    }
   ],
   "source": [
    "ROUTESTATS_CMD = [\n",
    "    \"python\", ROUTESTATS_PY,\n",
    "    ROUTE_ALT_XML,\n",
    "    # \"-n\", CLEANED_NET_XML_2,\n",
    "    \"-a\", \"routeLength\",\n",
    "    \"--binwidth\", \"500\",\n",
    "    \"--hist-output\", \"/home/hoai-linh.dao/Works/EVCS/CEREMA-Mini/result/hist.dat\"\n",
    "]\n",
    "subprocess.run(ROUTESTATS_CMD, check=True)\n"
   ]
  },
  {
   "cell_type": "code",
   "execution_count": null,
   "metadata": {},
   "outputs": [],
   "source": []
  },
  {
   "cell_type": "markdown",
   "metadata": {},
   "source": [
    "# **MAIN**"
   ]
  },
  {
   "cell_type": "markdown",
   "metadata": {},
   "source": [
    "## Draft"
   ]
  },
  {
   "cell_type": "code",
   "execution_count": 7,
   "metadata": {},
   "outputs": [
    {
     "name": "stdout",
     "output_type": "stream",
     "text": [
      "[CHECK] BBs based on bassin:\n",
      "  Marseille: (681071.41, 4782435.09, 707896.24, 4809844.54)\n",
      "  Aix-En-Provence: (675875.66, 4806237.37, 726750.02, 4846094.13)\n",
      "  Est-Etang-de-Berre: (661512.74, 4799268.23, 692628.4, 4824635.74)\n",
      "  Nord-Ouest: (657332.98, 4821077.14, 684620.21, 4848686.82)\n",
      "  Ouest-Etang-de-Berre: (640339.8, 4798892.24, 671498.4, 4834166.7)\n",
      "  Sud-Est: (702844.16, 4781624.45, 724169.27, 4813232.06)\n"
     ]
    }
   ],
   "source": [
    "poly_tree = ET.parse(GROUPED_POLY_XML)\n",
    "poly_root = poly_tree.getroot()\n",
    "\n",
    "region_polys = defaultdict(list)\n",
    "for poly in poly_root.findall(\"poly\"):\n",
    "    region = poly.get(\"type\")\n",
    "    shape_str = poly.get(\"shape\")\n",
    "    if region and shape_str:\n",
    "        polygon = parseShape(shape_str)\n",
    "        if polygon is not None:\n",
    "            region_polys[region].append(polygon)\n",
    "\n",
    "region_geoms = {}\n",
    "for region, polys in region_polys.items():\n",
    "    if polys:\n",
    "        try:\n",
    "            region_geoms[region] = unary_union(polys)\n",
    "        except TopologicalError as e:\n",
    "            print(f\"[ERROR] Topology error in bassin {region}: {e}\")\n",
    "\n",
    "print(\"[CHECK] BBs based on bassin:\")\n",
    "for region, geom in region_geoms.items():\n",
    "    print(f\"  {region}: {geom.bounds}\")\n",
    "    "
   ]
  },
  {
   "cell_type": "code",
   "execution_count": 8,
   "metadata": {},
   "outputs": [],
   "source": [
    "net = sumolib.net.readNet(CLEANED_NET_XML_2)\n",
    "tree_net = ET.parse(CLEANED_NET_XML_2)\n",
    "root_net = tree_net.getroot()\n",
    "location_elem = root_net.find(\"location\")\n",
    "if location_elem is None or \"projParameter\" not in location_elem.attrib:\n",
    "    raise ValueError(\"Not found <location> or projParameter in net.xml\")\n",
    "proj_param = location_elem.attrib[\"projParameter\"]\n",
    "target_crs = CRS.from_proj4(proj_param)\n",
    "transformer = Transformer.from_crs(\"epsg:4326\", target_crs, always_xy=True)\n",
    "\n",
    "edges_by_region = defaultdict(list)\n",
    "edges_hors = []\n",
    "\n",
    "for edge in net.getEdges():\n",
    "    if edge.getID().endswith(\"-source\") or edge.getID().endswith(\"-sink\"):\n",
    "        continue\n",
    "    shape = edge.getShape()\n",
    "    if not shape:\n",
    "        continue\n",
    "    mid_pt = shape[len(shape)//2]\n",
    "    pt = Point(mid_pt[0], mid_pt[1])\n",
    "\n",
    "    assigned = False\n",
    "    for region, geom in region_geoms.items():\n",
    "        if geom.contains(pt):\n",
    "            edges_by_region[region].append(edge)\n",
    "            assigned = True\n",
    "            break\n",
    "\n",
    "    if not assigned:\n",
    "        edges_hors.append(edge)\n",
    "        \n",
    "edges_by_region['hors_amp'] = edges_hors\n"
   ]
  },
  {
   "cell_type": "code",
   "execution_count": null,
   "metadata": {},
   "outputs": [],
   "source": [
    "net = sumolib.net.readNet(CLEANED_NET_XML_2)\n",
    "\n",
    "def reachable(e_from, e_to):\n",
    "    \"\"\"True nếu có đường đi (theo passenger) từ e_from --> e_to\"\"\"\n",
    "    return net.getShortestPath(e_from, e_to)[0] is not None\n",
    "\n",
    "candidate_out  = defaultdict(list)\n",
    "candidate_in   = defaultdict(list)\n",
    "\n",
    "SAMPLE = 200\n",
    "\n",
    "for reg_from, edges_from in edges_by_region.items():\n",
    "    others = {r: es for r, es in edges_by_region.items() if r != reg_from}\n",
    "\n",
    "    for e in edges_from:\n",
    "        # --- OUT ---\n",
    "        ok_out = False\n",
    "        for reg_to, edges_to in others.items():\n",
    "            sample_to = random.sample(edges_to, min(SAMPLE, len(edges_to)))\n",
    "            if any(reachable(e, et) for et in sample_to):\n",
    "                ok_out = True\n",
    "                break\n",
    "        if ok_out:\n",
    "            candidate_out[reg_from].append(e)\n",
    "\n",
    "        # --- IN ---\n",
    "        ok_in = False\n",
    "        for reg_from2, edges_from2 in others.items():\n",
    "            sample_from2 = random.sample(edges_from2, min(SAMPLE, len(edges_from2)))\n",
    "            if any(reachable(ef2, e) for ef2 in sample_from2):\n",
    "                ok_in = True\n",
    "                break\n",
    "        if ok_in:\n",
    "            candidate_in[reg_from].append(e)\n",
    "\n",
    "root = ET.Element(\"tazs\")\n",
    "for region in edges_by_region:\n",
    "    rid = region.lower()\n",
    "    taz_id = TAZ_IDS.get(rid)\n",
    "    if not taz_id:\n",
    "        print(f\"[WARN] No TAZ id for {region}, skip\")\n",
    "        continue\n",
    "\n",
    "    geom = region_geoms.get(region)\n",
    "    cx, cy = (geom.centroid.x, geom.centroid.y) if geom else (0, 0)\n",
    "    taz = ET.SubElement(root, \"taz\", id=taz_id, x=f\"{cx:.2f}\", y=f\"{cy:.2f}\")\n",
    "\n",
    "    Nsrc = Nsink = 300\n",
    "    for e in random.sample(candidate_out[region],  min(Nsrc,  len(candidate_out[region]))):\n",
    "        ET.SubElement(taz, \"tazSource\", id=e.getID(), weight=\"1.0\")\n",
    "\n",
    "    for e in random.sample(candidate_in[region],   min(Nsink, len(candidate_in[region]))):\n",
    "        ET.SubElement(taz, \"tazSink\",   id=e.getID(), weight=\"1.0\")\n",
    "\n",
    "ET.ElementTree(root).write(TAZ_XML, encoding=\"utf-8\", xml_declaration=True)\n",
    "print(\">> TAZ written to\", TAZ_XML)"
   ]
  },
  {
   "cell_type": "code",
   "execution_count": null,
   "metadata": {},
   "outputs": [
    {
     "name": "stdout",
     "output_type": "stream",
     "text": [
      "Normal edges  : 165,808\n",
      "Internal edges: 0\n",
      "\n",
      "--- Direction statistics ---\n",
      "One-way edges : 34,316\n",
      "Two-way edges : 131,492\n",
      "Total checked : 165,808\n"
     ]
    }
   ],
   "source": [
    "#  Direction statistics\n",
    "net = sumolib.net.readNet(CLEANED_NET_XML_2)\n",
    "internal_edges = [e for e in net.getEdges() if e.getID().startswith(':')]\n",
    "normal_edges   = [e for e in net.getEdges(True)   # chỉ edge “thường”\n",
    "                  if not e.getID().startswith(':')]\n",
    "\n",
    "print(f\"Normal edges  : {len(normal_edges):,}\")\n",
    "print(f\"Internal edges: {len(internal_edges):,}\")\n",
    "\n",
    "\n",
    "counter = Counter()\n",
    "\n",
    "for e in normal_edges:\n",
    "    direction = \"one_way\"\n",
    "\n",
    "  \n",
    "    for rev in e.getToNode().getOutgoing():        \n",
    "        if rev.getToNode() is e.getFromNode():     \n",
    "            direction = \"two_way\"\n",
    "            break\n",
    "\n",
    "    counter[direction] += 1\n",
    "\n",
    "print(\"\\n--- Direction statistics ---\")\n",
    "print(f\"One-way edges : {counter['one_way']:,}\")\n",
    "print(f\"Two-way edges : {counter['two_way']:,}\")\n",
    "print(f\"Total checked : {counter['one_way'] + counter['two_way']:,}\")"
   ]
  },
  {
   "cell_type": "code",
   "execution_count": null,
   "metadata": {},
   "outputs": [],
   "source": []
  },
  {
   "cell_type": "code",
   "execution_count": null,
   "metadata": {},
   "outputs": [
    {
     "name": "stdout",
     "output_type": "stream",
     "text": [
      "[1] Reading basins …\n",
      "[2] Scanning network …\n",
      "[2a] Inner‑basin connectivity filter …\n",
      "  – Aix-En-Provence: removed 21 isolated edges\n",
      "  – Est-Etang-de-Berre: removed 11 isolated edges\n",
      "  – Marseille: removed 32 isolated edges\n",
      "  – Sud-Est: removed 10 isolated edges\n",
      "  – Ouest-Etang-de-Berre: removed 27 isolated edges\n",
      "  – hors_amp: removed 7 isolated edges\n",
      "[2b] Cross‑basin connectivity filter …\n"
     ]
    }
   ],
   "source": [
    "# New proposed TAZ creation way\n",
    "BORDER_RATIO          = 0.4  \n",
    "SAMPLE_INNER          = 40  \n",
    "SAMPLE_CROSS          = 40  \n",
    "def parseShape(shape_str: str):\n",
    "    try:\n",
    "        coords = [tuple(map(float, p.split(','))) for p in shape_str.strip().split()]\n",
    "    except ValueError:\n",
    "        return None\n",
    "    if len(coords) < 3:\n",
    "        return None\n",
    "    if coords[0] != coords[-1]:\n",
    "        coords.append(coords[0])\n",
    "    poly = Polygon(coords)\n",
    "    if not poly.is_valid:\n",
    "        poly = poly.buffer(0)\n",
    "    return poly if poly.is_valid else None\n",
    "\n",
    "\n",
    "def boundary_edges(edges, geom, ratio=0.1):\n",
    "    if geom is None:\n",
    "        return []\n",
    "    minx, miny, maxx, maxy = geom.bounds\n",
    "    th = min(maxx - minx, maxy - miny) * ratio\n",
    "    boundary = geom.boundary\n",
    "    return [e for e in edges if Point(e.getShape()[len(e.getShape())//2]).distance(boundary) < th]\n",
    "\n",
    "\n",
    "def has_reverse(edge):\n",
    "    fn, tn = edge.getFromNode(), edge.getToNode()\n",
    "    return any(o.getToNode() is fn for o in tn.getOutgoing())\n",
    "\n",
    "\n",
    "def is_valid_edge(edge):\n",
    "    return (not edge.getID().startswith('-')  # skip reverse direction\n",
    "            and not edge.getID().endswith(('-source', '-sink'))\n",
    "            and edge.getShape()\n",
    "            and has_reverse(edge))            # true two‑way road\n",
    "\n",
    "\n",
    "def reachable(edge_from, edge_to, net):\n",
    "    return net.getShortestPath(edge_from, edge_to)[0] is not None\n",
    "\n",
    "\n",
    "def filter_reachable(pool, net, sample=SAMPLE_INNER):\n",
    "    \"\"\"Keep edges that can reach **and** be reached from ≥1 peer in *pool*.\"\"\"\n",
    "    if len(pool) <= 1:\n",
    "        return pool\n",
    "    keep = []\n",
    "    for e in pool:\n",
    "        targets = random.sample([x for x in pool if x is not e], min(sample, len(pool)-1))\n",
    "        ok_out = any(reachable(e, t, net) for t in targets)\n",
    "        ok_in  = any(reachable(t, e, net) for t in targets)\n",
    "        if ok_out and ok_in:\n",
    "            keep.append(e)\n",
    "    return keep\n",
    "\n",
    "# STEP‑1  Build basin geometries\n",
    "print(\"[1] Reading basins …\")\n",
    "region_geoms = defaultdict(list)\n",
    "for p in ET.parse(GROUPED_POLY_XML).getroot().findall('poly'):\n",
    "    reg = p.get('type')\n",
    "    geom = parseShape(p.get('shape', ''))\n",
    "    if reg and geom:\n",
    "        region_geoms[reg].append(geom)\n",
    "for reg, polys in region_geoms.items():\n",
    "    region_geoms[reg] = unary_union(polys) if len(polys) > 1 else polys[0]\n",
    "\n",
    "# STEP‑2  Scan network & assign edges to basins\n",
    "print(\"[2] Scanning network …\")\n",
    "NET = sumolib.net.readNet(CLEANED_NET_XML_2)\n",
    "\n",
    "edges_by_region = defaultdict(list)\n",
    "outside = []\n",
    "\n",
    "for e in NET.getEdges():\n",
    "    if not is_valid_edge(e):\n",
    "        continue\n",
    "    mid = Point(e.getShape()[len(e.getShape())//2])\n",
    "    placed = False\n",
    "    for reg, geom in region_geoms.items():\n",
    "        if geom.contains(mid):\n",
    "            edges_by_region[reg].append(e)\n",
    "            placed = True\n",
    "            break\n",
    "    if not placed:\n",
    "        outside.append(e)\n",
    "\n",
    "edges_by_region['hors_amp'] = outside\n",
    "\n",
    "# ── Inner‑basin connectivity \n",
    "print(\"[2a] Inner‑basin connectivity filter …\")\n",
    "for reg, pool in list(edges_by_region.items()):\n",
    "    kept = filter_reachable(pool, NET, SAMPLE_INNER)\n",
    "    if len(kept) < len(pool):\n",
    "        print(f\"  – {reg}: removed {len(pool)-len(kept)} isolated edges\")\n",
    "    edges_by_region[reg] = kept\n",
    "\n",
    "# ── Cross‑basin connectivity \n",
    "print(\"[2b] Cross‑basin connectivity filter …\")\n",
    "for reg_from, pool_from in list(edges_by_region.items()):\n",
    "    others = [e for r, p in edges_by_region.items() if r != reg_from for e in p]\n",
    "    if not pool_from or not others:\n",
    "        continue\n",
    "    keep = []\n",
    "    for e in pool_from:\n",
    "        tgt_sample = random.sample(others, min(SAMPLE_CROSS, len(others)))\n",
    "        ok_out = any(reachable(e, t, NET) for t in tgt_sample)\n",
    "        ok_in  = any(reachable(t, e, NET) for t in tgt_sample)\n",
    "        if ok_out and ok_in:\n",
    "            keep.append(e)\n",
    "    removed = len(pool_from) - len(keep)\n",
    "    if removed:\n",
    "        print(f\"  – {reg_from}: removed {removed} edges not reachable cross‑basin\")\n",
    "    edges_by_region[reg_from] = keep\n",
    "\n",
    "# STEP‑3  Write TAZ\n",
    "print(\"[3] Writing TAZ …\")\n",
    "root = ET.Element('tazs')\n",
    "for reg, pool in edges_by_region.items():\n",
    "    if not pool:\n",
    "        continue\n",
    "    tid = TAZ_IDS.get(reg.lower())\n",
    "    if tid is None:\n",
    "        print(f\"  ! no TAZ id for basin {reg}; skip\")\n",
    "        continue\n",
    "    geom = region_geoms.get(reg)\n",
    "    B = boundary_edges(pool, geom)\n",
    "    I = [e for e in pool if e not in B]\n",
    "    nb = int(BORDER_RATIO*len(pool))\n",
    "    ni = len(pool)-nb\n",
    "    chosen = random.sample(B, min(nb, len(B))) + random.sample(I, min(ni, len(I)))\n",
    "\n",
    "    c = geom.centroid if geom else Point(0,0)\n",
    "    taz = ET.SubElement(root, 'taz', id=str(tid), x=f\"{c.x:.2f}\", y=f\"{c.y:.2f}\")\n",
    "    for e in sorted(chosen, key=lambda x:x.getID()):\n",
    "        ET.SubElement(taz,'tazSource', id=e.getID(), weight='1.0')\n",
    "        ET.SubElement(taz,'tazSink',   id=e.getID(), weight='1.0')\n",
    "\n",
    "ET.ElementTree(root).write(TAZ_XML, encoding='utf-8', xml_declaration=True)\n",
    "print(f\"[DONE] {TAZ_XML} ready.  Run od2trips & duarouter next.\")"
   ]
  },
  {
   "cell_type": "markdown",
   "metadata": {},
   "source": [
    "## CREATING TAZ"
   ]
  },
  {
   "cell_type": "code",
   "execution_count": 4,
   "metadata": {},
   "outputs": [
    {
     "name": "stdout",
     "output_type": "stream",
     "text": [
      "[CHECK] Bounding boxes (per basin):\n",
      "  Marseille: (681071.41, 4782435.09, 707896.24, 4809844.54)\n",
      "  Aix-En-Provence: (675875.66, 4806237.37, 726750.02, 4846094.13)\n",
      "  Est-Etang-de-Berre: (661512.74, 4799268.23, 692628.4, 4824635.74)\n",
      "  Nord-Ouest: (657332.98, 4821077.14, 684620.21, 4848686.82)\n",
      "  Ouest-Etang-de-Berre: (640339.8, 4798892.24, 671498.4, 4834166.7)\n",
      "  Sud-Est: (702844.16, 4781624.45, 724169.27, 4813232.06)\n"
     ]
    }
   ],
   "source": [
    "poly_tree = ET.parse(GROUPED_POLY_XML)\n",
    "poly_root = poly_tree.getroot()\n",
    "\n",
    "region_polys = defaultdict(list)\n",
    "for poly in poly_root.findall(\"poly\"):\n",
    "    region = poly.get(\"type\")\n",
    "    shape_str = poly.get(\"shape\")\n",
    "    if region and shape_str:\n",
    "        polygon = parseShape(shape_str)\n",
    "        if polygon is not None:\n",
    "            region_polys[region].append(polygon)\n",
    "\n",
    "region_geoms = {}\n",
    "for region, polys in region_polys.items():\n",
    "    if polys:\n",
    "        try:\n",
    "            region_geoms[region] = unary_union(polys)\n",
    "        except TopologicalError as e:\n",
    "            print(f\"[ERROR] Topology error in bassin {region}: {e}\")\n",
    "\n",
    "print(\"[CHECK] Bounding boxes (per basin):\")\n",
    "for region, geom in region_geoms.items():\n",
    "    print(f\"  {region}: {geom.bounds}\")\n"
   ]
  },
  {
   "cell_type": "code",
   "execution_count": 5,
   "metadata": {},
   "outputs": [],
   "source": [
    "net = sumolib.net.readNet(CLEANED_NET_XML_2)\n",
    "\n",
    "# store edges per basin; plus list for those outside any basin (\"hors_amp\")\n",
    "edges_by_region = defaultdict(list)\n",
    "edges_hors      = []\n",
    "\n",
    "for edge in net.getEdges():\n",
    "    # skip technical source/sink edges created by netconvert\n",
    "    if edge.getID().endswith(\"-source\") or edge.getID().endswith(\"-sink\"):\n",
    "        continue\n",
    "\n",
    "    shape = edge.getShape()\n",
    "    if not shape:\n",
    "        continue\n",
    "    mid_pt = shape[len(shape) // 2]\n",
    "    pt = Point(mid_pt[0], mid_pt[1])\n",
    "\n",
    "    assigned = False\n",
    "    for region, geom in region_geoms.items():\n",
    "        if geom.contains(pt):\n",
    "            edges_by_region[region].append(edge)\n",
    "            assigned = True\n",
    "            break\n",
    "    if not assigned:\n",
    "        edges_hors.append(edge)\n",
    "\n",
    "# add \"hors_amp\" (outside) group\n",
    "edges_by_region[\"hors_amp\"] = edges_hors"
   ]
  },
  {
   "cell_type": "code",
   "execution_count": 6,
   "metadata": {},
   "outputs": [
    {
     "name": "stdout",
     "output_type": "stream",
     "text": [
      "[CHECK] Basin Aix-En-Provence: total=40267 | B=16029 | I=24238 | selected=40190\n",
      "[CHECK] Basin Ouest-Etang-de-Berre: total=21546 | B=19557 | I=1989 | selected=10607\n",
      "[CHECK] Basin Est-Etang-de-Berre: total=23540 | B=8919 | I=14621 | selected=23043\n",
      "[CHECK] Basin Marseille: total=31481 | B=16169 | I=15312 | selected=27904\n",
      "[CHECK] Basin Sud-Est: total=16139 | B=7154 | I=8985 | selected=15440\n",
      "[CHECK] Basin Nord-Ouest: total=14904 | B=9852 | I=5052 | selected=11013\n",
      "[CHECK] Basin hors_amp: total=17931 | B=0 | I=17931 | selected=17931\n",
      "\n",
      "[DONE] TAZ file written to /home/hoai-linh.dao/Works/EVCS/CEREMA-Mini/result/experiments/simulation-10percent/taz.add.xml\n"
     ]
    }
   ],
   "source": [
    "taz_root = ET.Element(\"tazs\")\n",
    "\n",
    "for region, edges in edges_by_region.items():\n",
    "    rid    = region.lower()\n",
    "    taz_id = TAZ_IDS.get(rid)\n",
    "    if not taz_id:\n",
    "        print(f\"[ERROR] No TAZ ID for {region}, skip\")\n",
    "        continue\n",
    "\n",
    "    geom = region_geoms.get(region)\n",
    "    if geom is None:\n",
    "        B, I = [], edges[:]\n",
    "    else:\n",
    "        B = selectBoundaryEdges(edges, geom, threshold_ratio=0.1)\n",
    "        I = [e for e in edges if e not in B]\n",
    "\n",
    "    if region == \"hors_amp\":\n",
    "        conns = edges[:]\n",
    "    else:\n",
    "        total = len(B) + len(I)\n",
    "        nB    = int(BORDER_RATIO * total)\n",
    "        nI    = total - nB\n",
    "        conns = random.sample(B, min(nB, len(B))) + \\\n",
    "                random.sample(I, min(nI, len(I)))\n",
    "\n",
    "    print(f\"[CHECK] Basin {region}: total={len(edges)} | B={len(B)} | I={len(I)} | selected={len(conns)}\")\n",
    "\n",
    "    cent = geom.centroid if geom is not None else Point(0, 0)\n",
    "    taz  = ET.SubElement(taz_root, \"taz\", id=str(taz_id), x=f\"{cent.x:.2f}\", y=f\"{cent.y:.2f}\")\n",
    "    for e in sorted(conns, key=lambda _e: _e.getID()):\n",
    "        ET.SubElement(taz, \"tazSource\", id=e.getID(), weight=\"1.0\")\n",
    "        ET.SubElement(taz, \"tazSink\",   id=e.getID(), weight=\"1.0\")\n",
    "\n",
    "ET.ElementTree(taz_root).write(TAZ_XML, encoding=\"utf-8\", xml_declaration=True)\n",
    "print(f\"\\n[DONE] TAZ file written to {TAZ_XML}\")"
   ]
  },
  {
   "cell_type": "markdown",
   "metadata": {},
   "source": [
    "## Creating Ods"
   ]
  },
  {
   "cell_type": "code",
   "execution_count": 7,
   "metadata": {},
   "outputs": [
    {
     "name": "stdout",
     "output_type": "stream",
     "text": [
      "[DONE] OD matrix hour 4: /home/hoai-linh.dao/Works/EVCS/CEREMA-Mini/result/experiments/simulation-10percent/ods/od_matrix_04.txt (1688 bytes)\n",
      "[DONE] OD matrix hour 5: /home/hoai-linh.dao/Works/EVCS/CEREMA-Mini/result/experiments/simulation-10percent/ods/od_matrix_05.txt (1688 bytes)\n",
      "[DONE] OD matrix hour 6: /home/hoai-linh.dao/Works/EVCS/CEREMA-Mini/result/experiments/simulation-10percent/ods/od_matrix_06.txt (1688 bytes)\n",
      "[DONE] OD matrix hour 7: /home/hoai-linh.dao/Works/EVCS/CEREMA-Mini/result/experiments/simulation-10percent/ods/od_matrix_07.txt (1688 bytes)\n",
      "[DONE] OD matrix hour 8: /home/hoai-linh.dao/Works/EVCS/CEREMA-Mini/result/experiments/simulation-10percent/ods/od_matrix_08.txt (1688 bytes)\n",
      "[DONE] OD matrix hour 9: /home/hoai-linh.dao/Works/EVCS/CEREMA-Mini/result/experiments/simulation-10percent/ods/od_matrix_09.txt (1689 bytes)\n",
      "[DONE] OD matrix hour 10: /home/hoai-linh.dao/Works/EVCS/CEREMA-Mini/result/experiments/simulation-10percent/ods/od_matrix_10.txt (1690 bytes)\n",
      "[DONE] OD matrix hour 11: /home/hoai-linh.dao/Works/EVCS/CEREMA-Mini/result/experiments/simulation-10percent/ods/od_matrix_11.txt (1690 bytes)\n",
      "[DONE] OD matrix hour 12: /home/hoai-linh.dao/Works/EVCS/CEREMA-Mini/result/experiments/simulation-10percent/ods/od_matrix_12.txt (1690 bytes)\n",
      "[DONE] OD matrix hour 13: /home/hoai-linh.dao/Works/EVCS/CEREMA-Mini/result/experiments/simulation-10percent/ods/od_matrix_13.txt (1690 bytes)\n",
      "[DONE] OD matrix hour 14: /home/hoai-linh.dao/Works/EVCS/CEREMA-Mini/result/experiments/simulation-10percent/ods/od_matrix_14.txt (1690 bytes)\n",
      "[DONE] OD matrix hour 15: /home/hoai-linh.dao/Works/EVCS/CEREMA-Mini/result/experiments/simulation-10percent/ods/od_matrix_15.txt (1690 bytes)\n",
      "[DONE] OD matrix hour 16: /home/hoai-linh.dao/Works/EVCS/CEREMA-Mini/result/experiments/simulation-10percent/ods/od_matrix_16.txt (1690 bytes)\n",
      "[DONE] OD matrix hour 17: /home/hoai-linh.dao/Works/EVCS/CEREMA-Mini/result/experiments/simulation-10percent/ods/od_matrix_17.txt (1690 bytes)\n",
      "[DONE] OD matrix hour 18: /home/hoai-linh.dao/Works/EVCS/CEREMA-Mini/result/experiments/simulation-10percent/ods/od_matrix_18.txt (1690 bytes)\n",
      "[DONE] OD matrix hour 19: /home/hoai-linh.dao/Works/EVCS/CEREMA-Mini/result/experiments/simulation-10percent/ods/od_matrix_19.txt (1690 bytes)\n",
      "[DONE] OD matrix hour 20: /home/hoai-linh.dao/Works/EVCS/CEREMA-Mini/result/experiments/simulation-10percent/ods/od_matrix_20.txt (1690 bytes)\n",
      "[DONE] OD matrix hour 21: /home/hoai-linh.dao/Works/EVCS/CEREMA-Mini/result/experiments/simulation-10percent/ods/od_matrix_21.txt (1690 bytes)\n",
      "[DONE] OD matrix hour 22: /home/hoai-linh.dao/Works/EVCS/CEREMA-Mini/result/experiments/simulation-10percent/ods/od_matrix_22.txt (1690 bytes)\n",
      "[DONE] OD matrix hour 23: /home/hoai-linh.dao/Works/EVCS/CEREMA-Mini/result/experiments/simulation-10percent/ods/od_matrix_23.txt (1690 bytes)\n",
      "[DONE] OD matrix hour 0: /home/hoai-linh.dao/Works/EVCS/CEREMA-Mini/result/experiments/simulation-10percent/ods/od_matrix_00.txt (1688 bytes)\n",
      "[DONE] OD matrix hour 1: /home/hoai-linh.dao/Works/EVCS/CEREMA-Mini/result/experiments/simulation-10percent/ods/od_matrix_01.txt (1688 bytes)\n",
      "[DONE] OD matrix hour 2: /home/hoai-linh.dao/Works/EVCS/CEREMA-Mini/result/experiments/simulation-10percent/ods/od_matrix_02.txt (1688 bytes)\n",
      "[DONE] OD matrix hour 3: /home/hoai-linh.dao/Works/EVCS/CEREMA-Mini/result/experiments/simulation-10percent/ods/od_matrix_03.txt (1688 bytes)\n"
     ]
    }
   ],
   "source": [
    "matrix_files = generateOds(\n",
    "    MAIN_FLOW_CSV,\n",
    "    ODS_DIR,\n",
    "    TAZ_IDS,\n",
    "    real_origin=\"marseille\",\n",
    "    exclude_cols={\"total\",\"intra\"},\n",
    "    trips_ratio=TRIPS_RATIO_4,\n",
    "    scale_in=INCOMING_RATIO,\n",
    "    scale_out=OUTGOING_RATIO\n",
    ")\n",
    "\n",
    "\n",
    "for hour, path in matrix_files:\n",
    "    size = os.path.getsize(path)\n",
    "    print(f\"[DONE] OD matrix hour {hour}: {path} ({size} bytes)\")\n",
    "    "
   ]
  },
  {
   "cell_type": "markdown",
   "metadata": {},
   "source": [
    "## Creating Vtypes Distribution (Optional)"
   ]
  },
  {
   "cell_type": "code",
   "execution_count": 8,
   "metadata": {},
   "outputs": [
    {
     "name": "stdout",
     "output_type": "stream",
     "text": [
      "[DETECTED] There are 100 ICEs, 66 EVs\n",
      "[DONE] vType probabilities written to /home/hoai-linh.dao/Works/EVCS/CEREMA-Mini/result/experiments/simulation-10percent/vtypes-dist.add.xml\n"
     ]
    }
   ],
   "source": [
    "assignProbabilitiesToVtypes(\n",
    "    vtypes_xml=ORIG_VTYPES_XML,\n",
    "    dist_id=\"vehDist\",\n",
    "    ev_brands=EV_BRANDS,\n",
    "    ev_ratio=0.2,\n",
    "    output_xml=VTYPES_DIST_XML\n",
    ")\n"
   ]
  },
  {
   "cell_type": "markdown",
   "metadata": {},
   "source": [
    "## Creating Trips from Ods"
   ]
  },
  {
   "cell_type": "code",
   "execution_count": 9,
   "metadata": {},
   "outputs": [
    {
     "name": "stdout",
     "output_type": "stream",
     "text": [
      "Call od2trips for all ...\n",
      "Success.time 3598.85\n",
      "Generated /home/hoai-linh.dao/Works/EVCS/CEREMA-Mini/result/experiments/simulation-10percent/trips/trips_00.xml\n",
      "Success.time 7197.60\n",
      "Generated /home/hoai-linh.dao/Works/EVCS/CEREMA-Mini/result/experiments/simulation-10percent/trips/trips_01.xml\n",
      "Success.time 10794.00\n",
      "Generated /home/hoai-linh.dao/Works/EVCS/CEREMA-Mini/result/experiments/simulation-10percent/trips/trips_02.xml\n",
      "Success.time 14360.00\n",
      "Generated /home/hoai-linh.dao/Works/EVCS/CEREMA-Mini/result/experiments/simulation-10percent/trips/trips_03.xml\n",
      "Success.time 17979.78\n",
      "Generated /home/hoai-linh.dao/Works/EVCS/CEREMA-Mini/result/experiments/simulation-10percent/trips/trips_04.xml\n",
      "Success.time 21597.70\n",
      "Generated /home/hoai-linh.dao/Works/EVCS/CEREMA-Mini/result/experiments/simulation-10percent/trips/trips_05.xml\n",
      "Success.time 25199.25\n",
      "Generated /home/hoai-linh.dao/Works/EVCS/CEREMA-Mini/result/experiments/simulation-10percent/trips/trips_06.xml\n",
      "Success.time 28799.05\n",
      "Generated /home/hoai-linh.dao/Works/EVCS/CEREMA-Mini/result/experiments/simulation-10percent/trips/trips_07.xml\n",
      "Success.time 32399.40\n",
      "Generated /home/hoai-linh.dao/Works/EVCS/CEREMA-Mini/result/experiments/simulation-10percent/trips/trips_08.xml\n",
      "Success.time 35999.69\n",
      "Generated /home/hoai-linh.dao/Works/EVCS/CEREMA-Mini/result/experiments/simulation-10percent/trips/trips_09.xml\n",
      "Success.time 39599.38\n",
      "Generated /home/hoai-linh.dao/Works/EVCS/CEREMA-Mini/result/experiments/simulation-10percent/trips/trips_10.xml\n",
      "Success.time 43199.36\n",
      "Generated /home/hoai-linh.dao/Works/EVCS/CEREMA-Mini/result/experiments/simulation-10percent/trips/trips_11.xml\n",
      "Success.time 46799.26\n",
      "Generated /home/hoai-linh.dao/Works/EVCS/CEREMA-Mini/result/experiments/simulation-10percent/trips/trips_12.xml\n",
      "Success.time 50399.02\n",
      "Generated /home/hoai-linh.dao/Works/EVCS/CEREMA-Mini/result/experiments/simulation-10percent/trips/trips_13.xml\n",
      "Success.time 53999.88\n",
      "Generated /home/hoai-linh.dao/Works/EVCS/CEREMA-Mini/result/experiments/simulation-10percent/trips/trips_14.xml\n",
      "Success.time 57599.09\n",
      "Generated /home/hoai-linh.dao/Works/EVCS/CEREMA-Mini/result/experiments/simulation-10percent/trips/trips_15.xml\n",
      "Success.time 61199.22\n",
      "Generated /home/hoai-linh.dao/Works/EVCS/CEREMA-Mini/result/experiments/simulation-10percent/trips/trips_16.xml\n",
      "Success.time 64799.45\n",
      "Generated /home/hoai-linh.dao/Works/EVCS/CEREMA-Mini/result/experiments/simulation-10percent/trips/trips_17.xml\n",
      "Success.time 68399.63\n",
      "Generated /home/hoai-linh.dao/Works/EVCS/CEREMA-Mini/result/experiments/simulation-10percent/trips/trips_18.xml\n",
      "Success.time 71999.07\n",
      "Generated /home/hoai-linh.dao/Works/EVCS/CEREMA-Mini/result/experiments/simulation-10percent/trips/trips_19.xml\n",
      "Success.time 75599.84\n",
      "Generated /home/hoai-linh.dao/Works/EVCS/CEREMA-Mini/result/experiments/simulation-10percent/trips/trips_20.xml\n",
      "Success.time 79199.74\n",
      "Generated /home/hoai-linh.dao/Works/EVCS/CEREMA-Mini/result/experiments/simulation-10percent/trips/trips_21.xml\n",
      "Success.time 82798.55\n",
      "Generated /home/hoai-linh.dao/Works/EVCS/CEREMA-Mini/result/experiments/simulation-10percent/trips/trips_22.xml\n",
      "Success.time 86399.25\n",
      "Generated /home/hoai-linh.dao/Works/EVCS/CEREMA-Mini/result/experiments/simulation-10percent/trips/trips_23.xml\n",
      "\n",
      "[DONE] Finished 24 Trips based on hours.\n",
      "[DONE] Merged 24 trip files to /home/hoai-linh.dao/Works/EVCS/CEREMA-Mini/result/experiments/simulation-10percent/trips.xml\n"
     ]
    }
   ],
   "source": [
    "print(\"Call od2trips for all ...\")\n",
    "trips_files = od2tripsForAll(TAZ_XML, TRIPS_DIR, ODS_DIR, DIST_ID)\n",
    "print()\n",
    "print(\"[DONE] Finished 24 Trips based on hours.\")\n",
    "\n",
    "mergeTrips(TRIPS_DIR, ALL_TRIPS_XML)\n"
   ]
  },
  {
   "cell_type": "markdown",
   "metadata": {},
   "source": [
    "## Creating Route"
   ]
  },
  {
   "cell_type": "code",
   "execution_count": 5,
   "metadata": {},
   "outputs": [
    {
     "name": "stdout",
     "output_type": "stream",
     "text": [
      "Running DUAROUTER Step ...\n"
     ]
    },
    {
     "name": "stderr",
     "output_type": "stream",
     "text": [
      "Warning: No connection between edge '6309636#4' and edge '666070226#0' found.\n",
      "Warning: Mandatory edge '666070226#0' not reachable by vehicle 'h00_80'.\n",
      "Warning: The vehicle 'h00_80' has no valid route.\n"
     ]
    },
    {
     "name": "stdout",
     "output_type": "stream",
     "text": [
      "Reading up to time step: 401.15\r"
     ]
    },
    {
     "name": "stderr",
     "output_type": "stream",
     "text": [
      "Warning: No connection between edge '1367068984' and edge '24574855#0' found.\n",
      "Warning: Mandatory edge '24574855#0' not reachable by vehicle 'h00_132'.\n",
      "Warning: The vehicle 'h00_132' has no valid route.\n",
      "Warning: No connection between edge '125483123' and edge '888174858#0' found.\n",
      "Warning: Mandatory edge '888174858#0' not reachable by vehicle 'h00_259'.\n",
      "Warning: The vehicle 'h00_259' has no valid route.\n"
     ]
    },
    {
     "name": "stdout",
     "output_type": "stream",
     "text": [
      "Reading up to time step: 1401.15\r"
     ]
    },
    {
     "name": "stderr",
     "output_type": "stream",
     "text": [
      "Warning: No connection between edge '-112885009#0' and edge '-764049622' found.\n",
      "Warning: Mandatory edge '-764049622' not reachable by vehicle 'h00_527'.\n",
      "Warning: The vehicle 'h00_527' has no valid route.\n"
     ]
    },
    {
     "name": "stdout",
     "output_type": "stream",
     "text": [
      "Reading up to time step: 1601.15\r"
     ]
    },
    {
     "name": "stderr",
     "output_type": "stream",
     "text": [
      "Warning: No connection between edge '1367068984' and edge '-815663950#2' found.\n",
      "Warning: Mandatory edge '-815663950#2' not reachable by vehicle 'h00_614'.\n",
      "Warning: The vehicle 'h00_614' has no valid route.\n",
      "Warning: No connection between edge '-664422034#6' and edge '62023728#0' found.\n",
      "Warning: Mandatory edge '62023728#0' not reachable by vehicle 'h00_683'.\n",
      "Warning: The vehicle 'h00_683' has no valid route.\n"
     ]
    },
    {
     "name": "stdout",
     "output_type": "stream",
     "text": [
      "Reading up to time step: 1801.15\r"
     ]
    },
    {
     "name": "stderr",
     "output_type": "stream",
     "text": [
      "Warning: No connection between edge '844754897' and edge '-378355994#2' found.\n",
      "Warning: Mandatory edge '-378355994#2' not reachable by vehicle 'h00_708'.\n",
      "Warning: The vehicle 'h00_708' has no valid route.\n"
     ]
    },
    {
     "name": "stdout",
     "output_type": "stream",
     "text": [
      "Reading up to time step: 3201.15\r"
     ]
    },
    {
     "name": "stderr",
     "output_type": "stream",
     "text": [
      "Warning: No connection between edge '330773991' and edge '-367820007' found.\n",
      "Warning: Mandatory edge '-367820007' not reachable by vehicle 'h00_1344'.\n",
      "Warning: The vehicle 'h00_1344' has no valid route.\n"
     ]
    },
    {
     "name": "stdout",
     "output_type": "stream",
     "text": [
      "Reading up to time step: 4601.15\r"
     ]
    },
    {
     "name": "stderr",
     "output_type": "stream",
     "text": [
      "Warning: No connection between edge '1367068984' and edge '-53772411#1' found.\n",
      "Warning: Mandatory edge '-53772411#1' not reachable by vehicle 'h01_203'.\n",
      "Warning: The vehicle 'h01_203' has no valid route.\n"
     ]
    },
    {
     "name": "stdout",
     "output_type": "stream",
     "text": [
      "Reading up to time step: 4801.15\r"
     ]
    },
    {
     "name": "stderr",
     "output_type": "stream",
     "text": [
      "Warning: No connection between edge '688357782#0' and edge '49039544' found.\n",
      "Warning: Mandatory edge '49039544' not reachable by vehicle 'h01_217'.\n",
      "Warning: The vehicle 'h01_217' has no valid route.\n",
      "Warning: No connection between edge '468743929' and edge '156398858' found.\n",
      "Warning: Mandatory edge '156398858' not reachable by vehicle 'h01_398'.\n",
      "Warning: The vehicle 'h01_398' has no valid route.\n"
     ]
    },
    {
     "name": "stdout",
     "output_type": "stream",
     "text": [
      "Reading up to time step: 6001.15\r"
     ]
    },
    {
     "name": "stderr",
     "output_type": "stream",
     "text": [
      "Warning: No connection between edge '665644278' and edge '-167620038#0' found.\n",
      "Warning: Mandatory edge '-167620038#0' not reachable by vehicle 'h01_487'.\n",
      "Warning: The vehicle 'h01_487' has no valid route.\n"
     ]
    },
    {
     "name": "stdout",
     "output_type": "stream",
     "text": [
      "Reading up to time step: 6201.15\r"
     ]
    },
    {
     "name": "stderr",
     "output_type": "stream",
     "text": [
      "Warning: No connection between edge '-179310867' and edge '144160547' found.\n",
      "Warning: Mandatory edge '144160547' not reachable by vehicle 'h01_508'.\n",
      "Warning: The vehicle 'h01_508' has no valid route.\n",
      "Warning: No connection between edge '639411523#2' and edge '-62023740' found.\n",
      "Warning: Mandatory edge '-62023740' not reachable by vehicle 'h01_848'.\n",
      "Warning: The vehicle 'h01_848' has no valid route.\n",
      "Warning: No connection between edge '-793930821' and edge '36963822#0' found.\n",
      "Warning: Mandatory edge '36963822#0' not reachable by vehicle 'h01_677'.\n",
      "Warning: The vehicle 'h01_677' has no valid route.\n"
     ]
    },
    {
     "name": "stdout",
     "output_type": "stream",
     "text": [
      "Reading up to time step: 7001.15\r"
     ]
    },
    {
     "name": "stderr",
     "output_type": "stream",
     "text": [
      "Warning: No connection between edge '478673876' and edge '888174858#0' found.\n",
      "Warning: Mandatory edge '888174858#0' not reachable by vehicle 'h02_157'.\n",
      "Warning: The vehicle 'h02_157' has no valid route.\n"
     ]
    },
    {
     "name": "stdout",
     "output_type": "stream",
     "text": [
      "Reading up to time step: 9201.15\r"
     ]
    },
    {
     "name": "stderr",
     "output_type": "stream",
     "text": [
      "Warning: No connection between edge '66753922' and edge '4387061#0' found.\n",
      "Warning: Mandatory edge '4387061#0' not reachable by vehicle 'h05_57'.\n",
      "Warning: The vehicle 'h05_57' has no valid route.\n"
     ]
    },
    {
     "name": "stdout",
     "output_type": "stream",
     "text": [
      "Reading up to time step: 20001.15\r"
     ]
    },
    {
     "name": "stderr",
     "output_type": "stream",
     "text": [
      "Warning: No connection between edge '1019726514#0' and edge '386307421#1' found.\n",
      "Warning: Mandatory edge '386307421#1' not reachable by vehicle 'h05_424'.\n",
      "Warning: The vehicle 'h05_424' has no valid route.\n",
      "Warning: No connection between edge '1015407744' and edge '367820004' found.\n",
      "Warning: Mandatory edge '367820004' not reachable by vehicle 'h05_769'.\n",
      "Warning: The vehicle 'h05_769' has no valid route.\n"
     ]
    },
    {
     "name": "stdout",
     "output_type": "stream",
     "text": [
      "Reading up to time step: 21801.15\r"
     ]
    },
    {
     "name": "stderr",
     "output_type": "stream",
     "text": [
      "Warning: No connection between edge '427074655' and edge '510193650#6' found.\n",
      "Warning: Mandatory edge '510193650#6' not reachable by vehicle 'h06_2'.\n",
      "Warning: The vehicle 'h06_2' has no valid route.\n",
      "Warning: No connection between edge '793930821' and edge '-50832088#2' found.\n",
      "Warning: Mandatory edge '-50832088#2' not reachable by vehicle 'h06_154'.\n",
      "Warning: The vehicle 'h06_154' has no valid route.\n"
     ]
    },
    {
     "name": "stdout",
     "output_type": "stream",
     "text": [
      "Reading up to time step: 22201.15\r"
     ]
    },
    {
     "name": "stderr",
     "output_type": "stream",
     "text": [
      "Warning: No connection between edge '688357782#0' and edge '394992033' found.\n",
      "Warning: Mandatory edge '394992033' not reachable by vehicle 'h06_286'.\n",
      "Warning: The vehicle 'h06_286' has no valid route.\n",
      "Warning: No connection between edge '-71818786' and edge '510193669' found.\n",
      "Warning: Mandatory edge '510193669' not reachable by vehicle 'h06_364'.\n",
      "Warning: The vehicle 'h06_364' has no valid route.\n",
      "Warning: No connection between edge '-281308645' and edge '177112581' found.\n",
      "Warning: Mandatory edge '177112581' not reachable by vehicle 'h06_397'.\n",
      "Warning: The vehicle 'h06_397' has no valid route.\n",
      "Warning: No connection between edge '-39386402#1' and edge '188649571' found.\n",
      "Warning: Mandatory edge '188649571' not reachable by vehicle 'h06_402'.\n",
      "Warning: The vehicle 'h06_402' has no valid route.\n"
     ]
    },
    {
     "name": "stdout",
     "output_type": "stream",
     "text": [
      "Reading up to time step: 23001.15\r"
     ]
    },
    {
     "name": "stderr",
     "output_type": "stream",
     "text": [
      "Warning: No connection between edge '263220389#1' and edge '767313244' found.\n",
      "Warning: Mandatory edge '767313244' not reachable by vehicle 'h06_853'.\n",
      "Warning: The vehicle 'h06_853' has no valid route.\n",
      "Warning: No connection between edge '54357750#1' and edge '-112885002#1' found.\n",
      "Warning: Mandatory edge '-112885002#1' not reachable by vehicle 'h06_907'.\n",
      "Warning: The vehicle 'h06_907' has no valid route.\n",
      "Warning: No connection between edge '665644278' and edge '-43024168' found.\n",
      "Warning: Mandatory edge '-43024168' not reachable by vehicle 'h06_1455'.\n",
      "Warning: The vehicle 'h06_1455' has no valid route.\n"
     ]
    },
    {
     "name": "stdout",
     "output_type": "stream",
     "text": [
      "Reading up to time step: 24001.15\r"
     ]
    },
    {
     "name": "stderr",
     "output_type": "stream",
     "text": [
      "Warning: No connection between edge '232788067#2' and edge '-1364726890' found.\n",
      "Warning: Mandatory edge '-1364726890' not reachable by vehicle 'h06_1575'.\n",
      "Warning: The vehicle 'h06_1575' has no valid route.\n"
     ]
    },
    {
     "name": "stdout",
     "output_type": "stream",
     "text": [
      "Reading up to time step: 25401.15\r"
     ]
    },
    {
     "name": "stderr",
     "output_type": "stream",
     "text": [
      "Warning: No connection between edge '98338686' and edge '-214145734#0' found.\n",
      "Warning: Mandatory edge '-214145734#0' not reachable by vehicle 'h07_399'.\n",
      "Warning: The vehicle 'h07_399' has no valid route.\n",
      "Warning: No connection between edge '361589175#0' and edge '510193683' found.\n",
      "Warning: Mandatory edge '510193683' not reachable by vehicle 'h07_431'.\n",
      "Warning: The vehicle 'h07_431' has no valid route.\n",
      "Warning: No connection between edge '1308456867#0' and edge '436061029' found.\n",
      "Warning: Mandatory edge '436061029' not reachable by vehicle 'h07_913'.\n",
      "Warning: The vehicle 'h07_913' has no valid route.\n"
     ]
    },
    {
     "name": "stdout",
     "output_type": "stream",
     "text": [
      "Reading up to time step: 25801.15\r"
     ]
    },
    {
     "name": "stderr",
     "output_type": "stream",
     "text": [
      "Warning: No connection between edge '27773852#1' and edge '62023728#0' found.\n",
      "Warning: Mandatory edge '62023728#0' not reachable by vehicle 'h07_1133'.\n",
      "Warning: The vehicle 'h07_1133' has no valid route.\n",
      "Warning: No connection between edge '-88108771' and edge '446955265' found.\n",
      "Warning: Mandatory edge '446955265' not reachable by vehicle 'h07_1448'.\n",
      "Warning: The vehicle 'h07_1448' has no valid route.\n"
     ]
    },
    {
     "name": "stdout",
     "output_type": "stream",
     "text": [
      "Reading up to time step: 26001.15\r"
     ]
    },
    {
     "name": "stderr",
     "output_type": "stream",
     "text": [
      "Warning: No connection between edge '-49326511#0' and edge '112885002#0' found.\n",
      "Warning: Mandatory edge '112885002#0' not reachable by vehicle 'h07_1669'.\n",
      "Warning: The vehicle 'h07_1669' has no valid route.\n",
      "Warning: No connection between edge '-896969190#2' and edge '144160557#0' found.\n",
      "Warning: Mandatory edge '144160557#0' not reachable by vehicle 'h07_1763'.\n",
      "Warning: The vehicle 'h07_1763' has no valid route.\n",
      "Warning: No connection between edge '109075793#1' and edge '-143962123#2' found.\n",
      "Warning: Mandatory edge '-143962123#2' not reachable by vehicle 'h07_1780'.\n",
      "Warning: The vehicle 'h07_1780' has no valid route.\n",
      "Warning: No connection between edge '437987151#1' and edge '510193680' found.\n",
      "Warning: Mandatory edge '510193680' not reachable by vehicle 'h07_2133'.\n",
      "Warning: The vehicle 'h07_2133' has no valid route.\n",
      "Warning: No connection between edge '925261618' and edge '-115868175#0' found.\n",
      "Warning: Mandatory edge '-115868175#0' not reachable by vehicle 'h07_2140'.\n",
      "Warning: The vehicle 'h07_2140' has no valid route.\n"
     ]
    },
    {
     "name": "stdout",
     "output_type": "stream",
     "text": [
      "Reading up to time step: 26201.15\r"
     ]
    },
    {
     "name": "stderr",
     "output_type": "stream",
     "text": [
      "Warning: No connection between edge '173619118#1' and edge '143962123#2' found.\n",
      "Warning: Mandatory edge '143962123#2' not reachable by vehicle 'h07_2351'.\n",
      "Warning: The vehicle 'h07_2351' has no valid route.\n",
      "Warning: No connection between edge '-72065806#3' and edge '510193650#1' found.\n",
      "Warning: Mandatory edge '510193650#1' not reachable by vehicle 'h07_2775'.\n",
      "Warning: The vehicle 'h07_2775' has no valid route.\n"
     ]
    },
    {
     "name": "stdout",
     "output_type": "stream",
     "text": [
      "Reading up to time step: 26401.15\r"
     ]
    },
    {
     "name": "stderr",
     "output_type": "stream",
     "text": [
      "Warning: No connection between edge '4385014#0' and edge '144160547' found.\n",
      "Warning: Mandatory edge '144160547' not reachable by vehicle 'h07_2951'.\n",
      "Warning: The vehicle 'h07_2951' has no valid route.\n",
      "Warning: No connection between edge '-267388071' and edge '510193669' found.\n",
      "Warning: Mandatory edge '510193669' not reachable by vehicle 'h07_3082'.\n",
      "Warning: The vehicle 'h07_3082' has no valid route.\n"
     ]
    },
    {
     "name": "stdout",
     "output_type": "stream",
     "text": [
      "Reading up to time step: 26601.15\r"
     ]
    },
    {
     "name": "stderr",
     "output_type": "stream",
     "text": [
      "Warning: No connection between edge '436233257#1' and edge '-71896679' found.\n",
      "Warning: Mandatory edge '-71896679' not reachable by vehicle 'h07_10611'.\n",
      "Warning: The vehicle 'h07_10611' has no valid route.\n",
      "Warning: No connection between edge '-53788973#3' and edge '-30281188#2' found.\n",
      "Warning: Mandatory edge '-30281188#2' not reachable by vehicle 'h07_3539'.\n",
      "Warning: The vehicle 'h07_3539' has no valid route.\n",
      "Warning: No connection between edge '156398864' and edge '541530190#5' found.\n",
      "Warning: Mandatory edge '541530190#5' not reachable by vehicle 'h07_3558'.\n",
      "Warning: The vehicle 'h07_3558' has no valid route.\n"
     ]
    },
    {
     "name": "stdout",
     "output_type": "stream",
     "text": [
      "Reading up to time step: 26801.15\r"
     ]
    },
    {
     "name": "stderr",
     "output_type": "stream",
     "text": [
      "Warning: No connection between edge '70186692#1' and edge '-143962123#2' found.\n",
      "Warning: Mandatory edge '-143962123#2' not reachable by vehicle 'h07_3894'.\n",
      "Warning: The vehicle 'h07_3894' has no valid route.\n",
      "Warning: No connection between edge '-377991076#4' and edge '1060073977' found.\n",
      "Warning: Mandatory edge '1060073977' not reachable by vehicle 'h07_3899'.\n",
      "Warning: The vehicle 'h07_3899' has no valid route.\n",
      "Warning: No connection between edge '112797632' and edge '510193661' found.\n",
      "Warning: Mandatory edge '510193661' not reachable by vehicle 'h07_4261'.\n",
      "Warning: The vehicle 'h07_4261' has no valid route.\n"
     ]
    },
    {
     "name": "stdout",
     "output_type": "stream",
     "text": [
      "Reading up to time step: 27001.15\r"
     ]
    },
    {
     "name": "stderr",
     "output_type": "stream",
     "text": [
      "Warning: No connection between edge '-24256598#0' and edge '510193650#6' found.\n",
      "Warning: Mandatory edge '510193650#6' not reachable by vehicle 'h07_4867'.\n",
      "Warning: The vehicle 'h07_4867' has no valid route.\n"
     ]
    },
    {
     "name": "stdout",
     "output_type": "stream",
     "text": [
      "Reading up to time step: 27201.15\r"
     ]
    },
    {
     "name": "stderr",
     "output_type": "stream",
     "text": [
      "Warning: No connection between edge '-330629395' and edge '-367820004' found.\n",
      "Warning: Mandatory edge '-367820004' not reachable by vehicle 'h07_5486'.\n",
      "Warning: The vehicle 'h07_5486' has no valid route.\n"
     ]
    },
    {
     "name": "stdout",
     "output_type": "stream",
     "text": [
      "Reading up to time step: 27401.15\r"
     ]
    },
    {
     "name": "stderr",
     "output_type": "stream",
     "text": [
      "Warning: No connection between edge '925261625' and edge '300906546' found.\n",
      "Warning: Mandatory edge '300906546' not reachable by vehicle 'h07_9576'.\n",
      "Warning: The vehicle 'h07_9576' has no valid route.\n",
      "Warning: No connection between edge '827584041#0' and edge '510193661' found.\n",
      "Warning: Mandatory edge '510193661' not reachable by vehicle 'h07_5936'.\n",
      "Warning: The vehicle 'h07_5936' has no valid route.\n"
     ]
    },
    {
     "name": "stdout",
     "output_type": "stream",
     "text": [
      "Reading up to time step: 27601.15\r"
     ]
    },
    {
     "name": "stderr",
     "output_type": "stream",
     "text": [
      "Warning: No connection between edge '-115628964' and edge '62023730' found.\n",
      "Warning: Mandatory edge '62023730' not reachable by vehicle 'h07_5950'.\n",
      "Warning: The vehicle 'h07_5950' has no valid route.\n",
      "Warning: No connection between edge '493061137' and edge '54966073#7' found.\n",
      "Warning: Mandatory edge '54966073#7' not reachable by vehicle 'h07_6264'.\n",
      "Warning: The vehicle 'h07_6264' has no valid route.\n"
     ]
    },
    {
     "name": "stdout",
     "output_type": "stream",
     "text": [
      "Reading up to time step: 27801.15\r"
     ]
    },
    {
     "name": "stderr",
     "output_type": "stream",
     "text": [
      "Warning: No connection between edge '532753398#1' and edge '446955265' found.\n",
      "Warning: Mandatory edge '446955265' not reachable by vehicle 'h07_6683'.\n",
      "Warning: The vehicle 'h07_6683' has no valid route.\n"
     ]
    },
    {
     "name": "stdout",
     "output_type": "stream",
     "text": [
      "Reading up to time step: 28001.15\r"
     ]
    },
    {
     "name": "stderr",
     "output_type": "stream",
     "text": [
      "Warning: No connection between edge '162490016#0' and edge '143962123#2' found.\n",
      "Warning: Mandatory edge '143962123#2' not reachable by vehicle 'h07_6840'.\n",
      "Warning: The vehicle 'h07_6840' has no valid route.\n",
      "Warning: No connection between edge '-787508171#0' and edge '62023728#0' found.\n",
      "Warning: Mandatory edge '62023728#0' not reachable by vehicle 'h07_6888'.\n",
      "Warning: The vehicle 'h07_6888' has no valid route.\n",
      "Warning: No connection between edge '124060638#4' and edge '399059302' found.\n",
      "Warning: Mandatory edge '399059302' not reachable by vehicle 'h07_6917'.\n",
      "Warning: The vehicle 'h07_6917' has no valid route.\n",
      "Warning: No connection between edge '53190131#0' and edge '-383076320' found.\n",
      "Warning: Mandatory edge '-383076320' not reachable by vehicle 'h07_7122'.\n",
      "Warning: The vehicle 'h07_7122' has no valid route.\n",
      "Warning: No connection between edge '-144834991' and edge '367820004' found.\n",
      "Warning: Mandatory edge '367820004' not reachable by vehicle 'h07_7191'.\n",
      "Warning: The vehicle 'h07_7191' has no valid route.\n",
      "Warning: No connection between edge '558899339' and edge '-378355994#2' found.\n",
      "Warning: Mandatory edge '-378355994#2' not reachable by vehicle 'h07_7214'.\n",
      "Warning: The vehicle 'h07_7214' has no valid route.\n"
     ]
    },
    {
     "name": "stdout",
     "output_type": "stream",
     "text": [
      "Reading up to time step: 28201.15\r"
     ]
    },
    {
     "name": "stderr",
     "output_type": "stream",
     "text": [
      "Warning: No connection between edge '156398864' and edge '-172425357#1' found.\n",
      "Warning: Mandatory edge '-172425357#1' not reachable by vehicle 'h07_7623'.\n",
      "Warning: The vehicle 'h07_7623' has no valid route.\n",
      "Warning: No connection between edge '5051205#18' and edge '-383076320' found.\n",
      "Warning: Mandatory edge '-383076320' not reachable by vehicle 'h07_7705'.\n",
      "Warning: The vehicle 'h07_7705' has no valid route.\n",
      "Warning: No connection between edge '23358540' and edge '-366469489#3' found.\n",
      "Warning: Mandatory edge '-366469489#3' not reachable by vehicle 'h07_10697'.\n",
      "Warning: The vehicle 'h07_10697' has no valid route.\n",
      "Warning: No connection between edge '88760040#2' and edge '142428191' found.\n",
      "Warning: Mandatory edge '142428191' not reachable by vehicle 'h07_7891'.\n",
      "Warning: The vehicle 'h07_7891' has no valid route.\n"
     ]
    },
    {
     "name": "stdout",
     "output_type": "stream",
     "text": [
      "Reading up to time step: 28401.15\r"
     ]
    },
    {
     "name": "stderr",
     "output_type": "stream",
     "text": [
      "Warning: No connection between edge '30415961' and edge '82221879' found.\n",
      "Warning: Mandatory edge '82221879' not reachable by vehicle 'h07_10701'.\n",
      "Warning: The vehicle 'h07_10701' has no valid route.\n",
      "Warning: No connection between edge '793930821' and edge '28117730#0' found.\n",
      "Warning: Mandatory edge '28117730#0' not reachable by vehicle 'h07_8148'.\n",
      "Warning: The vehicle 'h07_8148' has no valid route.\n"
     ]
    },
    {
     "name": "stdout",
     "output_type": "stream",
     "text": [
      "Reading up to time step: 28601.15\r"
     ]
    },
    {
     "name": "stderr",
     "output_type": "stream",
     "text": [
      "Warning: No connection between edge '124060638#4' and edge '1170342072' found.\n",
      "Warning: Mandatory edge '1170342072' not reachable by vehicle 'h07_8700'.\n",
      "Warning: The vehicle 'h07_8700' has no valid route.\n",
      "Warning: No connection between edge '124060633#1' and edge '-383653934#7' found.\n",
      "Warning: Mandatory edge '-383653934#7' not reachable by vehicle 'h07_8774'.\n",
      "Warning: The vehicle 'h07_8774' has no valid route.\n",
      "Warning: No connection between edge '-973115726' and edge '378355993' found.\n",
      "Warning: Mandatory edge '378355993' not reachable by vehicle 'h07_8807'.\n",
      "Warning: The vehicle 'h07_8807' has no valid route.\n"
     ]
    },
    {
     "name": "stdout",
     "output_type": "stream",
     "text": [
      "Reading up to time step: 28801.15\r"
     ]
    },
    {
     "name": "stderr",
     "output_type": "stream",
     "text": [
      "Warning: No connection between edge '-112770049#19' and edge '1060073977' found.\n",
      "Warning: Mandatory edge '1060073977' not reachable by vehicle 'h07_9012'.\n",
      "Warning: The vehicle 'h07_9012' has no valid route.\n",
      "Warning: No connection between edge '98338686' and edge '-386307420' found.\n",
      "Warning: Mandatory edge '-386307420' not reachable by vehicle 'h07_9052'.\n",
      "Warning: The vehicle 'h07_9052' has no valid route.\n",
      "Warning: No connection between edge '25300429' and edge '53189097#1' found.\n",
      "Warning: Mandatory edge '53189097#1' not reachable by vehicle 'h07_10467'.\n",
      "Warning: The vehicle 'h07_10467' has no valid route.\n",
      "Warning: No connection between edge '-68733256#0' and edge '1367068983' found.\n",
      "Warning: Mandatory edge '1367068983' not reachable by vehicle 'h07_9095'.\n",
      "Warning: The vehicle 'h07_9095' has no valid route.\n",
      "Warning: No connection between edge '24258257' and edge '-383076320' found.\n",
      "Warning: Mandatory edge '-383076320' not reachable by vehicle 'h07_9296'.\n",
      "Warning: The vehicle 'h07_9296' has no valid route.\n",
      "Warning: No connection between edge '-115661486' and edge '-62023728#0' found.\n",
      "Warning: Mandatory edge '-62023728#0' not reachable by vehicle 'h07_9436'.\n",
      "Warning: The vehicle 'h07_9436' has no valid route.\n"
     ]
    },
    {
     "name": "stdout",
     "output_type": "stream",
     "text": [
      "Reading up to time step: 29001.15\r"
     ]
    },
    {
     "name": "stderr",
     "output_type": "stream",
     "text": [
      "Warning: No connection between edge '243567307' and edge '-63682575#1' found.\n",
      "Warning: Mandatory edge '-63682575#1' not reachable by vehicle 'h08_28708'.\n",
      "Warning: The vehicle 'h08_28708' has no valid route.\n",
      "Warning: No connection between edge '112885039' and edge '-181794400' found.\n",
      "Warning: Mandatory edge '-181794400' not reachable by vehicle 'h08_121'.\n",
      "Warning: The vehicle 'h08_121' has no valid route.\n",
      "Warning: No connection between edge '122372754' and edge '345325943#0' found.\n",
      "Warning: Mandatory edge '345325943#0' not reachable by vehicle 'h08_26849'.\n",
      "Warning: The vehicle 'h08_26849' has no valid route.\n",
      "Warning: No connection between edge '614946279#2' and edge '281308645' found.\n",
      "Warning: Mandatory edge '281308645' not reachable by vehicle 'h08_1154'.\n",
      "Warning: The vehicle 'h08_1154' has no valid route.\n",
      "Warning: No connection between edge '124060638#4' and edge '633387318' found.\n",
      "Warning: Mandatory edge '633387318' not reachable by vehicle 'h08_1322'.\n",
      "Warning: The vehicle 'h08_1322' has no valid route.\n",
      "Warning: No connection between edge '156398864' and edge '197847855#2' found.\n",
      "Warning: Mandatory edge '197847855#2' not reachable by vehicle 'h08_1327'.\n",
      "Warning: The vehicle 'h08_1327' has no valid route.\n"
     ]
    },
    {
     "name": "stdout",
     "output_type": "stream",
     "text": [
      "Reading up to time step: 29201.15\r"
     ]
    },
    {
     "name": "stderr",
     "output_type": "stream",
     "text": [
      "Warning: No connection between edge '27450143' and edge '-383076320' found.\n",
      "Warning: Mandatory edge '-383076320' not reachable by vehicle 'h08_1630'.\n",
      "Warning: The vehicle 'h08_1630' has no valid route.\n",
      "Warning: No connection between edge '71381681#0' and edge '386307421#1' found.\n",
      "Warning: Mandatory edge '386307421#1' not reachable by vehicle 'h08_1714'.\n",
      "Warning: The vehicle 'h08_1714' has no valid route.\n",
      "Warning: No connection between edge '74128330#1' and edge '142366414' found.\n",
      "Warning: Mandatory edge '142366414' not reachable by vehicle 'h08_2602'.\n",
      "Warning: The vehicle 'h08_2602' has no valid route.\n",
      "Warning: No connection between edge '688357782#0' and edge '53189097#1' found.\n",
      "Warning: Mandatory edge '53189097#1' not reachable by vehicle 'h08_2644'.\n",
      "Warning: The vehicle 'h08_2644' has no valid route.\n",
      "Warning: No connection between edge '172673987#4' and edge '281308645' found.\n",
      "Warning: Mandatory edge '281308645' not reachable by vehicle 'h08_2845'.\n",
      "Warning: The vehicle 'h08_2845' has no valid route.\n",
      "Warning: No connection between edge '122372754' and edge '-416153406#0' found.\n",
      "Warning: Mandatory edge '-416153406#0' not reachable by vehicle 'h08_2922'.\n",
      "Warning: The vehicle 'h08_2922' has no valid route.\n",
      "Warning: No connection between edge '6313369#1' and edge '112885002#1' found.\n",
      "Warning: Mandatory edge '112885002#1' not reachable by vehicle 'h08_3501'.\n",
      "Warning: The vehicle 'h08_3501' has no valid route.\n"
     ]
    },
    {
     "name": "stdout",
     "output_type": "stream",
     "text": [
      "Reading up to time step: 29401.15\r"
     ]
    },
    {
     "name": "stderr",
     "output_type": "stream",
     "text": [
      "Warning: No connection between edge '206493060#0' and edge '409031738' found.\n",
      "Warning: Mandatory edge '409031738' not reachable by vehicle 'h08_26919'.\n",
      "Warning: The vehicle 'h08_26919' has no valid route.\n",
      "Warning: No connection between edge '186821249#1' and edge '112885002#1' found.\n",
      "Warning: Mandatory edge '112885002#1' not reachable by vehicle 'h08_3917'.\n",
      "Warning: The vehicle 'h08_3917' has no valid route.\n",
      "Warning: No connection between edge '112885039' and edge '383616385#0' found.\n",
      "Warning: Mandatory edge '383616385#0' not reachable by vehicle 'h08_3935'.\n",
      "Warning: The vehicle 'h08_3935' has no valid route.\n",
      "Warning: No connection between edge '28117591#5' and edge '168570490#0' found.\n",
      "Warning: Mandatory edge '168570490#0' not reachable by vehicle 'h08_4173'.\n",
      "Warning: The vehicle 'h08_4173' has no valid route.\n",
      "Warning: No connection between edge '1238853951' and edge '4387061#0' found.\n",
      "Warning: Mandatory edge '4387061#0' not reachable by vehicle 'h08_4361'.\n",
      "Warning: The vehicle 'h08_4361' has no valid route.\n",
      "Warning: No connection between edge '-144633905#1' and edge '143962123#1' found.\n",
      "Warning: Mandatory edge '143962123#1' not reachable by vehicle 'h08_4945'.\n",
      "Warning: The vehicle 'h08_4945' has no valid route.\n"
     ]
    },
    {
     "name": "stdout",
     "output_type": "stream",
     "text": [
      "Reading up to time step: 29601.15\r"
     ]
    },
    {
     "name": "stderr",
     "output_type": "stream",
     "text": [
      "Warning: No connection between edge '27866264' and edge '510193650#6' found.\n",
      "Warning: Mandatory edge '510193650#6' not reachable by vehicle 'h08_5297'.\n",
      "Warning: The vehicle 'h08_5297' has no valid route.\n",
      "Warning: No connection between edge '50345198#1' and edge '493061137' found.\n",
      "Warning: Mandatory edge '493061137' not reachable by vehicle 'h08_5816'.\n",
      "Warning: The vehicle 'h08_5816' has no valid route.\n",
      "Warning: No connection between edge '28117250#1' and edge '156398858' found.\n",
      "Warning: Mandatory edge '156398858' not reachable by vehicle 'h08_5840'.\n",
      "Warning: The vehicle 'h08_5840' has no valid route.\n"
     ]
    },
    {
     "name": "stdout",
     "output_type": "stream",
     "text": [
      "Reading up to time step: 29801.15\r"
     ]
    },
    {
     "name": "stderr",
     "output_type": "stream",
     "text": [
      "Warning: No connection between edge '63951386#1' and edge '510193650#6' found.\n",
      "Warning: Mandatory edge '510193650#6' not reachable by vehicle 'h08_6009'.\n",
      "Warning: The vehicle 'h08_6009' has no valid route.\n",
      "Warning: No connection between edge '139964395#0' and edge '446955265' found.\n",
      "Warning: Mandatory edge '446955265' not reachable by vehicle 'h08_6208'.\n",
      "Warning: The vehicle 'h08_6208' has no valid route.\n",
      "Warning: No connection between edge '99096109' and edge '378355994#2' found.\n",
      "Warning: Mandatory edge '378355994#2' not reachable by vehicle 'h08_28852'.\n",
      "Warning: The vehicle 'h08_28852' has no valid route.\n",
      "Warning: No connection between edge '-793930821' and edge '72052747' found.\n",
      "Warning: Mandatory edge '72052747' not reachable by vehicle 'h08_7359'.\n",
      "Warning: The vehicle 'h08_7359' has no valid route.\n",
      "Warning: No connection between edge '-188367332#2' and edge '-143962120' found.\n",
      "Warning: Mandatory edge '-143962120' not reachable by vehicle 'h08_7455'.\n",
      "Warning: The vehicle 'h08_7455' has no valid route.\n"
     ]
    },
    {
     "name": "stdout",
     "output_type": "stream",
     "text": [
      "Reading up to time step: 30001.15\r"
     ]
    },
    {
     "name": "stderr",
     "output_type": "stream",
     "text": [
      "Warning: No connection between edge '1367068984' and edge '-72049676#5' found.\n",
      "Warning: Mandatory edge '-72049676#5' not reachable by vehicle 'h08_7487'.\n",
      "Warning: The vehicle 'h08_7487' has no valid route.\n",
      "Warning: No connection between edge '406234517#0' and edge '-159460088#0' found.\n",
      "Warning: Mandatory edge '-159460088#0' not reachable by vehicle 'h08_7510'.\n",
      "Warning: The vehicle 'h08_7510' has no valid route.\n",
      "Warning: No connection between edge '401513654' and edge '-143962123#1' found.\n",
      "Warning: Mandatory edge '-143962123#1' not reachable by vehicle 'h08_7654'.\n",
      "Warning: The vehicle 'h08_7654' has no valid route.\n",
      "Warning: No connection between edge '112885004#1' and edge '4387061#0' found.\n",
      "Warning: Mandatory edge '4387061#0' not reachable by vehicle 'h08_7737'.\n",
      "Warning: The vehicle 'h08_7737' has no valid route.\n",
      "Warning: No connection between edge '-310226655' and edge '-143962123#0' found.\n",
      "Warning: Mandatory edge '-143962123#0' not reachable by vehicle 'h08_8013'.\n",
      "Warning: The vehicle 'h08_8013' has no valid route.\n",
      "Warning: No connection between edge '537447815' and edge '1159203435#0' found.\n",
      "Warning: Mandatory edge '1159203435#0' not reachable by vehicle 'h08_8018'.\n",
      "Warning: The vehicle 'h08_8018' has no valid route.\n",
      "Warning: No connection between edge '310226655' and edge '510193650#1' found.\n",
      "Warning: Mandatory edge '510193650#1' not reachable by vehicle 'h08_8329'.\n",
      "Warning: The vehicle 'h08_8329' has no valid route.\n",
      "Warning: No connection between edge '156398864' and edge '-1075990660#1' found.\n",
      "Warning: Mandatory edge '-1075990660#1' not reachable by vehicle 'h08_8392'.\n",
      "Warning: The vehicle 'h08_8392' has no valid route.\n",
      "Warning: No connection between edge '-53334002' and edge '143962123#2' found.\n",
      "Warning: Mandatory edge '143962123#2' not reachable by vehicle 'h08_8635'.\n",
      "Warning: The vehicle 'h08_8635' has no valid route.\n",
      "Warning: No connection between edge '-793930821' and edge '114941432#3' found.\n",
      "Warning: Mandatory edge '114941432#3' not reachable by vehicle 'h08_8827'.\n",
      "Warning: The vehicle 'h08_8827' has no valid route.\n",
      "Warning: No connection between edge '-24447675#4' and edge '112885002#1' found.\n",
      "Warning: Mandatory edge '112885002#1' not reachable by vehicle 'h08_9059'.\n",
      "Warning: The vehicle 'h08_9059' has no valid route.\n"
     ]
    },
    {
     "name": "stdout",
     "output_type": "stream",
     "text": [
      "Reading up to time step: 30201.15\r"
     ]
    },
    {
     "name": "stderr",
     "output_type": "stream",
     "text": [
      "Warning: No connection between edge '-187716104#0' and edge '510193661' found.\n",
      "Warning: Mandatory edge '510193661' not reachable by vehicle 'h08_9316'.\n",
      "Warning: The vehicle 'h08_9316' has no valid route.\n",
      "Warning: No connection between edge '156398864' and edge '-263220379' found.\n",
      "Warning: Mandatory edge '-263220379' not reachable by vehicle 'h08_9874'.\n",
      "Warning: The vehicle 'h08_9874' has no valid route.\n",
      "Warning: No connection between edge '-174134833#0' and edge '510193665' found.\n",
      "Warning: Mandatory edge '510193665' not reachable by vehicle 'h08_9891'.\n",
      "Warning: The vehicle 'h08_9891' has no valid route.\n",
      "Warning: No connection between edge '945989609' and edge '510193635#1' found.\n",
      "Warning: Mandatory edge '510193635#1' not reachable by vehicle 'h08_10061'.\n",
      "Warning: The vehicle 'h08_10061' has no valid route.\n",
      "Warning: No connection between edge '25583193#4' and edge '62023730' found.\n",
      "Warning: Mandatory edge '62023730' not reachable by vehicle 'h08_28919'.\n",
      "Warning: The vehicle 'h08_28919' has no valid route.\n",
      "Warning: No connection between edge '391255626' and edge '666070226#0' found.\n",
      "Warning: Mandatory edge '666070226#0' not reachable by vehicle 'h08_10240'.\n",
      "Warning: The vehicle 'h08_10240' has no valid route.\n",
      "Warning: No connection between edge '108938544' and edge '-24257572' found.\n",
      "Warning: Mandatory edge '-24257572' not reachable by vehicle 'h08_10429'.\n",
      "Warning: The vehicle 'h08_10429' has no valid route.\n"
     ]
    },
    {
     "name": "stdout",
     "output_type": "stream",
     "text": [
      "Reading up to time step: 30401.15\r"
     ]
    },
    {
     "name": "stderr",
     "output_type": "stream",
     "text": [
      "Warning: No connection between edge '24256640' and edge '-144160557#0' found.\n",
      "Warning: Mandatory edge '-144160557#0' not reachable by vehicle 'h08_10487'.\n",
      "Warning: The vehicle 'h08_10487' has no valid route.\n",
      "Warning: No connection between edge '256646452' and edge '767313244' found.\n",
      "Warning: Mandatory edge '767313244' not reachable by vehicle 'h08_10769'.\n",
      "Warning: The vehicle 'h08_10769' has no valid route.\n",
      "Warning: No connection between edge '547697583#0' and edge '493061137' found.\n",
      "Warning: Mandatory edge '493061137' not reachable by vehicle 'h08_11395'.\n",
      "Warning: The vehicle 'h08_11395' has no valid route.\n",
      "Warning: No connection between edge '1356954327' and edge '313118336' found.\n",
      "Warning: Mandatory edge '313118336' not reachable by vehicle 'h08_11567'.\n",
      "Warning: The vehicle 'h08_11567' has no valid route.\n",
      "Warning: No connection between edge '451897976' and edge '142428191' found.\n",
      "Warning: Mandatory edge '142428191' not reachable by vehicle 'h08_11636'.\n",
      "Warning: The vehicle 'h08_11636' has no valid route.\n"
     ]
    },
    {
     "name": "stdout",
     "output_type": "stream",
     "text": [
      "Reading up to time step: 30601.15\r"
     ]
    },
    {
     "name": "stderr",
     "output_type": "stream",
     "text": [
      "Warning: No connection between edge '231391927#1' and edge '446955270' found.\n",
      "Warning: Mandatory edge '446955270' not reachable by vehicle 'h08_12240'.\n",
      "Warning: The vehicle 'h08_12240' has no valid route.\n",
      "Warning: No connection between edge '158999861' and edge '-1060073977' found.\n",
      "Warning: Mandatory edge '-1060073977' not reachable by vehicle 'h08_12319'.\n",
      "Warning: The vehicle 'h08_12319' has no valid route.\n",
      "Warning: No connection between edge '-24387017#5' and edge '-112885002#1' found.\n",
      "Warning: Mandatory edge '-112885002#1' not reachable by vehicle 'h08_12733'.\n",
      "Warning: The vehicle 'h08_12733' has no valid route.\n",
      "Warning: No connection between edge '206119202' and edge '-62023740' found.\n",
      "Warning: Mandatory edge '-62023740' not reachable by vehicle 'h08_12737'.\n",
      "Warning: The vehicle 'h08_12737' has no valid route.\n",
      "Warning: No connection between edge '53189857#2' and edge '510193665' found.\n",
      "Warning: Mandatory edge '510193665' not reachable by vehicle 'h08_13638'.\n",
      "Warning: The vehicle 'h08_13638' has no valid route.\n"
     ]
    },
    {
     "name": "stdout",
     "output_type": "stream",
     "text": [
      "Reading up to time step: 30801.15\r"
     ]
    },
    {
     "name": "stderr",
     "output_type": "stream",
     "text": [
      "Warning: No connection between edge '74128330#1' and edge '-1127346159#0' found.\n",
      "Warning: Mandatory edge '-1127346159#0' not reachable by vehicle 'h08_13768'.\n",
      "Warning: The vehicle 'h08_13768' has no valid route.\n",
      "Warning: No connection between edge '206119201' and edge '-143962120' found.\n",
      "Warning: Mandatory edge '-143962120' not reachable by vehicle 'h08_14723'.\n",
      "Warning: The vehicle 'h08_14723' has no valid route.\n",
      "Warning: No connection between edge '744562811#1' and edge '-143962123#1' found.\n",
      "Warning: Mandatory edge '-143962123#1' not reachable by vehicle 'h08_14923'.\n",
      "Warning: The vehicle 'h08_14923' has no valid route.\n"
     ]
    },
    {
     "name": "stdout",
     "output_type": "stream",
     "text": [
      "Reading up to time step: 31001.15\r"
     ]
    },
    {
     "name": "stderr",
     "output_type": "stream",
     "text": [
      "Warning: No connection between edge '626118647' and edge '510193674' found.\n",
      "Warning: Mandatory edge '510193674' not reachable by vehicle 'h08_15248'.\n",
      "Warning: The vehicle 'h08_15248' has no valid route.\n",
      "Warning: No connection between edge '793930821' and edge '41965498' found.\n",
      "Warning: Mandatory edge '41965498' not reachable by vehicle 'h08_15314'.\n",
      "Warning: The vehicle 'h08_15314' has no valid route.\n",
      "Warning: No connection between edge '188327430' and edge '-62023730' found.\n",
      "Warning: Mandatory edge '-62023730' not reachable by vehicle 'h08_15428'.\n",
      "Warning: The vehicle 'h08_15428' has no valid route.\n",
      "Warning: No connection between edge '28117591#5' and edge '-53209933' found.\n",
      "Warning: Mandatory edge '-53209933' not reachable by vehicle 'h08_15841'.\n",
      "Warning: The vehicle 'h08_15841' has no valid route.\n",
      "Warning: No connection between edge '98338686' and edge '785401744' found.\n",
      "Warning: Mandatory edge '785401744' not reachable by vehicle 'h08_28635'.\n",
      "Warning: The vehicle 'h08_28635' has no valid route.\n",
      "Warning: No connection between edge '543261597#2' and edge '367820007' found.\n",
      "Warning: Mandatory edge '367820007' not reachable by vehicle 'h08_16059'.\n",
      "Warning: The vehicle 'h08_16059' has no valid route.\n",
      "Warning: No connection between edge '377991082' and edge '367820007' found.\n",
      "Warning: Mandatory edge '367820007' not reachable by vehicle 'h08_16576'.\n",
      "Warning: The vehicle 'h08_16576' has no valid route.\n"
     ]
    },
    {
     "name": "stdout",
     "output_type": "stream",
     "text": [
      "Reading up to time step: 31201.15\r"
     ]
    },
    {
     "name": "stderr",
     "output_type": "stream",
     "text": [
      "Warning: No connection between edge '141180327' and edge '446955270' found.\n",
      "Warning: Mandatory edge '446955270' not reachable by vehicle 'h08_16845'.\n",
      "Warning: The vehicle 'h08_16845' has no valid route.\n",
      "Warning: No connection between edge '98338686' and edge '60181300' found.\n",
      "Warning: Mandatory edge '60181300' not reachable by vehicle 'h08_16896'.\n",
      "Warning: The vehicle 'h08_16896' has no valid route.\n",
      "Warning: No connection between edge '150283142' and edge '144160557#0' found.\n",
      "Warning: Mandatory edge '144160557#0' not reachable by vehicle 'h08_16973'.\n",
      "Warning: The vehicle 'h08_16973' has no valid route.\n",
      "Warning: No connection between edge '87615629#1' and edge '1367068983' found.\n",
      "Warning: Mandatory edge '1367068983' not reachable by vehicle 'h08_16976'.\n",
      "Warning: The vehicle 'h08_16976' has no valid route.\n",
      "Warning: No connection between edge '147917693#0' and edge '899788868' found.\n",
      "Warning: Mandatory edge '899788868' not reachable by vehicle 'h08_27665'.\n",
      "Warning: The vehicle 'h08_27665' has no valid route.\n",
      "Warning: No connection between edge '1332793122' and edge '445289546#2' found.\n",
      "Warning: Mandatory edge '445289546#2' not reachable by vehicle 'h08_17535'.\n",
      "Warning: The vehicle 'h08_17535' has no valid route.\n",
      "Warning: No connection between edge '378844044' and edge '-367820007' found.\n",
      "Warning: Mandatory edge '-367820007' not reachable by vehicle 'h08_17722'.\n",
      "Warning: The vehicle 'h08_17722' has no valid route.\n",
      "Warning: No connection between edge '-449869384#0' and edge '143962123#1' found.\n",
      "Warning: Mandatory edge '143962123#1' not reachable by vehicle 'h08_17756'.\n",
      "Warning: The vehicle 'h08_17756' has no valid route.\n",
      "Warning: No connection between edge '-161031265' and edge '-62023730' found.\n",
      "Warning: Mandatory edge '-62023730' not reachable by vehicle 'h08_18264'.\n",
      "Warning: The vehicle 'h08_18264' has no valid route.\n"
     ]
    },
    {
     "name": "stdout",
     "output_type": "stream",
     "text": [
      "Reading up to time step: 31401.15\r"
     ]
    },
    {
     "name": "stderr",
     "output_type": "stream",
     "text": [
      "Warning: No connection between edge '82286890' and edge '-65002071' found.\n",
      "Warning: Mandatory edge '-65002071' not reachable by vehicle 'h08_27980'.\n",
      "Warning: The vehicle 'h08_27980' has no valid route.\n",
      "Warning: No connection between edge '-890168655#1' and edge '510193650#3' found.\n",
      "Warning: Mandatory edge '510193650#3' not reachable by vehicle 'h08_19245'.\n",
      "Warning: The vehicle 'h08_19245' has no valid route.\n"
     ]
    },
    {
     "name": "stdout",
     "output_type": "stream",
     "text": [
      "Reading up to time step: 31601.15\r"
     ]
    },
    {
     "name": "stderr",
     "output_type": "stream",
     "text": [
      "Warning: No connection between edge '71817052#0' and edge '685812763' found.\n",
      "Warning: Mandatory edge '685812763' not reachable by vehicle 'h08_27245'.\n",
      "Warning: The vehicle 'h08_27245' has no valid route.\n",
      "Warning: No connection between edge '124060633#1' and edge '-232780417#1' found.\n",
      "Warning: Mandatory edge '-232780417#1' not reachable by vehicle 'h08_19800'.\n",
      "Warning: The vehicle 'h08_19800' has no valid route.\n",
      "Warning: No connection between edge '383653936' and edge '378355994#2' found.\n",
      "Warning: Mandatory edge '378355994#2' not reachable by vehicle 'h08_19902'.\n",
      "Warning: The vehicle 'h08_19902' has no valid route.\n",
      "Warning: No connection between edge '448167654' and edge '510193664' found.\n",
      "Warning: Mandatory edge '510193664' not reachable by vehicle 'h08_20215'.\n",
      "Warning: The vehicle 'h08_20215' has no valid route.\n",
      "Warning: No connection between edge '-1225393905' and edge '689636461' found.\n",
      "Warning: Mandatory edge '689636461' not reachable by vehicle 'h08_20328'.\n",
      "Warning: The vehicle 'h08_20328' has no valid route.\n",
      "Warning: No connection between edge '946972233' and edge '-51762086#1' found.\n",
      "Warning: Mandatory edge '-51762086#1' not reachable by vehicle 'h08_29135'.\n",
      "Warning: The vehicle 'h08_29135' has no valid route.\n"
     ]
    },
    {
     "name": "stdout",
     "output_type": "stream",
     "text": [
      "Reading up to time step: 31801.15\r"
     ]
    },
    {
     "name": "stderr",
     "output_type": "stream",
     "text": [
      "Warning: No connection between edge '297990567' and edge '62023728#1' found.\n",
      "Warning: Mandatory edge '62023728#1' not reachable by vehicle 'h08_20966'.\n",
      "Warning: The vehicle 'h08_20966' has no valid route.\n",
      "Warning: No connection between edge '-112885009#0' and edge '171514120#1' found.\n",
      "Warning: Mandatory edge '171514120#1' not reachable by vehicle 'h08_21064'.\n",
      "Warning: The vehicle 'h08_21064' has no valid route.\n",
      "Warning: No connection between edge '188492355#4' and edge '142428191' found.\n",
      "Warning: Mandatory edge '142428191' not reachable by vehicle 'h08_21119'.\n",
      "Warning: The vehicle 'h08_21119' has no valid route.\n",
      "Warning: No connection between edge '46999158#2' and edge '510193669' found.\n",
      "Warning: Mandatory edge '510193669' not reachable by vehicle 'h08_21133'.\n",
      "Warning: The vehicle 'h08_21133' has no valid route.\n",
      "Warning: No connection between edge '-141480117' and edge '383076320' found.\n",
      "Warning: Mandatory edge '383076320' not reachable by vehicle 'h08_21348'.\n",
      "Warning: The vehicle 'h08_21348' has no valid route.\n",
      "Warning: No connection between edge '-688357782#0' and edge '149866809#2' found.\n",
      "Warning: Mandatory edge '149866809#2' not reachable by vehicle 'h08_21425'.\n",
      "Warning: The vehicle 'h08_21425' has no valid route.\n",
      "Warning: No connection between edge '124060633#1' and edge '110777340' found.\n",
      "Warning: Mandatory edge '110777340' not reachable by vehicle 'h08_21760'.\n",
      "Warning: The vehicle 'h08_21760' has no valid route.\n",
      "Warning: No connection between edge '53256140' and edge '510193650#5' found.\n",
      "Warning: Mandatory edge '510193650#5' not reachable by vehicle 'h08_21859'.\n",
      "Warning: The vehicle 'h08_21859' has no valid route.\n",
      "Warning: No connection between edge '-688357782#1' and edge '167794839' found.\n",
      "Warning: Mandatory edge '167794839' not reachable by vehicle 'h08_21991'.\n",
      "Warning: The vehicle 'h08_21991' has no valid route.\n",
      "Warning: No connection between edge '3625545#1' and edge '510193650#5' found.\n",
      "Warning: Mandatory edge '510193650#5' not reachable by vehicle 'h08_22181'.\n",
      "Warning: The vehicle 'h08_22181' has no valid route.\n",
      "Warning: No connection between edge '48803228#0' and edge '98338695' found.\n",
      "Warning: Mandatory edge '98338695' not reachable by vehicle 'h08_22186'.\n",
      "Warning: The vehicle 'h08_22186' has no valid route.\n"
     ]
    },
    {
     "name": "stdout",
     "output_type": "stream",
     "text": [
      "Reading up to time step: 32001.15\r"
     ]
    },
    {
     "name": "stderr",
     "output_type": "stream",
     "text": [
      "Warning: No connection between edge '925261618' and edge '-165370085' found.\n",
      "Warning: Mandatory edge '-165370085' not reachable by vehicle 'h08_22423'.\n",
      "Warning: The vehicle 'h08_22423' has no valid route.\n",
      "Warning: No connection between edge '605692955' and edge '143962123#2' found.\n",
      "Warning: Mandatory edge '143962123#2' not reachable by vehicle 'h08_22438'.\n",
      "Warning: The vehicle 'h08_22438' has no valid route.\n",
      "Warning: No connection between edge '124060638#6' and edge '-705434106#1' found.\n",
      "Warning: Mandatory edge '-705434106#1' not reachable by vehicle 'h08_22454'.\n",
      "Warning: The vehicle 'h08_22454' has no valid route.\n",
      "Warning: No connection between edge '688357782#0' and edge '-138601276#2' found.\n",
      "Warning: Mandatory edge '-138601276#2' not reachable by vehicle 'h08_22556'.\n",
      "Warning: The vehicle 'h08_22556' has no valid route.\n",
      "Warning: No connection between edge '6309997' and edge '62023740' found.\n",
      "Warning: Mandatory edge '62023740' not reachable by vehicle 'h08_22727'.\n",
      "Warning: The vehicle 'h08_22727' has no valid route.\n",
      "Warning: No connection between edge '72347780' and edge '-378355994#2' found.\n",
      "Warning: Mandatory edge '-378355994#2' not reachable by vehicle 'h08_23010'.\n",
      "Warning: The vehicle 'h08_23010' has no valid route.\n",
      "Warning: No connection between edge '362656068' and edge '510193650#5' found.\n",
      "Warning: Mandatory edge '510193650#5' not reachable by vehicle 'h08_23089'.\n",
      "Warning: The vehicle 'h08_23089' has no valid route.\n",
      "Warning: No connection between edge '-383616391#0' and edge '6312388#0' found.\n",
      "Warning: Mandatory edge '6312388#0' not reachable by vehicle 'h08_23494'.\n",
      "Warning: The vehicle 'h08_23494' has no valid route.\n",
      "Warning: No connection between edge '161561766#1' and edge '666070226#0' found.\n",
      "Warning: Mandatory edge '666070226#0' not reachable by vehicle 'h08_23863'.\n",
      "Warning: The vehicle 'h08_23863' has no valid route.\n",
      "Warning: No connection between edge '878692764' and edge '-112885002#0' found.\n",
      "Warning: Mandatory edge '-112885002#0' not reachable by vehicle 'h08_24418'.\n",
      "Warning: The vehicle 'h08_24418' has no valid route.\n"
     ]
    },
    {
     "name": "stdout",
     "output_type": "stream",
     "text": [
      "Reading up to time step: 32201.15\r"
     ]
    },
    {
     "name": "stderr",
     "output_type": "stream",
     "text": [
      "Warning: No connection between edge '27866055#0' and edge '144160557#2' found.\n",
      "Warning: Mandatory edge '144160557#2' not reachable by vehicle 'h08_24505'.\n",
      "Warning: The vehicle 'h08_24505' has no valid route.\n",
      "Warning: No connection between edge '466901909' and edge '-112885002#1' found.\n",
      "Warning: Mandatory edge '-112885002#1' not reachable by vehicle 'h08_24530'.\n",
      "Warning: The vehicle 'h08_24530' has no valid route.\n",
      "Warning: No connection between edge '1054390531' and edge '98338695' found.\n",
      "Warning: Mandatory edge '98338695' not reachable by vehicle 'h08_24565'.\n",
      "Warning: The vehicle 'h08_24565' has no valid route.\n",
      "Warning: No connection between edge '28462118#1' and edge '144160557#2' found.\n",
      "Warning: Mandatory edge '144160557#2' not reachable by vehicle 'h08_24611'.\n",
      "Warning: The vehicle 'h08_24611' has no valid route.\n",
      "Warning: No connection between edge '685066219' and edge '62023728#1' found.\n",
      "Warning: Mandatory edge '62023728#1' not reachable by vehicle 'h08_24750'.\n",
      "Warning: The vehicle 'h08_24750' has no valid route.\n",
      "Warning: No connection between edge '124060633#1' and edge '-82285287#2' found.\n",
      "Warning: Mandatory edge '-82285287#2' not reachable by vehicle 'h08_24868'.\n",
      "Warning: The vehicle 'h08_24868' has no valid route.\n",
      "Warning: No connection between edge '446955267' and edge '6312938#9' found.\n",
      "Warning: Mandatory edge '6312938#9' not reachable by vehicle 'h08_25288'.\n",
      "Warning: The vehicle 'h08_25288' has no valid route.\n"
     ]
    },
    {
     "name": "stdout",
     "output_type": "stream",
     "text": [
      "Reading up to time step: 32401.15\r"
     ]
    },
    {
     "name": "stderr",
     "output_type": "stream",
     "text": [
      "Warning: No connection between edge '150925676' and edge '-208078071' found.\n",
      "Warning: Mandatory edge '-208078071' not reachable by vehicle 'h08_25620'.\n",
      "Warning: The vehicle 'h08_25620' has no valid route.\n",
      "Warning: No connection between edge '360505413' and edge '687915886' found.\n",
      "Warning: Mandatory edge '687915886' not reachable by vehicle 'h08_29690'.\n",
      "Warning: The vehicle 'h08_29690' has no valid route.\n",
      "Warning: No connection between edge '606078294#1' and edge '510193635#1' found.\n",
      "Warning: Mandatory edge '510193635#1' not reachable by vehicle 'h08_29693'.\n",
      "Warning: The vehicle 'h08_29693' has no valid route.\n",
      "Warning: No connection between edge '-53189096' and edge '144160557#0' found.\n",
      "Warning: Mandatory edge '144160557#0' not reachable by vehicle 'h08_26059'.\n",
      "Warning: The vehicle 'h08_26059' has no valid route.\n",
      "Warning: No connection between edge '-620942874#1' and edge '6312388#0' found.\n",
      "Warning: Mandatory edge '6312388#0' not reachable by vehicle 'h08_26076'.\n",
      "Warning: The vehicle 'h08_26076' has no valid route.\n",
      "Warning: No connection between edge '-35156124#1' and edge '510193650#3' found.\n",
      "Warning: Mandatory edge '510193650#3' not reachable by vehicle 'h08_26143'.\n",
      "Warning: The vehicle 'h08_26143' has no valid route.\n",
      "Warning: No connection between edge '150925674' and edge '-1212350181' found.\n",
      "Warning: Mandatory edge '-1212350181' not reachable by vehicle 'h08_26639'.\n",
      "Warning: The vehicle 'h08_26639' has no valid route.\n",
      "Warning: No connection between edge '-47072531#0' and edge '-378355994#2' found.\n",
      "Warning: Mandatory edge '-378355994#2' not reachable by vehicle 'h08_26662'.\n",
      "Warning: The vehicle 'h08_26662' has no valid route.\n",
      "Warning: No connection between edge '-254672800' and edge '783551598' found.\n",
      "Warning: Mandatory edge '783551598' not reachable by vehicle 'h08_26792'.\n",
      "Warning: The vehicle 'h08_26792' has no valid route.\n",
      "Warning: No connection between edge '1340030511#1' and edge '510193664' found.\n",
      "Warning: Mandatory edge '510193664' not reachable by vehicle 'h09_37'.\n",
      "Warning: The vehicle 'h09_37' has no valid route.\n"
     ]
    },
    {
     "name": "stdout",
     "output_type": "stream",
     "text": [
      "Reading up to time step: 32601.15\r"
     ]
    },
    {
     "name": "stderr",
     "output_type": "stream",
     "text": [
      "Warning: No connection between edge '232788067#2' and edge '208067691#1' found.\n",
      "Warning: Mandatory edge '208067691#1' not reachable by vehicle 'h09_204'.\n",
      "Warning: The vehicle 'h09_204' has no valid route.\n",
      "Warning: No connection between edge '-281308645' and edge '-166701896#0' found.\n",
      "Warning: Mandatory edge '-166701896#0' not reachable by vehicle 'h09_602'.\n",
      "Warning: The vehicle 'h09_602' has no valid route.\n",
      "Warning: No connection between edge '-88119465' and edge '889503609' found.\n",
      "Warning: Mandatory edge '889503609' not reachable by vehicle 'h09_722'.\n",
      "Warning: The vehicle 'h09_722' has no valid route.\n",
      "Warning: No connection between edge '120926553#3' and edge '510193650#2' found.\n",
      "Warning: Mandatory edge '510193650#2' not reachable by vehicle 'h09_743'.\n",
      "Warning: The vehicle 'h09_743' has no valid route.\n",
      "Warning: No connection between edge '176545256#0' and edge '-62023730' found.\n",
      "Warning: Mandatory edge '-62023730' not reachable by vehicle 'h09_1236'.\n",
      "Warning: The vehicle 'h09_1236' has no valid route.\n"
     ]
    },
    {
     "name": "stdout",
     "output_type": "stream",
     "text": [
      "Reading up to time step: 32801.15\r"
     ]
    },
    {
     "name": "stderr",
     "output_type": "stream",
     "text": [
      "Warning: No connection between edge '150925676' and edge '115628895#0' found.\n",
      "Warning: Mandatory edge '115628895#0' not reachable by vehicle 'h09_1539'.\n",
      "Warning: The vehicle 'h09_1539' has no valid route.\n",
      "Warning: No connection between edge '182670546#0' and edge '-383076320' found.\n",
      "Warning: Mandatory edge '-383076320' not reachable by vehicle 'h09_1713'.\n",
      "Warning: The vehicle 'h09_1713' has no valid route.\n",
      "Warning: No connection between edge '780562172' and edge '161387537#0' found.\n",
      "Warning: Mandatory edge '161387537#0' not reachable by vehicle 'h09_1726'.\n",
      "Warning: The vehicle 'h09_1726' has no valid route.\n",
      "Warning: No connection between edge '-384188930#1' and edge '62023740' found.\n",
      "Warning: Mandatory edge '62023740' not reachable by vehicle 'h09_1937'.\n",
      "Warning: The vehicle 'h09_1937' has no valid route.\n"
     ]
    },
    {
     "name": "stdout",
     "output_type": "stream",
     "text": [
      "Reading up to time step: 33001.15\r"
     ]
    },
    {
     "name": "stderr",
     "output_type": "stream",
     "text": [
      "Warning: No connection between edge '124839920#0' and edge '-143962123#0' found.\n",
      "Warning: Mandatory edge '-143962123#0' not reachable by vehicle 'h09_2494'.\n",
      "Warning: The vehicle 'h09_2494' has no valid route.\n",
      "Warning: No connection between edge '6311582#0' and edge '-367820007' found.\n",
      "Warning: Mandatory edge '-367820007' not reachable by vehicle 'h09_2643'.\n",
      "Warning: The vehicle 'h09_2643' has no valid route.\n",
      "Warning: No connection between edge '-793930821' and edge '945989601#3' found.\n",
      "Warning: Mandatory edge '945989601#3' not reachable by vehicle 'h09_2778'.\n",
      "Warning: The vehicle 'h09_2778' has no valid route.\n",
      "Warning: No connection between edge '-377919466' and edge '510193650#5' found.\n",
      "Warning: Mandatory edge '510193650#5' not reachable by vehicle 'h09_2825'.\n",
      "Warning: The vehicle 'h09_2825' has no valid route.\n",
      "Warning: No connection between edge '34962993#2' and edge '510193664' found.\n",
      "Warning: Mandatory edge '510193664' not reachable by vehicle 'h09_2901'.\n",
      "Warning: The vehicle 'h09_2901' has no valid route.\n",
      "Warning: No connection between edge '881589988#0' and edge '386307421#1' found.\n",
      "Warning: Mandatory edge '386307421#1' not reachable by vehicle 'h09_2921'.\n",
      "Warning: The vehicle 'h09_2921' has no valid route.\n",
      "Warning: No connection between edge '446955267' and edge '34961220#9' found.\n",
      "Warning: Mandatory edge '34961220#9' not reachable by vehicle 'h09_3101'.\n",
      "Warning: The vehicle 'h09_3101' has no valid route.\n"
     ]
    },
    {
     "name": "stdout",
     "output_type": "stream",
     "text": [
      "Reading up to time step: 33201.15\r"
     ]
    },
    {
     "name": "stderr",
     "output_type": "stream",
     "text": [
      "Warning: No connection between edge '53788974' and edge '112885002#0' found.\n",
      "Warning: Mandatory edge '112885002#0' not reachable by vehicle 'h09_3293'.\n",
      "Warning: The vehicle 'h09_3293' has no valid route.\n",
      "Warning: No connection between edge '1091788508' and edge '120879007' found.\n",
      "Warning: Mandatory edge '120879007' not reachable by vehicle 'h09_3424'.\n",
      "Warning: The vehicle 'h09_3424' has no valid route.\n",
      "Warning: No connection between edge '920572758#1' and edge '510193683' found.\n",
      "Warning: Mandatory edge '510193683' not reachable by vehicle 'h09_4015'.\n",
      "Warning: The vehicle 'h09_4015' has no valid route.\n"
     ]
    },
    {
     "name": "stdout",
     "output_type": "stream",
     "text": [
      "Reading up to time step: 33401.15\r"
     ]
    },
    {
     "name": "stderr",
     "output_type": "stream",
     "text": [
      "Warning: No connection between edge '98338686' and edge '-187069050#6' found.\n",
      "Warning: Mandatory edge '-187069050#6' not reachable by vehicle 'h09_4125'.\n",
      "Warning: The vehicle 'h09_4125' has no valid route.\n",
      "Warning: No connection between edge '1203882727#1' and edge '182441878#1' found.\n",
      "Warning: Mandatory edge '182441878#1' not reachable by vehicle 'h09_4176'.\n",
      "Warning: The vehicle 'h09_4176' has no valid route.\n",
      "Warning: No connection between edge '121271990' and edge '62023728#0' found.\n",
      "Warning: Mandatory edge '62023728#0' not reachable by vehicle 'h09_4540'.\n",
      "Warning: The vehicle 'h09_4540' has no valid route.\n",
      "Warning: No connection between edge '406234517#0' and edge '1270392333' found.\n",
      "Warning: Mandatory edge '1270392333' not reachable by vehicle 'h09_5282'.\n",
      "Warning: The vehicle 'h09_5282' has no valid route.\n"
     ]
    },
    {
     "name": "stdout",
     "output_type": "stream",
     "text": [
      "Reading up to time step: 33601.15\r"
     ]
    },
    {
     "name": "stderr",
     "output_type": "stream",
     "text": [
      "Warning: No connection between edge '-1243212449#1' and edge '510193650#2' found.\n",
      "Warning: Mandatory edge '510193650#2' not reachable by vehicle 'h09_5319'.\n",
      "Warning: The vehicle 'h09_5319' has no valid route.\n",
      "Warning: No connection between edge '1308456867#0' and edge '65002551#1' found.\n",
      "Warning: Mandatory edge '65002551#1' not reachable by vehicle 'h09_5480'.\n",
      "Warning: The vehicle 'h09_5480' has no valid route.\n",
      "Warning: No connection between edge '150925674' and edge '71570218#1' found.\n",
      "Warning: Mandatory edge '71570218#1' not reachable by vehicle 'h09_5867'.\n",
      "Warning: The vehicle 'h09_5867' has no valid route.\n",
      "Warning: No connection between edge '99205827#2' and edge '767313244' found.\n",
      "Warning: Mandatory edge '767313244' not reachable by vehicle 'h09_5917'.\n",
      "Warning: The vehicle 'h09_5917' has no valid route.\n"
     ]
    },
    {
     "name": "stdout",
     "output_type": "stream",
     "text": [
      "Reading up to time step: 33801.15\r"
     ]
    },
    {
     "name": "stderr",
     "output_type": "stream",
     "text": [
      "Warning: No connection between edge '49039544' and edge '-367820004' found.\n",
      "Warning: Mandatory edge '-367820004' not reachable by vehicle 'h09_6226'.\n",
      "Warning: The vehicle 'h09_6226' has no valid route.\n",
      "Warning: No connection between edge '40553076' and edge '386307421#1' found.\n",
      "Warning: Mandatory edge '386307421#1' not reachable by vehicle 'h09_6775'.\n",
      "Warning: The vehicle 'h09_6775' has no valid route.\n"
     ]
    },
    {
     "name": "stdout",
     "output_type": "stream",
     "text": [
      "Reading up to time step: 34001.15\r"
     ]
    },
    {
     "name": "stderr",
     "output_type": "stream",
     "text": [
      "Warning: No connection between edge '126760751#0' and edge '1200615233' found.\n",
      "Warning: Mandatory edge '1200615233' not reachable by vehicle 'h09_7640'.\n",
      "Warning: The vehicle 'h09_7640' has no valid route.\n",
      "Warning: No connection between edge '176541369' and edge '510193650#6' found.\n",
      "Warning: Mandatory edge '510193650#6' not reachable by vehicle 'h09_7655'.\n",
      "Warning: The vehicle 'h09_7655' has no valid route.\n",
      "Warning: No connection between edge '124060638#4' and edge '632110823#0' found.\n",
      "Warning: Mandatory edge '632110823#0' not reachable by vehicle 'h09_7744'.\n",
      "Warning: The vehicle 'h09_7744' has no valid route.\n",
      "Warning: No connection between edge '688357782#1' and edge '-624186453#0' found.\n",
      "Warning: Mandatory edge '-624186453#0' not reachable by vehicle 'h09_7789'.\n",
      "Warning: The vehicle 'h09_7789' has no valid route.\n",
      "Warning: No connection between edge '24374500-AddedOffRampEdge' and edge '-1097309369' found.\n",
      "Warning: Mandatory edge '-1097309369' not reachable by vehicle 'h09_18114'.\n",
      "Warning: The vehicle 'h09_18114' has no valid route.\n"
     ]
    },
    {
     "name": "stdout",
     "output_type": "stream",
     "text": [
      "Reading up to time step: 34201.15\r"
     ]
    },
    {
     "name": "stderr",
     "output_type": "stream",
     "text": [
      "Warning: No connection between edge '159460078#0' and edge '-383076320' found.\n",
      "Warning: Mandatory edge '-383076320' not reachable by vehicle 'h09_8157'.\n",
      "Warning: The vehicle 'h09_8157' has no valid route.\n",
      "Warning: No connection between edge '98338686' and edge '-411712611#0' found.\n",
      "Warning: Mandatory edge '-411712611#0' not reachable by vehicle 'h09_8282'.\n",
      "Warning: The vehicle 'h09_8282' has no valid route.\n",
      "Warning: No connection between edge '-480641994' and edge '88119470' found.\n",
      "Warning: Mandatory edge '88119470' not reachable by vehicle 'h09_8443'.\n",
      "Warning: The vehicle 'h09_8443' has no valid route.\n",
      "Warning: No connection between edge '925261618' and edge '27866062#2' found.\n",
      "Warning: Mandatory edge '27866062#2' not reachable by vehicle 'h09_8458'.\n",
      "Warning: The vehicle 'h09_8458' has no valid route.\n",
      "Warning: No connection between edge '493061137' and edge '64738884#0' found.\n",
      "Warning: Mandatory edge '64738884#0' not reachable by vehicle 'h09_8514'.\n",
      "Warning: The vehicle 'h09_8514' has no valid route.\n",
      "Warning: No connection between edge '325695863#0' and edge '510193665' found.\n",
      "Warning: Mandatory edge '510193665' not reachable by vehicle 'h09_8592'.\n",
      "Warning: The vehicle 'h09_8592' has no valid route.\n",
      "Warning: No connection between edge '-49039535#3' and edge '510193650#2' found.\n",
      "Warning: Mandatory edge '510193650#2' not reachable by vehicle 'h09_8893'.\n",
      "Warning: The vehicle 'h09_8893' has no valid route.\n"
     ]
    },
    {
     "name": "stdout",
     "output_type": "stream",
     "text": [
      "Reading up to time step: 34401.15\r"
     ]
    },
    {
     "name": "stderr",
     "output_type": "stream",
     "text": [
      "Warning: No connection between edge '-281308645' and edge '135200054' found.\n",
      "Warning: Mandatory edge '135200054' not reachable by vehicle 'h09_9069'.\n",
      "Warning: The vehicle 'h09_9069' has no valid route.\n",
      "Warning: No connection between edge '82286890' and edge '477195367#5' found.\n",
      "Warning: Mandatory edge '477195367#5' not reachable by vehicle 'h09_17818'.\n",
      "Warning: The vehicle 'h09_17818' has no valid route.\n",
      "Warning: No connection between edge '368652719' and edge '156398858' found.\n",
      "Warning: Mandatory edge '156398858' not reachable by vehicle 'h09_9706'.\n",
      "Warning: The vehicle 'h09_9706' has no valid route.\n",
      "Warning: No connection between edge '-62413879#0' and edge '367820007' found.\n",
      "Warning: Mandatory edge '367820007' not reachable by vehicle 'h09_9712'.\n",
      "Warning: The vehicle 'h09_9712' has no valid route.\n",
      "Warning: No connection between edge '492590326' and edge '510193650#5' found.\n",
      "Warning: Mandatory edge '510193650#5' not reachable by vehicle 'h09_9821'.\n",
      "Warning: The vehicle 'h09_9821' has no valid route.\n"
     ]
    },
    {
     "name": "stdout",
     "output_type": "stream",
     "text": [
      "Reading up to time step: 34601.15\r"
     ]
    },
    {
     "name": "stderr",
     "output_type": "stream",
     "text": [
      "Warning: No connection between edge '-685031105' and edge '167692614#0' found.\n",
      "Warning: Mandatory edge '167692614#0' not reachable by vehicle 'h09_9835'.\n",
      "Warning: The vehicle 'h09_9835' has no valid route.\n",
      "Warning: No connection between edge '-1150466231' and edge '-143962123#0' found.\n",
      "Warning: Mandatory edge '-143962123#0' not reachable by vehicle 'h09_10154'.\n",
      "Warning: The vehicle 'h09_10154' has no valid route.\n",
      "Warning: No connection between edge '5051203#1' and edge '98338695' found.\n",
      "Warning: Mandatory edge '98338695' not reachable by vehicle 'h09_10264'.\n",
      "Warning: The vehicle 'h09_10264' has no valid route.\n",
      "Warning: No connection between edge '493061137' and edge '-82285300#7' found.\n",
      "Warning: Mandatory edge '-82285300#7' not reachable by vehicle 'h09_10309'.\n",
      "Warning: The vehicle 'h09_10309' has no valid route.\n",
      "Warning: No connection between edge '-88132911#1' and edge '143962123#0' found.\n",
      "Warning: Mandatory edge '143962123#0' not reachable by vehicle 'h09_10348'.\n",
      "Warning: The vehicle 'h09_10348' has no valid route.\n",
      "Warning: No connection between edge '-179489015' and edge '143962120' found.\n",
      "Warning: Mandatory edge '143962120' not reachable by vehicle 'h09_10352'.\n",
      "Warning: The vehicle 'h09_10352' has no valid route.\n",
      "Warning: No connection between edge '-688357782#1' and edge '-123183355#3' found.\n",
      "Warning: Mandatory edge '-123183355#3' not reachable by vehicle 'h09_10358'.\n",
      "Warning: The vehicle 'h09_10358' has no valid route.\n",
      "Warning: No connection between edge '-24257572' and edge '263520769#0' found.\n",
      "Warning: Mandatory edge '263520769#0' not reachable by vehicle 'h09_10943'.\n",
      "Warning: The vehicle 'h09_10943' has no valid route.\n"
     ]
    },
    {
     "name": "stdout",
     "output_type": "stream",
     "text": [
      "Reading up to time step: 34801.15\r"
     ]
    },
    {
     "name": "stderr",
     "output_type": "stream",
     "text": [
      "Warning: No connection between edge '-1097146460' and edge '367820004' found.\n",
      "Warning: Mandatory edge '367820004' not reachable by vehicle 'h09_11218'.\n",
      "Warning: The vehicle 'h09_11218' has no valid route.\n",
      "Warning: No connection between edge '-154888012#0' and edge '446955265' found.\n",
      "Warning: Mandatory edge '446955265' not reachable by vehicle 'h09_11249'.\n",
      "Warning: The vehicle 'h09_11249' has no valid route.\n",
      "Warning: No connection between edge '122372754' and edge '120608660' found.\n",
      "Warning: Mandatory edge '120608660' not reachable by vehicle 'h09_11576'.\n",
      "Warning: The vehicle 'h09_11576' has no valid route.\n",
      "Warning: No connection between edge '124060638#5' and edge '741132791#6' found.\n",
      "Warning: Mandatory edge '741132791#6' not reachable by vehicle 'h09_11586'.\n",
      "Warning: The vehicle 'h09_11586' has no valid route.\n",
      "Warning: No connection between edge '112885039' and edge '-355524619' found.\n",
      "Warning: Mandatory edge '-355524619' not reachable by vehicle 'h09_11643'.\n",
      "Warning: The vehicle 'h09_11643' has no valid route.\n",
      "Warning: No connection between edge '1078220250#1' and edge '510193674' found.\n",
      "Warning: Mandatory edge '510193674' not reachable by vehicle 'h09_11652'.\n",
      "Warning: The vehicle 'h09_11652' has no valid route.\n",
      "Warning: No connection between edge '182670542#1' and edge '1159203435#0' found.\n",
      "Warning: Mandatory edge '1159203435#0' not reachable by vehicle 'h09_11754'.\n",
      "Warning: The vehicle 'h09_11754' has no valid route.\n"
     ]
    },
    {
     "name": "stdout",
     "output_type": "stream",
     "text": [
      "Reading up to time step: 35001.15\r"
     ]
    },
    {
     "name": "stderr",
     "output_type": "stream",
     "text": [
      "Warning: No connection between edge '764545371' and edge '889503609' found.\n",
      "Warning: Mandatory edge '889503609' not reachable by vehicle 'h09_11828'.\n",
      "Warning: The vehicle 'h09_11828' has no valid route.\n",
      "Warning: No connection between edge '385535528' and edge '143962123#1' found.\n",
      "Warning: Mandatory edge '143962123#1' not reachable by vehicle 'h09_11935'.\n",
      "Warning: The vehicle 'h09_11935' has no valid route.\n",
      "Warning: No connection between edge '82286890' and edge '-6313141#5' found.\n",
      "Warning: Mandatory edge '-6313141#5' not reachable by vehicle 'h09_11944'.\n",
      "Warning: The vehicle 'h09_11944' has no valid route.\n",
      "Warning: No connection between edge '446955267' and edge '-27773961#7' found.\n",
      "Warning: Mandatory edge '-27773961#7' not reachable by vehicle 'h09_12700'.\n",
      "Warning: The vehicle 'h09_12700' has no valid route.\n"
     ]
    },
    {
     "name": "stdout",
     "output_type": "stream",
     "text": [
      "Reading up to time step: 35201.15\r"
     ]
    },
    {
     "name": "stderr",
     "output_type": "stream",
     "text": [
      "Warning: No connection between edge '28117591#5' and edge '40933256' found.\n",
      "Warning: Mandatory edge '40933256' not reachable by vehicle 'h09_12981'.\n",
      "Warning: The vehicle 'h09_12981' has no valid route.\n",
      "Warning: No connection between edge '-96717445' and edge '664464931#1' found.\n",
      "Warning: Mandatory edge '664464931#1' not reachable by vehicle 'h09_19126'.\n",
      "Warning: The vehicle 'h09_19126' has no valid route.\n",
      "Warning: No connection between edge '376521321' and edge '-510193683' found.\n",
      "Warning: Mandatory edge '-510193683' not reachable by vehicle 'h09_13420'.\n",
      "Warning: The vehicle 'h09_13420' has no valid route.\n"
     ]
    },
    {
     "name": "stdout",
     "output_type": "stream",
     "text": [
      "Reading up to time step: 35401.15\r"
     ]
    },
    {
     "name": "stderr",
     "output_type": "stream",
     "text": [
      "Warning: No connection between edge '34960966#1' and edge '-144160557#2' found.\n",
      "Warning: Mandatory edge '-144160557#2' not reachable by vehicle 'h09_14022'.\n",
      "Warning: The vehicle 'h09_14022' has no valid route.\n",
      "Warning: No connection between edge '233961123#4' and edge '386307419' found.\n",
      "Warning: Mandatory edge '386307419' not reachable by vehicle 'h09_14026'.\n",
      "Warning: The vehicle 'h09_14026' has no valid route.\n",
      "Warning: No connection between edge '665204521#0' and edge '62023740' found.\n",
      "Warning: Mandatory edge '62023740' not reachable by vehicle 'h09_14032'.\n",
      "Warning: The vehicle 'h09_14032' has no valid route.\n",
      "Warning: No connection between edge '-142422665' and edge '-143962123#1' found.\n",
      "Warning: Mandatory edge '-143962123#1' not reachable by vehicle 'h09_14279'.\n",
      "Warning: The vehicle 'h09_14279' has no valid route.\n",
      "Warning: No connection between edge '-53333954#1' and edge '689636461' found.\n",
      "Warning: Mandatory edge '689636461' not reachable by vehicle 'h09_14493'.\n",
      "Warning: The vehicle 'h09_14493' has no valid route.\n",
      "Warning: No connection between edge '74128330#1' and edge '411014375#3' found.\n",
      "Warning: Mandatory edge '411014375#3' not reachable by vehicle 'h09_14558'.\n",
      "Warning: The vehicle 'h09_14558' has no valid route.\n"
     ]
    },
    {
     "name": "stdout",
     "output_type": "stream",
     "text": [
      "Reading up to time step: 35601.15\r"
     ]
    },
    {
     "name": "stderr",
     "output_type": "stream",
     "text": [
      "Warning: No connection between edge '122372754' and edge '-53838549#0' found.\n",
      "Warning: Mandatory edge '-53838549#0' not reachable by vehicle 'h09_15316'.\n",
      "Warning: The vehicle 'h09_15316' has no valid route.\n",
      "Warning: No connection between edge '189359632#2' and edge '-378355994#2' found.\n",
      "Warning: Mandatory edge '-378355994#2' not reachable by vehicle 'h09_15747'.\n",
      "Warning: The vehicle 'h09_15747' has no valid route.\n"
     ]
    },
    {
     "name": "stdout",
     "output_type": "stream",
     "text": [
      "Reading up to time step: 35801.15\r"
     ]
    },
    {
     "name": "stderr",
     "output_type": "stream",
     "text": [
      "Warning: No connection between edge '183741260' and edge '63678140' found.\n",
      "Warning: Mandatory edge '63678140' not reachable by vehicle 'h09_16476'.\n",
      "Warning: The vehicle 'h09_16476' has no valid route.\n",
      "Warning: No connection between edge '990832859#2' and edge '510193650#2' found.\n",
      "Warning: Mandatory edge '510193650#2' not reachable by vehicle 'h09_19959'.\n",
      "Warning: The vehicle 'h09_19959' has no valid route.\n",
      "Warning: No connection between edge '-39386402#5' and edge '-143962120' found.\n",
      "Warning: Mandatory edge '-143962120' not reachable by vehicle 'h09_16604'.\n",
      "Warning: The vehicle 'h09_16604' has no valid route.\n",
      "Warning: No connection between edge '150925676' and edge '39293890#1' found.\n",
      "Warning: Mandatory edge '39293890#1' not reachable by vehicle 'h09_18393'.\n",
      "Warning: The vehicle 'h09_18393' has no valid route.\n",
      "Warning: No connection between edge '-508177178' and edge '666070226#0' found.\n",
      "Warning: Mandatory edge '666070226#0' not reachable by vehicle 'h09_16719'.\n",
      "Warning: The vehicle 'h09_16719' has no valid route.\n"
     ]
    },
    {
     "name": "stdout",
     "output_type": "stream",
     "text": [
      "Reading up to time step: 36001.15\r"
     ]
    },
    {
     "name": "stderr",
     "output_type": "stream",
     "text": [
      "Warning: No connection between edge '-34353490#5' and edge '446955265' found.\n",
      "Warning: Mandatory edge '446955265' not reachable by vehicle 'h09_16808'.\n",
      "Warning: The vehicle 'h09_16808' has no valid route.\n",
      "Warning: No connection between edge '437880847' and edge '510193661' found.\n",
      "Warning: Mandatory edge '510193661' not reachable by vehicle 'h09_17219'.\n",
      "Warning: The vehicle 'h09_17219' has no valid route.\n",
      "Warning: No connection between edge '120753200#1' and edge '144160557#2' found.\n",
      "Warning: Mandatory edge '144160557#2' not reachable by vehicle 'h09_17586'.\n",
      "Warning: The vehicle 'h09_17586' has no valid route.\n"
     ]
    },
    {
     "name": "stdout",
     "output_type": "stream",
     "text": [
      "Reading up to time step: 36201.15\r"
     ]
    },
    {
     "name": "stderr",
     "output_type": "stream",
     "text": [
      "Warning: No connection between edge '-150925676' and edge '875807717#1' found.\n",
      "Warning: Mandatory edge '875807717#1' not reachable by vehicle 'h10_411'.\n",
      "Warning: The vehicle 'h10_411' has no valid route.\n",
      "Warning: No connection between edge '1332793122' and edge '396763826#0' found.\n",
      "Warning: Mandatory edge '396763826#0' not reachable by vehicle 'h10_741'.\n",
      "Warning: The vehicle 'h10_741' has no valid route.\n"
     ]
    },
    {
     "name": "stdout",
     "output_type": "stream",
     "text": [
      "Reading up to time step: 36401.15\r"
     ]
    },
    {
     "name": "stderr",
     "output_type": "stream",
     "text": [
      "Warning: No connection between edge '38336580' and edge '510193635#1' found.\n",
      "Warning: Mandatory edge '510193635#1' not reachable by vehicle 'h10_1018'.\n",
      "Warning: The vehicle 'h10_1018' has no valid route.\n",
      "Warning: No connection between edge '-925261618' and edge '66588241#1' found.\n",
      "Warning: Mandatory edge '66588241#1' not reachable by vehicle 'h10_1121'.\n",
      "Warning: The vehicle 'h10_1121' has no valid route.\n",
      "Warning: No connection between edge '108938544' and edge '-161048247' found.\n",
      "Warning: Mandatory edge '-161048247' not reachable by vehicle 'h10_1397'.\n",
      "Warning: The vehicle 'h10_1397' has no valid route.\n",
      "Warning: No connection between edge '826233297#0' and edge '767313244' found.\n",
      "Warning: Mandatory edge '767313244' not reachable by vehicle 'h10_1463'.\n",
      "Warning: The vehicle 'h10_1463' has no valid route.\n"
     ]
    },
    {
     "name": "stdout",
     "output_type": "stream",
     "text": [
      "Reading up to time step: 36601.15\r"
     ]
    },
    {
     "name": "stderr",
     "output_type": "stream",
     "text": [
      "Warning: No connection between edge '665644278' and edge '466901907' found.\n",
      "Warning: Mandatory edge '466901907' not reachable by vehicle 'h10_1651'.\n",
      "Warning: The vehicle 'h10_1651' has no valid route.\n",
      "Warning: No connection between edge '165883562#0' and edge '143962123#0' found.\n",
      "Warning: Mandatory edge '143962123#0' not reachable by vehicle 'h10_2243'.\n",
      "Warning: The vehicle 'h10_2243' has no valid route.\n",
      "Warning: No connection between edge '-71587982#2' and edge '-62023728#0' found.\n",
      "Warning: Mandatory edge '-62023728#0' not reachable by vehicle 'h10_2517'.\n",
      "Warning: The vehicle 'h10_2517' has no valid route.\n"
     ]
    },
    {
     "name": "stdout",
     "output_type": "stream",
     "text": [
      "Reading up to time step: 36801.15\r"
     ]
    },
    {
     "name": "stderr",
     "output_type": "stream",
     "text": [
      "Warning: No connection between edge '-925261618' and edge '224607971' found.\n",
      "Warning: Mandatory edge '224607971' not reachable by vehicle 'h10_15069'.\n",
      "Warning: The vehicle 'h10_15069' has no valid route.\n",
      "Warning: No connection between edge '554656565#1' and edge '-62023728#0' found.\n",
      "Warning: Mandatory edge '-62023728#0' not reachable by vehicle 'h10_2677'.\n",
      "Warning: The vehicle 'h10_2677' has no valid route.\n",
      "Warning: No connection between edge '183741260' and edge '-1041558659' found.\n",
      "Warning: Mandatory edge '-1041558659' not reachable by vehicle 'h10_2767'.\n",
      "Warning: The vehicle 'h10_2767' has no valid route.\n",
      "Warning: No connection between edge '27773684' and edge '1367068983' found.\n",
      "Warning: Mandatory edge '1367068983' not reachable by vehicle 'h10_2870'.\n",
      "Warning: The vehicle 'h10_2870' has no valid route.\n",
      "Warning: No connection between edge '144632781#1' and edge '767313244' found.\n",
      "Warning: Mandatory edge '767313244' not reachable by vehicle 'h10_3611'.\n",
      "Warning: The vehicle 'h10_3611' has no valid route.\n"
     ]
    },
    {
     "name": "stdout",
     "output_type": "stream",
     "text": [
      "Reading up to time step: 37001.15\r"
     ]
    },
    {
     "name": "stderr",
     "output_type": "stream",
     "text": [
      "Warning: No connection between edge '1005064867' and edge '-367820007' found.\n",
      "Warning: Mandatory edge '-367820007' not reachable by vehicle 'h10_4035'.\n",
      "Warning: The vehicle 'h10_4035' has no valid route.\n"
     ]
    },
    {
     "name": "stdout",
     "output_type": "stream",
     "text": [
      "Reading up to time step: 37201.15\r"
     ]
    },
    {
     "name": "stderr",
     "output_type": "stream",
     "text": [
      "Warning: No connection between edge '1203882727#1' and edge '-255708528#0' found.\n",
      "Warning: Mandatory edge '-255708528#0' not reachable by vehicle 'h10_4106'.\n",
      "Warning: The vehicle 'h10_4106' has no valid route.\n",
      "Warning: No connection between edge '780562172' and edge '-146824252' found.\n",
      "Warning: Mandatory edge '-146824252' not reachable by vehicle 'h10_4258'.\n",
      "Warning: The vehicle 'h10_4258' has no valid route.\n",
      "Warning: No connection between edge '27769763' and edge '-62023740' found.\n",
      "Warning: Mandatory edge '-62023740' not reachable by vehicle 'h10_4580'.\n",
      "Warning: The vehicle 'h10_4580' has no valid route.\n",
      "Warning: No connection between edge '-688357782#0' and edge '-744422830#0' found.\n",
      "Warning: Mandatory edge '-744422830#0' not reachable by vehicle 'h10_4594'.\n",
      "Warning: The vehicle 'h10_4594' has no valid route.\n",
      "Warning: No connection between edge '183741260' and edge '141678556' found.\n",
      "Warning: Mandatory edge '141678556' not reachable by vehicle 'h10_4661'.\n",
      "Warning: The vehicle 'h10_4661' has no valid route.\n",
      "Warning: No connection between edge '-65526212#6' and edge '88119470' found.\n",
      "Warning: Mandatory edge '88119470' not reachable by vehicle 'h10_4867'.\n",
      "Warning: The vehicle 'h10_4867' has no valid route.\n"
     ]
    },
    {
     "name": "stdout",
     "output_type": "stream",
     "text": [
      "Reading up to time step: 37401.15\r"
     ]
    },
    {
     "name": "stderr",
     "output_type": "stream",
     "text": [
      "Warning: No connection between edge '1373169489' and edge '510193650#2' found.\n",
      "Warning: Mandatory edge '510193650#2' not reachable by vehicle 'h10_5160'.\n",
      "Warning: The vehicle 'h10_5160' has no valid route.\n",
      "Warning: No connection between edge '881589990' and edge '-143962123#0' found.\n",
      "Warning: Mandatory edge '-143962123#0' not reachable by vehicle 'h10_5180'.\n",
      "Warning: The vehicle 'h10_5180' has no valid route.\n",
      "Warning: No connection between edge '109074901' and edge '-62023730' found.\n",
      "Warning: Mandatory edge '-62023730' not reachable by vehicle 'h10_5392'.\n",
      "Warning: The vehicle 'h10_5392' has no valid route.\n",
      "Warning: No connection between edge '98338686' and edge '6312443' found.\n",
      "Warning: Mandatory edge '6312443' not reachable by vehicle 'h10_5411'.\n",
      "Warning: The vehicle 'h10_5411' has no valid route.\n",
      "Warning: No connection between edge '566317014' and edge '62023730' found.\n",
      "Warning: Mandatory edge '62023730' not reachable by vehicle 'h10_15614'.\n",
      "Warning: The vehicle 'h10_15614' has no valid route.\n"
     ]
    },
    {
     "name": "stdout",
     "output_type": "stream",
     "text": [
      "Reading up to time step: 37601.15\r"
     ]
    },
    {
     "name": "stderr",
     "output_type": "stream",
     "text": [
      "Warning: No connection between edge '-368022013#1' and edge '493061137' found.\n",
      "Warning: Mandatory edge '493061137' not reachable by vehicle 'h10_6300'.\n",
      "Warning: The vehicle 'h10_6300' has no valid route.\n",
      "Warning: No connection between edge '165945025' and edge '62023728#1' found.\n",
      "Warning: Mandatory edge '62023728#1' not reachable by vehicle 'h10_6625'.\n",
      "Warning: The vehicle 'h10_6625' has no valid route.\n"
     ]
    },
    {
     "name": "stdout",
     "output_type": "stream",
     "text": [
      "Reading up to time step: 37801.15\r"
     ]
    },
    {
     "name": "stderr",
     "output_type": "stream",
     "text": [
      "Warning: No connection between edge '82166054' and edge '386307419' found.\n",
      "Warning: Mandatory edge '386307419' not reachable by vehicle 'h10_6906'.\n",
      "Warning: The vehicle 'h10_6906' has no valid route.\n",
      "Warning: No connection between edge '55336851' and edge '767313244' found.\n",
      "Warning: Mandatory edge '767313244' not reachable by vehicle 'h10_6986'.\n",
      "Warning: The vehicle 'h10_6986' has no valid route.\n",
      "Warning: No connection between edge '36963824#0' and edge '446955270' found.\n",
      "Warning: Mandatory edge '446955270' not reachable by vehicle 'h10_7342'.\n",
      "Warning: The vehicle 'h10_7342' has no valid route.\n"
     ]
    },
    {
     "name": "stdout",
     "output_type": "stream",
     "text": [
      "Reading up to time step: 38001.15\r"
     ]
    },
    {
     "name": "stderr",
     "output_type": "stream",
     "text": [
      "Warning: No connection between edge '688357782#1' and edge '34961585' found.\n",
      "Warning: Mandatory edge '34961585' not reachable by vehicle 'h10_7375'.\n",
      "Warning: The vehicle 'h10_7375' has no valid route.\n",
      "Warning: No connection between edge '-30716478#1' and edge '510193664' found.\n",
      "Warning: Mandatory edge '510193664' not reachable by vehicle 'h10_16478'.\n",
      "Warning: The vehicle 'h10_16478' has no valid route.\n",
      "Warning: No connection between edge '-52514075#2' and edge '167692614#0' found.\n",
      "Warning: Mandatory edge '167692614#0' not reachable by vehicle 'h10_7954'.\n",
      "Warning: The vehicle 'h10_7954' has no valid route.\n"
     ]
    },
    {
     "name": "stdout",
     "output_type": "stream",
     "text": [
      "Reading up to time step: 38201.15\r"
     ]
    },
    {
     "name": "stderr",
     "output_type": "stream",
     "text": [
      "Warning: No connection between edge '27770156#1' and edge '889503609' found.\n",
      "Warning: Mandatory edge '889503609' not reachable by vehicle 'h10_8061'.\n",
      "Warning: The vehicle 'h10_8061' has no valid route.\n",
      "Warning: No connection between edge '27866165#1' and edge '-144160557#0' found.\n",
      "Warning: Mandatory edge '-144160557#0' not reachable by vehicle 'h10_8103'.\n",
      "Warning: The vehicle 'h10_8103' has no valid route.\n",
      "Warning: No connection between edge '124060633#0' and edge '-53334049#0' found.\n",
      "Warning: Mandatory edge '-53334049#0' not reachable by vehicle 'h10_8201'.\n",
      "Warning: The vehicle 'h10_8201' has no valid route.\n",
      "Warning: No connection between edge '71897757#2' and edge '281308645' found.\n",
      "Warning: Mandatory edge '281308645' not reachable by vehicle 'h10_8222'.\n",
      "Warning: The vehicle 'h10_8222' has no valid route.\n",
      "Warning: No connection between edge '416551853#3' and edge '-367820007' found.\n",
      "Warning: Mandatory edge '-367820007' not reachable by vehicle 'h10_8642'.\n",
      "Warning: The vehicle 'h10_8642' has no valid route.\n",
      "Warning: No connection between edge '-46999156#2' and edge '144160557#2' found.\n",
      "Warning: Mandatory edge '144160557#2' not reachable by vehicle 'h10_8675'.\n",
      "Warning: The vehicle 'h10_8675' has no valid route.\n",
      "Warning: No connection between edge '518558387' and edge '510193635#1' found.\n",
      "Warning: Mandatory edge '510193635#1' not reachable by vehicle 'h10_8721'.\n",
      "Warning: The vehicle 'h10_8721' has no valid route.\n",
      "Warning: No connection between edge '27773413#0' and edge '383076320' found.\n",
      "Warning: Mandatory edge '383076320' not reachable by vehicle 'h10_8776'.\n",
      "Warning: The vehicle 'h10_8776' has no valid route.\n",
      "Warning: No connection between edge '1091788508' and edge '115628956' found.\n",
      "Warning: Mandatory edge '115628956' not reachable by vehicle 'h10_8817'.\n",
      "Warning: The vehicle 'h10_8817' has no valid route.\n"
     ]
    },
    {
     "name": "stdout",
     "output_type": "stream",
     "text": [
      "Reading up to time step: 38401.15\r"
     ]
    },
    {
     "name": "stderr",
     "output_type": "stream",
     "text": [
      "Warning: No connection between edge '-150755249#0' and edge '1060073977' found.\n",
      "Warning: Mandatory edge '1060073977' not reachable by vehicle 'h10_8981'.\n",
      "Warning: The vehicle 'h10_8981' has no valid route.\n",
      "Warning: No connection between edge '-626118646#0' and edge '446955265' found.\n",
      "Warning: Mandatory edge '446955265' not reachable by vehicle 'h10_9359'.\n",
      "Warning: The vehicle 'h10_9359' has no valid route.\n",
      "Warning: No connection between edge '909162158' and edge '144160547' found.\n",
      "Warning: Mandatory edge '144160547' not reachable by vehicle 'h10_9466'.\n",
      "Warning: The vehicle 'h10_9466' has no valid route.\n",
      "Warning: No connection between edge '-688357782#1' and edge '89227759' found.\n",
      "Warning: Mandatory edge '89227759' not reachable by vehicle 'h10_9659'.\n",
      "Warning: The vehicle 'h10_9659' has no valid route.\n",
      "Warning: No connection between edge '28353502#0' and edge '144160557#0' found.\n",
      "Warning: Mandatory edge '144160557#0' not reachable by vehicle 'h10_9805'.\n",
      "Warning: The vehicle 'h10_9805' has no valid route.\n"
     ]
    },
    {
     "name": "stdout",
     "output_type": "stream",
     "text": [
      "Reading up to time step: 38801.15\r"
     ]
    },
    {
     "name": "stderr",
     "output_type": "stream",
     "text": [
      "Warning: No connection between edge '-115628965#0' and edge '62023728#0' found.\n",
      "Warning: Mandatory edge '62023728#0' not reachable by vehicle 'h10_10605'.\n",
      "Warning: The vehicle 'h10_10605' has no valid route.\n",
      "Warning: No connection between edge '-330789113' and edge '-1060073977' found.\n",
      "Warning: Mandatory edge '-1060073977' not reachable by vehicle 'h10_15726'.\n",
      "Warning: The vehicle 'h10_15726' has no valid route.\n",
      "Warning: No connection between edge '1091788508' and edge '-161387530#0' found.\n",
      "Warning: Mandatory edge '-161387530#0' not reachable by vehicle 'h10_11178'.\n",
      "Warning: The vehicle 'h10_11178' has no valid route.\n",
      "Warning: No connection between edge '1203882727#1' and edge '383616393' found.\n",
      "Warning: Mandatory edge '383616393' not reachable by vehicle 'h10_11218'.\n",
      "Warning: The vehicle 'h10_11218' has no valid route.\n"
     ]
    },
    {
     "name": "stdout",
     "output_type": "stream",
     "text": [
      "Reading up to time step: 39001.15\r"
     ]
    },
    {
     "name": "stderr",
     "output_type": "stream",
     "text": [
      "Warning: No connection between edge '406234517#0' and edge '886315713#0' found.\n",
      "Warning: Mandatory edge '886315713#0' not reachable by vehicle 'h10_11347'.\n",
      "Warning: The vehicle 'h10_11347' has no valid route.\n",
      "Warning: No connection between edge '183741260' and edge '379908122#0' found.\n",
      "Warning: Mandatory edge '379908122#0' not reachable by vehicle 'h10_11588'.\n",
      "Warning: The vehicle 'h10_11588' has no valid route.\n",
      "Warning: No connection between edge '150925674' and edge '-72888095' found.\n",
      "Warning: Mandatory edge '-72888095' not reachable by vehicle 'h10_11732'.\n",
      "Warning: The vehicle 'h10_11732' has no valid route.\n",
      "Warning: No connection between edge '142146288#0' and edge '-767313243' found.\n",
      "Warning: Mandatory edge '-767313243' not reachable by vehicle 'h10_11967'.\n",
      "Warning: The vehicle 'h10_11967' has no valid route.\n"
     ]
    },
    {
     "name": "stdout",
     "output_type": "stream",
     "text": [
      "Reading up to time step: 39201.15\r"
     ]
    },
    {
     "name": "stderr",
     "output_type": "stream",
     "text": [
      "Warning: No connection between edge '1292582119' and edge '378355994#2' found.\n",
      "Warning: Mandatory edge '378355994#2' not reachable by vehicle 'h10_12136'.\n",
      "Warning: The vehicle 'h10_12136' has no valid route.\n",
      "Warning: No connection between edge '-1331092618#0' and edge '446955265' found.\n",
      "Warning: Mandatory edge '446955265' not reachable by vehicle 'h10_12143'.\n",
      "Warning: The vehicle 'h10_12143' has no valid route.\n"
     ]
    },
    {
     "name": "stdout",
     "output_type": "stream",
     "text": [
      "Reading up to time step: 39401.15\r"
     ]
    },
    {
     "name": "stderr",
     "output_type": "stream",
     "text": [
      "Warning: No connection between edge '264308751#1' and edge '-367820004' found.\n",
      "Warning: Mandatory edge '-367820004' not reachable by vehicle 'h10_13005'.\n",
      "Warning: The vehicle 'h10_13005' has no valid route.\n",
      "Warning: No connection between edge '665481684' and edge '4387061#0' found.\n",
      "Warning: Mandatory edge '4387061#0' not reachable by vehicle 'h10_13149'.\n",
      "Warning: The vehicle 'h10_13149' has no valid route.\n",
      "Warning: No connection between edge '124060633#1' and edge '167693688' found.\n",
      "Warning: Mandatory edge '167693688' not reachable by vehicle 'h10_13408'.\n",
      "Warning: The vehicle 'h10_13408' has no valid route.\n",
      "Warning: No connection between edge '595188675' and edge '386307421#0' found.\n",
      "Warning: Mandatory edge '386307421#0' not reachable by vehicle 'h10_13873'.\n",
      "Warning: The vehicle 'h10_13873' has no valid route.\n"
     ]
    },
    {
     "name": "stdout",
     "output_type": "stream",
     "text": [
      "Reading up to time step: 39601.15\r"
     ]
    },
    {
     "name": "stderr",
     "output_type": "stream",
     "text": [
      "Warning: No connection between edge '6311307#4' and edge '143962123#1' found.\n",
      "Warning: Mandatory edge '143962123#1' not reachable by vehicle 'h10_13992'.\n",
      "Warning: The vehicle 'h10_13992' has no valid route.\n",
      "Warning: No connection between edge '-34963000#0' and edge '1060073977' found.\n",
      "Warning: Mandatory edge '1060073977' not reachable by vehicle 'h10_14171'.\n",
      "Warning: The vehicle 'h10_14171' has no valid route.\n",
      "Warning: No connection between edge '47072482#0' and edge '188649571' found.\n",
      "Warning: Mandatory edge '188649571' not reachable by vehicle 'h11_42'.\n",
      "Warning: The vehicle 'h11_42' has no valid route.\n"
     ]
    },
    {
     "name": "stdout",
     "output_type": "stream",
     "text": [
      "Reading up to time step: 39801.15\r"
     ]
    },
    {
     "name": "stderr",
     "output_type": "stream",
     "text": [
      "Warning: No connection between edge '946389756' and edge '-633951901' found.\n",
      "Warning: Mandatory edge '-633951901' not reachable by vehicle 'h11_15113'.\n",
      "Warning: The vehicle 'h11_15113' has no valid route.\n",
      "Warning: No connection between edge '123743078#1' and edge '446955265' found.\n",
      "Warning: Mandatory edge '446955265' not reachable by vehicle 'h11_323'.\n",
      "Warning: The vehicle 'h11_323' has no valid route.\n",
      "Warning: No connection between edge '417926042' and edge '-62023728#0' found.\n",
      "Warning: Mandatory edge '-62023728#0' not reachable by vehicle 'h11_336'.\n",
      "Warning: The vehicle 'h11_336' has no valid route.\n",
      "Warning: No connection between edge '713810785#0' and edge '386307419' found.\n",
      "Warning: Mandatory edge '386307419' not reachable by vehicle 'h11_737'.\n",
      "Warning: The vehicle 'h11_737' has no valid route.\n",
      "Warning: No connection between edge '122372754' and edge '159082444' found.\n",
      "Warning: Mandatory edge '159082444' not reachable by vehicle 'h11_787'.\n",
      "Warning: The vehicle 'h11_787' has no valid route.\n",
      "Warning: No connection between edge '-388860652' and edge '188649571' found.\n",
      "Warning: Mandatory edge '188649571' not reachable by vehicle 'h11_823'.\n",
      "Warning: The vehicle 'h11_823' has no valid route.\n"
     ]
    },
    {
     "name": "stdout",
     "output_type": "stream",
     "text": [
      "Reading up to time step: 40001.15\r"
     ]
    },
    {
     "name": "stderr",
     "output_type": "stream",
     "text": [
      "Warning: No connection between edge '621096501' and edge '-30281188#2' found.\n",
      "Warning: Mandatory edge '-30281188#2' not reachable by vehicle 'h11_896'.\n",
      "Warning: The vehicle 'h11_896' has no valid route.\n",
      "Warning: No connection between edge '-171813894#0' and edge '-143962123#1' found.\n",
      "Warning: Mandatory edge '-143962123#1' not reachable by vehicle 'h11_1098'.\n",
      "Warning: The vehicle 'h11_1098' has no valid route.\n",
      "Warning: No connection between edge '24447539#0' and edge '144160547' found.\n",
      "Warning: Mandatory edge '144160547' not reachable by vehicle 'h11_1387'.\n",
      "Warning: The vehicle 'h11_1387' has no valid route.\n",
      "Warning: No connection between edge '1138868537#2' and edge '446955265' found.\n",
      "Warning: Mandatory edge '446955265' not reachable by vehicle 'h11_1569'.\n",
      "Warning: The vehicle 'h11_1569' has no valid route.\n",
      "Warning: No connection between edge '793930821' and edge '451897976' found.\n",
      "Warning: Mandatory edge '451897976' not reachable by vehicle 'h11_1603'.\n",
      "Warning: The vehicle 'h11_1603' has no valid route.\n"
     ]
    },
    {
     "name": "stdout",
     "output_type": "stream",
     "text": [
      "Reading up to time step: 40201.15\r"
     ]
    },
    {
     "name": "stderr",
     "output_type": "stream",
     "text": [
      "Warning: No connection between edge '188222117' and edge '188649571' found.\n",
      "Warning: Mandatory edge '188649571' not reachable by vehicle 'h11_1689'.\n",
      "Warning: The vehicle 'h11_1689' has no valid route.\n",
      "Warning: No connection between edge '406234517#0' and edge '-27773961#2' found.\n",
      "Warning: Mandatory edge '-27773961#2' not reachable by vehicle 'h11_1969'.\n",
      "Warning: The vehicle 'h11_1969' has no valid route.\n",
      "Warning: No connection between edge '168456142' and edge '-112885002#1' found.\n",
      "Warning: Mandatory edge '-112885002#1' not reachable by vehicle 'h11_2465'.\n",
      "Warning: The vehicle 'h11_2465' has no valid route.\n"
     ]
    },
    {
     "name": "stdout",
     "output_type": "stream",
     "text": [
      "Reading up to time step: 40401.15\r"
     ]
    },
    {
     "name": "stderr",
     "output_type": "stream",
     "text": [
      "Warning: No connection between edge '54357734#1' and edge '143962123#2' found.\n",
      "Warning: Mandatory edge '143962123#2' not reachable by vehicle 'h11_2619'.\n",
      "Warning: The vehicle 'h11_2619' has no valid route.\n",
      "Warning: No connection between edge '1020649292#0-AddedOffRampEdge' and edge '144160557#0' found.\n",
      "Warning: Mandatory edge '144160557#0' not reachable by vehicle 'h11_15798'.\n",
      "Warning: The vehicle 'h11_15798' has no valid route.\n",
      "Warning: No connection between edge '-115628892#2' and edge '142428191' found.\n",
      "Warning: Mandatory edge '142428191' not reachable by vehicle 'h11_2908'.\n",
      "Warning: The vehicle 'h11_2908' has no valid route.\n",
      "Warning: No connection between edge '23358540' and edge '342094982#1' found.\n",
      "Warning: Mandatory edge '342094982#1' not reachable by vehicle 'h11_15803'.\n",
      "Warning: The vehicle 'h11_15803' has no valid route.\n"
     ]
    },
    {
     "name": "stdout",
     "output_type": "stream",
     "text": [
      "Reading up to time step: 40601.15\r"
     ]
    },
    {
     "name": "stderr",
     "output_type": "stream",
     "text": [
      "Warning: No connection between edge '-46962529#1' and edge '1200615233' found.\n",
      "Warning: Mandatory edge '1200615233' not reachable by vehicle 'h11_3251'.\n",
      "Warning: The vehicle 'h11_3251' has no valid route.\n",
      "Warning: No connection between edge '122372754' and edge '-71817019#0' found.\n",
      "Warning: Mandatory edge '-71817019#0' not reachable by vehicle 'h11_3421'.\n",
      "Warning: The vehicle 'h11_3421' has no valid route.\n",
      "Warning: No connection between edge '64464296' and edge '510193669' found.\n",
      "Warning: Mandatory edge '510193669' not reachable by vehicle 'h11_3737'.\n",
      "Warning: The vehicle 'h11_3737' has no valid route.\n",
      "Warning: No connection between edge '-53255183#0' and edge '-112885002#1' found.\n",
      "Warning: Mandatory edge '-112885002#1' not reachable by vehicle 'h11_3797'.\n",
      "Warning: The vehicle 'h11_3797' has no valid route.\n",
      "Warning: No connection between edge '446955267' and edge '384165517#7' found.\n",
      "Warning: Mandatory edge '384165517#7' not reachable by vehicle 'h11_3831'.\n",
      "Warning: The vehicle 'h11_3831' has no valid route.\n",
      "Warning: No connection between edge '53331631#1' and edge '889503609' found.\n",
      "Warning: Mandatory edge '889503609' not reachable by vehicle 'h11_3852'.\n",
      "Warning: The vehicle 'h11_3852' has no valid route.\n",
      "Warning: No connection between edge '263520769#1' and edge '-367820004' found.\n",
      "Warning: Mandatory edge '-367820004' not reachable by vehicle 'h11_3859'.\n",
      "Warning: The vehicle 'h11_3859' has no valid route.\n",
      "Warning: No connection between edge '-507983086#1' and edge '510193665' found.\n",
      "Warning: Mandatory edge '510193665' not reachable by vehicle 'h11_3862'.\n",
      "Warning: The vehicle 'h11_3862' has no valid route.\n",
      "Warning: No connection between edge '493061137' and edge '-161026496#1' found.\n",
      "Warning: Mandatory edge '-161026496#1' not reachable by vehicle 'h11_4063'.\n",
      "Warning: The vehicle 'h11_4063' has no valid route.\n"
     ]
    },
    {
     "name": "stdout",
     "output_type": "stream",
     "text": [
      "Reading up to time step: 40801.15\r"
     ]
    },
    {
     "name": "stderr",
     "output_type": "stream",
     "text": [
      "Warning: No connection between edge '665204358' and edge '-510193683' found.\n",
      "Warning: Mandatory edge '-510193683' not reachable by vehicle 'h11_4338'.\n",
      "Warning: The vehicle 'h11_4338' has no valid route.\n",
      "Warning: No connection between edge '24580112#2' and edge '510193650#3' found.\n",
      "Warning: Mandatory edge '510193650#3' not reachable by vehicle 'h11_4463'.\n",
      "Warning: The vehicle 'h11_4463' has no valid route.\n",
      "Warning: No connection between edge '-396403701#1' and edge '112885002#0' found.\n",
      "Warning: Mandatory edge '112885002#0' not reachable by vehicle 'h11_4471'.\n",
      "Warning: The vehicle 'h11_4471' has no valid route.\n",
      "Warning: No connection between edge '1329425366' and edge '-112885002#1' found.\n",
      "Warning: Mandatory edge '-112885002#1' not reachable by vehicle 'h11_4579'.\n",
      "Warning: The vehicle 'h11_4579' has no valid route.\n",
      "Warning: No connection between edge '53839127' and edge '510193680' found.\n",
      "Warning: Mandatory edge '510193680' not reachable by vehicle 'h11_4809'.\n",
      "Warning: The vehicle 'h11_4809' has no valid route.\n"
     ]
    },
    {
     "name": "stdout",
     "output_type": "stream",
     "text": [
      "Reading up to time step: 41001.15\r"
     ]
    },
    {
     "name": "stderr",
     "output_type": "stream",
     "text": [
      "Warning: No connection between edge '1332793122' and edge '1328250976' found.\n",
      "Warning: Mandatory edge '1328250976' not reachable by vehicle 'h11_4871'.\n",
      "Warning: The vehicle 'h11_4871' has no valid route.\n",
      "Warning: No connection between edge '32040771#1' and edge '510193635#1' found.\n",
      "Warning: Mandatory edge '510193635#1' not reachable by vehicle 'h11_5086'.\n",
      "Warning: The vehicle 'h11_5086' has no valid route.\n",
      "Warning: No connection between edge '946026476#2' and edge '62023730' found.\n",
      "Warning: Mandatory edge '62023730' not reachable by vehicle 'h11_5217'.\n",
      "Warning: The vehicle 'h11_5217' has no valid route.\n",
      "Warning: No connection between edge '6310412#0' and edge '510193635#1' found.\n",
      "Warning: Mandatory edge '510193635#1' not reachable by vehicle 'h11_5238'.\n",
      "Warning: The vehicle 'h11_5238' has no valid route.\n",
      "Warning: No connection between edge '-158425373#3' and edge '144160557#0' found.\n",
      "Warning: Mandatory edge '144160557#0' not reachable by vehicle 'h11_5384'.\n",
      "Warning: The vehicle 'h11_5384' has no valid route.\n",
      "Warning: No connection between edge '124060638#4' and edge '-54357728' found.\n",
      "Warning: Mandatory edge '-54357728' not reachable by vehicle 'h11_5742'.\n",
      "Warning: The vehicle 'h11_5742' has no valid route.\n"
     ]
    },
    {
     "name": "stdout",
     "output_type": "stream",
     "text": [
      "Reading up to time step: 41201.15\r"
     ]
    },
    {
     "name": "stderr",
     "output_type": "stream",
     "text": [
      "Warning: No connection between edge '614044987#0' and edge '510193665' found.\n",
      "Warning: Mandatory edge '510193665' not reachable by vehicle 'h11_15861'.\n",
      "Warning: The vehicle 'h11_15861' has no valid route.\n",
      "Warning: No connection between edge '232788067#2' and edge '-24402007' found.\n",
      "Warning: Mandatory edge '-24402007' not reachable by vehicle 'h11_6084'.\n",
      "Warning: The vehicle 'h11_6084' has no valid route.\n",
      "Warning: No connection between edge '-342150049#4' and edge '112885002#0' found.\n",
      "Warning: Mandatory edge '112885002#0' not reachable by vehicle 'h11_6150'.\n",
      "Warning: The vehicle 'h11_6150' has no valid route.\n",
      "Warning: No connection between edge '132646084#1' and edge '188649571' found.\n",
      "Warning: Mandatory edge '188649571' not reachable by vehicle 'h11_6201'.\n",
      "Warning: The vehicle 'h11_6201' has no valid route.\n",
      "Warning: No connection between edge '183741260' and edge '46999150' found.\n",
      "Warning: Mandatory edge '46999150' not reachable by vehicle 'h11_6238'.\n",
      "Warning: The vehicle 'h11_6238' has no valid route.\n"
     ]
    },
    {
     "name": "stdout",
     "output_type": "stream",
     "text": [
      "Reading up to time step: 41401.15\r"
     ]
    },
    {
     "name": "stderr",
     "output_type": "stream",
     "text": [
      "Warning: No connection between edge '-53424793#1' and edge '167692614#0' found.\n",
      "Warning: Mandatory edge '167692614#0' not reachable by vehicle 'h11_6395'.\n",
      "Warning: The vehicle 'h11_6395' has no valid route.\n",
      "Warning: No connection between edge '-6313524#2' and edge '-144160557#2' found.\n",
      "Warning: Mandatory edge '-144160557#2' not reachable by vehicle 'h11_6412'.\n",
      "Warning: The vehicle 'h11_6412' has no valid route.\n"
     ]
    },
    {
     "name": "stdout",
     "output_type": "stream",
     "text": [
      "Reading up to time step: 41601.15\r"
     ]
    },
    {
     "name": "stderr",
     "output_type": "stream",
     "text": [
      "Warning: No connection between edge '27774360#2-AddedOnRampEdge' and edge '510193650#3' found.\n",
      "Warning: Mandatory edge '510193650#3' not reachable by vehicle 'h11_7133'.\n",
      "Warning: The vehicle 'h11_7133' has no valid route.\n",
      "Warning: No connection between edge '493061137' and edge '6312197#3' found.\n",
      "Warning: Mandatory edge '6312197#3' not reachable by vehicle 'h11_7166'.\n",
      "Warning: The vehicle 'h11_7166' has no valid route.\n",
      "Warning: No connection between edge '-130857242#2' and edge '143962123#2' found.\n",
      "Warning: Mandatory edge '143962123#2' not reachable by vehicle 'h11_7274'.\n",
      "Warning: The vehicle 'h11_7274' has no valid route.\n",
      "Warning: No connection between edge '-47072533#0' and edge '386307419' found.\n",
      "Warning: Mandatory edge '386307419' not reachable by vehicle 'h11_7603'.\n",
      "Warning: The vehicle 'h11_7603' has no valid route.\n",
      "Warning: No connection between edge '622321587' and edge '386307421#0' found.\n",
      "Warning: Mandatory edge '386307421#0' not reachable by vehicle 'h11_7655'.\n",
      "Warning: The vehicle 'h11_7655' has no valid route.\n",
      "Warning: No connection between edge '53331631#5' and edge '888174858#0' found.\n",
      "Warning: Mandatory edge '888174858#0' not reachable by vehicle 'h11_7755'.\n",
      "Warning: The vehicle 'h11_7755' has no valid route.\n",
      "Warning: No connection between edge '-324012880#1' and edge '510193683' found.\n",
      "Warning: Mandatory edge '510193683' not reachable by vehicle 'h11_8026'.\n",
      "Warning: The vehicle 'h11_8026' has no valid route.\n"
     ]
    },
    {
     "name": "stdout",
     "output_type": "stream",
     "text": [
      "Reading up to time step: 41801.15\r"
     ]
    },
    {
     "name": "stderr",
     "output_type": "stream",
     "text": [
      "Warning: No connection between edge '-1336880840' and edge '-510193683' found.\n",
      "Warning: Mandatory edge '-510193683' not reachable by vehicle 'h11_8157'.\n",
      "Warning: The vehicle 'h11_8157' has no valid route.\n"
     ]
    },
    {
     "name": "stdout",
     "output_type": "stream",
     "text": [
      "Reading up to time step: 42001.15\r"
     ]
    },
    {
     "name": "stderr",
     "output_type": "stream",
     "text": [
      "Warning: No connection between edge '24387257#0' and edge '263520769#0' found.\n",
      "Warning: Mandatory edge '263520769#0' not reachable by vehicle 'h11_8662'.\n",
      "Warning: The vehicle 'h11_8662' has no valid route.\n",
      "Warning: No connection between edge '-281308645' and edge '194739891#0' found.\n",
      "Warning: Mandatory edge '194739891#0' not reachable by vehicle 'h11_8894'.\n",
      "Warning: The vehicle 'h11_8894' has no valid route.\n",
      "Warning: No connection between edge '-281308645' and edge '49326521' found.\n",
      "Warning: Mandatory edge '49326521' not reachable by vehicle 'h11_8973'.\n",
      "Warning: The vehicle 'h11_8973' has no valid route.\n",
      "Warning: No connection between edge '167794842#1' and edge '386307421#0' found.\n",
      "Warning: Mandatory edge '386307421#0' not reachable by vehicle 'h11_9253'.\n",
      "Warning: The vehicle 'h11_9253' has no valid route.\n",
      "Warning: No connection between edge '82286890' and edge '432736777#0' found.\n",
      "Warning: Mandatory edge '432736777#0' not reachable by vehicle 'h11_9351'.\n",
      "Warning: The vehicle 'h11_9351' has no valid route.\n",
      "Warning: No connection between edge '-377991087#12' and edge '446955265' found.\n",
      "Warning: Mandatory edge '446955265' not reachable by vehicle 'h11_9416'.\n",
      "Warning: The vehicle 'h11_9416' has no valid route.\n",
      "Warning: No connection between edge '170897667' and edge '383076320' found.\n",
      "Warning: Mandatory edge '383076320' not reachable by vehicle 'h11_9424'.\n",
      "Warning: The vehicle 'h11_9424' has no valid route.\n"
     ]
    },
    {
     "name": "stdout",
     "output_type": "stream",
     "text": [
      "Reading up to time step: 42201.15\r"
     ]
    },
    {
     "name": "stderr",
     "output_type": "stream",
     "text": [
      "Warning: No connection between edge '-396403701#0' and edge '88119470' found.\n",
      "Warning: Mandatory edge '88119470' not reachable by vehicle 'h11_9483'.\n",
      "Warning: The vehicle 'h11_9483' has no valid route.\n",
      "Warning: No connection between edge '-72058126' and edge '510193680' found.\n",
      "Warning: Mandatory edge '510193680' not reachable by vehicle 'h11_9646'.\n",
      "Warning: The vehicle 'h11_9646' has no valid route.\n",
      "Warning: No connection between edge '306365017#0' and edge '143962123#2' found.\n",
      "Warning: Mandatory edge '143962123#2' not reachable by vehicle 'h11_10563'.\n",
      "Warning: The vehicle 'h11_10563' has no valid route.\n"
     ]
    },
    {
     "name": "stdout",
     "output_type": "stream",
     "text": [
      "Reading up to time step: 42401.15\r"
     ]
    },
    {
     "name": "stderr",
     "output_type": "stream",
     "text": [
      "Warning: No connection between edge '183741260' and edge '-757827406' found.\n",
      "Warning: Mandatory edge '-757827406' not reachable by vehicle 'h11_10801'.\n",
      "Warning: The vehicle 'h11_10801' has no valid route.\n"
     ]
    },
    {
     "name": "stdout",
     "output_type": "stream",
     "text": [
      "Reading up to time step: 42601.15\r"
     ]
    },
    {
     "name": "stderr",
     "output_type": "stream",
     "text": [
      "Warning: No connection between edge '925261618' and edge '399093679#5' found.\n",
      "Warning: Mandatory edge '399093679#5' not reachable by vehicle 'h11_11118'.\n",
      "Warning: The vehicle 'h11_11118' has no valid route.\n",
      "Warning: No connection between edge '-1097396058' and edge '378355994#2' found.\n",
      "Warning: Mandatory edge '378355994#2' not reachable by vehicle 'h11_15345'.\n",
      "Warning: The vehicle 'h11_15345' has no valid route.\n",
      "Warning: No connection between edge '142428375#0' and edge '88119470' found.\n",
      "Warning: Mandatory edge '88119470' not reachable by vehicle 'h11_11571'.\n",
      "Warning: The vehicle 'h11_11571' has no valid route.\n"
     ]
    },
    {
     "name": "stdout",
     "output_type": "stream",
     "text": [
      "Reading up to time step: 42801.15\r"
     ]
    },
    {
     "name": "stderr",
     "output_type": "stream",
     "text": [
      "Warning: No connection between edge '156398864' and edge '-37793644#0' found.\n",
      "Warning: Mandatory edge '-37793644#0' not reachable by vehicle 'h11_11933'.\n",
      "Warning: The vehicle 'h11_11933' has no valid route.\n",
      "Warning: No connection between edge '434920049#0' and edge '666070226#0' found.\n",
      "Warning: Mandatory edge '666070226#0' not reachable by vehicle 'h11_12057'.\n",
      "Warning: The vehicle 'h11_12057' has no valid route.\n",
      "Warning: No connection between edge '-114727607#3' and edge '383076320' found.\n",
      "Warning: Mandatory edge '383076320' not reachable by vehicle 'h11_12405'.\n",
      "Warning: The vehicle 'h11_12405' has no valid route.\n"
     ]
    },
    {
     "name": "stdout",
     "output_type": "stream",
     "text": [
      "Reading up to time step: 43001.15\r"
     ]
    },
    {
     "name": "stderr",
     "output_type": "stream",
     "text": [
      "Warning: No connection between edge '99272311' and edge '-510193683' found.\n",
      "Warning: Mandatory edge '-510193683' not reachable by vehicle 'h11_12831'.\n",
      "Warning: The vehicle 'h11_12831' has no valid route.\n",
      "Warning: No connection between edge '-72049648#2' and edge '767313244' found.\n",
      "Warning: Mandatory edge '767313244' not reachable by vehicle 'h11_13109'.\n",
      "Warning: The vehicle 'h11_13109' has no valid route.\n",
      "Warning: No connection between edge '-436233257#1' and edge '158425370' found.\n",
      "Warning: Mandatory edge '158425370' not reachable by vehicle 'h11_16000'.\n",
      "Warning: The vehicle 'h11_16000' has no valid route.\n",
      "Warning: No connection between edge '124060633#1' and edge '157688070#0' found.\n",
      "Warning: Mandatory edge '157688070#0' not reachable by vehicle 'h11_13193'.\n",
      "Warning: The vehicle 'h11_13193' has no valid route.\n",
      "Warning: No connection between edge '1203882727#1' and edge '41494074' found.\n",
      "Warning: Mandatory edge '41494074' not reachable by vehicle 'h11_13320'.\n",
      "Warning: The vehicle 'h11_13320' has no valid route.\n"
     ]
    },
    {
     "name": "stdout",
     "output_type": "stream",
     "text": [
      "Reading up to time step: 43201.15\r"
     ]
    },
    {
     "name": "stderr",
     "output_type": "stream",
     "text": [
      "Warning: No connection between edge '24528694' and edge '510193661' found.\n",
      "Warning: Mandatory edge '510193661' not reachable by vehicle 'h11_16111'.\n",
      "Warning: The vehicle 'h11_16111' has no valid route.\n",
      "Warning: No connection between edge '-281308645' and edge '112835840' found.\n",
      "Warning: Mandatory edge '112835840' not reachable by vehicle 'h11_13989'.\n",
      "Warning: The vehicle 'h11_13989' has no valid route.\n"
     ]
    },
    {
     "name": "stdout",
     "output_type": "stream",
     "text": [
      "Reading up to time step: 43401.15\r"
     ]
    },
    {
     "name": "stderr",
     "output_type": "stream",
     "text": [
      "Warning: No connection between edge '1308456867#0' and edge '430174540#0' found.\n",
      "Warning: Mandatory edge '430174540#0' not reachable by vehicle 'h12_6'.\n",
      "Warning: The vehicle 'h12_6' has no valid route.\n",
      "Warning: No connection between edge '1308456867#0' and edge '432358829' found.\n",
      "Warning: Mandatory edge '432358829' not reachable by vehicle 'h12_80'.\n",
      "Warning: The vehicle 'h12_80' has no valid route.\n",
      "Warning: No connection between edge '688357782#0' and edge '389162477' found.\n",
      "Warning: Mandatory edge '389162477' not reachable by vehicle 'h12_140'.\n",
      "Warning: The vehicle 'h12_140' has no valid route.\n",
      "Warning: No connection between edge '-281308645' and edge '27769733#2' found.\n",
      "Warning: Mandatory edge '27769733#2' not reachable by vehicle 'h12_452'.\n",
      "Warning: The vehicle 'h12_452' has no valid route.\n",
      "Warning: No connection between edge '-440004362' and edge '167692614#0' found.\n",
      "Warning: Mandatory edge '167692614#0' not reachable by vehicle 'h12_928'.\n",
      "Warning: The vehicle 'h12_928' has no valid route.\n"
     ]
    },
    {
     "name": "stdout",
     "output_type": "stream",
     "text": [
      "Reading up to time step: 43601.15\r"
     ]
    },
    {
     "name": "stderr",
     "output_type": "stream",
     "text": [
      "Warning: No connection between edge '928912455#1' and edge '1367068983' found.\n",
      "Warning: Mandatory edge '1367068983' not reachable by vehicle 'h12_1023'.\n",
      "Warning: The vehicle 'h12_1023' has no valid route.\n",
      "Warning: No connection between edge '1367068984' and edge '-189876384#2' found.\n",
      "Warning: Mandatory edge '-189876384#2' not reachable by vehicle 'h12_1169'.\n",
      "Warning: The vehicle 'h12_1169' has no valid route.\n",
      "Warning: No connection between edge '41080527#2' and edge '62023728#1' found.\n",
      "Warning: Mandatory edge '62023728#1' not reachable by vehicle 'h12_1286'.\n",
      "Warning: The vehicle 'h12_1286' has no valid route.\n",
      "Warning: No connection between edge '144252623' and edge '-367820004' found.\n",
      "Warning: Mandatory edge '-367820004' not reachable by vehicle 'h12_1297'.\n",
      "Warning: The vehicle 'h12_1297' has no valid route.\n",
      "Warning: No connection between edge '1356954327' and edge '24257546' found.\n",
      "Warning: Mandatory edge '24257546' not reachable by vehicle 'h12_2301'.\n",
      "Warning: The vehicle 'h12_2301' has no valid route.\n"
     ]
    },
    {
     "name": "stdout",
     "output_type": "stream",
     "text": [
      "Reading up to time step: 43801.15\r"
     ]
    },
    {
     "name": "stderr",
     "output_type": "stream",
     "text": [
      "Warning: No connection between edge '493061137' and edge '705434111#0' found.\n",
      "Warning: Mandatory edge '705434111#0' not reachable by vehicle 'h12_2750'.\n",
      "Warning: The vehicle 'h12_2750' has no valid route.\n"
     ]
    },
    {
     "name": "stdout",
     "output_type": "stream",
     "text": [
      "Reading up to time step: 44001.15\r"
     ]
    },
    {
     "name": "stderr",
     "output_type": "stream",
     "text": [
      "Warning: No connection between edge '150405920#2' and edge '510193650#3' found.\n",
      "Warning: Mandatory edge '510193650#3' not reachable by vehicle 'h12_3247'.\n",
      "Warning: The vehicle 'h12_3247' has no valid route.\n",
      "Warning: No connection between edge '538701015' and edge '-367820004' found.\n",
      "Warning: Mandatory edge '-367820004' not reachable by vehicle 'h12_3317'.\n",
      "Warning: The vehicle 'h12_3317' has no valid route.\n",
      "Warning: No connection between edge '122372754' and edge '166721717' found.\n",
      "Warning: Mandatory edge '166721717' not reachable by vehicle 'h12_3335'.\n",
      "Warning: The vehicle 'h12_3335' has no valid route.\n",
      "Warning: No connection between edge '74128330#1' and edge '442217048' found.\n",
      "Warning: Mandatory edge '442217048' not reachable by vehicle 'h12_3560'.\n",
      "Warning: The vehicle 'h12_3560' has no valid route.\n",
      "Warning: No connection between edge '-320070013' and edge '281308645' found.\n",
      "Warning: Mandatory edge '281308645' not reachable by vehicle 'h12_18941'.\n",
      "Warning: The vehicle 'h12_18941' has no valid route.\n",
      "Warning: No connection between edge '150925674' and edge '142732876#3' found.\n",
      "Warning: Mandatory edge '142732876#3' not reachable by vehicle 'h12_17012'.\n",
      "Warning: The vehicle 'h12_17012' has no valid route.\n"
     ]
    },
    {
     "name": "stdout",
     "output_type": "stream",
     "text": [
      "Reading up to time step: 44201.15\r"
     ]
    },
    {
     "name": "stderr",
     "output_type": "stream",
     "text": [
      "Warning: No connection between edge '65204862#2' and edge '-143962123#1' found.\n",
      "Warning: Mandatory edge '-143962123#1' not reachable by vehicle 'h12_3874'.\n",
      "Warning: The vehicle 'h12_3874' has no valid route.\n",
      "Warning: No connection between edge '-60966842' and edge '263520769#0' found.\n",
      "Warning: Mandatory edge '263520769#0' not reachable by vehicle 'h12_4161'.\n",
      "Warning: The vehicle 'h12_4161' has no valid route.\n",
      "Warning: No connection between edge '124060633#0' and edge '49264278#0' found.\n",
      "Warning: Mandatory edge '49264278#0' not reachable by vehicle 'h12_4165'.\n",
      "Warning: The vehicle 'h12_4165' has no valid route.\n",
      "Warning: No connection between edge '210214894#1' and edge '143962123#1' found.\n",
      "Warning: Mandatory edge '143962123#1' not reachable by vehicle 'h12_4261'.\n",
      "Warning: The vehicle 'h12_4261' has no valid route.\n",
      "Warning: No connection between edge '122372051#1' and edge '4387061#0' found.\n",
      "Warning: Mandatory edge '4387061#0' not reachable by vehicle 'h12_4636'.\n",
      "Warning: The vehicle 'h12_4636' has no valid route.\n",
      "Warning: No connection between edge '1367068984' and edge '-141678534#0' found.\n",
      "Warning: Mandatory edge '-141678534#0' not reachable by vehicle 'h12_4707'.\n",
      "Warning: The vehicle 'h12_4707' has no valid route.\n"
     ]
    },
    {
     "name": "stdout",
     "output_type": "stream",
     "text": [
      "Reading up to time step: 44401.15\r"
     ]
    },
    {
     "name": "stderr",
     "output_type": "stream",
     "text": [
      "Warning: No connection between edge '780562172' and edge '35731489#0' found.\n",
      "Warning: Mandatory edge '35731489#0' not reachable by vehicle 'h12_4965'.\n",
      "Warning: The vehicle 'h12_4965' has no valid route.\n",
      "Warning: No connection between edge '27773251' and edge '-143962123#0' found.\n",
      "Warning: Mandatory edge '-143962123#0' not reachable by vehicle 'h12_5109'.\n",
      "Warning: The vehicle 'h12_5109' has no valid route.\n",
      "Warning: No connection between edge '-53798008' and edge '386307421#1' found.\n",
      "Warning: Mandatory edge '386307421#1' not reachable by vehicle 'h12_5377'.\n",
      "Warning: The vehicle 'h12_5377' has no valid route.\n",
      "Warning: No connection between edge '-122318010#2' and edge '281308645' found.\n",
      "Warning: Mandatory edge '281308645' not reachable by vehicle 'h12_5629'.\n",
      "Warning: The vehicle 'h12_5629' has no valid route.\n",
      "Warning: No connection between edge '24257193#1' and edge '510193680' found.\n",
      "Warning: Mandatory edge '510193680' not reachable by vehicle 'h12_5992'.\n",
      "Warning: The vehicle 'h12_5992' has no valid route.\n"
     ]
    },
    {
     "name": "stdout",
     "output_type": "stream",
     "text": [
      "Reading up to time step: 44601.15\r"
     ]
    },
    {
     "name": "stderr",
     "output_type": "stream",
     "text": [
      "Warning: No connection between edge '1367068984' and edge '384165518' found.\n",
      "Warning: Mandatory edge '384165518' not reachable by vehicle 'h12_6344'.\n",
      "Warning: The vehicle 'h12_6344' has no valid route.\n",
      "Warning: No connection between edge '-181438572#0' and edge '-767313243' found.\n",
      "Warning: Mandatory edge '-767313243' not reachable by vehicle 'h12_6464'.\n",
      "Warning: The vehicle 'h12_6464' has no valid route.\n"
     ]
    },
    {
     "name": "stdout",
     "output_type": "stream",
     "text": [
      "Reading up to time step: 44801.15\r"
     ]
    },
    {
     "name": "stderr",
     "output_type": "stream",
     "text": [
      "Warning: No connection between edge '479011160#3' and edge '-30281188#2' found.\n",
      "Warning: Mandatory edge '-30281188#2' not reachable by vehicle 'h12_6654'.\n",
      "Warning: The vehicle 'h12_6654' has no valid route.\n",
      "Warning: No connection between edge '-1225462741' and edge '62023730' found.\n",
      "Warning: Mandatory edge '62023730' not reachable by vehicle 'h12_7089'.\n",
      "Warning: The vehicle 'h12_7089' has no valid route.\n",
      "Warning: No connection between edge '382013249' and edge '-378355994#2' found.\n",
      "Warning: Mandatory edge '-378355994#2' not reachable by vehicle 'h12_7151'.\n",
      "Warning: The vehicle 'h12_7151' has no valid route.\n",
      "Warning: No connection between edge '-30281456#1' and edge '-144160557#2' found.\n",
      "Warning: Mandatory edge '-144160557#2' not reachable by vehicle 'h12_7289'.\n",
      "Warning: The vehicle 'h12_7289' has no valid route.\n",
      "Warning: No connection between edge '150925676' and edge '-87615629#1' found.\n",
      "Warning: Mandatory edge '-87615629#1' not reachable by vehicle 'h12_7298'.\n",
      "Warning: The vehicle 'h12_7298' has no valid route.\n"
     ]
    },
    {
     "name": "stdout",
     "output_type": "stream",
     "text": [
      "Reading up to time step: 45001.15\r"
     ]
    },
    {
     "name": "stderr",
     "output_type": "stream",
     "text": [
      "Warning: No connection between edge '124060633#1' and edge '112885008#1' found.\n",
      "Warning: Mandatory edge '112885008#1' not reachable by vehicle 'h12_7796'.\n",
      "Warning: The vehicle 'h12_7796' has no valid route.\n",
      "Warning: No connection between edge '124060638#5' and edge '24257390' found.\n",
      "Warning: Mandatory edge '24257390' not reachable by vehicle 'h12_8224'.\n",
      "Warning: The vehicle 'h12_8224' has no valid route.\n"
     ]
    },
    {
     "name": "stdout",
     "output_type": "stream",
     "text": [
      "Reading up to time step: 45201.15\r"
     ]
    },
    {
     "name": "stderr",
     "output_type": "stream",
     "text": [
      "Warning: No connection between edge '252288332#2' and edge '167692614#0' found.\n",
      "Warning: Mandatory edge '167692614#0' not reachable by vehicle 'h12_8986'.\n",
      "Warning: The vehicle 'h12_8986' has no valid route.\n",
      "Warning: No connection between edge '122372754' and edge '1327577313#0' found.\n",
      "Warning: Mandatory edge '1327577313#0' not reachable by vehicle 'h12_9268'.\n",
      "Warning: The vehicle 'h12_9268' has no valid route.\n",
      "Warning: No connection between edge '6310227' and edge '510193665' found.\n",
      "Warning: Mandatory edge '510193665' not reachable by vehicle 'h12_9572'.\n",
      "Warning: The vehicle 'h12_9572' has no valid route.\n"
     ]
    },
    {
     "name": "stdout",
     "output_type": "stream",
     "text": [
      "Reading up to time step: 45401.15\r"
     ]
    },
    {
     "name": "stderr",
     "output_type": "stream",
     "text": [
      "Warning: No connection between edge '74128330#1' and edge '-71570214#0' found.\n",
      "Warning: Mandatory edge '-71570214#0' not reachable by vehicle 'h12_10018'.\n",
      "Warning: The vehicle 'h12_10018' has no valid route.\n",
      "Warning: No connection between edge '780562172' and edge '-138611175#0' found.\n",
      "Warning: Mandatory edge '-138611175#0' not reachable by vehicle 'h12_10193'.\n",
      "Warning: The vehicle 'h12_10193' has no valid route.\n"
     ]
    },
    {
     "name": "stdout",
     "output_type": "stream",
     "text": [
      "Reading up to time step: 45601.15\r"
     ]
    },
    {
     "name": "stderr",
     "output_type": "stream",
     "text": [
      "Warning: No connection between edge '-235503763#2' and edge '510193680' found.\n",
      "Warning: Mandatory edge '510193680' not reachable by vehicle 'h12_10789'.\n",
      "Warning: The vehicle 'h12_10789' has no valid route.\n"
     ]
    },
    {
     "name": "stdout",
     "output_type": "stream",
     "text": [
      "Reading up to time step: 45801.15\r"
     ]
    },
    {
     "name": "stderr",
     "output_type": "stream",
     "text": [
      "Warning: No connection between edge '74128330#1' and edge '101975850' found.\n",
      "Warning: Mandatory edge '101975850' not reachable by vehicle 'h12_11383'.\n",
      "Warning: The vehicle 'h12_11383' has no valid route.\n",
      "Warning: No connection between edge '98338686' and edge '40812086#6' found.\n",
      "Warning: Mandatory edge '40812086#6' not reachable by vehicle 'h12_17469'.\n",
      "Warning: The vehicle 'h12_17469' has no valid route.\n",
      "Warning: No connection between edge '28117591#5' and edge '384368910#0' found.\n",
      "Warning: Mandatory edge '384368910#0' not reachable by vehicle 'h12_11805'.\n",
      "Warning: The vehicle 'h12_11805' has no valid route.\n",
      "Warning: No connection between edge '-281308645' and edge '151651290' found.\n",
      "Warning: Mandatory edge '151651290' not reachable by vehicle 'h12_12044'.\n",
      "Warning: The vehicle 'h12_12044' has no valid route.\n"
     ]
    },
    {
     "name": "stdout",
     "output_type": "stream",
     "text": [
      "Reading up to time step: 46001.15\r"
     ]
    },
    {
     "name": "stderr",
     "output_type": "stream",
     "text": [
      "Warning: No connection between edge '-234295074' and edge '510193650#6' found.\n",
      "Warning: Mandatory edge '510193650#6' not reachable by vehicle 'h12_12830'.\n",
      "Warning: The vehicle 'h12_12830' has no valid route.\n",
      "Warning: No connection between edge '82286890' and edge '128615660#0' found.\n",
      "Warning: Mandatory edge '128615660#0' not reachable by vehicle 'h12_12852'.\n",
      "Warning: The vehicle 'h12_12852' has no valid route.\n",
      "Warning: No connection between edge '435197332#0' and edge '62023730' found.\n",
      "Warning: Mandatory edge '62023730' not reachable by vehicle 'h12_13162'.\n",
      "Warning: The vehicle 'h12_13162' has no valid route.\n",
      "Warning: No connection between edge '-64052187' and edge '-112885002#1' found.\n",
      "Warning: Mandatory edge '-112885002#1' not reachable by vehicle 'h12_13166'.\n",
      "Warning: The vehicle 'h12_13166' has no valid route.\n"
     ]
    },
    {
     "name": "stdout",
     "output_type": "stream",
     "text": [
      "Reading up to time step: 46201.15\r"
     ]
    },
    {
     "name": "stderr",
     "output_type": "stream",
     "text": [
      "Warning: No connection between edge '54357748#2' and edge '161432888' found.\n",
      "Warning: Mandatory edge '161432888' not reachable by vehicle 'h12_13262'.\n",
      "Warning: The vehicle 'h12_13262' has no valid route.\n",
      "Warning: No connection between edge '925261618' and edge '49263619#0' found.\n",
      "Warning: Mandatory edge '49263619#0' not reachable by vehicle 'h12_13329'.\n",
      "Warning: The vehicle 'h12_13329' has no valid route.\n",
      "Warning: No connection between edge '780562172' and edge '27709708#0' found.\n",
      "Warning: Mandatory edge '27709708#0' not reachable by vehicle 'h12_17210'.\n",
      "Warning: The vehicle 'h12_17210' has no valid route.\n"
     ]
    },
    {
     "name": "stdout",
     "output_type": "stream",
     "text": [
      "Reading up to time step: 46401.15\r"
     ]
    },
    {
     "name": "stderr",
     "output_type": "stream",
     "text": [
      "Warning: No connection between edge '1203882727#1' and edge '-71897757#2' found.\n",
      "Warning: Mandatory edge '-71897757#2' not reachable by vehicle 'h12_14996'.\n",
      "Warning: The vehicle 'h12_14996' has no valid route.\n"
     ]
    },
    {
     "name": "stdout",
     "output_type": "stream",
     "text": [
      "Reading up to time step: 46601.15\r"
     ]
    },
    {
     "name": "stderr",
     "output_type": "stream",
     "text": [
      "Warning: No connection between edge '6311875#2' and edge '1367068983' found.\n",
      "Warning: Mandatory edge '1367068983' not reachable by vehicle 'h12_15154'.\n",
      "Warning: The vehicle 'h12_15154' has no valid route.\n",
      "Warning: No connection between edge '46999160#4' and edge '899788867' found.\n",
      "Warning: Mandatory edge '899788867' not reachable by vehicle 'h12_17528'.\n",
      "Warning: The vehicle 'h12_17528' has no valid route.\n",
      "Warning: No connection between edge '-64095976#1' and edge '367820007' found.\n",
      "Warning: Mandatory edge '367820007' not reachable by vehicle 'h12_15243'.\n",
      "Warning: The vehicle 'h12_15243' has no valid route.\n",
      "Warning: No connection between edge '-192984470' and edge '510193664' found.\n",
      "Warning: Mandatory edge '510193664' not reachable by vehicle 'h12_15713'.\n",
      "Warning: The vehicle 'h12_15713' has no valid route.\n",
      "Warning: No connection between edge '-191684332' and edge '510193650#2' found.\n",
      "Warning: Mandatory edge '510193650#2' not reachable by vehicle 'h12_15722'.\n",
      "Warning: The vehicle 'h12_15722' has no valid route.\n",
      "Warning: No connection between edge '-688357782#1' and edge '-591914411#1' found.\n",
      "Warning: Mandatory edge '-591914411#1' not reachable by vehicle 'h12_15740'.\n",
      "Warning: The vehicle 'h12_15740' has no valid route.\n",
      "Warning: No connection between edge '-28117103#2' and edge '144160547' found.\n",
      "Warning: Mandatory edge '144160547' not reachable by vehicle 'h12_15836'.\n",
      "Warning: The vehicle 'h12_15836' has no valid route.\n",
      "Warning: No connection between edge '-368494150#1' and edge '666070226#0' found.\n",
      "Warning: Mandatory edge '666070226#0' not reachable by vehicle 'h12_15855'.\n",
      "Warning: The vehicle 'h12_15855' has no valid route.\n",
      "Warning: No connection between edge '397223642#3' and edge '144160547' found.\n",
      "Warning: Mandatory edge '144160547' not reachable by vehicle 'h12_15918'.\n",
      "Warning: The vehicle 'h12_15918' has no valid route.\n",
      "Warning: No connection between edge '82285313#0' and edge '510193669' found.\n",
      "Warning: Mandatory edge '510193669' not reachable by vehicle 'h12_16003'.\n",
      "Warning: The vehicle 'h12_16003' has no valid route.\n"
     ]
    },
    {
     "name": "stdout",
     "output_type": "stream",
     "text": [
      "Reading up to time step: 46801.15\r"
     ]
    },
    {
     "name": "stderr",
     "output_type": "stream",
     "text": [
      "Warning: No connection between edge '780562172' and edge '1367068968' found.\n",
      "Warning: Mandatory edge '1367068968' not reachable by vehicle 'h12_16513'.\n",
      "Warning: The vehicle 'h12_16513' has no valid route.\n",
      "Warning: No connection between edge '-254993176#2' and edge '1367068983' found.\n",
      "Warning: Mandatory edge '1367068983' not reachable by vehicle 'h12_19200'.\n",
      "Warning: The vehicle 'h12_19200' has no valid route.\n",
      "Warning: No connection between edge '63680607' and edge '62023730' found.\n",
      "Warning: Mandatory edge '62023730' not reachable by vehicle 'h13_279'.\n",
      "Warning: The vehicle 'h13_279' has no valid route.\n",
      "Warning: No connection between edge '665644278' and edge '187069050#1' found.\n",
      "Warning: Mandatory edge '187069050#1' not reachable by vehicle 'h13_284'.\n",
      "Warning: The vehicle 'h13_284' has no valid route.\n"
     ]
    },
    {
     "name": "stdout",
     "output_type": "stream",
     "text": [
      "Reading up to time step: 47001.15\r"
     ]
    },
    {
     "name": "stderr",
     "output_type": "stream",
     "text": [
      "Warning: No connection between edge '122372754' and edge '456791584#1' found.\n",
      "Warning: Mandatory edge '456791584#1' not reachable by vehicle 'h13_311'.\n",
      "Warning: The vehicle 'h13_311' has no valid route.\n",
      "Warning: No connection between edge '156398864' and edge '71587993' found.\n",
      "Warning: Mandatory edge '71587993' not reachable by vehicle 'h13_676'.\n",
      "Warning: The vehicle 'h13_676' has no valid route.\n",
      "Warning: No connection between edge '426189107' and edge '142428191' found.\n",
      "Warning: Mandatory edge '142428191' not reachable by vehicle 'h13_993'.\n",
      "Warning: The vehicle 'h13_993' has no valid route.\n"
     ]
    },
    {
     "name": "stdout",
     "output_type": "stream",
     "text": [
      "Reading up to time step: 47401.15\r"
     ]
    },
    {
     "name": "stderr",
     "output_type": "stream",
     "text": [
      "Warning: No connection between edge '1308456867#0' and edge '143957427' found.\n",
      "Warning: Mandatory edge '143957427' not reachable by vehicle 'h13_1851'.\n",
      "Warning: The vehicle 'h13_1851' has no valid route.\n",
      "Warning: No connection between edge '-140499119#1' and edge '510193650#2' found.\n",
      "Warning: Mandatory edge '510193650#2' not reachable by vehicle 'h13_1936'.\n",
      "Warning: The vehicle 'h13_1936' has no valid route.\n",
      "Warning: No connection between edge '138611182#0' and edge '1200615233' found.\n",
      "Warning: Mandatory edge '1200615233' not reachable by vehicle 'h13_2408'.\n",
      "Warning: The vehicle 'h13_2408' has no valid route.\n",
      "Warning: No connection between edge '-65561801' and edge '144160557#0' found.\n",
      "Warning: Mandatory edge '144160557#0' not reachable by vehicle 'h13_2454'.\n",
      "Warning: The vehicle 'h13_2454' has no valid route.\n",
      "Warning: No connection between edge '-168765531' and edge '510193680' found.\n",
      "Warning: Mandatory edge '510193680' not reachable by vehicle 'h13_2791'.\n",
      "Warning: The vehicle 'h13_2791' has no valid route.\n"
     ]
    },
    {
     "name": "stdout",
     "output_type": "stream",
     "text": [
      "Reading up to time step: 47601.15\r"
     ]
    },
    {
     "name": "stderr",
     "output_type": "stream",
     "text": [
      "Warning: No connection between edge '969310182' and edge '386307421#1' found.\n",
      "Warning: Mandatory edge '386307421#1' not reachable by vehicle 'h13_2839'.\n",
      "Warning: The vehicle 'h13_2839' has no valid route.\n",
      "Warning: No connection between edge '-34210897' and edge '188649571' found.\n",
      "Warning: Mandatory edge '188649571' not reachable by vehicle 'h13_3137'.\n",
      "Warning: The vehicle 'h13_3137' has no valid route.\n",
      "Warning: No connection between edge '-267380858#0' and edge '62023740' found.\n",
      "Warning: Mandatory edge '62023740' not reachable by vehicle 'h13_3147'.\n",
      "Warning: The vehicle 'h13_3147' has no valid route.\n",
      "Warning: No connection between edge '122372754' and edge '96719631' found.\n",
      "Warning: Mandatory edge '96719631' not reachable by vehicle 'h13_3149'.\n",
      "Warning: The vehicle 'h13_3149' has no valid route.\n",
      "Warning: No connection between edge '780562172' and edge '456191607' found.\n",
      "Warning: Mandatory edge '456191607' not reachable by vehicle 'h13_3250'.\n",
      "Warning: The vehicle 'h13_3250' has no valid route.\n"
     ]
    },
    {
     "name": "stdout",
     "output_type": "stream",
     "text": [
      "Reading up to time step: 47801.15\r"
     ]
    },
    {
     "name": "stderr",
     "output_type": "stream",
     "text": [
      "Warning: No connection between edge '54357709' and edge '62023728#1' found.\n",
      "Warning: Mandatory edge '62023728#1' not reachable by vehicle 'h13_3788'.\n",
      "Warning: The vehicle 'h13_3788' has no valid route.\n",
      "Warning: No connection between edge '24257971#7' and edge '-143962123#0' found.\n",
      "Warning: Mandatory edge '-143962123#0' not reachable by vehicle 'h13_3848'.\n",
      "Warning: The vehicle 'h13_3848' has no valid route.\n",
      "Warning: No connection between edge '150925674' and edge '-675594563' found.\n",
      "Warning: Mandatory edge '-675594563' not reachable by vehicle 'h13_3858'.\n",
      "Warning: The vehicle 'h13_3858' has no valid route.\n",
      "Warning: No connection between edge '1084265684' and edge '143962123#2' found.\n",
      "Warning: Mandatory edge '143962123#2' not reachable by vehicle 'h13_4541'.\n",
      "Warning: The vehicle 'h13_4541' has no valid route.\n",
      "Warning: No connection between edge '98338686' and edge '53347777#0' found.\n",
      "Warning: Mandatory edge '53347777#0' not reachable by vehicle 'h13_4724'.\n",
      "Warning: The vehicle 'h13_4724' has no valid route.\n"
     ]
    },
    {
     "name": "stdout",
     "output_type": "stream",
     "text": [
      "Reading up to time step: 48001.15\r"
     ]
    },
    {
     "name": "stderr",
     "output_type": "stream",
     "text": [
      "Warning: No connection between edge '6311563#4' and edge '263520769#0' found.\n",
      "Warning: Mandatory edge '263520769#0' not reachable by vehicle 'h13_4863'.\n",
      "Warning: The vehicle 'h13_4863' has no valid route.\n",
      "Warning: No connection between edge '-1317384835#6' and edge '1367068983' found.\n",
      "Warning: Mandatory edge '1367068983' not reachable by vehicle 'h13_5324'.\n",
      "Warning: The vehicle 'h13_5324' has no valid route.\n",
      "Warning: No connection between edge '1332793122' and edge '625557815#0' found.\n",
      "Warning: Mandatory edge '625557815#0' not reachable by vehicle 'h13_5428'.\n",
      "Warning: The vehicle 'h13_5428' has no valid route.\n"
     ]
    },
    {
     "name": "stdout",
     "output_type": "stream",
     "text": [
      "Reading up to time step: 48201.15\r"
     ]
    },
    {
     "name": "stderr",
     "output_type": "stream",
     "text": [
      "Warning: No connection between edge '326375317' and edge '156398858' found.\n",
      "Warning: Mandatory edge '156398858' not reachable by vehicle 'h13_5552'.\n",
      "Warning: The vehicle 'h13_5552' has no valid route.\n",
      "Warning: No connection between edge '-361589176#1' and edge '-112885002#0' found.\n",
      "Warning: Mandatory edge '-112885002#0' not reachable by vehicle 'h13_6380'.\n",
      "Warning: The vehicle 'h13_6380' has no valid route.\n",
      "Warning: No connection between edge '493061137' and edge '-47072535#0' found.\n",
      "Warning: Mandatory edge '-47072535#0' not reachable by vehicle 'h13_6397'.\n",
      "Warning: The vehicle 'h13_6397' has no valid route.\n",
      "Warning: No connection between edge '-1243212449#1' and edge '510193650#3' found.\n",
      "Warning: Mandatory edge '510193650#3' not reachable by vehicle 'h13_7300'.\n",
      "Warning: The vehicle 'h13_7300' has no valid route.\n"
     ]
    },
    {
     "name": "stdout",
     "output_type": "stream",
     "text": [
      "Reading up to time step: 48401.15\r"
     ]
    },
    {
     "name": "stderr",
     "output_type": "stream",
     "text": [
      "Warning: No connection between edge '-150283099#0' and edge '-143962123#0' found.\n",
      "Warning: Mandatory edge '-143962123#0' not reachable by vehicle 'h13_7441'.\n",
      "Warning: The vehicle 'h13_7441' has no valid route.\n"
     ]
    },
    {
     "name": "stdout",
     "output_type": "stream",
     "text": [
      "Reading up to time step: 48601.15\r"
     ]
    },
    {
     "name": "stderr",
     "output_type": "stream",
     "text": [
      "Warning: No connection between edge '-1029161627#1' and edge '666070226#0' found.\n",
      "Warning: Mandatory edge '666070226#0' not reachable by vehicle 'h13_17813'.\n",
      "Warning: The vehicle 'h13_17813' has no valid route.\n",
      "Warning: No connection between edge '1332793122' and edge '120926553#3' found.\n",
      "Warning: Mandatory edge '120926553#3' not reachable by vehicle 'h13_8007'.\n",
      "Warning: The vehicle 'h13_8007' has no valid route.\n",
      "Warning: No connection between edge '925261618' and edge '247667818#0' found.\n",
      "Warning: Mandatory edge '247667818#0' not reachable by vehicle 'h13_8068'.\n",
      "Warning: The vehicle 'h13_8068' has no valid route.\n",
      "Warning: No connection between edge '1332793122' and edge '-715378685#1' found.\n",
      "Warning: Mandatory edge '-715378685#1' not reachable by vehicle 'h13_8255'.\n",
      "Warning: The vehicle 'h13_8255' has no valid route.\n",
      "Warning: No connection between edge '1342182233' and edge '62023728#0' found.\n",
      "Warning: Mandatory edge '62023728#0' not reachable by vehicle 'h13_8515'.\n",
      "Warning: The vehicle 'h13_8515' has no valid route.\n"
     ]
    },
    {
     "name": "stdout",
     "output_type": "stream",
     "text": [
      "Reading up to time step: 48801.15\r"
     ]
    },
    {
     "name": "stderr",
     "output_type": "stream",
     "text": [
      "Warning: No connection between edge '74128330#1' and edge '126341536' found.\n",
      "Warning: Mandatory edge '126341536' not reachable by vehicle 'h13_9024'.\n",
      "Warning: The vehicle 'h13_9024' has no valid route.\n",
      "Warning: No connection between edge '165280741#2' and edge '-62023730' found.\n",
      "Warning: Mandatory edge '-62023730' not reachable by vehicle 'h13_9046'.\n",
      "Warning: The vehicle 'h13_9046' has no valid route.\n",
      "Warning: No connection between edge '-173073438' and edge '62023728#1' found.\n",
      "Warning: Mandatory edge '62023728#1' not reachable by vehicle 'h13_9177'.\n",
      "Warning: The vehicle 'h13_9177' has no valid route.\n"
     ]
    },
    {
     "name": "stdout",
     "output_type": "stream",
     "text": [
      "Reading up to time step: 49001.15\r"
     ]
    },
    {
     "name": "stderr",
     "output_type": "stream",
     "text": [
      "Warning: No connection between edge '1203882727#1' and edge '-24257548' found.\n",
      "Warning: Mandatory edge '-24257548' not reachable by vehicle 'h13_9219'.\n",
      "Warning: The vehicle 'h13_9219' has no valid route.\n",
      "Warning: No connection between edge '446955267' and edge '24580089#3' found.\n",
      "Warning: Mandatory edge '24580089#3' not reachable by vehicle 'h13_9662'.\n",
      "Warning: The vehicle 'h13_9662' has no valid route.\n"
     ]
    },
    {
     "name": "stdout",
     "output_type": "stream",
     "text": [
      "Reading up to time step: 49201.15\r"
     ]
    },
    {
     "name": "stderr",
     "output_type": "stream",
     "text": [
      "Warning: No connection between edge '124060638#4' and edge '1058950895#2' found.\n",
      "Warning: Mandatory edge '1058950895#2' not reachable by vehicle 'h13_10121'.\n",
      "Warning: The vehicle 'h13_10121' has no valid route.\n",
      "Warning: No connection between edge '-139292035' and edge '144160557#2' found.\n",
      "Warning: Mandatory edge '144160557#2' not reachable by vehicle 'h13_18364'.\n",
      "Warning: The vehicle 'h13_18364' has no valid route.\n",
      "Warning: No connection between edge '-158422797#0' and edge '783551598' found.\n",
      "Warning: Mandatory edge '783551598' not reachable by vehicle 'h13_10446'.\n",
      "Warning: The vehicle 'h13_10446' has no valid route.\n",
      "Warning: No connection between edge '-185992832#0' and edge '-144160557#0' found.\n",
      "Warning: Mandatory edge '-144160557#0' not reachable by vehicle 'h13_10464'.\n",
      "Warning: The vehicle 'h13_10464' has no valid route.\n",
      "Warning: No connection between edge '780562172' and edge '508513585#0' found.\n",
      "Warning: Mandatory edge '508513585#0' not reachable by vehicle 'h13_10698'.\n",
      "Warning: The vehicle 'h13_10698' has no valid route.\n",
      "Warning: No connection between edge '-126761240#0' and edge '167692614#0' found.\n",
      "Warning: Mandatory edge '167692614#0' not reachable by vehicle 'h13_10950'.\n",
      "Warning: The vehicle 'h13_10950' has no valid route.\n"
     ]
    },
    {
     "name": "stdout",
     "output_type": "stream",
     "text": [
      "Reading up to time step: 49401.15\r"
     ]
    },
    {
     "name": "stderr",
     "output_type": "stream",
     "text": [
      "Warning: No connection between edge '69038860' and edge '-112885002#0' found.\n",
      "Warning: Mandatory edge '-112885002#0' not reachable by vehicle 'h13_11333'.\n",
      "Warning: The vehicle 'h13_11333' has no valid route.\n",
      "Warning: No connection between edge '493061137' and edge '125361370#0' found.\n",
      "Warning: Mandatory edge '125361370#0' not reachable by vehicle 'h13_11544'.\n",
      "Warning: The vehicle 'h13_11544' has no valid route.\n",
      "Warning: No connection between edge '150925674' and edge '430846406' found.\n",
      "Warning: Mandatory edge '430846406' not reachable by vehicle 'h13_11755'.\n",
      "Warning: The vehicle 'h13_11755' has no valid route.\n",
      "Warning: No connection between edge '406234517#0' and edge '430433430#1' found.\n",
      "Warning: Mandatory edge '430433430#1' not reachable by vehicle 'h13_11809'.\n",
      "Warning: The vehicle 'h13_11809' has no valid route.\n"
     ]
    },
    {
     "name": "stdout",
     "output_type": "stream",
     "text": [
      "Reading up to time step: 49601.15\r"
     ]
    },
    {
     "name": "stderr",
     "output_type": "stream",
     "text": [
      "Warning: No connection between edge '-53334001#1' and edge '112885002#0' found.\n",
      "Warning: Mandatory edge '112885002#0' not reachable by vehicle 'h13_11950'.\n",
      "Warning: The vehicle 'h13_11950' has no valid route.\n",
      "Warning: No connection between edge '176496484' and edge '-367820004' found.\n",
      "Warning: Mandatory edge '-367820004' not reachable by vehicle 'h13_12253'.\n",
      "Warning: The vehicle 'h13_12253' has no valid route.\n",
      "Warning: No connection between edge '74128330#1' and edge '430870276#0' found.\n",
      "Warning: Mandatory edge '430870276#0' not reachable by vehicle 'h13_12377'.\n",
      "Warning: The vehicle 'h13_12377' has no valid route.\n",
      "Warning: No connection between edge '446955267' and edge '27184364#1' found.\n",
      "Warning: Mandatory edge '27184364#1' not reachable by vehicle 'h13_16762'.\n",
      "Warning: The vehicle 'h13_16762' has no valid route.\n",
      "Warning: No connection between edge '170241030#0' and edge '510193664' found.\n",
      "Warning: Mandatory edge '510193664' not reachable by vehicle 'h13_12585'.\n",
      "Warning: The vehicle 'h13_12585' has no valid route.\n",
      "Warning: No connection between edge '162543666' and edge '-144160557#2' found.\n",
      "Warning: Mandatory edge '-144160557#2' not reachable by vehicle 'h13_12758'.\n",
      "Warning: The vehicle 'h13_12758' has no valid route.\n"
     ]
    },
    {
     "name": "stdout",
     "output_type": "stream",
     "text": [
      "Reading up to time step: 49801.15\r"
     ]
    },
    {
     "name": "stderr",
     "output_type": "stream",
     "text": [
      "Warning: No connection between edge '-115868174#4' and edge '62023730' found.\n",
      "Warning: Mandatory edge '62023730' not reachable by vehicle 'h13_12947'.\n",
      "Warning: The vehicle 'h13_12947' has no valid route.\n"
     ]
    },
    {
     "name": "stdout",
     "output_type": "stream",
     "text": [
      "Reading up to time step: 50001.15\r"
     ]
    },
    {
     "name": "stderr",
     "output_type": "stream",
     "text": [
      "Warning: No connection between edge '-66654881#4' and edge '1200615233' found.\n",
      "Warning: Mandatory edge '1200615233' not reachable by vehicle 'h13_13848'.\n",
      "Warning: The vehicle 'h13_13848' has no valid route.\n",
      "Warning: No connection between edge '125483132' and edge '-367820007' found.\n",
      "Warning: Mandatory edge '-367820007' not reachable by vehicle 'h13_14106'.\n",
      "Warning: The vehicle 'h13_14106' has no valid route.\n",
      "Warning: No connection between edge '539685969' and edge '143962123#2' found.\n",
      "Warning: Mandatory edge '143962123#2' not reachable by vehicle 'h13_14259'.\n",
      "Warning: The vehicle 'h13_14259' has no valid route.\n",
      "Warning: No connection between edge '-105244977#1' and edge '143847949' found.\n",
      "Warning: Mandatory edge '143847949' not reachable by vehicle 'h13_18383'.\n",
      "Warning: The vehicle 'h13_18383' has no valid route.\n",
      "Warning: No connection between edge '-425204406' and edge '62023730' found.\n",
      "Warning: Mandatory edge '62023730' not reachable by vehicle 'h13_18677'.\n",
      "Warning: The vehicle 'h13_18677' has no valid route.\n",
      "Warning: No connection between edge '-150283181' and edge '510193650#5' found.\n",
      "Warning: Mandatory edge '510193650#5' not reachable by vehicle 'h13_14614'.\n",
      "Warning: The vehicle 'h13_14614' has no valid route.\n",
      "Warning: No connection between edge '98338686' and edge '27769969' found.\n",
      "Warning: Mandatory edge '27769969' not reachable by vehicle 'h13_15515'.\n",
      "Warning: The vehicle 'h13_15515' has no valid route.\n"
     ]
    },
    {
     "name": "stdout",
     "output_type": "stream",
     "text": [
      "Reading up to time step: 50201.15\r"
     ]
    },
    {
     "name": "stderr",
     "output_type": "stream",
     "text": [
      "Warning: No connection between edge '688357782#1' and edge '434796757' found.\n",
      "Warning: Mandatory edge '434796757' not reachable by vehicle 'h13_15856'.\n",
      "Warning: The vehicle 'h13_15856' has no valid route.\n"
     ]
    },
    {
     "name": "stdout",
     "output_type": "stream",
     "text": [
      "Reading up to time step: 50401.15\r"
     ]
    },
    {
     "name": "stderr",
     "output_type": "stream",
     "text": [
      "Warning: No connection between edge '-533323501' and edge '-383076320' found.\n",
      "Warning: Mandatory edge '-383076320' not reachable by vehicle 'h13_15947'.\n",
      "Warning: The vehicle 'h13_15947' has no valid route.\n",
      "Warning: No connection between edge '150283067' and edge '1367068968' found.\n",
      "Warning: Mandatory edge '1367068968' not reachable by vehicle 'h13_16039'.\n",
      "Warning: The vehicle 'h13_16039' has no valid route.\n",
      "Warning: No connection between edge '150925676' and edge '27769994#0' found.\n",
      "Warning: Mandatory edge '27769994#0' not reachable by vehicle 'h13_16398'.\n",
      "Warning: The vehicle 'h13_16398' has no valid route.\n",
      "Warning: No connection between edge '53253238' and edge '510193650#5' found.\n",
      "Warning: Mandatory edge '510193650#5' not reachable by vehicle 'h13_16440'.\n",
      "Warning: The vehicle 'h13_16440' has no valid route.\n",
      "Warning: No connection between edge '142427849#0' and edge '-62023740' found.\n",
      "Warning: Mandatory edge '-62023740' not reachable by vehicle 'h14_702'.\n",
      "Warning: The vehicle 'h14_702' has no valid route.\n"
     ]
    },
    {
     "name": "stdout",
     "output_type": "stream",
     "text": [
      "Reading up to time step: 50801.15\r"
     ]
    },
    {
     "name": "stderr",
     "output_type": "stream",
     "text": [
      "Warning: No connection between edge '54357709' and edge '889503609' found.\n",
      "Warning: Mandatory edge '889503609' not reachable by vehicle 'h14_939'.\n",
      "Warning: The vehicle 'h14_939' has no valid route.\n",
      "Warning: No connection between edge '1308456867#0' and edge '684944492#2' found.\n",
      "Warning: Mandatory edge '684944492#2' not reachable by vehicle 'h14_1286'.\n",
      "Warning: The vehicle 'h14_1286' has no valid route.\n",
      "Warning: No connection between edge '124060638#5' and edge '71572300#5' found.\n",
      "Warning: Mandatory edge '71572300#5' not reachable by vehicle 'h14_1384'.\n",
      "Warning: The vehicle 'h14_1384' has no valid route.\n",
      "Warning: No connection between edge '1203882727#1' and edge '35155961' found.\n",
      "Warning: Mandatory edge '35155961' not reachable by vehicle 'h14_1390'.\n",
      "Warning: The vehicle 'h14_1390' has no valid route.\n",
      "Warning: No connection between edge '1356954327' and edge '112781635#1' found.\n",
      "Warning: Mandatory edge '112781635#1' not reachable by vehicle 'h14_1433'.\n",
      "Warning: The vehicle 'h14_1433' has no valid route.\n",
      "Warning: No connection between edge '171948947#5' and edge '62023730' found.\n",
      "Warning: Mandatory edge '62023730' not reachable by vehicle 'h14_1464'.\n",
      "Warning: The vehicle 'h14_1464' has no valid route.\n",
      "Warning: No connection between edge '1249423700' and edge '-166489338#0' found.\n",
      "Warning: Mandatory edge '-166489338#0' not reachable by vehicle 'h14_16754'.\n",
      "Warning: The vehicle 'h14_16754' has no valid route.\n",
      "Warning: No connection between edge '98338686' and edge '-384165517#5' found.\n",
      "Warning: Mandatory edge '-384165517#5' not reachable by vehicle 'h14_1743'.\n",
      "Warning: The vehicle 'h14_1743' has no valid route.\n"
     ]
    },
    {
     "name": "stdout",
     "output_type": "stream",
     "text": [
      "Reading up to time step: 51001.15\r"
     ]
    },
    {
     "name": "stderr",
     "output_type": "stream",
     "text": [
      "Warning: No connection between edge '1203882727#1' and edge '24447539#2' found.\n",
      "Warning: Mandatory edge '24447539#2' not reachable by vehicle 'h14_2078'.\n",
      "Warning: The vehicle 'h14_2078' has no valid route.\n",
      "Warning: No connection between edge '688357782#0' and edge '-366349306#2' found.\n",
      "Warning: Mandatory edge '-366349306#2' not reachable by vehicle 'h14_2182'.\n",
      "Warning: The vehicle 'h14_2182' has no valid route.\n",
      "Warning: No connection between edge '-71896688#3' and edge '-62023728#0' found.\n",
      "Warning: Mandatory edge '-62023728#0' not reachable by vehicle 'h14_2564'.\n",
      "Warning: The vehicle 'h14_2564' has no valid route.\n"
     ]
    },
    {
     "name": "stdout",
     "output_type": "stream",
     "text": [
      "Reading up to time step: 51201.15\r"
     ]
    },
    {
     "name": "stderr",
     "output_type": "stream",
     "text": [
      "Warning: No connection between edge '-543261597#0' and edge '143962123#0' found.\n",
      "Warning: Mandatory edge '143962123#0' not reachable by vehicle 'h14_2956'.\n",
      "Warning: The vehicle 'h14_2956' has no valid route.\n"
     ]
    },
    {
     "name": "stdout",
     "output_type": "stream",
     "text": [
      "Reading up to time step: 51401.15\r"
     ]
    },
    {
     "name": "stderr",
     "output_type": "stream",
     "text": [
      "Warning: No connection between edge '428265271' and edge '-378355994#2' found.\n",
      "Warning: Mandatory edge '-378355994#2' not reachable by vehicle 'h14_3365'.\n",
      "Warning: The vehicle 'h14_3365' has no valid route.\n",
      "Warning: No connection between edge '-112885009#0' and edge '98338692#0' found.\n",
      "Warning: Mandatory edge '98338692#0' not reachable by vehicle 'h14_3390'.\n",
      "Warning: The vehicle 'h14_3390' has no valid route.\n",
      "Warning: No connection between edge '1332793122' and edge '-50345198#0' found.\n",
      "Warning: Mandatory edge '-50345198#0' not reachable by vehicle 'h14_3432'.\n",
      "Warning: The vehicle 'h14_3432' has no valid route.\n",
      "Warning: No connection between edge '28117591#5' and edge '109077584' found.\n",
      "Warning: Mandatory edge '109077584' not reachable by vehicle 'h14_3594'.\n",
      "Warning: The vehicle 'h14_3594' has no valid route.\n",
      "Warning: No connection between edge '-161559872#2' and edge '1367068968' found.\n",
      "Warning: Mandatory edge '1367068968' not reachable by vehicle 'h14_3799'.\n",
      "Warning: The vehicle 'h14_3799' has no valid route.\n",
      "Warning: No connection between edge '-82113749#0' and edge '144160557#2' found.\n",
      "Warning: Mandatory edge '144160557#2' not reachable by vehicle 'h14_3863'.\n",
      "Warning: The vehicle 'h14_3863' has no valid route.\n",
      "Warning: No connection between edge '395442386#0' and edge '510193669' found.\n",
      "Warning: Mandatory edge '510193669' not reachable by vehicle 'h14_4156'.\n",
      "Warning: The vehicle 'h14_4156' has no valid route.\n"
     ]
    },
    {
     "name": "stdout",
     "output_type": "stream",
     "text": [
      "Reading up to time step: 51601.15\r"
     ]
    },
    {
     "name": "stderr",
     "output_type": "stream",
     "text": [
      "Warning: No connection between edge '168559513' and edge '143962120' found.\n",
      "Warning: Mandatory edge '143962120' not reachable by vehicle 'h14_4296'.\n",
      "Warning: The vehicle 'h14_4296' has no valid route.\n",
      "Warning: No connection between edge '158728450#5' and edge '-30281188#2' found.\n",
      "Warning: Mandatory edge '-30281188#2' not reachable by vehicle 'h14_4547'.\n",
      "Warning: The vehicle 'h14_4547' has no valid route.\n",
      "Warning: No connection between edge '156398864' and edge '113578837#1' found.\n",
      "Warning: Mandatory edge '113578837#1' not reachable by vehicle 'h14_4563'.\n",
      "Warning: The vehicle 'h14_4563' has no valid route.\n",
      "Warning: No connection between edge '210190084' and edge '510193650#1' found.\n",
      "Warning: Mandatory edge '510193650#1' not reachable by vehicle 'h14_4803'.\n",
      "Warning: The vehicle 'h14_4803' has no valid route.\n",
      "Warning: No connection between edge '135982421' and edge '367820007' found.\n",
      "Warning: Mandatory edge '367820007' not reachable by vehicle 'h14_5127'.\n",
      "Warning: The vehicle 'h14_5127' has no valid route.\n"
     ]
    },
    {
     "name": "stdout",
     "output_type": "stream",
     "text": [
      "Reading up to time step: 51801.15\r"
     ]
    },
    {
     "name": "stderr",
     "output_type": "stream",
     "text": [
      "Warning: No connection between edge '-436306918#1' and edge '62023728#0' found.\n",
      "Warning: Mandatory edge '62023728#0' not reachable by vehicle 'h14_16922'.\n",
      "Warning: The vehicle 'h14_16922' has no valid route.\n",
      "Warning: No connection between edge '1185097950' and edge '4387061#0' found.\n",
      "Warning: Mandatory edge '4387061#0' not reachable by vehicle 'h14_5635'.\n",
      "Warning: The vehicle 'h14_5635' has no valid route.\n"
     ]
    },
    {
     "name": "stdout",
     "output_type": "stream",
     "text": [
      "Reading up to time step: 52001.15\r"
     ]
    },
    {
     "name": "stderr",
     "output_type": "stream",
     "text": [
      "Warning: No connection between edge '198775308' and edge '112885002#1' found.\n",
      "Warning: Mandatory edge '112885002#1' not reachable by vehicle 'h14_5999'.\n",
      "Warning: The vehicle 'h14_5999' has no valid route.\n",
      "Warning: No connection between edge '150925676' and edge '-122670089#1' found.\n",
      "Warning: Mandatory edge '-122670089#1' not reachable by vehicle 'h14_6004'.\n",
      "Warning: The vehicle 'h14_6004' has no valid route.\n",
      "Warning: No connection between edge '793930821' and edge '-144165051#0' found.\n",
      "Warning: Mandatory edge '-144165051#0' not reachable by vehicle 'h14_6070'.\n",
      "Warning: The vehicle 'h14_6070' has no valid route.\n",
      "Warning: No connection between edge '103268024' and edge '88132919#2' found.\n",
      "Warning: Mandatory edge '88132919#2' not reachable by vehicle 'h14_16267'.\n",
      "Warning: The vehicle 'h14_16267' has no valid route.\n",
      "Warning: No connection between edge '124060633#1' and edge '503652969' found.\n",
      "Warning: Mandatory edge '503652969' not reachable by vehicle 'h14_6301'.\n",
      "Warning: The vehicle 'h14_6301' has no valid route.\n",
      "Warning: No connection between edge '41455209#1' and edge '125002721' found.\n",
      "Warning: Mandatory edge '125002721' not reachable by vehicle 'h14_15228'.\n",
      "Warning: The vehicle 'h14_15228' has no valid route.\n",
      "Warning: No connection between edge '-688357782#1' and edge '28292838#1' found.\n",
      "Warning: Mandatory edge '28292838#1' not reachable by vehicle 'h14_15515'.\n",
      "Warning: The vehicle 'h14_15515' has no valid route.\n",
      "Warning: No connection between edge '53538481#3' and edge '-367820007' found.\n",
      "Warning: Mandatory edge '-367820007' not reachable by vehicle 'h14_7117'.\n",
      "Warning: The vehicle 'h14_7117' has no valid route.\n"
     ]
    },
    {
     "name": "stdout",
     "output_type": "stream",
     "text": [
      "Reading up to time step: 52201.15\r"
     ]
    },
    {
     "name": "stderr",
     "output_type": "stream",
     "text": [
      "Warning: No connection between edge '-925261618' and edge '379998122' found.\n",
      "Warning: Mandatory edge '379998122' not reachable by vehicle 'h14_7200'.\n",
      "Warning: The vehicle 'h14_7200' has no valid route.\n",
      "Warning: No connection between edge '225014572' and edge '378355993' found.\n",
      "Warning: Mandatory edge '378355993' not reachable by vehicle 'h14_7286'.\n",
      "Warning: The vehicle 'h14_7286' has no valid route.\n",
      "Warning: No connection between edge '72049676#1' and edge '889503609' found.\n",
      "Warning: Mandatory edge '889503609' not reachable by vehicle 'h14_7416'.\n",
      "Warning: The vehicle 'h14_7416' has no valid route.\n",
      "Warning: No connection between edge '244069529' and edge '386307419' found.\n",
      "Warning: Mandatory edge '386307419' not reachable by vehicle 'h14_7758'.\n",
      "Warning: The vehicle 'h14_7758' has no valid route.\n"
     ]
    },
    {
     "name": "stdout",
     "output_type": "stream",
     "text": [
      "Reading up to time step: 52401.15\r"
     ]
    },
    {
     "name": "stderr",
     "output_type": "stream",
     "text": [
      "Warning: No connection between edge '124060638#6' and edge '-53838549#1' found.\n",
      "Warning: Mandatory edge '-53838549#1' not reachable by vehicle 'h14_7797'.\n",
      "Warning: The vehicle 'h14_7797' has no valid route.\n",
      "Warning: No connection between edge '124060633#0' and edge '1037527479#1' found.\n",
      "Warning: Mandatory edge '1037527479#1' not reachable by vehicle 'h14_7845'.\n",
      "Warning: The vehicle 'h14_7845' has no valid route.\n",
      "Warning: No connection between edge '150925676' and edge '27769659#0' found.\n",
      "Warning: Mandatory edge '27769659#0' not reachable by vehicle 'h14_7951'.\n",
      "Warning: The vehicle 'h14_7951' has no valid route.\n"
     ]
    },
    {
     "name": "stdout",
     "output_type": "stream",
     "text": [
      "Reading up to time step: 52601.15\r"
     ]
    },
    {
     "name": "stderr",
     "output_type": "stream",
     "text": [
      "Warning: No connection between edge '30760864' and edge '510193664' found.\n",
      "Warning: Mandatory edge '510193664' not reachable by vehicle 'h14_16986'.\n",
      "Warning: The vehicle 'h14_16986' has no valid route.\n",
      "Warning: No connection between edge '147914881#1' and edge '383076320' found.\n",
      "Warning: Mandatory edge '383076320' not reachable by vehicle 'h14_8801'.\n",
      "Warning: The vehicle 'h14_8801' has no valid route.\n",
      "Warning: No connection between edge '-456191616#3' and edge '-143962123#1' found.\n",
      "Warning: Mandatory edge '-143962123#1' not reachable by vehicle 'h14_8880'.\n",
      "Warning: The vehicle 'h14_8880' has no valid route.\n",
      "Warning: No connection between edge '-60341931#1' and edge '1159203435#0' found.\n",
      "Warning: Mandatory edge '1159203435#0' not reachable by vehicle 'h14_9008'.\n",
      "Warning: The vehicle 'h14_9008' has no valid route.\n",
      "Warning: No connection between edge '-120922883#3' and edge '446955265' found.\n",
      "Warning: Mandatory edge '446955265' not reachable by vehicle 'h14_9057'.\n",
      "Warning: The vehicle 'h14_9057' has no valid route.\n"
     ]
    },
    {
     "name": "stdout",
     "output_type": "stream",
     "text": [
      "Reading up to time step: 52801.15\r"
     ]
    },
    {
     "name": "stderr",
     "output_type": "stream",
     "text": [
      "Warning: No connection between edge '105258220#2' and edge '27769586#8' found.\n",
      "Warning: Mandatory edge '27769586#8' not reachable by vehicle 'h14_16792'.\n",
      "Warning: The vehicle 'h14_16792' has no valid route.\n",
      "Warning: No connection between edge '-1163065004' and edge '510193669' found.\n",
      "Warning: Mandatory edge '510193669' not reachable by vehicle 'h14_9921'.\n",
      "Warning: The vehicle 'h14_9921' has no valid route.\n"
     ]
    },
    {
     "name": "stdout",
     "output_type": "stream",
     "text": [
      "Reading up to time step: 53001.15\r"
     ]
    },
    {
     "name": "stderr",
     "output_type": "stream",
     "text": [
      "Warning: No connection between edge '-1331092619#0' and edge '378355994#2' found.\n",
      "Warning: Mandatory edge '378355994#2' not reachable by vehicle 'h14_10308'.\n",
      "Warning: The vehicle 'h14_10308' has no valid route.\n",
      "Warning: No connection between edge '108938544' and edge '170985287' found.\n",
      "Warning: Mandatory edge '170985287' not reachable by vehicle 'h14_10690'.\n",
      "Warning: The vehicle 'h14_10690' has no valid route.\n",
      "Warning: No connection between edge '28117591#5' and edge '-99205761#8' found.\n",
      "Warning: Mandatory edge '-99205761#8' not reachable by vehicle 'h14_10695'.\n",
      "Warning: The vehicle 'h14_10695' has no valid route.\n",
      "Warning: No connection between edge '237858843#0' and edge '143962123#2' found.\n",
      "Warning: Mandatory edge '143962123#2' not reachable by vehicle 'h14_17186'.\n",
      "Warning: The vehicle 'h14_17186' has no valid route.\n"
     ]
    },
    {
     "name": "stdout",
     "output_type": "stream",
     "text": [
      "Reading up to time step: 53201.15\r"
     ]
    },
    {
     "name": "stderr",
     "output_type": "stream",
     "text": [
      "Warning: No connection between edge '852385304#0' and edge '367820007' found.\n",
      "Warning: Mandatory edge '367820007' not reachable by vehicle 'h14_11241'.\n",
      "Warning: The vehicle 'h14_11241' has no valid route.\n",
      "Warning: No connection between edge '150925676' and edge '150283131' found.\n",
      "Warning: Mandatory edge '150283131' not reachable by vehicle 'h14_11252'.\n",
      "Warning: The vehicle 'h14_11252' has no valid route.\n",
      "Warning: No connection between edge '39498196' and edge '888174858#0' found.\n",
      "Warning: Mandatory edge '888174858#0' not reachable by vehicle 'h14_11740'.\n",
      "Warning: The vehicle 'h14_11740' has no valid route.\n",
      "Warning: No connection between edge '120865125#15' and edge '-62023730' found.\n",
      "Warning: Mandatory edge '-62023730' not reachable by vehicle 'h14_11832'.\n",
      "Warning: The vehicle 'h14_11832' has no valid route.\n"
     ]
    },
    {
     "name": "stdout",
     "output_type": "stream",
     "text": [
      "Reading up to time step: 53401.15\r"
     ]
    },
    {
     "name": "stderr",
     "output_type": "stream",
     "text": [
      "Warning: No connection between edge '1091788508' and edge '27773720#0' found.\n",
      "Warning: Mandatory edge '27773720#0' not reachable by vehicle 'h14_12047'.\n",
      "Warning: The vehicle 'h14_12047' has no valid route.\n",
      "Warning: No connection between edge '181432522#1' and edge '1060073977' found.\n",
      "Warning: Mandatory edge '1060073977' not reachable by vehicle 'h14_12382'.\n",
      "Warning: The vehicle 'h14_12382' has no valid route.\n",
      "Warning: No connection between edge '387419960' and edge '386307419' found.\n",
      "Warning: Mandatory edge '386307419' not reachable by vehicle 'h14_12621'.\n",
      "Warning: The vehicle 'h14_12621' has no valid route.\n"
     ]
    },
    {
     "name": "stdout",
     "output_type": "stream",
     "text": [
      "Reading up to time step: 53601.15\r"
     ]
    },
    {
     "name": "stderr",
     "output_type": "stream",
     "text": [
      "Warning: No connection between edge '208067691#1' and edge '-62023740' found.\n",
      "Warning: Mandatory edge '-62023740' not reachable by vehicle 'h14_13344'.\n",
      "Warning: The vehicle 'h14_13344' has no valid route.\n",
      "Warning: No connection between edge '232788067#2' and edge '34259727#1' found.\n",
      "Warning: Mandatory edge '34259727#1' not reachable by vehicle 'h14_13399'.\n",
      "Warning: The vehicle 'h14_13399' has no valid route.\n"
     ]
    },
    {
     "name": "stdout",
     "output_type": "stream",
     "text": [
      "Reading up to time step: 53801.15\r"
     ]
    },
    {
     "name": "stderr",
     "output_type": "stream",
     "text": [
      "Warning: No connection between edge '124060633#1' and edge '50438721' found.\n",
      "Warning: Mandatory edge '50438721' not reachable by vehicle 'h14_13466'.\n",
      "Warning: The vehicle 'h14_13466' has no valid route.\n",
      "Warning: No connection between edge '-27773961#2' and edge '510193683' found.\n",
      "Warning: Mandatory edge '510193683' not reachable by vehicle 'h14_13588'.\n",
      "Warning: The vehicle 'h14_13588' has no valid route.\n",
      "Warning: No connection between edge '28667567#0' and edge '281308645' found.\n",
      "Warning: Mandatory edge '281308645' not reachable by vehicle 'h14_13893'.\n",
      "Warning: The vehicle 'h14_13893' has no valid route.\n",
      "Warning: No connection between edge '1356954327' and edge '198925092#2' found.\n",
      "Warning: Mandatory edge '198925092#2' not reachable by vehicle 'h14_16134'.\n",
      "Warning: The vehicle 'h14_16134' has no valid route.\n",
      "Warning: No connection between edge '377796629#2' and edge '-510193683' found.\n",
      "Warning: Mandatory edge '-510193683' not reachable by vehicle 'h14_14602'.\n",
      "Warning: The vehicle 'h14_14602' has no valid route.\n"
     ]
    },
    {
     "name": "stdout",
     "output_type": "stream",
     "text": [
      "Reading up to time step: 54001.15\r"
     ]
    },
    {
     "name": "stderr",
     "output_type": "stream",
     "text": [
      "Warning: No connection between edge '793930821' and edge '-233964769' found.\n",
      "Warning: Mandatory edge '-233964769' not reachable by vehicle 'h14_14640'.\n",
      "Warning: The vehicle 'h14_14640' has no valid route.\n",
      "Warning: No connection between edge '53425047#1' and edge '386307421#0' found.\n",
      "Warning: Mandatory edge '386307421#0' not reachable by vehicle 'h14_14990'.\n",
      "Warning: The vehicle 'h14_14990' has no valid route.\n"
     ]
    },
    {
     "name": "stdout",
     "output_type": "stream",
     "text": [
      "Reading up to time step: 54201.15\r"
     ]
    },
    {
     "name": "stderr",
     "output_type": "stream",
     "text": [
      "Warning: No connection between edge '688357782#1' and edge '700646527#0' found.\n",
      "Warning: Mandatory edge '700646527#0' not reachable by vehicle 'h15_373'.\n",
      "Warning: The vehicle 'h15_373' has no valid route.\n",
      "Warning: No connection between edge '-380634864#0' and edge '-767313243' found.\n",
      "Warning: Mandatory edge '-767313243' not reachable by vehicle 'h15_628'.\n",
      "Warning: The vehicle 'h15_628' has no valid route.\n"
     ]
    },
    {
     "name": "stdout",
     "output_type": "stream",
     "text": [
      "Reading up to time step: 54401.15\r"
     ]
    },
    {
     "name": "stderr",
     "output_type": "stream",
     "text": [
      "Warning: No connection between edge '267199916' and edge '510193665' found.\n",
      "Warning: Mandatory edge '510193665' not reachable by vehicle 'h15_1341'.\n",
      "Warning: The vehicle 'h15_1341' has no valid route.\n",
      "Warning: No connection between edge '114959987#0' and edge '-367820004' found.\n",
      "Warning: Mandatory edge '-367820004' not reachable by vehicle 'h15_1946'.\n",
      "Warning: The vehicle 'h15_1946' has no valid route.\n"
     ]
    },
    {
     "name": "stdout",
     "output_type": "stream",
     "text": [
      "Reading up to time step: 54601.15\r"
     ]
    },
    {
     "name": "stderr",
     "output_type": "stream",
     "text": [
      "Warning: No connection between edge '6309584#3' and edge '-62023740' found.\n",
      "Warning: Mandatory edge '-62023740' not reachable by vehicle 'h15_2043'.\n",
      "Warning: The vehicle 'h15_2043' has no valid route.\n",
      "Warning: No connection between edge '-925261618' and edge '-34961220#14' found.\n",
      "Warning: Mandatory edge '-34961220#14' not reachable by vehicle 'h15_2205'.\n",
      "Warning: The vehicle 'h15_2205' has no valid route.\n"
     ]
    },
    {
     "name": "stdout",
     "output_type": "stream",
     "text": [
      "Reading up to time step: 54801.15\r"
     ]
    },
    {
     "name": "stderr",
     "output_type": "stream",
     "text": [
      "Warning: No connection between edge '925261618' and edge '123752841' found.\n",
      "Warning: Mandatory edge '123752841' not reachable by vehicle 'h15_2536'.\n",
      "Warning: The vehicle 'h15_2536' has no valid route.\n",
      "Warning: No connection between edge '713872941#1' and edge '4387061#0' found.\n",
      "Warning: Mandatory edge '4387061#0' not reachable by vehicle 'h15_2557'.\n",
      "Warning: The vehicle 'h15_2557' has no valid route.\n",
      "Warning: No connection between edge '546099873#0' and edge '888174858#0' found.\n",
      "Warning: Mandatory edge '888174858#0' not reachable by vehicle 'h15_2602'.\n",
      "Warning: The vehicle 'h15_2602' has no valid route.\n"
     ]
    },
    {
     "name": "stdout",
     "output_type": "stream",
     "text": [
      "Reading up to time step: 55001.15\r"
     ]
    },
    {
     "name": "stderr",
     "output_type": "stream",
     "text": [
      "Warning: No connection between edge '-849490027' and edge '510193665' found.\n",
      "Warning: Mandatory edge '510193665' not reachable by vehicle 'h15_3315'.\n",
      "Warning: The vehicle 'h15_3315' has no valid route.\n",
      "Warning: No connection between edge '-281308645' and edge '-256155262#2' found.\n",
      "Warning: Mandatory edge '-256155262#2' not reachable by vehicle 'h15_3528'.\n",
      "Warning: The vehicle 'h15_3528' has no valid route.\n",
      "Warning: No connection between edge '115868239#1' and edge '112885002#0' found.\n",
      "Warning: Mandatory edge '112885002#0' not reachable by vehicle 'h15_3550'.\n",
      "Warning: The vehicle 'h15_3550' has no valid route.\n",
      "Warning: No connection between edge '232788067#2' and edge '-53513814#2' found.\n",
      "Warning: Mandatory edge '-53513814#2' not reachable by vehicle 'h15_3790'.\n",
      "Warning: The vehicle 'h15_3790' has no valid route.\n"
     ]
    },
    {
     "name": "stdout",
     "output_type": "stream",
     "text": [
      "Reading up to time step: 55201.15\r"
     ]
    },
    {
     "name": "stderr",
     "output_type": "stream",
     "text": [
      "Warning: No connection between edge '1356954327' and edge '-768277094' found.\n",
      "Warning: Mandatory edge '-768277094' not reachable by vehicle 'h15_4020'.\n",
      "Warning: The vehicle 'h15_4020' has no valid route.\n",
      "Warning: No connection between edge '146086099#0' and edge '1200615233' found.\n",
      "Warning: Mandatory edge '1200615233' not reachable by vehicle 'h15_4438'.\n",
      "Warning: The vehicle 'h15_4438' has no valid route.\n"
     ]
    },
    {
     "name": "stdout",
     "output_type": "stream",
     "text": [
      "Reading up to time step: 55401.15\r"
     ]
    },
    {
     "name": "stderr",
     "output_type": "stream",
     "text": [
      "Warning: No connection between edge '108938544' and edge '55336885' found.\n",
      "Warning: Mandatory edge '55336885' not reachable by vehicle 'h15_4682'.\n",
      "Warning: The vehicle 'h15_4682' has no valid route.\n",
      "Warning: No connection between edge '1332793122' and edge '-161046736' found.\n",
      "Warning: Mandatory edge '-161046736' not reachable by vehicle 'h15_4704'.\n",
      "Warning: The vehicle 'h15_4704' has no valid route.\n",
      "Warning: No connection between edge '1021453933' and edge '-143962123#1' found.\n",
      "Warning: Mandatory edge '-143962123#1' not reachable by vehicle 'h15_15395'.\n",
      "Warning: The vehicle 'h15_15395' has no valid route.\n",
      "Warning: No connection between edge '185992840' and edge '-144160557#2' found.\n",
      "Warning: Mandatory edge '-144160557#2' not reachable by vehicle 'h15_5211'.\n",
      "Warning: The vehicle 'h15_5211' has no valid route.\n"
     ]
    },
    {
     "name": "stdout",
     "output_type": "stream",
     "text": [
      "Reading up to time step: 55601.15\r"
     ]
    },
    {
     "name": "stderr",
     "output_type": "stream",
     "text": [
      "Warning: No connection between edge '-1339542924' and edge '167692614#0' found.\n",
      "Warning: Mandatory edge '167692614#0' not reachable by vehicle 'h15_15196'.\n",
      "Warning: The vehicle 'h15_15196' has no valid route.\n",
      "Warning: No connection between edge '1091788508' and edge '-241433398#2' found.\n",
      "Warning: Mandatory edge '-241433398#2' not reachable by vehicle 'h15_5615'.\n",
      "Warning: The vehicle 'h15_5615' has no valid route.\n",
      "Warning: No connection between edge '4448365#1' and edge '-42867077#2' found.\n",
      "Warning: Mandatory edge '-42867077#2' not reachable by vehicle 'h15_14942'.\n",
      "Warning: The vehicle 'h15_14942' has no valid route.\n",
      "Warning: No connection between edge '-161572698#1' and edge '-383076320' found.\n",
      "Warning: Mandatory edge '-383076320' not reachable by vehicle 'h15_6289'.\n",
      "Warning: The vehicle 'h15_6289' has no valid route.\n"
     ]
    },
    {
     "name": "stdout",
     "output_type": "stream",
     "text": [
      "Reading up to time step: 55801.15\r"
     ]
    },
    {
     "name": "stderr",
     "output_type": "stream",
     "text": [
      "Warning: No connection between edge '-144632805#2' and edge '510193650#6' found.\n",
      "Warning: Mandatory edge '510193650#6' not reachable by vehicle 'h15_6456'.\n",
      "Warning: The vehicle 'h15_6456' has no valid route.\n",
      "Warning: No connection between edge '831241529' and edge '161432888' found.\n",
      "Warning: Mandatory edge '161432888' not reachable by vehicle 'h15_6822'.\n",
      "Warning: The vehicle 'h15_6822' has no valid route.\n",
      "Warning: No connection between edge '35156385#6' and edge '143962123#1' found.\n",
      "Warning: Mandatory edge '143962123#1' not reachable by vehicle 'h15_6969'.\n",
      "Warning: The vehicle 'h15_6969' has no valid route.\n"
     ]
    },
    {
     "name": "stdout",
     "output_type": "stream",
     "text": [
      "Reading up to time step: 56001.15\r"
     ]
    },
    {
     "name": "stderr",
     "output_type": "stream",
     "text": [
      "Warning: No connection between edge '425958655' and edge '367820004' found.\n",
      "Warning: Mandatory edge '367820004' not reachable by vehicle 'h15_7286'.\n",
      "Warning: The vehicle 'h15_7286' has no valid route.\n",
      "Warning: No connection between edge '-72065785#0' and edge '144160557#0' found.\n",
      "Warning: Mandatory edge '144160557#0' not reachable by vehicle 'h15_7556'.\n",
      "Warning: The vehicle 'h15_7556' has no valid route.\n",
      "Warning: No connection between edge '-925261618' and edge '-887925205#3' found.\n",
      "Warning: Mandatory edge '-887925205#3' not reachable by vehicle 'h15_7684'.\n",
      "Warning: The vehicle 'h15_7684' has no valid route.\n"
     ]
    },
    {
     "name": "stdout",
     "output_type": "stream",
     "text": [
      "Reading up to time step: 56201.15\r"
     ]
    },
    {
     "name": "stderr",
     "output_type": "stream",
     "text": [
      "Warning: No connection between edge '529408432#2' and edge '510193650#2' found.\n",
      "Warning: Mandatory edge '510193650#2' not reachable by vehicle 'h15_7947'.\n",
      "Warning: The vehicle 'h15_7947' has no valid route.\n",
      "Warning: No connection between edge '-112885009#0' and edge '158434621#3' found.\n",
      "Warning: Mandatory edge '158434621#3' not reachable by vehicle 'h15_8319'.\n",
      "Warning: The vehicle 'h15_8319' has no valid route.\n"
     ]
    },
    {
     "name": "stdout",
     "output_type": "stream",
     "text": [
      "Reading up to time step: 56601.15\r"
     ]
    },
    {
     "name": "stderr",
     "output_type": "stream",
     "text": [
      "Warning: No connection between edge '-142062861' and edge '-767313243' found.\n",
      "Warning: Mandatory edge '-767313243' not reachable by vehicle 'h15_9521'.\n",
      "Warning: The vehicle 'h15_9521' has no valid route.\n",
      "Warning: No connection between edge '124060638#6' and edge '-425702645#0' found.\n",
      "Warning: Mandatory edge '-425702645#0' not reachable by vehicle 'h15_9601'.\n",
      "Warning: The vehicle 'h15_9601' has no valid route.\n",
      "Warning: No connection between edge '137294381#0' and edge '-62023728#0' found.\n",
      "Warning: Mandatory edge '-62023728#0' not reachable by vehicle 'h15_9830'.\n",
      "Warning: The vehicle 'h15_9830' has no valid route.\n",
      "Warning: No connection between edge '124060638#4' and edge '159082456#2' found.\n",
      "Warning: Mandatory edge '159082456#2' not reachable by vehicle 'h15_9865'.\n",
      "Warning: The vehicle 'h15_9865' has no valid route.\n"
     ]
    },
    {
     "name": "stdout",
     "output_type": "stream",
     "text": [
      "Reading up to time step: 56801.15\r"
     ]
    },
    {
     "name": "stderr",
     "output_type": "stream",
     "text": [
      "Warning: No connection between edge '665644278' and edge '28121378' found.\n",
      "Warning: Mandatory edge '28121378' not reachable by vehicle 'h15_14388'.\n",
      "Warning: The vehicle 'h15_14388' has no valid route.\n"
     ]
    },
    {
     "name": "stdout",
     "output_type": "stream",
     "text": [
      "Reading up to time step: 57001.15\r"
     ]
    },
    {
     "name": "stderr",
     "output_type": "stream",
     "text": [
      "Warning: No connection between edge '53255425#1' and edge '4387061#0' found.\n",
      "Warning: Mandatory edge '4387061#0' not reachable by vehicle 'h15_11012'.\n",
      "Warning: The vehicle 'h15_11012' has no valid route.\n"
     ]
    },
    {
     "name": "stdout",
     "output_type": "stream",
     "text": [
      "Reading up to time step: 57201.15\r"
     ]
    },
    {
     "name": "stderr",
     "output_type": "stream",
     "text": [
      "Warning: No connection between edge '124060638#4' and edge '312400045' found.\n",
      "Warning: Mandatory edge '312400045' not reachable by vehicle 'h15_11678'.\n",
      "Warning: The vehicle 'h15_11678' has no valid route.\n",
      "Warning: No connection between edge '-187663598#1' and edge '28292998#0' found.\n",
      "Warning: Mandatory edge '28292998#0' not reachable by vehicle 'h15_14327'.\n",
      "Warning: The vehicle 'h15_14327' has no valid route.\n",
      "Warning: No connection between edge '-160967883#0' and edge '889503609' found.\n",
      "Warning: Mandatory edge '889503609' not reachable by vehicle 'h15_12082'.\n",
      "Warning: The vehicle 'h15_12082' has no valid route.\n",
      "Warning: No connection between edge '124060638#5' and edge '53788976' found.\n",
      "Warning: Mandatory edge '53788976' not reachable by vehicle 'h15_12089'.\n",
      "Warning: The vehicle 'h15_12089' has no valid route.\n",
      "Warning: No connection between edge '665644278' and edge '37794971#4' found.\n",
      "Warning: Mandatory edge '37794971#4' not reachable by vehicle 'h15_12306'.\n",
      "Warning: The vehicle 'h15_12306' has no valid route.\n"
     ]
    },
    {
     "name": "stdout",
     "output_type": "stream",
     "text": [
      "Reading up to time step: 57401.15\r"
     ]
    },
    {
     "name": "stderr",
     "output_type": "stream",
     "text": [
      "Warning: No connection between edge '-150925676' and edge '-1266237207' found.\n",
      "Warning: Mandatory edge '-1266237207' not reachable by vehicle 'h15_12494'.\n",
      "Warning: The vehicle 'h15_12494' has no valid route.\n",
      "Warning: No connection between edge '1164154170' and edge '-249770320#1' found.\n",
      "Warning: Mandatory edge '-249770320#1' not reachable by vehicle 'h15_15792'.\n",
      "Warning: The vehicle 'h15_15792' has no valid route.\n",
      "Warning: No connection between edge '-614946280#2' and edge '-367820004' found.\n",
      "Warning: Mandatory edge '-367820004' not reachable by vehicle 'h15_13444'.\n",
      "Warning: The vehicle 'h15_13444' has no valid route.\n"
     ]
    },
    {
     "name": "stdout",
     "output_type": "stream",
     "text": [
      "Reading up to time step: 57601.15\r"
     ]
    },
    {
     "name": "stderr",
     "output_type": "stream",
     "text": [
      "Warning: No connection between edge '-281308645' and edge '741132790#0' found.\n",
      "Warning: Mandatory edge '741132790#0' not reachable by vehicle 'h15_13495'.\n",
      "Warning: The vehicle 'h15_13495' has no valid route.\n"
     ]
    },
    {
     "name": "stdout",
     "output_type": "stream",
     "text": [
      "Reading up to time step: 57801.15\r"
     ]
    },
    {
     "name": "stderr",
     "output_type": "stream",
     "text": [
      "Warning: No connection between edge '693484094' and edge '72049648#1' found.\n",
      "Warning: Mandatory edge '72049648#1' not reachable by vehicle 'h16_17236'.\n",
      "Warning: The vehicle 'h16_17236' has no valid route.\n",
      "Warning: No connection between edge '82286890' and edge '-490837978' found.\n",
      "Warning: Mandatory edge '-490837978' not reachable by vehicle 'h16_738'.\n",
      "Warning: The vehicle 'h16_738' has no valid route.\n",
      "Warning: No connection between edge '173073438' and edge '510193650#3' found.\n",
      "Warning: Mandatory edge '510193650#3' not reachable by vehicle 'h16_1009'.\n",
      "Warning: The vehicle 'h16_1009' has no valid route.\n"
     ]
    },
    {
     "name": "stdout",
     "output_type": "stream",
     "text": [
      "Reading up to time step: 58001.15\r"
     ]
    },
    {
     "name": "stderr",
     "output_type": "stream",
     "text": [
      "Warning: No connection between edge '-326497006#2' and edge '-144160557#0' found.\n",
      "Warning: Mandatory edge '-144160557#0' not reachable by vehicle 'h16_1469'.\n",
      "Warning: The vehicle 'h16_1469' has no valid route.\n",
      "Warning: No connection between edge '224020699#1' and edge '888174858#0' found.\n",
      "Warning: Mandatory edge '888174858#0' not reachable by vehicle 'h16_17586'.\n",
      "Warning: The vehicle 'h16_17586' has no valid route.\n",
      "Warning: No connection between edge '112885039' and edge '66654887' found.\n",
      "Warning: Mandatory edge '66654887' not reachable by vehicle 'h16_2075'.\n",
      "Warning: The vehicle 'h16_2075' has no valid route.\n"
     ]
    },
    {
     "name": "stdout",
     "output_type": "stream",
     "text": [
      "Reading up to time step: 58201.15\r"
     ]
    },
    {
     "name": "stderr",
     "output_type": "stream",
     "text": [
      "Warning: No connection between edge '219983136#0' and edge '-143962120' found.\n",
      "Warning: Mandatory edge '-143962120' not reachable by vehicle 'h16_3324'.\n",
      "Warning: The vehicle 'h16_3324' has no valid route.\n"
     ]
    },
    {
     "name": "stdout",
     "output_type": "stream",
     "text": [
      "Reading up to time step: 58601.15\r"
     ]
    },
    {
     "name": "stderr",
     "output_type": "stream",
     "text": [
      "Warning: No connection between edge '27774360#0' and edge '889503609' found.\n",
      "Warning: Mandatory edge '889503609' not reachable by vehicle 'h16_3721'.\n",
      "Warning: The vehicle 'h16_3721' has no valid route.\n",
      "Warning: No connection between edge '839439477#5' and edge '143962123#2' found.\n",
      "Warning: Mandatory edge '143962123#2' not reachable by vehicle 'h16_3747'.\n",
      "Warning: The vehicle 'h16_3747' has no valid route.\n",
      "Warning: No connection between edge '124060638#4' and edge '-1032383518' found.\n",
      "Warning: Mandatory edge '-1032383518' not reachable by vehicle 'h16_3975'.\n",
      "Warning: The vehicle 'h16_3975' has no valid route.\n"
     ]
    },
    {
     "name": "stdout",
     "output_type": "stream",
     "text": [
      "Reading up to time step: 58801.15\r"
     ]
    },
    {
     "name": "stderr",
     "output_type": "stream",
     "text": [
      "Warning: No connection between edge '1225583906' and edge '378355994#2' found.\n",
      "Warning: Mandatory edge '378355994#2' not reachable by vehicle 'h16_4720'.\n",
      "Warning: The vehicle 'h16_4720' has no valid route.\n",
      "Warning: No connection between edge '1304092701' and edge '-143962120' found.\n",
      "Warning: Mandatory edge '-143962120' not reachable by vehicle 'h16_4831'.\n",
      "Warning: The vehicle 'h16_4831' has no valid route.\n",
      "Warning: No connection between edge '-71896671' and edge '144160547' found.\n",
      "Warning: Mandatory edge '144160547' not reachable by vehicle 'h16_4964'.\n",
      "Warning: The vehicle 'h16_4964' has no valid route.\n",
      "Warning: No connection between edge '141180327' and edge '143962123#1' found.\n",
      "Warning: Mandatory edge '143962123#1' not reachable by vehicle 'h16_5187'.\n",
      "Warning: The vehicle 'h16_5187' has no valid route.\n",
      "Warning: No connection between edge '436447574' and edge '62023730' found.\n",
      "Warning: Mandatory edge '62023730' not reachable by vehicle 'h16_18047'.\n",
      "Warning: The vehicle 'h16_18047' has no valid route.\n",
      "Warning: No connection between edge '406234517#0' and edge '-254044724' found.\n",
      "Warning: Mandatory edge '-254044724' not reachable by vehicle 'h16_5394'.\n",
      "Warning: The vehicle 'h16_5394' has no valid route.\n"
     ]
    },
    {
     "name": "stdout",
     "output_type": "stream",
     "text": [
      "Reading up to time step: 59001.15\r"
     ]
    },
    {
     "name": "stderr",
     "output_type": "stream",
     "text": [
      "Warning: No connection between edge '174101690' and edge '-143962120' found.\n",
      "Warning: Mandatory edge '-143962120' not reachable by vehicle 'h16_5465'.\n",
      "Warning: The vehicle 'h16_5465' has no valid route.\n",
      "Warning: No connection between edge '122372754' and edge '63680611#2' found.\n",
      "Warning: Mandatory edge '63680611#2' not reachable by vehicle 'h16_5488'.\n",
      "Warning: The vehicle 'h16_5488' has no valid route.\n",
      "Warning: No connection between edge '113580514#1' and edge '-683976845' found.\n",
      "Warning: Mandatory edge '-683976845' not reachable by vehicle 'h16_16217'.\n",
      "Warning: The vehicle 'h16_16217' has no valid route.\n",
      "Warning: No connection between edge '724500155#0' and edge '386307419' found.\n",
      "Warning: Mandatory edge '386307419' not reachable by vehicle 'h16_5694'.\n",
      "Warning: The vehicle 'h16_5694' has no valid route.\n",
      "Warning: No connection between edge '-848923748#2' and edge '-30281188#2' found.\n",
      "Warning: Mandatory edge '-30281188#2' not reachable by vehicle 'h16_5877'.\n",
      "Warning: The vehicle 'h16_5877' has no valid route.\n",
      "Warning: No connection between edge '-27773323#2' and edge '-112885002#0' found.\n",
      "Warning: Mandatory edge '-112885002#0' not reachable by vehicle 'h16_5952'.\n",
      "Warning: The vehicle 'h16_5952' has no valid route.\n",
      "Warning: No connection between edge '172066569#2' and edge '112885002#1' found.\n",
      "Warning: Mandatory edge '112885002#1' not reachable by vehicle 'h16_18058'.\n",
      "Warning: The vehicle 'h16_18058' has no valid route.\n",
      "Warning: No connection between edge '793930821' and edge '580488854' found.\n",
      "Warning: Mandatory edge '580488854' not reachable by vehicle 'h16_6037'.\n",
      "Warning: The vehicle 'h16_6037' has no valid route.\n",
      "Warning: No connection between edge '-165883571' and edge '62023730' found.\n",
      "Warning: Mandatory edge '62023730' not reachable by vehicle 'h16_6510'.\n",
      "Warning: The vehicle 'h16_6510' has no valid route.\n"
     ]
    },
    {
     "name": "stdout",
     "output_type": "stream",
     "text": [
      "Reading up to time step: 59201.15\r"
     ]
    },
    {
     "name": "stderr",
     "output_type": "stream",
     "text": [
      "Warning: No connection between edge '-313211555' and edge '4387061#0' found.\n",
      "Warning: Mandatory edge '4387061#0' not reachable by vehicle 'h16_6630'.\n",
      "Warning: The vehicle 'h16_6630' has no valid route.\n",
      "Warning: No connection between edge '-38939031#1' and edge '-62023740' found.\n",
      "Warning: Mandatory edge '-62023740' not reachable by vehicle 'h16_17669'.\n",
      "Warning: The vehicle 'h16_17669' has no valid route.\n",
      "Warning: No connection between edge '105258144#4' and edge '112766501#2' found.\n",
      "Warning: Mandatory edge '112766501#2' not reachable by vehicle 'h16_17901'.\n",
      "Warning: The vehicle 'h16_17901' has no valid route.\n"
     ]
    },
    {
     "name": "stdout",
     "output_type": "stream",
     "text": [
      "Reading up to time step: 59401.15\r"
     ]
    },
    {
     "name": "stderr",
     "output_type": "stream",
     "text": [
      "Warning: No connection between edge '124060633#1' and edge '729571321' found.\n",
      "Warning: Mandatory edge '729571321' not reachable by vehicle 'h16_16552'.\n",
      "Warning: The vehicle 'h16_16552' has no valid route.\n",
      "Warning: No connection between edge '-168567622#1' and edge '510193650#5' found.\n",
      "Warning: Mandatory edge '510193650#5' not reachable by vehicle 'h16_7501'.\n",
      "Warning: The vehicle 'h16_7501' has no valid route.\n",
      "Warning: No connection between edge '456191598#1' and edge '383076320' found.\n",
      "Warning: Mandatory edge '383076320' not reachable by vehicle 'h16_7938'.\n",
      "Warning: The vehicle 'h16_7938' has no valid route.\n",
      "Warning: No connection between edge '330749952#0' and edge '767313244' found.\n",
      "Warning: Mandatory edge '767313244' not reachable by vehicle 'h16_7962'.\n",
      "Warning: The vehicle 'h16_7962' has no valid route.\n",
      "Warning: No connection between edge '707440336#2' and edge '1060073977' found.\n",
      "Warning: Mandatory edge '1060073977' not reachable by vehicle 'h16_8166'.\n",
      "Warning: The vehicle 'h16_8166' has no valid route.\n"
     ]
    },
    {
     "name": "stdout",
     "output_type": "stream",
     "text": [
      "Reading up to time step: 59601.15\r"
     ]
    },
    {
     "name": "stderr",
     "output_type": "stream",
     "text": [
      "Warning: No connection between edge '476892332' and edge '62023740' found.\n",
      "Warning: Mandatory edge '62023740' not reachable by vehicle 'h16_8290'.\n",
      "Warning: The vehicle 'h16_8290' has no valid route.\n",
      "Warning: No connection between edge '35360282' and edge '143962120' found.\n",
      "Warning: Mandatory edge '143962120' not reachable by vehicle 'h16_8291'.\n",
      "Warning: The vehicle 'h16_8291' has no valid route.\n",
      "Warning: No connection between edge '780562172' and edge '-291943437' found.\n",
      "Warning: Mandatory edge '-291943437' not reachable by vehicle 'h16_8464'.\n",
      "Warning: The vehicle 'h16_8464' has no valid route.\n",
      "Warning: No connection between edge '6311102' and edge '263520769#0' found.\n",
      "Warning: Mandatory edge '263520769#0' not reachable by vehicle 'h16_8506'.\n",
      "Warning: The vehicle 'h16_8506' has no valid route.\n",
      "Warning: No connection between edge '124060633#0' and edge '6309968' found.\n",
      "Warning: Mandatory edge '6309968' not reachable by vehicle 'h16_8624'.\n",
      "Warning: The vehicle 'h16_8624' has no valid route.\n",
      "Warning: No connection between edge '181899541#1' and edge '510193650#6' found.\n",
      "Warning: Mandatory edge '510193650#6' not reachable by vehicle 'h16_9241'.\n",
      "Warning: The vehicle 'h16_9241' has no valid route.\n"
     ]
    },
    {
     "name": "stdout",
     "output_type": "stream",
     "text": [
      "Reading up to time step: 59801.15\r"
     ]
    },
    {
     "name": "stderr",
     "output_type": "stream",
     "text": [
      "Warning: No connection between edge '793930821' and edge '6314110#0' found.\n",
      "Warning: Mandatory edge '6314110#0' not reachable by vehicle 'h16_9317'.\n",
      "Warning: The vehicle 'h16_9317' has no valid route.\n",
      "Warning: No connection between edge '-150925676' and edge '-46961701#2' found.\n",
      "Warning: Mandatory edge '-46961701#2' not reachable by vehicle 'h16_9332'.\n",
      "Warning: The vehicle 'h16_9332' has no valid route.\n",
      "Warning: No connection between edge '-281308645' and edge '-195817863' found.\n",
      "Warning: Mandatory edge '-195817863' not reachable by vehicle 'h16_16582'.\n",
      "Warning: The vehicle 'h16_16582' has no valid route.\n",
      "Warning: No connection between edge '219791464#3' and edge '378355994#2' found.\n",
      "Warning: Mandatory edge '378355994#2' not reachable by vehicle 'h16_9385'.\n",
      "Warning: The vehicle 'h16_9385' has no valid route.\n",
      "Warning: No connection between edge '165194286#0' and edge '144160547' found.\n",
      "Warning: Mandatory edge '144160547' not reachable by vehicle 'h16_9993'.\n",
      "Warning: The vehicle 'h16_9993' has no valid route.\n"
     ]
    },
    {
     "name": "stdout",
     "output_type": "stream",
     "text": [
      "Reading up to time step: 60001.15\r"
     ]
    },
    {
     "name": "stderr",
     "output_type": "stream",
     "text": [
      "Warning: No connection between edge '122372754' and edge '223599904#1' found.\n",
      "Warning: Mandatory edge '223599904#1' not reachable by vehicle 'h16_10490'.\n",
      "Warning: The vehicle 'h16_10490' has no valid route.\n",
      "Warning: No connection between edge '183741260' and edge '623824425' found.\n",
      "Warning: Mandatory edge '623824425' not reachable by vehicle 'h16_10616'.\n",
      "Warning: The vehicle 'h16_10616' has no valid route.\n",
      "Warning: No connection between edge '-96717454' and edge '143962123#0' found.\n",
      "Warning: Mandatory edge '143962123#0' not reachable by vehicle 'h16_10700'.\n",
      "Warning: The vehicle 'h16_10700' has no valid route.\n",
      "Warning: No connection between edge '-115628971' and edge '-112885002#0' found.\n",
      "Warning: Mandatory edge '-112885002#0' not reachable by vehicle 'h16_10710'.\n",
      "Warning: The vehicle 'h16_10710' has no valid route.\n"
     ]
    },
    {
     "name": "stdout",
     "output_type": "stream",
     "text": [
      "Reading up to time step: 60201.15\r"
     ]
    },
    {
     "name": "stderr",
     "output_type": "stream",
     "text": [
      "Warning: No connection between edge '-688357782#0' and edge '-172673988#2' found.\n",
      "Warning: Mandatory edge '-172673988#2' not reachable by vehicle 'h16_10746'.\n",
      "Warning: The vehicle 'h16_10746' has no valid route.\n",
      "Warning: No connection between edge '24374348#2' and edge '888174858#0' found.\n",
      "Warning: Mandatory edge '888174858#0' not reachable by vehicle 'h16_10774'.\n",
      "Warning: The vehicle 'h16_10774' has no valid route.\n",
      "Warning: No connection between edge '508862126' and edge '1200615233' found.\n",
      "Warning: Mandatory edge '1200615233' not reachable by vehicle 'h16_11800'.\n",
      "Warning: The vehicle 'h16_11800' has no valid route.\n"
     ]
    },
    {
     "name": "stdout",
     "output_type": "stream",
     "text": [
      "Reading up to time step: 60401.15\r"
     ]
    },
    {
     "name": "stderr",
     "output_type": "stream",
     "text": [
      "Warning: No connection between edge '23915206#2' and edge '62023728#1' found.\n",
      "Warning: Mandatory edge '62023728#1' not reachable by vehicle 'h16_12026'.\n",
      "Warning: The vehicle 'h16_12026' has no valid route.\n",
      "Warning: No connection between edge '53331922#0' and edge '1367068983' found.\n",
      "Warning: Mandatory edge '1367068983' not reachable by vehicle 'h16_12479'.\n",
      "Warning: The vehicle 'h16_12479' has no valid route.\n",
      "Warning: No connection between edge '1035313834#1' and edge '142366417#0' found.\n",
      "Warning: Mandatory edge '142366417#0' not reachable by vehicle 'h16_18192'.\n",
      "Warning: The vehicle 'h16_18192' has no valid route.\n"
     ]
    },
    {
     "name": "stdout",
     "output_type": "stream",
     "text": [
      "Reading up to time step: 60601.15\r"
     ]
    },
    {
     "name": "stderr",
     "output_type": "stream",
     "text": [
      "Warning: No connection between edge '-688357782#1' and edge '-1042976398' found.\n",
      "Warning: Mandatory edge '-1042976398' not reachable by vehicle 'h16_17055'.\n",
      "Warning: The vehicle 'h16_17055' has no valid route.\n",
      "Warning: No connection between edge '529460580' and edge '510193669' found.\n",
      "Warning: Mandatory edge '510193669' not reachable by vehicle 'h16_13055'.\n",
      "Warning: The vehicle 'h16_13055' has no valid route.\n",
      "Warning: No connection between edge '-51202931' and edge '-367820004' found.\n",
      "Warning: Mandatory edge '-367820004' not reachable by vehicle 'h16_13348'.\n",
      "Warning: The vehicle 'h16_13348' has no valid route.\n",
      "Warning: No connection between edge '221310021' and edge '143962120' found.\n",
      "Warning: Mandatory edge '143962120' not reachable by vehicle 'h16_13480'.\n",
      "Warning: The vehicle 'h16_13480' has no valid route.\n"
     ]
    },
    {
     "name": "stdout",
     "output_type": "stream",
     "text": [
      "Reading up to time step: 60801.15\r"
     ]
    },
    {
     "name": "stderr",
     "output_type": "stream",
     "text": [
      "Warning: No connection between edge '28117591#5' and edge '37791874#3' found.\n",
      "Warning: Mandatory edge '37791874#3' not reachable by vehicle 'h16_13570'.\n",
      "Warning: The vehicle 'h16_13570' has no valid route.\n",
      "Warning: No connection between edge '252129268' and edge '1060073977' found.\n",
      "Warning: Mandatory edge '1060073977' not reachable by vehicle 'h16_13775'.\n",
      "Warning: The vehicle 'h16_13775' has no valid route.\n",
      "Warning: No connection between edge '294806840#0' and edge '4387061#0' found.\n",
      "Warning: Mandatory edge '4387061#0' not reachable by vehicle 'h16_13931'.\n",
      "Warning: The vehicle 'h16_13931' has no valid route.\n",
      "Warning: No connection between edge '82286810' and edge '689636461' found.\n",
      "Warning: Mandatory edge '689636461' not reachable by vehicle 'h16_14125'.\n",
      "Warning: The vehicle 'h16_14125' has no valid route.\n",
      "Warning: No connection between edge '-64095973' and edge '493061137' found.\n",
      "Warning: Mandatory edge '493061137' not reachable by vehicle 'h16_14196'.\n",
      "Warning: The vehicle 'h16_14196' has no valid route.\n"
     ]
    },
    {
     "name": "stdout",
     "output_type": "stream",
     "text": [
      "Reading up to time step: 61001.15\r"
     ]
    },
    {
     "name": "stderr",
     "output_type": "stream",
     "text": [
      "Warning: No connection between edge '620496625' and edge '41966283#1' found.\n",
      "Warning: Mandatory edge '41966283#1' not reachable by vehicle 'h16_17522'.\n",
      "Warning: The vehicle 'h16_17522' has no valid route.\n",
      "Warning: No connection between edge '82286890' and edge '159460061#1' found.\n",
      "Warning: Mandatory edge '159460061#1' not reachable by vehicle 'h16_14502'.\n",
      "Warning: The vehicle 'h16_14502' has no valid route.\n",
      "Warning: No connection between edge '27773317#0' and edge '-143962120' found.\n",
      "Warning: Mandatory edge '-143962120' not reachable by vehicle 'h16_15145'.\n",
      "Warning: The vehicle 'h16_15145' has no valid route.\n"
     ]
    },
    {
     "name": "stdout",
     "output_type": "stream",
     "text": [
      "Reading up to time step: 61201.15\r"
     ]
    },
    {
     "name": "stderr",
     "output_type": "stream",
     "text": [
      "Warning: No connection between edge '543262288' and edge '1060073977' found.\n",
      "Warning: Mandatory edge '1060073977' not reachable by vehicle 'h16_15315'.\n",
      "Warning: The vehicle 'h16_15315' has no valid route.\n",
      "Warning: No connection between edge '925261618' and edge '-685040727#2' found.\n",
      "Warning: Mandatory edge '-685040727#2' not reachable by vehicle 'h16_17104'.\n",
      "Warning: The vehicle 'h16_17104' has no valid route.\n",
      "Warning: No connection between edge '-55351049' and edge '161432888' found.\n",
      "Warning: Mandatory edge '161432888' not reachable by vehicle 'h16_15580'.\n",
      "Warning: The vehicle 'h16_15580' has no valid route.\n",
      "Warning: No connection between edge '-46961720#1' and edge '188649571' found.\n",
      "Warning: Mandatory edge '188649571' not reachable by vehicle 'h16_15757'.\n",
      "Warning: The vehicle 'h16_15757' has no valid route.\n",
      "Warning: No connection between edge '-482019851#1' and edge '188649571' found.\n",
      "Warning: Mandatory edge '188649571' not reachable by vehicle 'h16_15871'.\n",
      "Warning: The vehicle 'h16_15871' has no valid route.\n",
      "Warning: No connection between edge '156398864' and edge '-121558812' found.\n",
      "Warning: Mandatory edge '-121558812' not reachable by vehicle 'h16_15969'.\n",
      "Warning: The vehicle 'h16_15969' has no valid route.\n"
     ]
    },
    {
     "name": "stdout",
     "output_type": "stream",
     "text": [
      "Reading up to time step: 61401.15\r"
     ]
    },
    {
     "name": "stderr",
     "output_type": "stream",
     "text": [
      "Warning: No connection between edge '156398864' and edge '157757569#1' found.\n",
      "Warning: Mandatory edge '157757569#1' not reachable by vehicle 'h17_117'.\n",
      "Warning: The vehicle 'h17_117' has no valid route.\n",
      "Warning: No connection between edge '152177206#1' and edge '156398858' found.\n",
      "Warning: Mandatory edge '156398858' not reachable by vehicle 'h17_299'.\n",
      "Warning: The vehicle 'h17_299' has no valid route.\n",
      "Warning: No connection between edge '-626783804#1' and edge '-143962120' found.\n",
      "Warning: Mandatory edge '-143962120' not reachable by vehicle 'h17_321'.\n",
      "Warning: The vehicle 'h17_321' has no valid route.\n",
      "Warning: No connection between edge '24580112#3' and edge '446955270' found.\n",
      "Warning: Mandatory edge '446955270' not reachable by vehicle 'h17_444'.\n",
      "Warning: The vehicle 'h17_444' has no valid route.\n",
      "Warning: No connection between edge '53334251#1' and edge '367820004' found.\n",
      "Warning: Mandatory edge '367820004' not reachable by vehicle 'h17_563'.\n",
      "Warning: The vehicle 'h17_563' has no valid route.\n",
      "Warning: No connection between edge '-532753397' and edge '-62023728#0' found.\n",
      "Warning: Mandatory edge '-62023728#0' not reachable by vehicle 'h17_758'.\n",
      "Warning: The vehicle 'h17_758' has no valid route.\n",
      "Warning: No connection between edge '368022013#2' and edge '112885002#0' found.\n",
      "Warning: Mandatory edge '112885002#0' not reachable by vehicle 'h17_966'.\n",
      "Warning: The vehicle 'h17_966' has no valid route.\n"
     ]
    },
    {
     "name": "stdout",
     "output_type": "stream",
     "text": [
      "Reading up to time step: 61601.15\r"
     ]
    },
    {
     "name": "stderr",
     "output_type": "stream",
     "text": [
      "Warning: No connection between edge '-44870997#0' and edge '62023728#0' found.\n",
      "Warning: Mandatory edge '62023728#0' not reachable by vehicle 'h17_24603'.\n",
      "Warning: The vehicle 'h17_24603' has no valid route.\n",
      "Warning: No connection between edge '437481596#0' and edge '-62023740' found.\n",
      "Warning: Mandatory edge '-62023740' not reachable by vehicle 'h17_2145'.\n",
      "Warning: The vehicle 'h17_2145' has no valid route.\n",
      "Warning: No connection between edge '389414546' and edge '367820004' found.\n",
      "Warning: Mandatory edge '367820004' not reachable by vehicle 'h17_24607'.\n",
      "Warning: The vehicle 'h17_24607' has no valid route.\n"
     ]
    },
    {
     "name": "stdout",
     "output_type": "stream",
     "text": [
      "Reading up to time step: 61801.15\r"
     ]
    },
    {
     "name": "stderr",
     "output_type": "stream",
     "text": [
      "Warning: No connection between edge '125002720' and edge '130707779' found.\n",
      "Warning: Mandatory edge '130707779' not reachable by vehicle 'h17_24616'.\n",
      "Warning: The vehicle 'h17_24616' has no valid route.\n",
      "Warning: No connection between edge '-1117402907' and edge '510193674' found.\n",
      "Warning: Mandatory edge '510193674' not reachable by vehicle 'h17_2732'.\n",
      "Warning: The vehicle 'h17_2732' has no valid route.\n",
      "Warning: No connection between edge '588220276#0' and edge '143962120' found.\n",
      "Warning: Mandatory edge '143962120' not reachable by vehicle 'h17_2847'.\n",
      "Warning: The vehicle 'h17_2847' has no valid route.\n",
      "Warning: No connection between edge '-165280741#2' and edge '383076320' found.\n",
      "Warning: Mandatory edge '383076320' not reachable by vehicle 'h17_2865'.\n",
      "Warning: The vehicle 'h17_2865' has no valid route.\n",
      "Warning: No connection between edge '82169980' and edge '62023728#1' found.\n",
      "Warning: Mandatory edge '62023728#1' not reachable by vehicle 'h17_2907'.\n",
      "Warning: The vehicle 'h17_2907' has no valid route.\n",
      "Warning: No connection between edge '183741260' and edge '-51202319#5' found.\n",
      "Warning: Mandatory edge '-51202319#5' not reachable by vehicle 'h17_2926'.\n",
      "Warning: The vehicle 'h17_2926' has no valid route.\n",
      "Warning: No connection between edge '53253227' and edge '510193650#5' found.\n",
      "Warning: Mandatory edge '510193650#5' not reachable by vehicle 'h17_2977'.\n",
      "Warning: The vehicle 'h17_2977' has no valid route.\n",
      "Warning: No connection between edge '-688357782#0' and edge '46961084#3' found.\n",
      "Warning: Mandatory edge '46961084#3' not reachable by vehicle 'h17_2989'.\n",
      "Warning: The vehicle 'h17_2989' has no valid route.\n",
      "Warning: No connection between edge '53331493#4' and edge '510193650#1' found.\n",
      "Warning: Mandatory edge '510193650#1' not reachable by vehicle 'h17_3213'.\n",
      "Warning: The vehicle 'h17_3213' has no valid route.\n",
      "Warning: No connection between edge '98338686' and edge '-255908078' found.\n",
      "Warning: Mandatory edge '-255908078' not reachable by vehicle 'h17_3387'.\n",
      "Warning: The vehicle 'h17_3387' has no valid route.\n",
      "Warning: No connection between edge '-174134833#0' and edge '143962120' found.\n",
      "Warning: Mandatory edge '143962120' not reachable by vehicle 'h17_3408'.\n",
      "Warning: The vehicle 'h17_3408' has no valid route.\n",
      "Warning: No connection between edge '46986556#2' and edge '-367820004' found.\n",
      "Warning: Mandatory edge '-367820004' not reachable by vehicle 'h17_4112'.\n",
      "Warning: The vehicle 'h17_4112' has no valid route.\n"
     ]
    },
    {
     "name": "stdout",
     "output_type": "stream",
     "text": [
      "Reading up to time step: 62001.15\r"
     ]
    },
    {
     "name": "stderr",
     "output_type": "stream",
     "text": [
      "Warning: No connection between edge '-309384630#4' and edge '510193664' found.\n",
      "Warning: Mandatory edge '510193664' not reachable by vehicle 'h17_4133'.\n",
      "Warning: The vehicle 'h17_4133' has no valid route.\n",
      "Warning: No connection between edge '-112885009#0' and edge '50345163#1' found.\n",
      "Warning: Mandatory edge '50345163#1' not reachable by vehicle 'h17_4241'.\n",
      "Warning: The vehicle 'h17_4241' has no valid route.\n",
      "Warning: No connection between edge '1367068984' and edge '-144165042' found.\n",
      "Warning: Mandatory edge '-144165042' not reachable by vehicle 'h17_4397'.\n",
      "Warning: The vehicle 'h17_4397' has no valid route.\n",
      "Warning: No connection between edge '-486366499' and edge '281308645' found.\n",
      "Warning: Mandatory edge '281308645' not reachable by vehicle 'h17_5038'.\n",
      "Warning: The vehicle 'h17_5038' has no valid route.\n",
      "Warning: No connection between edge '53189477#1' and edge '62023730' found.\n",
      "Warning: Mandatory edge '62023730' not reachable by vehicle 'h17_5140'.\n",
      "Warning: The vehicle 'h17_5140' has no valid route.\n"
     ]
    },
    {
     "name": "stdout",
     "output_type": "stream",
     "text": [
      "Reading up to time step: 62201.15\r"
     ]
    },
    {
     "name": "stderr",
     "output_type": "stream",
     "text": [
      "Warning: No connection between edge '-150925676' and edge '31112429#1' found.\n",
      "Warning: Mandatory edge '31112429#1' not reachable by vehicle 'h17_5503'.\n",
      "Warning: The vehicle 'h17_5503' has no valid route.\n",
      "Warning: No connection between edge '118806581#1' and edge '-378355994#2' found.\n",
      "Warning: Mandatory edge '-378355994#2' not reachable by vehicle 'h17_5534'.\n",
      "Warning: The vehicle 'h17_5534' has no valid route.\n",
      "Warning: No connection between edge '27755863' and edge '1200615233' found.\n",
      "Warning: Mandatory edge '1200615233' not reachable by vehicle 'h17_24681'.\n",
      "Warning: The vehicle 'h17_24681' has no valid route.\n"
     ]
    },
    {
     "name": "stdout",
     "output_type": "stream",
     "text": [
      "Reading up to time step: 62401.15\r"
     ]
    },
    {
     "name": "stderr",
     "output_type": "stream",
     "text": [
      "Warning: No connection between edge '-72049663' and edge '143962120' found.\n",
      "Warning: Mandatory edge '143962120' not reachable by vehicle 'h17_6759'.\n",
      "Warning: The vehicle 'h17_6759' has no valid route.\n",
      "Warning: No connection between edge '53331154' and edge '367820004' found.\n",
      "Warning: Mandatory edge '367820004' not reachable by vehicle 'h17_6901'.\n",
      "Warning: The vehicle 'h17_6901' has no valid route.\n",
      "Warning: No connection between edge '112885039' and edge '71441425#0' found.\n",
      "Warning: Mandatory edge '71441425#0' not reachable by vehicle 'h17_6929'.\n",
      "Warning: The vehicle 'h17_6929' has no valid route.\n",
      "Warning: No connection between edge '482019801#0' and edge '161432888' found.\n",
      "Warning: Mandatory edge '161432888' not reachable by vehicle 'h17_7095'.\n",
      "Warning: The vehicle 'h17_7095' has no valid route.\n",
      "Warning: No connection between edge '-236983390#2' and edge '510193650#5' found.\n",
      "Warning: Mandatory edge '510193650#5' not reachable by vehicle 'h17_7187'.\n",
      "Warning: The vehicle 'h17_7187' has no valid route.\n",
      "Warning: No connection between edge '1367068984' and edge '-115628895#0' found.\n",
      "Warning: Mandatory edge '-115628895#0' not reachable by vehicle 'h17_7329'.\n",
      "Warning: The vehicle 'h17_7329' has no valid route.\n"
     ]
    },
    {
     "name": "stdout",
     "output_type": "stream",
     "text": [
      "Reading up to time step: 62601.15\r"
     ]
    },
    {
     "name": "stderr",
     "output_type": "stream",
     "text": [
      "Warning: No connection between edge '42393912#4' and edge '62023728#1' found.\n",
      "Warning: Mandatory edge '62023728#1' not reachable by vehicle 'h17_7801'.\n",
      "Warning: The vehicle 'h17_7801' has no valid route.\n",
      "Warning: No connection between edge '-464989264#2' and edge '1367068968' found.\n",
      "Warning: Mandatory edge '1367068968' not reachable by vehicle 'h17_7822'.\n",
      "Warning: The vehicle 'h17_7822' has no valid route.\n",
      "Warning: No connection between edge '64094254' and edge '-367820004' found.\n",
      "Warning: Mandatory edge '-367820004' not reachable by vehicle 'h17_7991'.\n",
      "Warning: The vehicle 'h17_7991' has no valid route.\n",
      "Warning: No connection between edge '24447539#4' and edge '446955270' found.\n",
      "Warning: Mandatory edge '446955270' not reachable by vehicle 'h17_8060'.\n",
      "Warning: The vehicle 'h17_8060' has no valid route.\n",
      "Warning: No connection between edge '65204861#0' and edge '-112885002#0' found.\n",
      "Warning: Mandatory edge '-112885002#0' not reachable by vehicle 'h17_8152'.\n",
      "Warning: The vehicle 'h17_8152' has no valid route.\n",
      "Warning: No connection between edge '-24949352#5' and edge '62023728#1' found.\n",
      "Warning: Mandatory edge '62023728#1' not reachable by vehicle 'h17_8363'.\n",
      "Warning: The vehicle 'h17_8363' has no valid route.\n",
      "Warning: No connection between edge '1356954327' and edge '-53838837' found.\n",
      "Warning: Mandatory edge '-53838837' not reachable by vehicle 'h17_8570'.\n",
      "Warning: The vehicle 'h17_8570' has no valid route.\n",
      "Warning: No connection between edge '-150925676' and edge '-162543786#0' found.\n",
      "Warning: Mandatory edge '-162543786#0' not reachable by vehicle 'h17_8837'.\n",
      "Warning: The vehicle 'h17_8837' has no valid route.\n",
      "Warning: No connection between edge '53208755#1' and edge '142428191' found.\n",
      "Warning: Mandatory edge '142428191' not reachable by vehicle 'h17_9465'.\n",
      "Warning: The vehicle 'h17_9465' has no valid route.\n"
     ]
    },
    {
     "name": "stdout",
     "output_type": "stream",
     "text": [
      "Reading up to time step: 62801.15\r"
     ]
    },
    {
     "name": "stderr",
     "output_type": "stream",
     "text": [
      "Warning: No connection between edge '-925261618' and edge '-36963825' found.\n",
      "Warning: Mandatory edge '-36963825' not reachable by vehicle 'h17_9719'.\n",
      "Warning: The vehicle 'h17_9719' has no valid route.\n",
      "Warning: No connection between edge '467407616' and edge '386307421#0' found.\n",
      "Warning: Mandatory edge '386307421#0' not reachable by vehicle 'h17_9734'.\n",
      "Warning: The vehicle 'h17_9734' has no valid route.\n",
      "Warning: No connection between edge '143957425#0' and edge '889503609' found.\n",
      "Warning: Mandatory edge '889503609' not reachable by vehicle 'h17_9764'.\n",
      "Warning: The vehicle 'h17_9764' has no valid route.\n",
      "Warning: No connection between edge '793930821' and edge '531756596' found.\n",
      "Warning: Mandatory edge '531756596' not reachable by vehicle 'h17_10105'.\n",
      "Warning: The vehicle 'h17_10105' has no valid route.\n"
     ]
    },
    {
     "name": "stdout",
     "output_type": "stream",
     "text": [
      "Reading up to time step: 63001.15\r"
     ]
    },
    {
     "name": "stderr",
     "output_type": "stream",
     "text": [
      "Warning: No connection between edge '4878368' and edge '162584260' found.\n",
      "Warning: Mandatory edge '162584260' not reachable by vehicle 'h17_25786'.\n",
      "Warning: The vehicle 'h17_25786' has no valid route.\n",
      "Warning: No connection between edge '1308456867#0' and edge '1361683969' found.\n",
      "Warning: Mandatory edge '1361683969' not reachable by vehicle 'h17_10340'.\n",
      "Warning: The vehicle 'h17_10340' has no valid route.\n",
      "Warning: No connection between edge '377395401#3' and edge '62023730' found.\n",
      "Warning: Mandatory edge '62023730' not reachable by vehicle 'h17_10417'.\n",
      "Warning: The vehicle 'h17_10417' has no valid route.\n",
      "Warning: No connection between edge '1203882727#1' and edge '361898372#1' found.\n",
      "Warning: Mandatory edge '361898372#1' not reachable by vehicle 'h17_10674'.\n",
      "Warning: The vehicle 'h17_10674' has no valid route.\n",
      "Warning: No connection between edge '362271266#0' and edge '62023730' found.\n",
      "Warning: Mandatory edge '62023730' not reachable by vehicle 'h17_10818'.\n",
      "Warning: The vehicle 'h17_10818' has no valid route.\n",
      "Warning: No connection between edge '1091788508' and edge '365598299' found.\n",
      "Warning: Mandatory edge '365598299' not reachable by vehicle 'h17_10879'.\n",
      "Warning: The vehicle 'h17_10879' has no valid route.\n",
      "Warning: No connection between edge '-807445227#0' and edge '-30281188#2' found.\n",
      "Warning: Mandatory edge '-30281188#2' not reachable by vehicle 'h17_11177'.\n",
      "Warning: The vehicle 'h17_11177' has no valid route.\n",
      "Warning: No connection between edge '27773214#2' and edge '-383076320' found.\n",
      "Warning: Mandatory edge '-383076320' not reachable by vehicle 'h17_12054'.\n",
      "Warning: The vehicle 'h17_12054' has no valid route.\n",
      "Warning: No connection between edge '558001737#3' and edge '142428191' found.\n",
      "Warning: Mandatory edge '142428191' not reachable by vehicle 'h17_25235'.\n",
      "Warning: The vehicle 'h17_25235' has no valid route.\n"
     ]
    },
    {
     "name": "stdout",
     "output_type": "stream",
     "text": [
      "Reading up to time step: 63201.15\r"
     ]
    },
    {
     "name": "stderr",
     "output_type": "stream",
     "text": [
      "Warning: No connection between edge '-55336715#0' and edge '-367820007' found.\n",
      "Warning: Mandatory edge '-367820007' not reachable by vehicle 'h17_12252'.\n",
      "Warning: The vehicle 'h17_12252' has no valid route.\n",
      "Warning: No connection between edge '-27773399#0' and edge '889503609' found.\n",
      "Warning: Mandatory edge '889503609' not reachable by vehicle 'h17_12496'.\n",
      "Warning: The vehicle 'h17_12496' has no valid route.\n",
      "Warning: No connection between edge '47001243' and edge '367820007' found.\n",
      "Warning: Mandatory edge '367820007' not reachable by vehicle 'h17_12736'.\n",
      "Warning: The vehicle 'h17_12736' has no valid route.\n"
     ]
    },
    {
     "name": "stdout",
     "output_type": "stream",
     "text": [
      "Reading up to time step: 63401.15\r"
     ]
    },
    {
     "name": "stderr",
     "output_type": "stream",
     "text": [
      "Warning: No connection between edge '-281308645' and edge '-380002702#1' found.\n",
      "Warning: Mandatory edge '-380002702#1' not reachable by vehicle 'h17_13074'.\n",
      "Warning: The vehicle 'h17_13074' has no valid route.\n",
      "Warning: No connection between edge '1367068968' and edge '-62023740' found.\n",
      "Warning: Mandatory edge '-62023740' not reachable by vehicle 'h17_13236'.\n",
      "Warning: The vehicle 'h17_13236' has no valid route.\n",
      "Warning: No connection between edge '1358117262' and edge '-383076320' found.\n",
      "Warning: Mandatory edge '-383076320' not reachable by vehicle 'h17_13278'.\n",
      "Warning: The vehicle 'h17_13278' has no valid route.\n",
      "Warning: No connection between edge '-503310615' and edge '62023730' found.\n",
      "Warning: Mandatory edge '62023730' not reachable by vehicle 'h17_13347'.\n",
      "Warning: The vehicle 'h17_13347' has no valid route.\n",
      "Warning: No connection between edge '665644278' and edge '814908577#3' found.\n",
      "Warning: Mandatory edge '814908577#3' not reachable by vehicle 'h17_13626'.\n",
      "Warning: The vehicle 'h17_13626' has no valid route.\n",
      "Warning: No connection between edge '218623550' and edge '-143962123#1' found.\n",
      "Warning: Mandatory edge '-143962123#1' not reachable by vehicle 'h17_13796'.\n",
      "Warning: The vehicle 'h17_13796' has no valid route.\n",
      "Warning: No connection between edge '708310614' and edge '1159203435#0' found.\n",
      "Warning: Mandatory edge '1159203435#0' not reachable by vehicle 'h17_13851'.\n",
      "Warning: The vehicle 'h17_13851' has no valid route.\n"
     ]
    },
    {
     "name": "stdout",
     "output_type": "stream",
     "text": [
      "Reading up to time step: 63601.15\r"
     ]
    },
    {
     "name": "stderr",
     "output_type": "stream",
     "text": [
      "Warning: No connection between edge '232788067#2' and edge '74359741#1' found.\n",
      "Warning: Mandatory edge '74359741#1' not reachable by vehicle 'h17_14262'.\n",
      "Warning: The vehicle 'h17_14262' has no valid route.\n",
      "Warning: No connection between edge '-30281259#4' and edge '62023728#1' found.\n",
      "Warning: Mandatory edge '62023728#1' not reachable by vehicle 'h17_14484'.\n",
      "Warning: The vehicle 'h17_14484' has no valid route.\n",
      "Warning: No connection between edge '161572546' and edge '-112885002#0' found.\n",
      "Warning: Mandatory edge '-112885002#0' not reachable by vehicle 'h17_14917'.\n",
      "Warning: The vehicle 'h17_14917' has no valid route.\n",
      "Warning: No connection between edge '232788067#2' and edge '252288329#1' found.\n",
      "Warning: Mandatory edge '252288329#1' not reachable by vehicle 'h17_15005'.\n",
      "Warning: The vehicle 'h17_15005' has no valid route.\n",
      "Warning: No connection between edge '341536067#0' and edge '889503609' found.\n",
      "Warning: Mandatory edge '889503609' not reachable by vehicle 'h17_15101'.\n",
      "Warning: The vehicle 'h17_15101' has no valid route.\n",
      "Warning: No connection between edge '-256624116#0' and edge '446955270' found.\n",
      "Warning: Mandatory edge '446955270' not reachable by vehicle 'h17_15503'.\n",
      "Warning: The vehicle 'h17_15503' has no valid route.\n"
     ]
    },
    {
     "name": "stdout",
     "output_type": "stream",
     "text": [
      "Reading up to time step: 63801.15\r"
     ]
    },
    {
     "name": "stderr",
     "output_type": "stream",
     "text": [
      "Warning: No connection between edge '-1238080597#2' and edge '188649571' found.\n",
      "Warning: Mandatory edge '188649571' not reachable by vehicle 'h17_15706'.\n",
      "Warning: The vehicle 'h17_15706' has no valid route.\n",
      "Warning: No connection between edge '-96719552' and edge '167692614#0' found.\n",
      "Warning: Mandatory edge '167692614#0' not reachable by vehicle 'h17_15710'.\n",
      "Warning: The vehicle 'h17_15710' has no valid route.\n",
      "Warning: No connection between edge '71896659#0' and edge '161432888' found.\n",
      "Warning: Mandatory edge '161432888' not reachable by vehicle 'h17_15734'.\n",
      "Warning: The vehicle 'h17_15734' has no valid route.\n",
      "Warning: No connection between edge '665644278' and edge '-32103374#1' found.\n",
      "Warning: Mandatory edge '-32103374#1' not reachable by vehicle 'h17_23847'.\n",
      "Warning: The vehicle 'h17_23847' has no valid route.\n",
      "Warning: No connection between edge '341899123' and edge '510193664' found.\n",
      "Warning: Mandatory edge '510193664' not reachable by vehicle 'h17_16335'.\n",
      "Warning: The vehicle 'h17_16335' has no valid route.\n",
      "Warning: No connection between edge '-793930821' and edge '614081677' found.\n",
      "Warning: Mandatory edge '614081677' not reachable by vehicle 'h17_16412'.\n",
      "Warning: The vehicle 'h17_16412' has no valid route.\n",
      "Warning: No connection between edge '38280120' and edge '510193669' found.\n",
      "Warning: Mandatory edge '510193669' not reachable by vehicle 'h17_16442'.\n",
      "Warning: The vehicle 'h17_16442' has no valid route.\n",
      "Warning: No connection between edge '493061141' and edge '510193650#3' found.\n",
      "Warning: Mandatory edge '510193650#3' not reachable by vehicle 'h17_16498'.\n",
      "Warning: The vehicle 'h17_16498' has no valid route.\n",
      "Warning: No connection between edge '34349611#1' and edge '383076320' found.\n",
      "Warning: Mandatory edge '383076320' not reachable by vehicle 'h17_16539'.\n",
      "Warning: The vehicle 'h17_16539' has no valid route.\n",
      "Warning: No connection between edge '-52514075#2' and edge '889503609' found.\n",
      "Warning: Mandatory edge '889503609' not reachable by vehicle 'h17_17205'.\n",
      "Warning: The vehicle 'h17_17205' has no valid route.\n"
     ]
    },
    {
     "name": "stdout",
     "output_type": "stream",
     "text": [
      "Reading up to time step: 64001.15\r"
     ]
    },
    {
     "name": "stderr",
     "output_type": "stream",
     "text": [
      "Warning: No connection between edge '-140592122' and edge '-112885002#0' found.\n",
      "Warning: Mandatory edge '-112885002#0' not reachable by vehicle 'h17_17373'.\n",
      "Warning: The vehicle 'h17_17373' has no valid route.\n",
      "Warning: No connection between edge '374307262#7' and edge '144160557#2' found.\n",
      "Warning: Mandatory edge '144160557#2' not reachable by vehicle 'h17_17780'.\n",
      "Warning: The vehicle 'h17_17780' has no valid route.\n"
     ]
    },
    {
     "name": "stdout",
     "output_type": "stream",
     "text": [
      "Reading up to time step: 64201.15\r"
     ]
    },
    {
     "name": "stderr",
     "output_type": "stream",
     "text": [
      "Warning: No connection between edge '669371200' and edge '6312388#0' found.\n",
      "Warning: Mandatory edge '6312388#0' not reachable by vehicle 'h17_18347'.\n",
      "Warning: The vehicle 'h17_18347' has no valid route.\n",
      "Warning: No connection between edge '-367820009' and edge '783551598' found.\n",
      "Warning: Mandatory edge '783551598' not reachable by vehicle 'h17_18738'.\n",
      "Warning: The vehicle 'h17_18738' has no valid route.\n",
      "Warning: No connection between edge '47072533#2' and edge '367820007' found.\n",
      "Warning: Mandatory edge '367820007' not reachable by vehicle 'h17_18770'.\n",
      "Warning: The vehicle 'h17_18770' has no valid route.\n",
      "Warning: No connection between edge '446955267' and edge '37794971#3' found.\n",
      "Warning: Mandatory edge '37794971#3' not reachable by vehicle 'h17_18856'.\n",
      "Warning: The vehicle 'h17_18856' has no valid route.\n",
      "Warning: No connection between edge '104291446#1' and edge '1336526522' found.\n",
      "Warning: Mandatory edge '1336526522' not reachable by vehicle 'h17_25567'.\n",
      "Warning: The vehicle 'h17_25567' has no valid route.\n",
      "Warning: No connection between edge '254055477' and edge '-1060073977' found.\n",
      "Warning: Mandatory edge '-1060073977' not reachable by vehicle 'h17_19045'.\n",
      "Warning: The vehicle 'h17_19045' has no valid route.\n",
      "Warning: No connection between edge '648707795' and edge '-112885002#1' found.\n",
      "Warning: Mandatory edge '-112885002#1' not reachable by vehicle 'h17_19226'.\n",
      "Warning: The vehicle 'h17_19226' has no valid route.\n"
     ]
    },
    {
     "name": "stdout",
     "output_type": "stream",
     "text": [
      "Reading up to time step: 64401.15\r"
     ]
    },
    {
     "name": "stderr",
     "output_type": "stream",
     "text": [
      "Warning: No connection between edge '124060638#5' and edge '954004226#1' found.\n",
      "Warning: Mandatory edge '954004226#1' not reachable by vehicle 'h17_19386'.\n",
      "Warning: The vehicle 'h17_19386' has no valid route.\n",
      "Warning: No connection between edge '688357782#0' and edge '858506181' found.\n",
      "Warning: Mandatory edge '858506181' not reachable by vehicle 'h17_19451'.\n",
      "Warning: The vehicle 'h17_19451' has no valid route.\n",
      "Warning: No connection between edge '120673709#0' and edge '378355994#2' found.\n",
      "Warning: Mandatory edge '378355994#2' not reachable by vehicle 'h17_19502'.\n",
      "Warning: The vehicle 'h17_19502' has no valid route.\n",
      "Warning: No connection between edge '112835757' and edge '8060736#1-AddedOnRampEdge' found.\n",
      "Warning: Mandatory edge '8060736#1-AddedOnRampEdge' not reachable by vehicle 'h17_24539'.\n",
      "Warning: The vehicle 'h17_24539' has no valid route.\n"
     ]
    },
    {
     "name": "stdout",
     "output_type": "stream",
     "text": [
      "Reading up to time step: 64601.15\r"
     ]
    },
    {
     "name": "stderr",
     "output_type": "stream",
     "text": [
      "Warning: No connection between edge '925261618' and edge '-398201348' found.\n",
      "Warning: Mandatory edge '-398201348' not reachable by vehicle 'h17_20504'.\n",
      "Warning: The vehicle 'h17_20504' has no valid route.\n",
      "Warning: No connection between edge '165250100' and edge '143962123#1' found.\n",
      "Warning: Mandatory edge '143962123#1' not reachable by vehicle 'h17_20985'.\n",
      "Warning: The vehicle 'h17_20985' has no valid route.\n",
      "Warning: No connection between edge '74128330#1' and edge '72213193#0' found.\n",
      "Warning: Mandatory edge '72213193#0' not reachable by vehicle 'h17_21212'.\n",
      "Warning: The vehicle 'h17_21212' has no valid route.\n",
      "Warning: No connection between edge '793930821' and edge '35608518#0' found.\n",
      "Warning: Mandatory edge '35608518#0' not reachable by vehicle 'h17_21308'.\n",
      "Warning: The vehicle 'h17_21308' has no valid route.\n"
     ]
    },
    {
     "name": "stdout",
     "output_type": "stream",
     "text": [
      "Reading up to time step: 64801.15\r"
     ]
    },
    {
     "name": "stderr",
     "output_type": "stream",
     "text": [
      "Warning: No connection between edge '42413295' and edge '-368652720#2' found.\n",
      "Warning: Mandatory edge '-368652720#2' not reachable by vehicle 'h17_26013'.\n",
      "Warning: The vehicle 'h17_26013' has no valid route.\n",
      "Warning: No connection between edge '446955267' and edge '168765527#0' found.\n",
      "Warning: Mandatory edge '168765527#0' not reachable by vehicle 'h17_22218'.\n",
      "Warning: The vehicle 'h17_22218' has no valid route.\n",
      "Warning: No connection between edge '-159082445' and edge '510193650#6' found.\n",
      "Warning: Mandatory edge '510193650#6' not reachable by vehicle 'h17_22354'.\n",
      "Warning: The vehicle 'h17_22354' has no valid route.\n",
      "Warning: No connection between edge '48803226#0' and edge '-112885002#1' found.\n",
      "Warning: Mandatory edge '-112885002#1' not reachable by vehicle 'h17_22432'.\n",
      "Warning: The vehicle 'h17_22432' has no valid route.\n",
      "Warning: No connection between edge '-39791945#3' and edge '143962123#1' found.\n",
      "Warning: Mandatory edge '143962123#1' not reachable by vehicle 'h17_22604'.\n",
      "Warning: The vehicle 'h17_22604' has no valid route.\n",
      "Warning: No connection between edge '74128330#1' and edge '1103426956' found.\n",
      "Warning: Mandatory edge '1103426956' not reachable by vehicle 'h17_24403'.\n",
      "Warning: The vehicle 'h17_24403' has no valid route.\n",
      "Warning: No connection between edge '53255418' and edge '510193665' found.\n",
      "Warning: Mandatory edge '510193665' not reachable by vehicle 'h17_22839'.\n",
      "Warning: The vehicle 'h17_22839' has no valid route.\n",
      "Warning: No connection between edge '230277924#1' and edge '378355994#2' found.\n",
      "Warning: Mandatory edge '378355994#2' not reachable by vehicle 'h17_22885'.\n",
      "Warning: The vehicle 'h17_22885' has no valid route.\n",
      "Warning: No connection between edge '330644738' and edge '510193650#1' found.\n",
      "Warning: Mandatory edge '510193650#1' not reachable by vehicle 'h17_22966'.\n",
      "Warning: The vehicle 'h17_22966' has no valid route.\n",
      "Warning: No connection between edge '-303225593#3' and edge '341796846' found.\n",
      "Warning: Mandatory edge '341796846' not reachable by vehicle 'h18_26017'.\n",
      "Warning: The vehicle 'h18_26017' has no valid route.\n"
     ]
    },
    {
     "name": "stdout",
     "output_type": "stream",
     "text": [
      "Reading up to time step: 65001.15\r"
     ]
    },
    {
     "name": "stderr",
     "output_type": "stream",
     "text": [
      "Warning: No connection between edge '1203882727#1' and edge '614081679-AddedOnRampEdge' found.\n",
      "Warning: Mandatory edge '614081679-AddedOnRampEdge' not reachable by vehicle 'h18_589'.\n",
      "Warning: The vehicle 'h18_589' has no valid route.\n",
      "Warning: No connection between edge '1203882727#1' and edge '286990080' found.\n",
      "Warning: Mandatory edge '286990080' not reachable by vehicle 'h18_25396'.\n",
      "Warning: The vehicle 'h18_25396' has no valid route.\n",
      "Warning: No connection between edge '-72049672' and edge '383076320' found.\n",
      "Warning: Mandatory edge '383076320' not reachable by vehicle 'h18_832'.\n",
      "Warning: The vehicle 'h18_832' has no valid route.\n",
      "Warning: No connection between edge '-688357782#1' and edge '-24256723#4' found.\n",
      "Warning: Mandatory edge '-24256723#4' not reachable by vehicle 'h18_1144'.\n",
      "Warning: The vehicle 'h18_1144' has no valid route.\n"
     ]
    },
    {
     "name": "stdout",
     "output_type": "stream",
     "text": [
      "Reading up to time step: 65201.15\r"
     ]
    },
    {
     "name": "stderr",
     "output_type": "stream",
     "text": [
      "Warning: No connection between edge '-23698017#2' and edge '510193674' found.\n",
      "Warning: Mandatory edge '510193674' not reachable by vehicle 'h18_1372'.\n",
      "Warning: The vehicle 'h18_1372' has no valid route.\n",
      "Warning: No connection between edge '1367068984' and edge '233487359' found.\n",
      "Warning: Mandatory edge '233487359' not reachable by vehicle 'h18_1452'.\n",
      "Warning: The vehicle 'h18_1452' has no valid route.\n",
      "Warning: No connection between edge '-6309700#0' and edge '666070226#0' found.\n",
      "Warning: Mandatory edge '666070226#0' not reachable by vehicle 'h18_1521'.\n",
      "Warning: The vehicle 'h18_1521' has no valid route.\n",
      "Warning: No connection between edge '395595350' and edge '144160557#2' found.\n",
      "Warning: Mandatory edge '144160557#2' not reachable by vehicle 'h18_1578'.\n",
      "Warning: The vehicle 'h18_1578' has no valid route.\n",
      "Warning: No connection between edge '890051693' and edge '386307421#0' found.\n",
      "Warning: Mandatory edge '386307421#0' not reachable by vehicle 'h18_1630'.\n",
      "Warning: The vehicle 'h18_1630' has no valid route.\n",
      "Warning: No connection between edge '-47072480#1' and edge '-378355994#2' found.\n",
      "Warning: Mandatory edge '-378355994#2' not reachable by vehicle 'h18_1719'.\n",
      "Warning: The vehicle 'h18_1719' has no valid route.\n",
      "Warning: No connection between edge '96719492#0' and edge '510193650#5' found.\n",
      "Warning: Mandatory edge '510193650#5' not reachable by vehicle 'h18_2208'.\n",
      "Warning: The vehicle 'h18_2208' has no valid route.\n",
      "Warning: No connection between edge '112885040#0' and edge '378355993' found.\n",
      "Warning: Mandatory edge '378355993' not reachable by vehicle 'h18_2420'.\n",
      "Warning: The vehicle 'h18_2420' has no valid route.\n",
      "Warning: No connection between edge '6314124' and edge '143962123#2' found.\n",
      "Warning: Mandatory edge '143962123#2' not reachable by vehicle 'h18_2464'.\n",
      "Warning: The vehicle 'h18_2464' has no valid route.\n",
      "Warning: No connection between edge '-1331092619#1' and edge '386307421#0' found.\n",
      "Warning: Mandatory edge '386307421#0' not reachable by vehicle 'h18_2699'.\n",
      "Warning: The vehicle 'h18_2699' has no valid route.\n"
     ]
    },
    {
     "name": "stdout",
     "output_type": "stream",
     "text": [
      "Reading up to time step: 65401.15\r"
     ]
    },
    {
     "name": "stderr",
     "output_type": "stream",
     "text": [
      "Warning: No connection between edge '156398864' and edge '430433437' found.\n",
      "Warning: Mandatory edge '430433437' not reachable by vehicle 'h18_3071'.\n",
      "Warning: The vehicle 'h18_3071' has no valid route.\n",
      "Warning: No connection between edge '-1039601636' and edge '156398858' found.\n",
      "Warning: Mandatory edge '156398858' not reachable by vehicle 'h18_26565'.\n",
      "Warning: The vehicle 'h18_26565' has no valid route.\n",
      "Warning: No connection between edge '50345161#1' and edge '112885002#0' found.\n",
      "Warning: Mandatory edge '112885002#0' not reachable by vehicle 'h18_3249'.\n",
      "Warning: The vehicle 'h18_3249' has no valid route.\n",
      "Warning: No connection between edge '24257174#0' and edge '143962120' found.\n",
      "Warning: Mandatory edge '143962120' not reachable by vehicle 'h18_3250'.\n",
      "Warning: The vehicle 'h18_3250' has no valid route.\n",
      "Warning: No connection between edge '925261618' and edge '326384443#5' found.\n",
      "Warning: Mandatory edge '326384443#5' not reachable by vehicle 'h18_3257'.\n",
      "Warning: The vehicle 'h18_3257' has no valid route.\n",
      "Warning: No connection between edge '330709485' and edge '-767313243' found.\n",
      "Warning: Mandatory edge '-767313243' not reachable by vehicle 'h18_3309'.\n",
      "Warning: The vehicle 'h18_3309' has no valid route.\n",
      "Warning: No connection between edge '512144584' and edge '510193650#6' found.\n",
      "Warning: Mandatory edge '510193650#6' not reachable by vehicle 'h18_3680'.\n",
      "Warning: The vehicle 'h18_3680' has no valid route.\n",
      "Warning: No connection between edge '-172203848#7' and edge '510193661' found.\n",
      "Warning: Mandatory edge '510193661' not reachable by vehicle 'h18_26084'.\n",
      "Warning: The vehicle 'h18_26084' has no valid route.\n",
      "Warning: No connection between edge '-548307668' and edge '1367068983' found.\n",
      "Warning: Mandatory edge '1367068983' not reachable by vehicle 'h18_4111'.\n",
      "Warning: The vehicle 'h18_4111' has no valid route.\n"
     ]
    },
    {
     "name": "stdout",
     "output_type": "stream",
     "text": [
      "Reading up to time step: 65601.15\r"
     ]
    },
    {
     "name": "stderr",
     "output_type": "stream",
     "text": [
      "Warning: No connection between edge '1115212222' and edge '-1060073977' found.\n",
      "Warning: Mandatory edge '-1060073977' not reachable by vehicle 'h18_4542'.\n",
      "Warning: The vehicle 'h18_4542' has no valid route.\n",
      "Warning: No connection between edge '395353701#2' and edge '-112885002#0' found.\n",
      "Warning: Mandatory edge '-112885002#0' not reachable by vehicle 'h18_4835'.\n",
      "Warning: The vehicle 'h18_4835' has no valid route.\n",
      "Warning: No connection between edge '82164695' and edge '510193650#5' found.\n",
      "Warning: Mandatory edge '510193650#5' not reachable by vehicle 'h18_5142'.\n",
      "Warning: The vehicle 'h18_5142' has no valid route.\n",
      "Warning: No connection between edge '81085322' and edge '1159203435#0' found.\n",
      "Warning: Mandatory edge '1159203435#0' not reachable by vehicle 'h18_5340'.\n",
      "Warning: The vehicle 'h18_5340' has no valid route.\n"
     ]
    },
    {
     "name": "stdout",
     "output_type": "stream",
     "text": [
      "Reading up to time step: 65801.15\r"
     ]
    },
    {
     "name": "stderr",
     "output_type": "stream",
     "text": [
      "Warning: No connection between edge '-688357782#0' and edge '46986556#1' found.\n",
      "Warning: Mandatory edge '46986556#1' not reachable by vehicle 'h18_5529'.\n",
      "Warning: The vehicle 'h18_5529' has no valid route.\n",
      "Warning: No connection between edge '65253357#3' and edge '-144160557#2' found.\n",
      "Warning: Mandatory edge '-144160557#2' not reachable by vehicle 'h18_5753'.\n",
      "Warning: The vehicle 'h18_5753' has no valid route.\n",
      "Warning: No connection between edge '24257002#0' and edge '62023728#1' found.\n",
      "Warning: Mandatory edge '62023728#1' not reachable by vehicle 'h18_5788'.\n",
      "Warning: The vehicle 'h18_5788' has no valid route.\n",
      "Warning: No connection between edge '124060633#0' and edge '236977891#1' found.\n",
      "Warning: Mandatory edge '236977891#1' not reachable by vehicle 'h18_5795'.\n",
      "Warning: The vehicle 'h18_5795' has no valid route.\n",
      "Warning: No connection between edge '463657004#1' and edge '-367820007' found.\n",
      "Warning: Mandatory edge '-367820007' not reachable by vehicle 'h18_6139'.\n",
      "Warning: The vehicle 'h18_6139' has no valid route.\n",
      "Warning: No connection between edge '665204441' and edge '510193650#6' found.\n",
      "Warning: Mandatory edge '510193650#6' not reachable by vehicle 'h18_6166'.\n",
      "Warning: The vehicle 'h18_6166' has no valid route.\n",
      "Warning: No connection between edge '40936993' and edge '510193635#1' found.\n",
      "Warning: Mandatory edge '510193635#1' not reachable by vehicle 'h18_6716'.\n",
      "Warning: The vehicle 'h18_6716' has no valid route.\n"
     ]
    },
    {
     "name": "stdout",
     "output_type": "stream",
     "text": [
      "Reading up to time step: 66001.15\r"
     ]
    },
    {
     "name": "stderr",
     "output_type": "stream",
     "text": [
      "Warning: No connection between edge '688357782#0' and edge '39791923' found.\n",
      "Warning: Mandatory edge '39791923' not reachable by vehicle 'h18_6808'.\n",
      "Warning: The vehicle 'h18_6808' has no valid route.\n",
      "Warning: No connection between edge '124060633#0' and edge '115669022' found.\n",
      "Warning: Mandatory edge '115669022' not reachable by vehicle 'h18_6820'.\n",
      "Warning: The vehicle 'h18_6820' has no valid route.\n",
      "Warning: No connection between edge '-793930821' and edge '-297990567' found.\n",
      "Warning: Mandatory edge '-297990567' not reachable by vehicle 'h18_6878'.\n",
      "Warning: The vehicle 'h18_6878' has no valid route.\n",
      "Warning: No connection between edge '65611552#1' and edge '-144160557#2' found.\n",
      "Warning: Mandatory edge '-144160557#2' not reachable by vehicle 'h18_6946'.\n",
      "Warning: The vehicle 'h18_6946' has no valid route.\n",
      "Warning: No connection between edge '-189876384#3' and edge '889503609' found.\n",
      "Warning: Mandatory edge '889503609' not reachable by vehicle 'h18_7211'.\n",
      "Warning: The vehicle 'h18_7211' has no valid route.\n",
      "Warning: No connection between edge '-24255332#11' and edge '98338695' found.\n",
      "Warning: Mandatory edge '98338695' not reachable by vehicle 'h18_7833'.\n",
      "Warning: The vehicle 'h18_7833' has no valid route.\n",
      "Warning: No connection between edge '147914881#1' and edge '1367068968' found.\n",
      "Warning: Mandatory edge '1367068968' not reachable by vehicle 'h18_7870'.\n",
      "Warning: The vehicle 'h18_7870' has no valid route.\n"
     ]
    },
    {
     "name": "stdout",
     "output_type": "stream",
     "text": [
      "Reading up to time step: 66201.15\r"
     ]
    },
    {
     "name": "stderr",
     "output_type": "stream",
     "text": [
      "Warning: No connection between edge '124060638#5' and edge '130740894#1' found.\n",
      "Warning: Mandatory edge '130740894#1' not reachable by vehicle 'h18_8564'.\n",
      "Warning: The vehicle 'h18_8564' has no valid route.\n",
      "Warning: No connection between edge '677786221' and edge '126796450#3' found.\n",
      "Warning: Mandatory edge '126796450#3' not reachable by vehicle 'h18_26666'.\n",
      "Warning: The vehicle 'h18_26666' has no valid route.\n",
      "Warning: No connection between edge '54357731' and edge '143962120' found.\n",
      "Warning: Mandatory edge '143962120' not reachable by vehicle 'h18_9977'.\n",
      "Warning: The vehicle 'h18_9977' has no valid route.\n"
     ]
    },
    {
     "name": "stdout",
     "output_type": "stream",
     "text": [
      "Reading up to time step: 66401.15\r"
     ]
    },
    {
     "name": "stderr",
     "output_type": "stream",
     "text": [
      "Warning: No connection between edge '-6310722' and edge '62023728#1' found.\n",
      "Warning: Mandatory edge '62023728#1' not reachable by vehicle 'h18_10368'.\n",
      "Warning: The vehicle 'h18_10368' has no valid route.\n",
      "Warning: No connection between edge '53331629' and edge '510193669' found.\n",
      "Warning: Mandatory edge '510193669' not reachable by vehicle 'h18_10494'.\n",
      "Warning: The vehicle 'h18_10494' has no valid route.\n"
     ]
    },
    {
     "name": "stdout",
     "output_type": "stream",
     "text": [
      "Reading up to time step: 66601.15\r"
     ]
    },
    {
     "name": "stderr",
     "output_type": "stream",
     "text": [
      "Warning: No connection between edge '198803152#1' and edge '-367820004' found.\n",
      "Warning: Mandatory edge '-367820004' not reachable by vehicle 'h18_11199'.\n",
      "Warning: The vehicle 'h18_11199' has no valid route.\n",
      "Warning: No connection between edge '-159245855' and edge '-367820007' found.\n",
      "Warning: Mandatory edge '-367820007' not reachable by vehicle 'h18_11616'.\n",
      "Warning: The vehicle 'h18_11616' has no valid route.\n",
      "Warning: No connection between edge '493061137' and edge '151651290' found.\n",
      "Warning: Mandatory edge '151651290' not reachable by vehicle 'h18_11675'.\n",
      "Warning: The vehicle 'h18_11675' has no valid route.\n",
      "Warning: No connection between edge '-925261618' and edge '573681926' found.\n",
      "Warning: Mandatory edge '573681926' not reachable by vehicle 'h18_11726'.\n",
      "Warning: The vehicle 'h18_11726' has no valid route.\n",
      "Warning: No connection between edge '183741260' and edge '27450146' found.\n",
      "Warning: Mandatory edge '27450146' not reachable by vehicle 'h18_11740'.\n",
      "Warning: The vehicle 'h18_11740' has no valid route.\n",
      "Warning: No connection between edge '-112885009#0' and edge '-970343204' found.\n",
      "Warning: Mandatory edge '-970343204' not reachable by vehicle 'h18_11938'.\n",
      "Warning: The vehicle 'h18_11938' has no valid route.\n",
      "Warning: No connection between edge '-144168988#1' and edge '6312388#0' found.\n",
      "Warning: Mandatory edge '6312388#0' not reachable by vehicle 'h18_12002'.\n",
      "Warning: The vehicle 'h18_12002' has no valid route.\n",
      "Warning: No connection between edge '98338682' and edge '98338695' found.\n",
      "Warning: Mandatory edge '98338695' not reachable by vehicle 'h18_12047'.\n",
      "Warning: The vehicle 'h18_12047' has no valid route.\n"
     ]
    },
    {
     "name": "stdout",
     "output_type": "stream",
     "text": [
      "Reading up to time step: 66801.15\r"
     ]
    },
    {
     "name": "stderr",
     "output_type": "stream",
     "text": [
      "Warning: No connection between edge '366469489#0' and edge '-367820004' found.\n",
      "Warning: Mandatory edge '-367820004' not reachable by vehicle 'h18_12343'.\n",
      "Warning: The vehicle 'h18_12343' has no valid route.\n",
      "Warning: No connection between edge '182441869' and edge '-367820007' found.\n",
      "Warning: Mandatory edge '-367820007' not reachable by vehicle 'h18_12349'.\n",
      "Warning: The vehicle 'h18_12349' has no valid route.\n",
      "Warning: No connection between edge '150925674' and edge '-156672372#0' found.\n",
      "Warning: Mandatory edge '-156672372#0' not reachable by vehicle 'h18_12463'.\n",
      "Warning: The vehicle 'h18_12463' has no valid route.\n",
      "Warning: No connection between edge '-27775098#0' and edge '88119470' found.\n",
      "Warning: Mandatory edge '88119470' not reachable by vehicle 'h18_12571'.\n",
      "Warning: The vehicle 'h18_12571' has no valid route.\n",
      "Warning: No connection between edge '1356954327' and edge '353224809#0' found.\n",
      "Warning: Mandatory edge '353224809#0' not reachable by vehicle 'h18_12709'.\n",
      "Warning: The vehicle 'h18_12709' has no valid route.\n",
      "Warning: No connection between edge '88119453' and edge '224107161#1' found.\n",
      "Warning: Mandatory edge '224107161#1' not reachable by vehicle 'h18_25933'.\n",
      "Warning: The vehicle 'h18_25933' has no valid route.\n",
      "Warning: No connection between edge '66848465#1' and edge '-112885002#1' found.\n",
      "Warning: Mandatory edge '-112885002#1' not reachable by vehicle 'h18_13029'.\n",
      "Warning: The vehicle 'h18_13029' has no valid route.\n",
      "Warning: No connection between edge '-24401910#2' and edge '-144160557#0' found.\n",
      "Warning: Mandatory edge '-144160557#0' not reachable by vehicle 'h18_13030'.\n",
      "Warning: The vehicle 'h18_13030' has no valid route.\n",
      "Warning: No connection between edge '1091788508' and edge '-291943437' found.\n",
      "Warning: Mandatory edge '-291943437' not reachable by vehicle 'h18_13219'.\n",
      "Warning: The vehicle 'h18_13219' has no valid route.\n",
      "Warning: No connection between edge '-53188473#0' and edge '-367820007' found.\n",
      "Warning: Mandatory edge '-367820007' not reachable by vehicle 'h18_13520'.\n",
      "Warning: The vehicle 'h18_13520' has no valid route.\n"
     ]
    },
    {
     "name": "stdout",
     "output_type": "stream",
     "text": [
      "Reading up to time step: 67001.15\r"
     ]
    },
    {
     "name": "stderr",
     "output_type": "stream",
     "text": [
      "Warning: No connection between edge '377991076#14' and edge '689636461' found.\n",
      "Warning: Mandatory edge '689636461' not reachable by vehicle 'h18_13624'.\n",
      "Warning: The vehicle 'h18_13624' has no valid route.\n",
      "Warning: No connection between edge '-161478825' and edge '367820004' found.\n",
      "Warning: Mandatory edge '367820004' not reachable by vehicle 'h18_13652'.\n",
      "Warning: The vehicle 'h18_13652' has no valid route.\n",
      "Warning: No connection between edge '780562172' and edge '-27773413#1' found.\n",
      "Warning: Mandatory edge '-27773413#1' not reachable by vehicle 'h18_13655'.\n",
      "Warning: The vehicle 'h18_13655' has no valid route.\n",
      "Warning: No connection between edge '24388046#1' and edge '783551598' found.\n",
      "Warning: Mandatory edge '783551598' not reachable by vehicle 'h18_13811'.\n",
      "Warning: The vehicle 'h18_13811' has no valid route.\n",
      "Warning: No connection between edge '432736752#0' and edge '-143962123#0' found.\n",
      "Warning: Mandatory edge '-143962123#0' not reachable by vehicle 'h18_14143'.\n",
      "Warning: The vehicle 'h18_14143' has no valid route.\n",
      "Warning: No connection between edge '-362380750#2' and edge '689636461' found.\n",
      "Warning: Mandatory edge '689636461' not reachable by vehicle 'h18_14220'.\n",
      "Warning: The vehicle 'h18_14220' has no valid route.\n",
      "Warning: No connection between edge '-53188481' and edge '-62023730' found.\n",
      "Warning: Mandatory edge '-62023730' not reachable by vehicle 'h18_14436'.\n",
      "Warning: The vehicle 'h18_14436' has no valid route.\n",
      "Warning: No connection between edge '-361898400#3' and edge '386307421#0' found.\n",
      "Warning: Mandatory edge '386307421#0' not reachable by vehicle 'h18_14505'.\n",
      "Warning: The vehicle 'h18_14505' has no valid route.\n",
      "Warning: No connection between edge '1091788508' and edge '323986787#0' found.\n",
      "Warning: Mandatory edge '323986787#0' not reachable by vehicle 'h18_14552'.\n",
      "Warning: The vehicle 'h18_14552' has no valid route.\n",
      "Warning: No connection between edge '1203882727#1' and edge '458289037' found.\n",
      "Warning: Mandatory edge '458289037' not reachable by vehicle 'h18_14564'.\n",
      "Warning: The vehicle 'h18_14564' has no valid route.\n",
      "Warning: No connection between edge '-688357782#0' and edge '53839118#0' found.\n",
      "Warning: Mandatory edge '53839118#0' not reachable by vehicle 'h18_14691'.\n",
      "Warning: The vehicle 'h18_14691' has no valid route.\n"
     ]
    },
    {
     "name": "stdout",
     "output_type": "stream",
     "text": [
      "Reading up to time step: 67201.15\r"
     ]
    },
    {
     "name": "stderr",
     "output_type": "stream",
     "text": [
      "Warning: No connection between edge '186618002#0' and edge '6312388#0' found.\n",
      "Warning: Mandatory edge '6312388#0' not reachable by vehicle 'h18_15087'.\n",
      "Warning: The vehicle 'h18_15087' has no valid route.\n",
      "Warning: No connection between edge '-394895435#2' and edge '62023740' found.\n",
      "Warning: Mandatory edge '62023740' not reachable by vehicle 'h18_15105'.\n",
      "Warning: The vehicle 'h18_15105' has no valid route.\n",
      "Warning: No connection between edge '-72049644' and edge '112885002#1' found.\n",
      "Warning: Mandatory edge '112885002#1' not reachable by vehicle 'h18_15441'.\n",
      "Warning: The vehicle 'h18_15441' has no valid route.\n",
      "Warning: No connection between edge '82286890' and edge '126205686' found.\n",
      "Warning: Mandatory edge '126205686' not reachable by vehicle 'h18_15662'.\n",
      "Warning: The vehicle 'h18_15662' has no valid route.\n"
     ]
    },
    {
     "name": "stdout",
     "output_type": "stream",
     "text": [
      "Reading up to time step: 67401.15\r"
     ]
    },
    {
     "name": "stderr",
     "output_type": "stream",
     "text": [
      "Warning: No connection between edge '24376199#7' and edge '-144160557#0' found.\n",
      "Warning: Mandatory edge '-144160557#0' not reachable by vehicle 'h18_16477'.\n",
      "Warning: The vehicle 'h18_16477' has no valid route.\n",
      "Warning: No connection between edge '683742975' and edge '510193650#3' found.\n",
      "Warning: Mandatory edge '510193650#3' not reachable by vehicle 'h18_16485'.\n",
      "Warning: The vehicle 'h18_16485' has no valid route.\n",
      "Warning: No connection between edge '-97805730#1' and edge '889503609' found.\n",
      "Warning: Mandatory edge '889503609' not reachable by vehicle 'h18_16495'.\n",
      "Warning: The vehicle 'h18_16495' has no valid route.\n",
      "Warning: No connection between edge '63676055#0' and edge '185722467#0' found.\n",
      "Warning: Mandatory edge '185722467#0' not reachable by vehicle 'h18_24657'.\n",
      "Warning: The vehicle 'h18_24657' has no valid route.\n",
      "Warning: No connection between edge '4352986#1' and edge '767313244' found.\n",
      "Warning: Mandatory edge '767313244' not reachable by vehicle 'h18_16667'.\n",
      "Warning: The vehicle 'h18_16667' has no valid route.\n",
      "Warning: No connection between edge '181738545#2' and edge '62023730' found.\n",
      "Warning: Mandatory edge '62023730' not reachable by vehicle 'h18_16678'.\n",
      "Warning: The vehicle 'h18_16678' has no valid route.\n",
      "Warning: No connection between edge '124060638#4' and edge '53190129#0' found.\n",
      "Warning: Mandatory edge '53190129#0' not reachable by vehicle 'h18_17055'.\n",
      "Warning: The vehicle 'h18_17055' has no valid route.\n",
      "Warning: No connection between edge '183741260' and edge '168559511#0' found.\n",
      "Warning: Mandatory edge '168559511#0' not reachable by vehicle 'h18_17095'.\n",
      "Warning: The vehicle 'h18_17095' has no valid route.\n",
      "Warning: No connection between edge '158422828#0' and edge '510193665' found.\n",
      "Warning: Mandatory edge '510193665' not reachable by vehicle 'h18_17156'.\n",
      "Warning: The vehicle 'h18_17156' has no valid route.\n",
      "Warning: No connection between edge '109075794' and edge '510193680' found.\n",
      "Warning: Mandatory edge '510193680' not reachable by vehicle 'h18_17340'.\n",
      "Warning: The vehicle 'h18_17340' has no valid route.\n",
      "Warning: No connection between edge '-297991919' and edge '144160547' found.\n",
      "Warning: Mandatory edge '144160547' not reachable by vehicle 'h18_17493'.\n",
      "Warning: The vehicle 'h18_17493' has no valid route.\n"
     ]
    },
    {
     "name": "stdout",
     "output_type": "stream",
     "text": [
      "Reading up to time step: 67601.15\r"
     ]
    },
    {
     "name": "stderr",
     "output_type": "stream",
     "text": [
      "Warning: No connection between edge '-113784807#0' and edge '510193650#1' found.\n",
      "Warning: Mandatory edge '510193650#1' not reachable by vehicle 'h18_18014'.\n",
      "Warning: The vehicle 'h18_18014' has no valid route.\n",
      "Warning: No connection between edge '780562172' and edge '103528144#0' found.\n",
      "Warning: Mandatory edge '103528144#0' not reachable by vehicle 'h18_18280'.\n",
      "Warning: The vehicle 'h18_18280' has no valid route.\n",
      "Warning: No connection between edge '156646572' and edge '62023740' found.\n",
      "Warning: Mandatory edge '62023740' not reachable by vehicle 'h18_18592'.\n",
      "Warning: The vehicle 'h18_18592' has no valid route.\n",
      "Warning: No connection between edge '-30281515#2' and edge '386307419' found.\n",
      "Warning: Mandatory edge '386307419' not reachable by vehicle 'h18_19199'.\n",
      "Warning: The vehicle 'h18_19199' has no valid route.\n"
     ]
    },
    {
     "name": "stdout",
     "output_type": "stream",
     "text": [
      "Reading up to time step: 67801.15\r"
     ]
    },
    {
     "name": "stderr",
     "output_type": "stream",
     "text": [
      "Warning: No connection between edge '-379562884#1' and edge '161432888' found.\n",
      "Warning: Mandatory edge '161432888' not reachable by vehicle 'h18_19230'.\n",
      "Warning: The vehicle 'h18_19230' has no valid route.\n",
      "Warning: No connection between edge '-160520096#4' and edge '-367820004' found.\n",
      "Warning: Mandatory edge '-367820004' not reachable by vehicle 'h18_19405'.\n",
      "Warning: The vehicle 'h18_19405' has no valid route.\n",
      "Warning: No connection between edge '124060633#1' and edge '-46999151' found.\n",
      "Warning: Mandatory edge '-46999151' not reachable by vehicle 'h18_19581'.\n",
      "Warning: The vehicle 'h18_19581' has no valid route.\n",
      "Warning: No connection between edge '316484599' and edge '689636461' found.\n",
      "Warning: Mandatory edge '689636461' not reachable by vehicle 'h18_19712'.\n",
      "Warning: The vehicle 'h18_19712' has no valid route.\n",
      "Warning: No connection between edge '74128330#1' and edge '538701025#1' found.\n",
      "Warning: Mandatory edge '538701025#1' not reachable by vehicle 'h18_19715'.\n",
      "Warning: The vehicle 'h18_19715' has no valid route.\n"
     ]
    },
    {
     "name": "stdout",
     "output_type": "stream",
     "text": [
      "Reading up to time step: 68001.15\r"
     ]
    },
    {
     "name": "stderr",
     "output_type": "stream",
     "text": [
      "Warning: No connection between edge '-1203112608' and edge '142428191' found.\n",
      "Warning: Mandatory edge '142428191' not reachable by vehicle 'h18_20465'.\n",
      "Warning: The vehicle 'h18_20465' has no valid route.\n",
      "Warning: No connection between edge '378355992' and edge '510193680' found.\n",
      "Warning: Mandatory edge '510193680' not reachable by vehicle 'h18_21142'.\n",
      "Warning: The vehicle 'h18_21142' has no valid route.\n",
      "Warning: No connection between edge '-27866154#1' and edge '386307421#1' found.\n",
      "Warning: Mandatory edge '386307421#1' not reachable by vehicle 'h18_21337'.\n",
      "Warning: The vehicle 'h18_21337' has no valid route.\n",
      "Warning: No connection between edge '561020809#2' and edge '510193674' found.\n",
      "Warning: Mandatory edge '510193674' not reachable by vehicle 'h18_21338'.\n",
      "Warning: The vehicle 'h18_21338' has no valid route.\n",
      "Warning: No connection between edge '150925676' and edge '-71440168' found.\n",
      "Warning: Mandatory edge '-71440168' not reachable by vehicle 'h18_21509'.\n",
      "Warning: The vehicle 'h18_21509' has no valid route.\n",
      "Warning: No connection between edge '132646386#5' and edge '510193661' found.\n",
      "Warning: Mandatory edge '510193661' not reachable by vehicle 'h18_21668'.\n",
      "Warning: The vehicle 'h18_21668' has no valid route.\n"
     ]
    },
    {
     "name": "stdout",
     "output_type": "stream",
     "text": [
      "Reading up to time step: 68201.15\r"
     ]
    },
    {
     "name": "stderr",
     "output_type": "stream",
     "text": [
      "Warning: No connection between edge '124060633#1' and edge '378355988' found.\n",
      "Warning: Mandatory edge '378355988' not reachable by vehicle 'h18_21783'.\n",
      "Warning: The vehicle 'h18_21783' has no valid route.\n",
      "Warning: No connection between edge '-109152404#6' and edge '281308645' found.\n",
      "Warning: Mandatory edge '281308645' not reachable by vehicle 'h18_22336'.\n",
      "Warning: The vehicle 'h18_22336' has no valid route.\n",
      "Warning: No connection between edge '65611558#2' and edge '666070226#0' found.\n",
      "Warning: Mandatory edge '666070226#0' not reachable by vehicle 'h18_22741'.\n",
      "Warning: The vehicle 'h18_22741' has no valid route.\n",
      "Warning: No connection between edge '360724307#0' and edge '386307421#0' found.\n",
      "Warning: Mandatory edge '386307421#0' not reachable by vehicle 'h18_22794'.\n",
      "Warning: The vehicle 'h18_22794' has no valid route.\n"
     ]
    },
    {
     "name": "stdout",
     "output_type": "stream",
     "text": [
      "Reading up to time step: 68401.15\r"
     ]
    },
    {
     "name": "stderr",
     "output_type": "stream",
     "text": [
      "Warning: No connection between edge '-142307138#1' and edge '510193664' found.\n",
      "Warning: Mandatory edge '510193664' not reachable by vehicle 'h18_24087'.\n",
      "Warning: The vehicle 'h18_24087' has no valid route.\n",
      "Warning: No connection between edge '27775312#2' and edge '510193635#1' found.\n",
      "Warning: Mandatory edge '510193635#1' not reachable by vehicle 'h18_24211'.\n",
      "Warning: The vehicle 'h18_24211' has no valid route.\n",
      "Warning: No connection between edge '925261618' and edge '156647094#3' found.\n",
      "Warning: Mandatory edge '156647094#3' not reachable by vehicle 'h18_24249'.\n",
      "Warning: The vehicle 'h18_24249' has no valid route.\n",
      "Warning: No connection between edge '890227107' and edge '144160557#0' found.\n",
      "Warning: Mandatory edge '144160557#0' not reachable by vehicle 'h19_174'.\n",
      "Warning: The vehicle 'h19_174' has no valid route.\n"
     ]
    },
    {
     "name": "stdout",
     "output_type": "stream",
     "text": [
      "Reading up to time step: 68601.15\r"
     ]
    },
    {
     "name": "stderr",
     "output_type": "stream",
     "text": [
      "Warning: No connection between edge '24257759' and edge '-143962123#1' found.\n",
      "Warning: Mandatory edge '-143962123#1' not reachable by vehicle 'h19_477'.\n",
      "Warning: The vehicle 'h19_477' has no valid route.\n",
      "Warning: No connection between edge '112885039' and edge '-113578820#5' found.\n",
      "Warning: Mandatory edge '-113578820#5' not reachable by vehicle 'h19_895'.\n",
      "Warning: The vehicle 'h19_895' has no valid route.\n",
      "Warning: No connection between edge '-53254125#1' and edge '98338695' found.\n",
      "Warning: Mandatory edge '98338695' not reachable by vehicle 'h19_1453'.\n",
      "Warning: The vehicle 'h19_1453' has no valid route.\n"
     ]
    },
    {
     "name": "stdout",
     "output_type": "stream",
     "text": [
      "Reading up to time step: 68801.15\r"
     ]
    },
    {
     "name": "stderr",
     "output_type": "stream",
     "text": [
      "Warning: No connection between edge '57378752' and edge '767313244' found.\n",
      "Warning: Mandatory edge '767313244' not reachable by vehicle 'h19_1471'.\n",
      "Warning: The vehicle 'h19_1471' has no valid route.\n",
      "Warning: No connection between edge '160531818' and edge '1200615233' found.\n",
      "Warning: Mandatory edge '1200615233' not reachable by vehicle 'h19_1554'.\n",
      "Warning: The vehicle 'h19_1554' has no valid route.\n",
      "Warning: No connection between edge '150925676' and edge '125596055#0' found.\n",
      "Warning: Mandatory edge '125596055#0' not reachable by vehicle 'h19_1771'.\n",
      "Warning: The vehicle 'h19_1771' has no valid route.\n",
      "Warning: No connection between edge '599253001' and edge '30281188#1' found.\n",
      "Warning: Mandatory edge '30281188#1' not reachable by vehicle 'h19_19204'.\n",
      "Warning: The vehicle 'h19_19204' has no valid route.\n"
     ]
    },
    {
     "name": "stdout",
     "output_type": "stream",
     "text": [
      "Reading up to time step: 69001.15\r"
     ]
    },
    {
     "name": "stderr",
     "output_type": "stream",
     "text": [
      "Warning: No connection between edge '1308456867#0' and edge '183727779#2' found.\n",
      "Warning: Mandatory edge '183727779#2' not reachable by vehicle 'h19_2131'.\n",
      "Warning: The vehicle 'h19_2131' has no valid route.\n",
      "Warning: No connection between edge '125483124#1' and edge '144160547' found.\n",
      "Warning: Mandatory edge '144160547' not reachable by vehicle 'h19_2456'.\n",
      "Warning: The vehicle 'h19_2456' has no valid route.\n",
      "Warning: No connection between edge '174134834' and edge '6312388#0' found.\n",
      "Warning: Mandatory edge '6312388#0' not reachable by vehicle 'h19_2482'.\n",
      "Warning: The vehicle 'h19_2482' has no valid route.\n",
      "Warning: No connection between edge '-793930821' and edge '112798985#0' found.\n",
      "Warning: Mandatory edge '112798985#0' not reachable by vehicle 'h19_2884'.\n",
      "Warning: The vehicle 'h19_2884' has no valid route.\n",
      "Warning: No connection between edge '124060638#6' and edge '436967663#0' found.\n",
      "Warning: Mandatory edge '436967663#0' not reachable by vehicle 'h19_3115'.\n",
      "Warning: The vehicle 'h19_3115' has no valid route.\n"
     ]
    },
    {
     "name": "stdout",
     "output_type": "stream",
     "text": [
      "Reading up to time step: 69201.15\r"
     ]
    },
    {
     "name": "stderr",
     "output_type": "stream",
     "text": [
      "Warning: No connection between edge '124060638#5' and edge '730185661#2' found.\n",
      "Warning: Mandatory edge '730185661#2' not reachable by vehicle 'h19_3128'.\n",
      "Warning: The vehicle 'h19_3128' has no valid route.\n",
      "Warning: No connection between edge '-112885009#0' and edge '-890168678' found.\n",
      "Warning: Mandatory edge '-890168678' not reachable by vehicle 'h19_3178'.\n",
      "Warning: The vehicle 'h19_3178' has no valid route.\n",
      "Warning: No connection between edge '125361363#0' and edge '156398858' found.\n",
      "Warning: Mandatory edge '156398858' not reachable by vehicle 'h19_3194'.\n",
      "Warning: The vehicle 'h19_3194' has no valid route.\n",
      "Warning: No connection between edge '-46994231#0' and edge '143962123#1' found.\n",
      "Warning: Mandatory edge '143962123#1' not reachable by vehicle 'h19_3548'.\n",
      "Warning: The vehicle 'h19_3548' has no valid route.\n",
      "Warning: No connection between edge '795284350' and edge '446955270' found.\n",
      "Warning: Mandatory edge '446955270' not reachable by vehicle 'h19_18972'.\n",
      "Warning: The vehicle 'h19_18972' has no valid route.\n",
      "Warning: No connection between edge '144312351#1' and edge '767313244' found.\n",
      "Warning: Mandatory edge '767313244' not reachable by vehicle 'h19_3629'.\n",
      "Warning: The vehicle 'h19_3629' has no valid route.\n"
     ]
    },
    {
     "name": "stdout",
     "output_type": "stream",
     "text": [
      "Reading up to time step: 69401.15\r"
     ]
    },
    {
     "name": "stderr",
     "output_type": "stream",
     "text": [
      "Warning: No connection between edge '718817455#0' and edge '49040116' found.\n",
      "Warning: Mandatory edge '49040116' not reachable by vehicle 'h19_19693'.\n",
      "Warning: The vehicle 'h19_19693' has no valid route.\n",
      "Warning: No connection between edge '-46997911#2' and edge '88119470' found.\n",
      "Warning: Mandatory edge '88119470' not reachable by vehicle 'h19_4325'.\n",
      "Warning: The vehicle 'h19_4325' has no valid route.\n",
      "Warning: No connection between edge '183741260' and edge '-432359700' found.\n",
      "Warning: Mandatory edge '-432359700' not reachable by vehicle 'h19_4352'.\n",
      "Warning: The vehicle 'h19_4352' has no valid route.\n",
      "Warning: No connection between edge '122372754' and edge '23361434#1' found.\n",
      "Warning: Mandatory edge '23361434#1' not reachable by vehicle 'h19_18190'.\n",
      "Warning: The vehicle 'h19_18190' has no valid route.\n",
      "Warning: No connection between edge '1091788508' and edge '434856057' found.\n",
      "Warning: Mandatory edge '434856057' not reachable by vehicle 'h19_4435'.\n",
      "Warning: The vehicle 'h19_4435' has no valid route.\n",
      "Warning: No connection between edge '-793930821' and edge '-183717705' found.\n",
      "Warning: Mandatory edge '-183717705' not reachable by vehicle 'h19_4613'.\n",
      "Warning: The vehicle 'h19_4613' has no valid route.\n",
      "Warning: No connection between edge '74359741#1' and edge '-30281188#2' found.\n",
      "Warning: Mandatory edge '-30281188#2' not reachable by vehicle 'h19_4719'.\n",
      "Warning: The vehicle 'h19_4719' has no valid route.\n"
     ]
    },
    {
     "name": "stdout",
     "output_type": "stream",
     "text": [
      "Reading up to time step: 69601.15\r"
     ]
    },
    {
     "name": "stderr",
     "output_type": "stream",
     "text": [
      "Warning: No connection between edge '40940287' and edge '386307421#0' found.\n",
      "Warning: Mandatory edge '386307421#0' not reachable by vehicle 'h19_5215'.\n",
      "Warning: The vehicle 'h19_5215' has no valid route.\n",
      "Warning: No connection between edge '331884240' and edge '689636461' found.\n",
      "Warning: Mandatory edge '689636461' not reachable by vehicle 'h19_5479'.\n",
      "Warning: The vehicle 'h19_5479' has no valid route.\n",
      "Warning: No connection between edge '28293007#1' and edge '-267380859#2' found.\n",
      "Warning: Mandatory edge '-267380859#2' not reachable by vehicle 'h19_19005'.\n",
      "Warning: The vehicle 'h19_19005' has no valid route.\n",
      "Warning: No connection between edge '112408657#1' and edge '1060073977' found.\n",
      "Warning: Mandatory edge '1060073977' not reachable by vehicle 'h19_19008'.\n",
      "Warning: The vehicle 'h19_19008' has no valid route.\n"
     ]
    },
    {
     "name": "stdout",
     "output_type": "stream",
     "text": [
      "Reading up to time step: 69801.15\r"
     ]
    },
    {
     "name": "stderr",
     "output_type": "stream",
     "text": [
      "Warning: No connection between edge '6311307#4' and edge '510193674' found.\n",
      "Warning: Mandatory edge '510193674' not reachable by vehicle 'h19_6355'.\n",
      "Warning: The vehicle 'h19_6355' has no valid route.\n",
      "Warning: No connection between edge '-180243325#0' and edge '6312388#0' found.\n",
      "Warning: Mandatory edge '6312388#0' not reachable by vehicle 'h19_6509'.\n",
      "Warning: The vehicle 'h19_6509' has no valid route.\n",
      "Warning: No connection between edge '-38668476#1' and edge '446955270' found.\n",
      "Warning: Mandatory edge '446955270' not reachable by vehicle 'h19_6579'.\n",
      "Warning: The vehicle 'h19_6579' has no valid route.\n",
      "Warning: No connection between edge '-841031630#4' and edge '446955265' found.\n",
      "Warning: Mandatory edge '446955265' not reachable by vehicle 'h19_6818'.\n",
      "Warning: The vehicle 'h19_6818' has no valid route.\n"
     ]
    },
    {
     "name": "stdout",
     "output_type": "stream",
     "text": [
      "Reading up to time step: 70001.15\r"
     ]
    },
    {
     "name": "stderr",
     "output_type": "stream",
     "text": [
      "Warning: No connection between edge '425187630' and edge '47001231#3' found.\n",
      "Warning: Mandatory edge '47001231#3' not reachable by vehicle 'h19_19462'.\n",
      "Warning: The vehicle 'h19_19462' has no valid route.\n",
      "Warning: No connection between edge '183741260' and edge '-714409789' found.\n",
      "Warning: Mandatory edge '-714409789' not reachable by vehicle 'h19_7024'.\n",
      "Warning: The vehicle 'h19_7024' has no valid route.\n",
      "Warning: No connection between edge '708310605' and edge '112885002#1' found.\n",
      "Warning: Mandatory edge '112885002#1' not reachable by vehicle 'h19_7381'.\n",
      "Warning: The vehicle 'h19_7381' has no valid route.\n",
      "Warning: No connection between edge '-35731487' and edge '367820004' found.\n",
      "Warning: Mandatory edge '367820004' not reachable by vehicle 'h19_7627'.\n",
      "Warning: The vehicle 'h19_7627' has no valid route.\n"
     ]
    },
    {
     "name": "stdout",
     "output_type": "stream",
     "text": [
      "Reading up to time step: 70201.15\r"
     ]
    },
    {
     "name": "stderr",
     "output_type": "stream",
     "text": [
      "Warning: No connection between edge '-793930821' and edge '142525740#2' found.\n",
      "Warning: Mandatory edge '142525740#2' not reachable by vehicle 'h19_7838'.\n",
      "Warning: The vehicle 'h19_7838' has no valid route.\n",
      "Warning: No connection between edge '-3627712#1' and edge '-143962120' found.\n",
      "Warning: Mandatory edge '-143962120' not reachable by vehicle 'h19_7999'.\n",
      "Warning: The vehicle 'h19_7999' has no valid route.\n",
      "Warning: No connection between edge '27769653#1' and edge '144160557#0' found.\n",
      "Warning: Mandatory edge '144160557#0' not reachable by vehicle 'h19_8046'.\n",
      "Warning: The vehicle 'h19_8046' has no valid route.\n",
      "Warning: No connection between edge '427387519#6' and edge '-383076320' found.\n",
      "Warning: Mandatory edge '-383076320' not reachable by vehicle 'h19_8151'.\n",
      "Warning: The vehicle 'h19_8151' has no valid route.\n",
      "Warning: No connection between edge '410060795-AddedOffRampEdge' and edge '666070226#0' found.\n",
      "Warning: Mandatory edge '666070226#0' not reachable by vehicle 'h19_8303'.\n",
      "Warning: The vehicle 'h19_8303' has no valid route.\n",
      "Warning: No connection between edge '156398864' and edge '-132646386#4' found.\n",
      "Warning: Mandatory edge '-132646386#4' not reachable by vehicle 'h19_8369'.\n",
      "Warning: The vehicle 'h19_8369' has no valid route.\n"
     ]
    },
    {
     "name": "stdout",
     "output_type": "stream",
     "text": [
      "Reading up to time step: 70401.15\r"
     ]
    },
    {
     "name": "stderr",
     "output_type": "stream",
     "text": [
      "Warning: No connection between edge '677786221' and edge '139964392#2' found.\n",
      "Warning: Mandatory edge '139964392#2' not reachable by vehicle 'h19_19061'.\n",
      "Warning: The vehicle 'h19_19061' has no valid route.\n",
      "Warning: No connection between edge '181781578#0' and edge '143962123#2' found.\n",
      "Warning: Mandatory edge '143962123#2' not reachable by vehicle 'h19_9185'.\n",
      "Warning: The vehicle 'h19_9185' has no valid route.\n",
      "Warning: No connection between edge '368122110' and edge '510193674' found.\n",
      "Warning: Mandatory edge '510193674' not reachable by vehicle 'h19_9420'.\n",
      "Warning: The vehicle 'h19_9420' has no valid route.\n",
      "Warning: No connection between edge '-440199330' and edge '-383076320' found.\n",
      "Warning: Mandatory edge '-383076320' not reachable by vehicle 'h19_9477'.\n",
      "Warning: The vehicle 'h19_9477' has no valid route.\n",
      "Warning: No connection between edge '452056062' and edge '112885002#0' found.\n",
      "Warning: Mandatory edge '112885002#0' not reachable by vehicle 'h19_9594'.\n",
      "Warning: The vehicle 'h19_9594' has no valid route.\n",
      "Warning: No connection between edge '1332793122' and edge '-24911715#1' found.\n",
      "Warning: Mandatory edge '-24911715#1' not reachable by vehicle 'h19_9668'.\n",
      "Warning: The vehicle 'h19_9668' has no valid route.\n"
     ]
    },
    {
     "name": "stdout",
     "output_type": "stream",
     "text": [
      "Reading up to time step: 70601.15\r"
     ]
    },
    {
     "name": "stderr",
     "output_type": "stream",
     "text": [
      "Warning: No connection between edge '446955267' and edge '650770802#1' found.\n",
      "Warning: Mandatory edge '650770802#1' not reachable by vehicle 'h19_10040'.\n",
      "Warning: The vehicle 'h19_10040' has no valid route.\n",
      "Warning: No connection between edge '113706933#1' and edge '-510193683' found.\n",
      "Warning: Mandatory edge '-510193683' not reachable by vehicle 'h19_10153'.\n",
      "Warning: The vehicle 'h19_10153' has no valid route.\n",
      "Warning: No connection between edge '604907835' and edge '62023740' found.\n",
      "Warning: Mandatory edge '62023740' not reachable by vehicle 'h19_10328'.\n",
      "Warning: The vehicle 'h19_10328' has no valid route.\n",
      "Warning: No connection between edge '374058176#0' and edge '98338695' found.\n",
      "Warning: Mandatory edge '98338695' not reachable by vehicle 'h19_10522'.\n",
      "Warning: The vehicle 'h19_10522' has no valid route.\n",
      "Warning: No connection between edge '53788973#0' and edge '-1060073977' found.\n",
      "Warning: Mandatory edge '-1060073977' not reachable by vehicle 'h19_10702'.\n",
      "Warning: The vehicle 'h19_10702' has no valid route.\n"
     ]
    },
    {
     "name": "stdout",
     "output_type": "stream",
     "text": [
      "Reading up to time step: 70801.15\r"
     ]
    },
    {
     "name": "stderr",
     "output_type": "stream",
     "text": [
      "Warning: No connection between edge '-753629983#7' and edge '1200615233' found.\n",
      "Warning: Mandatory edge '1200615233' not reachable by vehicle 'h19_19739'.\n",
      "Warning: The vehicle 'h19_19739' has no valid route.\n",
      "Warning: No connection between edge '676331843#0' and edge '-383076320' found.\n",
      "Warning: Mandatory edge '-383076320' not reachable by vehicle 'h19_10864'.\n",
      "Warning: The vehicle 'h19_10864' has no valid route.\n",
      "Warning: No connection between edge '-281308645' and edge '-398118466#8' found.\n",
      "Warning: Mandatory edge '-398118466#8' not reachable by vehicle 'h19_11036'.\n",
      "Warning: The vehicle 'h19_11036' has no valid route.\n",
      "Warning: No connection between edge '99205855' and edge '1060073977' found.\n",
      "Warning: Mandatory edge '1060073977' not reachable by vehicle 'h19_11327'.\n",
      "Warning: The vehicle 'h19_11327' has no valid route.\n",
      "Warning: No connection between edge '27769117' and edge '510193650#6' found.\n",
      "Warning: Mandatory edge '510193650#6' not reachable by vehicle 'h19_11414'.\n",
      "Warning: The vehicle 'h19_11414' has no valid route.\n",
      "Warning: No connection between edge '787496341' and edge '510193635#1' found.\n",
      "Warning: Mandatory edge '510193635#1' not reachable by vehicle 'h19_11516'.\n",
      "Warning: The vehicle 'h19_11516' has no valid route.\n",
      "Warning: No connection between edge '-1359576419' and edge '263520769#0' found.\n",
      "Warning: Mandatory edge '263520769#0' not reachable by vehicle 'h19_11528'.\n",
      "Warning: The vehicle 'h19_11528' has no valid route.\n",
      "Warning: No connection between edge '53798005' and edge '510193664' found.\n",
      "Warning: Mandatory edge '510193664' not reachable by vehicle 'h19_11587'.\n",
      "Warning: The vehicle 'h19_11587' has no valid route.\n",
      "Warning: No connection between edge '-96717413' and edge '-46988958#0' found.\n",
      "Warning: Mandatory edge '-46988958#0' not reachable by vehicle 'h19_18793'.\n",
      "Warning: The vehicle 'h19_18793' has no valid route.\n"
     ]
    },
    {
     "name": "stdout",
     "output_type": "stream",
     "text": [
      "Reading up to time step: 71001.15\r"
     ]
    },
    {
     "name": "stderr",
     "output_type": "stream",
     "text": [
      "Warning: No connection between edge '232788067#2' and edge '-82285287#1' found.\n",
      "Warning: Mandatory edge '-82285287#1' not reachable by vehicle 'h19_11609'.\n",
      "Warning: The vehicle 'h19_11609' has no valid route.\n",
      "Warning: No connection between edge '-173983028' and edge '281308645' found.\n",
      "Warning: Mandatory edge '281308645' not reachable by vehicle 'h19_11827'.\n",
      "Warning: The vehicle 'h19_11827' has no valid route.\n",
      "Warning: No connection between edge '183741260' and edge '-137294378#0' found.\n",
      "Warning: Mandatory edge '-137294378#0' not reachable by vehicle 'h19_12098'.\n",
      "Warning: The vehicle 'h19_12098' has no valid route.\n",
      "Warning: No connection between edge '925261618' and edge '151741486' found.\n",
      "Warning: Mandatory edge '151741486' not reachable by vehicle 'h19_12141'.\n",
      "Warning: The vehicle 'h19_12141' has no valid route.\n",
      "Warning: No connection between edge '-150925676' and edge '-1162520154' found.\n",
      "Warning: Mandatory edge '-1162520154' not reachable by vehicle 'h19_12365'.\n",
      "Warning: The vehicle 'h19_12365' has no valid route.\n",
      "Warning: No connection between edge '-1079041860' and edge '98338695' found.\n",
      "Warning: Mandatory edge '98338695' not reachable by vehicle 'h19_12430'.\n",
      "Warning: The vehicle 'h19_12430' has no valid route.\n"
     ]
    },
    {
     "name": "stdout",
     "output_type": "stream",
     "text": [
      "Reading up to time step: 71201.15\r"
     ]
    },
    {
     "name": "stderr",
     "output_type": "stream",
     "text": [
      "Warning: No connection between edge '166489335#0' and edge '144160557#2' found.\n",
      "Warning: Mandatory edge '144160557#2' not reachable by vehicle 'h19_12678'.\n",
      "Warning: The vehicle 'h19_12678' has no valid route.\n",
      "Warning: No connection between edge '-71817030#0' and edge '6312388#0' found.\n",
      "Warning: Mandatory edge '6312388#0' not reachable by vehicle 'h19_13112'.\n",
      "Warning: The vehicle 'h19_13112' has no valid route.\n",
      "Warning: No connection between edge '102541839#1' and edge '167692614#0' found.\n",
      "Warning: Mandatory edge '167692614#0' not reachable by vehicle 'h19_13122'.\n",
      "Warning: The vehicle 'h19_13122' has no valid route.\n",
      "Warning: No connection between edge '539593897' and edge '-367820007' found.\n",
      "Warning: Mandatory edge '-367820007' not reachable by vehicle 'h19_13212'.\n",
      "Warning: The vehicle 'h19_13212' has no valid route.\n",
      "Warning: No connection between edge '156672384#1' and edge '1200615233' found.\n",
      "Warning: Mandatory edge '1200615233' not reachable by vehicle 'h19_13384'.\n",
      "Warning: The vehicle 'h19_13384' has no valid route.\n",
      "Warning: No connection between edge '-1195452277' and edge '-367820004' found.\n",
      "Warning: Mandatory edge '-367820004' not reachable by vehicle 'h19_13505'.\n",
      "Warning: The vehicle 'h19_13505' has no valid route.\n"
     ]
    },
    {
     "name": "stdout",
     "output_type": "stream",
     "text": [
      "Reading up to time step: 71401.15\r"
     ]
    },
    {
     "name": "stderr",
     "output_type": "stream",
     "text": [
      "Warning: No connection between edge '23146230' and edge '135993924' found.\n",
      "Warning: Mandatory edge '135993924' not reachable by vehicle 'h19_18834'.\n",
      "Warning: The vehicle 'h19_18834' has no valid route.\n",
      "Warning: No connection between edge '70186981#0' and edge '144160547' found.\n",
      "Warning: Mandatory edge '144160547' not reachable by vehicle 'h19_13595'.\n",
      "Warning: The vehicle 'h19_13595' has no valid route.\n",
      "Warning: No connection between edge '175845672#1' and edge '-367820007' found.\n",
      "Warning: Mandatory edge '-367820007' not reachable by vehicle 'h19_18837'.\n",
      "Warning: The vehicle 'h19_18837' has no valid route.\n",
      "Warning: No connection between edge '28117591#5' and edge '-24255499#7' found.\n",
      "Warning: Mandatory edge '-24255499#7' not reachable by vehicle 'h19_13737'.\n",
      "Warning: The vehicle 'h19_13737' has no valid route.\n",
      "Warning: No connection between edge '-793930821' and edge '24792132' found.\n",
      "Warning: Mandatory edge '24792132' not reachable by vehicle 'h19_13744'.\n",
      "Warning: The vehicle 'h19_13744' has no valid route.\n",
      "Warning: No connection between edge '1091788508' and edge '434365391#1' found.\n",
      "Warning: Mandatory edge '434365391#1' not reachable by vehicle 'h19_13842'.\n",
      "Warning: The vehicle 'h19_13842' has no valid route.\n",
      "Warning: No connection between edge '-33563211#10' and edge '-144160557#2' found.\n",
      "Warning: Mandatory edge '-144160557#2' not reachable by vehicle 'h19_19142'.\n",
      "Warning: The vehicle 'h19_19142' has no valid route.\n",
      "Warning: No connection between edge '361260536#1' and edge '-383076320' found.\n",
      "Warning: Mandatory edge '-383076320' not reachable by vehicle 'h19_13948'.\n",
      "Warning: The vehicle 'h19_13948' has no valid route.\n",
      "Warning: No connection between edge '897072248#0' and edge '510193650#5' found.\n",
      "Warning: Mandatory edge '510193650#5' not reachable by vehicle 'h19_14524'.\n",
      "Warning: The vehicle 'h19_14524' has no valid route.\n"
     ]
    },
    {
     "name": "stdout",
     "output_type": "stream",
     "text": [
      "Reading up to time step: 71601.15\r"
     ]
    },
    {
     "name": "stderr",
     "output_type": "stream",
     "text": [
      "Warning: No connection between edge '-713872937#0' and edge '510193650#5' found.\n",
      "Warning: Mandatory edge '510193650#5' not reachable by vehicle 'h19_14789'.\n",
      "Warning: The vehicle 'h19_14789' has no valid route.\n",
      "Warning: No connection between edge '-688357782#0' and edge '-97805738#1' found.\n",
      "Warning: Mandatory edge '-97805738#1' not reachable by vehicle 'h19_14923'.\n",
      "Warning: The vehicle 'h19_14923' has no valid route.\n",
      "Warning: No connection between edge '138100436' and edge '783551598' found.\n",
      "Warning: Mandatory edge '783551598' not reachable by vehicle 'h19_14954'.\n",
      "Warning: The vehicle 'h19_14954' has no valid route.\n",
      "Warning: No connection between edge '1308456867#0' and edge '-159245855' found.\n",
      "Warning: Mandatory edge '-159245855' not reachable by vehicle 'h19_14980'.\n",
      "Warning: The vehicle 'h19_14980' has no valid route.\n",
      "Warning: No connection between edge '1332793122' and edge '-53538481#2' found.\n",
      "Warning: Mandatory edge '-53538481#2' not reachable by vehicle 'h19_15249'.\n",
      "Warning: The vehicle 'h19_15249' has no valid route.\n"
     ]
    },
    {
     "name": "stdout",
     "output_type": "stream",
     "text": [
      "Reading up to time step: 71801.15\r"
     ]
    },
    {
     "name": "stderr",
     "output_type": "stream",
     "text": [
      "Warning: No connection between edge '681629850' and edge '-367820004' found.\n",
      "Warning: Mandatory edge '-367820004' not reachable by vehicle 'h19_18875'.\n",
      "Warning: The vehicle 'h19_18875' has no valid route.\n",
      "Warning: No connection between edge '183741260' and edge '123183355#0' found.\n",
      "Warning: Mandatory edge '123183355#0' not reachable by vehicle 'h19_15861'.\n",
      "Warning: The vehicle 'h19_15861' has no valid route.\n",
      "Warning: No connection between edge '124060638#5' and edge '1225462740#0' found.\n",
      "Warning: Mandatory edge '1225462740#0' not reachable by vehicle 'h19_16137'.\n",
      "Warning: The vehicle 'h19_16137' has no valid route.\n",
      "Warning: No connection between edge '85817468' and edge '62023728#1' found.\n",
      "Warning: Mandatory edge '62023728#1' not reachable by vehicle 'h19_16351'.\n",
      "Warning: The vehicle 'h19_16351' has no valid route.\n",
      "Warning: No connection between edge '182554355' and edge '770913970#1' found.\n",
      "Warning: Mandatory edge '770913970#1' not reachable by vehicle 'h19_18547'.\n",
      "Warning: The vehicle 'h19_18547' has no valid route.\n"
     ]
    },
    {
     "name": "stdout",
     "output_type": "stream",
     "text": [
      "Reading up to time step: 72001.15\r"
     ]
    },
    {
     "name": "stderr",
     "output_type": "stream",
     "text": [
      "Warning: No connection between edge '-281308645' and edge '-125483120#0' found.\n",
      "Warning: Mandatory edge '-125483120#0' not reachable by vehicle 'h19_16944'.\n",
      "Warning: The vehicle 'h19_16944' has no valid route.\n",
      "Warning: No connection between edge '-688357782#1' and edge '-55336420#0' found.\n",
      "Warning: Mandatory edge '-55336420#0' not reachable by vehicle 'h19_16991'.\n",
      "Warning: The vehicle 'h19_16991' has no valid route.\n",
      "Warning: No connection between edge '-53838837' and edge '263520769#0' found.\n",
      "Warning: Mandatory edge '263520769#0' not reachable by vehicle 'h19_17084'.\n",
      "Warning: The vehicle 'h19_17084' has no valid route.\n",
      "Warning: No connection between edge '-139964392#1' and edge '493061137' found.\n",
      "Warning: Mandatory edge '493061137' not reachable by vehicle 'h19_17202'.\n",
      "Warning: The vehicle 'h19_17202' has no valid route.\n",
      "Warning: No connection between edge '247667819#1' and edge '386307421#1' found.\n",
      "Warning: Mandatory edge '386307421#1' not reachable by vehicle 'h19_17241'.\n",
      "Warning: The vehicle 'h19_17241' has no valid route.\n",
      "Warning: No connection between edge '122372754' and edge '377754206#1' found.\n",
      "Warning: Mandatory edge '377754206#1' not reachable by vehicle 'h19_17306'.\n",
      "Warning: The vehicle 'h19_17306' has no valid route.\n",
      "Warning: No connection between edge '-866024664' and edge '88119470' found.\n",
      "Warning: Mandatory edge '88119470' not reachable by vehicle 'h20_75'.\n",
      "Warning: The vehicle 'h20_75' has no valid route.\n"
     ]
    },
    {
     "name": "stdout",
     "output_type": "stream",
     "text": [
      "Reading up to time step: 72201.15\r"
     ]
    },
    {
     "name": "stderr",
     "output_type": "stream",
     "text": [
      "Warning: No connection between edge '508862126' and edge '-62023730' found.\n",
      "Warning: Mandatory edge '-62023730' not reachable by vehicle 'h20_322'.\n",
      "Warning: The vehicle 'h20_322' has no valid route.\n",
      "Warning: No connection between edge '124060638#6' and edge '-46962497#0' found.\n",
      "Warning: Mandatory edge '-46962497#0' not reachable by vehicle 'h20_631'.\n",
      "Warning: The vehicle 'h20_631' has no valid route.\n",
      "Warning: No connection between edge '53513809#1' and edge '62023740' found.\n",
      "Warning: Mandatory edge '62023740' not reachable by vehicle 'h20_1001'.\n",
      "Warning: The vehicle 'h20_1001' has no valid route.\n"
     ]
    },
    {
     "name": "stdout",
     "output_type": "stream",
     "text": [
      "Reading up to time step: 72401.15\r"
     ]
    },
    {
     "name": "stderr",
     "output_type": "stream",
     "text": [
      "Warning: No connection between edge '64096009#1' and edge '510193680' found.\n",
      "Warning: Mandatory edge '510193680' not reachable by vehicle 'h20_1143'.\n",
      "Warning: The vehicle 'h20_1143' has no valid route.\n",
      "Warning: No connection between edge '-27769535#0' and edge '143962123#1' found.\n",
      "Warning: Mandatory edge '143962123#1' not reachable by vehicle 'h20_1742'.\n",
      "Warning: The vehicle 'h20_1742' has no valid route.\n"
     ]
    },
    {
     "name": "stdout",
     "output_type": "stream",
     "text": [
      "Reading up to time step: 72601.15\r"
     ]
    },
    {
     "name": "stderr",
     "output_type": "stream",
     "text": [
      "Warning: No connection between edge '122372754' and edge '71897754#1' found.\n",
      "Warning: Mandatory edge '71897754#1' not reachable by vehicle 'h20_1830'.\n",
      "Warning: The vehicle 'h20_1830' has no valid route.\n",
      "Warning: No connection between edge '-430026087#2' and edge '4387061#0' found.\n",
      "Warning: Mandatory edge '4387061#0' not reachable by vehicle 'h20_1864'.\n",
      "Warning: The vehicle 'h20_1864' has no valid route.\n"
     ]
    },
    {
     "name": "stdout",
     "output_type": "stream",
     "text": [
      "Reading up to time step: 72801.15\r"
     ]
    },
    {
     "name": "stderr",
     "output_type": "stream",
     "text": [
      "Warning: No connection between edge '-72049676#1' and edge '510193650#1' found.\n",
      "Warning: Mandatory edge '510193650#1' not reachable by vehicle 'h20_2251'.\n",
      "Warning: The vehicle 'h20_2251' has no valid route.\n",
      "Warning: No connection between edge '-40937954' and edge '510193680' found.\n",
      "Warning: Mandatory edge '510193680' not reachable by vehicle 'h20_2397'.\n",
      "Warning: The vehicle 'h20_2397' has no valid route.\n"
     ]
    },
    {
     "name": "stdout",
     "output_type": "stream",
     "text": [
      "Reading up to time step: 73001.15\r"
     ]
    },
    {
     "name": "stderr",
     "output_type": "stream",
     "text": [
      "Warning: No connection between edge '112885039' and edge '49039546#6' found.\n",
      "Warning: Mandatory edge '49039546#6' not reachable by vehicle 'h20_2680'.\n",
      "Warning: The vehicle 'h20_2680' has no valid route.\n",
      "Warning: No connection between edge '112885039' and edge '-268397081#0' found.\n",
      "Warning: Mandatory edge '-268397081#0' not reachable by vehicle 'h20_2744'.\n",
      "Warning: The vehicle 'h20_2744' has no valid route.\n",
      "Warning: No connection between edge '201084757' and edge '493061137' found.\n",
      "Warning: Mandatory edge '493061137' not reachable by vehicle 'h20_2853'.\n",
      "Warning: The vehicle 'h20_2853' has no valid route.\n",
      "Warning: No connection between edge '51196009#5' and edge '1060073977' found.\n",
      "Warning: Mandatory edge '1060073977' not reachable by vehicle 'h20_2956'.\n",
      "Warning: The vehicle 'h20_2956' has no valid route.\n",
      "Warning: No connection between edge '-1116553451#1' and edge '510193665' found.\n",
      "Warning: Mandatory edge '510193665' not reachable by vehicle 'h20_3066'.\n",
      "Warning: The vehicle 'h20_3066' has no valid route.\n",
      "Warning: No connection between edge '925261618' and edge '-342117698#2' found.\n",
      "Warning: Mandatory edge '-342117698#2' not reachable by vehicle 'h20_3203'.\n",
      "Warning: The vehicle 'h20_3203' has no valid route.\n",
      "Warning: No connection between edge '-24255341#2' and edge '112885002#1' found.\n",
      "Warning: Mandatory edge '112885002#1' not reachable by vehicle 'h20_3840'.\n",
      "Warning: The vehicle 'h20_3840' has no valid route.\n"
     ]
    },
    {
     "name": "stdout",
     "output_type": "stream",
     "text": [
      "Reading up to time step: 73401.15\r"
     ]
    },
    {
     "name": "stderr",
     "output_type": "stream",
     "text": [
      "Warning: No connection between edge '53253214' and edge '143962123#2' found.\n",
      "Warning: Mandatory edge '143962123#2' not reachable by vehicle 'h20_3913'.\n",
      "Warning: The vehicle 'h20_3913' has no valid route.\n",
      "Warning: No connection between edge '1367068984' and edge '979827938#0' found.\n",
      "Warning: Mandatory edge '979827938#0' not reachable by vehicle 'h20_3987'.\n",
      "Warning: The vehicle 'h20_3987' has no valid route.\n",
      "Warning: No connection between edge '425187630' and edge '24790435#6' found.\n",
      "Warning: Mandatory edge '24790435#6' not reachable by vehicle 'h20_12983'.\n",
      "Warning: The vehicle 'h20_12983' has no valid route.\n",
      "Warning: No connection between edge '604908237' and edge '510193650#3' found.\n",
      "Warning: Mandatory edge '510193650#3' not reachable by vehicle 'h20_4233'.\n",
      "Warning: The vehicle 'h20_4233' has no valid route.\n",
      "Warning: No connection between edge '144252635' and edge '783551598' found.\n",
      "Warning: Mandatory edge '783551598' not reachable by vehicle 'h20_4426'.\n",
      "Warning: The vehicle 'h20_4426' has no valid route.\n",
      "Warning: No connection between edge '51555615' and edge '386307419' found.\n",
      "Warning: Mandatory edge '386307419' not reachable by vehicle 'h20_4891'.\n",
      "Warning: The vehicle 'h20_4891' has no valid route.\n"
     ]
    },
    {
     "name": "stdout",
     "output_type": "stream",
     "text": [
      "Reading up to time step: 73601.15\r"
     ]
    },
    {
     "name": "stderr",
     "output_type": "stream",
     "text": [
      "Warning: No connection between edge '195101783#0' and edge '-143962120' found.\n",
      "Warning: Mandatory edge '-143962120' not reachable by vehicle 'h20_5023'.\n",
      "Warning: The vehicle 'h20_5023' has no valid route.\n",
      "Warning: No connection between edge '446955267' and edge '210648062#1' found.\n",
      "Warning: Mandatory edge '210648062#1' not reachable by vehicle 'h20_11901'.\n",
      "Warning: The vehicle 'h20_11901' has no valid route.\n"
     ]
    },
    {
     "name": "stdout",
     "output_type": "stream",
     "text": [
      "Reading up to time step: 73801.15\r"
     ]
    },
    {
     "name": "stderr",
     "output_type": "stream",
     "text": [
      "Warning: No connection between edge '426594781' and edge '510193650#3' found.\n",
      "Warning: Mandatory edge '510193650#3' not reachable by vehicle 'h20_5724'.\n",
      "Warning: The vehicle 'h20_5724' has no valid route.\n",
      "Warning: No connection between edge '-120865125#7' and edge '1367068983' found.\n",
      "Warning: Mandatory edge '1367068983' not reachable by vehicle 'h20_6076'.\n",
      "Warning: The vehicle 'h20_6076' has no valid route.\n"
     ]
    },
    {
     "name": "stdout",
     "output_type": "stream",
     "text": [
      "Reading up to time step: 74001.15\r"
     ]
    },
    {
     "name": "stderr",
     "output_type": "stream",
     "text": [
      "Warning: No connection between edge '46986556#5' and edge '510193683' found.\n",
      "Warning: Mandatory edge '510193683' not reachable by vehicle 'h20_6171'.\n",
      "Warning: The vehicle 'h20_6171' has no valid route.\n",
      "Warning: No connection between edge '-133408938#1' and edge '-383076320' found.\n",
      "Warning: Mandatory edge '-383076320' not reachable by vehicle 'h20_6195'.\n",
      "Warning: The vehicle 'h20_6195' has no valid route.\n",
      "Warning: No connection between edge '53189098#1' and edge '143962123#2' found.\n",
      "Warning: Mandatory edge '143962123#2' not reachable by vehicle 'h20_6214'.\n",
      "Warning: The vehicle 'h20_6214' has no valid route.\n",
      "Warning: No connection between edge '88106731' and edge '510193664' found.\n",
      "Warning: Mandatory edge '510193664' not reachable by vehicle 'h20_6251'.\n",
      "Warning: The vehicle 'h20_6251' has no valid route.\n",
      "Warning: No connection between edge '-377991076#12' and edge '143962120' found.\n",
      "Warning: Mandatory edge '143962120' not reachable by vehicle 'h20_6541'.\n",
      "Warning: The vehicle 'h20_6541' has no valid route.\n"
     ]
    },
    {
     "name": "stdout",
     "output_type": "stream",
     "text": [
      "Reading up to time step: 74201.15\r"
     ]
    },
    {
     "name": "stderr",
     "output_type": "stream",
     "text": [
      "Warning: No connection between edge '28117591#5' and edge '378355994#2' found.\n",
      "Warning: Mandatory edge '378355994#2' not reachable by vehicle 'h20_6717'.\n",
      "Warning: The vehicle 'h20_6717' has no valid route.\n",
      "Warning: No connection between edge '1332793122' and edge '-46997997#1' found.\n",
      "Warning: Mandatory edge '-46997997#1' not reachable by vehicle 'h20_6732'.\n",
      "Warning: The vehicle 'h20_6732' has no valid route.\n",
      "Warning: No connection between edge '377395400#0' and edge '98338695' found.\n",
      "Warning: Mandatory edge '98338695' not reachable by vehicle 'h20_6797'.\n",
      "Warning: The vehicle 'h20_6797' has no valid route.\n",
      "Warning: No connection between edge '669182012' and edge '143962123#1' found.\n",
      "Warning: Mandatory edge '143962123#1' not reachable by vehicle 'h20_6925'.\n",
      "Warning: The vehicle 'h20_6925' has no valid route.\n"
     ]
    },
    {
     "name": "stdout",
     "output_type": "stream",
     "text": [
      "Reading up to time step: 74401.15\r"
     ]
    },
    {
     "name": "stderr",
     "output_type": "stream",
     "text": [
      "Warning: No connection between edge '6309975#0' and edge '689636461' found.\n",
      "Warning: Mandatory edge '689636461' not reachable by vehicle 'h20_7600'.\n",
      "Warning: The vehicle 'h20_7600' has no valid route.\n"
     ]
    },
    {
     "name": "stdout",
     "output_type": "stream",
     "text": [
      "Reading up to time step: 74601.15\r"
     ]
    },
    {
     "name": "stderr",
     "output_type": "stream",
     "text": [
      "Warning: No connection between edge '125152246#1' and edge '-143962123#2' found.\n",
      "Warning: Mandatory edge '-143962123#2' not reachable by vehicle 'h20_7728'.\n",
      "Warning: The vehicle 'h20_7728' has no valid route.\n",
      "Warning: No connection between edge '493061137' and edge '-425505772' found.\n",
      "Warning: Mandatory edge '-425505772' not reachable by vehicle 'h20_8081'.\n",
      "Warning: The vehicle 'h20_8081' has no valid route.\n",
      "Warning: No connection between edge '112885039' and edge '-141678529#1' found.\n",
      "Warning: Mandatory edge '-141678529#1' not reachable by vehicle 'h20_8136'.\n",
      "Warning: The vehicle 'h20_8136' has no valid route.\n",
      "Warning: No connection between edge '-82287658' and edge '62023728#0' found.\n",
      "Warning: Mandatory edge '62023728#0' not reachable by vehicle 'h20_8492'.\n",
      "Warning: The vehicle 'h20_8492' has no valid route.\n"
     ]
    },
    {
     "name": "stdout",
     "output_type": "stream",
     "text": [
      "Reading up to time step: 74801.15\r"
     ]
    },
    {
     "name": "stderr",
     "output_type": "stream",
     "text": [
      "Warning: No connection between edge '182670542#3' and edge '144160547' found.\n",
      "Warning: Mandatory edge '144160547' not reachable by vehicle 'h20_8532'.\n",
      "Warning: The vehicle 'h20_8532' has no valid route.\n",
      "Warning: No connection between edge '1367068984' and edge '-39791925#15' found.\n",
      "Warning: Mandatory edge '-39791925#15' not reachable by vehicle 'h20_8553'.\n",
      "Warning: The vehicle 'h20_8553' has no valid route.\n",
      "Warning: No connection between edge '-144852127#1' and edge '666070226#0' found.\n",
      "Warning: Mandatory edge '666070226#0' not reachable by vehicle 'h20_8564'.\n",
      "Warning: The vehicle 'h20_8564' has no valid route.\n",
      "Warning: No connection between edge '-28177298#4' and edge '112885002#1' found.\n",
      "Warning: Mandatory edge '112885002#1' not reachable by vehicle 'h20_12843'.\n",
      "Warning: The vehicle 'h20_12843' has no valid route.\n",
      "Warning: No connection between edge '377991087#4' and edge '-143962123#0' found.\n",
      "Warning: Mandatory edge '-143962123#0' not reachable by vehicle 'h20_8649'.\n",
      "Warning: The vehicle 'h20_8649' has no valid route.\n",
      "Warning: No connection between edge '688357782#0' and edge '547697576' found.\n",
      "Warning: Mandatory edge '547697576' not reachable by vehicle 'h20_8706'.\n",
      "Warning: The vehicle 'h20_8706' has no valid route.\n",
      "Warning: No connection between edge '509647287' and edge '446955270' found.\n",
      "Warning: Mandatory edge '446955270' not reachable by vehicle 'h20_8716'.\n",
      "Warning: The vehicle 'h20_8716' has no valid route.\n"
     ]
    },
    {
     "name": "stdout",
     "output_type": "stream",
     "text": [
      "Reading up to time step: 75001.15\r"
     ]
    },
    {
     "name": "stderr",
     "output_type": "stream",
     "text": [
      "Warning: No connection between edge '-925261618' and edge '584719130' found.\n",
      "Warning: Mandatory edge '584719130' not reachable by vehicle 'h20_9212'.\n",
      "Warning: The vehicle 'h20_9212' has no valid route.\n",
      "Warning: No connection between edge '436469925' and edge '142428191' found.\n",
      "Warning: Mandatory edge '142428191' not reachable by vehicle 'h20_9230'.\n",
      "Warning: The vehicle 'h20_9230' has no valid route.\n",
      "Warning: No connection between edge '-157628834#0' and edge '767313244' found.\n",
      "Warning: Mandatory edge '767313244' not reachable by vehicle 'h20_9258'.\n",
      "Warning: The vehicle 'h20_9258' has no valid route.\n",
      "Warning: No connection between edge '124060638#6' and edge '604908263' found.\n",
      "Warning: Mandatory edge '604908263' not reachable by vehicle 'h20_9411'.\n",
      "Warning: The vehicle 'h20_9411' has no valid route.\n",
      "Warning: No connection between edge '-112885009#0' and edge '158351056' found.\n",
      "Warning: Mandatory edge '158351056' not reachable by vehicle 'h20_9578'.\n",
      "Warning: The vehicle 'h20_9578' has no valid route.\n",
      "Warning: No connection between edge '53254131' and edge '-143962120' found.\n",
      "Warning: Mandatory edge '-143962120' not reachable by vehicle 'h20_9591'.\n",
      "Warning: The vehicle 'h20_9591' has no valid route.\n",
      "Warning: No connection between edge '708310618#0' and edge '367820004' found.\n",
      "Warning: Mandatory edge '367820004' not reachable by vehicle 'h20_9664'.\n",
      "Warning: The vehicle 'h20_9664' has no valid route.\n"
     ]
    },
    {
     "name": "stdout",
     "output_type": "stream",
     "text": [
      "Reading up to time step: 75201.15\r"
     ]
    },
    {
     "name": "stderr",
     "output_type": "stream",
     "text": [
      "Warning: No connection between edge '749464878#1' and edge '1159203435#0' found.\n",
      "Warning: Mandatory edge '1159203435#0' not reachable by vehicle 'h20_9947'.\n",
      "Warning: The vehicle 'h20_9947' has no valid route.\n",
      "Warning: No connection between edge '-695807449' and edge '888174858#0' found.\n",
      "Warning: Mandatory edge '888174858#0' not reachable by vehicle 'h20_10015'.\n",
      "Warning: The vehicle 'h20_10015' has no valid route.\n",
      "Warning: No connection between edge '183741260' and edge '379562883' found.\n",
      "Warning: Mandatory edge '379562883' not reachable by vehicle 'h20_10120'.\n",
      "Warning: The vehicle 'h20_10120' has no valid route.\n"
     ]
    },
    {
     "name": "stdout",
     "output_type": "stream",
     "text": [
      "Reading up to time step: 75401.15\r"
     ]
    },
    {
     "name": "stderr",
     "output_type": "stream",
     "text": [
      "Warning: No connection between edge '98338686' and edge '65006146#2' found.\n",
      "Warning: Mandatory edge '65006146#2' not reachable by vehicle 'h20_10408'.\n",
      "Warning: The vehicle 'h20_10408' has no valid route.\n",
      "Warning: No connection between edge '-158425356' and edge '143962123#0' found.\n",
      "Warning: Mandatory edge '143962123#0' not reachable by vehicle 'h20_10663'.\n",
      "Warning: The vehicle 'h20_10663' has no valid route.\n",
      "Warning: No connection between edge '65611561' and edge '510193650#2' found.\n",
      "Warning: Mandatory edge '510193650#2' not reachable by vehicle 'h20_10886'.\n",
      "Warning: The vehicle 'h20_10886' has no valid route.\n",
      "Warning: No connection between edge '1332793122' and edge '121925420' found.\n",
      "Warning: Mandatory edge '121925420' not reachable by vehicle 'h20_10899'.\n",
      "Warning: The vehicle 'h20_10899' has no valid route.\n"
     ]
    },
    {
     "name": "stdout",
     "output_type": "stream",
     "text": [
      "Reading up to time step: 75801.15\r"
     ]
    },
    {
     "name": "stderr",
     "output_type": "stream",
     "text": [
      "Warning: No connection between edge '1332793122' and edge '-1310639097#0' found.\n",
      "Warning: Mandatory edge '-1310639097#0' not reachable by vehicle 'h21_322'.\n",
      "Warning: The vehicle 'h21_322' has no valid route.\n",
      "Warning: No connection between edge '1332793122' and edge '41455227#4' found.\n",
      "Warning: Mandatory edge '41455227#4' not reachable by vehicle 'h21_335'.\n",
      "Warning: The vehicle 'h21_335' has no valid route.\n"
     ]
    },
    {
     "name": "stdout",
     "output_type": "stream",
     "text": [
      "Reading up to time step: 76001.15\r"
     ]
    },
    {
     "name": "stderr",
     "output_type": "stream",
     "text": [
      "Warning: No connection between edge '124060638#6' and edge '508821480' found.\n",
      "Warning: Mandatory edge '508821480' not reachable by vehicle 'h21_492'.\n",
      "Warning: The vehicle 'h21_492' has no valid route.\n",
      "Warning: No connection between edge '90753371' and edge '-143962123#0' found.\n",
      "Warning: Mandatory edge '-143962123#0' not reachable by vehicle 'h21_653'.\n",
      "Warning: The vehicle 'h21_653' has no valid route.\n",
      "Warning: No connection between edge '53189086#2' and edge '-767313243' found.\n",
      "Warning: Mandatory edge '-767313243' not reachable by vehicle 'h21_840'.\n",
      "Warning: The vehicle 'h21_840' has no valid route.\n"
     ]
    },
    {
     "name": "stdout",
     "output_type": "stream",
     "text": [
      "Reading up to time step: 76201.15\r"
     ]
    },
    {
     "name": "stderr",
     "output_type": "stream",
     "text": [
      "Warning: No connection between edge '-159460077#4' and edge '-62023730' found.\n",
      "Warning: Mandatory edge '-62023730' not reachable by vehicle 'h21_1150'.\n",
      "Warning: The vehicle 'h21_1150' has no valid route.\n",
      "Warning: No connection between edge '27770513#2' and edge '1159203435#0' found.\n",
      "Warning: Mandatory edge '1159203435#0' not reachable by vehicle 'h21_1175'.\n",
      "Warning: The vehicle 'h21_1175' has no valid route.\n"
     ]
    },
    {
     "name": "stdout",
     "output_type": "stream",
     "text": [
      "Reading up to time step: 76401.15\r"
     ]
    },
    {
     "name": "stderr",
     "output_type": "stream",
     "text": [
      "Warning: No connection between edge '-166717999#6' and edge '510193661' found.\n",
      "Warning: Mandatory edge '510193661' not reachable by vehicle 'h21_1207'.\n",
      "Warning: The vehicle 'h21_1207' has no valid route.\n",
      "Warning: No connection between edge '124060633#0' and edge '-1312989503#2' found.\n",
      "Warning: Mandatory edge '-1312989503#2' not reachable by vehicle 'h21_1371'.\n",
      "Warning: The vehicle 'h21_1371' has no valid route.\n"
     ]
    },
    {
     "name": "stdout",
     "output_type": "stream",
     "text": [
      "Reading up to time step: 76601.15\r"
     ]
    },
    {
     "name": "stderr",
     "output_type": "stream",
     "text": [
      "Warning: No connection between edge '122372754' and edge '112835751#4' found.\n",
      "Warning: Mandatory edge '112835751#4' not reachable by vehicle 'h21_1615'.\n",
      "Warning: The vehicle 'h21_1615' has no valid route.\n",
      "Warning: No connection between edge '28117591#5' and edge '729628594#2' found.\n",
      "Warning: Mandatory edge '729628594#2' not reachable by vehicle 'h21_7124'.\n",
      "Warning: The vehicle 'h21_7124' has no valid route.\n",
      "Warning: No connection between edge '82286890' and edge '236483931#0' found.\n",
      "Warning: Mandatory edge '236483931#0' not reachable by vehicle 'h21_1887'.\n",
      "Warning: The vehicle 'h21_1887' has no valid route.\n"
     ]
    },
    {
     "name": "stdout",
     "output_type": "stream",
     "text": [
      "Reading up to time step: 77001.15\r"
     ]
    },
    {
     "name": "stderr",
     "output_type": "stream",
     "text": [
      "Warning: No connection between edge '1203882727#1' and edge '-254992891' found.\n",
      "Warning: Mandatory edge '-254992891' not reachable by vehicle 'h21_7307'.\n",
      "Warning: The vehicle 'h21_7307' has no valid route.\n"
     ]
    },
    {
     "name": "stdout",
     "output_type": "stream",
     "text": [
      "Reading up to time step: 77201.15\r"
     ]
    },
    {
     "name": "stderr",
     "output_type": "stream",
     "text": [
      "Warning: No connection between edge '-170262319#1' and edge '62023728#1' found.\n",
      "Warning: Mandatory edge '62023728#1' not reachable by vehicle 'h21_2758'.\n",
      "Warning: The vehicle 'h21_2758' has no valid route.\n",
      "Warning: No connection between edge '561020808#0' and edge '510193669' found.\n",
      "Warning: Mandatory edge '510193669' not reachable by vehicle 'h21_2856'.\n",
      "Warning: The vehicle 'h21_2856' has no valid route.\n",
      "Warning: No connection between edge '1203882727#1' and edge '24387304#2' found.\n",
      "Warning: Mandatory edge '24387304#2' not reachable by vehicle 'h21_2868'.\n",
      "Warning: The vehicle 'h21_2868' has no valid route.\n"
     ]
    },
    {
     "name": "stdout",
     "output_type": "stream",
     "text": [
      "Reading up to time step: 77601.15\r"
     ]
    },
    {
     "name": "stderr",
     "output_type": "stream",
     "text": [
      "Warning: No connection between edge '150925676' and edge '1225462740#1' found.\n",
      "Warning: Mandatory edge '1225462740#1' not reachable by vehicle 'h21_3856'.\n",
      "Warning: The vehicle 'h21_3856' has no valid route.\n"
     ]
    },
    {
     "name": "stdout",
     "output_type": "stream",
     "text": [
      "Reading up to time step: 77801.15\r"
     ]
    },
    {
     "name": "stderr",
     "output_type": "stream",
     "text": [
      "Warning: No connection between edge '71440145' and edge '367820004' found.\n",
      "Warning: Mandatory edge '367820004' not reachable by vehicle 'h21_4140'.\n",
      "Warning: The vehicle 'h21_4140' has no valid route.\n",
      "Warning: No connection between edge '184960960' and edge '62023728#0' found.\n",
      "Warning: Mandatory edge '62023728#0' not reachable by vehicle 'h21_4205'.\n",
      "Warning: The vehicle 'h21_4205' has no valid route.\n"
     ]
    },
    {
     "name": "stdout",
     "output_type": "stream",
     "text": [
      "Reading up to time step: 78001.15\r"
     ]
    },
    {
     "name": "stderr",
     "output_type": "stream",
     "text": [
      "Warning: No connection between edge '688357782#0' and edge '1237227383#3' found.\n",
      "Warning: Mandatory edge '1237227383#3' not reachable by vehicle 'h21_4252'.\n",
      "Warning: The vehicle 'h21_4252' has no valid route.\n",
      "Warning: No connection between edge '34960491#8' and edge '-143962123#2' found.\n",
      "Warning: Mandatory edge '-143962123#2' not reachable by vehicle 'h21_4327'.\n",
      "Warning: The vehicle 'h21_4327' has no valid route.\n",
      "Warning: No connection between edge '-395353701#1' and edge '-112885002#0' found.\n",
      "Warning: Mandatory edge '-112885002#0' not reachable by vehicle 'h21_4392'.\n",
      "Warning: The vehicle 'h21_4392' has no valid route.\n",
      "Warning: No connection between edge '-377796629#1' and edge '510193650#1' found.\n",
      "Warning: Mandatory edge '510193650#1' not reachable by vehicle 'h21_4473'.\n",
      "Warning: The vehicle 'h21_4473' has no valid route.\n"
     ]
    },
    {
     "name": "stdout",
     "output_type": "stream",
     "text": [
      "Reading up to time step: 78201.15\r"
     ]
    },
    {
     "name": "stderr",
     "output_type": "stream",
     "text": [
      "Warning: No connection between edge '115661504#0' and edge '510193650#5' found.\n",
      "Warning: Mandatory edge '510193650#5' not reachable by vehicle 'h21_4669'.\n",
      "Warning: The vehicle 'h21_4669' has no valid route.\n",
      "Warning: No connection between edge '-428493576#2' and edge '-383076320' found.\n",
      "Warning: Mandatory edge '-383076320' not reachable by vehicle 'h21_5175'.\n",
      "Warning: The vehicle 'h21_5175' has no valid route.\n"
     ]
    },
    {
     "name": "stdout",
     "output_type": "stream",
     "text": [
      "Reading up to time step: 78601.15\r"
     ]
    },
    {
     "name": "stderr",
     "output_type": "stream",
     "text": [
      "Warning: No connection between edge '94597894#1' and edge '510193680' found.\n",
      "Warning: Mandatory edge '510193680' not reachable by vehicle 'h21_5780'.\n",
      "Warning: The vehicle 'h21_5780' has no valid route.\n"
     ]
    },
    {
     "name": "stdout",
     "output_type": "stream",
     "text": [
      "Reading up to time step: 78801.15\r"
     ]
    },
    {
     "name": "stderr",
     "output_type": "stream",
     "text": [
      "Warning: No connection between edge '1367068984' and edge '65611546' found.\n",
      "Warning: Mandatory edge '65611546' not reachable by vehicle 'h21_6039'.\n",
      "Warning: The vehicle 'h21_6039' has no valid route.\n",
      "Warning: No connection between edge '-41233404#0' and edge '-30281188#2' found.\n",
      "Warning: Mandatory edge '-30281188#2' not reachable by vehicle 'h21_6071'.\n",
      "Warning: The vehicle 'h21_6071' has no valid route.\n"
     ]
    },
    {
     "name": "stdout",
     "output_type": "stream",
     "text": [
      "Reading up to time step: 79001.15\r"
     ]
    },
    {
     "name": "stderr",
     "output_type": "stream",
     "text": [
      "Warning: No connection between edge '326617514#0' and edge '510193635#1' found.\n",
      "Warning: Mandatory edge '510193635#1' not reachable by vehicle 'h21_6538'.\n",
      "Warning: The vehicle 'h21_6538' has no valid route.\n"
     ]
    },
    {
     "name": "stdout",
     "output_type": "stream",
     "text": [
      "Reading up to time step: 79201.15\r"
     ]
    },
    {
     "name": "stderr",
     "output_type": "stream",
     "text": [
      "Warning: No connection between edge '256155260' and edge '1367068983' found.\n",
      "Warning: Mandatory edge '1367068983' not reachable by vehicle 'h22_0'.\n",
      "Warning: The vehicle 'h22_0' has no valid route.\n",
      "Warning: No connection between edge '-231824931#1' and edge '510193650#3' found.\n",
      "Warning: Mandatory edge '510193650#3' not reachable by vehicle 'h22_312'.\n",
      "Warning: The vehicle 'h22_312' has no valid route.\n"
     ]
    },
    {
     "name": "stdout",
     "output_type": "stream",
     "text": [
      "Reading up to time step: 79801.15\r"
     ]
    },
    {
     "name": "stderr",
     "output_type": "stream",
     "text": [
      "Warning: No connection between edge '71440139#0' and edge '888174858#0' found.\n",
      "Warning: Mandatory edge '888174858#0' not reachable by vehicle 'h22_471'.\n",
      "Warning: The vehicle 'h22_471' has no valid route.\n",
      "Warning: No connection between edge '112770049#2' and edge '666070226#0' found.\n",
      "Warning: Mandatory edge '666070226#0' not reachable by vehicle 'h22_501'.\n",
      "Warning: The vehicle 'h22_501' has no valid route.\n"
     ]
    },
    {
     "name": "stdout",
     "output_type": "stream",
     "text": [
      "Reading up to time step: 80001.15\r"
     ]
    },
    {
     "name": "stderr",
     "output_type": "stream",
     "text": [
      "Warning: No connection between edge '406234517#0' and edge '159460055' found.\n",
      "Warning: Mandatory edge '159460055' not reachable by vehicle 'h22_668'.\n",
      "Warning: The vehicle 'h22_668' has no valid route.\n",
      "Warning: No connection between edge '-163973205' and edge '378355993' found.\n",
      "Warning: Mandatory edge '378355993' not reachable by vehicle 'h22_850'.\n",
      "Warning: The vehicle 'h22_850' has no valid route.\n"
     ]
    },
    {
     "name": "stdout",
     "output_type": "stream",
     "text": [
      "Reading up to time step: 80401.15\r"
     ]
    },
    {
     "name": "stderr",
     "output_type": "stream",
     "text": [
      "Warning: No connection between edge '-793930821' and edge '-131821101#0' found.\n",
      "Warning: Mandatory edge '-131821101#0' not reachable by vehicle 'h22_1100'.\n",
      "Warning: The vehicle 'h22_1100' has no valid route.\n",
      "Warning: No connection between edge '-259753278#1' and edge '-143962123#2' found.\n",
      "Warning: Mandatory edge '-143962123#2' not reachable by vehicle 'h22_1276'.\n",
      "Warning: The vehicle 'h22_1276' has no valid route.\n"
     ]
    },
    {
     "name": "stdout",
     "output_type": "stream",
     "text": [
      "Reading up to time step: 80601.15\r"
     ]
    },
    {
     "name": "stderr",
     "output_type": "stream",
     "text": [
      "Warning: No connection between edge '-112732683#1' and edge '510193650#2' found.\n",
      "Warning: Mandatory edge '510193650#2' not reachable by vehicle 'h22_2392'.\n",
      "Warning: The vehicle 'h22_2392' has no valid route.\n"
     ]
    },
    {
     "name": "stdout",
     "output_type": "stream",
     "text": [
      "Reading up to time step: 82001.15\r"
     ]
    },
    {
     "name": "stderr",
     "output_type": "stream",
     "text": [
      "Warning: No connection between edge '-387419961#1' and edge '143962123#0' found.\n",
      "Warning: Mandatory edge '143962123#0' not reachable by vehicle 'h22_2810'.\n",
      "Warning: The vehicle 'h22_2810' has no valid route.\n",
      "Warning: No connection between edge '6312758#1' and edge '62023728#0' found.\n",
      "Warning: Mandatory edge '62023728#0' not reachable by vehicle 'h22_3471'.\n",
      "Warning: The vehicle 'h22_3471' has no valid route.\n"
     ]
    },
    {
     "name": "stdout",
     "output_type": "stream",
     "text": [
      "Reading up to time step: 83201.15\r"
     ]
    },
    {
     "name": "stderr",
     "output_type": "stream",
     "text": [
      "Warning: No connection between edge '665644278' and edge '-815663950#0' found.\n",
      "Warning: Mandatory edge '-815663950#0' not reachable by vehicle 'h23_200'.\n",
      "Warning: The vehicle 'h23_200' has no valid route.\n"
     ]
    },
    {
     "name": "stdout",
     "output_type": "stream",
     "text": [
      "Reading up to time step: 83601.15\r"
     ]
    },
    {
     "name": "stderr",
     "output_type": "stream",
     "text": [
      "Warning: No connection between edge '-150925676' and edge '223731321' found.\n",
      "Warning: Mandatory edge '223731321' not reachable by vehicle 'h23_474'.\n",
      "Warning: The vehicle 'h23_474' has no valid route.\n",
      "Warning: No connection between edge '124060638#5' and edge '54967069#1' found.\n",
      "Warning: Mandatory edge '54967069#1' not reachable by vehicle 'h23_518'.\n",
      "Warning: The vehicle 'h23_518' has no valid route.\n"
     ]
    },
    {
     "name": "stdout",
     "output_type": "stream",
     "text": [
      "Reading up to time step: 84001.15\r"
     ]
    },
    {
     "name": "stderr",
     "output_type": "stream",
     "text": [
      "Warning: No connection between edge '858506181' and edge '144160557#0' found.\n",
      "Warning: Mandatory edge '144160557#0' not reachable by vehicle 'h23_704'.\n",
      "Warning: The vehicle 'h23_704' has no valid route.\n",
      "Warning: No connection between edge '72347796#3' and edge '510193674' found.\n",
      "Warning: Mandatory edge '510193674' not reachable by vehicle 'h23_817'.\n",
      "Warning: The vehicle 'h23_817' has no valid route.\n"
     ]
    },
    {
     "name": "stdout",
     "output_type": "stream",
     "text": [
      "Reading up to time step: 84201.15\r"
     ]
    },
    {
     "name": "stderr",
     "output_type": "stream",
     "text": [
      "Warning: No connection between edge '-676607889#0' and edge '4387061#0' found.\n",
      "Warning: Mandatory edge '4387061#0' not reachable by vehicle 'h23_831'.\n",
      "Warning: The vehicle 'h23_831' has no valid route.\n"
     ]
    },
    {
     "name": "stdout",
     "output_type": "stream",
     "text": [
      "Reading up to time step: 84401.15\r"
     ]
    },
    {
     "name": "stderr",
     "output_type": "stream",
     "text": [
      "Warning: No connection between edge '1367068984' and edge '-764048197' found.\n",
      "Warning: Mandatory edge '-764048197' not reachable by vehicle 'h23_1046'.\n",
      "Warning: The vehicle 'h23_1046' has no valid route.\n",
      "Warning: No connection between edge '188649571' and edge '52719152' found.\n",
      "Warning: Mandatory edge '52719152' not reachable by vehicle 'h23_2547'.\n",
      "Warning: The vehicle 'h23_2547' has no valid route.\n"
     ]
    },
    {
     "name": "stdout",
     "output_type": "stream",
     "text": [
      "Reading up to time step: 84801.15\r"
     ]
    },
    {
     "name": "stderr",
     "output_type": "stream",
     "text": [
      "Warning: No connection between edge '-150283133#0' and edge '1367068983' found.\n",
      "Warning: Mandatory edge '1367068983' not reachable by vehicle 'h23_1600'.\n",
      "Warning: The vehicle 'h23_1600' has no valid route.\n"
     ]
    },
    {
     "name": "stdout",
     "output_type": "stream",
     "text": [
      "Reading up to time step: 85401.15\r"
     ]
    },
    {
     "name": "stderr",
     "output_type": "stream",
     "text": [
      "Warning: No connection between edge '27769586#9' and edge '-144160557#2' found.\n",
      "Warning: Mandatory edge '-144160557#2' not reachable by vehicle 'h23_1659'.\n",
      "Warning: The vehicle 'h23_1659' has no valid route.\n",
      "Warning: No connection between edge '82285330' and edge '-143962123#2' found.\n",
      "Warning: Mandatory edge '-143962123#2' not reachable by vehicle 'h23_1718'.\n",
      "Warning: The vehicle 'h23_1718' has no valid route.\n"
     ]
    },
    {
     "name": "stdout",
     "output_type": "stream",
     "text": [
      "Reading up to time step: 85601.15\r"
     ]
    },
    {
     "name": "stderr",
     "output_type": "stream",
     "text": [
      "Warning: No connection between edge '793930821' and edge '-159245851' found.\n",
      "Warning: Mandatory edge '-159245851' not reachable by vehicle 'h23_1774'.\n",
      "Warning: The vehicle 'h23_1774' has no valid route.\n"
     ]
    },
    {
     "name": "stdout",
     "output_type": "stream",
     "text": [
      "Reading up to time step: 86401.15\r"
     ]
    },
    {
     "name": "stderr",
     "output_type": "stream",
     "text": [
      "Warning: No connection between edge '-171225055' and edge '144160557#2' found.\n",
      "Warning: Mandatory edge '144160557#2' not reachable by vehicle 'h23_2265'.\n",
      "Warning: The vehicle 'h23_2265' has no valid route.\n",
      "Warning: No connection between edge '665644278' and edge '63674318' found.\n",
      "Warning: Mandatory edge '63674318' not reachable by vehicle 'h23_2328'.\n",
      "Warning: The vehicle 'h23_2328' has no valid route.\n"
     ]
    },
    {
     "name": "stdout",
     "output_type": "stream",
     "text": [
      "Success.\n",
      "[DONE] Routes written in /home/hoai-linh.dao/Works/EVCS/CEREMA-Mini/result/experiments/simulation-10percent/route.xml\n",
      "[LOG] Output logged in /home/hoai-linh.dao/Works/EVCS/CEREMA-Mini/result/experiments/simulation-10percent/logs/duarouter.log\n"
     ]
    }
   ],
   "source": [
    "DUAROUTER_ADDS = \",\".join([str(VTYPES_DIST_XML), str(TAZ_XML)])\n",
    "DUAROUTER_CMD = [\n",
    "    \"duarouter\",\n",
    "    \"-n\", CLEANED_NET_XML_2,            \n",
    "    \"-r\", ALL_TRIPS_XML,            \n",
    "    # \"-a\", DUAROUTER_ADDS,\n",
    "    \"-a\", VTYPES_DIST_XML,\n",
    "    # \"--keep-vtype-distributions\",\n",
    "    # \"--with-taz\",\n",
    "    # \"--repair\",                      \n",
    "    # \"--remove-loops\",               \n",
    "    \"--randomize-flows\",         \n",
    "    \"-o\", ROUTE_XML,    \n",
    "    \"--log\", DUAROUTER_LOG,\n",
    "    \"--exit-times\",\n",
    "    \"--named-routes\",\n",
    "    \"--route-length\",\n",
    "    \"--write-costs\",\n",
    "    \"--ignore-errors\"\n",
    "]\n",
    "\n",
    "print(\"Running DUAROUTER Step ...\")\n",
    "subprocess.run(DUAROUTER_CMD, check=True)\n",
    "print(f\"[DONE] Routes written in {ROUTE_XML}\\n[LOG] Output logged in {DUAROUTER_LOG}\")\n"
   ]
  },
  {
   "cell_type": "markdown",
   "metadata": {},
   "source": [
    "## Creating ReRouter (Optional)"
   ]
  },
  {
   "cell_type": "code",
   "execution_count": 4,
   "metadata": {},
   "outputs": [
    {
     "name": "stdout",
     "output_type": "stream",
     "text": [
      "Running REROUTING Step ...\n"
     ]
    },
    {
     "ename": "KeyboardInterrupt",
     "evalue": "",
     "output_type": "error",
     "traceback": [
      "\u001b[0;31m---------------------------------------------------------------------------\u001b[0m",
      "\u001b[0;31mKeyboardInterrupt\u001b[0m                         Traceback (most recent call last)",
      "Cell \u001b[0;32mIn[4], line 10\u001b[0m\n\u001b[1;32m      8\u001b[0m \u001b[38;5;28;01mwith\u001b[39;00m \u001b[38;5;28mopen\u001b[39m(REROUTING_LOG, \u001b[38;5;124m\"\u001b[39m\u001b[38;5;124mw\u001b[39m\u001b[38;5;124m\"\u001b[39m) \u001b[38;5;28;01mas\u001b[39;00m f:\n\u001b[1;32m      9\u001b[0m     \u001b[38;5;28mprint\u001b[39m(\u001b[38;5;124m\"\u001b[39m\u001b[38;5;124mRunning REROUTING Step ...\u001b[39m\u001b[38;5;124m\"\u001b[39m)\n\u001b[0;32m---> 10\u001b[0m     \u001b[43msubprocess\u001b[49m\u001b[38;5;241;43m.\u001b[39;49m\u001b[43mrun\u001b[49m\u001b[43m(\u001b[49m\u001b[43mREROUTING_CMD\u001b[49m\u001b[43m,\u001b[49m\u001b[43m \u001b[49m\u001b[43mstdout\u001b[49m\u001b[38;5;241;43m=\u001b[39;49m\u001b[43mf\u001b[49m\u001b[43m,\u001b[49m\u001b[43m \u001b[49m\u001b[43mstderr\u001b[49m\u001b[38;5;241;43m=\u001b[39;49m\u001b[43msubprocess\u001b[49m\u001b[38;5;241;43m.\u001b[39;49m\u001b[43mSTDOUT\u001b[49m\u001b[43m,\u001b[49m\u001b[43m \u001b[49m\u001b[43mcheck\u001b[49m\u001b[38;5;241;43m=\u001b[39;49m\u001b[38;5;28;43;01mTrue\u001b[39;49;00m\u001b[43m)\u001b[49m\n\u001b[1;32m     11\u001b[0m     \u001b[38;5;28mprint\u001b[39m(\u001b[38;5;124mf\u001b[39m\u001b[38;5;124m\"\u001b[39m\u001b[38;5;124m[DONE] Rerouter file is created in \u001b[39m\u001b[38;5;132;01m{\u001b[39;00mREROUTER_XML\u001b[38;5;132;01m}\u001b[39;00m\u001b[38;5;130;01m\\n\u001b[39;00m\u001b[38;5;124m[LOG] Output logged in \u001b[39m\u001b[38;5;132;01m{\u001b[39;00mREROUTING_LOG\u001b[38;5;132;01m}\u001b[39;00m\u001b[38;5;124m\"\u001b[39m)\n",
      "File \u001b[0;32m~/Envs/sumo-env/lib/python3.10/subprocess.py:505\u001b[0m, in \u001b[0;36mrun\u001b[0;34m(input, capture_output, timeout, check, *popenargs, **kwargs)\u001b[0m\n\u001b[1;32m    503\u001b[0m \u001b[38;5;28;01mwith\u001b[39;00m Popen(\u001b[38;5;241m*\u001b[39mpopenargs, \u001b[38;5;241m*\u001b[39m\u001b[38;5;241m*\u001b[39mkwargs) \u001b[38;5;28;01mas\u001b[39;00m process:\n\u001b[1;32m    504\u001b[0m     \u001b[38;5;28;01mtry\u001b[39;00m:\n\u001b[0;32m--> 505\u001b[0m         stdout, stderr \u001b[38;5;241m=\u001b[39m \u001b[43mprocess\u001b[49m\u001b[38;5;241;43m.\u001b[39;49m\u001b[43mcommunicate\u001b[49m\u001b[43m(\u001b[49m\u001b[38;5;28;43minput\u001b[39;49m\u001b[43m,\u001b[49m\u001b[43m \u001b[49m\u001b[43mtimeout\u001b[49m\u001b[38;5;241;43m=\u001b[39;49m\u001b[43mtimeout\u001b[49m\u001b[43m)\u001b[49m\n\u001b[1;32m    506\u001b[0m     \u001b[38;5;28;01mexcept\u001b[39;00m TimeoutExpired \u001b[38;5;28;01mas\u001b[39;00m exc:\n\u001b[1;32m    507\u001b[0m         process\u001b[38;5;241m.\u001b[39mkill()\n",
      "File \u001b[0;32m~/Envs/sumo-env/lib/python3.10/subprocess.py:1146\u001b[0m, in \u001b[0;36mPopen.communicate\u001b[0;34m(self, input, timeout)\u001b[0m\n\u001b[1;32m   1144\u001b[0m         stderr \u001b[38;5;241m=\u001b[39m \u001b[38;5;28mself\u001b[39m\u001b[38;5;241m.\u001b[39mstderr\u001b[38;5;241m.\u001b[39mread()\n\u001b[1;32m   1145\u001b[0m         \u001b[38;5;28mself\u001b[39m\u001b[38;5;241m.\u001b[39mstderr\u001b[38;5;241m.\u001b[39mclose()\n\u001b[0;32m-> 1146\u001b[0m     \u001b[38;5;28;43mself\u001b[39;49m\u001b[38;5;241;43m.\u001b[39;49m\u001b[43mwait\u001b[49m\u001b[43m(\u001b[49m\u001b[43m)\u001b[49m\n\u001b[1;32m   1147\u001b[0m \u001b[38;5;28;01melse\u001b[39;00m:\n\u001b[1;32m   1148\u001b[0m     \u001b[38;5;28;01mif\u001b[39;00m timeout \u001b[38;5;129;01mis\u001b[39;00m \u001b[38;5;129;01mnot\u001b[39;00m \u001b[38;5;28;01mNone\u001b[39;00m:\n",
      "File \u001b[0;32m~/Envs/sumo-env/lib/python3.10/subprocess.py:1209\u001b[0m, in \u001b[0;36mPopen.wait\u001b[0;34m(self, timeout)\u001b[0m\n\u001b[1;32m   1207\u001b[0m     endtime \u001b[38;5;241m=\u001b[39m _time() \u001b[38;5;241m+\u001b[39m timeout\n\u001b[1;32m   1208\u001b[0m \u001b[38;5;28;01mtry\u001b[39;00m:\n\u001b[0;32m-> 1209\u001b[0m     \u001b[38;5;28;01mreturn\u001b[39;00m \u001b[38;5;28;43mself\u001b[39;49m\u001b[38;5;241;43m.\u001b[39;49m\u001b[43m_wait\u001b[49m\u001b[43m(\u001b[49m\u001b[43mtimeout\u001b[49m\u001b[38;5;241;43m=\u001b[39;49m\u001b[43mtimeout\u001b[49m\u001b[43m)\u001b[49m\n\u001b[1;32m   1210\u001b[0m \u001b[38;5;28;01mexcept\u001b[39;00m \u001b[38;5;167;01mKeyboardInterrupt\u001b[39;00m:\n\u001b[1;32m   1211\u001b[0m     \u001b[38;5;66;03m# https://bugs.python.org/issue25942\u001b[39;00m\n\u001b[1;32m   1212\u001b[0m     \u001b[38;5;66;03m# The first keyboard interrupt waits briefly for the child to\u001b[39;00m\n\u001b[1;32m   1213\u001b[0m     \u001b[38;5;66;03m# exit under the common assumption that it also received the ^C\u001b[39;00m\n\u001b[1;32m   1214\u001b[0m     \u001b[38;5;66;03m# generated SIGINT and will exit rapidly.\u001b[39;00m\n\u001b[1;32m   1215\u001b[0m     \u001b[38;5;28;01mif\u001b[39;00m timeout \u001b[38;5;129;01mis\u001b[39;00m \u001b[38;5;129;01mnot\u001b[39;00m \u001b[38;5;28;01mNone\u001b[39;00m:\n",
      "File \u001b[0;32m~/Envs/sumo-env/lib/python3.10/subprocess.py:1959\u001b[0m, in \u001b[0;36mPopen._wait\u001b[0;34m(self, timeout)\u001b[0m\n\u001b[1;32m   1957\u001b[0m \u001b[38;5;28;01mif\u001b[39;00m \u001b[38;5;28mself\u001b[39m\u001b[38;5;241m.\u001b[39mreturncode \u001b[38;5;129;01mis\u001b[39;00m \u001b[38;5;129;01mnot\u001b[39;00m \u001b[38;5;28;01mNone\u001b[39;00m:\n\u001b[1;32m   1958\u001b[0m     \u001b[38;5;28;01mbreak\u001b[39;00m  \u001b[38;5;66;03m# Another thread waited.\u001b[39;00m\n\u001b[0;32m-> 1959\u001b[0m (pid, sts) \u001b[38;5;241m=\u001b[39m \u001b[38;5;28;43mself\u001b[39;49m\u001b[38;5;241;43m.\u001b[39;49m\u001b[43m_try_wait\u001b[49m\u001b[43m(\u001b[49m\u001b[38;5;241;43m0\u001b[39;49m\u001b[43m)\u001b[49m\n\u001b[1;32m   1960\u001b[0m \u001b[38;5;66;03m# Check the pid and loop as waitpid has been known to\u001b[39;00m\n\u001b[1;32m   1961\u001b[0m \u001b[38;5;66;03m# return 0 even without WNOHANG in odd situations.\u001b[39;00m\n\u001b[1;32m   1962\u001b[0m \u001b[38;5;66;03m# http://bugs.python.org/issue14396.\u001b[39;00m\n\u001b[1;32m   1963\u001b[0m \u001b[38;5;28;01mif\u001b[39;00m pid \u001b[38;5;241m==\u001b[39m \u001b[38;5;28mself\u001b[39m\u001b[38;5;241m.\u001b[39mpid:\n",
      "File \u001b[0;32m~/Envs/sumo-env/lib/python3.10/subprocess.py:1917\u001b[0m, in \u001b[0;36mPopen._try_wait\u001b[0;34m(self, wait_flags)\u001b[0m\n\u001b[1;32m   1915\u001b[0m \u001b[38;5;250m\u001b[39m\u001b[38;5;124;03m\"\"\"All callers to this function MUST hold self._waitpid_lock.\"\"\"\u001b[39;00m\n\u001b[1;32m   1916\u001b[0m \u001b[38;5;28;01mtry\u001b[39;00m:\n\u001b[0;32m-> 1917\u001b[0m     (pid, sts) \u001b[38;5;241m=\u001b[39m \u001b[43mos\u001b[49m\u001b[38;5;241;43m.\u001b[39;49m\u001b[43mwaitpid\u001b[49m\u001b[43m(\u001b[49m\u001b[38;5;28;43mself\u001b[39;49m\u001b[38;5;241;43m.\u001b[39;49m\u001b[43mpid\u001b[49m\u001b[43m,\u001b[49m\u001b[43m \u001b[49m\u001b[43mwait_flags\u001b[49m\u001b[43m)\u001b[49m\n\u001b[1;32m   1918\u001b[0m \u001b[38;5;28;01mexcept\u001b[39;00m \u001b[38;5;167;01mChildProcessError\u001b[39;00m:\n\u001b[1;32m   1919\u001b[0m     \u001b[38;5;66;03m# This happens if SIGCLD is set to be ignored or waiting\u001b[39;00m\n\u001b[1;32m   1920\u001b[0m     \u001b[38;5;66;03m# for child processes has otherwise been disabled for our\u001b[39;00m\n\u001b[1;32m   1921\u001b[0m     \u001b[38;5;66;03m# process.  This child is dead, we can't get the status.\u001b[39;00m\n\u001b[1;32m   1922\u001b[0m     pid \u001b[38;5;241m=\u001b[39m \u001b[38;5;28mself\u001b[39m\u001b[38;5;241m.\u001b[39mpid\n",
      "\u001b[0;31mKeyboardInterrupt\u001b[0m: "
     ]
    }
   ],
   "source": [
    "REROUTING_CMD = [\n",
    "    \"python\", REROUTING_PY,\n",
    "    \"-n\", CLEANED_NET_XML_2,\n",
    "    \"-o\", REROUTER_XML,\n",
    "    \"--vclass\", \"passenger\",\n",
    "]\n",
    "\n",
    "with open(REROUTING_LOG, \"w\") as f:\n",
    "    print(\"Running REROUTING Step ...\")\n",
    "    subprocess.run(REROUTING_CMD, stdout=f, stderr=subprocess.STDOUT, check=True)\n",
    "    print(f\"[DONE] Rerouter file is created in {REROUTER_XML}\\n[LOG] Output logged in {REROUTING_LOG}\")\n",
    "    "
   ]
  },
  {
   "cell_type": "markdown",
   "metadata": {},
   "source": [
    "## Updating SUMOCFG"
   ]
  },
  {
   "cell_type": "code",
   "execution_count": 4,
   "metadata": {},
   "outputs": [
    {
     "name": "stdout",
     "output_type": "stream",
     "text": [
      "Updating net-file: /home/hoai-linh.dao/Works/EVCS/CEREMA-Mini/result/net-repairment/cleaned_2_newtest-osm.net.xml -> /home/hoai-linh.dao/Works/EVCS/CEREMA-Mini/result/net-repairment/cleaned_2_newtest-osm.net.xml\n",
      "Updating route-files: /home/hoai-linh.dao/Works/EVCS/CEREMA-Mini/result/experiments/simulation-debug-1%/route.xml -> /home/hoai-linh.dao/Works/EVCS/CEREMA-Mini/result/experiments/simulation-10percent/route.xml\n",
      "Updating statistic-output: /home/hoai-linh.dao/Works/EVCS/CEREMA-Mini/result/experiments/simulation-debug-1%/outputs/statistics.xml -> /home/hoai-linh.dao/Works/EVCS/CEREMA-Mini/result/experiments/simulation-10percent/outputs/statistics.xml\n",
      "Updating log: /home/hoai-linh.dao/Works/EVCS/CEREMA-Mini/result/experiments/simulation-debug-1%/outputs/log.txt -> /home/hoai-linh.dao/Works/EVCS/CEREMA-Mini/result/experiments/simulation-10percent/outputs/log.txt\n",
      "Updating summary-output: /home/hoai-linh.dao/Works/EVCS/CEREMA-Mini/result/experiments/simulation-debug-1%/outputs/summary.xml -> /home/hoai-linh.dao/Works/EVCS/CEREMA-Mini/result/experiments/simulation-10percent/outputs/summary.xml\n",
      "Updating tripinfo-output: /home/hoai-linh.dao/Works/EVCS/CEREMA-Mini/result/experiments/simulation-debug-1%/outputs/tripinfo.xml -> /home/hoai-linh.dao/Works/EVCS/CEREMA-Mini/result/experiments/simulation-10percent/outputs/tripinfo.xml\n",
      "Updating vehroute-output: /home/hoai-linh.dao/Works/EVCS/CEREMA-Mini/result/experiments/simulation-debug-1%/outputs/vehRoutes.xml -> /home/hoai-linh.dao/Works/EVCS/CEREMA-Mini/result/experiments/simulation-10percent/outputs/vehRoutes.xml\n",
      "Updating lanechange-output: /home/hoai-linh.dao/Works/EVCS/CEREMA-Mini/result/experiments/simulation-debug-1%/outputs/laneChanges.xml -> /home/hoai-linh.dao/Works/EVCS/CEREMA-Mini/result/experiments/simulation-10percent/outputs/laneChanges.xml\n",
      "Updating fcd-output: /home/hoai-linh.dao/Works/EVCS/CEREMA-Mini/result/experiments/simulation-debug-1%/outputs/sumoTrace.xml -> /home/hoai-linh.dao/Works/EVCS/CEREMA-Mini/result/experiments/simulation-10percent/outputs/sumoTrace.xml\n",
      "Updating battery-output: /home/hoai-linh.dao/Works/EVCS/CEREMA-Mini/result/experiments/simulation-debug-1%/outputs/battery.xml -> /home/hoai-linh.dao/Works/EVCS/CEREMA-Mini/result/experiments/simulation-10percent/outputs/battery.xml\n",
      "Updating collision-output: /home/hoai-linh.dao/Works/EVCS/CEREMA-Mini/result/experiments/simulation-debug-1%/outputs/collisions.xml -> /home/hoai-linh.dao/Works/EVCS/CEREMA-Mini/result/experiments/simulation-10percent/outputs/collisions.xml\n"
     ]
    }
   ],
   "source": [
    "PATH_REPLACEMENTS = {\n",
    "    'net-file': CLEANED_NET_XML_2,\n",
    "    'route-files': ROUTE_XML,\n",
    "    'summary-output': SUMMARY_XML,\n",
    "    'tripinfo-output': TRIPINFO_XML,\n",
    "    'fcd-output': TRACE_XML,\n",
    "    'lanechange-output': LANECHANGES_XML,\n",
    "    'battery-output': BATTERY_XML,\n",
    "    'vehroute-output': VEHROUTES_XML,\n",
    "    'collision-output': COLLISIONS_XML,\n",
    "    'netstate-dump': NETSTATE_XML,\n",
    "    'statistic-output': STATISTICS_XML,\n",
    "    'log': LOG_TXT\n",
    "}\n",
    "updateSumoCfg(\n",
    "    cfg_path=SUMOCFG_XML,\n",
    "    output_path=SUMOCFG_XML,\n",
    "    replacements=PATH_REPLACEMENTS\n",
    ")"
   ]
  },
  {
   "cell_type": "markdown",
   "metadata": {},
   "source": [
    "## Running"
   ]
  },
  {
   "cell_type": "code",
   "execution_count": null,
   "metadata": {},
   "outputs": [
    {
     "name": "stdout",
     "output_type": "stream",
     "text": [
      "Running SUMO simulation ...\n"
     ]
    }
   ],
   "source": [
    "SIMULATION_CMD = [\n",
    "    \"sumo\",             \n",
    "    \"-c\", SUMOCFG_XML,\n",
    "    \"--no-step-log\",      \n",
    "    \"--duration-log.statistics\",\n",
    "    \"--xml-validation\", \"never\"  \n",
    "]\n",
    "\n",
    "with open(SIMULATION_LOG, \"w\") as f:\n",
    "    print(\"Running SUMO simulation ...\")\n",
    "    subprocess.run(SIMULATION_CMD, stdout=f, stderr=subprocess.STDOUT, check=True)\n",
    "    print(f\"[DONE] Simulation outputs are created in {SIMULATION_DIR}\\n[LOG] Output logged in {SIMULATION_LOG}\")\n"
   ]
  },
  {
   "cell_type": "markdown",
   "metadata": {},
   "source": [
    "# **VISUALIZATIONS**"
   ]
  },
  {
   "cell_type": "code",
   "execution_count": null,
   "metadata": {},
   "outputs": [
    {
     "name": "stderr",
     "output_type": "stream",
     "text": [
      "Warning: Skipped 14 lines because of missing attributes 'arrival'.\n"
     ]
    },
    {
     "name": "stdout",
     "output_type": "stream",
     "text": [
      "Figure(1400x900)\n"
     ]
    },
    {
     "data": {
      "text/plain": [
       "CompletedProcess(args=['python', PosixPath('/home/hoai-linh.dao/Envs/sumo-env/lib/python3.10/site-packages/sumo/tools/visualization/plotXMLAttributes.py'), PosixPath('/home/hoai-linh.dao/Works/EVCS/CEREMA-Mini/result/vtypes-simulation/outputs/vehRoutes.xml'), '-x', 'depart', '-y', 'arrival', '-o', PosixPath('/home/hoai-linh.dao/Works/EVCS/CEREMA-Mini/result/vtypes-simulation/visualizations/plot_1.png'), '--scatterplot'], returncode=0)"
      ]
     },
     "execution_count": 6,
     "metadata": {},
     "output_type": "execute_result"
    }
   ],
   "source": [
    "PLOT_CMD_1 = [\n",
    "    \"python\", PLOTXMLATTRIBUTES_PY,\n",
    "    VEHROUTES_XML,                 \n",
    "    \"-x\", \"depart\",      \n",
    "    \"-y\", \"arrival\",             \n",
    "    \"-o\", PLOT_1_PNG,\n",
    "    \"--scatterplot\"\n",
    "]\n",
    "\n",
    "subprocess.run(PLOT_CMD_1, check=True)"
   ]
  },
  {
   "cell_type": "code",
   "execution_count": null,
   "metadata": {},
   "outputs": [
    {
     "name": "stdout",
     "output_type": "stream",
     "text": [
      "Figure(1400x900)\n"
     ]
    },
    {
     "data": {
      "text/plain": [
       "CompletedProcess(args=['python', PosixPath('/home/hoai-linh.dao/Envs/sumo-env/lib/python3.10/site-packages/sumo/tools/visualization/plotXMLAttributes.py'), PosixPath('/home/hoai-linh.dao/Works/EVCS/CEREMA-Mini/result/vtypes-simulation/outputs/sumoTrace.xml'), '-x', 'x', '-y', 'y', '-o', PosixPath('/home/hoai-linh.dao/Works/EVCS/CEREMA-Mini/result/vtypes-simulation/visualizations/plot_2.png'), '--scatterplot'], returncode=0)"
      ]
     },
     "execution_count": 33,
     "metadata": {},
     "output_type": "execute_result"
    }
   ],
   "source": [
    "PLOT_CMD_2 = [\n",
    "    \"python\", PLOTXMLATTRIBUTES_PY,\n",
    "    TRACE_XML,                 \n",
    "    \"-x\", \"x\",     \n",
    "    \"-y\", \"y\",             \n",
    "    \"-o\", PLOT_2_PNG,\n",
    "    \"--scatterplot\"\n",
    "]\n",
    "\n",
    "subprocess.run(PLOT_CMD_2, check=True)"
   ]
  },
  {
   "cell_type": "code",
   "execution_count": null,
   "metadata": {},
   "outputs": [
    {
     "name": "stdout",
     "output_type": "stream",
     "text": [
      "Eclipse SUMO od2trips Version v1_22_0+0959-576b58424eb\n",
      " Copyright (C) 2001-2025 German Aerospace Center (DLR) and others; https://sumo.dlr.de\n",
      "Importer of O/D-matrices for the microscopic, multi-modal traffic simulation\n",
      " SUMO.\n",
      "\n",
      "Usage: od2trips [OPTION]*\n",
      "Configuration Options:\n",
      "  -c, --configuration-file FILE    Loads the named config on startup\n",
      "  -C, --save-configuration FILE    Saves current configuration into FILE\n",
      "  --save-configuration.relative    Enforce relative paths when saving the\n",
      "                                    configuration\n",
      "  --save-template FILE             Saves a configuration template (empty) into\n",
      "                                    FILE\n",
      "  --save-schema FILE               Saves the configuration schema into FILE\n",
      "  --save-commented                 Adds comments to saved template,\n",
      "                                    configuration, or schema\n",
      "\n",
      "Input Options:\n",
      "  -n, --taz-files FILE             Loads TAZ (districts;\n",
      "                                    also from networks) from FILE(s)\n",
      "  -d, --od-matrix-files FILE       Loads O/D-files from FILE(s)\n",
      "  --od-amitran-files FILE          Loads O/D-matrix in Amitran format from\n",
      "                                    FILE(s)\n",
      "  -z, --tazrelation-files FILE     Loads O/D-matrix in tazRelation format from\n",
      "                                    FILE(s)\n",
      "  --tazrelation-attribute STR      Define data attribute for loading counts\n",
      "                                    (default 'count')\n",
      "\n",
      "Output Options:\n",
      "  --write-license                  Include license info into every output file\n",
      "  --output-prefix STR              Prefix which is applied to all output files.\n",
      "                                    The special string 'TIME' is replaced by the\n",
      "                                    current time.\n",
      "  --precision INT                  Defines the number of digits after the comma\n",
      "                                    for floating point output\n",
      "  --precision.geo INT              Defines the number of digits after the comma\n",
      "                                    for lon,lat output\n",
      "  -H, --human-readable-time        Write time values as hour:minute:second or\n",
      "                                    day:hour:minute:second rather than seconds\n",
      "  -o, --output-file FILE           Writes trip definitions into FILE\n",
      "  --flow-output FILE               Writes flow definitions into FILE\n",
      "  --flow-output.probability        Writes probabilistic flow instead of evenly\n",
      "                                    spaced flow\n",
      "  --pedestrians                    Writes pedestrians instead of vehicles\n",
      "  --persontrips                    Writes persontrips instead of vehicles\n",
      "  --persontrips.modes STR[]        Add modes attribute to personTrips\n",
      "  --ignore-vehicle-type            Does not save vtype information\n",
      "  --junctions                      Writes trips between junctions\n",
      "\n",
      "Time Options:\n",
      "  -b, --begin TIME                 Defines the begin time;\n",
      "                                    Previous trips will be discarded\n",
      "  -e, --end TIME                   Defines the end time;\n",
      "                                    Later trips will be discarded;\n",
      "                                    Defaults to the maximum time that SUMO can\n",
      "                                    represent\n",
      "\n",
      "Processing Options:\n",
      "  -s, --scale FLOAT                Scales the loaded flows by FLOAT\n",
      "  --spread.uniform                 Spreads trips uniformly over each time\n",
      "                                    period\n",
      "  --different-source-sink          Always choose source and sink edge which are\n",
      "                                    not identical\n",
      "  --vtype STR                      Defines the name of the vehicle type to use\n",
      "  --prefix STR                     Defines the prefix for vehicle names\n",
      "  --timeline STR[]                 Uses STR[] as a timeline definition\n",
      "  --timeline.day-in-hours          Uses STR as a 24h-timeline definition\n",
      "  --no-step-log                    Disable console output of current time step\n",
      "\n",
      "Defaults Options:\n",
      "  --departlane STR                 Assigns a default depart lane\n",
      "  --departpos STR                  Assigns a default depart position\n",
      "  --departspeed STR                Assigns a default depart speed\n",
      "  --arrivallane STR                Assigns a default arrival lane\n",
      "  --arrivalpos STR                 Assigns a default arrival position\n",
      "  --arrivalspeed STR               Assigns a default arrival speed\n",
      "\n",
      "Report Options:\n",
      "  -v, --verbose                    Switches to verbose output\n",
      "  --print-options                  Prints option values before processing\n",
      "  -?, --help                       Prints this screen or selected topics\n",
      "  -V, --version                    Prints the current version\n",
      "  -X, --xml-validation STR         Set schema validation scheme of XML inputs\n",
      "                                    (\"never\", \"local\", \"auto\" or \"always\")\n",
      "  -W, --no-warnings                Disables output of warnings\n",
      "  --aggregate-warnings INT         Aggregate warnings of the same type whenever\n",
      "                                    more than INT occur\n",
      "  -l, --log FILE                   Writes all messages to FILE (implies\n",
      "                                    verbose)\n",
      "  --message-log FILE               Writes all non-error messages to FILE\n",
      "                                    (implies verbose)\n",
      "  --error-log FILE                 Writes all warnings and errors to FILE\n",
      "  --log.timestamps                 Writes timestamps in front of all messages\n",
      "  --log.processid                  Writes process ID in front of all messages\n",
      "  --language STR                   Language to use in messages\n",
      "  --ignore-errors                  Continue on broken input\n",
      "\n",
      "Random Number Options:\n",
      "  --random                         Initialises the random number generator with\n",
      "                                    the current system time\n",
      "  --seed INT                       Initialises the random number generator with\n",
      "                                    the given value\n",
      "\n",
      "\n",
      "Examples:\n",
      "  od2trips -c <CONFIGURATION>\n",
      "    run with configuration file\n",
      "\n",
      "Report bugs at <https://github.com/eclipse-sumo/sumo/issues>.\n",
      "Get in contact via <sumo@dlr.de>.\n"
     ]
    }
   ],
   "source": [
    "! od2trips --help"
   ]
  }
 ],
 "metadata": {
  "kernelspec": {
   "display_name": "Python 3",
   "language": "python",
   "name": "python3"
  },
  "language_info": {
   "codemirror_mode": {
    "name": "ipython",
    "version": 3
   },
   "file_extension": ".py",
   "mimetype": "text/x-python",
   "name": "python",
   "nbconvert_exporter": "python",
   "pygments_lexer": "ipython3",
   "version": "3.10.16"
  }
 },
 "nbformat": 4,
 "nbformat_minor": 2
}
