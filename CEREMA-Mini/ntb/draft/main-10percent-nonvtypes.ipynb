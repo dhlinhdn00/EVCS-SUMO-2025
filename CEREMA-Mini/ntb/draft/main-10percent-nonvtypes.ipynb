{
 "cells": [
  {
   "cell_type": "markdown",
   "metadata": {},
   "source": [
    "# **SETUP**"
   ]
  },
  {
   "cell_type": "markdown",
   "metadata": {},
   "source": [
    "## Libs && Envs"
   ]
  },
  {
   "cell_type": "code",
   "execution_count": 1,
   "metadata": {},
   "outputs": [],
   "source": [
    "import os\n",
    "import glob\n",
    "from pathlib import Path\n",
    "import subprocess\n",
    "import sys\n",
    "import shutil\n",
    "\n",
    "import itertools\n",
    "import random\n",
    "import pandas as pd\n",
    "import math\n",
    "import csv\n",
    "import re\n",
    "from collections import OrderedDict, defaultdict\n",
    "from typing import List, Dict, Tuple\n",
    "from collections import Counter\n",
    "\n",
    "import traci\n",
    "import sumolib\n",
    "import xml.etree.ElementTree as ET\n",
    "from pyproj import Transformer, CRS\n",
    "import networkx as nx\n",
    "from shapely.geometry import Point, Polygon\n",
    "from shapely.ops import unary_union\n",
    "from shapely.errors import TopologicalError\n",
    "\n",
    "from helpers import *\n",
    "\n",
    "# export LD_LIBRARY_PATH=~/Libs/libnsl\n",
    "# export SUMO_HOME=~/Envs/sumo-env/lib/python3.10/site-packages/sumo\n",
    "os.environ[\"LD_LIBRARY_PATH\"] = os.path.expanduser(\"~/Libs/libnsl\")\n",
    "os.environ[\"SUMO_HOME\"] = os.path.expanduser(\"~/Envs/sumo-env/lib/python3.10/site-packages/sumo\")\n"
   ]
  },
  {
   "cell_type": "markdown",
   "metadata": {},
   "source": [
    "## Configs"
   ]
  },
  {
   "cell_type": "code",
   "execution_count": 2,
   "metadata": {},
   "outputs": [],
   "source": [
    "# Fixed PATHs\n",
    "NET_XML = Path(\"/home/hoai-linh.dao/Works/EVCS/CEREMA-Mini/data/newtest-osm.net.xml\")\n",
    "POLY_XML = \"/home/hoai-linh.dao/Works/EVCS/AMP-Metropole/Task-1-Completion/results/p0/newtest-poly/bassin-based.poly.xml\"\n",
    "ORIG_VTYPES_XML = \"/home/hoai-linh.dao/Works/EVCS/CEREMA-Mini/data/integrated-dist.add.xml\"\n",
    "GROUPED_POLY_XML = \"/home/hoai-linh.dao/Works/EVCS/CEREMA-Mini/data/group-based.poly.xml\"\n",
    "FLOW_CSV = \"/home/hoai-linh.dao/Works/EVCS/CEREMA-Mini/data/flow.csv\"\n",
    "MAIN_FLOW_CSV = \"/home/hoai-linh.dao/Works/EVCS/CEREMA-Mini/result/main-flow.csv\"\n",
    "\n",
    "SUMO_TOOLS_DIR = Path(\"/home/hoai-linh.dao/Envs/sumo-env/lib/python3.10/site-packages/sumo/tools\")\n",
    "REROUTING_PY = SUMO_TOOLS_DIR / \"generateContinuousRerouters.py\"\n",
    "NETCHECK_PY = SUMO_TOOLS_DIR / \"net/netcheck.py\"\n",
    "RANDOMTRIPS_PY = SUMO_TOOLS_DIR / \"randomTrips.py\"\n",
    "FINDALLROUTES_PY = SUMO_TOOLS_DIR / \"findAllRoutes.py\"\n",
    "PLOTXMLATTRIBUTES_PY = SUMO_TOOLS_DIR / \"visualization/plotXMLAttributes.py\"\n",
    "PLOTTRAJECTORIES_PY = SUMO_TOOLS_DIR / \"plot_trajectories.py\"\n",
    "PLOTNETDUMP_PY = SUMO_TOOLS_DIR / \"visualization/plot_net_dump.py\"\n",
    "PLOTNETSPEED_PY = SUMO_TOOLS_DIR / \"visualization/plot_net_speed.py\"\n",
    "PLOTNETTRAFFICLIGHTS_PY = SUMO_TOOLS_DIR / \"visualization/plot_net_trafficLights.py\"\n",
    "PLOTSUMMARY_PY = SUMO_TOOLS_DIR / \"visualization/plot_summary.py\"\n",
    "PLOTTRIPINFODISTRIBUTIONS_PY = SUMO_TOOLS_DIR / \"visualization/plot_tripinfo_distributions.py\"\n",
    "PLOTCSVTIMELINE_PY = SUMO_TOOLS_DIR / \"visualization/plot_csv_timeline.py\"\n",
    "PLOTCSVPIE_PY = SUMO_TOOLS_DIR / \"visualization/plot_csv_pie.py\"\n",
    "PLOTCSVBARS_PY = SUMO_TOOLS_DIR / \"visualization/plot_csv_bars.py\"\n",
    "MACROUTPUT_PY = SUMO_TOOLS_DIR / \"visualization/marcoOutput.py\"\n",
    "ROUTESTATS_PY = SUMO_TOOLS_DIR / \"route/routeStats.py\"\n",
    "ROUTECHECK_PY = SUMO_TOOLS_DIR / \"route/routecheck.py\"\n",
    "\n",
    "# Dynamic DIRs\n",
    "SIMULATION_DIR = Path(\"/home/hoai-linh.dao/Works/EVCS/CEREMA-Mini/result/experiments/simulation-10percent-nonvtypes\")\n",
    "\n",
    "ODS_DIR = SIMULATION_DIR / \"ods\"\n",
    "TRIPS_DIR = SIMULATION_DIR / \"trips\"\n",
    "OUTPUTS_DIR = SIMULATION_DIR / \"outputs\"\n",
    "LOGS_DIR = SIMULATION_DIR / \"logs\"\n",
    "VISUALIZATIONS_DIR = SIMULATION_DIR / \"visualizations\"\n",
    "\n",
    "SIMULATION_DIR.mkdir(parents=True, exist_ok=True)\n",
    "for path in [ODS_DIR, TRIPS_DIR, OUTPUTS_DIR, LOGS_DIR, VISUALIZATIONS_DIR]:\n",
    "    path.mkdir(parents=True, exist_ok=True)\n",
    "\n",
    "# Dynamic PATHs\n",
    "TAZ_XML = SIMULATION_DIR / \"taz.add.xml\"\n",
    "VTYPES_DIST_XML = SIMULATION_DIR / \"vtypes-dist.add.xml\"\n",
    "ALL_TRIPS_XML = SIMULATION_DIR / \"trips.xml\"\n",
    "ROUTE_XML = SIMULATION_DIR / \"route.xml\"\n",
    "ROUTE_ALT_XML = SIMULATION_DIR / \"route.alt.xml\"\n",
    "REROUTER_XML = SIMULATION_DIR / \"rerouter.add.xml\"\n",
    "SUMOCFG_XML = SIMULATION_DIR / \"run.sumocfg\"\n",
    "\n",
    "DUAROUTER_LOG = LOGS_DIR / \"duarouter.log\"\n",
    "SIMULATION_LOG = LOGS_DIR / \"sumo_run.log\"\n",
    "REROUTING_LOG = LOGS_DIR / \"rerouting.log\"\n",
    "\n",
    "# Outputs Paths\n",
    "COLLISIONS_XML = OUTPUTS_DIR / \"collisions.xml\"\n",
    "BATTERY_XML = OUTPUTS_DIR / \"battery.xml\"\n",
    "LANECHANGES_XML = OUTPUTS_DIR / \"laneChanges.xml\"\n",
    "STATISTICS_XML = OUTPUTS_DIR / \"statistics.xml\"\n",
    "TRACE_XML = OUTPUTS_DIR / \"sumoTrace.xml\"\n",
    "SUMMARY_XML = OUTPUTS_DIR / \"summary.xml\"\n",
    "TRIPINFO_XML = OUTPUTS_DIR / \"tripinfo.xml\"\n",
    "VEHROUTES_XML = OUTPUTS_DIR / \"vehRoutes.xml\"\n",
    "NETSTATE_XML = OUTPUTS_DIR / \"netstate.xml\"\n",
    "LOG_TXT = OUTPUTS_DIR / \"log.txt\"\n",
    "\n",
    "# Visualization Paths\n",
    "PLOT_1_PNG = VISUALIZATIONS_DIR / \"plot_1.png\"\n",
    "PLOT_2_PNG = VISUALIZATIONS_DIR / \"plot_2.png\"\n",
    "\n",
    "# Net-Repairment Task\n",
    "NET_REPAIRMENT_DIR = Path(\"/home/hoai-linh.dao/Works/EVCS/CEREMA-Mini/result/net-repairment\")\n",
    "CLEANED_NET_XML_1 = NET_REPAIRMENT_DIR /  f\"cleaned_1_{NET_XML.name}\"\n",
    "CLEANED_NET_XML_2 = NET_REPAIRMENT_DIR /  f\"cleaned_2_{NET_XML.name}\"\n",
    "\n",
    "KEEP_EDGES_TXT_1 = NET_REPAIRMENT_DIR / \"keep-edges_1.txt\"\n",
    "KEEP_EDGES_TXT_2 = NET_REPAIRMENT_DIR / \"keep-edges_2.txt\"\n",
    "COMPONENTS_NW_TXT_1 = NET_REPAIRMENT_DIR / \"components_nw_1.txt\"\n",
    "COMPONENTS_NW_TXT_2 = NET_REPAIRMENT_DIR / \"components_nw_2.txt\"\n",
    "\n",
    "NET_REPAIRMENT_LOGS_DIR = NET_REPAIRMENT_DIR / \"logs\"\n",
    "NETCHECK_LOG_1 = NET_REPAIRMENT_LOGS_DIR / \"netcheck_1.log\"\n",
    "NETCHECK_LOG_2 = NET_REPAIRMENT_LOGS_DIR / \"netcheck_2.log\"\n",
    "NETCHECK_LOG_3 = NET_REPAIRMENT_LOGS_DIR / \"netcheck_3.log\"\n",
    "NETCONVERT_LOG_1 = NET_REPAIRMENT_LOGS_DIR / \"netconvert_1.log\"\n",
    "NETCONVERT_LOG_2 = NET_REPAIRMENT_LOGS_DIR / \"netconvert_2.log\"\n"
   ]
  },
  {
   "cell_type": "code",
   "execution_count": 3,
   "metadata": {},
   "outputs": [],
   "source": [
    "TAZ_IDS = {\n",
    "    'marseille': '1',\n",
    "    'aix-en-provence': '2',\n",
    "    'est-etang-de-berre': '3',\n",
    "    'nord-ouest': '4',\n",
    "    'ouest-etang-de-berre': '5',\n",
    "    'sud-est': '6',\n",
    "    'hors_amp': '99'\n",
    "}\n",
    "\n",
    "BORDER_RATIO = 0.40\n",
    "REAL_ORIGIN   = 'marseille'\n",
    "\n",
    "CAR_PREFIX = \"carDist\"              \n",
    "EV_BRANDS = [\"Renault\", \"Tesla\", \"Citroen\", \"Peugeot\", \"Dacia\", \"Volkswagen\", \"BMW\", \"Fiat\", \"KIA\"]\n",
    "\n",
    "EV_RATIO = 0.20\n",
    "\n",
    "DIST_ID = \"vehDist\"\n",
    "\n",
    "# Page 11\n",
    "INCOMING_RATIO = 178729/(178729 + 174729)\n",
    "OUTGOING_RATIO = 174729/(178729 + 174729)\n",
    "INCOMING_RATIO, OUTGOING_RATIO\n",
    "\n",
    "# Page 14 + Page 15\n",
    "TRIPS_RATIO_0 = 1 # default\n",
    "TRIPS_RATIO_1 = 0.40 # Marseille \n",
    "TRIPS_RATIO_2 = 0.41 # Marseille Bassin\n",
    "TRIPS_RATIO_3 = 0.52 # AMP Bassin = CEREMA\n",
    "TRIPS_RATIO_4 = 0.10 # test\n"
   ]
  },
  {
   "cell_type": "markdown",
   "metadata": {},
   "source": [
    "# **PREPARATION**"
   ]
  },
  {
   "cell_type": "markdown",
   "metadata": {},
   "source": [
    "## Processing Raw Flow"
   ]
  },
  {
   "cell_type": "code",
   "execution_count": null,
   "metadata": {},
   "outputs": [],
   "source": [
    "df = pd.read_csv(FLOW_CSV)\n",
    "\n",
    "columns_inter = ['Est_Etang-de-Berre','Aix-en-Provence','Sud-Est','Ouest_Etang-de-Berre','Nord-Ouest','Hors_AMP']\n",
    "df[\"Intra\"] = df[\"Total\"] - df[columns_inter].sum(axis=1)\n",
    "\n",
    "df.columns = [col.lower() for col in df.columns]\n",
    "\n",
    "df.to_csv(MAIN_FLOW_CSV, index=False)\n"
   ]
  },
  {
   "cell_type": "markdown",
   "metadata": {},
   "source": [
    "## Repairing Network"
   ]
  },
  {
   "cell_type": "code",
   "execution_count": null,
   "metadata": {},
   "outputs": [],
   "source": [
    "NETCHECK_CMD_1 = [\n",
    "    \"python\", NETCHECK_PY,\n",
    "    NET_XML,\n",
    "    \"--vclass\", \"passenger\",\n",
    "    \"--component-output\", COMPONENTS_NW_TXT_1\n",
    "]\n",
    "\n",
    "with open(NETCHECK_LOG_1, \"w\") as f:\n",
    "    print(f\"Running NETCHECK Step 1 ...\")\n",
    "    subprocess.run(NETCHECK_CMD_1, stdout=f, stderr=subprocess.STDOUT, check=True)\n",
    "    print(f\"[DONE] Components Ouput written to {COMPONENTS_NW_TXT_1}\\n[LOG] Output logged in {NETCHECK_LOG_1}\")\n",
    "\n",
    "print()\n",
    "print(f\"Running extractMaxComponent ...\")\n",
    "extractMaxComponent(COMPONENTS_NW_TXT_1, KEEP_EDGES_TXT_1)\n"
   ]
  },
  {
   "cell_type": "code",
   "execution_count": null,
   "metadata": {},
   "outputs": [],
   "source": [
    "NETCONVERT_CMD_1 = [\n",
    "    \"netconvert\",\n",
    "    \"--net-file\", NET_XML,\n",
    "    \"--keep-edges.input-file\", KEEP_EDGES_TXT_1,\n",
    "    \"--geometry.remove\",\n",
    "    \"--geometry.remove.min-length\", \"2\",\n",
    "    \"--geometry.max-segment-length\", \"20\",\n",
    "    \"--geometry.min-dist\", \"0.1\",\n",
    "    \"--geometry.max-angle\", \"150\",\n",
    "    \"--geometry.max-angle.fix\",\n",
    "    \"--remove-edges.isolated\",\n",
    "    \"--junctions.join\",\n",
    "    \"--junctions.join-dist\", \"60\",\n",
    "    \"--roundabouts.guess\",\n",
    "    \"--ramps.guess\",\n",
    "    \"--keep-edges.by-vclass=passenger\",\n",
    "    \"--osm.bike-access=false\",\n",
    "    \"--osm.sidewalks=false\",\n",
    "    \"--crossings.guess=false\",\n",
    "    \"--tls.guess\",\n",
    "    \"--tls.guess.threshold\", \"40\",\n",
    "    \"--tls.join\",\n",
    "    \"--tls.layout\", \"incoming\",\n",
    "    \"--tls.discard-loaded\",\n",
    "    \"--ptstop-output\", \"/dev/null\",\n",
    "    \"--ptline-output\", \"/dev/null\",\n",
    "    \"-o\", CLEANED_NET_XML_1\n",
    "]\n",
    "\n",
    "with open(NETCONVERT_LOG_1, \"w\") as f:\n",
    "    print(f\"Running NETCONVERT Step 1 ...\")\n",
    "    subprocess.run(NETCONVERT_CMD_1, stdout=f, stderr=subprocess.STDOUT, check=True)\n",
    "    print(f\"[DONE] Cleaned Network written to {CLEANED_NET_XML_1}\\n[LOG] Output logged in {NETCONVERT_LOG_1}\")\n"
   ]
  },
  {
   "cell_type": "code",
   "execution_count": null,
   "metadata": {},
   "outputs": [],
   "source": [
    "NETCHECK_CMD_2 = [\n",
    "    \"python\", NETCHECK_PY,\n",
    "    CLEANED_NET_XML_1,\n",
    "    \"--vclass\", \"passenger\",\n",
    "    \"--component-output\", COMPONENTS_NW_TXT_2,\n",
    "    \"-t\"\n",
    "]\n",
    "\n",
    "with open(NETCHECK_LOG_2, \"w\") as f:\n",
    "    print(f\"Running NETCHECK Step 2 ...\")\n",
    "    subprocess.run(NETCHECK_CMD_2, stdout=f, stderr=subprocess.STDOUT, check=True)\n",
    "    print(f\"[DONE] Output logged in {NETCHECK_LOG_2}\")\n",
    "\n",
    "print()\n",
    "print(f\"Running extractMaxComponent ...\")\n",
    "extractMaxComponent(COMPONENTS_NW_TXT_2, KEEP_EDGES_TXT_2)\n"
   ]
  },
  {
   "cell_type": "code",
   "execution_count": null,
   "metadata": {},
   "outputs": [],
   "source": [
    "NETCONVERT_CMD_2 = [\n",
    "    \"netconvert\",\n",
    "    \"--net-file\", CLEANED_NET_XML_1,\n",
    "    \"--keep-edges.input-file\", KEEP_EDGES_TXT_2,\n",
    "    \"-o\", CLEANED_NET_XML_2\n",
    "]\n",
    "\n",
    "with open(NETCONVERT_LOG_2, \"w\") as f:\n",
    "    print(f\"Running NETCONVERT Step 2 ...\")\n",
    "    subprocess.run(NETCONVERT_CMD_2, stdout=f, stderr=subprocess.STDOUT, check=True)\n",
    "    print(f\"[DONE] Cleaned Network written to {CLEANED_NET_XML_2}\\n[LOG] Output logged in {NETCONVERT_LOG_2}\")\n"
   ]
  },
  {
   "cell_type": "code",
   "execution_count": 8,
   "metadata": {},
   "outputs": [
    {
     "name": "stdout",
     "output_type": "stream",
     "text": [
      "Running NETCHECK Step 3 ...\n"
     ]
    },
    {
     "name": "stdout",
     "output_type": "stream",
     "text": [
      "[DONE] Output logged in /home/hoai-linh.dao/Works/EVCS/CEREMA-Mini/result/net-repairment/logs/netcheck_3.log\n"
     ]
    }
   ],
   "source": [
    "NETCHECK_CMD_3 = [\n",
    "    \"python\", NETCHECK_PY,\n",
    "    CLEANED_NET_XML_2,\n",
    "    \"--vclass\", \"passenger\",\n",
    "    \"-t\"\n",
    "\n",
    "]\n",
    "\n",
    "with open(NETCHECK_LOG_3, \"w\") as f:\n",
    "    print(f\"Running NETCHECK Step 3 ...\")\n",
    "    subprocess.run(NETCHECK_CMD_3, stdout=f, stderr=subprocess.STDOUT, check=True)\n",
    "    print(f\"[DONE] Output logged in {NETCHECK_LOG_3}\")\n"
   ]
  },
  {
   "cell_type": "code",
   "execution_count": 11,
   "metadata": {},
   "outputs": [
    {
     "name": "stdout",
     "output_type": "stream",
     "text": [
      "64502815#1  → 510193665: True\n",
      "510193665   → 64502815#1: False\n"
     ]
    }
   ],
   "source": [
    "net = sumolib.net.readNet(CLEANED_NET_XML_2)\n",
    "\n",
    "# Chiều A → B\n",
    "print(\"64502815#1  → 510193665:\",\n",
    "      net.getShortestPath(\n",
    "          net.getEdge('64502815#1'),\n",
    "          net.getEdge('510193665'))[0] is None)\n",
    "\n",
    "# Chiều ngược lại B → A\n",
    "print(\"510193665   → 64502815#1:\",\n",
    "      net.getShortestPath(\n",
    "          net.getEdge('510193665'),\n",
    "          net.getEdge('64502815#1'))[0] is None)\n"
   ]
  },
  {
   "cell_type": "markdown",
   "metadata": {},
   "source": [
    "## Checking Route"
   ]
  },
  {
   "cell_type": "code",
   "execution_count": null,
   "metadata": {},
   "outputs": [
    {
     "name": "stderr",
     "output_type": "stream",
     "text": [
      "Traceback (most recent call last):\n",
      "  File \"/home/hoai-linh.dao/Envs/sumo-env/lib/python3.10/site-packages/sumo/tools/route/routeStats.py\", line 158, in <module>\n",
      "    main()\n",
      "  File \"/home/hoai-linh.dao/Envs/sumo-env/lib/python3.10/site-packages/sumo/tools/route/routeStats.py\", line 127, in main\n",
      "    length = attribute_retriever(vehicle)\n",
      "  File \"/home/hoai-linh.dao/Envs/sumo-env/lib/python3.10/site-packages/sumo/tools/route/routeStats.py\", line 101, in attribute_retriever\n",
      "    return float(vehicle.routeLength)\n",
      "TypeError: float() argument must be a string or a real number, not 'NoneType'\n"
     ]
    },
    {
     "ename": "CalledProcessError",
     "evalue": "Command '['python', PosixPath('/home/hoai-linh.dao/Envs/sumo-env/lib/python3.10/site-packages/sumo/tools/route/routeStats.py'), PosixPath('/home/hoai-linh.dao/Works/EVCS/CEREMA-Mini/result/vtypes-simulation/route.alt.xml'), '-a', 'routeLength', '--binwidth', '500', '--hist-output', '/home/hoai-linh.dao/Works/EVCS/CEREMA-Mini/result/hist.dat']' returned non-zero exit status 1.",
     "output_type": "error",
     "traceback": [
      "\u001b[0;31m---------------------------------------------------------------------------\u001b[0m",
      "\u001b[0;31mCalledProcessError\u001b[0m                        Traceback (most recent call last)",
      "Cell \u001b[0;32mIn[10], line 9\u001b[0m\n\u001b[1;32m      1\u001b[0m ROUTESTATS_CMD \u001b[38;5;241m=\u001b[39m [\n\u001b[1;32m      2\u001b[0m     \u001b[38;5;124m\"\u001b[39m\u001b[38;5;124mpython\u001b[39m\u001b[38;5;124m\"\u001b[39m, ROUTESTATS_PY,\n\u001b[1;32m      3\u001b[0m     ROUTE_ALT_XML,\n\u001b[0;32m   (...)\u001b[0m\n\u001b[1;32m      7\u001b[0m     \u001b[38;5;124m\"\u001b[39m\u001b[38;5;124m--hist-output\u001b[39m\u001b[38;5;124m\"\u001b[39m, \u001b[38;5;124m\"\u001b[39m\u001b[38;5;124m/home/hoai-linh.dao/Works/EVCS/CEREMA-Mini/result/hist.dat\u001b[39m\u001b[38;5;124m\"\u001b[39m\n\u001b[1;32m      8\u001b[0m ]\n\u001b[0;32m----> 9\u001b[0m \u001b[43msubprocess\u001b[49m\u001b[38;5;241;43m.\u001b[39;49m\u001b[43mrun\u001b[49m\u001b[43m(\u001b[49m\u001b[43mROUTESTATS_CMD\u001b[49m\u001b[43m,\u001b[49m\u001b[43m \u001b[49m\u001b[43mcheck\u001b[49m\u001b[38;5;241;43m=\u001b[39;49m\u001b[38;5;28;43;01mTrue\u001b[39;49;00m\u001b[43m)\u001b[49m\n",
      "File \u001b[0;32m~/Envs/sumo-env/lib/python3.10/subprocess.py:526\u001b[0m, in \u001b[0;36mrun\u001b[0;34m(input, capture_output, timeout, check, *popenargs, **kwargs)\u001b[0m\n\u001b[1;32m    524\u001b[0m     retcode \u001b[38;5;241m=\u001b[39m process\u001b[38;5;241m.\u001b[39mpoll()\n\u001b[1;32m    525\u001b[0m     \u001b[38;5;28;01mif\u001b[39;00m check \u001b[38;5;129;01mand\u001b[39;00m retcode:\n\u001b[0;32m--> 526\u001b[0m         \u001b[38;5;28;01mraise\u001b[39;00m CalledProcessError(retcode, process\u001b[38;5;241m.\u001b[39margs,\n\u001b[1;32m    527\u001b[0m                                  output\u001b[38;5;241m=\u001b[39mstdout, stderr\u001b[38;5;241m=\u001b[39mstderr)\n\u001b[1;32m    528\u001b[0m \u001b[38;5;28;01mreturn\u001b[39;00m CompletedProcess(process\u001b[38;5;241m.\u001b[39margs, retcode, stdout, stderr)\n",
      "\u001b[0;31mCalledProcessError\u001b[0m: Command '['python', PosixPath('/home/hoai-linh.dao/Envs/sumo-env/lib/python3.10/site-packages/sumo/tools/route/routeStats.py'), PosixPath('/home/hoai-linh.dao/Works/EVCS/CEREMA-Mini/result/vtypes-simulation/route.alt.xml'), '-a', 'routeLength', '--binwidth', '500', '--hist-output', '/home/hoai-linh.dao/Works/EVCS/CEREMA-Mini/result/hist.dat']' returned non-zero exit status 1."
     ]
    }
   ],
   "source": [
    "ROUTESTATS_CMD = [\n",
    "    \"python\", ROUTESTATS_PY,\n",
    "    ROUTE_ALT_XML,\n",
    "    # \"-n\", CLEANED_NET_XML_2,\n",
    "    \"-a\", \"routeLength\",\n",
    "    \"--binwidth\", \"500\",\n",
    "    \"--hist-output\", \"/home/hoai-linh.dao/Works/EVCS/CEREMA-Mini/result/hist.dat\"\n",
    "]\n",
    "subprocess.run(ROUTESTATS_CMD, check=True)\n"
   ]
  },
  {
   "cell_type": "code",
   "execution_count": null,
   "metadata": {},
   "outputs": [],
   "source": []
  },
  {
   "cell_type": "markdown",
   "metadata": {},
   "source": [
    "# **MAIN**"
   ]
  },
  {
   "cell_type": "markdown",
   "metadata": {},
   "source": [
    "## Draft"
   ]
  },
  {
   "cell_type": "code",
   "execution_count": 7,
   "metadata": {},
   "outputs": [
    {
     "name": "stdout",
     "output_type": "stream",
     "text": [
      "[CHECK] BBs based on bassin:\n",
      "  Marseille: (681071.41, 4782435.09, 707896.24, 4809844.54)\n",
      "  Aix-En-Provence: (675875.66, 4806237.37, 726750.02, 4846094.13)\n",
      "  Est-Etang-de-Berre: (661512.74, 4799268.23, 692628.4, 4824635.74)\n",
      "  Nord-Ouest: (657332.98, 4821077.14, 684620.21, 4848686.82)\n",
      "  Ouest-Etang-de-Berre: (640339.8, 4798892.24, 671498.4, 4834166.7)\n",
      "  Sud-Est: (702844.16, 4781624.45, 724169.27, 4813232.06)\n"
     ]
    }
   ],
   "source": [
    "poly_tree = ET.parse(GROUPED_POLY_XML)\n",
    "poly_root = poly_tree.getroot()\n",
    "\n",
    "region_polys = defaultdict(list)\n",
    "for poly in poly_root.findall(\"poly\"):\n",
    "    region = poly.get(\"type\")\n",
    "    shape_str = poly.get(\"shape\")\n",
    "    if region and shape_str:\n",
    "        polygon = parseShape(shape_str)\n",
    "        if polygon is not None:\n",
    "            region_polys[region].append(polygon)\n",
    "\n",
    "region_geoms = {}\n",
    "for region, polys in region_polys.items():\n",
    "    if polys:\n",
    "        try:\n",
    "            region_geoms[region] = unary_union(polys)\n",
    "        except TopologicalError as e:\n",
    "            print(f\"[ERROR] Topology error in bassin {region}: {e}\")\n",
    "\n",
    "print(\"[CHECK] BBs based on bassin:\")\n",
    "for region, geom in region_geoms.items():\n",
    "    print(f\"  {region}: {geom.bounds}\")\n",
    "    "
   ]
  },
  {
   "cell_type": "code",
   "execution_count": 8,
   "metadata": {},
   "outputs": [],
   "source": [
    "net = sumolib.net.readNet(CLEANED_NET_XML_2)\n",
    "tree_net = ET.parse(CLEANED_NET_XML_2)\n",
    "root_net = tree_net.getroot()\n",
    "location_elem = root_net.find(\"location\")\n",
    "if location_elem is None or \"projParameter\" not in location_elem.attrib:\n",
    "    raise ValueError(\"Not found <location> or projParameter in net.xml\")\n",
    "proj_param = location_elem.attrib[\"projParameter\"]\n",
    "target_crs = CRS.from_proj4(proj_param)\n",
    "transformer = Transformer.from_crs(\"epsg:4326\", target_crs, always_xy=True)\n",
    "\n",
    "edges_by_region = defaultdict(list)\n",
    "edges_hors = []\n",
    "\n",
    "for edge in net.getEdges():\n",
    "    if edge.getID().endswith(\"-source\") or edge.getID().endswith(\"-sink\"):\n",
    "        continue\n",
    "    shape = edge.getShape()\n",
    "    if not shape:\n",
    "        continue\n",
    "    mid_pt = shape[len(shape)//2]\n",
    "    pt = Point(mid_pt[0], mid_pt[1])\n",
    "\n",
    "    assigned = False\n",
    "    for region, geom in region_geoms.items():\n",
    "        if geom.contains(pt):\n",
    "            edges_by_region[region].append(edge)\n",
    "            assigned = True\n",
    "            break\n",
    "\n",
    "    if not assigned:\n",
    "        edges_hors.append(edge)\n",
    "        \n",
    "edges_by_region['hors_amp'] = edges_hors\n"
   ]
  },
  {
   "cell_type": "code",
   "execution_count": null,
   "metadata": {},
   "outputs": [],
   "source": [
    "net = sumolib.net.readNet(CLEANED_NET_XML_2)\n",
    "\n",
    "def reachable(e_from, e_to):\n",
    "    \"\"\"True nếu có đường đi (theo passenger) từ e_from --> e_to\"\"\"\n",
    "    return net.getShortestPath(e_from, e_to)[0] is not None\n",
    "\n",
    "candidate_out  = defaultdict(list)\n",
    "candidate_in   = defaultdict(list)\n",
    "\n",
    "SAMPLE = 200\n",
    "\n",
    "for reg_from, edges_from in edges_by_region.items():\n",
    "    others = {r: es for r, es in edges_by_region.items() if r != reg_from}\n",
    "\n",
    "    for e in edges_from:\n",
    "        # --- OUT ---\n",
    "        ok_out = False\n",
    "        for reg_to, edges_to in others.items():\n",
    "            sample_to = random.sample(edges_to, min(SAMPLE, len(edges_to)))\n",
    "            if any(reachable(e, et) for et in sample_to):\n",
    "                ok_out = True\n",
    "                break\n",
    "        if ok_out:\n",
    "            candidate_out[reg_from].append(e)\n",
    "\n",
    "        # --- IN ---\n",
    "        ok_in = False\n",
    "        for reg_from2, edges_from2 in others.items():\n",
    "            sample_from2 = random.sample(edges_from2, min(SAMPLE, len(edges_from2)))\n",
    "            if any(reachable(ef2, e) for ef2 in sample_from2):\n",
    "                ok_in = True\n",
    "                break\n",
    "        if ok_in:\n",
    "            candidate_in[reg_from].append(e)\n",
    "\n",
    "root = ET.Element(\"tazs\")\n",
    "for region in edges_by_region:\n",
    "    rid = region.lower()\n",
    "    taz_id = TAZ_IDS.get(rid)\n",
    "    if not taz_id:\n",
    "        print(f\"[WARN] No TAZ id for {region}, skip\")\n",
    "        continue\n",
    "\n",
    "    geom = region_geoms.get(region)\n",
    "    cx, cy = (geom.centroid.x, geom.centroid.y) if geom else (0, 0)\n",
    "    taz = ET.SubElement(root, \"taz\", id=taz_id, x=f\"{cx:.2f}\", y=f\"{cy:.2f}\")\n",
    "\n",
    "    Nsrc = Nsink = 300\n",
    "    for e in random.sample(candidate_out[region],  min(Nsrc,  len(candidate_out[region]))):\n",
    "        ET.SubElement(taz, \"tazSource\", id=e.getID(), weight=\"1.0\")\n",
    "\n",
    "    for e in random.sample(candidate_in[region],   min(Nsink, len(candidate_in[region]))):\n",
    "        ET.SubElement(taz, \"tazSink\",   id=e.getID(), weight=\"1.0\")\n",
    "\n",
    "ET.ElementTree(root).write(TAZ_XML, encoding=\"utf-8\", xml_declaration=True)\n",
    "print(\">> TAZ written to\", TAZ_XML)"
   ]
  },
  {
   "cell_type": "code",
   "execution_count": null,
   "metadata": {},
   "outputs": [
    {
     "name": "stdout",
     "output_type": "stream",
     "text": [
      "Normal edges  : 165,808\n",
      "Internal edges: 0\n",
      "\n",
      "--- Direction statistics ---\n",
      "One-way edges : 34,316\n",
      "Two-way edges : 131,492\n",
      "Total checked : 165,808\n"
     ]
    }
   ],
   "source": [
    "#  Direction statistics\n",
    "net = sumolib.net.readNet(CLEANED_NET_XML_2)\n",
    "internal_edges = [e for e in net.getEdges() if e.getID().startswith(':')]\n",
    "normal_edges   = [e for e in net.getEdges(True)   # chỉ edge “thường”\n",
    "                  if not e.getID().startswith(':')]\n",
    "\n",
    "print(f\"Normal edges  : {len(normal_edges):,}\")\n",
    "print(f\"Internal edges: {len(internal_edges):,}\")\n",
    "\n",
    "\n",
    "counter = Counter()\n",
    "\n",
    "for e in normal_edges:\n",
    "    direction = \"one_way\"\n",
    "\n",
    "  \n",
    "    for rev in e.getToNode().getOutgoing():        \n",
    "        if rev.getToNode() is e.getFromNode():     \n",
    "            direction = \"two_way\"\n",
    "            break\n",
    "\n",
    "    counter[direction] += 1\n",
    "\n",
    "print(\"\\n--- Direction statistics ---\")\n",
    "print(f\"One-way edges : {counter['one_way']:,}\")\n",
    "print(f\"Two-way edges : {counter['two_way']:,}\")\n",
    "print(f\"Total checked : {counter['one_way'] + counter['two_way']:,}\")"
   ]
  },
  {
   "cell_type": "code",
   "execution_count": null,
   "metadata": {},
   "outputs": [],
   "source": []
  },
  {
   "cell_type": "code",
   "execution_count": null,
   "metadata": {},
   "outputs": [
    {
     "name": "stdout",
     "output_type": "stream",
     "text": [
      "[1] Reading basins …\n",
      "[2] Scanning network …\n",
      "[2a] Inner‑basin connectivity filter …\n",
      "  – Aix-En-Provence: removed 21 isolated edges\n",
      "  – Est-Etang-de-Berre: removed 11 isolated edges\n",
      "  – Marseille: removed 32 isolated edges\n",
      "  – Sud-Est: removed 10 isolated edges\n",
      "  – Ouest-Etang-de-Berre: removed 27 isolated edges\n",
      "  – hors_amp: removed 7 isolated edges\n",
      "[2b] Cross‑basin connectivity filter …\n"
     ]
    }
   ],
   "source": [
    "# New proposed TAZ creation way\n",
    "BORDER_RATIO          = 0.4  \n",
    "SAMPLE_INNER          = 40  \n",
    "SAMPLE_CROSS          = 40  \n",
    "def parseShape(shape_str: str):\n",
    "    try:\n",
    "        coords = [tuple(map(float, p.split(','))) for p in shape_str.strip().split()]\n",
    "    except ValueError:\n",
    "        return None\n",
    "    if len(coords) < 3:\n",
    "        return None\n",
    "    if coords[0] != coords[-1]:\n",
    "        coords.append(coords[0])\n",
    "    poly = Polygon(coords)\n",
    "    if not poly.is_valid:\n",
    "        poly = poly.buffer(0)\n",
    "    return poly if poly.is_valid else None\n",
    "\n",
    "\n",
    "def boundary_edges(edges, geom, ratio=0.1):\n",
    "    if geom is None:\n",
    "        return []\n",
    "    minx, miny, maxx, maxy = geom.bounds\n",
    "    th = min(maxx - minx, maxy - miny) * ratio\n",
    "    boundary = geom.boundary\n",
    "    return [e for e in edges if Point(e.getShape()[len(e.getShape())//2]).distance(boundary) < th]\n",
    "\n",
    "\n",
    "def has_reverse(edge):\n",
    "    fn, tn = edge.getFromNode(), edge.getToNode()\n",
    "    return any(o.getToNode() is fn for o in tn.getOutgoing())\n",
    "\n",
    "\n",
    "def is_valid_edge(edge):\n",
    "    return (not edge.getID().startswith('-')  # skip reverse direction\n",
    "            and not edge.getID().endswith(('-source', '-sink'))\n",
    "            and edge.getShape()\n",
    "            and has_reverse(edge))            # true two‑way road\n",
    "\n",
    "\n",
    "def reachable(edge_from, edge_to, net):\n",
    "    return net.getShortestPath(edge_from, edge_to)[0] is not None\n",
    "\n",
    "\n",
    "def filter_reachable(pool, net, sample=SAMPLE_INNER):\n",
    "    \"\"\"Keep edges that can reach **and** be reached from ≥1 peer in *pool*.\"\"\"\n",
    "    if len(pool) <= 1:\n",
    "        return pool\n",
    "    keep = []\n",
    "    for e in pool:\n",
    "        targets = random.sample([x for x in pool if x is not e], min(sample, len(pool)-1))\n",
    "        ok_out = any(reachable(e, t, net) for t in targets)\n",
    "        ok_in  = any(reachable(t, e, net) for t in targets)\n",
    "        if ok_out and ok_in:\n",
    "            keep.append(e)\n",
    "    return keep\n",
    "\n",
    "# STEP‑1  Build basin geometries\n",
    "print(\"[1] Reading basins …\")\n",
    "region_geoms = defaultdict(list)\n",
    "for p in ET.parse(GROUPED_POLY_XML).getroot().findall('poly'):\n",
    "    reg = p.get('type')\n",
    "    geom = parseShape(p.get('shape', ''))\n",
    "    if reg and geom:\n",
    "        region_geoms[reg].append(geom)\n",
    "for reg, polys in region_geoms.items():\n",
    "    region_geoms[reg] = unary_union(polys) if len(polys) > 1 else polys[0]\n",
    "\n",
    "# STEP‑2  Scan network & assign edges to basins\n",
    "print(\"[2] Scanning network …\")\n",
    "NET = sumolib.net.readNet(CLEANED_NET_XML_2)\n",
    "\n",
    "edges_by_region = defaultdict(list)\n",
    "outside = []\n",
    "\n",
    "for e in NET.getEdges():\n",
    "    if not is_valid_edge(e):\n",
    "        continue\n",
    "    mid = Point(e.getShape()[len(e.getShape())//2])\n",
    "    placed = False\n",
    "    for reg, geom in region_geoms.items():\n",
    "        if geom.contains(mid):\n",
    "            edges_by_region[reg].append(e)\n",
    "            placed = True\n",
    "            break\n",
    "    if not placed:\n",
    "        outside.append(e)\n",
    "\n",
    "edges_by_region['hors_amp'] = outside\n",
    "\n",
    "# ── Inner‑basin connectivity \n",
    "print(\"[2a] Inner‑basin connectivity filter …\")\n",
    "for reg, pool in list(edges_by_region.items()):\n",
    "    kept = filter_reachable(pool, NET, SAMPLE_INNER)\n",
    "    if len(kept) < len(pool):\n",
    "        print(f\"  – {reg}: removed {len(pool)-len(kept)} isolated edges\")\n",
    "    edges_by_region[reg] = kept\n",
    "\n",
    "# ── Cross‑basin connectivity \n",
    "print(\"[2b] Cross‑basin connectivity filter …\")\n",
    "for reg_from, pool_from in list(edges_by_region.items()):\n",
    "    others = [e for r, p in edges_by_region.items() if r != reg_from for e in p]\n",
    "    if not pool_from or not others:\n",
    "        continue\n",
    "    keep = []\n",
    "    for e in pool_from:\n",
    "        tgt_sample = random.sample(others, min(SAMPLE_CROSS, len(others)))\n",
    "        ok_out = any(reachable(e, t, NET) for t in tgt_sample)\n",
    "        ok_in  = any(reachable(t, e, NET) for t in tgt_sample)\n",
    "        if ok_out and ok_in:\n",
    "            keep.append(e)\n",
    "    removed = len(pool_from) - len(keep)\n",
    "    if removed:\n",
    "        print(f\"  – {reg_from}: removed {removed} edges not reachable cross‑basin\")\n",
    "    edges_by_region[reg_from] = keep\n",
    "\n",
    "# STEP‑3  Write TAZ\n",
    "print(\"[3] Writing TAZ …\")\n",
    "root = ET.Element('tazs')\n",
    "for reg, pool in edges_by_region.items():\n",
    "    if not pool:\n",
    "        continue\n",
    "    tid = TAZ_IDS.get(reg.lower())\n",
    "    if tid is None:\n",
    "        print(f\"  ! no TAZ id for basin {reg}; skip\")\n",
    "        continue\n",
    "    geom = region_geoms.get(reg)\n",
    "    B = boundary_edges(pool, geom)\n",
    "    I = [e for e in pool if e not in B]\n",
    "    nb = int(BORDER_RATIO*len(pool))\n",
    "    ni = len(pool)-nb\n",
    "    chosen = random.sample(B, min(nb, len(B))) + random.sample(I, min(ni, len(I)))\n",
    "\n",
    "    c = geom.centroid if geom else Point(0,0)\n",
    "    taz = ET.SubElement(root, 'taz', id=str(tid), x=f\"{c.x:.2f}\", y=f\"{c.y:.2f}\")\n",
    "    for e in sorted(chosen, key=lambda x:x.getID()):\n",
    "        ET.SubElement(taz,'tazSource', id=e.getID(), weight='1.0')\n",
    "        ET.SubElement(taz,'tazSink',   id=e.getID(), weight='1.0')\n",
    "\n",
    "ET.ElementTree(root).write(TAZ_XML, encoding='utf-8', xml_declaration=True)\n",
    "print(f\"[DONE] {TAZ_XML} ready.  Run od2trips & duarouter next.\")"
   ]
  },
  {
   "cell_type": "markdown",
   "metadata": {},
   "source": [
    "## CREATING TAZ"
   ]
  },
  {
   "cell_type": "code",
   "execution_count": 5,
   "metadata": {},
   "outputs": [
    {
     "name": "stdout",
     "output_type": "stream",
     "text": [
      "[CHECK] Bounding boxes (per basin):\n",
      "  Marseille: (681071.41, 4782435.09, 707896.24, 4809844.54)\n",
      "  Aix-En-Provence: (675875.66, 4806237.37, 726750.02, 4846094.13)\n",
      "  Est-Etang-de-Berre: (661512.74, 4799268.23, 692628.4, 4824635.74)\n",
      "  Nord-Ouest: (657332.98, 4821077.14, 684620.21, 4848686.82)\n",
      "  Ouest-Etang-de-Berre: (640339.8, 4798892.24, 671498.4, 4834166.7)\n",
      "  Sud-Est: (702844.16, 4781624.45, 724169.27, 4813232.06)\n"
     ]
    }
   ],
   "source": [
    "poly_tree = ET.parse(GROUPED_POLY_XML)\n",
    "poly_root = poly_tree.getroot()\n",
    "\n",
    "region_polys = defaultdict(list)\n",
    "for poly in poly_root.findall(\"poly\"):\n",
    "    region = poly.get(\"type\")\n",
    "    shape_str = poly.get(\"shape\")\n",
    "    if region and shape_str:\n",
    "        polygon = parseShape(shape_str)\n",
    "        if polygon is not None:\n",
    "            region_polys[region].append(polygon)\n",
    "\n",
    "region_geoms = {}\n",
    "for region, polys in region_polys.items():\n",
    "    if polys:\n",
    "        try:\n",
    "            region_geoms[region] = unary_union(polys)\n",
    "        except TopologicalError as e:\n",
    "            print(f\"[ERROR] Topology error in bassin {region}: {e}\")\n",
    "\n",
    "print(\"[CHECK] Bounding boxes (per basin):\")\n",
    "for region, geom in region_geoms.items():\n",
    "    print(f\"  {region}: {geom.bounds}\")\n"
   ]
  },
  {
   "cell_type": "code",
   "execution_count": 6,
   "metadata": {},
   "outputs": [],
   "source": [
    "net = sumolib.net.readNet(CLEANED_NET_XML_2)\n",
    "\n",
    "# store edges per basin; plus list for those outside any basin (\"hors_amp\")\n",
    "edges_by_region = defaultdict(list)\n",
    "edges_hors      = []\n",
    "\n",
    "for edge in net.getEdges():\n",
    "    # skip technical source/sink edges created by netconvert\n",
    "    if edge.getID().endswith(\"-source\") or edge.getID().endswith(\"-sink\"):\n",
    "        continue\n",
    "\n",
    "    shape = edge.getShape()\n",
    "    if not shape:\n",
    "        continue\n",
    "    mid_pt = shape[len(shape) // 2]\n",
    "    pt = Point(mid_pt[0], mid_pt[1])\n",
    "\n",
    "    assigned = False\n",
    "    for region, geom in region_geoms.items():\n",
    "        if geom.contains(pt):\n",
    "            edges_by_region[region].append(edge)\n",
    "            assigned = True\n",
    "            break\n",
    "    if not assigned:\n",
    "        edges_hors.append(edge)\n",
    "\n",
    "# add \"hors_amp\" (outside) group\n",
    "edges_by_region[\"hors_amp\"] = edges_hors"
   ]
  },
  {
   "cell_type": "code",
   "execution_count": 7,
   "metadata": {},
   "outputs": [
    {
     "name": "stdout",
     "output_type": "stream",
     "text": [
      "[CHECK] Basin Aix-En-Provence: total=40267 | B=16029 | I=24238 | selected=40190\n",
      "[CHECK] Basin Ouest-Etang-de-Berre: total=21546 | B=19557 | I=1989 | selected=10607\n",
      "[CHECK] Basin Est-Etang-de-Berre: total=23540 | B=8919 | I=14621 | selected=23043\n",
      "[CHECK] Basin Marseille: total=31481 | B=16169 | I=15312 | selected=27904\n",
      "[CHECK] Basin Sud-Est: total=16139 | B=7154 | I=8985 | selected=15440\n",
      "[CHECK] Basin Nord-Ouest: total=14904 | B=9852 | I=5052 | selected=11013\n",
      "[CHECK] Basin hors_amp: total=17931 | B=0 | I=17931 | selected=17931\n",
      "\n",
      "[DONE] TAZ file written to /home/hoai-linh.dao/Works/EVCS/CEREMA-Mini/result/experiments/simulation-10percent-nonvtypes/taz.add.xml\n"
     ]
    }
   ],
   "source": [
    "taz_root = ET.Element(\"tazs\")\n",
    "\n",
    "for region, edges in edges_by_region.items():\n",
    "    rid    = region.lower()\n",
    "    taz_id = TAZ_IDS.get(rid)\n",
    "    if not taz_id:\n",
    "        print(f\"[ERROR] No TAZ ID for {region}, skip\")\n",
    "        continue\n",
    "\n",
    "    geom = region_geoms.get(region)\n",
    "    if geom is None:\n",
    "        B, I = [], edges[:]\n",
    "    else:\n",
    "        B = selectBoundaryEdges(edges, geom, threshold_ratio=0.1)\n",
    "        I = [e for e in edges if e not in B]\n",
    "\n",
    "    if region == \"hors_amp\":\n",
    "        conns = edges[:]\n",
    "    else:\n",
    "        total = len(B) + len(I)\n",
    "        nB    = int(BORDER_RATIO * total)\n",
    "        nI    = total - nB\n",
    "        conns = random.sample(B, min(nB, len(B))) + \\\n",
    "                random.sample(I, min(nI, len(I)))\n",
    "\n",
    "    print(f\"[CHECK] Basin {region}: total={len(edges)} | B={len(B)} | I={len(I)} | selected={len(conns)}\")\n",
    "\n",
    "    cent = geom.centroid if geom is not None else Point(0, 0)\n",
    "    taz  = ET.SubElement(taz_root, \"taz\", id=str(taz_id), x=f\"{cent.x:.2f}\", y=f\"{cent.y:.2f}\")\n",
    "    for e in sorted(conns, key=lambda _e: _e.getID()):\n",
    "        ET.SubElement(taz, \"tazSource\", id=e.getID(), weight=\"1.0\")\n",
    "        ET.SubElement(taz, \"tazSink\",   id=e.getID(), weight=\"1.0\")\n",
    "\n",
    "ET.ElementTree(taz_root).write(TAZ_XML, encoding=\"utf-8\", xml_declaration=True)\n",
    "print(f\"\\n[DONE] TAZ file written to {TAZ_XML}\")"
   ]
  },
  {
   "cell_type": "markdown",
   "metadata": {},
   "source": [
    "## Creating Ods"
   ]
  },
  {
   "cell_type": "code",
   "execution_count": 8,
   "metadata": {},
   "outputs": [
    {
     "name": "stdout",
     "output_type": "stream",
     "text": [
      "[DONE] OD matrix hour 4: /home/hoai-linh.dao/Works/EVCS/CEREMA-Mini/result/experiments/simulation-10percent-nonvtypes/ods/od_matrix_04.txt (1688 bytes)\n",
      "[DONE] OD matrix hour 5: /home/hoai-linh.dao/Works/EVCS/CEREMA-Mini/result/experiments/simulation-10percent-nonvtypes/ods/od_matrix_05.txt (1688 bytes)\n",
      "[DONE] OD matrix hour 6: /home/hoai-linh.dao/Works/EVCS/CEREMA-Mini/result/experiments/simulation-10percent-nonvtypes/ods/od_matrix_06.txt (1688 bytes)\n",
      "[DONE] OD matrix hour 7: /home/hoai-linh.dao/Works/EVCS/CEREMA-Mini/result/experiments/simulation-10percent-nonvtypes/ods/od_matrix_07.txt (1688 bytes)\n",
      "[DONE] OD matrix hour 8: /home/hoai-linh.dao/Works/EVCS/CEREMA-Mini/result/experiments/simulation-10percent-nonvtypes/ods/od_matrix_08.txt (1688 bytes)\n",
      "[DONE] OD matrix hour 9: /home/hoai-linh.dao/Works/EVCS/CEREMA-Mini/result/experiments/simulation-10percent-nonvtypes/ods/od_matrix_09.txt (1689 bytes)\n",
      "[DONE] OD matrix hour 10: /home/hoai-linh.dao/Works/EVCS/CEREMA-Mini/result/experiments/simulation-10percent-nonvtypes/ods/od_matrix_10.txt (1690 bytes)\n",
      "[DONE] OD matrix hour 11: /home/hoai-linh.dao/Works/EVCS/CEREMA-Mini/result/experiments/simulation-10percent-nonvtypes/ods/od_matrix_11.txt (1690 bytes)\n",
      "[DONE] OD matrix hour 12: /home/hoai-linh.dao/Works/EVCS/CEREMA-Mini/result/experiments/simulation-10percent-nonvtypes/ods/od_matrix_12.txt (1690 bytes)\n",
      "[DONE] OD matrix hour 13: /home/hoai-linh.dao/Works/EVCS/CEREMA-Mini/result/experiments/simulation-10percent-nonvtypes/ods/od_matrix_13.txt (1690 bytes)\n",
      "[DONE] OD matrix hour 14: /home/hoai-linh.dao/Works/EVCS/CEREMA-Mini/result/experiments/simulation-10percent-nonvtypes/ods/od_matrix_14.txt (1690 bytes)\n",
      "[DONE] OD matrix hour 15: /home/hoai-linh.dao/Works/EVCS/CEREMA-Mini/result/experiments/simulation-10percent-nonvtypes/ods/od_matrix_15.txt (1690 bytes)\n",
      "[DONE] OD matrix hour 16: /home/hoai-linh.dao/Works/EVCS/CEREMA-Mini/result/experiments/simulation-10percent-nonvtypes/ods/od_matrix_16.txt (1690 bytes)\n",
      "[DONE] OD matrix hour 17: /home/hoai-linh.dao/Works/EVCS/CEREMA-Mini/result/experiments/simulation-10percent-nonvtypes/ods/od_matrix_17.txt (1690 bytes)\n",
      "[DONE] OD matrix hour 18: /home/hoai-linh.dao/Works/EVCS/CEREMA-Mini/result/experiments/simulation-10percent-nonvtypes/ods/od_matrix_18.txt (1690 bytes)\n",
      "[DONE] OD matrix hour 19: /home/hoai-linh.dao/Works/EVCS/CEREMA-Mini/result/experiments/simulation-10percent-nonvtypes/ods/od_matrix_19.txt (1690 bytes)\n",
      "[DONE] OD matrix hour 20: /home/hoai-linh.dao/Works/EVCS/CEREMA-Mini/result/experiments/simulation-10percent-nonvtypes/ods/od_matrix_20.txt (1690 bytes)\n",
      "[DONE] OD matrix hour 21: /home/hoai-linh.dao/Works/EVCS/CEREMA-Mini/result/experiments/simulation-10percent-nonvtypes/ods/od_matrix_21.txt (1690 bytes)\n",
      "[DONE] OD matrix hour 22: /home/hoai-linh.dao/Works/EVCS/CEREMA-Mini/result/experiments/simulation-10percent-nonvtypes/ods/od_matrix_22.txt (1690 bytes)\n",
      "[DONE] OD matrix hour 23: /home/hoai-linh.dao/Works/EVCS/CEREMA-Mini/result/experiments/simulation-10percent-nonvtypes/ods/od_matrix_23.txt (1690 bytes)\n",
      "[DONE] OD matrix hour 0: /home/hoai-linh.dao/Works/EVCS/CEREMA-Mini/result/experiments/simulation-10percent-nonvtypes/ods/od_matrix_00.txt (1688 bytes)\n",
      "[DONE] OD matrix hour 1: /home/hoai-linh.dao/Works/EVCS/CEREMA-Mini/result/experiments/simulation-10percent-nonvtypes/ods/od_matrix_01.txt (1688 bytes)\n",
      "[DONE] OD matrix hour 2: /home/hoai-linh.dao/Works/EVCS/CEREMA-Mini/result/experiments/simulation-10percent-nonvtypes/ods/od_matrix_02.txt (1688 bytes)\n",
      "[DONE] OD matrix hour 3: /home/hoai-linh.dao/Works/EVCS/CEREMA-Mini/result/experiments/simulation-10percent-nonvtypes/ods/od_matrix_03.txt (1688 bytes)\n"
     ]
    }
   ],
   "source": [
    "matrix_files = generateOds(\n",
    "    MAIN_FLOW_CSV,\n",
    "    ODS_DIR,\n",
    "    TAZ_IDS,\n",
    "    real_origin=\"marseille\",\n",
    "    exclude_cols={\"total\",\"intra\"},\n",
    "    trips_ratio=TRIPS_RATIO_4,\n",
    "    scale_in=INCOMING_RATIO,\n",
    "    scale_out=OUTGOING_RATIO\n",
    ")\n",
    "\n",
    "\n",
    "for hour, path in matrix_files:\n",
    "    size = os.path.getsize(path)\n",
    "    print(f\"[DONE] OD matrix hour {hour}: {path} ({size} bytes)\")\n",
    "    "
   ]
  },
  {
   "cell_type": "markdown",
   "metadata": {},
   "source": [
    "## Creating Vtypes Distribution (Optional)"
   ]
  },
  {
   "cell_type": "code",
   "execution_count": null,
   "metadata": {},
   "outputs": [
    {
     "name": "stdout",
     "output_type": "stream",
     "text": [
      "[DETECTED] There are 100 ICEs, 66 EVs\n",
      "[DONE] vType probabilities written to /home/hoai-linh.dao/Works/EVCS/CEREMA-Mini/result/experiments/simulation-10percent/vtypes-dist.add.xml\n"
     ]
    }
   ],
   "source": [
    "assignProbabilitiesToVtypes(\n",
    "    vtypes_xml=ORIG_VTYPES_XML,\n",
    "    dist_id=\"vehDist\",\n",
    "    ev_brands=EV_BRANDS,\n",
    "    ev_ratio=0.2,\n",
    "    output_xml=VTYPES_DIST_XML\n",
    ")\n"
   ]
  },
  {
   "cell_type": "markdown",
   "metadata": {},
   "source": [
    "## Creating Trips from Ods"
   ]
  },
  {
   "cell_type": "code",
   "execution_count": 9,
   "metadata": {},
   "outputs": [
    {
     "name": "stdout",
     "output_type": "stream",
     "text": [
      "Call od2trips for all ...\n",
      "Success.time 3598.85\n",
      "Generated /home/hoai-linh.dao/Works/EVCS/CEREMA-Mini/result/experiments/simulation-10percent-nonvtypes/trips/trips_00.xml\n",
      "Success.time 7197.60\n",
      "Generated /home/hoai-linh.dao/Works/EVCS/CEREMA-Mini/result/experiments/simulation-10percent-nonvtypes/trips/trips_01.xml\n",
      "Success.time 10794.00\n",
      "Generated /home/hoai-linh.dao/Works/EVCS/CEREMA-Mini/result/experiments/simulation-10percent-nonvtypes/trips/trips_02.xml\n",
      "Success.time 14360.00\n",
      "Generated /home/hoai-linh.dao/Works/EVCS/CEREMA-Mini/result/experiments/simulation-10percent-nonvtypes/trips/trips_03.xml\n",
      "Success.time 17979.78\n",
      "Generated /home/hoai-linh.dao/Works/EVCS/CEREMA-Mini/result/experiments/simulation-10percent-nonvtypes/trips/trips_04.xml\n",
      "Success.time 21597.70\n",
      "Generated /home/hoai-linh.dao/Works/EVCS/CEREMA-Mini/result/experiments/simulation-10percent-nonvtypes/trips/trips_05.xml\n",
      "Success.time 25199.25\n",
      "Generated /home/hoai-linh.dao/Works/EVCS/CEREMA-Mini/result/experiments/simulation-10percent-nonvtypes/trips/trips_06.xml\n",
      "Success.time 28799.05\n",
      "Generated /home/hoai-linh.dao/Works/EVCS/CEREMA-Mini/result/experiments/simulation-10percent-nonvtypes/trips/trips_07.xml\n",
      "Success.time 32399.40\n",
      "Generated /home/hoai-linh.dao/Works/EVCS/CEREMA-Mini/result/experiments/simulation-10percent-nonvtypes/trips/trips_08.xml\n",
      "Success.time 35999.69\n",
      "Generated /home/hoai-linh.dao/Works/EVCS/CEREMA-Mini/result/experiments/simulation-10percent-nonvtypes/trips/trips_09.xml\n",
      "Success.time 39599.38\n",
      "Generated /home/hoai-linh.dao/Works/EVCS/CEREMA-Mini/result/experiments/simulation-10percent-nonvtypes/trips/trips_10.xml\n",
      "Success.time 43199.36\n",
      "Generated /home/hoai-linh.dao/Works/EVCS/CEREMA-Mini/result/experiments/simulation-10percent-nonvtypes/trips/trips_11.xml\n",
      "Success.time 46799.26\n",
      "Generated /home/hoai-linh.dao/Works/EVCS/CEREMA-Mini/result/experiments/simulation-10percent-nonvtypes/trips/trips_12.xml\n",
      "Success.time 50399.02\n",
      "Generated /home/hoai-linh.dao/Works/EVCS/CEREMA-Mini/result/experiments/simulation-10percent-nonvtypes/trips/trips_13.xml\n",
      "Success.time 53999.88\n",
      "Generated /home/hoai-linh.dao/Works/EVCS/CEREMA-Mini/result/experiments/simulation-10percent-nonvtypes/trips/trips_14.xml\n",
      "Success.time 57599.09\n",
      "Generated /home/hoai-linh.dao/Works/EVCS/CEREMA-Mini/result/experiments/simulation-10percent-nonvtypes/trips/trips_15.xml\n",
      "Success.time 61199.22\n",
      "Generated /home/hoai-linh.dao/Works/EVCS/CEREMA-Mini/result/experiments/simulation-10percent-nonvtypes/trips/trips_16.xml\n",
      "Success.time 64799.45\n",
      "Generated /home/hoai-linh.dao/Works/EVCS/CEREMA-Mini/result/experiments/simulation-10percent-nonvtypes/trips/trips_17.xml\n",
      "Success.time 68399.63\n",
      "Generated /home/hoai-linh.dao/Works/EVCS/CEREMA-Mini/result/experiments/simulation-10percent-nonvtypes/trips/trips_18.xml\n",
      "Success.time 71999.07\n",
      "Generated /home/hoai-linh.dao/Works/EVCS/CEREMA-Mini/result/experiments/simulation-10percent-nonvtypes/trips/trips_19.xml\n",
      "Success.time 75599.84\n",
      "Generated /home/hoai-linh.dao/Works/EVCS/CEREMA-Mini/result/experiments/simulation-10percent-nonvtypes/trips/trips_20.xml\n",
      "Success.time 79199.74\n",
      "Generated /home/hoai-linh.dao/Works/EVCS/CEREMA-Mini/result/experiments/simulation-10percent-nonvtypes/trips/trips_21.xml\n",
      "Success.time 82798.55\n",
      "Generated /home/hoai-linh.dao/Works/EVCS/CEREMA-Mini/result/experiments/simulation-10percent-nonvtypes/trips/trips_22.xml\n",
      "Success.time 86399.25\n",
      "Generated /home/hoai-linh.dao/Works/EVCS/CEREMA-Mini/result/experiments/simulation-10percent-nonvtypes/trips/trips_23.xml\n",
      "\n",
      "[DONE] Finished 24 Trips based on hours.\n",
      "[DONE] Merged 24 trip files to /home/hoai-linh.dao/Works/EVCS/CEREMA-Mini/result/experiments/simulation-10percent-nonvtypes/trips.xml\n"
     ]
    }
   ],
   "source": [
    "print(\"Call od2trips for all ...\")\n",
    "trips_files = od2tripsForAll(TAZ_XML, TRIPS_DIR, ODS_DIR)\n",
    "print()\n",
    "print(\"[DONE] Finished 24 Trips based on hours.\")\n",
    "\n",
    "mergeTrips(TRIPS_DIR, ALL_TRIPS_XML)\n"
   ]
  },
  {
   "cell_type": "markdown",
   "metadata": {},
   "source": [
    "## Creating Route"
   ]
  },
  {
   "cell_type": "code",
   "execution_count": 11,
   "metadata": {},
   "outputs": [
    {
     "name": "stdout",
     "output_type": "stream",
     "text": [
      "Running DUAROUTER Step ...\n",
      "Reading up to time step: 201.15\r"
     ]
    },
    {
     "name": "stderr",
     "output_type": "stream",
     "text": [
      "Warning: No connection between edge '-150925676' and edge '132333633#10' found.\n",
      "Warning: Mandatory edge '132333633#10' not reachable by vehicle 'h00_42'.\n",
      "Warning: The vehicle 'h00_42' has no valid route.\n",
      "Warning: No connection between edge '598291611#1' and edge '510193674' found.\n",
      "Warning: Mandatory edge '510193674' not reachable by vehicle 'h00_60'.\n",
      "Warning: The vehicle 'h00_60' has no valid route.\n"
     ]
    },
    {
     "name": "stdout",
     "output_type": "stream",
     "text": [
      "Reading up to time step: 801.15\r"
     ]
    },
    {
     "name": "stderr",
     "output_type": "stream",
     "text": [
      "Warning: No connection between edge '176545268#1' and edge '510193635#0' found.\n",
      "Warning: Mandatory edge '510193635#0' not reachable by vehicle 'h00_337'.\n",
      "Warning: The vehicle 'h00_337' has no valid route.\n",
      "Warning: No connection between edge '53839122#3' and edge '62023728#1' found.\n",
      "Warning: Mandatory edge '62023728#1' not reachable by vehicle 'h00_339'.\n",
      "Warning: The vehicle 'h00_339' has no valid route.\n"
     ]
    },
    {
     "name": "stdout",
     "output_type": "stream",
     "text": [
      "Reading up to time step: 1201.15\r"
     ]
    },
    {
     "name": "stderr",
     "output_type": "stream",
     "text": [
      "Warning: No connection between edge '82113749#1' and edge '767313244' found.\n",
      "Warning: Mandatory edge '767313244' not reachable by vehicle 'h00_501'.\n",
      "Warning: The vehicle 'h00_501' has no valid route.\n"
     ]
    },
    {
     "name": "stdout",
     "output_type": "stream",
     "text": [
      "Reading up to time step: 2601.15\r"
     ]
    },
    {
     "name": "stderr",
     "output_type": "stream",
     "text": [
      "Warning: No connection between edge '1308456867#0' and edge '171514120#1' found.\n",
      "Warning: Mandatory edge '171514120#1' not reachable by vehicle 'h00_1106'.\n",
      "Warning: The vehicle 'h00_1106' has no valid route.\n"
     ]
    },
    {
     "name": "stdout",
     "output_type": "stream",
     "text": [
      "Reading up to time step: 3201.15\r"
     ]
    },
    {
     "name": "stderr",
     "output_type": "stream",
     "text": [
      "Warning: No connection between edge '-281308645' and edge '24257013#3' found.\n",
      "Warning: Mandatory edge '24257013#3' not reachable by vehicle 'h00_1303'.\n",
      "Warning: The vehicle 'h00_1303' has no valid route.\n",
      "Warning: No connection between edge '-182018380#4' and edge '112885002#0' found.\n",
      "Warning: Mandatory edge '112885002#0' not reachable by vehicle 'h01_63'.\n",
      "Warning: The vehicle 'h01_63' has no valid route.\n"
     ]
    },
    {
     "name": "stdout",
     "output_type": "stream",
     "text": [
      "Reading up to time step: 4001.15\r"
     ]
    },
    {
     "name": "stderr",
     "output_type": "stream",
     "text": [
      "Warning: No connection between edge '53211162#1-AddedOffRampEdge' and edge '367820004' found.\n",
      "Warning: Mandatory edge '367820004' not reachable by vehicle 'h01_247'.\n",
      "Warning: The vehicle 'h01_247' has no valid route.\n"
     ]
    },
    {
     "name": "stdout",
     "output_type": "stream",
     "text": [
      "Reading up to time step: 5401.15\r"
     ]
    },
    {
     "name": "stderr",
     "output_type": "stream",
     "text": [
      "Warning: No connection between edge '688357782#1' and edge '24257136' found.\n",
      "Warning: Mandatory edge '24257136' not reachable by vehicle 'h01_345'.\n",
      "Warning: The vehicle 'h01_345' has no valid route.\n",
      "Warning: No connection between edge '-6309923' and edge '263520769#0' found.\n",
      "Warning: Mandatory edge '263520769#0' not reachable by vehicle 'h01_419'.\n",
      "Warning: The vehicle 'h01_419' has no valid route.\n"
     ]
    },
    {
     "name": "stdout",
     "output_type": "stream",
     "text": [
      "Reading up to time step: 6001.15\r"
     ]
    },
    {
     "name": "stderr",
     "output_type": "stream",
     "text": [
      "Warning: No connection between edge '183741260' and edge '34349716' found.\n",
      "Warning: Mandatory edge '34349716' not reachable by vehicle 'h01_489'.\n",
      "Warning: The vehicle 'h01_489' has no valid route.\n"
     ]
    },
    {
     "name": "stdout",
     "output_type": "stream",
     "text": [
      "Reading up to time step: 6201.15\r"
     ]
    },
    {
     "name": "stderr",
     "output_type": "stream",
     "text": [
      "Warning: No connection between edge '-35156055#0' and edge '161432888' found.\n",
      "Warning: Mandatory edge '161432888' not reachable by vehicle 'h01_523'.\n",
      "Warning: The vehicle 'h01_523' has no valid route.\n",
      "Warning: No connection between edge '-199778961' and edge '783551598' found.\n",
      "Warning: Mandatory edge '783551598' not reachable by vehicle 'h01_848'.\n",
      "Warning: The vehicle 'h01_848' has no valid route.\n"
     ]
    },
    {
     "name": "stdout",
     "output_type": "stream",
     "text": [
      "Reading up to time step: 9801.15\r"
     ]
    },
    {
     "name": "stderr",
     "output_type": "stream",
     "text": [
      "Warning: No connection between edge '4385473#3' and edge '383076320' found.\n",
      "Warning: Mandatory edge '383076320' not reachable by vehicle 'h02_205'.\n",
      "Warning: The vehicle 'h02_205' has no valid route.\n"
     ]
    },
    {
     "name": "stdout",
     "output_type": "stream",
     "text": [
      "Reading up to time step: 19001.15\r"
     ]
    },
    {
     "name": "stderr",
     "output_type": "stream",
     "text": [
      "Warning: No connection between edge '386784041' and edge '62023740' found.\n",
      "Warning: Mandatory edge '62023740' not reachable by vehicle 'h05_180'.\n",
      "Warning: The vehicle 'h05_180' has no valid route.\n"
     ]
    },
    {
     "name": "stdout",
     "output_type": "stream",
     "text": [
      "Reading up to time step: 19201.15\r"
     ]
    },
    {
     "name": "stderr",
     "output_type": "stream",
     "text": [
      "Warning: No connection between edge '74128330#1' and edge '567761141#1' found.\n",
      "Warning: Mandatory edge '567761141#1' not reachable by vehicle 'h05_217'.\n",
      "Warning: The vehicle 'h05_217' has no valid route.\n"
     ]
    },
    {
     "name": "stdout",
     "output_type": "stream",
     "text": [
      "Reading up to time step: 20401.15\r"
     ]
    },
    {
     "name": "stderr",
     "output_type": "stream",
     "text": [
      "Warning: No connection between edge '539685982' and edge '510193683' found.\n",
      "Warning: Mandatory edge '510193683' not reachable by vehicle 'h05_515'.\n",
      "Warning: The vehicle 'h05_515' has no valid route.\n"
     ]
    },
    {
     "name": "stdout",
     "output_type": "stream",
     "text": [
      "Reading up to time step: 22001.15\r"
     ]
    },
    {
     "name": "stderr",
     "output_type": "stream",
     "text": [
      "Warning: No connection between edge '156398864' and edge '-366469489#4' found.\n",
      "Warning: Mandatory edge '-366469489#4' not reachable by vehicle 'h06_134'.\n",
      "Warning: The vehicle 'h06_134' has no valid route.\n"
     ]
    },
    {
     "name": "stdout",
     "output_type": "stream",
     "text": [
      "Reading up to time step: 22401.15\r"
     ]
    },
    {
     "name": "stderr",
     "output_type": "stream",
     "text": [
      "Warning: No connection between edge '176656767#0' and edge '88119470' found.\n",
      "Warning: Mandatory edge '88119470' not reachable by vehicle 'h06_2613'.\n",
      "Warning: The vehicle 'h06_2613' has no valid route.\n"
     ]
    },
    {
     "name": "stdout",
     "output_type": "stream",
     "text": [
      "Reading up to time step: 22801.15\r"
     ]
    },
    {
     "name": "stderr",
     "output_type": "stream",
     "text": [
      "Warning: No connection between edge '-1225578145' and edge '510193664' found.\n",
      "Warning: Mandatory edge '510193664' not reachable by vehicle 'h06_716'.\n",
      "Warning: The vehicle 'h06_716' has no valid route.\n"
     ]
    },
    {
     "name": "stdout",
     "output_type": "stream",
     "text": [
      "Reading up to time step: 23601.15\r"
     ]
    },
    {
     "name": "stderr",
     "output_type": "stream",
     "text": [
      "Warning: No connection between edge '36370255#0' and edge '-143962123#0' found.\n",
      "Warning: Mandatory edge '-143962123#0' not reachable by vehicle 'h06_2626'.\n",
      "Warning: The vehicle 'h06_2626' has no valid route.\n"
     ]
    },
    {
     "name": "stdout",
     "output_type": "stream",
     "text": [
      "Reading up to time step: 23801.15\r"
     ]
    },
    {
     "name": "stderr",
     "output_type": "stream",
     "text": [
      "Warning: No connection between edge '4385014#2' and edge '143962123#2' found.\n",
      "Warning: Mandatory edge '143962123#2' not reachable by vehicle 'h06_1370'.\n",
      "Warning: The vehicle 'h06_1370' has no valid route.\n"
     ]
    },
    {
     "name": "stdout",
     "output_type": "stream",
     "text": [
      "Reading up to time step: 24001.15\r"
     ]
    },
    {
     "name": "stderr",
     "output_type": "stream",
     "text": [
      "Warning: No connection between edge '-707644174#0' and edge '-367820004' found.\n",
      "Warning: Mandatory edge '-367820004' not reachable by vehicle 'h06_1471'.\n",
      "Warning: The vehicle 'h06_1471' has no valid route.\n"
     ]
    },
    {
     "name": "stdout",
     "output_type": "stream",
     "text": [
      "Reading up to time step: 24201.15\r"
     ]
    },
    {
     "name": "stderr",
     "output_type": "stream",
     "text": [
      "Warning: No connection between edge '82286890' and edge '-53190130#1' found.\n",
      "Warning: Mandatory edge '-53190130#1' not reachable by vehicle 'h06_1609'.\n",
      "Warning: The vehicle 'h06_1609' has no valid route.\n",
      "Warning: No connection between edge '1335105378' and edge '-234059452' found.\n",
      "Warning: Mandatory edge '-234059452' not reachable by vehicle 'h06_1633'.\n",
      "Warning: The vehicle 'h06_1633' has no valid route.\n"
     ]
    },
    {
     "name": "stdout",
     "output_type": "stream",
     "text": [
      "Reading up to time step: 24401.15\r"
     ]
    },
    {
     "name": "stderr",
     "output_type": "stream",
     "text": [
      "Warning: No connection between edge '-124060635' and edge '135982427' found.\n",
      "Warning: Mandatory edge '135982427' not reachable by vehicle 'h06_1849'.\n",
      "Warning: The vehicle 'h06_1849' has no valid route.\n"
     ]
    },
    {
     "name": "stdout",
     "output_type": "stream",
     "text": [
      "Reading up to time step: 25001.15\r"
     ]
    },
    {
     "name": "stderr",
     "output_type": "stream",
     "text": [
      "Warning: No connection between edge '624358274' and edge '510193674' found.\n",
      "Warning: Mandatory edge '510193674' not reachable by vehicle 'h06_2126'.\n",
      "Warning: The vehicle 'h06_2126' has no valid route.\n"
     ]
    },
    {
     "name": "stdout",
     "output_type": "stream",
     "text": [
      "Reading up to time step: 25201.15\r"
     ]
    },
    {
     "name": "stderr",
     "output_type": "stream",
     "text": [
      "Warning: No connection between edge '-53144422' and edge '383076320' found.\n",
      "Warning: Mandatory edge '383076320' not reachable by vehicle 'h06_2313'.\n",
      "Warning: The vehicle 'h06_2313' has no valid route.\n",
      "Warning: No connection between edge '-281308645' and edge '72982047#1' found.\n",
      "Warning: Mandatory edge '72982047#1' not reachable by vehicle 'h06_2343'.\n",
      "Warning: The vehicle 'h06_2343' has no valid route.\n"
     ]
    },
    {
     "name": "stdout",
     "output_type": "stream",
     "text": [
      "Reading up to time step: 25401.15\r"
     ]
    },
    {
     "name": "stderr",
     "output_type": "stream",
     "text": [
      "Warning: No connection between edge '232788067#2' and edge '-423658709#3' found.\n",
      "Warning: Mandatory edge '-423658709#3' not reachable by vehicle 'h07_519'.\n",
      "Warning: The vehicle 'h07_519' has no valid route.\n"
     ]
    },
    {
     "name": "stdout",
     "output_type": "stream",
     "text": [
      "Reading up to time step: 25601.15\r"
     ]
    },
    {
     "name": "stderr",
     "output_type": "stream",
     "text": [
      "Warning: No connection between edge '166701893#1' and edge '510193669' found.\n",
      "Warning: Mandatory edge '510193669' not reachable by vehicle 'h07_612'.\n",
      "Warning: The vehicle 'h07_612' has no valid route.\n",
      "Warning: No connection between edge '82286890' and edge '30281497#4' found.\n",
      "Warning: Mandatory edge '30281497#4' not reachable by vehicle 'h07_624'.\n",
      "Warning: The vehicle 'h07_624' has no valid route.\n",
      "Warning: No connection between edge '-196878693#0' and edge '156398858' found.\n",
      "Warning: Mandatory edge '156398858' not reachable by vehicle 'h07_1035'.\n",
      "Warning: The vehicle 'h07_1035' has no valid route.\n"
     ]
    },
    {
     "name": "stdout",
     "output_type": "stream",
     "text": [
      "Reading up to time step: 25801.15\r"
     ]
    },
    {
     "name": "stderr",
     "output_type": "stream",
     "text": [
      "Warning: No connection between edge '688357782#0' and edge '46999154#1' found.\n",
      "Warning: Mandatory edge '46999154#1' not reachable by vehicle 'h07_1179'.\n",
      "Warning: The vehicle 'h07_1179' has no valid route.\n",
      "Warning: No connection between edge '124060638#6' and edge '1349017143' found.\n",
      "Warning: Mandatory edge '1349017143' not reachable by vehicle 'h07_1449'.\n",
      "Warning: The vehicle 'h07_1449' has no valid route.\n"
     ]
    },
    {
     "name": "stdout",
     "output_type": "stream",
     "text": [
      "Reading up to time step: 26001.15\r"
     ]
    },
    {
     "name": "stderr",
     "output_type": "stream",
     "text": [
      "Warning: No connection between edge '-925261618' and edge '-186905172#1' found.\n",
      "Warning: Mandatory edge '-186905172#1' not reachable by vehicle 'h07_1628'.\n",
      "Warning: The vehicle 'h07_1628' has no valid route.\n",
      "Warning: No connection between edge '665204360#2' and edge '-510193680' found.\n",
      "Warning: Mandatory edge '-510193680' not reachable by vehicle 'h07_1914'.\n",
      "Warning: The vehicle 'h07_1914' has no valid route.\n",
      "Warning: No connection between edge '688357782#0' and edge '166338141#0' found.\n",
      "Warning: Mandatory edge '166338141#0' not reachable by vehicle 'h07_1954'.\n",
      "Warning: The vehicle 'h07_1954' has no valid route.\n"
     ]
    },
    {
     "name": "stdout",
     "output_type": "stream",
     "text": [
      "Reading up to time step: 26201.15\r"
     ]
    },
    {
     "name": "stderr",
     "output_type": "stream",
     "text": [
      "Warning: No connection between edge '40940286#1' and edge '510193665' found.\n",
      "Warning: Mandatory edge '510193665' not reachable by vehicle 'h07_2612'.\n",
      "Warning: The vehicle 'h07_2612' has no valid route.\n"
     ]
    },
    {
     "name": "stdout",
     "output_type": "stream",
     "text": [
      "Reading up to time step: 26401.15\r"
     ]
    },
    {
     "name": "stderr",
     "output_type": "stream",
     "text": [
      "Warning: No connection between edge '-150925676' and edge '99268748#0' found.\n",
      "Warning: Mandatory edge '99268748#0' not reachable by vehicle 'h07_3008'.\n",
      "Warning: The vehicle 'h07_3008' has no valid route.\n",
      "Warning: No connection between edge '493061137' and edge '-53838593#1' found.\n",
      "Warning: Mandatory edge '-53838593#1' not reachable by vehicle 'h07_3124'.\n",
      "Warning: The vehicle 'h07_3124' has no valid route.\n",
      "Warning: No connection between edge '-281308645' and edge '463245254' found.\n",
      "Warning: Mandatory edge '463245254' not reachable by vehicle 'h07_3133'.\n",
      "Warning: The vehicle 'h07_3133' has no valid route.\n",
      "Warning: No connection between edge '-144632781#3' and edge '-112885002#1' found.\n",
      "Warning: Mandatory edge '-112885002#1' not reachable by vehicle 'h07_3201'.\n",
      "Warning: The vehicle 'h07_3201' has no valid route.\n"
     ]
    },
    {
     "name": "stdout",
     "output_type": "stream",
     "text": [
      "Reading up to time step: 26601.15\r"
     ]
    },
    {
     "name": "stderr",
     "output_type": "stream",
     "text": [
      "Warning: No connection between edge '-64546354#2' and edge '1367068983' found.\n",
      "Warning: Mandatory edge '1367068983' not reachable by vehicle 'h07_3218'.\n",
      "Warning: The vehicle 'h07_3218' has no valid route.\n",
      "Warning: No connection between edge '793930821' and edge '112770049#7' found.\n",
      "Warning: Mandatory edge '112770049#7' not reachable by vehicle 'h07_3283'.\n",
      "Warning: The vehicle 'h07_3283' has no valid route.\n",
      "Warning: No connection between edge '-793930821' and edge '128505265#1' found.\n",
      "Warning: Mandatory edge '128505265#1' not reachable by vehicle 'h07_3346'.\n",
      "Warning: The vehicle 'h07_3346' has no valid route.\n",
      "Warning: No connection between edge '503356965' and edge '-428493577' found.\n",
      "Warning: Mandatory edge '-428493577' not reachable by vehicle 'h07_3358'.\n",
      "Warning: The vehicle 'h07_3358' has no valid route.\n",
      "Warning: No connection between edge '1356954327' and edge '142239317#7' found.\n",
      "Warning: Mandatory edge '142239317#7' not reachable by vehicle 'h07_3590'.\n",
      "Warning: The vehicle 'h07_3590' has no valid route.\n",
      "Warning: No connection between edge '53331915' and edge '144160557#0' found.\n",
      "Warning: Mandatory edge '144160557#0' not reachable by vehicle 'h07_3739'.\n",
      "Warning: The vehicle 'h07_3739' has no valid route.\n"
     ]
    },
    {
     "name": "stdout",
     "output_type": "stream",
     "text": [
      "Reading up to time step: 26801.15\r"
     ]
    },
    {
     "name": "stderr",
     "output_type": "stream",
     "text": [
      "Warning: No connection between edge '-53424698' and edge '-143962123#1' found.\n",
      "Warning: Mandatory edge '-143962123#1' not reachable by vehicle 'h07_3750'.\n",
      "Warning: The vehicle 'h07_3750' has no valid route.\n",
      "Warning: No connection between edge '-297991915' and edge '510193683' found.\n",
      "Warning: Mandatory edge '510193683' not reachable by vehicle 'h07_3837'.\n",
      "Warning: The vehicle 'h07_3837' has no valid route.\n",
      "Warning: No connection between edge '707418266' and edge '367820004' found.\n",
      "Warning: Mandatory edge '367820004' not reachable by vehicle 'h07_3858'.\n",
      "Warning: The vehicle 'h07_3858' has no valid route.\n",
      "Warning: No connection between edge '448167655#1' and edge '-144160557#2' found.\n",
      "Warning: Mandatory edge '-144160557#2' not reachable by vehicle 'h07_4238'.\n",
      "Warning: The vehicle 'h07_4238' has no valid route.\n"
     ]
    },
    {
     "name": "stdout",
     "output_type": "stream",
     "text": [
      "Reading up to time step: 27001.15\r"
     ]
    },
    {
     "name": "stderr",
     "output_type": "stream",
     "text": [
      "Warning: No connection between edge '1308456867#0' and edge '6553977#3' found.\n",
      "Warning: Mandatory edge '6553977#3' not reachable by vehicle 'h07_4326'.\n",
      "Warning: The vehicle 'h07_4326' has no valid route.\n",
      "Warning: No connection between edge '508860745' and edge '-367820007' found.\n",
      "Warning: Mandatory edge '-367820007' not reachable by vehicle 'h07_4378'.\n",
      "Warning: The vehicle 'h07_4378' has no valid route.\n",
      "Warning: No connection between edge '741132788#2' and edge '510193635#0' found.\n",
      "Warning: Mandatory edge '510193635#0' not reachable by vehicle 'h07_4391'.\n",
      "Warning: The vehicle 'h07_4391' has no valid route.\n",
      "Warning: No connection between edge '112885039' and edge '330775260#3' found.\n",
      "Warning: Mandatory edge '330775260#3' not reachable by vehicle 'h07_4480'.\n",
      "Warning: The vehicle 'h07_4480' has no valid route.\n",
      "Warning: No connection between edge '-71896684#6' and edge '367820004' found.\n",
      "Warning: Mandatory edge '367820004' not reachable by vehicle 'h07_4647'.\n",
      "Warning: The vehicle 'h07_4647' has no valid route.\n"
     ]
    },
    {
     "name": "stdout",
     "output_type": "stream",
     "text": [
      "Reading up to time step: 27201.15\r"
     ]
    },
    {
     "name": "stderr",
     "output_type": "stream",
     "text": [
      "Warning: No connection between edge '124060635' and edge '-425958655' found.\n",
      "Warning: Mandatory edge '-425958655' not reachable by vehicle 'h07_4816'.\n",
      "Warning: The vehicle 'h07_4816' has no valid route.\n",
      "Warning: No connection between edge '-292712178' and edge '783551598' found.\n",
      "Warning: Mandatory edge '783551598' not reachable by vehicle 'h07_4943'.\n",
      "Warning: The vehicle 'h07_4943' has no valid route.\n",
      "Warning: No connection between edge '72058128' and edge '367820007' found.\n",
      "Warning: Mandatory edge '367820007' not reachable by vehicle 'h07_5120'.\n",
      "Warning: The vehicle 'h07_5120' has no valid route.\n",
      "Warning: No connection between edge '53253219' and edge '6312388#0' found.\n",
      "Warning: Mandatory edge '6312388#0' not reachable by vehicle 'h07_5330'.\n",
      "Warning: The vehicle 'h07_5330' has no valid route.\n"
     ]
    },
    {
     "name": "stdout",
     "output_type": "stream",
     "text": [
      "Reading up to time step: 27401.15\r"
     ]
    },
    {
     "name": "stderr",
     "output_type": "stream",
     "text": [
      "Warning: No connection between edge '-323968072#1' and edge '-62023730' found.\n",
      "Warning: Mandatory edge '-62023730' not reachable by vehicle 'h07_5577'.\n",
      "Warning: The vehicle 'h07_5577' has no valid route.\n",
      "Warning: No connection between edge '66364407' and edge '510193661' found.\n",
      "Warning: Mandatory edge '510193661' not reachable by vehicle 'h07_5812'.\n",
      "Warning: The vehicle 'h07_5812' has no valid route.\n"
     ]
    },
    {
     "name": "stdout",
     "output_type": "stream",
     "text": [
      "Reading up to time step: 27801.15\r"
     ]
    },
    {
     "name": "stderr",
     "output_type": "stream",
     "text": [
      "Warning: No connection between edge '-782068740#0' and edge '510193635#1' found.\n",
      "Warning: Mandatory edge '510193635#1' not reachable by vehicle 'h07_6470'.\n",
      "Warning: The vehicle 'h07_6470' has no valid route.\n",
      "Warning: No connection between edge '285981678#1' and edge '99722083#2-AddedOnRampEdge' found.\n",
      "Warning: Mandatory edge '99722083#2-AddedOnRampEdge' not reachable by vehicle 'h07_9827'.\n",
      "Warning: The vehicle 'h07_9827' has no valid route.\n"
     ]
    },
    {
     "name": "stdout",
     "output_type": "stream",
     "text": [
      "Reading up to time step: 28001.15\r"
     ]
    },
    {
     "name": "stderr",
     "output_type": "stream",
     "text": [
      "Warning: No connection between edge '23358540' and edge '1078220250#3' found.\n",
      "Warning: Mandatory edge '1078220250#3' not reachable by vehicle 'h07_10687'.\n",
      "Warning: The vehicle 'h07_10687' has no valid route.\n",
      "Warning: No connection between edge '1332793122' and edge '123733086#0' found.\n",
      "Warning: Mandatory edge '123733086#0' not reachable by vehicle 'h07_7357'.\n",
      "Warning: The vehicle 'h07_7357' has no valid route.\n",
      "Warning: No connection between edge '232788067#2' and edge '-126782173#3' found.\n",
      "Warning: Mandatory edge '-126782173#3' not reachable by vehicle 'h07_7415'.\n",
      "Warning: The vehicle 'h07_7415' has no valid route.\n"
     ]
    },
    {
     "name": "stdout",
     "output_type": "stream",
     "text": [
      "Reading up to time step: 28401.15\r"
     ]
    },
    {
     "name": "stderr",
     "output_type": "stream",
     "text": [
      "Warning: No connection between edge '71572300#5' and edge '88119470' found.\n",
      "Warning: Mandatory edge '88119470' not reachable by vehicle 'h07_8015'.\n",
      "Warning: The vehicle 'h07_8015' has no valid route.\n",
      "Warning: No connection between edge '639078515' and edge '-143962120' found.\n",
      "Warning: Mandatory edge '-143962120' not reachable by vehicle 'h07_8081'.\n",
      "Warning: The vehicle 'h07_8081' has no valid route.\n",
      "Warning: No connection between edge '124060635' and edge '209796810#1' found.\n",
      "Warning: Mandatory edge '209796810#1' not reachable by vehicle 'h07_8361'.\n",
      "Warning: The vehicle 'h07_8361' has no valid route.\n",
      "Warning: No connection between edge '-1146471703' and edge '510193650#6' found.\n",
      "Warning: Mandatory edge '510193650#6' not reachable by vehicle 'h07_10296'.\n",
      "Warning: The vehicle 'h07_10296' has no valid route.\n"
     ]
    },
    {
     "name": "stdout",
     "output_type": "stream",
     "text": [
      "Reading up to time step: 28601.15\r"
     ]
    },
    {
     "name": "stderr",
     "output_type": "stream",
     "text": [
      "Warning: No connection between edge '-27773417#1' and edge '112885002#0' found.\n",
      "Warning: Mandatory edge '112885002#0' not reachable by vehicle 'h07_8587'.\n",
      "Warning: The vehicle 'h07_8587' has no valid route.\n",
      "Warning: No connection between edge '-115868207#1' and edge '510193674' found.\n",
      "Warning: Mandatory edge '510193674' not reachable by vehicle 'h07_8705'.\n",
      "Warning: The vehicle 'h07_8705' has no valid route.\n",
      "Warning: No connection between edge '-342150049#10' and edge '156398858' found.\n",
      "Warning: Mandatory edge '156398858' not reachable by vehicle 'h07_8782'.\n",
      "Warning: The vehicle 'h07_8782' has no valid route.\n"
     ]
    },
    {
     "name": "stdout",
     "output_type": "stream",
     "text": [
      "Reading up to time step: 28801.15\r"
     ]
    },
    {
     "name": "stderr",
     "output_type": "stream",
     "text": [
      "Warning: No connection between edge '665644278' and edge '529408472' found.\n",
      "Warning: Mandatory edge '529408472' not reachable by vehicle 'h07_9234'.\n",
      "Warning: The vehicle 'h07_9234' has no valid route.\n",
      "Warning: No connection between edge '-71896679' and edge '-767313243' found.\n",
      "Warning: Mandatory edge '-767313243' not reachable by vehicle 'h07_9266'.\n",
      "Warning: The vehicle 'h07_9266' has no valid route.\n"
     ]
    },
    {
     "name": "stdout",
     "output_type": "stream",
     "text": [
      "Reading up to time step: 29001.15\r"
     ]
    },
    {
     "name": "stderr",
     "output_type": "stream",
     "text": [
      "Warning: No connection between edge '-50345168#4' and edge '-188649571' found.\n",
      "Warning: Mandatory edge '-188649571' not reachable by vehicle 'h08_391'.\n",
      "Warning: The vehicle 'h08_391' has no valid route.\n",
      "Warning: No connection between edge '431409220' and edge '-510193683' found.\n",
      "Warning: Mandatory edge '-510193683' not reachable by vehicle 'h08_636'.\n",
      "Warning: The vehicle 'h08_636' has no valid route.\n",
      "Warning: No connection between edge '-688357782#1' and edge '-224181496' found.\n",
      "Warning: Mandatory edge '-224181496' not reachable by vehicle 'h08_28536'.\n",
      "Warning: The vehicle 'h08_28536' has no valid route.\n",
      "Warning: No connection between edge '1203882727#1' and edge '425062572' found.\n",
      "Warning: Mandatory edge '425062572' not reachable by vehicle 'h08_914'.\n",
      "Warning: The vehicle 'h08_914' has no valid route.\n",
      "Warning: No connection between edge '881914733#0' and edge '510193650#6' found.\n",
      "Warning: Mandatory edge '510193650#6' not reachable by vehicle 'h08_1247'.\n",
      "Warning: The vehicle 'h08_1247' has no valid route.\n"
     ]
    },
    {
     "name": "stdout",
     "output_type": "stream",
     "text": [
      "Reading up to time step: 29201.15\r"
     ]
    },
    {
     "name": "stderr",
     "output_type": "stream",
     "text": [
      "Warning: No connection between edge '118043203#1' and edge '510193650#2' found.\n",
      "Warning: Mandatory edge '510193650#2' not reachable by vehicle 'h08_1719'.\n",
      "Warning: The vehicle 'h08_1719' has no valid route.\n",
      "Warning: No connection between edge '24471070#1' and edge '-62023728#0' found.\n",
      "Warning: Mandatory edge '-62023728#0' not reachable by vehicle 'h08_30447'.\n",
      "Warning: The vehicle 'h08_30447' has no valid route.\n",
      "Warning: No connection between edge '1356954327' and edge '-53838549#1' found.\n",
      "Warning: Mandatory edge '-53838549#1' not reachable by vehicle 'h08_2324'.\n",
      "Warning: The vehicle 'h08_2324' has no valid route.\n",
      "Warning: No connection between edge '-53188484' and edge '889503609' found.\n",
      "Warning: Mandatory edge '889503609' not reachable by vehicle 'h08_2512'.\n",
      "Warning: The vehicle 'h08_2512' has no valid route.\n",
      "Warning: No connection between edge '-688357782#1' and edge '223558525#2' found.\n",
      "Warning: Mandatory edge '223558525#2' not reachable by vehicle 'h08_2558'.\n",
      "Warning: The vehicle 'h08_2558' has no valid route.\n",
      "Warning: No connection between edge '112885039' and edge '72464551' found.\n",
      "Warning: Mandatory edge '72464551' not reachable by vehicle 'h08_2692'.\n",
      "Warning: The vehicle 'h08_2692' has no valid route.\n",
      "Warning: No connection between edge '-214145730#0' and edge '98338695' found.\n",
      "Warning: Mandatory edge '98338695' not reachable by vehicle 'h08_2704'.\n",
      "Warning: The vehicle 'h08_2704' has no valid route.\n",
      "Warning: No connection between edge '435829221' and edge '689636461' found.\n",
      "Warning: Mandatory edge '689636461' not reachable by vehicle 'h08_29960'.\n",
      "Warning: The vehicle 'h08_29960' has no valid route.\n",
      "Warning: No connection between edge '43785488#2' and edge '510193650#4' found.\n",
      "Warning: Mandatory edge '510193650#4' not reachable by vehicle 'h08_29316'.\n",
      "Warning: The vehicle 'h08_29316' has no valid route.\n"
     ]
    },
    {
     "name": "stdout",
     "output_type": "stream",
     "text": [
      "Reading up to time step: 29401.15\r"
     ]
    },
    {
     "name": "stderr",
     "output_type": "stream",
     "text": [
      "Warning: No connection between edge '-219791464#2' and edge '1367068983' found.\n",
      "Warning: Mandatory edge '1367068983' not reachable by vehicle 'h08_3640'.\n",
      "Warning: The vehicle 'h08_3640' has no valid route.\n",
      "Warning: No connection between edge '1335105378' and edge '188115978#5' found.\n",
      "Warning: Mandatory edge '188115978#5' not reachable by vehicle 'h08_3660'.\n",
      "Warning: The vehicle 'h08_3660' has no valid route.\n",
      "Warning: No connection between edge '214104480' and edge '98338695' found.\n",
      "Warning: Mandatory edge '98338695' not reachable by vehicle 'h08_3970'.\n",
      "Warning: The vehicle 'h08_3970' has no valid route.\n",
      "Warning: No connection between edge '124060633#1' and edge '-363163676#0' found.\n",
      "Warning: Mandatory edge '-363163676#0' not reachable by vehicle 'h08_4059'.\n",
      "Warning: The vehicle 'h08_4059' has no valid route.\n",
      "Warning: No connection between edge '852385304#0' and edge '-62023728#0' found.\n",
      "Warning: Mandatory edge '-62023728#0' not reachable by vehicle 'h08_4423'.\n",
      "Warning: The vehicle 'h08_4423' has no valid route.\n"
     ]
    },
    {
     "name": "stdout",
     "output_type": "stream",
     "text": [
      "Reading up to time step: 29601.15\r"
     ]
    },
    {
     "name": "stderr",
     "output_type": "stream",
     "text": [
      "Warning: No connection between edge '-925261618' and edge '53253215#0' found.\n",
      "Warning: Mandatory edge '53253215#0' not reachable by vehicle 'h08_4653'.\n",
      "Warning: The vehicle 'h08_4653' has no valid route.\n",
      "Warning: No connection between edge '1118956257' and edge '-143962120' found.\n",
      "Warning: Mandatory edge '-143962120' not reachable by vehicle 'h08_5041'.\n",
      "Warning: The vehicle 'h08_5041' has no valid route.\n",
      "Warning: No connection between edge '53563926#0' and edge '143962123#1' found.\n",
      "Warning: Mandatory edge '143962123#1' not reachable by vehicle 'h08_5245'.\n",
      "Warning: The vehicle 'h08_5245' has no valid route.\n",
      "Warning: No connection between edge '-115668963' and edge '510193674' found.\n",
      "Warning: Mandatory edge '510193674' not reachable by vehicle 'h08_5311'.\n",
      "Warning: The vehicle 'h08_5311' has no valid route.\n",
      "Warning: No connection between edge '71440132' and edge '689636461' found.\n",
      "Warning: Mandatory edge '689636461' not reachable by vehicle 'h08_5408'.\n",
      "Warning: The vehicle 'h08_5408' has no valid route.\n",
      "Warning: No connection between edge '-121131433#0' and edge '167692614#0' found.\n",
      "Warning: Mandatory edge '167692614#0' not reachable by vehicle 'h08_5410'.\n",
      "Warning: The vehicle 'h08_5410' has no valid route.\n",
      "Warning: No connection between edge '1082996267#1' and edge '510193650#4' found.\n",
      "Warning: Mandatory edge '510193650#4' not reachable by vehicle 'h08_5480'.\n",
      "Warning: The vehicle 'h08_5480' has no valid route.\n"
     ]
    },
    {
     "name": "stdout",
     "output_type": "stream",
     "text": [
      "Reading up to time step: 29801.15\r"
     ]
    },
    {
     "name": "stderr",
     "output_type": "stream",
     "text": [
      "Warning: No connection between edge '115947879' and edge '112885002#0' found.\n",
      "Warning: Mandatory edge '112885002#0' not reachable by vehicle 'h08_28835'.\n",
      "Warning: The vehicle 'h08_28835' has no valid route.\n",
      "Warning: No connection between edge '34607115#3' and edge '510193669' found.\n",
      "Warning: Mandatory edge '510193669' not reachable by vehicle 'h08_6253'.\n",
      "Warning: The vehicle 'h08_6253' has no valid route.\n",
      "Warning: No connection between edge '342150049#15' and edge '146009471' found.\n",
      "Warning: Mandatory edge '146009471' not reachable by vehicle 'h08_28141'.\n",
      "Warning: The vehicle 'h08_28141' has no valid route.\n",
      "Warning: No connection between edge '63681487#0' and edge '889503609' found.\n",
      "Warning: Mandatory edge '889503609' not reachable by vehicle 'h08_6549'.\n",
      "Warning: The vehicle 'h08_6549' has no valid route.\n",
      "Warning: No connection between edge '157010360#2' and edge '-367820007' found.\n",
      "Warning: Mandatory edge '-367820007' not reachable by vehicle 'h08_6654'.\n",
      "Warning: The vehicle 'h08_6654' has no valid route.\n",
      "Warning: No connection between edge '-66833252#6' and edge '-767313243' found.\n",
      "Warning: Mandatory edge '-767313243' not reachable by vehicle 'h08_6745'.\n",
      "Warning: The vehicle 'h08_6745' has no valid route.\n",
      "Warning: No connection between edge '1091788508' and edge '323967489' found.\n",
      "Warning: Mandatory edge '323967489' not reachable by vehicle 'h08_6939'.\n",
      "Warning: The vehicle 'h08_6939' has no valid route.\n",
      "Warning: No connection between edge '1332793122' and edge '377991087#17' found.\n",
      "Warning: Mandatory edge '377991087#17' not reachable by vehicle 'h08_7260'.\n",
      "Warning: The vehicle 'h08_7260' has no valid route.\n",
      "Warning: No connection between edge '124060635' and edge '63678140' found.\n",
      "Warning: Mandatory edge '63678140' not reachable by vehicle 'h08_7361'.\n",
      "Warning: The vehicle 'h08_7361' has no valid route.\n"
     ]
    },
    {
     "name": "stdout",
     "output_type": "stream",
     "text": [
      "Reading up to time step: 30001.15\r"
     ]
    },
    {
     "name": "stderr",
     "output_type": "stream",
     "text": [
      "Warning: No connection between edge '-158282427#2' and edge '1159203435#0' found.\n",
      "Warning: Mandatory edge '1159203435#0' not reachable by vehicle 'h08_30054'.\n",
      "Warning: The vehicle 'h08_30054' has no valid route.\n",
      "Warning: No connection between edge '387204783' and edge '1367068983' found.\n",
      "Warning: Mandatory edge '1367068983' not reachable by vehicle 'h08_7728'.\n",
      "Warning: The vehicle 'h08_7728' has no valid route.\n",
      "Warning: No connection between edge '176957926' and edge '1060073977' found.\n",
      "Warning: Mandatory edge '1060073977' not reachable by vehicle 'h08_8164'.\n",
      "Warning: The vehicle 'h08_8164' has no valid route.\n",
      "Warning: No connection between edge '108938544' and edge '-288267832' found.\n",
      "Warning: Mandatory edge '-288267832' not reachable by vehicle 'h08_8205'.\n",
      "Warning: The vehicle 'h08_8205' has no valid route.\n",
      "Warning: No connection between edge '189876380' and edge '889503609' found.\n",
      "Warning: Mandatory edge '889503609' not reachable by vehicle 'h08_8357'.\n",
      "Warning: The vehicle 'h08_8357' has no valid route.\n",
      "Warning: No connection between edge '183741260' and edge '-363163681' found.\n",
      "Warning: Mandatory edge '-363163681' not reachable by vehicle 'h08_8433'.\n",
      "Warning: The vehicle 'h08_8433' has no valid route.\n",
      "Warning: No connection between edge '124060638#6' and edge '178150848#1' found.\n",
      "Warning: Mandatory edge '178150848#1' not reachable by vehicle 'h08_8626'.\n",
      "Warning: The vehicle 'h08_8626' has no valid route.\n",
      "Warning: No connection between edge '-172795661#3' and edge '685812763' found.\n",
      "Warning: Mandatory edge '685812763' not reachable by vehicle 'h08_27023'.\n",
      "Warning: The vehicle 'h08_27023' has no valid route.\n",
      "Warning: No connection between edge '839439476' and edge '62023728#0' found.\n",
      "Warning: Mandatory edge '62023728#0' not reachable by vehicle 'h08_8892'.\n",
      "Warning: The vehicle 'h08_8892' has no valid route.\n",
      "Warning: No connection between edge '181738546#4' and edge '-112885002#0' found.\n",
      "Warning: Mandatory edge '-112885002#0' not reachable by vehicle 'h08_9033'.\n",
      "Warning: The vehicle 'h08_9033' has no valid route.\n"
     ]
    },
    {
     "name": "stdout",
     "output_type": "stream",
     "text": [
      "Reading up to time step: 30201.15\r"
     ]
    },
    {
     "name": "stderr",
     "output_type": "stream",
     "text": [
      "Warning: No connection between edge '-187663597#0' and edge '-383076320' found.\n",
      "Warning: Mandatory edge '-383076320' not reachable by vehicle 'h08_9301'.\n",
      "Warning: The vehicle 'h08_9301' has no valid route.\n",
      "Warning: No connection between edge '147925068' and edge '143962123#0' found.\n",
      "Warning: Mandatory edge '143962123#0' not reachable by vehicle 'h08_9421'.\n",
      "Warning: The vehicle 'h08_9421' has no valid route.\n",
      "Warning: No connection between edge '1203882727#1' and edge '427059300#5' found.\n",
      "Warning: Mandatory edge '427059300#5' not reachable by vehicle 'h08_9761'.\n",
      "Warning: The vehicle 'h08_9761' has no valid route.\n",
      "Warning: No connection between edge '397223642#3' and edge '156398858' found.\n",
      "Warning: Mandatory edge '156398858' not reachable by vehicle 'h08_9934'.\n",
      "Warning: The vehicle 'h08_9934' has no valid route.\n",
      "Warning: No connection between edge '173084698#2' and edge '-30281188#2' found.\n",
      "Warning: Mandatory edge '-30281188#2' not reachable by vehicle 'h08_29735'.\n",
      "Warning: The vehicle 'h08_29735' has no valid route.\n",
      "Warning: No connection between edge '112885039' and edge '384671624' found.\n",
      "Warning: Mandatory edge '384671624' not reachable by vehicle 'h08_10333'.\n",
      "Warning: The vehicle 'h08_10333' has no valid route.\n",
      "Warning: No connection between edge '53255426' and edge '143962123#0' found.\n",
      "Warning: Mandatory edge '143962123#0' not reachable by vehicle 'h08_10947'.\n",
      "Warning: The vehicle 'h08_10947' has no valid route.\n"
     ]
    },
    {
     "name": "stdout",
     "output_type": "stream",
     "text": [
      "Reading up to time step: 30401.15\r"
     ]
    },
    {
     "name": "stderr",
     "output_type": "stream",
     "text": [
      "Warning: No connection between edge '-30281666#4' and edge '510193661' found.\n",
      "Warning: Mandatory edge '510193661' not reachable by vehicle 'h08_11076'.\n",
      "Warning: The vehicle 'h08_11076' has no valid route.\n",
      "Warning: No connection between edge '424121564' and edge '-112732694' found.\n",
      "Warning: Mandatory edge '-112732694' not reachable by vehicle 'h08_30140'.\n",
      "Warning: The vehicle 'h08_30140' has no valid route.\n"
     ]
    },
    {
     "name": "stdout",
     "output_type": "stream",
     "text": [
      "Reading up to time step: 30601.15\r"
     ]
    },
    {
     "name": "stderr",
     "output_type": "stream",
     "text": [
      "Warning: No connection between edge '478078073#2' and edge '1060073977' found.\n",
      "Warning: Mandatory edge '1060073977' not reachable by vehicle 'h08_12223'.\n",
      "Warning: The vehicle 'h08_12223' has no valid route.\n",
      "Warning: No connection between edge '-157757579#1' and edge '-510193683' found.\n",
      "Warning: Mandatory edge '-510193683' not reachable by vehicle 'h08_12522'.\n",
      "Warning: The vehicle 'h08_12522' has no valid route.\n",
      "Warning: No connection between edge '925261618' and edge '53144468' found.\n",
      "Warning: Mandatory edge '53144468' not reachable by vehicle 'h08_12705'.\n",
      "Warning: The vehicle 'h08_12705' has no valid route.\n",
      "Warning: No connection between edge '1335105378' and edge '-156396253#1' found.\n",
      "Warning: Mandatory edge '-156396253#1' not reachable by vehicle 'h08_13107'.\n",
      "Warning: The vehicle 'h08_13107' has no valid route.\n",
      "Warning: No connection between edge '1091788508' and edge '-53839127' found.\n",
      "Warning: Mandatory edge '-53839127' not reachable by vehicle 'h08_13145'.\n",
      "Warning: The vehicle 'h08_13145' has no valid route.\n",
      "Warning: No connection between edge '508898155' and edge '165350455#0' found.\n",
      "Warning: Mandatory edge '165350455#0' not reachable by vehicle 'h08_27115'.\n",
      "Warning: The vehicle 'h08_27115' has no valid route.\n",
      "Warning: No connection between edge '233104677' and edge '1367068983' found.\n",
      "Warning: Mandatory edge '1367068983' not reachable by vehicle 'h08_13291'.\n",
      "Warning: The vehicle 'h08_13291' has no valid route.\n",
      "Warning: No connection between edge '112903902' and edge '-62023728#0' found.\n",
      "Warning: Mandatory edge '-62023728#0' not reachable by vehicle 'h08_13340'.\n",
      "Warning: The vehicle 'h08_13340' has no valid route.\n"
     ]
    },
    {
     "name": "stdout",
     "output_type": "stream",
     "text": [
      "Reading up to time step: 30801.15\r"
     ]
    },
    {
     "name": "stderr",
     "output_type": "stream",
     "text": [
      "Warning: No connection between edge '108938544' and edge '-532753395' found.\n",
      "Warning: Mandatory edge '-532753395' not reachable by vehicle 'h08_13966'.\n",
      "Warning: The vehicle 'h08_13966' has no valid route.\n",
      "Warning: No connection between edge '1276114166' and edge '386307421#1' found.\n",
      "Warning: Mandatory edge '386307421#1' not reachable by vehicle 'h08_30184'.\n",
      "Warning: The vehicle 'h08_30184' has no valid route.\n",
      "Warning: No connection between edge '82172834' and edge '-112885002#1' found.\n",
      "Warning: Mandatory edge '-112885002#1' not reachable by vehicle 'h08_14631'.\n",
      "Warning: The vehicle 'h08_14631' has no valid route.\n",
      "Warning: No connection between edge '-112885009#0' and edge '63673218#0' found.\n",
      "Warning: Mandatory edge '63673218#0' not reachable by vehicle 'h08_14652'.\n",
      "Warning: The vehicle 'h08_14652' has no valid route.\n"
     ]
    },
    {
     "name": "stdout",
     "output_type": "stream",
     "text": [
      "Reading up to time step: 31001.15\r"
     ]
    },
    {
     "name": "stderr",
     "output_type": "stream",
     "text": [
      "Warning: No connection between edge '-254523079' and edge '510193674' found.\n",
      "Warning: Mandatory edge '510193674' not reachable by vehicle 'h08_15372'.\n",
      "Warning: The vehicle 'h08_15372' has no valid route.\n",
      "Warning: No connection between edge '-112732683#1' and edge '-144160557#1' found.\n",
      "Warning: Mandatory edge '-144160557#1' not reachable by vehicle 'h08_15438'.\n",
      "Warning: The vehicle 'h08_15438' has no valid route.\n",
      "Warning: No connection between edge '688357782#0' and edge '1372196449' found.\n",
      "Warning: Mandatory edge '1372196449' not reachable by vehicle 'h08_15816'.\n",
      "Warning: The vehicle 'h08_15816' has no valid route.\n",
      "Warning: No connection between edge '1356954327' and edge '1278776876#0' found.\n",
      "Warning: Mandatory edge '1278776876#0' not reachable by vehicle 'h08_27176'.\n",
      "Warning: The vehicle 'h08_27176' has no valid route.\n",
      "Warning: No connection between edge '867381980' and edge '689636461' found.\n",
      "Warning: Mandatory edge '689636461' not reachable by vehicle 'h08_16749'.\n",
      "Warning: The vehicle 'h08_16749' has no valid route.\n"
     ]
    },
    {
     "name": "stdout",
     "output_type": "stream",
     "text": [
      "Reading up to time step: 31201.15\r"
     ]
    },
    {
     "name": "stderr",
     "output_type": "stream",
     "text": [
      "Warning: No connection between edge '181794388#1' and edge '-767313243' found.\n",
      "Warning: Mandatory edge '-767313243' not reachable by vehicle 'h08_17080'.\n",
      "Warning: The vehicle 'h08_17080' has no valid route.\n",
      "Warning: No connection between edge '232788067#2' and edge '528334023' found.\n",
      "Warning: Mandatory edge '528334023' not reachable by vehicle 'h08_17389'.\n",
      "Warning: The vehicle 'h08_17389' has no valid route.\n",
      "Warning: No connection between edge '120753203#3' and edge '-62023740' found.\n",
      "Warning: Mandatory edge '-62023740' not reachable by vehicle 'h08_17702'.\n",
      "Warning: The vehicle 'h08_17702' has no valid route.\n",
      "Warning: No connection between edge '-341536061#0' and edge '-143962123#0' found.\n",
      "Warning: Mandatory edge '-143962123#0' not reachable by vehicle 'h08_17784'.\n",
      "Warning: The vehicle 'h08_17784' has no valid route.\n",
      "Warning: No connection between edge '561004778#1' and edge '-1060073977' found.\n",
      "Warning: Mandatory edge '-1060073977' not reachable by vehicle 'h08_17900'.\n",
      "Warning: The vehicle 'h08_17900' has no valid route.\n"
     ]
    },
    {
     "name": "stdout",
     "output_type": "stream",
     "text": [
      "Reading up to time step: 31401.15\r"
     ]
    },
    {
     "name": "stderr",
     "output_type": "stream",
     "text": [
      "Warning: No connection between edge '124060638#5' and edge '159460057' found.\n",
      "Warning: Mandatory edge '159460057' not reachable by vehicle 'h08_18094'.\n",
      "Warning: The vehicle 'h08_18094' has no valid route.\n",
      "Warning: No connection between edge '-82113745#1' and edge '156398858' found.\n",
      "Warning: Mandatory edge '156398858' not reachable by vehicle 'h08_18362'.\n",
      "Warning: The vehicle 'h08_18362' has no valid route.\n",
      "Warning: No connection between edge '780562172' and edge '29065755' found.\n",
      "Warning: Mandatory edge '29065755' not reachable by vehicle 'h08_28377'.\n",
      "Warning: The vehicle 'h08_28377' has no valid route.\n",
      "Warning: No connection between edge '120865125#8' and edge '-188649571' found.\n",
      "Warning: Mandatory edge '-188649571' not reachable by vehicle 'h08_19119'.\n",
      "Warning: The vehicle 'h08_19119' has no valid route.\n",
      "Warning: No connection between edge '793930821' and edge '-383616385#0' found.\n",
      "Warning: Mandatory edge '-383616385#0' not reachable by vehicle 'h08_19326'.\n",
      "Warning: The vehicle 'h08_19326' has no valid route.\n",
      "Warning: No connection between edge '-51097557#0' and edge '72786014#1' found.\n",
      "Warning: Mandatory edge '72786014#1' not reachable by vehicle 'h08_27706'.\n",
      "Warning: The vehicle 'h08_27706' has no valid route.\n"
     ]
    },
    {
     "name": "stdout",
     "output_type": "stream",
     "text": [
      "Reading up to time step: 31601.15\r"
     ]
    },
    {
     "name": "stderr",
     "output_type": "stream",
     "text": [
      "Warning: No connection between edge '53331489#0' and edge '-62023740' found.\n",
      "Warning: Mandatory edge '-62023740' not reachable by vehicle 'h08_19806'.\n",
      "Warning: The vehicle 'h08_19806' has no valid route.\n",
      "Warning: No connection between edge '108938544' and edge '-172798348' found.\n",
      "Warning: Mandatory edge '-172798348' not reachable by vehicle 'h08_19934'.\n",
      "Warning: The vehicle 'h08_19934' has no valid route.\n",
      "Warning: No connection between edge '46999933#8' and edge '-383076320' found.\n",
      "Warning: Mandatory edge '-383076320' not reachable by vehicle 'h08_19940'.\n",
      "Warning: The vehicle 'h08_19940' has no valid route.\n",
      "Warning: No connection between edge '177130214#1' and edge '144160557#1' found.\n",
      "Warning: Mandatory edge '144160557#1' not reachable by vehicle 'h08_20025'.\n",
      "Warning: The vehicle 'h08_20025' has no valid route.\n",
      "Warning: No connection between edge '156398864' and edge '53424791#0' found.\n",
      "Warning: Mandatory edge '53424791#0' not reachable by vehicle 'h08_20381'.\n",
      "Warning: The vehicle 'h08_20381' has no valid route.\n"
     ]
    },
    {
     "name": "stdout",
     "output_type": "stream",
     "text": [
      "Reading up to time step: 31801.15\r"
     ]
    },
    {
     "name": "stderr",
     "output_type": "stream",
     "text": [
      "Warning: No connection between edge '150925676' and edge '-445307086' found.\n",
      "Warning: Mandatory edge '-445307086' not reachable by vehicle 'h08_21341'.\n",
      "Warning: The vehicle 'h08_21341' has no valid route.\n",
      "Warning: No connection between edge '45728858#4' and edge '666070226#0' found.\n",
      "Warning: Mandatory edge '666070226#0' not reachable by vehicle 'h08_21702'.\n",
      "Warning: The vehicle 'h08_21702' has no valid route.\n",
      "Warning: No connection between edge '124060638#6' and edge '1225582888' found.\n",
      "Warning: Mandatory edge '1225582888' not reachable by vehicle 'h08_21778'.\n",
      "Warning: The vehicle 'h08_21778' has no valid route.\n",
      "Warning: No connection between edge '708310608' and edge '510193683' found.\n",
      "Warning: Mandatory edge '510193683' not reachable by vehicle 'h08_22281'.\n",
      "Warning: The vehicle 'h08_22281' has no valid route.\n",
      "Warning: No connection between edge '-688357782#0' and edge '-173998284#1' found.\n",
      "Warning: Mandatory edge '-173998284#1' not reachable by vehicle 'h08_27750'.\n",
      "Warning: The vehicle 'h08_27750' has no valid route.\n"
     ]
    },
    {
     "name": "stdout",
     "output_type": "stream",
     "text": [
      "Reading up to time step: 32001.15\r"
     ]
    },
    {
     "name": "stderr",
     "output_type": "stream",
     "text": [
      "Warning: No connection between edge '-150925676' and edge '-32566250#7' found.\n",
      "Warning: Mandatory edge '-32566250#7' not reachable by vehicle 'h08_22683'.\n",
      "Warning: The vehicle 'h08_22683' has no valid route.\n",
      "Warning: No connection between edge '-391191398#0' and edge '-112885002#1' found.\n",
      "Warning: Mandatory edge '-112885002#1' not reachable by vehicle 'h08_22893'.\n",
      "Warning: The vehicle 'h08_22893' has no valid route.\n",
      "Warning: No connection between edge '-112885009#0' and edge '-161032245' found.\n",
      "Warning: Mandatory edge '-161032245' not reachable by vehicle 'h08_23021'.\n",
      "Warning: The vehicle 'h08_23021' has no valid route.\n",
      "Warning: No connection between edge '-182152107' and edge '-143962123#2' found.\n",
      "Warning: Mandatory edge '-143962123#2' not reachable by vehicle 'h08_23043'.\n",
      "Warning: The vehicle 'h08_23043' has no valid route.\n",
      "Warning: No connection between edge '780562172' and edge '88115328' found.\n",
      "Warning: Mandatory edge '88115328' not reachable by vehicle 'h08_23192'.\n",
      "Warning: The vehicle 'h08_23192' has no valid route.\n",
      "Warning: No connection between edge '503356965' and edge '-66504226#0' found.\n",
      "Warning: Mandatory edge '-66504226#0' not reachable by vehicle 'h08_23255'.\n",
      "Warning: The vehicle 'h08_23255' has no valid route.\n",
      "Warning: No connection between edge '1234980727' and edge '365849022#3' found.\n",
      "Warning: Mandatory edge '365849022#3' not reachable by vehicle 'h08_29652'.\n",
      "Warning: The vehicle 'h08_29652' has no valid route.\n"
     ]
    },
    {
     "name": "stdout",
     "output_type": "stream",
     "text": [
      "Reading up to time step: 32201.15\r"
     ]
    },
    {
     "name": "stderr",
     "output_type": "stream",
     "text": [
      "Warning: No connection between edge '-490102682' and edge '510193664' found.\n",
      "Warning: Mandatory edge '510193664' not reachable by vehicle 'h08_24170'.\n",
      "Warning: The vehicle 'h08_24170' has no valid route.\n",
      "Warning: No connection between edge '-139897014#3' and edge '161432888' found.\n",
      "Warning: Mandatory edge '161432888' not reachable by vehicle 'h08_24356'.\n",
      "Warning: The vehicle 'h08_24356' has no valid route.\n",
      "Warning: No connection between edge '-925261618' and edge '-157931980#0' found.\n",
      "Warning: Mandatory edge '-157931980#0' not reachable by vehicle 'h08_24644'.\n",
      "Warning: The vehicle 'h08_24644' has no valid route.\n",
      "Warning: No connection between edge '161754636' and edge '510193650#1' found.\n",
      "Warning: Mandatory edge '510193650#1' not reachable by vehicle 'h08_24770'.\n",
      "Warning: The vehicle 'h08_24770' has no valid route.\n",
      "Warning: No connection between edge '265221273' and edge '510193650#4' found.\n",
      "Warning: Mandatory edge '510193650#4' not reachable by vehicle 'h08_24959'.\n",
      "Warning: The vehicle 'h08_24959' has no valid route.\n",
      "Warning: No connection between edge '-46999155' and edge '6312388#0' found.\n",
      "Warning: Mandatory edge '6312388#0' not reachable by vehicle 'h08_24962'.\n",
      "Warning: The vehicle 'h08_24962' has no valid route.\n",
      "Warning: No connection between edge '532753397' and edge '112885002#0' found.\n",
      "Warning: Mandatory edge '112885002#0' not reachable by vehicle 'h08_25152'.\n",
      "Warning: The vehicle 'h08_25152' has no valid route.\n",
      "Warning: No connection between edge '82166051#3' and edge '367820007' found.\n",
      "Warning: Mandatory edge '367820007' not reachable by vehicle 'h08_25190'.\n",
      "Warning: The vehicle 'h08_25190' has no valid route.\n",
      "Warning: No connection between edge '234186037' and edge '-54357737' found.\n",
      "Warning: Mandatory edge '-54357737' not reachable by vehicle 'h08_29231'.\n",
      "Warning: The vehicle 'h08_29231' has no valid route.\n",
      "Warning: No connection between edge '-125002705#0' and edge '62023728#0' found.\n",
      "Warning: Mandatory edge '62023728#0' not reachable by vehicle 'h08_29239'.\n",
      "Warning: The vehicle 'h08_29239' has no valid route.\n"
     ]
    },
    {
     "name": "stdout",
     "output_type": "stream",
     "text": [
      "Reading up to time step: 32401.15\r"
     ]
    },
    {
     "name": "stderr",
     "output_type": "stream",
     "text": [
      "Warning: No connection between edge '74128330#1' and edge '-6309949#0' found.\n",
      "Warning: Mandatory edge '-6309949#0' not reachable by vehicle 'h08_25644'.\n",
      "Warning: The vehicle 'h08_25644' has no valid route.\n",
      "Warning: No connection between edge '1227161676#2' and edge '1367068983' found.\n",
      "Warning: Mandatory edge '1367068983' not reachable by vehicle 'h08_25887'.\n",
      "Warning: The vehicle 'h08_25887' has no valid route.\n",
      "Warning: No connection between edge '1035313833#0' and edge '-37791877#0' found.\n",
      "Warning: Mandatory edge '-37791877#0' not reachable by vehicle 'h08_30419'.\n",
      "Warning: The vehicle 'h08_30419' has no valid route.\n",
      "Warning: No connection between edge '-124060635' and edge '92351484#0' found.\n",
      "Warning: Mandatory edge '92351484#0' not reachable by vehicle 'h08_27383'.\n",
      "Warning: The vehicle 'h08_27383' has no valid route.\n",
      "Warning: No connection between edge '467407613' and edge '367820004' found.\n",
      "Warning: Mandatory edge '367820004' not reachable by vehicle 'h08_26542'.\n",
      "Warning: The vehicle 'h08_26542' has no valid route.\n",
      "Warning: No connection between edge '233487360' and edge '510193674' found.\n",
      "Warning: Mandatory edge '510193674' not reachable by vehicle 'h08_26641'.\n",
      "Warning: The vehicle 'h08_26641' has no valid route.\n",
      "Warning: No connection between edge '-65006146#2' and edge '62023728#0' found.\n",
      "Warning: Mandatory edge '62023728#0' not reachable by vehicle 'h08_26690'.\n",
      "Warning: The vehicle 'h08_26690' has no valid route.\n"
     ]
    },
    {
     "name": "stdout",
     "output_type": "stream",
     "text": [
      "Reading up to time step: 32601.15\r"
     ]
    },
    {
     "name": "stderr",
     "output_type": "stream",
     "text": [
      "Warning: No connection between edge '6309582#1' and edge '510193635#0' found.\n",
      "Warning: Mandatory edge '510193635#0' not reachable by vehicle 'h09_42'.\n",
      "Warning: The vehicle 'h09_42' has no valid route.\n",
      "Warning: No connection between edge '158871784' and edge '510193650#3' found.\n",
      "Warning: Mandatory edge '510193650#3' not reachable by vehicle 'h09_19986'.\n",
      "Warning: The vehicle 'h09_19986' has no valid route.\n",
      "Warning: No connection between edge '232788067#2' and edge '223628721#1' found.\n",
      "Warning: Mandatory edge '223628721#1' not reachable by vehicle 'h09_791'.\n",
      "Warning: The vehicle 'h09_791' has no valid route.\n",
      "Warning: No connection between edge '-34934937' and edge '-367820007' found.\n",
      "Warning: Mandatory edge '-367820007' not reachable by vehicle 'h09_1075'.\n",
      "Warning: The vehicle 'h09_1075' has no valid route.\n"
     ]
    },
    {
     "name": "stdout",
     "output_type": "stream",
     "text": [
      "Reading up to time step: 32801.15\r"
     ]
    },
    {
     "name": "stderr",
     "output_type": "stream",
     "text": [
      "Warning: No connection between edge '446955267' and edge '63679184#1' found.\n",
      "Warning: Mandatory edge '63679184#1' not reachable by vehicle 'h09_1172'.\n",
      "Warning: The vehicle 'h09_1172' has no valid route.\n",
      "Warning: No connection between edge '-53331631#8' and edge '-143962123#2' found.\n",
      "Warning: Mandatory edge '-143962123#2' not reachable by vehicle 'h09_1245'.\n",
      "Warning: The vehicle 'h09_1245' has no valid route.\n",
      "Warning: No connection between edge '48996833#2' and edge '144160557#1' found.\n",
      "Warning: Mandatory edge '144160557#1' not reachable by vehicle 'h09_1264'.\n",
      "Warning: The vehicle 'h09_1264' has no valid route.\n",
      "Warning: No connection between edge '-38668476#2' and edge '1159203435#0' found.\n",
      "Warning: Mandatory edge '1159203435#0' not reachable by vehicle 'h09_1791'.\n",
      "Warning: The vehicle 'h09_1791' has no valid route.\n",
      "Warning: No connection between edge '-836758153' and edge '889503609' found.\n",
      "Warning: Mandatory edge '889503609' not reachable by vehicle 'h09_1853'.\n",
      "Warning: The vehicle 'h09_1853' has no valid route.\n"
     ]
    },
    {
     "name": "stdout",
     "output_type": "stream",
     "text": [
      "Reading up to time step: 33001.15\r"
     ]
    },
    {
     "name": "stderr",
     "output_type": "stream",
     "text": [
      "Warning: No connection between edge '665644278' and edge '1328251277' found.\n",
      "Warning: Mandatory edge '1328251277' not reachable by vehicle 'h09_1994'.\n",
      "Warning: The vehicle 'h09_1994' has no valid route.\n",
      "Warning: No connection between edge '112885039' and edge '315949731#1' found.\n",
      "Warning: Mandatory edge '315949731#1' not reachable by vehicle 'h09_17671'.\n",
      "Warning: The vehicle 'h09_17671' has no valid route.\n",
      "Warning: No connection between edge '24386973#2' and edge '4387061#0' found.\n",
      "Warning: Mandatory edge '4387061#0' not reachable by vehicle 'h09_2224'.\n",
      "Warning: The vehicle 'h09_2224' has no valid route.\n",
      "Warning: No connection between edge '99205780#1' and edge '783551598' found.\n",
      "Warning: Mandatory edge '783551598' not reachable by vehicle 'h09_2288'.\n",
      "Warning: The vehicle 'h09_2288' has no valid route.\n",
      "Warning: No connection between edge '49326513#2' and edge '167692614#0' found.\n",
      "Warning: Mandatory edge '167692614#0' not reachable by vehicle 'h09_2348'.\n",
      "Warning: The vehicle 'h09_2348' has no valid route.\n",
      "Warning: No connection between edge '677962290#0' and edge '692569451' found.\n",
      "Warning: Mandatory edge '692569451' not reachable by vehicle 'h09_17679'.\n",
      "Warning: The vehicle 'h09_17679' has no valid route.\n",
      "Warning: No connection between edge '382671619' and edge '-188649571' found.\n",
      "Warning: Mandatory edge '-188649571' not reachable by vehicle 'h09_2728'.\n",
      "Warning: The vehicle 'h09_2728' has no valid route.\n",
      "Warning: No connection between edge '626118726#5' and edge '62023728#0' found.\n",
      "Warning: Mandatory edge '62023728#0' not reachable by vehicle 'h09_2733'.\n",
      "Warning: The vehicle 'h09_2733' has no valid route.\n",
      "Warning: No connection between edge '113784807#0' and edge '493061137' found.\n",
      "Warning: Mandatory edge '493061137' not reachable by vehicle 'h09_2748'.\n",
      "Warning: The vehicle 'h09_2748' has no valid route.\n",
      "Warning: No connection between edge '-124060635' and edge '64227600' found.\n",
      "Warning: Mandatory edge '64227600' not reachable by vehicle 'h09_2902'.\n",
      "Warning: The vehicle 'h09_2902' has no valid route.\n"
     ]
    },
    {
     "name": "stdout",
     "output_type": "stream",
     "text": [
      "Reading up to time step: 33201.15\r"
     ]
    },
    {
     "name": "stderr",
     "output_type": "stream",
     "text": [
      "Warning: No connection between edge '-53256205#3' and edge '386307421#1' found.\n",
      "Warning: Mandatory edge '386307421#1' not reachable by vehicle 'h09_3097'.\n",
      "Warning: The vehicle 'h09_3097' has no valid route.\n",
      "Warning: No connection between edge '34356714' and edge '367820004' found.\n",
      "Warning: Mandatory edge '367820004' not reachable by vehicle 'h09_3269'.\n",
      "Warning: The vehicle 'h09_3269' has no valid route.\n",
      "Warning: No connection between edge '1016927144#4' and edge '1159203435#0' found.\n",
      "Warning: Mandatory edge '1159203435#0' not reachable by vehicle 'h09_19271'.\n",
      "Warning: The vehicle 'h09_19271' has no valid route.\n",
      "Warning: No connection between edge '780562172' and edge '53839134' found.\n",
      "Warning: Mandatory edge '53839134' not reachable by vehicle 'h09_3631'.\n",
      "Warning: The vehicle 'h09_3631' has no valid route.\n",
      "Warning: No connection between edge '53347777#1' and edge '767313244' found.\n",
      "Warning: Mandatory edge '767313244' not reachable by vehicle 'h09_3807'.\n",
      "Warning: The vehicle 'h09_3807' has no valid route.\n",
      "Warning: No connection between edge '446955267' and edge '-72231001#0' found.\n",
      "Warning: Mandatory edge '-72231001#0' not reachable by vehicle 'h09_4198'.\n",
      "Warning: The vehicle 'h09_4198' has no valid route.\n"
     ]
    },
    {
     "name": "stdout",
     "output_type": "stream",
     "text": [
      "Reading up to time step: 33401.15\r"
     ]
    },
    {
     "name": "stderr",
     "output_type": "stream",
     "text": [
      "Warning: No connection between edge '-126782173#0' and edge '510193669' found.\n",
      "Warning: Mandatory edge '510193669' not reachable by vehicle 'h09_4275'.\n",
      "Warning: The vehicle 'h09_4275' has no valid route.\n",
      "Warning: No connection between edge '34356756' and edge '167692614#0' found.\n",
      "Warning: Mandatory edge '167692614#0' not reachable by vehicle 'h09_4341'.\n",
      "Warning: The vehicle 'h09_4341' has no valid route.\n",
      "Warning: No connection between edge '27773445#1' and edge '-144160557#2' found.\n",
      "Warning: Mandatory edge '-144160557#2' not reachable by vehicle 'h09_4659'.\n",
      "Warning: The vehicle 'h09_4659' has no valid route.\n",
      "Warning: No connection between edge '-378844042' and edge '-112885002#0' found.\n",
      "Warning: Mandatory edge '-112885002#0' not reachable by vehicle 'h09_4683'.\n",
      "Warning: The vehicle 'h09_4683' has no valid route.\n",
      "Warning: No connection between edge '-53144415' and edge '112885002#0' found.\n",
      "Warning: Mandatory edge '112885002#0' not reachable by vehicle 'h09_5026'.\n",
      "Warning: The vehicle 'h09_5026' has no valid route.\n"
     ]
    },
    {
     "name": "stdout",
     "output_type": "stream",
     "text": [
      "Reading up to time step: 33601.15\r"
     ]
    },
    {
     "name": "stderr",
     "output_type": "stream",
     "text": [
      "Warning: No connection between edge '183741260' and edge '157931980#1' found.\n",
      "Warning: Mandatory edge '157931980#1' not reachable by vehicle 'h09_5196'.\n",
      "Warning: The vehicle 'h09_5196' has no valid route.\n",
      "Warning: No connection between edge '-54357738#1' and edge '1060073977' found.\n",
      "Warning: Mandatory edge '1060073977' not reachable by vehicle 'h09_5666'.\n",
      "Warning: The vehicle 'h09_5666' has no valid route.\n",
      "Warning: No connection between edge '64095975#2' and edge '-144160557#1' found.\n",
      "Warning: Mandatory edge '-144160557#1' not reachable by vehicle 'h09_5684'.\n",
      "Warning: The vehicle 'h09_5684' has no valid route.\n"
     ]
    },
    {
     "name": "stdout",
     "output_type": "stream",
     "text": [
      "Reading up to time step: 33801.15\r"
     ]
    },
    {
     "name": "stderr",
     "output_type": "stream",
     "text": [
      "Warning: No connection between edge '-688357782#0' and edge '-47001613#4' found.\n",
      "Warning: Mandatory edge '-47001613#4' not reachable by vehicle 'h09_6172'.\n",
      "Warning: The vehicle 'h09_6172' has no valid route.\n",
      "Warning: No connection between edge '1335105378' and edge '41455206' found.\n",
      "Warning: Mandatory edge '41455206' not reachable by vehicle 'h09_6321'.\n",
      "Warning: The vehicle 'h09_6321' has no valid route.\n",
      "Warning: No connection between edge '666656592' and edge '159460077#3' found.\n",
      "Warning: Mandatory edge '159460077#3' not reachable by vehicle 'h09_18981'.\n",
      "Warning: The vehicle 'h09_18981' has no valid route.\n",
      "Warning: No connection between edge '676607887#1' and edge '-143962120' found.\n",
      "Warning: Mandatory edge '-143962120' not reachable by vehicle 'h09_6435'.\n",
      "Warning: The vehicle 'h09_6435' has no valid route.\n",
      "Warning: No connection between edge '793930821' and edge '126795622#0' found.\n",
      "Warning: Mandatory edge '126795622#0' not reachable by vehicle 'h09_6911'.\n",
      "Warning: The vehicle 'h09_6911' has no valid route.\n"
     ]
    },
    {
     "name": "stdout",
     "output_type": "stream",
     "text": [
      "Reading up to time step: 34001.15\r"
     ]
    },
    {
     "name": "stderr",
     "output_type": "stream",
     "text": [
      "Warning: No connection between edge '41455227#6' and edge '142428191' found.\n",
      "Warning: Mandatory edge '142428191' not reachable by vehicle 'h09_7318'.\n",
      "Warning: The vehicle 'h09_7318' has no valid route.\n",
      "Warning: No connection between edge '1091788508' and edge '-368494150#0' found.\n",
      "Warning: Mandatory edge '-368494150#0' not reachable by vehicle 'h09_7436'.\n",
      "Warning: The vehicle 'h09_7436' has no valid route.\n",
      "Warning: No connection between edge '-688357782#1' and edge '-478078066#3' found.\n",
      "Warning: Mandatory edge '-478078066#3' not reachable by vehicle 'h09_7716'.\n",
      "Warning: The vehicle 'h09_7716' has no valid route.\n",
      "Warning: No connection between edge '1356954327' and edge '200278972#0' found.\n",
      "Warning: Mandatory edge '200278972#0' not reachable by vehicle 'h09_7746'.\n",
      "Warning: The vehicle 'h09_7746' has no valid route.\n",
      "Warning: No connection between edge '688357782#1' and edge '-24257516#0' found.\n",
      "Warning: Mandatory edge '-24257516#0' not reachable by vehicle 'h09_7832'.\n",
      "Warning: The vehicle 'h09_7832' has no valid route.\n",
      "Warning: No connection between edge '-330628132#0' and edge '146009471' found.\n",
      "Warning: Mandatory edge '146009471' not reachable by vehicle 'h09_18550'.\n",
      "Warning: The vehicle 'h09_18550' has no valid route.\n"
     ]
    },
    {
     "name": "stdout",
     "output_type": "stream",
     "text": [
      "Reading up to time step: 34201.15\r"
     ]
    },
    {
     "name": "stderr",
     "output_type": "stream",
     "text": [
      "Warning: No connection between edge '30281494#2' and edge '510193635#0' found.\n",
      "Warning: Mandatory edge '510193635#0' not reachable by vehicle 'h09_8480'.\n",
      "Warning: The vehicle 'h09_8480' has no valid route.\n",
      "Warning: No connection between edge '1356954327' and edge '30411024#1' found.\n",
      "Warning: Mandatory edge '30411024#1' not reachable by vehicle 'h09_17802'.\n",
      "Warning: The vehicle 'h09_17802' has no valid route.\n",
      "Warning: No connection between edge '71817036#1' and edge '666070226#0' found.\n",
      "Warning: Mandatory edge '666070226#0' not reachable by vehicle 'h09_8660'.\n",
      "Warning: The vehicle 'h09_8660' has no valid route.\n",
      "Warning: No connection between edge '-82287659#2' and edge '-378355994#2' found.\n",
      "Warning: Mandatory edge '-378355994#2' not reachable by vehicle 'h09_9094'.\n",
      "Warning: The vehicle 'h09_9094' has no valid route.\n"
     ]
    },
    {
     "name": "stdout",
     "output_type": "stream",
     "text": [
      "Reading up to time step: 34401.15\r"
     ]
    },
    {
     "name": "stderr",
     "output_type": "stream",
     "text": [
      "Warning: No connection between edge '-53513815#0' and edge '-367820004' found.\n",
      "Warning: Mandatory edge '-367820004' not reachable by vehicle 'h09_9626'.\n",
      "Warning: The vehicle 'h09_9626' has no valid route.\n"
     ]
    },
    {
     "name": "stdout",
     "output_type": "stream",
     "text": [
      "Reading up to time step: 34601.15\r"
     ]
    },
    {
     "name": "stderr",
     "output_type": "stream",
     "text": [
      "Warning: No connection between edge '72049630#0' and edge '144160547' found.\n",
      "Warning: Mandatory edge '144160547' not reachable by vehicle 'h09_9828'.\n",
      "Warning: The vehicle 'h09_9828' has no valid route.\n",
      "Warning: No connection between edge '30129956#2' and edge '1175725908#1' found.\n",
      "Warning: Mandatory edge '1175725908#1' not reachable by vehicle 'h09_19830'.\n",
      "Warning: The vehicle 'h09_19830' has no valid route.\n",
      "Warning: No connection between edge '815663950#2' and edge '-30281188#2' found.\n",
      "Warning: Mandatory edge '-30281188#2' not reachable by vehicle 'h09_10147'.\n",
      "Warning: The vehicle 'h09_10147' has no valid route.\n",
      "Warning: No connection between edge '124060635' and edge '309384630#0' found.\n",
      "Warning: Mandatory edge '309384630#0' not reachable by vehicle 'h09_10271'.\n",
      "Warning: The vehicle 'h09_10271' has no valid route.\n",
      "Warning: No connection between edge '61976427#2' and edge '889503609' found.\n",
      "Warning: Mandatory edge '889503609' not reachable by vehicle 'h09_10279'.\n",
      "Warning: The vehicle 'h09_10279' has no valid route.\n",
      "Warning: No connection between edge '88115318' and edge '446955265' found.\n",
      "Warning: Mandatory edge '446955265' not reachable by vehicle 'h09_10559'.\n",
      "Warning: The vehicle 'h09_10559' has no valid route.\n"
     ]
    },
    {
     "name": "stdout",
     "output_type": "stream",
     "text": [
      "Reading up to time step: 34801.15\r"
     ]
    },
    {
     "name": "stderr",
     "output_type": "stream",
     "text": [
      "Warning: No connection between edge '382013252' and edge '263520769#0' found.\n",
      "Warning: Mandatory edge '263520769#0' not reachable by vehicle 'h09_11252'.\n",
      "Warning: The vehicle 'h09_11252' has no valid route.\n",
      "Warning: No connection between edge '-168587751#2' and edge '143962123#1' found.\n",
      "Warning: Mandatory edge '143962123#1' not reachable by vehicle 'h09_11543'.\n",
      "Warning: The vehicle 'h09_11543' has no valid route.\n",
      "Warning: No connection between edge '30690719' and edge '326375784' found.\n",
      "Warning: Mandatory edge '326375784' not reachable by vehicle 'h09_19090'.\n",
      "Warning: The vehicle 'h09_19090' has no valid route.\n"
     ]
    },
    {
     "name": "stdout",
     "output_type": "stream",
     "text": [
      "Reading up to time step: 35001.15\r"
     ]
    },
    {
     "name": "stderr",
     "output_type": "stream",
     "text": [
      "Warning: No connection between edge '124060638#6' and edge '6309618#1' found.\n",
      "Warning: Mandatory edge '6309618#1' not reachable by vehicle 'h09_11811'.\n",
      "Warning: The vehicle 'h09_11811' has no valid route.\n",
      "Warning: No connection between edge '-237445708' and edge '386307421#1' found.\n",
      "Warning: Mandatory edge '386307421#1' not reachable by vehicle 'h09_11947'.\n",
      "Warning: The vehicle 'h09_11947' has no valid route.\n",
      "Warning: No connection between edge '27773467' and edge '62023728#0' found.\n",
      "Warning: Mandatory edge '62023728#0' not reachable by vehicle 'h09_11973'.\n",
      "Warning: The vehicle 'h09_11973' has no valid route.\n",
      "Warning: No connection between edge '113704692#3' and edge '666070226#0' found.\n",
      "Warning: Mandatory edge '666070226#0' not reachable by vehicle 'h09_12482'.\n",
      "Warning: The vehicle 'h09_12482' has no valid route.\n",
      "Warning: No connection between edge '761682952' and edge '161432888' found.\n",
      "Warning: Mandatory edge '161432888' not reachable by vehicle 'h09_12687'.\n",
      "Warning: The vehicle 'h09_12687' has no valid route.\n"
     ]
    },
    {
     "name": "stdout",
     "output_type": "stream",
     "text": [
      "Reading up to time step: 35201.15\r"
     ]
    },
    {
     "name": "stderr",
     "output_type": "stream",
     "text": [
      "Warning: No connection between edge '-24255332#5' and edge '386307421#0' found.\n",
      "Warning: Mandatory edge '386307421#0' not reachable by vehicle 'h09_13065'.\n",
      "Warning: The vehicle 'h09_13065' has no valid route.\n",
      "Warning: No connection between edge '1367068984' and edge '-507538263#1' found.\n",
      "Warning: Mandatory edge '-507538263#1' not reachable by vehicle 'h09_13278'.\n",
      "Warning: The vehicle 'h09_13278' has no valid route.\n",
      "Warning: No connection between edge '156672384#0' and edge '510193680' found.\n",
      "Warning: Mandatory edge '510193680' not reachable by vehicle 'h09_13300'.\n",
      "Warning: The vehicle 'h09_13300' has no valid route.\n",
      "Warning: No connection between edge '112885039' and edge '-206743295#3' found.\n",
      "Warning: Mandatory edge '-206743295#3' not reachable by vehicle 'h09_13469'.\n",
      "Warning: The vehicle 'h09_13469' has no valid route.\n",
      "Warning: No connection between edge '330629396#1' and edge '386307421#1' found.\n",
      "Warning: Mandatory edge '386307421#1' not reachable by vehicle 'h09_13810'.\n",
      "Warning: The vehicle 'h09_13810' has no valid route.\n"
     ]
    },
    {
     "name": "stdout",
     "output_type": "stream",
     "text": [
      "Reading up to time step: 35401.15\r"
     ]
    },
    {
     "name": "stderr",
     "output_type": "stream",
     "text": [
      "Warning: No connection between edge '493061137' and edge '53189403#0' found.\n",
      "Warning: Mandatory edge '53189403#0' not reachable by vehicle 'h09_14046'.\n",
      "Warning: The vehicle 'h09_14046' has no valid route.\n",
      "Warning: No connection between edge '-281308645' and edge '-155950997#1' found.\n",
      "Warning: Mandatory edge '-155950997#1' not reachable by vehicle 'h09_18668'.\n",
      "Warning: The vehicle 'h09_18668' has no valid route.\n",
      "Warning: No connection between edge '-157994780#1' and edge '-143962123#2' found.\n",
      "Warning: Mandatory edge '-143962123#2' not reachable by vehicle 'h09_14650'.\n",
      "Warning: The vehicle 'h09_14650' has no valid route.\n",
      "Warning: No connection between edge '-304111065#0' and edge '666070226#0' found.\n",
      "Warning: Mandatory edge '666070226#0' not reachable by vehicle 'h09_15027'.\n",
      "Warning: The vehicle 'h09_15027' has no valid route.\n"
     ]
    },
    {
     "name": "stdout",
     "output_type": "stream",
     "text": [
      "Reading up to time step: 35601.15\r"
     ]
    },
    {
     "name": "stderr",
     "output_type": "stream",
     "text": [
      "Warning: No connection between edge '-793930821' and edge '204108271#0' found.\n",
      "Warning: Mandatory edge '204108271#0' not reachable by vehicle 'h09_18227'.\n",
      "Warning: The vehicle 'h09_18227' has no valid route.\n",
      "Warning: No connection between edge '-746745574' and edge '-143962123#2' found.\n",
      "Warning: Mandatory edge '-143962123#2' not reachable by vehicle 'h09_19466'.\n",
      "Warning: The vehicle 'h09_19466' has no valid route.\n",
      "Warning: No connection between edge '265377993' and edge '98338695' found.\n",
      "Warning: Mandatory edge '98338695' not reachable by vehicle 'h09_15243'.\n",
      "Warning: The vehicle 'h09_15243' has no valid route.\n",
      "Warning: No connection between edge '-47000202#5' and edge '378355993' found.\n",
      "Warning: Mandatory edge '378355993' not reachable by vehicle 'h09_15639'.\n",
      "Warning: The vehicle 'h09_15639' has no valid route.\n"
     ]
    },
    {
     "name": "stdout",
     "output_type": "stream",
     "text": [
      "Reading up to time step: 35801.15\r"
     ]
    },
    {
     "name": "stderr",
     "output_type": "stream",
     "text": [
      "Warning: No connection between edge '-136788491#6' and edge '98338695' found.\n",
      "Warning: Mandatory edge '98338695' not reachable by vehicle 'h09_16061'.\n",
      "Warning: The vehicle 'h09_16061' has no valid route.\n",
      "Warning: No connection between edge '300906549' and edge '323968072#1' found.\n",
      "Warning: Mandatory edge '323968072#1' not reachable by vehicle 'h09_19189'.\n",
      "Warning: The vehicle 'h09_19189' has no valid route.\n",
      "Warning: No connection between edge '220076803#2' and edge '386307421#0' found.\n",
      "Warning: Mandatory edge '386307421#0' not reachable by vehicle 'h09_19195'.\n",
      "Warning: The vehicle 'h09_19195' has no valid route.\n"
     ]
    },
    {
     "name": "stdout",
     "output_type": "stream",
     "text": [
      "Reading up to time step: 36001.15\r"
     ]
    },
    {
     "name": "stderr",
     "output_type": "stream",
     "text": [
      "Warning: No connection between edge '-199678245#1' and edge '378355993' found.\n",
      "Warning: Mandatory edge '378355993' not reachable by vehicle 'h09_16715'.\n",
      "Warning: The vehicle 'h09_16715' has no valid route.\n",
      "Warning: No connection between edge '49299977' and edge '62023728#0' found.\n",
      "Warning: Mandatory edge '62023728#0' not reachable by vehicle 'h09_16771'.\n",
      "Warning: The vehicle 'h09_16771' has no valid route.\n",
      "Warning: No connection between edge '1335105378' and edge '-617595692#0' found.\n",
      "Warning: Mandatory edge '-617595692#0' not reachable by vehicle 'h09_17032'.\n",
      "Warning: The vehicle 'h09_17032' has no valid route.\n",
      "Warning: No connection between edge '427102498#2' and edge '-383076320' found.\n",
      "Warning: Mandatory edge '-383076320' not reachable by vehicle 'h09_17096'.\n",
      "Warning: The vehicle 'h09_17096' has no valid route.\n",
      "Warning: No connection between edge '-97294562#3' and edge '510193650#2' found.\n",
      "Warning: Mandatory edge '510193650#2' not reachable by vehicle 'h09_17141'.\n",
      "Warning: The vehicle 'h09_17141' has no valid route.\n",
      "Warning: No connection between edge '363335746' and edge '142428191' found.\n",
      "Warning: Mandatory edge '142428191' not reachable by vehicle 'h09_17179'.\n",
      "Warning: The vehicle 'h09_17179' has no valid route.\n",
      "Warning: No connection between edge '24257994#5' and edge '98338695' found.\n",
      "Warning: Mandatory edge '98338695' not reachable by vehicle 'h09_17539'.\n",
      "Warning: The vehicle 'h09_17539' has no valid route.\n",
      "Warning: No connection between edge '688357782#1' and edge '-160520096#0' found.\n",
      "Warning: Mandatory edge '-160520096#0' not reachable by vehicle 'h09_17594'.\n",
      "Warning: The vehicle 'h09_17594' has no valid route.\n",
      "Warning: No connection between edge '406234517#0' and edge '112619160' found.\n",
      "Warning: Mandatory edge '112619160' not reachable by vehicle 'h10_80'.\n",
      "Warning: The vehicle 'h10_80' has no valid route.\n"
     ]
    },
    {
     "name": "stdout",
     "output_type": "stream",
     "text": [
      "Reading up to time step: 36201.15\r"
     ]
    },
    {
     "name": "stderr",
     "output_type": "stream",
     "text": [
      "Warning: No connection between edge '1367068984' and edge '-97294562#3' found.\n",
      "Warning: Mandatory edge '-97294562#3' not reachable by vehicle 'h10_375'.\n",
      "Warning: The vehicle 'h10_375' has no valid route.\n",
      "Warning: No connection between edge '1356954327' and edge '774661291#1' found.\n",
      "Warning: Mandatory edge '774661291#1' not reachable by vehicle 'h10_14795'.\n",
      "Warning: The vehicle 'h10_14795' has no valid route.\n",
      "Warning: No connection between edge '27866258' and edge '510193650#6' found.\n",
      "Warning: Mandatory edge '510193650#6' not reachable by vehicle 'h10_820'.\n",
      "Warning: The vehicle 'h10_820' has no valid route.\n"
     ]
    },
    {
     "name": "stdout",
     "output_type": "stream",
     "text": [
      "Reading up to time step: 36401.15\r"
     ]
    },
    {
     "name": "stderr",
     "output_type": "stream",
     "text": [
      "Warning: No connection between edge '1091788508' and edge '385566743' found.\n",
      "Warning: Mandatory edge '385566743' not reachable by vehicle 'h10_881'.\n",
      "Warning: The vehicle 'h10_881' has no valid route.\n",
      "Warning: No connection between edge '-132646386#7' and edge '386307421#0' found.\n",
      "Warning: Mandatory edge '386307421#0' not reachable by vehicle 'h10_949'.\n",
      "Warning: The vehicle 'h10_949' has no valid route.\n",
      "Warning: No connection between edge '-124060635' and edge '-52513134#2' found.\n",
      "Warning: Mandatory edge '-52513134#2' not reachable by vehicle 'h10_1105'.\n",
      "Warning: The vehicle 'h10_1105' has no valid route.\n",
      "Warning: No connection between edge '211912560#1' and edge '-143962123#0' found.\n",
      "Warning: Mandatory edge '-143962123#0' not reachable by vehicle 'h10_15814'.\n",
      "Warning: The vehicle 'h10_15814' has no valid route.\n",
      "Warning: No connection between edge '82169961' and edge '-383076320' found.\n",
      "Warning: Mandatory edge '-383076320' not reachable by vehicle 'h10_1150'.\n",
      "Warning: The vehicle 'h10_1150' has no valid route.\n",
      "Warning: No connection between edge '675420936#6' and edge '144160557#1' found.\n",
      "Warning: Mandatory edge '144160557#1' not reachable by vehicle 'h10_1817'.\n",
      "Warning: The vehicle 'h10_1817' has no valid route.\n"
     ]
    },
    {
     "name": "stdout",
     "output_type": "stream",
     "text": [
      "Reading up to time step: 36601.15\r"
     ]
    },
    {
     "name": "stderr",
     "output_type": "stream",
     "text": [
      "Warning: No connection between edge '576229909#1' and edge '-367820007' found.\n",
      "Warning: Mandatory edge '-367820007' not reachable by vehicle 'h10_2235'.\n",
      "Warning: The vehicle 'h10_2235' has no valid route.\n"
     ]
    },
    {
     "name": "stdout",
     "output_type": "stream",
     "text": [
      "Reading up to time step: 36801.15\r"
     ]
    },
    {
     "name": "stderr",
     "output_type": "stream",
     "text": [
      "Warning: No connection between edge '793930821' and edge '67922402#4' found.\n",
      "Warning: Mandatory edge '67922402#4' not reachable by vehicle 'h10_15416'.\n",
      "Warning: The vehicle 'h10_15416' has no valid route.\n",
      "Warning: No connection between edge '53188486' and edge '-143962123#1' found.\n",
      "Warning: Mandatory edge '-143962123#1' not reachable by vehicle 'h10_2659'.\n",
      "Warning: The vehicle 'h10_2659' has no valid route.\n",
      "Warning: No connection between edge '150755251#2' and edge '144160557#1' found.\n",
      "Warning: Mandatory edge '144160557#1' not reachable by vehicle 'h10_2727'.\n",
      "Warning: The vehicle 'h10_2727' has no valid route.\n",
      "Warning: No connection between edge '780562172' and edge '168572581#4' found.\n",
      "Warning: Mandatory edge '168572581#4' not reachable by vehicle 'h10_2970'.\n",
      "Warning: The vehicle 'h10_2970' has no valid route.\n",
      "Warning: No connection between edge '-37793643#0' and edge '510193650#4' found.\n",
      "Warning: Mandatory edge '510193650#4' not reachable by vehicle 'h10_3432'.\n",
      "Warning: The vehicle 'h10_3432' has no valid route.\n"
     ]
    },
    {
     "name": "stdout",
     "output_type": "stream",
     "text": [
      "Reading up to time step: 37001.15\r"
     ]
    },
    {
     "name": "stderr",
     "output_type": "stream",
     "text": [
      "Warning: No connection between edge '124060638#6' and edge '-151728420#2' found.\n",
      "Warning: Mandatory edge '-151728420#2' not reachable by vehicle 'h10_3634'.\n",
      "Warning: The vehicle 'h10_3634' has no valid route.\n"
     ]
    },
    {
     "name": "stdout",
     "output_type": "stream",
     "text": [
      "Reading up to time step: 37201.15\r"
     ]
    },
    {
     "name": "stderr",
     "output_type": "stream",
     "text": [
      "Warning: No connection between edge '28049259#3' and edge '98338695' found.\n",
      "Warning: Mandatory edge '98338695' not reachable by vehicle 'h10_16046'.\n",
      "Warning: The vehicle 'h10_16046' has no valid route.\n",
      "Warning: No connection between edge '88122137' and edge '383076320' found.\n",
      "Warning: Mandatory edge '383076320' not reachable by vehicle 'h10_4486'.\n",
      "Warning: The vehicle 'h10_4486' has no valid route.\n",
      "Warning: No connection between edge '108938544' and edge '436070545#0' found.\n",
      "Warning: Mandatory edge '436070545#0' not reachable by vehicle 'h10_4561'.\n",
      "Warning: The vehicle 'h10_4561' has no valid route.\n",
      "Warning: No connection between edge '493061137' and edge '-64227563' found.\n",
      "Warning: Mandatory edge '-64227563' not reachable by vehicle 'h10_4771'.\n",
      "Warning: The vehicle 'h10_4771' has no valid route.\n"
     ]
    },
    {
     "name": "stdout",
     "output_type": "stream",
     "text": [
      "Reading up to time step: 37401.15\r"
     ]
    },
    {
     "name": "stderr",
     "output_type": "stream",
     "text": [
      "Warning: No connection between edge '-37791879#2' and edge '510193680' found.\n",
      "Warning: Mandatory edge '510193680' not reachable by vehicle 'h10_5126'.\n",
      "Warning: The vehicle 'h10_5126' has no valid route.\n",
      "Warning: No connection between edge '-169984982#5' and edge '689636461' found.\n",
      "Warning: Mandatory edge '689636461' not reachable by vehicle 'h10_5172'.\n",
      "Warning: The vehicle 'h10_5172' has no valid route.\n",
      "Warning: No connection between edge '-53838589#0' and edge '62023728#1' found.\n",
      "Warning: Mandatory edge '62023728#1' not reachable by vehicle 'h10_5223'.\n",
      "Warning: The vehicle 'h10_5223' has no valid route.\n",
      "Warning: No connection between edge '-124060635' and edge '99205880' found.\n",
      "Warning: Mandatory edge '99205880' not reachable by vehicle 'h10_5344'.\n",
      "Warning: The vehicle 'h10_5344' has no valid route.\n",
      "Warning: No connection between edge '-34966338' and edge '510193650#2' found.\n",
      "Warning: Mandatory edge '510193650#2' not reachable by vehicle 'h10_5560'.\n",
      "Warning: The vehicle 'h10_5560' has no valid route.\n",
      "Warning: No connection between edge '27774964' and edge '-367820007' found.\n",
      "Warning: Mandatory edge '-367820007' not reachable by vehicle 'h10_5833'.\n",
      "Warning: The vehicle 'h10_5833' has no valid route.\n"
     ]
    },
    {
     "name": "stdout",
     "output_type": "stream",
     "text": [
      "Reading up to time step: 37601.15\r"
     ]
    },
    {
     "name": "stderr",
     "output_type": "stream",
     "text": [
      "Warning: No connection between edge '112885039' and edge '47000204#9' found.\n",
      "Warning: Mandatory edge '47000204#9' not reachable by vehicle 'h10_6127'.\n",
      "Warning: The vehicle 'h10_6127' has no valid route.\n",
      "Warning: No connection between edge '-40016855#1' and edge '144160557#2' found.\n",
      "Warning: Mandatory edge '144160557#2' not reachable by vehicle 'h10_15622'.\n",
      "Warning: The vehicle 'h10_15622' has no valid route.\n",
      "Warning: No connection between edge '24257356' and edge '143962123#1' found.\n",
      "Warning: Mandatory edge '143962123#1' not reachable by vehicle 'h10_6322'.\n",
      "Warning: The vehicle 'h10_6322' has no valid route.\n",
      "Warning: No connection between edge '665644278' and edge '228129177#1' found.\n",
      "Warning: Mandatory edge '228129177#1' not reachable by vehicle 'h10_6425'.\n",
      "Warning: The vehicle 'h10_6425' has no valid route.\n"
     ]
    },
    {
     "name": "stdout",
     "output_type": "stream",
     "text": [
      "Reading up to time step: 37801.15\r"
     ]
    },
    {
     "name": "stderr",
     "output_type": "stream",
     "text": [
      "Warning: No connection between edge '124060633#1' and edge '24401794#3' found.\n",
      "Warning: Mandatory edge '24401794#3' not reachable by vehicle 'h10_6788'.\n",
      "Warning: The vehicle 'h10_6788' has no valid route.\n",
      "Warning: No connection between edge '688357782#1' and edge '-159082450' found.\n",
      "Warning: Mandatory edge '-159082450' not reachable by vehicle 'h10_7027'.\n",
      "Warning: The vehicle 'h10_7027' has no valid route.\n",
      "Warning: No connection between edge '64227542#1' and edge '689636461' found.\n",
      "Warning: Mandatory edge '689636461' not reachable by vehicle 'h10_7148'.\n",
      "Warning: The vehicle 'h10_7148' has no valid route.\n"
     ]
    },
    {
     "name": "stdout",
     "output_type": "stream",
     "text": [
      "Reading up to time step: 38001.15\r"
     ]
    },
    {
     "name": "stderr",
     "output_type": "stream",
     "text": [
      "Warning: No connection between edge '72056551#0' and edge '783551598' found.\n",
      "Warning: Mandatory edge '783551598' not reachable by vehicle 'h10_7478'.\n",
      "Warning: The vehicle 'h10_7478' has no valid route.\n",
      "Warning: No connection between edge '74128330#1' and edge '508821472' found.\n",
      "Warning: Mandatory edge '508821472' not reachable by vehicle 'h10_7746'.\n",
      "Warning: The vehicle 'h10_7746' has no valid route.\n"
     ]
    },
    {
     "name": "stdout",
     "output_type": "stream",
     "text": [
      "Reading up to time step: 38201.15\r"
     ]
    },
    {
     "name": "stderr",
     "output_type": "stream",
     "text": [
      "Warning: No connection between edge '135993922#5' and edge '281308645' found.\n",
      "Warning: Mandatory edge '281308645' not reachable by vehicle 'h10_8287'.\n",
      "Warning: The vehicle 'h10_8287' has no valid route.\n",
      "Warning: No connection between edge '-132333633#3' and edge '142428191' found.\n",
      "Warning: Mandatory edge '142428191' not reachable by vehicle 'h10_8326'.\n",
      "Warning: The vehicle 'h10_8326' has no valid route.\n",
      "Warning: No connection between edge '-263178323' and edge '143962120' found.\n",
      "Warning: Mandatory edge '143962120' not reachable by vehicle 'h10_8555'.\n",
      "Warning: The vehicle 'h10_8555' has no valid route.\n",
      "Warning: No connection between edge '-27152448' and edge '1159203435#0' found.\n",
      "Warning: Mandatory edge '1159203435#0' not reachable by vehicle 'h10_15673'.\n",
      "Warning: The vehicle 'h10_15673' has no valid route.\n",
      "Warning: No connection between edge '112732686#1' and edge '6312388#0' found.\n",
      "Warning: Mandatory edge '6312388#0' not reachable by vehicle 'h10_8635'.\n",
      "Warning: The vehicle 'h10_8635' has no valid route.\n",
      "Warning: No connection between edge '124060638#4' and edge '139964392#3' found.\n",
      "Warning: Mandatory edge '139964392#3' not reachable by vehicle 'h10_8644'.\n",
      "Warning: The vehicle 'h10_8644' has no valid route.\n",
      "Warning: No connection between edge '-71896681#2' and edge '-143962123#2' found.\n",
      "Warning: Mandatory edge '-143962123#2' not reachable by vehicle 'h10_8770'.\n",
      "Warning: The vehicle 'h10_8770' has no valid route.\n",
      "Warning: No connection between edge '133790680#1' and edge '510193683' found.\n",
      "Warning: Mandatory edge '510193683' not reachable by vehicle 'h10_8945'.\n",
      "Warning: The vehicle 'h10_8945' has no valid route.\n"
     ]
    },
    {
     "name": "stdout",
     "output_type": "stream",
     "text": [
      "Reading up to time step: 38401.15\r"
     ]
    },
    {
     "name": "stderr",
     "output_type": "stream",
     "text": [
      "Warning: No connection between edge '-1225580165' and edge '-510193683' found.\n",
      "Warning: Mandatory edge '-510193683' not reachable by vehicle 'h10_9033'.\n",
      "Warning: The vehicle 'h10_9033' has no valid route.\n",
      "Warning: No connection between edge '-675830188' and edge '281308645' found.\n",
      "Warning: Mandatory edge '281308645' not reachable by vehicle 'h10_9351'.\n",
      "Warning: The vehicle 'h10_9351' has no valid route.\n",
      "Warning: No connection between edge '171514120#1' and edge '510193650#5' found.\n",
      "Warning: Mandatory edge '510193650#5' not reachable by vehicle 'h10_9369'.\n",
      "Warning: The vehicle 'h10_9369' has no valid route.\n",
      "Warning: No connection between edge '-1035313831' and edge '617677088' found.\n",
      "Warning: Mandatory edge '617677088' not reachable by vehicle 'h10_16342'.\n",
      "Warning: The vehicle 'h10_16342' has no valid route.\n"
     ]
    },
    {
     "name": "stdout",
     "output_type": "stream",
     "text": [
      "Reading up to time step: 38601.15\r"
     ]
    },
    {
     "name": "stderr",
     "output_type": "stream",
     "text": [
      "Warning: No connection between edge '1308456867#0' and edge '411014372#1' found.\n",
      "Warning: Mandatory edge '411014372#1' not reachable by vehicle 'h10_10257'.\n",
      "Warning: The vehicle 'h10_10257' has no valid route.\n",
      "Warning: No connection between edge '47072533#1' and edge '1159203435#0' found.\n",
      "Warning: Mandatory edge '1159203435#0' not reachable by vehicle 'h10_10417'.\n",
      "Warning: The vehicle 'h10_10417' has no valid route.\n",
      "Warning: No connection between edge '1238064947' and edge '889503609' found.\n",
      "Warning: Mandatory edge '889503609' not reachable by vehicle 'h10_10604'.\n",
      "Warning: The vehicle 'h10_10604' has no valid route.\n"
     ]
    },
    {
     "name": "stdout",
     "output_type": "stream",
     "text": [
      "Reading up to time step: 38801.15\r"
     ]
    },
    {
     "name": "stderr",
     "output_type": "stream",
     "text": [
      "Warning: No connection between edge '71817030#0' and edge '-510193683' found.\n",
      "Warning: Mandatory edge '-510193683' not reachable by vehicle 'h10_10776'.\n",
      "Warning: The vehicle 'h10_10776' has no valid route.\n",
      "Warning: No connection between edge '-71441420' and edge '510193661' found.\n",
      "Warning: Mandatory edge '510193661' not reachable by vehicle 'h10_10992'.\n",
      "Warning: The vehicle 'h10_10992' has no valid route.\n",
      "Warning: No connection between edge '81113576' and edge '143962123#1' found.\n",
      "Warning: Mandatory edge '143962123#1' not reachable by vehicle 'h10_11023'.\n",
      "Warning: The vehicle 'h10_11023' has no valid route.\n",
      "Warning: No connection between edge '53188476#0' and edge '-510193683' found.\n",
      "Warning: Mandatory edge '-510193683' not reachable by vehicle 'h10_11568'.\n",
      "Warning: The vehicle 'h10_11568' has no valid route.\n"
     ]
    },
    {
     "name": "stdout",
     "output_type": "stream",
     "text": [
      "Reading up to time step: 39001.15\r"
     ]
    },
    {
     "name": "stderr",
     "output_type": "stream",
     "text": [
      "Warning: No connection between edge '99272299#0' and edge '367820007' found.\n",
      "Warning: Mandatory edge '367820007' not reachable by vehicle 'h10_11958'.\n",
      "Warning: The vehicle 'h10_11958' has no valid route.\n",
      "Warning: No connection between edge '342309846#0' and edge '889503609' found.\n",
      "Warning: Mandatory edge '889503609' not reachable by vehicle 'h10_11959'.\n",
      "Warning: The vehicle 'h10_11959' has no valid route.\n",
      "Warning: No connection between edge '74128330#1' and edge '187716104#2' found.\n",
      "Warning: Mandatory edge '187716104#2' not reachable by vehicle 'h10_11991'.\n",
      "Warning: The vehicle 'h10_11991' has no valid route.\n"
     ]
    },
    {
     "name": "stdout",
     "output_type": "stream",
     "text": [
      "Reading up to time step: 39201.15\r"
     ]
    },
    {
     "name": "stderr",
     "output_type": "stream",
     "text": [
      "Warning: No connection between edge '1367068984' and edge '65726767' found.\n",
      "Warning: Mandatory edge '65726767' not reachable by vehicle 'h10_12385'.\n",
      "Warning: The vehicle 'h10_12385' has no valid route.\n",
      "Warning: No connection between edge '-377991076#2' and edge '98338695' found.\n",
      "Warning: Mandatory edge '98338695' not reachable by vehicle 'h10_13164'.\n",
      "Warning: The vehicle 'h10_13164' has no valid route.\n"
     ]
    },
    {
     "name": "stdout",
     "output_type": "stream",
     "text": [
      "Reading up to time step: 39401.15\r"
     ]
    },
    {
     "name": "stderr",
     "output_type": "stream",
     "text": [
      "Warning: No connection between edge '503356965' and edge '-364298469#0' found.\n",
      "Warning: Mandatory edge '-364298469#0' not reachable by vehicle 'h10_13225'.\n",
      "Warning: The vehicle 'h10_13225' has no valid route.\n",
      "Warning: No connection between edge '1203882727#1' and edge '-437449398' found.\n",
      "Warning: Mandatory edge '-437449398' not reachable by vehicle 'h10_13406'.\n",
      "Warning: The vehicle 'h10_13406' has no valid route.\n",
      "Warning: No connection between edge '114960023' and edge '1060073977' found.\n",
      "Warning: Mandatory edge '1060073977' not reachable by vehicle 'h10_13990'.\n",
      "Warning: The vehicle 'h10_13990' has no valid route.\n"
     ]
    },
    {
     "name": "stdout",
     "output_type": "stream",
     "text": [
      "Reading up to time step: 39601.15\r"
     ]
    },
    {
     "name": "stderr",
     "output_type": "stream",
     "text": [
      "Warning: No connection between edge '-688357782#1' and edge '-70186981#0' found.\n",
      "Warning: Mandatory edge '-70186981#0' not reachable by vehicle 'h10_14401'.\n",
      "Warning: The vehicle 'h10_14401' has no valid route.\n",
      "Warning: No connection between edge '183741260' and edge '458289016' found.\n",
      "Warning: Mandatory edge '458289016' not reachable by vehicle 'h10_14408'.\n",
      "Warning: The vehicle 'h10_14408' has no valid route.\n"
     ]
    },
    {
     "name": "stdout",
     "output_type": "stream",
     "text": [
      "Reading up to time step: 39801.15\r"
     ]
    },
    {
     "name": "stderr",
     "output_type": "stream",
     "text": [
      "Warning: No connection between edge '780562172' and edge '225014573#0' found.\n",
      "Warning: Mandatory edge '225014573#0' not reachable by vehicle 'h11_314'.\n",
      "Warning: The vehicle 'h11_314' has no valid route.\n",
      "Warning: No connection between edge '397223642#1' and edge '510193665' found.\n",
      "Warning: Mandatory edge '510193665' not reachable by vehicle 'h11_645'.\n",
      "Warning: The vehicle 'h11_645' has no valid route.\n"
     ]
    },
    {
     "name": "stdout",
     "output_type": "stream",
     "text": [
      "Reading up to time step: 40001.15\r"
     ]
    },
    {
     "name": "stderr",
     "output_type": "stream",
     "text": [
      "Warning: No connection between edge '124060638#5' and edge '72065785#1' found.\n",
      "Warning: Mandatory edge '72065785#1' not reachable by vehicle 'h11_882'.\n",
      "Warning: The vehicle 'h11_882' has no valid route.\n",
      "Warning: No connection between edge '-34320039#2' and edge '62023728#1' found.\n",
      "Warning: Mandatory edge '62023728#1' not reachable by vehicle 'h11_994'.\n",
      "Warning: The vehicle 'h11_994' has no valid route.\n",
      "Warning: No connection between edge '108938544' and edge '1364726888' found.\n",
      "Warning: Mandatory edge '1364726888' not reachable by vehicle 'h11_2175'.\n",
      "Warning: The vehicle 'h11_2175' has no valid route.\n"
     ]
    },
    {
     "name": "stdout",
     "output_type": "stream",
     "text": [
      "Reading up to time step: 40401.15\r"
     ]
    },
    {
     "name": "stderr",
     "output_type": "stream",
     "text": [
      "Warning: No connection between edge '74128330#1' and edge '99272326' found.\n",
      "Warning: Mandatory edge '99272326' not reachable by vehicle 'h11_2392'.\n",
      "Warning: The vehicle 'h11_2392' has no valid route.\n",
      "Warning: No connection between edge '1120526449' and edge '98338695' found.\n",
      "Warning: Mandatory edge '98338695' not reachable by vehicle 'h11_2637'.\n",
      "Warning: The vehicle 'h11_2637' has no valid route.\n",
      "Warning: No connection between edge '-159245853#0' and edge '88119470' found.\n",
      "Warning: Mandatory edge '88119470' not reachable by vehicle 'h11_2912'.\n",
      "Warning: The vehicle 'h11_2912' has no valid route.\n",
      "Warning: No connection between edge '232788067#2' and edge '63676057#0' found.\n",
      "Warning: Mandatory edge '63676057#0' not reachable by vehicle 'h11_2933'.\n",
      "Warning: The vehicle 'h11_2933' has no valid route.\n",
      "Warning: No connection between edge '-50499696' and edge '-30281188#2' found.\n",
      "Warning: Mandatory edge '-30281188#2' not reachable by vehicle 'h11_2980'.\n",
      "Warning: The vehicle 'h11_2980' has no valid route.\n",
      "Warning: No connection between edge '-130864581#2' and edge '4387061#0' found.\n",
      "Warning: Mandatory edge '4387061#0' not reachable by vehicle 'h11_3548'.\n",
      "Warning: The vehicle 'h11_3548' has no valid route.\n"
     ]
    },
    {
     "name": "stdout",
     "output_type": "stream",
     "text": [
      "Reading up to time step: 40601.15\r"
     ]
    },
    {
     "name": "stderr",
     "output_type": "stream",
     "text": [
      "Warning: No connection between edge '-142525053#1' and edge '510193674' found.\n",
      "Warning: Mandatory edge '510193674' not reachable by vehicle 'h11_3746'.\n",
      "Warning: The vehicle 'h11_3746' has no valid route.\n",
      "Warning: No connection between edge '686445102#0' and edge '367820007' found.\n",
      "Warning: Mandatory edge '367820007' not reachable by vehicle 'h11_3758'.\n",
      "Warning: The vehicle 'h11_3758' has no valid route.\n",
      "Warning: No connection between edge '-27775098#1' and edge '143962123#0' found.\n",
      "Warning: Mandatory edge '143962123#0' not reachable by vehicle 'h11_3885'.\n",
      "Warning: The vehicle 'h11_3885' has no valid route.\n",
      "Warning: No connection between edge '-63672278' and edge '144160557#1' found.\n",
      "Warning: Mandatory edge '144160557#1' not reachable by vehicle 'h11_3902'.\n",
      "Warning: The vehicle 'h11_3902' has no valid route.\n"
     ]
    },
    {
     "name": "stdout",
     "output_type": "stream",
     "text": [
      "Reading up to time step: 40801.15\r"
     ]
    },
    {
     "name": "stderr",
     "output_type": "stream",
     "text": [
      "Warning: No connection between edge '124060638#6' and edge '-366469489#15' found.\n",
      "Warning: Mandatory edge '-366469489#15' not reachable by vehicle 'h11_4161'.\n",
      "Warning: The vehicle 'h11_4161' has no valid route.\n",
      "Warning: No connection between edge '142259303' and edge '510193683' found.\n",
      "Warning: Mandatory edge '510193683' not reachable by vehicle 'h11_4501'.\n",
      "Warning: The vehicle 'h11_4501' has no valid route.\n",
      "Warning: No connection between edge '-27769120#3' and edge '510193650#4' found.\n",
      "Warning: Mandatory edge '510193650#4' not reachable by vehicle 'h11_4627'.\n",
      "Warning: The vehicle 'h11_4627' has no valid route.\n",
      "Warning: No connection between edge '123743082#2' and edge '-510193680' found.\n",
      "Warning: Mandatory edge '-510193680' not reachable by vehicle 'h11_4673'.\n",
      "Warning: The vehicle 'h11_4673' has no valid route.\n"
     ]
    },
    {
     "name": "stdout",
     "output_type": "stream",
     "text": [
      "Reading up to time step: 41001.15\r"
     ]
    },
    {
     "name": "stderr",
     "output_type": "stream",
     "text": [
      "Warning: No connection between edge '108938544' and edge '34320039#2' found.\n",
      "Warning: Mandatory edge '34320039#2' not reachable by vehicle 'h11_4996'.\n",
      "Warning: The vehicle 'h11_4996' has no valid route.\n",
      "Warning: No connection between edge '793930821' and edge '236123650#1' found.\n",
      "Warning: Mandatory edge '236123650#1' not reachable by vehicle 'h11_5132'.\n",
      "Warning: The vehicle 'h11_5132' has no valid route.\n",
      "Warning: No connection between edge '-53347776#1' and edge '-378355994#2' found.\n",
      "Warning: Mandatory edge '-378355994#2' not reachable by vehicle 'h11_5179'.\n",
      "Warning: The vehicle 'h11_5179' has no valid route.\n",
      "Warning: No connection between edge '157765058' and edge '88119470' found.\n",
      "Warning: Mandatory edge '88119470' not reachable by vehicle 'h11_5269'.\n",
      "Warning: The vehicle 'h11_5269' has no valid route.\n",
      "Warning: No connection between edge '397636792#1' and edge '493061137' found.\n",
      "Warning: Mandatory edge '493061137' not reachable by vehicle 'h11_5433'.\n",
      "Warning: The vehicle 'h11_5433' has no valid route.\n",
      "Warning: No connection between edge '124060638#4' and edge '34960966#0' found.\n",
      "Warning: Mandatory edge '34960966#0' not reachable by vehicle 'h11_5596'.\n",
      "Warning: The vehicle 'h11_5596' has no valid route.\n",
      "Warning: No connection between edge '1091788508' and edge '-24256626' found.\n",
      "Warning: Mandatory edge '-24256626' not reachable by vehicle 'h11_5599'.\n",
      "Warning: The vehicle 'h11_5599' has no valid route.\n"
     ]
    },
    {
     "name": "stdout",
     "output_type": "stream",
     "text": [
      "Reading up to time step: 41201.15\r"
     ]
    },
    {
     "name": "stderr",
     "output_type": "stream",
     "text": [
      "Warning: No connection between edge '-61976425' and edge '689636461' found.\n",
      "Warning: Mandatory edge '689636461' not reachable by vehicle 'h11_6005'.\n",
      "Warning: The vehicle 'h11_6005' has no valid route.\n"
     ]
    },
    {
     "name": "stdout",
     "output_type": "stream",
     "text": [
      "Reading up to time step: 41401.15\r"
     ]
    },
    {
     "name": "stderr",
     "output_type": "stream",
     "text": [
      "Warning: No connection between edge '-235004926' and edge '510193680' found.\n",
      "Warning: Mandatory edge '510193680' not reachable by vehicle 'h11_15868'.\n",
      "Warning: The vehicle 'h11_15868' has no valid route.\n",
      "Warning: No connection between edge '467407832' and edge '1060073977' found.\n",
      "Warning: Mandatory edge '1060073977' not reachable by vehicle 'h11_6817'.\n",
      "Warning: The vehicle 'h11_6817' has no valid route.\n",
      "Warning: No connection between edge '-807445227#1' and edge '378355993' found.\n",
      "Warning: Mandatory edge '378355993' not reachable by vehicle 'h11_6832'.\n",
      "Warning: The vehicle 'h11_6832' has no valid route.\n",
      "Warning: No connection between edge '24490093#0' and edge '-367820004' found.\n",
      "Warning: Mandatory edge '-367820004' not reachable by vehicle 'h11_6842'.\n",
      "Warning: The vehicle 'h11_6842' has no valid route.\n",
      "Warning: No connection between edge '688357782#1' and edge '959788584#5' found.\n",
      "Warning: Mandatory edge '959788584#5' not reachable by vehicle 'h11_6892'.\n",
      "Warning: The vehicle 'h11_6892' has no valid route.\n",
      "Warning: No connection between edge '-329321831#2' and edge '-367820004' found.\n",
      "Warning: Mandatory edge '-367820004' not reachable by vehicle 'h11_7127'.\n",
      "Warning: The vehicle 'h11_7127' has no valid route.\n"
     ]
    },
    {
     "name": "stdout",
     "output_type": "stream",
     "text": [
      "Reading up to time step: 41601.15\r"
     ]
    },
    {
     "name": "stderr",
     "output_type": "stream",
     "text": [
      "Warning: No connection between edge '124060635' and edge '112732658' found.\n",
      "Warning: Mandatory edge '112732658' not reachable by vehicle 'h11_7452'.\n",
      "Warning: The vehicle 'h11_7452' has no valid route.\n",
      "Warning: No connection between edge '406234517#0' and edge '-971309434' found.\n",
      "Warning: Mandatory edge '-971309434' not reachable by vehicle 'h11_15069'.\n",
      "Warning: The vehicle 'h11_15069' has no valid route.\n",
      "Warning: No connection between edge '-81104336#2' and edge '-510193680' found.\n",
      "Warning: Mandatory edge '-510193680' not reachable by vehicle 'h11_7734'.\n",
      "Warning: The vehicle 'h11_7734' has no valid route.\n"
     ]
    },
    {
     "name": "stdout",
     "output_type": "stream",
     "text": [
      "Reading up to time step: 41801.15\r"
     ]
    },
    {
     "name": "stderr",
     "output_type": "stream",
     "text": [
      "Warning: No connection between edge '88119474#0' and edge '144160557#1' found.\n",
      "Warning: Mandatory edge '144160557#1' not reachable by vehicle 'h11_7992'.\n",
      "Warning: The vehicle 'h11_7992' has no valid route.\n",
      "Warning: No connection between edge '379806409#0' and edge '-143962120' found.\n",
      "Warning: Mandatory edge '-143962120' not reachable by vehicle 'h11_8394'.\n",
      "Warning: The vehicle 'h11_8394' has no valid route.\n",
      "Warning: No connection between edge '1308456867#0' and edge '383992418#0' found.\n",
      "Warning: Mandatory edge '383992418#0' not reachable by vehicle 'h11_8520'.\n",
      "Warning: The vehicle 'h11_8520' has no valid route.\n",
      "Warning: No connection between edge '118806581#0' and edge '144160557#0' found.\n",
      "Warning: Mandatory edge '144160557#0' not reachable by vehicle 'h11_8678'.\n",
      "Warning: The vehicle 'h11_8678' has no valid route.\n"
     ]
    },
    {
     "name": "stdout",
     "output_type": "stream",
     "text": [
      "Reading up to time step: 42001.15\r"
     ]
    },
    {
     "name": "stderr",
     "output_type": "stream",
     "text": [
      "Warning: No connection between edge '688357782#0' and edge '425958656#4' found.\n",
      "Warning: Mandatory edge '425958656#4' not reachable by vehicle 'h11_9064'.\n",
      "Warning: The vehicle 'h11_9064' has no valid route.\n",
      "Warning: No connection between edge '65413593' and edge '62023728#1' found.\n",
      "Warning: Mandatory edge '62023728#1' not reachable by vehicle 'h11_9151'.\n",
      "Warning: The vehicle 'h11_9151' has no valid route.\n",
      "Warning: No connection between edge '158422828#0' and edge '383076320' found.\n",
      "Warning: Mandatory edge '383076320' not reachable by vehicle 'h11_9357'.\n",
      "Warning: The vehicle 'h11_9357' has no valid route.\n"
     ]
    },
    {
     "name": "stdout",
     "output_type": "stream",
     "text": [
      "Reading up to time step: 42201.15\r"
     ]
    },
    {
     "name": "stderr",
     "output_type": "stream",
     "text": [
      "Warning: No connection between edge '1249423702#1' and edge '-330637561' found.\n",
      "Warning: Mandatory edge '-330637561' not reachable by vehicle 'h11_15722'.\n",
      "Warning: The vehicle 'h11_15722' has no valid route.\n",
      "Warning: No connection between edge '124060633#1' and edge '-187069050#1' found.\n",
      "Warning: Mandatory edge '-187069050#1' not reachable by vehicle 'h11_9468'.\n",
      "Warning: The vehicle 'h11_9468' has no valid route.\n",
      "Warning: No connection between edge '112885039' and edge '-138408473#3' found.\n",
      "Warning: Mandatory edge '-138408473#3' not reachable by vehicle 'h11_9731'.\n",
      "Warning: The vehicle 'h11_9731' has no valid route.\n",
      "Warning: No connection between edge '-373034796' and edge '-62023730' found.\n",
      "Warning: Mandatory edge '-62023730' not reachable by vehicle 'h11_9876'.\n",
      "Warning: The vehicle 'h11_9876' has no valid route.\n",
      "Warning: No connection between edge '124060635' and edge '-124388141#2' found.\n",
      "Warning: Mandatory edge '-124388141#2' not reachable by vehicle 'h11_10037'.\n",
      "Warning: The vehicle 'h11_10037' has no valid route.\n",
      "Warning: No connection between edge '-24257160' and edge '510193680' found.\n",
      "Warning: Mandatory edge '510193680' not reachable by vehicle 'h11_10110'.\n",
      "Warning: The vehicle 'h11_10110' has no valid route.\n",
      "Warning: No connection between edge '53255180' and edge '142428191' found.\n",
      "Warning: Mandatory edge '142428191' not reachable by vehicle 'h11_10643'.\n",
      "Warning: The vehicle 'h11_10643' has no valid route.\n"
     ]
    },
    {
     "name": "stdout",
     "output_type": "stream",
     "text": [
      "Reading up to time step: 42601.15\r"
     ]
    },
    {
     "name": "stderr",
     "output_type": "stream",
     "text": [
      "Warning: No connection between edge '1332793122' and edge '36983504#0' found.\n",
      "Warning: Mandatory edge '36983504#0' not reachable by vehicle 'h11_11492'.\n",
      "Warning: The vehicle 'h11_11492' has no valid route.\n",
      "Warning: No connection between edge '1332793122' and edge '-115628895#0' found.\n",
      "Warning: Mandatory edge '-115628895#0' not reachable by vehicle 'h11_11575'.\n",
      "Warning: The vehicle 'h11_11575' has no valid route.\n",
      "Warning: No connection between edge '183741260' and edge '-151710709#1' found.\n",
      "Warning: Mandatory edge '-151710709#1' not reachable by vehicle 'h11_11692'.\n",
      "Warning: The vehicle 'h11_11692' has no valid route.\n",
      "Warning: No connection between edge '1091788508' and edge '121131442#3' found.\n",
      "Warning: Mandatory edge '121131442#3' not reachable by vehicle 'h11_11712'.\n",
      "Warning: The vehicle 'h11_11712' has no valid route.\n",
      "Warning: No connection between edge '755332029#2' and edge '142428191' found.\n",
      "Warning: Mandatory edge '142428191' not reachable by vehicle 'h11_12169'.\n",
      "Warning: The vehicle 'h11_12169' has no valid route.\n"
     ]
    },
    {
     "name": "stdout",
     "output_type": "stream",
     "text": [
      "Reading up to time step: 42801.15\r"
     ]
    },
    {
     "name": "stderr",
     "output_type": "stream",
     "text": [
      "Warning: No connection between edge '-688357782#1' and edge '25331279#6' found.\n",
      "Warning: Mandatory edge '25331279#6' not reachable by vehicle 'h11_14618'.\n",
      "Warning: The vehicle 'h11_14618' has no valid route.\n",
      "Warning: No connection between edge '446955267' and edge '-543268810' found.\n",
      "Warning: Mandatory edge '-543268810' not reachable by vehicle 'h11_12528'.\n",
      "Warning: The vehicle 'h11_12528' has no valid route.\n"
     ]
    },
    {
     "name": "stdout",
     "output_type": "stream",
     "text": [
      "Reading up to time step: 43001.15\r"
     ]
    },
    {
     "name": "stderr",
     "output_type": "stream",
     "text": [
      "Warning: No connection between edge '124060638#5' and edge '-548551163' found.\n",
      "Warning: Mandatory edge '-548551163' not reachable by vehicle 'h11_12705'.\n",
      "Warning: The vehicle 'h11_12705' has no valid route.\n",
      "Warning: No connection between edge '-688357782#0' and edge '190574946#0' found.\n",
      "Warning: Mandatory edge '190574946#0' not reachable by vehicle 'h11_12880'.\n",
      "Warning: The vehicle 'h11_12880' has no valid route.\n",
      "Warning: No connection between edge '-53256206#4' and edge '689636461' found.\n",
      "Warning: Mandatory edge '689636461' not reachable by vehicle 'h11_13076'.\n",
      "Warning: The vehicle 'h11_13076' has no valid route.\n",
      "Warning: No connection between edge '210046866' and edge '156398858' found.\n",
      "Warning: Mandatory edge '156398858' not reachable by vehicle 'h11_13113'.\n",
      "Warning: The vehicle 'h11_13113' has no valid route.\n",
      "Warning: No connection between edge '-49895889#0' and edge '899788866' found.\n",
      "Warning: Mandatory edge '899788866' not reachable by vehicle 'h11_14632'.\n",
      "Warning: The vehicle 'h11_14632' has no valid route.\n"
     ]
    },
    {
     "name": "stdout",
     "output_type": "stream",
     "text": [
      "Reading up to time step: 43201.15\r"
     ]
    },
    {
     "name": "stderr",
     "output_type": "stream",
     "text": [
      "Warning: No connection between edge '27773241#2' and edge '-143962123#2' found.\n",
      "Warning: Mandatory edge '-143962123#2' not reachable by vehicle 'h11_13434'.\n",
      "Warning: The vehicle 'h11_13434' has no valid route.\n",
      "Warning: No connection between edge '220075133#2' and edge '-30281188#2' found.\n",
      "Warning: Mandatory edge '-30281188#2' not reachable by vehicle 'h12_132'.\n",
      "Warning: The vehicle 'h12_132' has no valid route.\n"
     ]
    },
    {
     "name": "stdout",
     "output_type": "stream",
     "text": [
      "Reading up to time step: 43401.15\r"
     ]
    },
    {
     "name": "stderr",
     "output_type": "stream",
     "text": [
      "Warning: No connection between edge '24386965#3' and edge '689636461' found.\n",
      "Warning: Mandatory edge '689636461' not reachable by vehicle 'h12_192'.\n",
      "Warning: The vehicle 'h12_192' has no valid route.\n",
      "Warning: No connection between edge '138601276#2' and edge '510193650#3' found.\n",
      "Warning: Mandatory edge '510193650#3' not reachable by vehicle 'h12_325'.\n",
      "Warning: The vehicle 'h12_325' has no valid route.\n",
      "Warning: No connection between edge '6528351#0' and edge '367820004' found.\n",
      "Warning: Mandatory edge '367820004' not reachable by vehicle 'h12_426'.\n",
      "Warning: The vehicle 'h12_426' has no valid route.\n",
      "Warning: No connection between edge '-925261618' and edge '-925261658#1' found.\n",
      "Warning: Mandatory edge '-925261658#1' not reachable by vehicle 'h12_1009'.\n",
      "Warning: The vehicle 'h12_1009' has no valid route.\n"
     ]
    },
    {
     "name": "stdout",
     "output_type": "stream",
     "text": [
      "Reading up to time step: 43601.15\r"
     ]
    },
    {
     "name": "stderr",
     "output_type": "stream",
     "text": [
      "Warning: No connection between edge '688357782#0' and edge '-1312989503#0' found.\n",
      "Warning: Mandatory edge '-1312989503#0' not reachable by vehicle 'h12_1090'.\n",
      "Warning: The vehicle 'h12_1090' has no valid route.\n",
      "Warning: No connection between edge '24386855' and edge '386307421#1' found.\n",
      "Warning: Mandatory edge '386307421#1' not reachable by vehicle 'h12_1193'.\n",
      "Warning: The vehicle 'h12_1193' has no valid route.\n",
      "Warning: No connection between edge '71570226#1' and edge '446955265' found.\n",
      "Warning: Mandatory edge '446955265' not reachable by vehicle 'h12_1279'.\n",
      "Warning: The vehicle 'h12_1279' has no valid route.\n",
      "Warning: No connection between edge '503356965' and edge '-161387439#1' found.\n",
      "Warning: Mandatory edge '-161387439#1' not reachable by vehicle 'h12_1382'.\n",
      "Warning: The vehicle 'h12_1382' has no valid route.\n",
      "Warning: No connection between edge '688357782#1' and edge '35201175' found.\n",
      "Warning: Mandatory edge '35201175' not reachable by vehicle 'h12_1510'.\n",
      "Warning: The vehicle 'h12_1510' has no valid route.\n",
      "Warning: No connection between edge '377158196' and edge '-62023730' found.\n",
      "Warning: Mandatory edge '-62023730' not reachable by vehicle 'h12_18905'.\n",
      "Warning: The vehicle 'h12_18905' has no valid route.\n",
      "Warning: No connection between edge '113842627' and edge '666070226#0' found.\n",
      "Warning: Mandatory edge '666070226#0' not reachable by vehicle 'h12_1858'.\n",
      "Warning: The vehicle 'h12_1858' has no valid route.\n",
      "Warning: No connection between edge '6313126#0' and edge '62023728#1' found.\n",
      "Warning: Mandatory edge '62023728#1' not reachable by vehicle 'h12_1941'.\n",
      "Warning: The vehicle 'h12_1941' has no valid route.\n"
     ]
    },
    {
     "name": "stdout",
     "output_type": "stream",
     "text": [
      "Reading up to time step: 43801.15\r"
     ]
    },
    {
     "name": "stderr",
     "output_type": "stream",
     "text": [
      "Warning: No connection between edge '24257875' and edge '-112885002#1' found.\n",
      "Warning: Mandatory edge '-112885002#1' not reachable by vehicle 'h12_2030'.\n",
      "Warning: The vehicle 'h12_2030' has no valid route.\n",
      "Warning: No connection between edge '493061137' and edge '49895896#0' found.\n",
      "Warning: Mandatory edge '49895896#0' not reachable by vehicle 'h12_2510'.\n",
      "Warning: The vehicle 'h12_2510' has no valid route.\n",
      "Warning: No connection between edge '312397086' and edge '510193650#5' found.\n",
      "Warning: Mandatory edge '510193650#5' not reachable by vehicle 'h12_2789'.\n",
      "Warning: The vehicle 'h12_2789' has no valid route.\n",
      "Warning: No connection between edge '1335105378' and edge '24387846' found.\n",
      "Warning: Mandatory edge '24387846' not reachable by vehicle 'h12_2841'.\n",
      "Warning: The vehicle 'h12_2841' has no valid route.\n"
     ]
    },
    {
     "name": "stdout",
     "output_type": "stream",
     "text": [
      "Reading up to time step: 44001.15\r"
     ]
    },
    {
     "name": "stderr",
     "output_type": "stream",
     "text": [
      "Warning: No connection between edge '-793930821' and edge '122372052#1' found.\n",
      "Warning: Mandatory edge '122372052#1' not reachable by vehicle 'h12_3183'.\n",
      "Warning: The vehicle 'h12_3183' has no valid route.\n",
      "Warning: No connection between edge '4448365#2' and edge '-82286804#1' found.\n",
      "Warning: Mandatory edge '-82286804#1' not reachable by vehicle 'h12_18180'.\n",
      "Warning: The vehicle 'h12_18180' has no valid route.\n",
      "Warning: No connection between edge '24376670' and edge '161432888' found.\n",
      "Warning: Mandatory edge '161432888' not reachable by vehicle 'h12_3627'.\n",
      "Warning: The vehicle 'h12_3627' has no valid route.\n",
      "Warning: No connection between edge '65561786#0' and edge '-188649571' found.\n",
      "Warning: Mandatory edge '-188649571' not reachable by vehicle 'h12_3727'.\n",
      "Warning: The vehicle 'h12_3727' has no valid route.\n"
     ]
    },
    {
     "name": "stdout",
     "output_type": "stream",
     "text": [
      "Reading up to time step: 44201.15\r"
     ]
    },
    {
     "name": "stderr",
     "output_type": "stream",
     "text": [
      "Warning: No connection between edge '150925676' and edge '-213141703#0' found.\n",
      "Warning: Mandatory edge '-213141703#0' not reachable by vehicle 'h12_3804'.\n",
      "Warning: The vehicle 'h12_3804' has no valid route.\n",
      "Warning: No connection between edge '-115668961#1' and edge '378355993' found.\n",
      "Warning: Mandatory edge '378355993' not reachable by vehicle 'h12_3932'.\n",
      "Warning: The vehicle 'h12_3932' has no valid route.\n",
      "Warning: No connection between edge '112885039' and edge '142146283#0' found.\n",
      "Warning: Mandatory edge '142146283#0' not reachable by vehicle 'h12_4604'.\n",
      "Warning: The vehicle 'h12_4604' has no valid route.\n"
     ]
    },
    {
     "name": "stdout",
     "output_type": "stream",
     "text": [
      "Reading up to time step: 44401.15\r"
     ]
    },
    {
     "name": "stderr",
     "output_type": "stream",
     "text": [
      "Warning: No connection between edge '780562172' and edge '24374743#0' found.\n",
      "Warning: Mandatory edge '24374743#0' not reachable by vehicle 'h12_4768'.\n",
      "Warning: The vehicle 'h12_4768' has no valid route.\n",
      "Warning: No connection between edge '1013192830' and edge '-510193680' found.\n",
      "Warning: Mandatory edge '-510193680' not reachable by vehicle 'h12_18970'.\n",
      "Warning: The vehicle 'h12_18970' has no valid route.\n",
      "Warning: No connection between edge '49040116' and edge '142428191' found.\n",
      "Warning: Mandatory edge '142428191' not reachable by vehicle 'h12_5410'.\n",
      "Warning: The vehicle 'h12_5410' has no valid route.\n",
      "Warning: No connection between edge '24257165' and edge '-30281188#2' found.\n",
      "Warning: Mandatory edge '-30281188#2' not reachable by vehicle 'h12_6198'.\n",
      "Warning: The vehicle 'h12_6198' has no valid route.\n"
     ]
    },
    {
     "name": "stdout",
     "output_type": "stream",
     "text": [
      "Reading up to time step: 44601.15\r"
     ]
    },
    {
     "name": "stderr",
     "output_type": "stream",
     "text": [
      "Warning: No connection between edge '-182018380#0' and edge '167692614#0' found.\n",
      "Warning: Mandatory edge '167692614#0' not reachable by vehicle 'h12_6254'.\n",
      "Warning: The vehicle 'h12_6254' has no valid route.\n",
      "Warning: No connection between edge '736485781' and edge '988602502' found.\n",
      "Warning: Mandatory edge '988602502' not reachable by vehicle 'h12_17066'.\n",
      "Warning: The vehicle 'h12_17066' has no valid route.\n",
      "Warning: No connection between edge '-165240626' and edge '510193650#4' found.\n",
      "Warning: Mandatory edge '510193650#4' not reachable by vehicle 'h12_6402'.\n",
      "Warning: The vehicle 'h12_6402' has no valid route.\n",
      "Warning: No connection between edge '135028491' and edge '144160547' found.\n",
      "Warning: Mandatory edge '144160547' not reachable by vehicle 'h12_6592'.\n",
      "Warning: The vehicle 'h12_6592' has no valid route.\n"
     ]
    },
    {
     "name": "stdout",
     "output_type": "stream",
     "text": [
      "Reading up to time step: 44801.15\r"
     ]
    },
    {
     "name": "stderr",
     "output_type": "stream",
     "text": [
      "Warning: No connection between edge '166718026#0' and edge '691979641#0' found.\n",
      "Warning: Mandatory edge '691979641#0' not reachable by vehicle 'h12_17079'.\n",
      "Warning: The vehicle 'h12_17079' has no valid route.\n",
      "Warning: No connection between edge '-221050521#1' and edge '88119470' found.\n",
      "Warning: Mandatory edge '88119470' not reachable by vehicle 'h12_6999'.\n",
      "Warning: The vehicle 'h12_6999' has no valid route.\n",
      "Warning: No connection between edge '125483126#6' and edge '4387061#0' found.\n",
      "Warning: Mandatory edge '4387061#0' not reachable by vehicle 'h12_7166'.\n",
      "Warning: The vehicle 'h12_7166' has no valid route.\n",
      "Warning: No connection between edge '150925676' and edge '-83904976#1' found.\n",
      "Warning: Mandatory edge '-83904976#1' not reachable by vehicle 'h12_17089'.\n",
      "Warning: The vehicle 'h12_17089' has no valid route.\n"
     ]
    },
    {
     "name": "stdout",
     "output_type": "stream",
     "text": [
      "Reading up to time step: 45001.15\r"
     ]
    },
    {
     "name": "stderr",
     "output_type": "stream",
     "text": [
      "Warning: No connection between edge '925261618' and edge '436070545#1' found.\n",
      "Warning: Mandatory edge '436070545#1' not reachable by vehicle 'h12_7797'.\n",
      "Warning: The vehicle 'h12_7797' has no valid route.\n",
      "Warning: No connection between edge '1167555553#1' and edge '62023740' found.\n",
      "Warning: Mandatory edge '62023740' not reachable by vehicle 'h12_8185'.\n",
      "Warning: The vehicle 'h12_8185' has no valid route.\n",
      "Warning: No connection between edge '48996833#2' and edge '493061137' found.\n",
      "Warning: Mandatory edge '493061137' not reachable by vehicle 'h12_8326'.\n",
      "Warning: The vehicle 'h12_8326' has no valid route.\n"
     ]
    },
    {
     "name": "stdout",
     "output_type": "stream",
     "text": [
      "Reading up to time step: 45201.15\r"
     ]
    },
    {
     "name": "stderr",
     "output_type": "stream",
     "text": [
      "Warning: No connection between edge '219780145#0' and edge '143962120' found.\n",
      "Warning: Mandatory edge '143962120' not reachable by vehicle 'h12_8801'.\n",
      "Warning: The vehicle 'h12_8801' has no valid route.\n",
      "Warning: No connection between edge '1335105378' and edge '503310265' found.\n",
      "Warning: Mandatory edge '503310265' not reachable by vehicle 'h12_8919'.\n",
      "Warning: The vehicle 'h12_8919' has no valid route.\n",
      "Warning: No connection between edge '25347932' and edge '4387061#0' found.\n",
      "Warning: Mandatory edge '4387061#0' not reachable by vehicle 'h12_18771'.\n",
      "Warning: The vehicle 'h12_18771' has no valid route.\n",
      "Warning: No connection between edge '1335105378' and edge '53254125#0' found.\n",
      "Warning: Mandatory edge '53254125#0' not reachable by vehicle 'h12_9440'.\n",
      "Warning: The vehicle 'h12_9440' has no valid route.\n"
     ]
    },
    {
     "name": "stdout",
     "output_type": "stream",
     "text": [
      "Reading up to time step: 45401.15\r"
     ]
    },
    {
     "name": "stderr",
     "output_type": "stream",
     "text": [
      "Warning: No connection between edge '-81113591#1' and edge '889503609' found.\n",
      "Warning: Mandatory edge '889503609' not reachable by vehicle 'h12_9755'.\n",
      "Warning: The vehicle 'h12_9755' has no valid route.\n",
      "Warning: No connection between edge '754344787#0' and edge '386307421#1' found.\n",
      "Warning: Mandatory edge '386307421#1' not reachable by vehicle 'h12_10017'.\n",
      "Warning: The vehicle 'h12_10017' has no valid route.\n"
     ]
    },
    {
     "name": "stdout",
     "output_type": "stream",
     "text": [
      "Reading up to time step: 45601.15\r"
     ]
    },
    {
     "name": "stderr",
     "output_type": "stream",
     "text": [
      "Warning: No connection between edge '1335105378' and edge '114941441' found.\n",
      "Warning: Mandatory edge '114941441' not reachable by vehicle 'h12_10470'.\n",
      "Warning: The vehicle 'h12_10470' has no valid route.\n",
      "Warning: No connection between edge '176391644#1' and edge '378355993' found.\n",
      "Warning: Mandatory edge '378355993' not reachable by vehicle 'h12_19274'.\n",
      "Warning: The vehicle 'h12_19274' has no valid route.\n",
      "Warning: No connection between edge '1332793122' and edge '761333543' found.\n",
      "Warning: Mandatory edge '761333543' not reachable by vehicle 'h12_11158'.\n",
      "Warning: The vehicle 'h12_11158' has no valid route.\n"
     ]
    },
    {
     "name": "stdout",
     "output_type": "stream",
     "text": [
      "Reading up to time step: 45801.15\r"
     ]
    },
    {
     "name": "stderr",
     "output_type": "stream",
     "text": [
      "Warning: No connection between edge '793930821' and edge '-114941448' found.\n",
      "Warning: Mandatory edge '-114941448' not reachable by vehicle 'h12_11298'.\n",
      "Warning: The vehicle 'h12_11298' has no valid route.\n",
      "Warning: No connection between edge '493061137' and edge '1361683966' found.\n",
      "Warning: Mandatory edge '1361683966' not reachable by vehicle 'h12_11322'.\n",
      "Warning: The vehicle 'h12_11322' has no valid route.\n",
      "Warning: No connection between edge '232788067#2' and edge '162097596#2' found.\n",
      "Warning: Mandatory edge '162097596#2' not reachable by vehicle 'h12_11434'.\n",
      "Warning: The vehicle 'h12_11434' has no valid route.\n",
      "Warning: No connection between edge '112765943#0' and edge '281308645' found.\n",
      "Warning: Mandatory edge '281308645' not reachable by vehicle 'h12_11484'.\n",
      "Warning: The vehicle 'h12_11484' has no valid route.\n",
      "Warning: No connection between edge '-281308645' and edge '144834997' found.\n",
      "Warning: Mandatory edge '144834997' not reachable by vehicle 'h12_11555'.\n",
      "Warning: The vehicle 'h12_11555' has no valid route.\n",
      "Warning: No connection between edge '506802817' and edge '510193635#1' found.\n",
      "Warning: Mandatory edge '510193635#1' not reachable by vehicle 'h12_11614'.\n",
      "Warning: The vehicle 'h12_11614' has no valid route.\n",
      "Warning: No connection between edge '691423376#0' and edge '425702644' found.\n",
      "Warning: Mandatory edge '425702644' not reachable by vehicle 'h12_18355'.\n",
      "Warning: The vehicle 'h12_18355' has no valid route.\n",
      "Warning: No connection between edge '-53333958' and edge '-367820004' found.\n",
      "Warning: Mandatory edge '-367820004' not reachable by vehicle 'h12_11666'.\n",
      "Warning: The vehicle 'h12_11666' has no valid route.\n",
      "Warning: No connection between edge '24376019#6' and edge '-112885002#0' found.\n",
      "Warning: Mandatory edge '-112885002#0' not reachable by vehicle 'h12_11787'.\n",
      "Warning: The vehicle 'h12_11787' has no valid route.\n",
      "Warning: No connection between edge '-99272314#3' and edge '510193661' found.\n",
      "Warning: Mandatory edge '510193661' not reachable by vehicle 'h12_12085'.\n",
      "Warning: The vehicle 'h12_12085' has no valid route.\n"
     ]
    },
    {
     "name": "stdout",
     "output_type": "stream",
     "text": [
      "Reading up to time step: 46001.15\r"
     ]
    },
    {
     "name": "stderr",
     "output_type": "stream",
     "text": [
      "Warning: No connection between edge '176586522' and edge '1367068968' found.\n",
      "Warning: Mandatory edge '1367068968' not reachable by vehicle 'h12_12522'.\n",
      "Warning: The vehicle 'h12_12522' has no valid route.\n",
      "Warning: No connection between edge '124060635' and edge '209232465' found.\n",
      "Warning: Mandatory edge '209232465' not reachable by vehicle 'h12_12619'.\n",
      "Warning: The vehicle 'h12_12619' has no valid route.\n",
      "Warning: No connection between edge '-103261611#1' and edge '-396763813#1' found.\n",
      "Warning: Mandatory edge '-396763813#1' not reachable by vehicle 'h12_18377'.\n",
      "Warning: The vehicle 'h12_18377' has no valid route.\n",
      "Warning: No connection between edge '665644278' and edge '783444908' found.\n",
      "Warning: Mandatory edge '783444908' not reachable by vehicle 'h12_12689'.\n",
      "Warning: The vehicle 'h12_12689' has no valid route.\n",
      "Warning: No connection between edge '3627710' and edge '62023730' found.\n",
      "Warning: Mandatory edge '62023730' not reachable by vehicle 'h12_12691'.\n",
      "Warning: The vehicle 'h12_12691' has no valid route.\n",
      "Warning: No connection between edge '167693688' and edge '144160557#2' found.\n",
      "Warning: Mandatory edge '144160557#2' not reachable by vehicle 'h12_12733'.\n",
      "Warning: The vehicle 'h12_12733' has no valid route.\n",
      "Warning: No connection between edge '150925676' and edge '-53839268#0' found.\n",
      "Warning: Mandatory edge '-53839268#0' not reachable by vehicle 'h12_12757'.\n",
      "Warning: The vehicle 'h12_12757' has no valid route.\n",
      "Warning: No connection between edge '108938544' and edge '191684323' found.\n",
      "Warning: Mandatory edge '191684323' not reachable by vehicle 'h12_12868'.\n",
      "Warning: The vehicle 'h12_12868' has no valid route.\n",
      "Warning: No connection between edge '1367068984' and edge '-295372578#0' found.\n",
      "Warning: Mandatory edge '-295372578#0' not reachable by vehicle 'h12_12879'.\n",
      "Warning: The vehicle 'h12_12879' has no valid route.\n",
      "Warning: No connection between edge '832175439#0' and edge '510193661' found.\n",
      "Warning: Mandatory edge '510193661' not reachable by vehicle 'h12_13157'.\n",
      "Warning: The vehicle 'h12_13157' has no valid route.\n"
     ]
    },
    {
     "name": "stdout",
     "output_type": "stream",
     "text": [
      "Reading up to time step: 46201.15\r"
     ]
    },
    {
     "name": "stderr",
     "output_type": "stream",
     "text": [
      "Warning: No connection between edge '108938544' and edge '120692100' found.\n",
      "Warning: Mandatory edge '120692100' not reachable by vehicle 'h12_13272'.\n",
      "Warning: The vehicle 'h12_13272' has no valid route.\n",
      "Warning: No connection between edge '82286890' and edge '1351817910' found.\n",
      "Warning: Mandatory edge '1351817910' not reachable by vehicle 'h12_13651'.\n",
      "Warning: The vehicle 'h12_13651' has no valid route.\n",
      "Warning: No connection between edge '175854458#0' and edge '767313244' found.\n",
      "Warning: Mandatory edge '767313244' not reachable by vehicle 'h12_13749'.\n",
      "Warning: The vehicle 'h12_13749' has no valid route.\n",
      "Warning: No connection between edge '53144408' and edge '1367068968' found.\n",
      "Warning: Mandatory edge '1367068968' not reachable by vehicle 'h12_14124'.\n",
      "Warning: The vehicle 'h12_14124' has no valid route.\n"
     ]
    },
    {
     "name": "stdout",
     "output_type": "stream",
     "text": [
      "Reading up to time step: 46601.15\r"
     ]
    },
    {
     "name": "stderr",
     "output_type": "stream",
     "text": [
      "Warning: No connection between edge '1203882727#1' and edge '423013660#0' found.\n",
      "Warning: Mandatory edge '423013660#0' not reachable by vehicle 'h12_15091'.\n",
      "Warning: The vehicle 'h12_15091' has no valid route.\n",
      "Warning: No connection between edge '-6559944#4' and edge '367820004' found.\n",
      "Warning: Mandatory edge '367820004' not reachable by vehicle 'h12_15245'.\n",
      "Warning: The vehicle 'h12_15245' has no valid route.\n",
      "Warning: No connection between edge '288267830' and edge '-144160557#1' found.\n",
      "Warning: Mandatory edge '-144160557#1' not reachable by vehicle 'h12_15637'.\n",
      "Warning: The vehicle 'h12_15637' has no valid route.\n",
      "Warning: No connection between edge '-114941447' and edge '-143962123#0' found.\n",
      "Warning: Mandatory edge '-143962123#0' not reachable by vehicle 'h12_15775'.\n",
      "Warning: The vehicle 'h12_15775' has no valid route.\n",
      "Warning: No connection between edge '-925261618' and edge '-233964765#1' found.\n",
      "Warning: Mandatory edge '-233964765#1' not reachable by vehicle 'h12_15786'.\n",
      "Warning: The vehicle 'h12_15786' has no valid route.\n",
      "Warning: No connection between edge '-626372178#1' and edge '783551598' found.\n",
      "Warning: Mandatory edge '783551598' not reachable by vehicle 'h12_15859'.\n",
      "Warning: The vehicle 'h12_15859' has no valid route.\n"
     ]
    },
    {
     "name": "stdout",
     "output_type": "stream",
     "text": [
      "Reading up to time step: 46801.15\r"
     ]
    },
    {
     "name": "stderr",
     "output_type": "stream",
     "text": [
      "Warning: No connection between edge '379562877#3' and edge '143962123#2' found.\n",
      "Warning: Mandatory edge '143962123#2' not reachable by vehicle 'h12_16204'.\n",
      "Warning: The vehicle 'h12_16204' has no valid route.\n",
      "Warning: No connection between edge '165250097#1' and edge '281308645' found.\n",
      "Warning: Mandatory edge '281308645' not reachable by vehicle 'h12_16264'.\n",
      "Warning: The vehicle 'h12_16264' has no valid route.\n",
      "Warning: No connection between edge '161026496#1' and edge '-510193680' found.\n",
      "Warning: Mandatory edge '-510193680' not reachable by vehicle 'h12_16374'.\n",
      "Warning: The vehicle 'h12_16374' has no valid route.\n",
      "Warning: No connection between edge '49039551#0' and edge '-510193680' found.\n",
      "Warning: Mandatory edge '-510193680' not reachable by vehicle 'h12_16537'.\n",
      "Warning: The vehicle 'h12_16537' has no valid route.\n",
      "Warning: No connection between edge '40140278#1' and edge '88119470' found.\n",
      "Warning: Mandatory edge '88119470' not reachable by vehicle 'h12_16624'.\n",
      "Warning: The vehicle 'h12_16624' has no valid route.\n",
      "Warning: No connection between edge '1091788508' and edge '27769586#6' found.\n",
      "Warning: Mandatory edge '27769586#6' not reachable by vehicle 'h12_16774'.\n",
      "Warning: The vehicle 'h12_16774' has no valid route.\n",
      "Warning: No connection between edge '436967666#0' and edge '88119470' found.\n",
      "Warning: Mandatory edge '88119470' not reachable by vehicle 'h13_211'.\n",
      "Warning: The vehicle 'h13_211' has no valid route.\n"
     ]
    },
    {
     "name": "stdout",
     "output_type": "stream",
     "text": [
      "Reading up to time step: 47001.15\r"
     ]
    },
    {
     "name": "stderr",
     "output_type": "stream",
     "text": [
      "Warning: No connection between edge '793930821' and edge '34966853' found.\n",
      "Warning: Mandatory edge '34966853' not reachable by vehicle 'h13_288'.\n",
      "Warning: The vehicle 'h13_288' has no valid route.\n",
      "Warning: No connection between edge '71341927#0' and edge '6312388#0' found.\n",
      "Warning: Mandatory edge '6312388#0' not reachable by vehicle 'h13_676'.\n",
      "Warning: The vehicle 'h13_676' has no valid route.\n",
      "Warning: No connection between edge '53331623' and edge '383076320' found.\n",
      "Warning: Mandatory edge '383076320' not reachable by vehicle 'h13_750'.\n",
      "Warning: The vehicle 'h13_750' has no valid route.\n"
     ]
    },
    {
     "name": "stdout",
     "output_type": "stream",
     "text": [
      "Reading up to time step: 47201.15\r"
     ]
    },
    {
     "name": "stderr",
     "output_type": "stream",
     "text": [
      "Warning: No connection between edge '144252627#0' and edge '-144160557#2' found.\n",
      "Warning: Mandatory edge '-144160557#2' not reachable by vehicle 'h13_944'.\n",
      "Warning: The vehicle 'h13_944' has no valid route.\n",
      "Warning: No connection between edge '-165251009#1' and edge '9093831' found.\n",
      "Warning: Mandatory edge '9093831' not reachable by vehicle 'h13_17553'.\n",
      "Warning: The vehicle 'h13_17553' has no valid route.\n",
      "Warning: No connection between edge '82286890' and edge '434130035' found.\n",
      "Warning: Mandatory edge '434130035' not reachable by vehicle 'h13_1018'.\n",
      "Warning: The vehicle 'h13_1018' has no valid route.\n",
      "Warning: No connection between edge '1367068984' and edge '131817658' found.\n",
      "Warning: Mandatory edge '131817658' not reachable by vehicle 'h13_1048'.\n",
      "Warning: The vehicle 'h13_1048' has no valid route.\n",
      "Warning: No connection between edge '112885039' and edge '53331918#0' found.\n",
      "Warning: Mandatory edge '53331918#0' not reachable by vehicle 'h13_1081'.\n",
      "Warning: The vehicle 'h13_1081' has no valid route.\n",
      "Warning: No connection between edge '750675621#4' and edge '143962123#1' found.\n",
      "Warning: Mandatory edge '143962123#1' not reachable by vehicle 'h13_18322'.\n",
      "Warning: The vehicle 'h13_18322' has no valid route.\n",
      "Warning: No connection between edge '-683571006' and edge '767313244' found.\n",
      "Warning: Mandatory edge '767313244' not reachable by vehicle 'h13_1210'.\n",
      "Warning: The vehicle 'h13_1210' has no valid route.\n",
      "Warning: No connection between edge '1367068984' and edge '120926551#3' found.\n",
      "Warning: Mandatory edge '120926551#3' not reachable by vehicle 'h13_1243'.\n",
      "Warning: The vehicle 'h13_1243' has no valid route.\n",
      "Warning: No connection between edge '-130541447#1' and edge '281308645' found.\n",
      "Warning: Mandatory edge '281308645' not reachable by vehicle 'h13_1339'.\n",
      "Warning: The vehicle 'h13_1339' has no valid route.\n"
     ]
    },
    {
     "name": "stdout",
     "output_type": "stream",
     "text": [
      "Reading up to time step: 47401.15\r"
     ]
    },
    {
     "name": "stderr",
     "output_type": "stream",
     "text": [
      "Warning: No connection between edge '610292358#0' and edge '510193674' found.\n",
      "Warning: Mandatory edge '510193674' not reachable by vehicle 'h13_17701'.\n",
      "Warning: The vehicle 'h13_17701' has no valid route.\n",
      "Warning: No connection between edge '46961141#0' and edge '144160557#0' found.\n",
      "Warning: Mandatory edge '144160557#0' not reachable by vehicle 'h13_2368'.\n",
      "Warning: The vehicle 'h13_2368' has no valid route.\n",
      "Warning: No connection between edge '226740635' and edge '510193665' found.\n",
      "Warning: Mandatory edge '510193665' not reachable by vehicle 'h13_2504'.\n",
      "Warning: The vehicle 'h13_2504' has no valid route.\n",
      "Warning: No connection between edge '-114391033' and edge '510193650#2' found.\n",
      "Warning: Mandatory edge '510193650#2' not reachable by vehicle 'h13_2797'.\n",
      "Warning: The vehicle 'h13_2797' has no valid route.\n"
     ]
    },
    {
     "name": "stdout",
     "output_type": "stream",
     "text": [
      "Reading up to time step: 47601.15\r"
     ]
    },
    {
     "name": "stderr",
     "output_type": "stream",
     "text": [
      "Warning: No connection between edge '141815670#0' and edge '-144160557#2' found.\n",
      "Warning: Mandatory edge '-144160557#2' not reachable by vehicle 'h13_2841'.\n",
      "Warning: The vehicle 'h13_2841' has no valid route.\n",
      "Warning: No connection between edge '-24949352#1' and edge '1097309372' found.\n",
      "Warning: Mandatory edge '1097309372' not reachable by vehicle 'h13_16894'.\n",
      "Warning: The vehicle 'h13_16894' has no valid route.\n",
      "Warning: No connection between edge '-53189477#1' and edge '510193680' found.\n",
      "Warning: Mandatory edge '510193680' not reachable by vehicle 'h13_3079'.\n",
      "Warning: The vehicle 'h13_3079' has no valid route.\n",
      "Warning: No connection between edge '-96717445' and edge '247667818#0' found.\n",
      "Warning: Mandatory edge '247667818#0' not reachable by vehicle 'h13_17725'.\n",
      "Warning: The vehicle 'h13_17725' has no valid route.\n",
      "Warning: No connection between edge '98338686' and edge '27773509#0' found.\n",
      "Warning: Mandatory edge '27773509#0' not reachable by vehicle 'h13_3630'.\n",
      "Warning: The vehicle 'h13_3630' has no valid route.\n",
      "Warning: No connection between edge '793930821' and edge '105137942' found.\n",
      "Warning: Mandatory edge '105137942' not reachable by vehicle 'h13_17175'.\n",
      "Warning: The vehicle 'h13_17175' has no valid route.\n"
     ]
    },
    {
     "name": "stdout",
     "output_type": "stream",
     "text": [
      "Reading up to time step: 47801.15\r"
     ]
    },
    {
     "name": "stderr",
     "output_type": "stream",
     "text": [
      "Warning: No connection between edge '330775260#3' and edge '386307421#0' found.\n",
      "Warning: Mandatory edge '386307421#0' not reachable by vehicle 'h13_4887'.\n",
      "Warning: The vehicle 'h13_4887' has no valid route.\n"
     ]
    },
    {
     "name": "stdout",
     "output_type": "stream",
     "text": [
      "Reading up to time step: 48001.15\r"
     ]
    },
    {
     "name": "stderr",
     "output_type": "stream",
     "text": [
      "Warning: No connection between edge '-342158346#0' and edge '143962120' found.\n",
      "Warning: Mandatory edge '143962120' not reachable by vehicle 'h13_4986'.\n",
      "Warning: The vehicle 'h13_4986' has no valid route.\n",
      "Warning: No connection between edge '124060633#1' and edge '-115664891#0' found.\n",
      "Warning: Mandatory edge '-115664891#0' not reachable by vehicle 'h13_4998'.\n",
      "Warning: The vehicle 'h13_4998' has no valid route.\n",
      "Warning: No connection between edge '-158728450#4' and edge '510193650#6' found.\n",
      "Warning: Mandatory edge '510193650#6' not reachable by vehicle 'h13_5047'.\n",
      "Warning: The vehicle 'h13_5047' has no valid route.\n",
      "Warning: No connection between edge '793930821' and edge '112770049#0' found.\n",
      "Warning: Mandatory edge '112770049#0' not reachable by vehicle 'h13_5058'.\n",
      "Warning: The vehicle 'h13_5058' has no valid route.\n",
      "Warning: No connection between edge '124060638#5' and edge '65561801' found.\n",
      "Warning: Mandatory edge '65561801' not reachable by vehicle 'h13_5363'.\n",
      "Warning: The vehicle 'h13_5363' has no valid route.\n"
     ]
    },
    {
     "name": "stdout",
     "output_type": "stream",
     "text": [
      "Reading up to time step: 48201.15\r"
     ]
    },
    {
     "name": "stderr",
     "output_type": "stream",
     "text": [
      "Warning: No connection between edge '217351771#0' and edge '281308645' found.\n",
      "Warning: Mandatory edge '281308645' not reachable by vehicle 'h13_5571'.\n",
      "Warning: The vehicle 'h13_5571' has no valid route.\n",
      "Warning: No connection between edge '151096641' and edge '143962123#0' found.\n",
      "Warning: Mandatory edge '143962123#0' not reachable by vehicle 'h13_5670'.\n",
      "Warning: The vehicle 'h13_5670' has no valid route.\n",
      "Warning: No connection between edge '881589991#0' and edge '1367068968' found.\n",
      "Warning: Mandatory edge '1367068968' not reachable by vehicle 'h13_5800'.\n",
      "Warning: The vehicle 'h13_5800' has no valid route.\n",
      "Warning: No connection between edge '168706513' and edge '-378355994#2' found.\n",
      "Warning: Mandatory edge '-378355994#2' not reachable by vehicle 'h13_17776'.\n",
      "Warning: The vehicle 'h13_17776' has no valid route.\n",
      "Warning: No connection between edge '183741260' and edge '-1097312247' found.\n",
      "Warning: Mandatory edge '-1097312247' not reachable by vehicle 'h13_5890'.\n",
      "Warning: The vehicle 'h13_5890' has no valid route.\n"
     ]
    },
    {
     "name": "stdout",
     "output_type": "stream",
     "text": [
      "Reading up to time step: 48401.15\r"
     ]
    },
    {
     "name": "stderr",
     "output_type": "stream",
     "text": [
      "Warning: No connection between edge '124060638#5' and edge '81059181' found.\n",
      "Warning: Mandatory edge '81059181' not reachable by vehicle 'h13_6849'.\n",
      "Warning: The vehicle 'h13_6849' has no valid route.\n",
      "Warning: No connection between edge '126353955#0' and edge '689636461' found.\n",
      "Warning: Mandatory edge '689636461' not reachable by vehicle 'h13_6994'.\n",
      "Warning: The vehicle 'h13_6994' has no valid route.\n",
      "Warning: No connection between edge '-688357782#1' and edge '27773413#0' found.\n",
      "Warning: Mandatory edge '27773413#0' not reachable by vehicle 'h13_7067'.\n",
      "Warning: The vehicle 'h13_7067' has no valid route.\n",
      "Warning: No connection between edge '46988963#2' and edge '510193680' found.\n",
      "Warning: Mandatory edge '510193680' not reachable by vehicle 'h13_7071'.\n",
      "Warning: The vehicle 'h13_7071' has no valid route.\n",
      "Warning: No connection between edge '517536794' and edge '899788866' found.\n",
      "Warning: Mandatory edge '899788866' not reachable by vehicle 'h13_16959'.\n",
      "Warning: The vehicle 'h13_16959' has no valid route.\n",
      "Warning: No connection between edge '-49039532' and edge '-188649571' found.\n",
      "Warning: Mandatory edge '-188649571' not reachable by vehicle 'h13_7306'.\n",
      "Warning: The vehicle 'h13_7306' has no valid route.\n"
     ]
    },
    {
     "name": "stdout",
     "output_type": "stream",
     "text": [
      "Reading up to time step: 48601.15\r"
     ]
    },
    {
     "name": "stderr",
     "output_type": "stream",
     "text": [
      "Warning: No connection between edge '497268551#6' and edge '112885002#0' found.\n",
      "Warning: Mandatory edge '112885002#0' not reachable by vehicle 'h13_18765'.\n",
      "Warning: The vehicle 'h13_18765' has no valid route.\n",
      "Warning: No connection between edge '-326497006#0' and edge '-62023728#0' found.\n",
      "Warning: Mandatory edge '-62023728#0' not reachable by vehicle 'h13_8462'.\n",
      "Warning: The vehicle 'h13_8462' has no valid route.\n"
     ]
    },
    {
     "name": "stdout",
     "output_type": "stream",
     "text": [
      "Reading up to time step: 48801.15\r"
     ]
    },
    {
     "name": "stderr",
     "output_type": "stream",
     "text": [
      "Warning: No connection between edge '406234517#0' and edge '-24257469' found.\n",
      "Warning: Mandatory edge '-24257469' not reachable by vehicle 'h13_8528'.\n",
      "Warning: The vehicle 'h13_8528' has no valid route.\n",
      "Warning: No connection between edge '24792039#0' and edge '510193661' found.\n",
      "Warning: Mandatory edge '510193661' not reachable by vehicle 'h13_8563'.\n",
      "Warning: The vehicle 'h13_8563' has no valid route.\n",
      "Warning: No connection between edge '424764045' and edge '1060073977' found.\n",
      "Warning: Mandatory edge '1060073977' not reachable by vehicle 'h13_8893'.\n",
      "Warning: The vehicle 'h13_8893' has no valid route.\n",
      "Warning: No connection between edge '6309981' and edge '62023740' found.\n",
      "Warning: Mandatory edge '62023740' not reachable by vehicle 'h13_8990'.\n",
      "Warning: The vehicle 'h13_8990' has no valid route.\n"
     ]
    },
    {
     "name": "stdout",
     "output_type": "stream",
     "text": [
      "Reading up to time step: 49001.15\r"
     ]
    },
    {
     "name": "stderr",
     "output_type": "stream",
     "text": [
      "Warning: No connection between edge '-688357782#1' and edge '31317932' found.\n",
      "Warning: Mandatory edge '31317932' not reachable by vehicle 'h13_9284'.\n",
      "Warning: The vehicle 'h13_9284' has no valid route.\n",
      "Warning: No connection between edge '-53254116' and edge '510193635#1' found.\n",
      "Warning: Mandatory edge '510193635#1' not reachable by vehicle 'h13_9292'.\n",
      "Warning: The vehicle 'h13_9292' has no valid route.\n",
      "Warning: No connection between edge '183741260' and edge '-40283946#0' found.\n",
      "Warning: Mandatory edge '-40283946#0' not reachable by vehicle 'h13_17609'.\n",
      "Warning: The vehicle 'h13_17609' has no valid route.\n",
      "Warning: No connection between edge '-35156385#3' and edge '144160557#1' found.\n",
      "Warning: Mandatory edge '144160557#1' not reachable by vehicle 'h13_9834'.\n",
      "Warning: The vehicle 'h13_9834' has no valid route.\n",
      "Warning: No connection between edge '639078510#1' and edge '1159203435#0' found.\n",
      "Warning: Mandatory edge '1159203435#0' not reachable by vehicle 'h13_9926'.\n",
      "Warning: The vehicle 'h13_9926' has no valid route.\n"
     ]
    },
    {
     "name": "stdout",
     "output_type": "stream",
     "text": [
      "Reading up to time step: 49201.15\r"
     ]
    },
    {
     "name": "stderr",
     "output_type": "stream",
     "text": [
      "Warning: No connection between edge '423216288' and edge '386307421#0' found.\n",
      "Warning: Mandatory edge '386307421#0' not reachable by vehicle 'h13_10132'.\n",
      "Warning: The vehicle 'h13_10132' has no valid route.\n",
      "Warning: No connection between edge '27860169' and edge '-367820004' found.\n",
      "Warning: Mandatory edge '-367820004' not reachable by vehicle 'h13_17868'.\n",
      "Warning: The vehicle 'h13_17868' has no valid route.\n",
      "Warning: No connection between edge '330637563#0' and edge '-143962123#0' found.\n",
      "Warning: Mandatory edge '-143962123#0' not reachable by vehicle 'h13_10515'.\n",
      "Warning: The vehicle 'h13_10515' has no valid route.\n",
      "Warning: No connection between edge '34961719#0' and edge '510193664' found.\n",
      "Warning: Mandatory edge '510193664' not reachable by vehicle 'h13_10716'.\n",
      "Warning: The vehicle 'h13_10716' has no valid route.\n",
      "Warning: No connection between edge '-157928498' and edge '783551598' found.\n",
      "Warning: Mandatory edge '783551598' not reachable by vehicle 'h13_10881'.\n",
      "Warning: The vehicle 'h13_10881' has no valid route.\n",
      "Warning: No connection between edge '688357782#1' and edge '-365053701#2' found.\n",
      "Warning: Mandatory edge '-365053701#2' not reachable by vehicle 'h13_10932'.\n",
      "Warning: The vehicle 'h13_10932' has no valid route.\n",
      "Warning: No connection between edge '115661493' and edge '-510193683' found.\n",
      "Warning: Mandatory edge '-510193683' not reachable by vehicle 'h13_11045'.\n",
      "Warning: The vehicle 'h13_11045' has no valid route.\n"
     ]
    },
    {
     "name": "stdout",
     "output_type": "stream",
     "text": [
      "Reading up to time step: 49401.15\r"
     ]
    },
    {
     "name": "stderr",
     "output_type": "stream",
     "text": [
      "Warning: No connection between edge '862077738#0' and edge '144160557#0' found.\n",
      "Warning: Mandatory edge '144160557#0' not reachable by vehicle 'h13_11268'.\n",
      "Warning: The vehicle 'h13_11268' has no valid route.\n",
      "Warning: No connection between edge '113784399#1' and edge '-143962120' found.\n",
      "Warning: Mandatory edge '-143962120' not reachable by vehicle 'h13_11286'.\n",
      "Warning: The vehicle 'h13_11286' has no valid route.\n",
      "Warning: No connection between edge '-41944323' and edge '510193680' found.\n",
      "Warning: Mandatory edge '510193680' not reachable by vehicle 'h13_11302'.\n",
      "Warning: The vehicle 'h13_11302' has no valid route.\n",
      "Warning: No connection between edge '226096332' and edge '-112885002#0' found.\n",
      "Warning: Mandatory edge '-112885002#0' not reachable by vehicle 'h13_11578'.\n",
      "Warning: The vehicle 'h13_11578' has no valid route.\n",
      "Warning: No connection between edge '446955267' and edge '391191394#0' found.\n",
      "Warning: Mandatory edge '391191394#0' not reachable by vehicle 'h13_11875'.\n",
      "Warning: The vehicle 'h13_11875' has no valid route.\n",
      "Warning: No connection between edge '150283070#2' and edge '143962120' found.\n",
      "Warning: Mandatory edge '143962120' not reachable by vehicle 'h13_11913'.\n",
      "Warning: The vehicle 'h13_11913' has no valid route.\n",
      "Warning: No connection between edge '142149430#2' and edge '161432888' found.\n",
      "Warning: Mandatory edge '161432888' not reachable by vehicle 'h13_11978'.\n",
      "Warning: The vehicle 'h13_11978' has no valid route.\n"
     ]
    },
    {
     "name": "stdout",
     "output_type": "stream",
     "text": [
      "Reading up to time step: 49601.15\r"
     ]
    },
    {
     "name": "stderr",
     "output_type": "stream",
     "text": [
      "Warning: No connection between edge '-688357782#1' and edge '384368904' found.\n",
      "Warning: Mandatory edge '384368904' not reachable by vehicle 'h13_12009'.\n",
      "Warning: The vehicle 'h13_12009' has no valid route.\n",
      "Warning: No connection between edge '82286890' and edge '410894590#0' found.\n",
      "Warning: Mandatory edge '410894590#0' not reachable by vehicle 'h13_12683'.\n",
      "Warning: The vehicle 'h13_12683' has no valid route.\n"
     ]
    },
    {
     "name": "stdout",
     "output_type": "stream",
     "text": [
      "Reading up to time step: 49801.15\r"
     ]
    },
    {
     "name": "stderr",
     "output_type": "stream",
     "text": [
      "Warning: No connection between edge '-150925676' and edge '172183430#0' found.\n",
      "Warning: Mandatory edge '172183430#0' not reachable by vehicle 'h13_12906'.\n",
      "Warning: The vehicle 'h13_12906' has no valid route.\n",
      "Warning: No connection between edge '-196878697' and edge '-143962123#2' found.\n",
      "Warning: Mandatory edge '-143962123#2' not reachable by vehicle 'h13_13050'.\n",
      "Warning: The vehicle 'h13_13050' has no valid route.\n",
      "Warning: No connection between edge '-124060635' and edge '592130635' found.\n",
      "Warning: Mandatory edge '592130635' not reachable by vehicle 'h13_13405'.\n",
      "Warning: The vehicle 'h13_13405' has no valid route.\n",
      "Warning: No connection between edge '326375784' and edge '-62023728#0' found.\n",
      "Warning: Mandatory edge '-62023728#0' not reachable by vehicle 'h13_13593'.\n",
      "Warning: The vehicle 'h13_13593' has no valid route.\n",
      "Warning: No connection between edge '406214672#0' and edge '446955265' found.\n",
      "Warning: Mandatory edge '446955265' not reachable by vehicle 'h13_14098'.\n",
      "Warning: The vehicle 'h13_14098' has no valid route.\n"
     ]
    },
    {
     "name": "stdout",
     "output_type": "stream",
     "text": [
      "Reading up to time step: 50001.15\r"
     ]
    },
    {
     "name": "stderr",
     "output_type": "stream",
     "text": [
      "Warning: No connection between edge '4387063' and edge '-1060073977' found.\n",
      "Warning: Mandatory edge '-1060073977' not reachable by vehicle 'h13_14221'.\n",
      "Warning: The vehicle 'h13_14221' has no valid route.\n",
      "Warning: No connection between edge '28151150#0' and edge '386307421#1' found.\n",
      "Warning: Mandatory edge '386307421#1' not reachable by vehicle 'h13_14545'.\n",
      "Warning: The vehicle 'h13_14545' has no valid route.\n",
      "Warning: No connection between edge '144636832#0' and edge '143962123#2' found.\n",
      "Warning: Mandatory edge '143962123#2' not reachable by vehicle 'h13_14690'.\n",
      "Warning: The vehicle 'h13_14690' has no valid route.\n"
     ]
    },
    {
     "name": "stdout",
     "output_type": "stream",
     "text": [
      "Reading up to time step: 50201.15\r"
     ]
    },
    {
     "name": "stderr",
     "output_type": "stream",
     "text": [
      "Warning: No connection between edge '51202924' and edge '-143962123#1' found.\n",
      "Warning: Mandatory edge '-143962123#1' not reachable by vehicle 'h13_14937'.\n",
      "Warning: The vehicle 'h13_14937' has no valid route.\n",
      "Warning: No connection between edge '780562172' and edge '1116553451#3' found.\n",
      "Warning: Mandatory edge '1116553451#3' not reachable by vehicle 'h13_15002'.\n",
      "Warning: The vehicle 'h13_15002' has no valid route.\n",
      "Warning: No connection between edge '1203882727#1' and edge '6313744#4' found.\n",
      "Warning: Mandatory edge '6313744#4' not reachable by vehicle 'h13_15268'.\n",
      "Warning: The vehicle 'h13_15268' has no valid route.\n",
      "Warning: No connection between edge '74128330#1' and edge '115868241' found.\n",
      "Warning: Mandatory edge '115868241' not reachable by vehicle 'h13_15327'.\n",
      "Warning: The vehicle 'h13_15327' has no valid route.\n",
      "Warning: No connection between edge '113994641#6' and edge '156398858' found.\n",
      "Warning: Mandatory edge '156398858' not reachable by vehicle 'h13_15578'.\n",
      "Warning: The vehicle 'h13_15578' has no valid route.\n",
      "Warning: No connection between edge '32040771#1' and edge '-203506538' found.\n",
      "Warning: Mandatory edge '-203506538' not reachable by vehicle 'h13_17096'.\n",
      "Warning: The vehicle 'h13_17096' has no valid route.\n"
     ]
    },
    {
     "name": "stdout",
     "output_type": "stream",
     "text": [
      "Reading up to time step: 50401.15\r"
     ]
    },
    {
     "name": "stderr",
     "output_type": "stream",
     "text": [
      "Warning: No connection between edge '406234517#0' and edge '377991075#5' found.\n",
      "Warning: Mandatory edge '377991075#5' not reachable by vehicle 'h13_16067'.\n",
      "Warning: The vehicle 'h13_16067' has no valid route.\n",
      "Warning: No connection between edge '112885039' and edge '-1150466232' found.\n",
      "Warning: Mandatory edge '-1150466232' not reachable by vehicle 'h14_792'.\n",
      "Warning: The vehicle 'h14_792' has no valid route.\n"
     ]
    },
    {
     "name": "stdout",
     "output_type": "stream",
     "text": [
      "Reading up to time step: 50601.15\r"
     ]
    },
    {
     "name": "stderr",
     "output_type": "stream",
     "text": [
      "Warning: No connection between edge '124060635' and edge '755326595#2' found.\n",
      "Warning: Mandatory edge '755326595#2' not reachable by vehicle 'h14_1477'.\n",
      "Warning: The vehicle 'h14_1477' has no valid route.\n"
     ]
    },
    {
     "name": "stdout",
     "output_type": "stream",
     "text": [
      "Reading up to time step: 50801.15\r"
     ]
    },
    {
     "name": "stderr",
     "output_type": "stream",
     "text": [
      "Warning: No connection between edge '1308456867#0' and edge '-63949749#2' found.\n",
      "Warning: Mandatory edge '-63949749#2' not reachable by vehicle 'h14_1680'.\n",
      "Warning: The vehicle 'h14_1680' has no valid route.\n",
      "Warning: No connection between edge '36983497#1' and edge '-143962123#2' found.\n",
      "Warning: Mandatory edge '-143962123#2' not reachable by vehicle 'h14_2250'.\n",
      "Warning: The vehicle 'h14_2250' has no valid route.\n"
     ]
    },
    {
     "name": "stdout",
     "output_type": "stream",
     "text": [
      "Reading up to time step: 51001.15\r"
     ]
    },
    {
     "name": "stderr",
     "output_type": "stream",
     "text": [
      "Warning: No connection between edge '112885039' and edge '49895896#2' found.\n",
      "Warning: Mandatory edge '49895896#2' not reachable by vehicle 'h14_2389'.\n",
      "Warning: The vehicle 'h14_2389' has no valid route.\n"
     ]
    },
    {
     "name": "stdout",
     "output_type": "stream",
     "text": [
      "Reading up to time step: 51201.15\r"
     ]
    },
    {
     "name": "stderr",
     "output_type": "stream",
     "text": [
      "Warning: No connection between edge '232788067#2' and edge '453523294' found.\n",
      "Warning: Mandatory edge '453523294' not reachable by vehicle 'h14_2586'.\n",
      "Warning: The vehicle 'h14_2586' has no valid route.\n",
      "Warning: No connection between edge '112885039' and edge '-138757927' found.\n",
      "Warning: Mandatory edge '-138757927' not reachable by vehicle 'h14_2812'.\n",
      "Warning: The vehicle 'h14_2812' has no valid route.\n",
      "Warning: No connection between edge '493061137' and edge '434920050#0' found.\n",
      "Warning: Mandatory edge '434920050#0' not reachable by vehicle 'h14_2923'.\n",
      "Warning: The vehicle 'h14_2923' has no valid route.\n",
      "Warning: No connection between edge '124060635' and edge '-64227574#1' found.\n",
      "Warning: Mandatory edge '-64227574#1' not reachable by vehicle 'h14_3247'.\n",
      "Warning: The vehicle 'h14_3247' has no valid route.\n"
     ]
    },
    {
     "name": "stdout",
     "output_type": "stream",
     "text": [
      "Reading up to time step: 51401.15\r"
     ]
    },
    {
     "name": "stderr",
     "output_type": "stream",
     "text": [
      "Warning: No connection between edge '181794396' and edge '-62023740' found.\n",
      "Warning: Mandatory edge '-62023740' not reachable by vehicle 'h14_3397'.\n",
      "Warning: The vehicle 'h14_3397' has no valid route.\n",
      "Warning: No connection between edge '172184446#1' and edge '-510193680' found.\n",
      "Warning: Mandatory edge '-510193680' not reachable by vehicle 'h14_3586'.\n",
      "Warning: The vehicle 'h14_3586' has no valid route.\n",
      "Warning: No connection between edge '1356954327' and edge '25152802' found.\n",
      "Warning: Mandatory edge '25152802' not reachable by vehicle 'h14_3848'.\n",
      "Warning: The vehicle 'h14_3848' has no valid route.\n",
      "Warning: No connection between edge '27769653#1' and edge '386307421#0' found.\n",
      "Warning: Mandatory edge '386307421#0' not reachable by vehicle 'h14_3997'.\n",
      "Warning: The vehicle 'h14_3997' has no valid route.\n",
      "Warning: No connection between edge '-82113755#0' and edge '62023728#1' found.\n",
      "Warning: Mandatory edge '62023728#1' not reachable by vehicle 'h14_4399'.\n",
      "Warning: The vehicle 'h14_4399' has no valid route.\n"
     ]
    },
    {
     "name": "stdout",
     "output_type": "stream",
     "text": [
      "Reading up to time step: 51601.15\r"
     ]
    },
    {
     "name": "stderr",
     "output_type": "stream",
     "text": [
      "Warning: No connection between edge '793930821' and edge '24376019#5' found.\n",
      "Warning: Mandatory edge '24376019#5' not reachable by vehicle 'h14_4612'.\n",
      "Warning: The vehicle 'h14_4612' has no valid route.\n",
      "Warning: No connection between edge '-889270905#2' and edge '510193674' found.\n",
      "Warning: Mandatory edge '510193674' not reachable by vehicle 'h14_4695'.\n",
      "Warning: The vehicle 'h14_4695' has no valid route.\n",
      "Warning: No connection between edge '124060638#4' and edge '1032383522' found.\n",
      "Warning: Mandatory edge '1032383522' not reachable by vehicle 'h14_4760'.\n",
      "Warning: The vehicle 'h14_4760' has no valid route.\n",
      "Warning: No connection between edge '34259727#9' and edge '510193635#1' found.\n",
      "Warning: Mandatory edge '510193635#1' not reachable by vehicle 'h14_4838'.\n",
      "Warning: The vehicle 'h14_4838' has no valid route.\n",
      "Warning: No connection between edge '53188622#1' and edge '-510193683' found.\n",
      "Warning: Mandatory edge '-510193683' not reachable by vehicle 'h14_4886'.\n",
      "Warning: The vehicle 'h14_4886' has no valid route.\n",
      "Warning: No connection between edge '-162543666' and edge '228054163#0' found.\n",
      "Warning: Mandatory edge '228054163#0' not reachable by vehicle 'h14_15658'.\n",
      "Warning: The vehicle 'h14_15658' has no valid route.\n"
     ]
    },
    {
     "name": "stdout",
     "output_type": "stream",
     "text": [
      "Reading up to time step: 51801.15\r"
     ]
    },
    {
     "name": "stderr",
     "output_type": "stream",
     "text": [
      "Warning: No connection between edge '207219421' and edge '783551598' found.\n",
      "Warning: Mandatory edge '783551598' not reachable by vehicle 'h14_5336'.\n",
      "Warning: The vehicle 'h14_5336' has no valid route.\n"
     ]
    },
    {
     "name": "stdout",
     "output_type": "stream",
     "text": [
      "Reading up to time step: 52001.15\r"
     ]
    },
    {
     "name": "stderr",
     "output_type": "stream",
     "text": [
      "Warning: No connection between edge '-143445609#2' and edge '156398858' found.\n",
      "Warning: Mandatory edge '156398858' not reachable by vehicle 'h14_16937'.\n",
      "Warning: The vehicle 'h14_16937' has no valid route.\n",
      "Warning: No connection between edge '124060635' and edge '6313105#1' found.\n",
      "Warning: Mandatory edge '6313105#1' not reachable by vehicle 'h14_6225'.\n",
      "Warning: The vehicle 'h14_6225' has no valid route.\n",
      "Warning: No connection between edge '338135899#1' and edge '161432888' found.\n",
      "Warning: Mandatory edge '161432888' not reachable by vehicle 'h14_6322'.\n",
      "Warning: The vehicle 'h14_6322' has no valid route.\n",
      "Warning: No connection between edge '503356965' and edge '88196423#0' found.\n",
      "Warning: Mandatory edge '88196423#0' not reachable by vehicle 'h14_6544'.\n",
      "Warning: The vehicle 'h14_6544' has no valid route.\n"
     ]
    },
    {
     "name": "stdout",
     "output_type": "stream",
     "text": [
      "Reading up to time step: 52201.15\r"
     ]
    },
    {
     "name": "stderr",
     "output_type": "stream",
     "text": [
      "Warning: No connection between edge '688357782#1' and edge '120926549' found.\n",
      "Warning: Mandatory edge '120926549' not reachable by vehicle 'h14_6804'.\n",
      "Warning: The vehicle 'h14_6804' has no valid route.\n",
      "Warning: No connection between edge '-925261618' and edge '-115547995' found.\n",
      "Warning: Mandatory edge '-115547995' not reachable by vehicle 'h14_7127'.\n",
      "Warning: The vehicle 'h14_7127' has no valid route.\n",
      "Warning: No connection between edge '1225418992' and edge '-112885002#1' found.\n",
      "Warning: Mandatory edge '-112885002#1' not reachable by vehicle 'h14_7707'.\n",
      "Warning: The vehicle 'h14_7707' has no valid route.\n"
     ]
    },
    {
     "name": "stdout",
     "output_type": "stream",
     "text": [
      "Reading up to time step: 52401.15\r"
     ]
    },
    {
     "name": "stderr",
     "output_type": "stream",
     "text": [
      "Warning: No connection between edge '156398864' and edge '264304794#1' found.\n",
      "Warning: Mandatory edge '264304794#1' not reachable by vehicle 'h14_7771'.\n",
      "Warning: The vehicle 'h14_7771' has no valid route.\n",
      "Warning: No connection between edge '-1237737156#2' and edge '367820007' found.\n",
      "Warning: Mandatory edge '367820007' not reachable by vehicle 'h14_7869'.\n",
      "Warning: The vehicle 'h14_7869' has no valid route.\n",
      "Warning: No connection between edge '-374307262#1' and edge '767313244' found.\n",
      "Warning: Mandatory edge '767313244' not reachable by vehicle 'h14_7977'.\n",
      "Warning: The vehicle 'h14_7977' has no valid route.\n",
      "Warning: No connection between edge '-27773512' and edge '510193650#6' found.\n",
      "Warning: Mandatory edge '510193650#6' not reachable by vehicle 'h14_8052'.\n",
      "Warning: The vehicle 'h14_8052' has no valid route.\n",
      "Warning: No connection between edge '664097419' and edge '493061137' found.\n",
      "Warning: Mandatory edge '493061137' not reachable by vehicle 'h14_8208'.\n",
      "Warning: The vehicle 'h14_8208' has no valid route.\n"
     ]
    },
    {
     "name": "stdout",
     "output_type": "stream",
     "text": [
      "Reading up to time step: 52601.15\r"
     ]
    },
    {
     "name": "stderr",
     "output_type": "stream",
     "text": [
      "Warning: No connection between edge '82286890' and edge '-732893400#1' found.\n",
      "Warning: Mandatory edge '-732893400#1' not reachable by vehicle 'h14_8584'.\n",
      "Warning: The vehicle 'h14_8584' has no valid route.\n",
      "Warning: No connection between edge '688357782#1' and edge '-554722020' found.\n",
      "Warning: Mandatory edge '-554722020' not reachable by vehicle 'h14_8652'.\n",
      "Warning: The vehicle 'h14_8652' has no valid route.\n",
      "Warning: No connection between edge '1356954327' and edge '165945028' found.\n",
      "Warning: Mandatory edge '165945028' not reachable by vehicle 'h14_8842'.\n",
      "Warning: The vehicle 'h14_8842' has no valid route.\n",
      "Warning: No connection between edge '793930821' and edge '-182152107' found.\n",
      "Warning: Mandatory edge '-182152107' not reachable by vehicle 'h14_8953'.\n",
      "Warning: The vehicle 'h14_8953' has no valid route.\n",
      "Warning: No connection between edge '72049678#1' and edge '-1060073977' found.\n",
      "Warning: Mandatory edge '-1060073977' not reachable by vehicle 'h14_9084'.\n",
      "Warning: The vehicle 'h14_9084' has no valid route.\n",
      "Warning: No connection between edge '-394895435#1' and edge '-143962123#1' found.\n",
      "Warning: Mandatory edge '-143962123#1' not reachable by vehicle 'h14_9415'.\n",
      "Warning: The vehicle 'h14_9415' has no valid route.\n"
     ]
    },
    {
     "name": "stdout",
     "output_type": "stream",
     "text": [
      "Reading up to time step: 52801.15\r"
     ]
    },
    {
     "name": "stderr",
     "output_type": "stream",
     "text": [
      "Warning: No connection between edge '140499113#0' and edge '510193650#2' found.\n",
      "Warning: Mandatory edge '510193650#2' not reachable by vehicle 'h14_9602'.\n",
      "Warning: The vehicle 'h14_9602' has no valid route.\n",
      "Warning: No connection between edge '1367068984' and edge '362094964#2' found.\n",
      "Warning: Mandatory edge '362094964#2' not reachable by vehicle 'h14_9920'.\n",
      "Warning: The vehicle 'h14_9920' has no valid route.\n",
      "Warning: No connection between edge '124060633#1' and edge '155376089#0' found.\n",
      "Warning: Mandatory edge '155376089#0' not reachable by vehicle 'h14_9928'.\n",
      "Warning: The vehicle 'h14_9928' has no valid route.\n",
      "Warning: No connection between edge '-174116463' and edge '889503609' found.\n",
      "Warning: Mandatory edge '889503609' not reachable by vehicle 'h14_10040'.\n",
      "Warning: The vehicle 'h14_10040' has no valid route.\n",
      "Warning: No connection between edge '124060635' and edge '367051438#0' found.\n",
      "Warning: Mandatory edge '367051438#0' not reachable by vehicle 'h14_10050'.\n",
      "Warning: The vehicle 'h14_10050' has no valid route.\n",
      "Warning: No connection between edge '-43703966#2' and edge '62023728#1' found.\n",
      "Warning: Mandatory edge '62023728#1' not reachable by vehicle 'h14_16623'.\n",
      "Warning: The vehicle 'h14_16623' has no valid route.\n"
     ]
    },
    {
     "name": "stdout",
     "output_type": "stream",
     "text": [
      "Reading up to time step: 53001.15\r"
     ]
    },
    {
     "name": "stderr",
     "output_type": "stream",
     "text": [
      "Warning: No connection between edge '174126216#3' and edge '-62023728#0' found.\n",
      "Warning: Mandatory edge '-62023728#0' not reachable by vehicle 'h14_10703'.\n",
      "Warning: The vehicle 'h14_10703' has no valid route.\n",
      "Warning: No connection between edge '48996085#1' and edge '144160557#0' found.\n",
      "Warning: Mandatory edge '144160557#0' not reachable by vehicle 'h14_11023'.\n",
      "Warning: The vehicle 'h14_11023' has no valid route.\n"
     ]
    },
    {
     "name": "stdout",
     "output_type": "stream",
     "text": [
      "Reading up to time step: 53201.15\r"
     ]
    },
    {
     "name": "stderr",
     "output_type": "stream",
     "text": [
      "Warning: No connection between edge '780562172' and edge '-66833243#1' found.\n",
      "Warning: Mandatory edge '-66833243#1' not reachable by vehicle 'h14_11202'.\n",
      "Warning: The vehicle 'h14_11202' has no valid route.\n",
      "Warning: No connection between edge '206114500#3' and edge '510193661' found.\n",
      "Warning: Mandatory edge '510193661' not reachable by vehicle 'h14_17036'.\n",
      "Warning: The vehicle 'h14_17036' has no valid route.\n",
      "Warning: No connection between edge '74128330#1' and edge '-51202319#3' found.\n",
      "Warning: Mandatory edge '-51202319#3' not reachable by vehicle 'h14_11270'.\n",
      "Warning: The vehicle 'h14_11270' has no valid route.\n",
      "Warning: No connection between edge '1203882727#1' and edge '232936003#0' found.\n",
      "Warning: Mandatory edge '232936003#0' not reachable by vehicle 'h14_11505'.\n",
      "Warning: The vehicle 'h14_11505' has no valid route.\n",
      "Warning: No connection between edge '27775468#0' and edge '-203506538' found.\n",
      "Warning: Mandatory edge '-203506538' not reachable by vehicle 'h14_15586'.\n",
      "Warning: The vehicle 'h14_15586' has no valid route.\n",
      "Warning: No connection between edge '435705787#0' and edge '144160557#0' found.\n",
      "Warning: Mandatory edge '144160557#0' not reachable by vehicle 'h14_11718'.\n",
      "Warning: The vehicle 'h14_11718' has no valid route.\n",
      "Warning: No connection between edge '-203654784' and edge '144160547' found.\n",
      "Warning: Mandatory edge '144160547' not reachable by vehicle 'h14_11779'.\n",
      "Warning: The vehicle 'h14_11779' has no valid route.\n"
     ]
    },
    {
     "name": "stdout",
     "output_type": "stream",
     "text": [
      "Reading up to time step: 53401.15\r"
     ]
    },
    {
     "name": "stderr",
     "output_type": "stream",
     "text": [
      "Warning: No connection between edge '-170510377#1' and edge '378355993' found.\n",
      "Warning: Mandatory edge '378355993' not reachable by vehicle 'h14_11869'.\n",
      "Warning: The vehicle 'h14_11869' has no valid route.\n",
      "Warning: No connection between edge '-201390885#0' and edge '143962123#0' found.\n",
      "Warning: Mandatory edge '143962123#0' not reachable by vehicle 'h14_11994'.\n",
      "Warning: The vehicle 'h14_11994' has no valid route.\n",
      "Warning: No connection between edge '141180323#1' and edge '-143962123#2' found.\n",
      "Warning: Mandatory edge '-143962123#2' not reachable by vehicle 'h14_13180'.\n",
      "Warning: The vehicle 'h14_13180' has no valid route.\n"
     ]
    },
    {
     "name": "stdout",
     "output_type": "stream",
     "text": [
      "Reading up to time step: 53601.15\r"
     ]
    },
    {
     "name": "stderr",
     "output_type": "stream",
     "text": [
      "Warning: No connection between edge '-34962557' and edge '112885002#1' found.\n",
      "Warning: Mandatory edge '112885002#1' not reachable by vehicle 'h14_13635'.\n",
      "Warning: The vehicle 'h14_13635' has no valid route.\n"
     ]
    },
    {
     "name": "stdout",
     "output_type": "stream",
     "text": [
      "Reading up to time step: 53801.15\r"
     ]
    },
    {
     "name": "stderr",
     "output_type": "stream",
     "text": [
      "Warning: No connection between edge '4649095#2' and edge '224793814#1-AddedOffRampEdge' found.\n",
      "Warning: Mandatory edge '224793814#1-AddedOffRampEdge' not reachable by vehicle 'h14_15382'.\n",
      "Warning: The vehicle 'h14_15382' has no valid route.\n",
      "Warning: No connection between edge '-190680267' and edge '161432888' found.\n",
      "Warning: Mandatory edge '161432888' not reachable by vehicle 'h14_14237'.\n",
      "Warning: The vehicle 'h14_14237' has no valid route.\n",
      "Warning: No connection between edge '-12369785#0' and edge '446955265' found.\n",
      "Warning: Mandatory edge '446955265' not reachable by vehicle 'h14_14434'.\n",
      "Warning: The vehicle 'h14_14434' has no valid route.\n"
     ]
    },
    {
     "name": "stdout",
     "output_type": "stream",
     "text": [
      "Reading up to time step: 54001.15\r"
     ]
    },
    {
     "name": "stderr",
     "output_type": "stream",
     "text": [
      "Warning: No connection between edge '1356954327' and edge '312398438' found.\n",
      "Warning: Mandatory edge '312398438' not reachable by vehicle 'h14_14500'.\n",
      "Warning: The vehicle 'h14_14500' has no valid route.\n",
      "Warning: No connection between edge '53255186#0' and edge '-188649571' found.\n",
      "Warning: Mandatory edge '-188649571' not reachable by vehicle 'h14_14692'.\n",
      "Warning: The vehicle 'h14_14692' has no valid route.\n"
     ]
    },
    {
     "name": "stdout",
     "output_type": "stream",
     "text": [
      "Reading up to time step: 54201.15\r"
     ]
    },
    {
     "name": "stderr",
     "output_type": "stream",
     "text": [
      "Warning: No connection between edge '446955267' and edge '-356936532#8' found.\n",
      "Warning: Mandatory edge '-356936532#8' not reachable by vehicle 'h15_454'.\n",
      "Warning: The vehicle 'h15_454' has no valid route.\n",
      "Warning: No connection between edge '158434625' and edge '161432888' found.\n",
      "Warning: Mandatory edge '161432888' not reachable by vehicle 'h15_802'.\n",
      "Warning: The vehicle 'h15_802' has no valid route.\n"
     ]
    },
    {
     "name": "stdout",
     "output_type": "stream",
     "text": [
      "Reading up to time step: 54401.15\r"
     ]
    },
    {
     "name": "stderr",
     "output_type": "stream",
     "text": [
      "Warning: No connection between edge '181512364#1' and edge '510193650#1' found.\n",
      "Warning: Mandatory edge '510193650#1' not reachable by vehicle 'h15_988'.\n",
      "Warning: The vehicle 'h15_988' has no valid route.\n",
      "Warning: No connection between edge '-201102551' and edge '112885002#0' found.\n",
      "Warning: Mandatory edge '112885002#0' not reachable by vehicle 'h15_1569'.\n",
      "Warning: The vehicle 'h15_1569' has no valid route.\n",
      "Warning: No connection between edge '1356954327' and edge '112732680#0' found.\n",
      "Warning: Mandatory edge '112732680#0' not reachable by vehicle 'h15_1586'.\n",
      "Warning: The vehicle 'h15_1586' has no valid route.\n"
     ]
    },
    {
     "name": "stdout",
     "output_type": "stream",
     "text": [
      "Reading up to time step: 54601.15\r"
     ]
    },
    {
     "name": "stderr",
     "output_type": "stream",
     "text": [
      "Warning: No connection between edge '-34353201#1' and edge '112885002#1' found.\n",
      "Warning: Mandatory edge '112885002#1' not reachable by vehicle 'h15_1677'.\n",
      "Warning: The vehicle 'h15_1677' has no valid route.\n",
      "Warning: No connection between edge '-182670542#2' and edge '-143962123#0' found.\n",
      "Warning: Mandatory edge '-143962123#0' not reachable by vehicle 'h15_1737'.\n",
      "Warning: The vehicle 'h15_1737' has no valid route.\n",
      "Warning: No connection between edge '167794841#1' and edge '-383076320' found.\n",
      "Warning: Mandatory edge '-383076320' not reachable by vehicle 'h15_2026'.\n",
      "Warning: The vehicle 'h15_2026' has no valid route.\n",
      "Warning: No connection between edge '124060635' and edge '41223014' found.\n",
      "Warning: Mandatory edge '41223014' not reachable by vehicle 'h15_2333'.\n",
      "Warning: The vehicle 'h15_2333' has no valid route.\n"
     ]
    },
    {
     "name": "stdout",
     "output_type": "stream",
     "text": [
      "Reading up to time step: 54801.15\r"
     ]
    },
    {
     "name": "stderr",
     "output_type": "stream",
     "text": [
      "Warning: No connection between edge '1013192854' and edge '143962123#1' found.\n",
      "Warning: Mandatory edge '143962123#1' not reachable by vehicle 'h15_15482'.\n",
      "Warning: The vehicle 'h15_15482' has no valid route.\n",
      "Warning: No connection between edge '-226711935' and edge '510193683' found.\n",
      "Warning: Mandatory edge '510193683' not reachable by vehicle 'h15_2663'.\n",
      "Warning: The vehicle 'h15_2663' has no valid route.\n",
      "Warning: No connection between edge '120676353#1' and edge '383076320' found.\n",
      "Warning: Mandatory edge '383076320' not reachable by vehicle 'h15_2780'.\n",
      "Warning: The vehicle 'h15_2780' has no valid route.\n",
      "Warning: No connection between edge '-150925676' and edge '72049676#5' found.\n",
      "Warning: Mandatory edge '72049676#5' not reachable by vehicle 'h15_2920'.\n",
      "Warning: The vehicle 'h15_2920' has no valid route.\n",
      "Warning: No connection between edge '124060638#4' and edge '-103528145#0' found.\n",
      "Warning: Mandatory edge '-103528145#0' not reachable by vehicle 'h15_3054'.\n",
      "Warning: The vehicle 'h15_3054' has no valid route.\n"
     ]
    },
    {
     "name": "stdout",
     "output_type": "stream",
     "text": [
      "Reading up to time step: 55001.15\r"
     ]
    },
    {
     "name": "stderr",
     "output_type": "stream",
     "text": [
      "Warning: No connection between edge '42887972' and edge '112885002#1' found.\n",
      "Warning: Mandatory edge '112885002#1' not reachable by vehicle 'h15_3630'.\n",
      "Warning: The vehicle 'h15_3630' has no valid route.\n"
     ]
    },
    {
     "name": "stdout",
     "output_type": "stream",
     "text": [
      "Reading up to time step: 55201.15\r"
     ]
    },
    {
     "name": "stderr",
     "output_type": "stream",
     "text": [
      "Warning: No connection between edge '1203882727#1' and edge '42399269#1' found.\n",
      "Warning: Mandatory edge '42399269#1' not reachable by vehicle 'h15_3894'.\n",
      "Warning: The vehicle 'h15_3894' has no valid route.\n",
      "Warning: No connection between edge '124060638#5' and edge '675420936#9' found.\n",
      "Warning: Mandatory edge '675420936#9' not reachable by vehicle 'h15_3992'.\n",
      "Warning: The vehicle 'h15_3992' has no valid route.\n",
      "Warning: No connection between edge '34995811#0' and edge '510193669' found.\n",
      "Warning: Mandatory edge '510193669' not reachable by vehicle 'h15_4017'.\n",
      "Warning: The vehicle 'h15_4017' has no valid route.\n",
      "Warning: No connection between edge '-97805753' and edge '263520769#0' found.\n",
      "Warning: Mandatory edge '263520769#0' not reachable by vehicle 'h15_4018'.\n",
      "Warning: The vehicle 'h15_4018' has no valid route.\n",
      "Warning: No connection between edge '780562172' and edge '223203160#0' found.\n",
      "Warning: Mandatory edge '223203160#0' not reachable by vehicle 'h15_4060'.\n",
      "Warning: The vehicle 'h15_4060' has no valid route.\n",
      "Warning: No connection between edge '-24256596#0' and edge '493061137' found.\n",
      "Warning: Mandatory edge '493061137' not reachable by vehicle 'h15_4219'.\n",
      "Warning: The vehicle 'h15_4219' has no valid route.\n",
      "Warning: No connection between edge '1308456867#0' and edge '72065781' found.\n",
      "Warning: Mandatory edge '72065781' not reachable by vehicle 'h15_5192'.\n",
      "Warning: The vehicle 'h15_5192' has no valid route.\n"
     ]
    },
    {
     "name": "stdout",
     "output_type": "stream",
     "text": [
      "Reading up to time step: 55401.15\r"
     ]
    },
    {
     "name": "stderr",
     "output_type": "stream",
     "text": [
      "Warning: No connection between edge '61489649#0' and edge '-30281188#2' found.\n",
      "Warning: Mandatory edge '-30281188#2' not reachable by vehicle 'h15_14932'.\n",
      "Warning: The vehicle 'h15_14932' has no valid route.\n"
     ]
    },
    {
     "name": "stdout",
     "output_type": "stream",
     "text": [
      "Reading up to time step: 55601.15\r"
     ]
    },
    {
     "name": "stderr",
     "output_type": "stream",
     "text": [
      "Warning: No connection between edge '-168765530#0' and edge '510193680' found.\n",
      "Warning: Mandatory edge '510193680' not reachable by vehicle 'h15_5663'.\n",
      "Warning: The vehicle 'h15_5663' has no valid route.\n",
      "Warning: No connection between edge '392225275' and edge '54357727' found.\n",
      "Warning: Mandatory edge '54357727' not reachable by vehicle 'h15_15398'.\n",
      "Warning: The vehicle 'h15_15398' has no valid route.\n",
      "Warning: No connection between edge '-377390887#1' and edge '143962123#1' found.\n",
      "Warning: Mandatory edge '143962123#1' not reachable by vehicle 'h15_5849'.\n",
      "Warning: The vehicle 'h15_5849' has no valid route.\n",
      "Warning: No connection between edge '413391003' and edge '446955265' found.\n",
      "Warning: Mandatory edge '446955265' not reachable by vehicle 'h15_5898'.\n",
      "Warning: The vehicle 'h15_5898' has no valid route.\n",
      "Warning: No connection between edge '330770622#3' and edge '-62023730' found.\n",
      "Warning: Mandatory edge '-62023730' not reachable by vehicle 'h15_14941'.\n",
      "Warning: The vehicle 'h15_14941' has no valid route.\n",
      "Warning: No connection between edge '377991087#17' and edge '1367068968' found.\n",
      "Warning: Mandatory edge '1367068968' not reachable by vehicle 'h15_6084'.\n",
      "Warning: The vehicle 'h15_6084' has no valid route.\n",
      "Warning: No connection between edge '387204782' and edge '144160547' found.\n",
      "Warning: Mandatory edge '144160547' not reachable by vehicle 'h15_6202'.\n",
      "Warning: The vehicle 'h15_6202' has no valid route.\n"
     ]
    },
    {
     "name": "stdout",
     "output_type": "stream",
     "text": [
      "Reading up to time step: 55801.15\r"
     ]
    },
    {
     "name": "stderr",
     "output_type": "stream",
     "text": [
      "Warning: No connection between edge '124060633#1' and edge '346537584' found.\n",
      "Warning: Mandatory edge '346537584' not reachable by vehicle 'h15_6812'.\n",
      "Warning: The vehicle 'h15_6812' has no valid route.\n"
     ]
    },
    {
     "name": "stdout",
     "output_type": "stream",
     "text": [
      "Reading up to time step: 56001.15\r"
     ]
    },
    {
     "name": "stderr",
     "output_type": "stream",
     "text": [
      "Warning: No connection between edge '446955267' and edge '-324004609#1' found.\n",
      "Warning: Mandatory edge '-324004609#1' not reachable by vehicle 'h15_7224'.\n",
      "Warning: The vehicle 'h15_7224' has no valid route.\n",
      "Warning: No connection between edge '108938544' and edge '6309975#1' found.\n",
      "Warning: Mandatory edge '6309975#1' not reachable by vehicle 'h15_7692'.\n",
      "Warning: The vehicle 'h15_7692' has no valid route.\n"
     ]
    },
    {
     "name": "stdout",
     "output_type": "stream",
     "text": [
      "Reading up to time step: 56201.15\r"
     ]
    },
    {
     "name": "stderr",
     "output_type": "stream",
     "text": [
      "Warning: No connection between edge '108938544' and edge '66504220#1' found.\n",
      "Warning: Mandatory edge '66504220#1' not reachable by vehicle 'h15_7787'.\n",
      "Warning: The vehicle 'h15_7787' has no valid route.\n",
      "Warning: No connection between edge '688357782#0' and edge '-75803720' found.\n",
      "Warning: Mandatory edge '-75803720' not reachable by vehicle 'h15_7900'.\n",
      "Warning: The vehicle 'h15_7900' has no valid route.\n",
      "Warning: No connection between edge '-688357782#0' and edge '-626118646#0' found.\n",
      "Warning: Mandatory edge '-626118646#0' not reachable by vehicle 'h15_8014'.\n",
      "Warning: The vehicle 'h15_8014' has no valid route.\n",
      "Warning: No connection between edge '112885004#1' and edge '144160547' found.\n",
      "Warning: Mandatory edge '144160547' not reachable by vehicle 'h15_8019'.\n",
      "Warning: The vehicle 'h15_8019' has no valid route.\n",
      "Warning: No connection between edge '1332793122' and edge '434130165#1' found.\n",
      "Warning: Mandatory edge '434130165#1' not reachable by vehicle 'h15_8228'.\n",
      "Warning: The vehicle 'h15_8228' has no valid route.\n",
      "Warning: No connection between edge '406234517#0' and edge '27773417#2' found.\n",
      "Warning: Mandatory edge '27773417#2' not reachable by vehicle 'h15_8245'.\n",
      "Warning: The vehicle 'h15_8245' has no valid route.\n",
      "Warning: No connection between edge '-53255623#0' and edge '-112885002#0' found.\n",
      "Warning: Mandatory edge '-112885002#0' not reachable by vehicle 'h15_8284'.\n",
      "Warning: The vehicle 'h15_8284' has no valid route.\n",
      "Warning: No connection between edge '171814223#1' and edge '-367820004' found.\n",
      "Warning: Mandatory edge '-367820004' not reachable by vehicle 'h15_8452'.\n",
      "Warning: The vehicle 'h15_8452' has no valid route.\n",
      "Warning: No connection between edge '-903357918' and edge '-143962123#1' found.\n",
      "Warning: Mandatory edge '-143962123#1' not reachable by vehicle 'h15_8792'.\n",
      "Warning: The vehicle 'h15_8792' has no valid route.\n"
     ]
    },
    {
     "name": "stdout",
     "output_type": "stream",
     "text": [
      "Reading up to time step: 56401.15\r"
     ]
    },
    {
     "name": "stderr",
     "output_type": "stream",
     "text": [
      "Warning: No connection between edge '1091788508' and edge '-50345160#0' found.\n",
      "Warning: Mandatory edge '-50345160#0' not reachable by vehicle 'h15_8944'.\n",
      "Warning: The vehicle 'h15_8944' has no valid route.\n",
      "Warning: No connection between edge '713873032' and edge '-112885002#1' found.\n",
      "Warning: Mandatory edge '-112885002#1' not reachable by vehicle 'h15_9113'.\n",
      "Warning: The vehicle 'h15_9113' has no valid route.\n",
      "Warning: No connection between edge '124060633#1' and edge '220768323#0' found.\n",
      "Warning: Mandatory edge '220768323#0' not reachable by vehicle 'h15_9372'.\n",
      "Warning: The vehicle 'h15_9372' has no valid route.\n"
     ]
    },
    {
     "name": "stdout",
     "output_type": "stream",
     "text": [
      "Reading up to time step: 56601.15\r"
     ]
    },
    {
     "name": "stderr",
     "output_type": "stream",
     "text": [
      "Warning: No connection between edge '-28116671#4' and edge '-62023728#0' found.\n",
      "Warning: Mandatory edge '-62023728#0' not reachable by vehicle 'h15_9432'.\n",
      "Warning: The vehicle 'h15_9432' has no valid route.\n",
      "Warning: No connection between edge '35156022#0' and edge '510193635#1' found.\n",
      "Warning: Mandatory edge '510193635#1' not reachable by vehicle 'h15_9938'.\n",
      "Warning: The vehicle 'h15_9938' has no valid route.\n"
     ]
    },
    {
     "name": "stdout",
     "output_type": "stream",
     "text": [
      "Reading up to time step: 56801.15\r"
     ]
    },
    {
     "name": "stderr",
     "output_type": "stream",
     "text": [
      "Warning: No connection between edge '-793930821' and edge '115628944#1' found.\n",
      "Warning: Mandatory edge '115628944#1' not reachable by vehicle 'h15_10028'.\n",
      "Warning: The vehicle 'h15_10028' has no valid route.\n",
      "Warning: No connection between edge '437987138' and edge '767313244' found.\n",
      "Warning: Mandatory edge '767313244' not reachable by vehicle 'h15_10315'.\n",
      "Warning: The vehicle 'h15_10315' has no valid route.\n",
      "Warning: No connection between edge '1203882727#1' and edge '99205835#0' found.\n",
      "Warning: Mandatory edge '99205835#0' not reachable by vehicle 'h15_10546'.\n",
      "Warning: The vehicle 'h15_10546' has no valid route.\n",
      "Warning: No connection between edge '1055796009#2' and edge '112885002#1' found.\n",
      "Warning: Mandatory edge '112885002#1' not reachable by vehicle 'h15_15281'.\n",
      "Warning: The vehicle 'h15_15281' has no valid route.\n",
      "Warning: No connection between edge '-48999028#1' and edge '-62023728#0' found.\n",
      "Warning: Mandatory edge '-62023728#0' not reachable by vehicle 'h15_15289'.\n",
      "Warning: The vehicle 'h15_15289' has no valid route.\n"
     ]
    },
    {
     "name": "stdout",
     "output_type": "stream",
     "text": [
      "Reading up to time step: 57001.15\r"
     ]
    },
    {
     "name": "stderr",
     "output_type": "stream",
     "text": [
      "Warning: No connection between edge '124060638#5' and edge '-713872937#1' found.\n",
      "Warning: Mandatory edge '-713872937#1' not reachable by vehicle 'h15_11247'.\n",
      "Warning: The vehicle 'h15_11247' has no valid route.\n",
      "Warning: No connection between edge '-383076320' and edge '-62023740' found.\n",
      "Warning: Mandatory edge '-62023740' not reachable by vehicle 'h15_11396'.\n",
      "Warning: The vehicle 'h15_11396' has no valid route.\n"
     ]
    },
    {
     "name": "stdout",
     "output_type": "stream",
     "text": [
      "Reading up to time step: 57201.15\r"
     ]
    },
    {
     "name": "stderr",
     "output_type": "stream",
     "text": [
      "Warning: No connection between edge '688357782#1' and edge '-838839215' found.\n",
      "Warning: Mandatory edge '-838839215' not reachable by vehicle 'h15_12136'.\n",
      "Warning: The vehicle 'h15_12136' has no valid route.\n",
      "Warning: No connection between edge '174134842' and edge '263520769#0' found.\n",
      "Warning: Mandatory edge '263520769#0' not reachable by vehicle 'h15_12268'.\n",
      "Warning: The vehicle 'h15_12268' has no valid route.\n",
      "Warning: No connection between edge '24792117#9' and edge '23740690' found.\n",
      "Warning: Mandatory edge '23740690' not reachable by vehicle 'h15_14106'.\n",
      "Warning: The vehicle 'h15_14106' has no valid route.\n"
     ]
    },
    {
     "name": "stdout",
     "output_type": "stream",
     "text": [
      "Reading up to time step: 57401.15\r"
     ]
    },
    {
     "name": "stderr",
     "output_type": "stream",
     "text": [
      "Warning: No connection between edge '-342163134' and edge '1367068983' found.\n",
      "Warning: Mandatory edge '1367068983' not reachable by vehicle 'h15_12422'.\n",
      "Warning: The vehicle 'h15_12422' has no valid route.\n",
      "Warning: No connection between edge '-179097756#2' and edge '-62023740' found.\n",
      "Warning: Mandatory edge '-62023740' not reachable by vehicle 'h15_15429'.\n",
      "Warning: The vehicle 'h15_15429' has no valid route.\n",
      "Warning: No connection between edge '925261618' and edge '377991076#3' found.\n",
      "Warning: Mandatory edge '377991076#3' not reachable by vehicle 'h15_12832'.\n",
      "Warning: The vehicle 'h15_12832' has no valid route.\n",
      "Warning: No connection between edge '82286890' and edge '-165945026#2' found.\n",
      "Warning: Mandatory edge '-165945026#2' not reachable by vehicle 'h15_12849'.\n",
      "Warning: The vehicle 'h15_12849' has no valid route.\n",
      "Warning: No connection between edge '181899541#0' and edge '783551598' found.\n",
      "Warning: Mandatory edge '783551598' not reachable by vehicle 'h15_13020'.\n",
      "Warning: The vehicle 'h15_13020' has no valid route.\n"
     ]
    },
    {
     "name": "stdout",
     "output_type": "stream",
     "text": [
      "Reading up to time step: 57601.15\r"
     ]
    },
    {
     "name": "stderr",
     "output_type": "stream",
     "text": [
      "Warning: No connection between edge '780562172' and edge '704627333#3' found.\n",
      "Warning: Mandatory edge '704627333#3' not reachable by vehicle 'h15_13124'.\n",
      "Warning: The vehicle 'h15_13124' has no valid route.\n",
      "Warning: No connection between edge '6313049#1' and edge '-143962123#1' found.\n",
      "Warning: Mandatory edge '-143962123#1' not reachable by vehicle 'h15_13236'.\n",
      "Warning: The vehicle 'h15_13236' has no valid route.\n",
      "Warning: No connection between edge '65611532#0' and edge '383076320' found.\n",
      "Warning: Mandatory edge '383076320' not reachable by vehicle 'h15_13361'.\n",
      "Warning: The vehicle 'h15_13361' has no valid route.\n"
     ]
    },
    {
     "name": "stdout",
     "output_type": "stream",
     "text": [
      "Reading up to time step: 57801.15\r"
     ]
    },
    {
     "name": "stderr",
     "output_type": "stream",
     "text": [
      "Warning: No connection between edge '42450086#1' and edge '510193665' found.\n",
      "Warning: Mandatory edge '510193665' not reachable by vehicle 'h16_690'.\n",
      "Warning: The vehicle 'h16_690' has no valid route.\n",
      "Warning: No connection between edge '105244977#1' and edge '144312358' found.\n",
      "Warning: Mandatory edge '144312358' not reachable by vehicle 'h16_17871'.\n",
      "Warning: The vehicle 'h16_17871' has no valid route.\n"
     ]
    },
    {
     "name": "stdout",
     "output_type": "stream",
     "text": [
      "Reading up to time step: 58001.15\r"
     ]
    },
    {
     "name": "stderr",
     "output_type": "stream",
     "text": [
      "Warning: No connection between edge '124060638#5' and edge '34353201#0' found.\n",
      "Warning: Mandatory edge '34353201#0' not reachable by vehicle 'h16_1023'.\n",
      "Warning: The vehicle 'h16_1023' has no valid route.\n",
      "Warning: No connection between edge '963931510#0' and edge '510193661' found.\n",
      "Warning: Mandatory edge '510193661' not reachable by vehicle 'h16_1292'.\n",
      "Warning: The vehicle 'h16_1292' has no valid route.\n",
      "Warning: No connection between edge '1158775838#0' and edge '-144160557#2' found.\n",
      "Warning: Mandatory edge '-144160557#2' not reachable by vehicle 'h16_17874'.\n",
      "Warning: The vehicle 'h16_17874' has no valid route.\n",
      "Warning: No connection between edge '74128330#1' and edge '161039365#2' found.\n",
      "Warning: Mandatory edge '161039365#2' not reachable by vehicle 'h16_1529'.\n",
      "Warning: The vehicle 'h16_1529' has no valid route.\n",
      "Warning: No connection between edge '-87325344' and edge '4387061#0' found.\n",
      "Warning: Mandatory edge '4387061#0' not reachable by vehicle 'h16_17255'.\n",
      "Warning: The vehicle 'h16_17255' has no valid route.\n",
      "Warning: No connection between edge '25152829#2' and edge '-143962123#2' found.\n",
      "Warning: Mandatory edge '-143962123#2' not reachable by vehicle 'h16_2075'.\n",
      "Warning: The vehicle 'h16_2075' has no valid route.\n"
     ]
    },
    {
     "name": "stdout",
     "output_type": "stream",
     "text": [
      "Reading up to time step: 58201.15\r"
     ]
    },
    {
     "name": "stderr",
     "output_type": "stream",
     "text": [
      "Warning: No connection between edge '688357782#0' and edge '66753923' found.\n",
      "Warning: Mandatory edge '66753923' not reachable by vehicle 'h16_2236'.\n",
      "Warning: The vehicle 'h16_2236' has no valid route.\n",
      "Warning: No connection between edge '-159926871' and edge '510193650#5' found.\n",
      "Warning: Mandatory edge '510193650#5' not reachable by vehicle 'h16_2392'.\n",
      "Warning: The vehicle 'h16_2392' has no valid route.\n",
      "Warning: No connection between edge '60966845#0' and edge '510193683' found.\n",
      "Warning: Mandatory edge '510193683' not reachable by vehicle 'h16_2516'.\n",
      "Warning: The vehicle 'h16_2516' has no valid route.\n",
      "Warning: No connection between edge '1091788508' and edge '-140499119#0' found.\n",
      "Warning: Mandatory edge '-140499119#0' not reachable by vehicle 'h16_2662'.\n",
      "Warning: The vehicle 'h16_2662' has no valid route.\n",
      "Warning: No connection between edge '144160556#0' and edge '510193650#2' found.\n",
      "Warning: Mandatory edge '510193650#2' not reachable by vehicle 'h16_2721'.\n",
      "Warning: The vehicle 'h16_2721' has no valid route.\n"
     ]
    },
    {
     "name": "stdout",
     "output_type": "stream",
     "text": [
      "Reading up to time step: 58601.15\r"
     ]
    },
    {
     "name": "stderr",
     "output_type": "stream",
     "text": [
      "Warning: No connection between edge '124060633#1' and edge '411014372#0' found.\n",
      "Warning: Mandatory edge '411014372#0' not reachable by vehicle 'h16_3712'.\n",
      "Warning: The vehicle 'h16_3712' has no valid route.\n",
      "Warning: No connection between edge '-142306103#1' and edge '-1060073977' found.\n",
      "Warning: Mandatory edge '-1060073977' not reachable by vehicle 'h16_4277'.\n",
      "Warning: The vehicle 'h16_4277' has no valid route.\n",
      "Warning: No connection between edge '503356965' and edge '53334000#0' found.\n",
      "Warning: Mandatory edge '53334000#0' not reachable by vehicle 'h16_4294'.\n",
      "Warning: The vehicle 'h16_4294' has no valid route.\n"
     ]
    },
    {
     "name": "stdout",
     "output_type": "stream",
     "text": [
      "Reading up to time step: 58801.15\r"
     ]
    },
    {
     "name": "stderr",
     "output_type": "stream",
     "text": [
      "Warning: No connection between edge '-71570206#0' and edge '-30281188#2' found.\n",
      "Warning: Mandatory edge '-30281188#2' not reachable by vehicle 'h16_4947'.\n",
      "Warning: The vehicle 'h16_4947' has no valid route.\n",
      "Warning: No connection between edge '139762727#0' and edge '386307419' found.\n",
      "Warning: Mandatory edge '386307419' not reachable by vehicle 'h16_5079'.\n",
      "Warning: The vehicle 'h16_5079' has no valid route.\n"
     ]
    },
    {
     "name": "stdout",
     "output_type": "stream",
     "text": [
      "Reading up to time step: 59001.15\r"
     ]
    },
    {
     "name": "stderr",
     "output_type": "stream",
     "text": [
      "Warning: No connection between edge '620942875#0' and edge '144160557#2' found.\n",
      "Warning: Mandatory edge '144160557#2' not reachable by vehicle 'h16_5448'.\n",
      "Warning: The vehicle 'h16_5448' has no valid route.\n",
      "Warning: No connection between edge '172184446#4' and edge '-378355994#2' found.\n",
      "Warning: Mandatory edge '-378355994#2' not reachable by vehicle 'h16_5511'.\n",
      "Warning: The vehicle 'h16_5511' has no valid route.\n",
      "Warning: No connection between edge '112885039' and edge '-28244586' found.\n",
      "Warning: Mandatory edge '-28244586' not reachable by vehicle 'h16_16914'.\n",
      "Warning: The vehicle 'h16_16914' has no valid route.\n",
      "Warning: No connection between edge '-383076314#5' and edge '29085278' found.\n",
      "Warning: Mandatory edge '29085278' not reachable by vehicle 'h16_16921'.\n",
      "Warning: The vehicle 'h16_16921' has no valid route.\n",
      "Warning: No connection between edge '98338686' and edge '118043203#7' found.\n",
      "Warning: Mandatory edge '118043203#7' not reachable by vehicle 'h16_5885'.\n",
      "Warning: The vehicle 'h16_5885' has no valid route.\n",
      "Warning: No connection between edge '-676607889#1' and edge '386307419' found.\n",
      "Warning: Mandatory edge '386307419' not reachable by vehicle 'h16_6063'.\n",
      "Warning: The vehicle 'h16_6063' has no valid route.\n",
      "Warning: No connection between edge '793930821' and edge '366469489#14' found.\n",
      "Warning: Mandatory edge '366469489#14' not reachable by vehicle 'h16_6167'.\n",
      "Warning: The vehicle 'h16_6167' has no valid route.\n",
      "Warning: No connection between edge '-423215355#0' and edge '1367068968' found.\n",
      "Warning: Mandatory edge '1367068968' not reachable by vehicle 'h16_6189'.\n",
      "Warning: The vehicle 'h16_6189' has no valid route.\n",
      "Warning: No connection between edge '-6309956#2' and edge '-62023728#0' found.\n",
      "Warning: Mandatory edge '-62023728#0' not reachable by vehicle 'h16_6366'.\n",
      "Warning: The vehicle 'h16_6366' has no valid route.\n"
     ]
    },
    {
     "name": "stdout",
     "output_type": "stream",
     "text": [
      "Reading up to time step: 59201.15\r"
     ]
    },
    {
     "name": "stderr",
     "output_type": "stream",
     "text": [
      "Warning: No connection between edge '1308456867#0' and edge '40936999#0' found.\n",
      "Warning: Mandatory edge '40936999#0' not reachable by vehicle 'h16_6713'.\n",
      "Warning: The vehicle 'h16_6713' has no valid route.\n",
      "Warning: No connection between edge '1249346650' and edge '712278335#0' found.\n",
      "Warning: Mandatory edge '712278335#0' not reachable by vehicle 'h16_17899'.\n",
      "Warning: The vehicle 'h16_17899' has no valid route.\n"
     ]
    },
    {
     "name": "stdout",
     "output_type": "stream",
     "text": [
      "Reading up to time step: 59401.15\r"
     ]
    },
    {
     "name": "stderr",
     "output_type": "stream",
     "text": [
      "Warning: No connection between edge '1231869933' and edge '187069052' found.\n",
      "Warning: Mandatory edge '187069052' not reachable by vehicle 'h16_17680'.\n",
      "Warning: The vehicle 'h16_17680' has no valid route.\n",
      "Warning: No connection between edge '140499121#1' and edge '367820007' found.\n",
      "Warning: Mandatory edge '367820007' not reachable by vehicle 'h16_7973'.\n",
      "Warning: The vehicle 'h16_7973' has no valid route.\n",
      "Warning: No connection between edge '688357782#1' and edge '365644259' found.\n",
      "Warning: Mandatory edge '365644259' not reachable by vehicle 'h16_8022'.\n",
      "Warning: The vehicle 'h16_8022' has no valid route.\n",
      "Warning: No connection between edge '-744422811#0' and edge '386307419' found.\n",
      "Warning: Mandatory edge '386307419' not reachable by vehicle 'h16_8142'.\n",
      "Warning: The vehicle 'h16_8142' has no valid route.\n"
     ]
    },
    {
     "name": "stdout",
     "output_type": "stream",
     "text": [
      "Reading up to time step: 59601.15\r"
     ]
    },
    {
     "name": "stderr",
     "output_type": "stream",
     "text": [
      "Warning: No connection between edge '-66364417#1' and edge '142428191' found.\n",
      "Warning: Mandatory edge '142428191' not reachable by vehicle 'h16_8308'.\n",
      "Warning: The vehicle 'h16_8308' has no valid route.\n",
      "Warning: No connection between edge '23457291' and edge '-374573101' found.\n",
      "Warning: Mandatory edge '-374573101' not reachable by vehicle 'h16_18105'.\n",
      "Warning: The vehicle 'h16_18105' has no valid route.\n",
      "Warning: No connection between edge '434365397' and edge '386307421#0' found.\n",
      "Warning: Mandatory edge '386307421#0' not reachable by vehicle 'h16_8523'.\n",
      "Warning: The vehicle 'h16_8523' has no valid route.\n",
      "Warning: No connection between edge '1328251248' and edge '386307419' found.\n",
      "Warning: Mandatory edge '386307419' not reachable by vehicle 'h16_8556'.\n",
      "Warning: The vehicle 'h16_8556' has no valid route.\n",
      "Warning: No connection between edge '114960000#1' and edge '142428191' found.\n",
      "Warning: Mandatory edge '142428191' not reachable by vehicle 'h16_8768'.\n",
      "Warning: The vehicle 'h16_8768' has no valid route.\n",
      "Warning: No connection between edge '112885039' and edge '1323602517' found.\n",
      "Warning: Mandatory edge '1323602517' not reachable by vehicle 'h16_17174'.\n",
      "Warning: The vehicle 'h16_17174' has no valid route.\n",
      "Warning: No connection between edge '-124060635' and edge '518558347' found.\n",
      "Warning: Mandatory edge '518558347' not reachable by vehicle 'h16_8876'.\n",
      "Warning: The vehicle 'h16_8876' has no valid route.\n"
     ]
    },
    {
     "name": "stdout",
     "output_type": "stream",
     "text": [
      "Reading up to time step: 59801.15\r"
     ]
    },
    {
     "name": "stderr",
     "output_type": "stream",
     "text": [
      "Warning: No connection between edge '232788067#2' and edge '210046865' found.\n",
      "Warning: Mandatory edge '210046865' not reachable by vehicle 'h16_9070'.\n",
      "Warning: The vehicle 'h16_9070' has no valid route.\n",
      "Warning: No connection between edge '6312261' and edge '88119470' found.\n",
      "Warning: Mandatory edge '88119470' not reachable by vehicle 'h16_9114'.\n",
      "Warning: The vehicle 'h16_9114' has no valid route.\n",
      "Warning: No connection between edge '-115628964' and edge '-62023730' found.\n",
      "Warning: Mandatory edge '-62023730' not reachable by vehicle 'h16_9323'.\n",
      "Warning: The vehicle 'h16_9323' has no valid route.\n",
      "Warning: No connection between edge '88119475#2' and edge '144160557#2' found.\n",
      "Warning: Mandatory edge '144160557#2' not reachable by vehicle 'h16_9530'.\n",
      "Warning: The vehicle 'h16_9530' has no valid route.\n",
      "Warning: No connection between edge '252288332#0' and edge '62023728#0' found.\n",
      "Warning: Mandatory edge '62023728#0' not reachable by vehicle 'h16_9792'.\n",
      "Warning: The vehicle 'h16_9792' has no valid route.\n",
      "Warning: No connection between edge '124060638#5' and edge '-168583665' found.\n",
      "Warning: Mandatory edge '-168583665' not reachable by vehicle 'h16_10002'.\n",
      "Warning: The vehicle 'h16_10002' has no valid route.\n"
     ]
    },
    {
     "name": "stdout",
     "output_type": "stream",
     "text": [
      "Reading up to time step: 60001.15\r"
     ]
    },
    {
     "name": "stderr",
     "output_type": "stream",
     "text": [
      "Warning: No connection between edge '4385472' and edge '689636461' found.\n",
      "Warning: Mandatory edge '689636461' not reachable by vehicle 'h16_10411'.\n",
      "Warning: The vehicle 'h16_10411' has no valid route.\n",
      "Warning: No connection between edge '1335105378' and edge '360784902#6' found.\n",
      "Warning: Mandatory edge '360784902#6' not reachable by vehicle 'h16_10462'.\n",
      "Warning: The vehicle 'h16_10462' has no valid route.\n",
      "Warning: No connection between edge '-25039838#0' and edge '510193650#1' found.\n",
      "Warning: Mandatory edge '510193650#1' not reachable by vehicle 'h16_17731'.\n",
      "Warning: The vehicle 'h16_17731' has no valid route.\n",
      "Warning: No connection between edge '-142366417#0' and edge '-510193680' found.\n",
      "Warning: Mandatory edge '-510193680' not reachable by vehicle 'h16_10920'.\n",
      "Warning: The vehicle 'h16_10920' has no valid route.\n"
     ]
    },
    {
     "name": "stdout",
     "output_type": "stream",
     "text": [
      "Reading up to time step: 60201.15\r"
     ]
    },
    {
     "name": "stderr",
     "output_type": "stream",
     "text": [
      "Warning: No connection between edge '132326759' and edge '-510193680' found.\n",
      "Warning: Mandatory edge '-510193680' not reachable by vehicle 'h16_11350'.\n",
      "Warning: The vehicle 'h16_11350' has no valid route.\n"
     ]
    },
    {
     "name": "stdout",
     "output_type": "stream",
     "text": [
      "Reading up to time step: 60401.15\r"
     ]
    },
    {
     "name": "stderr",
     "output_type": "stream",
     "text": [
      "Warning: No connection between edge '330775144' and edge '143962123#0' found.\n",
      "Warning: Mandatory edge '143962123#0' not reachable by vehicle 'h16_12009'.\n",
      "Warning: The vehicle 'h16_12009' has no valid route.\n",
      "Warning: No connection between edge '180016342' and edge '378355993' found.\n",
      "Warning: Mandatory edge '378355993' not reachable by vehicle 'h16_12157'.\n",
      "Warning: The vehicle 'h16_12157' has no valid route.\n",
      "Warning: No connection between edge '-925261618' and edge '-27773582#0' found.\n",
      "Warning: Mandatory edge '-27773582#0' not reachable by vehicle 'h16_12367'.\n",
      "Warning: The vehicle 'h16_12367' has no valid route.\n",
      "Warning: No connection between edge '4649095#2' and edge '510193665' found.\n",
      "Warning: Mandatory edge '510193665' not reachable by vehicle 'h16_12511'.\n",
      "Warning: The vehicle 'h16_12511' has no valid route.\n"
     ]
    },
    {
     "name": "stdout",
     "output_type": "stream",
     "text": [
      "Reading up to time step: 60601.15\r"
     ]
    },
    {
     "name": "stderr",
     "output_type": "stream",
     "text": [
      "Warning: No connection between edge '-124060635' and edge '425559212' found.\n",
      "Warning: Mandatory edge '425559212' not reachable by vehicle 'h16_12634'.\n",
      "Warning: The vehicle 'h16_12634' has no valid route.\n",
      "Warning: No connection between edge '-53255328#0' and edge '156398858' found.\n",
      "Warning: Mandatory edge '156398858' not reachable by vehicle 'h16_12652'.\n",
      "Warning: The vehicle 'h16_12652' has no valid route.\n",
      "Warning: No connection between edge '-281308645' and edge '181738545#1' found.\n",
      "Warning: Mandatory edge '181738545#1' not reachable by vehicle 'h16_12701'.\n",
      "Warning: The vehicle 'h16_12701' has no valid route.\n",
      "Warning: No connection between edge '194486954' and edge '367820004' found.\n",
      "Warning: Mandatory edge '367820004' not reachable by vehicle 'h16_13264'.\n",
      "Warning: The vehicle 'h16_13264' has no valid route.\n",
      "Warning: No connection between edge '64227563' and edge '-112885002#1' found.\n",
      "Warning: Mandatory edge '-112885002#1' not reachable by vehicle 'h16_13767'.\n",
      "Warning: The vehicle 'h16_13767' has no valid route.\n"
     ]
    },
    {
     "name": "stdout",
     "output_type": "stream",
     "text": [
      "Reading up to time step: 60801.15\r"
     ]
    },
    {
     "name": "stderr",
     "output_type": "stream",
     "text": [
      "Warning: No connection between edge '172248850#0' and edge '386307419' found.\n",
      "Warning: Mandatory edge '386307419' not reachable by vehicle 'h16_13803'.\n",
      "Warning: The vehicle 'h16_13803' has no valid route.\n",
      "Warning: No connection between edge '880567548#0' and edge '446955265' found.\n",
      "Warning: Mandatory edge '446955265' not reachable by vehicle 'h16_13900'.\n",
      "Warning: The vehicle 'h16_13900' has no valid route.\n",
      "Warning: No connection between edge '1091788508' and edge '270404037' found.\n",
      "Warning: Mandatory edge '270404037' not reachable by vehicle 'h16_13938'.\n",
      "Warning: The vehicle 'h16_13938' has no valid route.\n",
      "Warning: No connection between edge '1332793122' and edge '-1334840571' found.\n",
      "Warning: Mandatory edge '-1334840571' not reachable by vehicle 'h16_13960'.\n",
      "Warning: The vehicle 'h16_13960' has no valid route.\n",
      "Warning: No connection between edge '-68607296#0' and edge '62023728#1' found.\n",
      "Warning: Mandatory edge '62023728#1' not reachable by vehicle 'h16_17933'.\n",
      "Warning: The vehicle 'h16_17933' has no valid route.\n",
      "Warning: No connection between edge '163472143#2' and edge '4387061#0' found.\n",
      "Warning: Mandatory edge '4387061#0' not reachable by vehicle 'h16_18224'.\n",
      "Warning: The vehicle 'h16_18224' has no valid route.\n"
     ]
    },
    {
     "name": "stdout",
     "output_type": "stream",
     "text": [
      "Reading up to time step: 61001.15\r"
     ]
    },
    {
     "name": "stderr",
     "output_type": "stream",
     "text": [
      "Warning: No connection between edge '-114952504#0' and edge '143962123#2' found.\n",
      "Warning: Mandatory edge '143962123#2' not reachable by vehicle 'h16_14516'.\n",
      "Warning: The vehicle 'h16_14516' has no valid route.\n",
      "Warning: No connection between edge '180015216' and edge '4387061#0' found.\n",
      "Warning: Mandatory edge '4387061#0' not reachable by vehicle 'h16_14850'.\n",
      "Warning: The vehicle 'h16_14850' has no valid route.\n",
      "Warning: No connection between edge '-53189892' and edge '-378355994#2' found.\n",
      "Warning: Mandatory edge '-378355994#2' not reachable by vehicle 'h16_14906'.\n",
      "Warning: The vehicle 'h16_14906' has no valid route.\n",
      "Warning: No connection between edge '122372052#0' and edge '493061137' found.\n",
      "Warning: Mandatory edge '493061137' not reachable by vehicle 'h16_15112'.\n",
      "Warning: The vehicle 'h16_15112' has no valid route.\n",
      "Warning: No connection between edge '1223256095' and edge '510193650#4' found.\n",
      "Warning: Mandatory edge '510193650#4' not reachable by vehicle 'h16_15215'.\n",
      "Warning: The vehicle 'h16_15215' has no valid route.\n"
     ]
    },
    {
     "name": "stdout",
     "output_type": "stream",
     "text": [
      "Reading up to time step: 61201.15\r"
     ]
    },
    {
     "name": "stderr",
     "output_type": "stream",
     "text": [
      "Warning: No connection between edge '-925261618' and edge '-1311953460' found.\n",
      "Warning: Mandatory edge '-1311953460' not reachable by vehicle 'h16_15234'.\n",
      "Warning: The vehicle 'h16_15234' has no valid route.\n",
      "Warning: No connection between edge '-178824382' and edge '-112885002#1' found.\n",
      "Warning: Mandatory edge '-112885002#1' not reachable by vehicle 'h16_15494'.\n",
      "Warning: The vehicle 'h16_15494' has no valid route.\n",
      "Warning: No connection between edge '446955267' and edge '-330748598#0' found.\n",
      "Warning: Mandatory edge '-330748598#0' not reachable by vehicle 'h16_15592'.\n",
      "Warning: The vehicle 'h16_15592' has no valid route.\n",
      "Warning: No connection between edge '688357782#0' and edge '687941086' found.\n",
      "Warning: Mandatory edge '687941086' not reachable by vehicle 'h16_15902'.\n",
      "Warning: The vehicle 'h16_15902' has no valid route.\n",
      "Warning: No connection between edge '-554722020' and edge '-62023728#0' found.\n",
      "Warning: Mandatory edge '-62023728#0' not reachable by vehicle 'h16_16016'.\n",
      "Warning: The vehicle 'h16_16016' has no valid route.\n"
     ]
    },
    {
     "name": "stdout",
     "output_type": "stream",
     "text": [
      "Reading up to time step: 61401.15\r"
     ]
    },
    {
     "name": "stderr",
     "output_type": "stream",
     "text": [
      "Warning: No connection between edge '-131875138#14' and edge '510193635#1' found.\n",
      "Warning: Mandatory edge '510193635#1' not reachable by vehicle 'h17_261'.\n",
      "Warning: The vehicle 'h17_261' has no valid route.\n",
      "Warning: No connection between edge '5051211#5' and edge '-510193683' found.\n",
      "Warning: Mandatory edge '-510193683' not reachable by vehicle 'h17_578'.\n",
      "Warning: The vehicle 'h17_578' has no valid route.\n",
      "Warning: No connection between edge '23698017#0' and edge '-378355994#2' found.\n",
      "Warning: Mandatory edge '-378355994#2' not reachable by vehicle 'h17_617'.\n",
      "Warning: The vehicle 'h17_617' has no valid route.\n",
      "Warning: No connection between edge '124060638#5' and edge '-378394662' found.\n",
      "Warning: Mandatory edge '-378394662' not reachable by vehicle 'h17_751'.\n",
      "Warning: The vehicle 'h17_751' has no valid route.\n",
      "Warning: No connection between edge '-482019809' and edge '493061137' found.\n",
      "Warning: Mandatory edge '493061137' not reachable by vehicle 'h17_852'.\n",
      "Warning: The vehicle 'h17_852' has no valid route.\n",
      "Warning: No connection between edge '1035313833#0' and edge '383992414' found.\n",
      "Warning: Mandatory edge '383992414' not reachable by vehicle 'h17_25603'.\n",
      "Warning: The vehicle 'h17_25603' has no valid route.\n",
      "Warning: No connection between edge '-97294537' and edge '386307419' found.\n",
      "Warning: Mandatory edge '386307419' not reachable by vehicle 'h17_1145'.\n",
      "Warning: The vehicle 'h17_1145' has no valid route.\n",
      "Warning: No connection between edge '-223731321' and edge '156398858' found.\n",
      "Warning: Mandatory edge '156398858' not reachable by vehicle 'h17_1342'.\n",
      "Warning: The vehicle 'h17_1342' has no valid route.\n"
     ]
    },
    {
     "name": "stdout",
     "output_type": "stream",
     "text": [
      "Reading up to time step: 61601.15\r"
     ]
    },
    {
     "name": "stderr",
     "output_type": "stream",
     "text": [
      "Warning: No connection between edge '189876380' and edge '-62023728#0' found.\n",
      "Warning: Mandatory edge '-62023728#0' not reachable by vehicle 'h17_2156'.\n",
      "Warning: The vehicle 'h17_2156' has no valid route.\n",
      "Warning: No connection between edge '-632110819#0' and edge '-1060073977' found.\n",
      "Warning: Mandatory edge '-1060073977' not reachable by vehicle 'h17_2539'.\n",
      "Warning: The vehicle 'h17_2539' has no valid route.\n",
      "Warning: No connection between edge '51762092' and edge '263520769#0' found.\n",
      "Warning: Mandatory edge '263520769#0' not reachable by vehicle 'h17_2549'.\n",
      "Warning: The vehicle 'h17_2549' has no valid route.\n"
     ]
    },
    {
     "name": "stdout",
     "output_type": "stream",
     "text": [
      "Reading up to time step: 61801.15\r"
     ]
    },
    {
     "name": "stderr",
     "output_type": "stream",
     "text": [
      "Warning: No connection between edge '47072480#1' and edge '-62023728#0' found.\n",
      "Warning: Mandatory edge '-62023728#0' not reachable by vehicle 'h17_2749'.\n",
      "Warning: The vehicle 'h17_2749' has no valid route.\n",
      "Warning: No connection between edge '-793930821' and edge '-66364409' found.\n",
      "Warning: Mandatory edge '-66364409' not reachable by vehicle 'h17_3346'.\n",
      "Warning: The vehicle 'h17_3346' has no valid route.\n",
      "Warning: No connection between edge '-430030137' and edge '62023730' found.\n",
      "Warning: Mandatory edge '62023730' not reachable by vehicle 'h17_3400'.\n",
      "Warning: The vehicle 'h17_3400' has no valid route.\n",
      "Warning: No connection between edge '442217048' and edge '4387061#0' found.\n",
      "Warning: Mandatory edge '4387061#0' not reachable by vehicle 'h17_3667'.\n",
      "Warning: The vehicle 'h17_3667' has no valid route.\n",
      "Warning: No connection between edge '98338686' and edge '123460279#1' found.\n",
      "Warning: Mandatory edge '123460279#1' not reachable by vehicle 'h17_3757'.\n",
      "Warning: The vehicle 'h17_3757' has no valid route.\n",
      "Warning: No connection between edge '151096641' and edge '-112885002#1' found.\n",
      "Warning: Mandatory edge '-112885002#1' not reachable by vehicle 'h17_3781'.\n",
      "Warning: The vehicle 'h17_3781' has no valid route.\n"
     ]
    },
    {
     "name": "stdout",
     "output_type": "stream",
     "text": [
      "Reading up to time step: 62001.15\r"
     ]
    },
    {
     "name": "stderr",
     "output_type": "stream",
     "text": [
      "Warning: No connection between edge '124060638#6' and edge '163081793#1' found.\n",
      "Warning: Mandatory edge '163081793#1' not reachable by vehicle 'h17_3835'.\n",
      "Warning: The vehicle 'h17_3835' has no valid route.\n"
     ]
    },
    {
     "name": "stdout",
     "output_type": "stream",
     "text": [
      "Reading up to time step: 62201.15\r"
     ]
    },
    {
     "name": "stderr",
     "output_type": "stream",
     "text": [
      "Warning: No connection between edge '925261618' and edge '42450087#0' found.\n",
      "Warning: Mandatory edge '42450087#0' not reachable by vehicle 'h17_5598'.\n",
      "Warning: The vehicle 'h17_5598' has no valid route.\n",
      "Warning: No connection between edge '-135876944#2' and edge '-62023730' found.\n",
      "Warning: Mandatory edge '-62023730' not reachable by vehicle 'h17_25134'.\n",
      "Warning: The vehicle 'h17_25134' has no valid route.\n",
      "Warning: No connection between edge '925261618' and edge '289726341#0' found.\n",
      "Warning: Mandatory edge '289726341#0' not reachable by vehicle 'h17_5961'.\n",
      "Warning: The vehicle 'h17_5961' has no valid route.\n",
      "Warning: No connection between edge '-115868196' and edge '144160557#2' found.\n",
      "Warning: Mandatory edge '144160557#2' not reachable by vehicle 'h17_6184'.\n",
      "Warning: The vehicle 'h17_6184' has no valid route.\n"
     ]
    },
    {
     "name": "stdout",
     "output_type": "stream",
     "text": [
      "Reading up to time step: 62401.15\r"
     ]
    },
    {
     "name": "stderr",
     "output_type": "stream",
     "text": [
      "Warning: No connection between edge '319493704' and edge '493061137' found.\n",
      "Warning: Mandatory edge '493061137' not reachable by vehicle 'h17_6406'.\n",
      "Warning: The vehicle 'h17_6406' has no valid route.\n",
      "Warning: No connection between edge '1203882727#1' and edge '27768907#2' found.\n",
      "Warning: Mandatory edge '27768907#2' not reachable by vehicle 'h17_6531'.\n",
      "Warning: The vehicle 'h17_6531' has no valid route.\n",
      "Warning: No connection between edge '46986599#2' and edge '767313244' found.\n",
      "Warning: Mandatory edge '767313244' not reachable by vehicle 'h17_6575'.\n",
      "Warning: The vehicle 'h17_6575' has no valid route.\n",
      "Warning: No connection between edge '40283880' and edge '-112885002#0' found.\n",
      "Warning: Mandatory edge '-112885002#0' not reachable by vehicle 'h17_25715'.\n",
      "Warning: The vehicle 'h17_25715' has no valid route.\n",
      "Warning: No connection between edge '170583232#0' and edge '510193665' found.\n",
      "Warning: Mandatory edge '510193665' not reachable by vehicle 'h17_6717'.\n",
      "Warning: The vehicle 'h17_6717' has no valid route.\n",
      "Warning: No connection between edge '108938544' and edge '35156385#1' found.\n",
      "Warning: Mandatory edge '35156385#1' not reachable by vehicle 'h17_6753'.\n",
      "Warning: The vehicle 'h17_6753' has no valid route.\n",
      "Warning: No connection between edge '1167555553#1' and edge '62023728#0' found.\n",
      "Warning: Mandatory edge '62023728#0' not reachable by vehicle 'h17_7172'.\n",
      "Warning: The vehicle 'h17_7172' has no valid route.\n",
      "Warning: No connection between edge '-1133879966#0' and edge '899788867' found.\n",
      "Warning: Mandatory edge '899788867' not reachable by vehicle 'h17_23550'.\n",
      "Warning: The vehicle 'h17_23550' has no valid route.\n",
      "Warning: No connection between edge '-342158352' and edge '142428191' found.\n",
      "Warning: Mandatory edge '142428191' not reachable by vehicle 'h17_7340'.\n",
      "Warning: The vehicle 'h17_7340' has no valid route.\n",
      "Warning: No connection between edge '-39170419' and edge '161432888' found.\n",
      "Warning: Mandatory edge '161432888' not reachable by vehicle 'h17_7380'.\n",
      "Warning: The vehicle 'h17_7380' has no valid route.\n",
      "Warning: No connection between edge '-153014060' and edge '1367068968' found.\n",
      "Warning: Mandatory edge '1367068968' not reachable by vehicle 'h17_7538'.\n",
      "Warning: The vehicle 'h17_7538' has no valid route.\n"
     ]
    },
    {
     "name": "stdout",
     "output_type": "stream",
     "text": [
      "Reading up to time step: 62601.15\r"
     ]
    },
    {
     "name": "stderr",
     "output_type": "stream",
     "text": [
      "Warning: No connection between edge '1308456867#0' and edge '158426203' found.\n",
      "Warning: Mandatory edge '158426203' not reachable by vehicle 'h17_8098'.\n",
      "Warning: The vehicle 'h17_8098' has no valid route.\n",
      "Warning: No connection between edge '160903478' and edge '-6310764#2' found.\n",
      "Warning: Mandatory edge '-6310764#2' not reachable by vehicle 'h17_24729'.\n",
      "Warning: The vehicle 'h17_24729' has no valid route.\n",
      "Warning: No connection between edge '-150925676' and edge '724500159#2' found.\n",
      "Warning: Mandatory edge '724500159#2' not reachable by vehicle 'h17_8229'.\n",
      "Warning: The vehicle 'h17_8229' has no valid route.\n",
      "Warning: No connection between edge '1091788508' and edge '61489661#0' found.\n",
      "Warning: Mandatory edge '61489661#0' not reachable by vehicle 'h17_23136'.\n",
      "Warning: The vehicle 'h17_23136' has no valid route.\n",
      "Warning: No connection between edge '31804345' and edge '81070934#1-AddedOnRampEdge' found.\n",
      "Warning: Mandatory edge '81070934#1-AddedOnRampEdge' not reachable by vehicle 'h17_24734'.\n",
      "Warning: The vehicle 'h17_24734' has no valid route.\n",
      "Warning: No connection between edge '-65611556' and edge '386307419' found.\n",
      "Warning: Mandatory edge '386307419' not reachable by vehicle 'h17_8465'.\n",
      "Warning: The vehicle 'h17_8465' has no valid route.\n",
      "Warning: No connection between edge '493061137' and edge '39484978#5' found.\n",
      "Warning: Mandatory edge '39484978#5' not reachable by vehicle 'h17_8670'.\n",
      "Warning: The vehicle 'h17_8670' has no valid route.\n",
      "Warning: No connection between edge '27769757#2' and edge '62023728#1' found.\n",
      "Warning: Mandatory edge '62023728#1' not reachable by vehicle 'h17_8722'.\n",
      "Warning: The vehicle 'h17_8722' has no valid route.\n",
      "Warning: No connection between edge '398118466#6' and edge '144160557#2' found.\n",
      "Warning: Mandatory edge '144160557#2' not reachable by vehicle 'h17_9401'.\n",
      "Warning: The vehicle 'h17_9401' has no valid route.\n"
     ]
    },
    {
     "name": "stdout",
     "output_type": "stream",
     "text": [
      "Reading up to time step: 62801.15\r"
     ]
    },
    {
     "name": "stderr",
     "output_type": "stream",
     "text": [
      "Warning: No connection between edge '-72049679' and edge '62023730' found.\n",
      "Warning: Mandatory edge '62023730' not reachable by vehicle 'h17_9758'.\n",
      "Warning: The vehicle 'h17_9758' has no valid route.\n",
      "Warning: No connection between edge '1335105378' and edge '55336679#5' found.\n",
      "Warning: Mandatory edge '55336679#5' not reachable by vehicle 'h17_10116'.\n",
      "Warning: The vehicle 'h17_10116' has no valid route.\n"
     ]
    },
    {
     "name": "stdout",
     "output_type": "stream",
     "text": [
      "Reading up to time step: 63001.15\r"
     ]
    },
    {
     "name": "stderr",
     "output_type": "stream",
     "text": [
      "Warning: No connection between edge '165193636#0' and edge '62023728#0' found.\n",
      "Warning: Mandatory edge '62023728#0' not reachable by vehicle 'h17_10488'.\n",
      "Warning: The vehicle 'h17_10488' has no valid route.\n",
      "Warning: No connection between edge '142307781' and edge '144160547' found.\n",
      "Warning: Mandatory edge '144160547' not reachable by vehicle 'h17_10535'.\n",
      "Warning: The vehicle 'h17_10535' has no valid route.\n",
      "Warning: No connection between edge '-1334840574#3' and edge '510193674' found.\n",
      "Warning: Mandatory edge '510193674' not reachable by vehicle 'h17_10760'.\n",
      "Warning: The vehicle 'h17_10760' has no valid route.\n",
      "Warning: No connection between edge '1203882727#1' and edge '71570218#5' found.\n",
      "Warning: Mandatory edge '71570218#5' not reachable by vehicle 'h17_11010'.\n",
      "Warning: The vehicle 'h17_11010' has no valid route.\n",
      "Warning: No connection between edge '-925261618' and edge '-342094976#4' found.\n",
      "Warning: Mandatory edge '-342094976#4' not reachable by vehicle 'h17_11036'.\n",
      "Warning: The vehicle 'h17_11036' has no valid route.\n",
      "Warning: No connection between edge '-744422811#3' and edge '493061137' found.\n",
      "Warning: Mandatory edge '493061137' not reachable by vehicle 'h17_11076'.\n",
      "Warning: The vehicle 'h17_11076' has no valid route.\n",
      "Warning: No connection between edge '256155270#0' and edge '367820007' found.\n",
      "Warning: Mandatory edge '367820007' not reachable by vehicle 'h17_11158'.\n",
      "Warning: The vehicle 'h17_11158' has no valid route.\n"
     ]
    },
    {
     "name": "stdout",
     "output_type": "stream",
     "text": [
      "Reading up to time step: 63201.15\r"
     ]
    },
    {
     "name": "stderr",
     "output_type": "stream",
     "text": [
      "Warning: No connection between edge '925261618' and edge '-53255327#0' found.\n",
      "Warning: Mandatory edge '-53255327#0' not reachable by vehicle 'h17_11582'.\n",
      "Warning: The vehicle 'h17_11582' has no valid route.\n",
      "Warning: No connection between edge '174134833#1' and edge '510193635#0' found.\n",
      "Warning: Mandatory edge '510193635#0' not reachable by vehicle 'h17_11777'.\n",
      "Warning: The vehicle 'h17_11777' has no valid route.\n",
      "Warning: No connection between edge '-793930821' and edge '-427444320' found.\n",
      "Warning: Mandatory edge '-427444320' not reachable by vehicle 'h17_11824'.\n",
      "Warning: The vehicle 'h17_11824' has no valid route.\n",
      "Warning: No connection between edge '46998109#7' and edge '493061137' found.\n",
      "Warning: Mandatory edge '493061137' not reachable by vehicle 'h17_11928'.\n",
      "Warning: The vehicle 'h17_11928' has no valid route.\n",
      "Warning: No connection between edge '232788067#2' and edge '40941623#1' found.\n",
      "Warning: Mandatory edge '40941623#1' not reachable by vehicle 'h17_12278'.\n",
      "Warning: The vehicle 'h17_12278' has no valid route.\n",
      "Warning: No connection between edge '46250516' and edge '143962120' found.\n",
      "Warning: Mandatory edge '143962120' not reachable by vehicle 'h17_12424'.\n",
      "Warning: The vehicle 'h17_12424' has no valid route.\n"
     ]
    },
    {
     "name": "stdout",
     "output_type": "stream",
     "text": [
      "Reading up to time step: 63401.15\r"
     ]
    },
    {
     "name": "stderr",
     "output_type": "stream",
     "text": [
      "Warning: No connection between edge '406234517#0' and edge '-326390750#0' found.\n",
      "Warning: Mandatory edge '-326390750#0' not reachable by vehicle 'h17_13109'.\n",
      "Warning: The vehicle 'h17_13109' has no valid route.\n",
      "Warning: No connection between edge '-925261618' and edge '-313025059#0' found.\n",
      "Warning: Mandatory edge '-313025059#0' not reachable by vehicle 'h17_13723'.\n",
      "Warning: The vehicle 'h17_13723' has no valid route.\n",
      "Warning: No connection between edge '-41341540#0' and edge '1367068968' found.\n",
      "Warning: Mandatory edge '1367068968' not reachable by vehicle 'h17_13747'.\n",
      "Warning: The vehicle 'h17_13747' has no valid route.\n",
      "Warning: No connection between edge '-30129956#2' and edge '-430001011' found.\n",
      "Warning: Mandatory edge '-430001011' not reachable by vehicle 'h17_25858'.\n",
      "Warning: The vehicle 'h17_25858' has no valid route.\n",
      "Warning: No connection between edge '-237036534#0' and edge '1367068968' found.\n",
      "Warning: Mandatory edge '1367068968' not reachable by vehicle 'h17_14362'.\n",
      "Warning: The vehicle 'h17_14362' has no valid route.\n"
     ]
    },
    {
     "name": "stdout",
     "output_type": "stream",
     "text": [
      "Reading up to time step: 63601.15\r"
     ]
    },
    {
     "name": "stderr",
     "output_type": "stream",
     "text": [
      "Warning: No connection between edge '435268514' and edge '4387061#0' found.\n",
      "Warning: Mandatory edge '4387061#0' not reachable by vehicle 'h17_14430'.\n",
      "Warning: The vehicle 'h17_14430' has no valid route.\n",
      "Warning: No connection between edge '88119475#3' and edge '52719151' found.\n",
      "Warning: Mandatory edge '52719151' not reachable by vehicle 'h17_24507'.\n",
      "Warning: The vehicle 'h17_24507' has no valid route.\n",
      "Warning: No connection between edge '503356965' and edge '-676058874' found.\n",
      "Warning: Mandatory edge '-676058874' not reachable by vehicle 'h17_15118'.\n",
      "Warning: The vehicle 'h17_15118' has no valid route.\n",
      "Warning: No connection between edge '42393914' and edge '767313244' found.\n",
      "Warning: Mandatory edge '767313244' not reachable by vehicle 'h17_15172'.\n",
      "Warning: The vehicle 'h17_15172' has no valid route.\n",
      "Warning: No connection between edge '-112885009#0' and edge '71570214#1' found.\n",
      "Warning: Mandatory edge '71570214#1' not reachable by vehicle 'h17_15272'.\n",
      "Warning: The vehicle 'h17_15272' has no valid route.\n",
      "Warning: No connection between edge '-61976439#6' and edge '689636461' found.\n",
      "Warning: Mandatory edge '689636461' not reachable by vehicle 'h17_15534'.\n",
      "Warning: The vehicle 'h17_15534' has no valid route.\n"
     ]
    },
    {
     "name": "stdout",
     "output_type": "stream",
     "text": [
      "Reading up to time step: 63801.15\r"
     ]
    },
    {
     "name": "stderr",
     "output_type": "stream",
     "text": [
      "Warning: No connection between edge '303225593#2' and edge '478673876' found.\n",
      "Warning: Mandatory edge '478673876' not reachable by vehicle 'h17_24899'.\n",
      "Warning: The vehicle 'h17_24899' has no valid route.\n",
      "Warning: No connection between edge '-24256764#1' and edge '29085278' found.\n",
      "Warning: Mandatory edge '29085278' not reachable by vehicle 'h17_24284'.\n",
      "Warning: The vehicle 'h17_24284' has no valid route.\n",
      "Warning: No connection between edge '-161432890#3' and edge '386307421#0' found.\n",
      "Warning: Mandatory edge '386307421#0' not reachable by vehicle 'h17_16742'.\n",
      "Warning: The vehicle 'h17_16742' has no valid route.\n"
     ]
    },
    {
     "name": "stdout",
     "output_type": "stream",
     "text": [
      "Reading up to time step: 64001.15\r"
     ]
    },
    {
     "name": "stderr",
     "output_type": "stream",
     "text": [
      "Warning: No connection between edge '-887925205#3' and edge '-143962123#1' found.\n",
      "Warning: Mandatory edge '-143962123#1' not reachable by vehicle 'h17_16761'.\n",
      "Warning: The vehicle 'h17_16761' has no valid route.\n",
      "Warning: No connection between edge '66753931#0' and edge '-367820004' found.\n",
      "Warning: Mandatory edge '-367820004' not reachable by vehicle 'h17_17017'.\n",
      "Warning: The vehicle 'h17_17017' has no valid route.\n"
     ]
    },
    {
     "name": "stdout",
     "output_type": "stream",
     "text": [
      "Reading up to time step: 64201.15\r"
     ]
    },
    {
     "name": "stderr",
     "output_type": "stream",
     "text": [
      "Warning: No connection between edge '342738939' and edge '1060073977' found.\n",
      "Warning: Mandatory edge '1060073977' not reachable by vehicle 'h17_17929'.\n",
      "Warning: The vehicle 'h17_17929' has no valid route.\n",
      "Warning: No connection between edge '71341927#0' and edge '144160557#2' found.\n",
      "Warning: Mandatory edge '144160557#2' not reachable by vehicle 'h17_18106'.\n",
      "Warning: The vehicle 'h17_18106' has no valid route.\n",
      "Warning: No connection between edge '138408472' and edge '-62023728#0' found.\n",
      "Warning: Mandatory edge '-62023728#0' not reachable by vehicle 'h17_18151'.\n",
      "Warning: The vehicle 'h17_18151' has no valid route.\n",
      "Warning: No connection between edge '124060633#1' and edge '154400530#0' found.\n",
      "Warning: Mandatory edge '154400530#0' not reachable by vehicle 'h17_18325'.\n",
      "Warning: The vehicle 'h17_18325' has no valid route.\n",
      "Warning: No connection between edge '-66833235#0' and edge '1367068968' found.\n",
      "Warning: Mandatory edge '1367068968' not reachable by vehicle 'h17_18348'.\n",
      "Warning: The vehicle 'h17_18348' has no valid route.\n",
      "Warning: No connection between edge '-63674311#2' and edge '386307419' found.\n",
      "Warning: Mandatory edge '386307419' not reachable by vehicle 'h17_19078'.\n",
      "Warning: The vehicle 'h17_19078' has no valid route.\n",
      "Warning: No connection between edge '925261618' and edge '620627364' found.\n",
      "Warning: Mandatory edge '620627364' not reachable by vehicle 'h17_19323'.\n",
      "Warning: The vehicle 'h17_19323' has no valid route.\n"
     ]
    },
    {
     "name": "stdout",
     "output_type": "stream",
     "text": [
      "Reading up to time step: 64401.15\r"
     ]
    },
    {
     "name": "stderr",
     "output_type": "stream",
     "text": [
      "Warning: No connection between edge '1086728037' and edge '510193665' found.\n",
      "Warning: Mandatory edge '510193665' not reachable by vehicle 'h17_19444'.\n",
      "Warning: The vehicle 'h17_19444' has no valid route.\n",
      "Warning: No connection between edge '780562172' and edge '-1123617677#1' found.\n",
      "Warning: Mandatory edge '-1123617677#1' not reachable by vehicle 'h17_19752'.\n",
      "Warning: The vehicle 'h17_19752' has no valid route.\n",
      "Warning: No connection between edge '-324004603#1' and edge '-510193683' found.\n",
      "Warning: Mandatory edge '-510193683' not reachable by vehicle 'h17_19964'.\n",
      "Warning: The vehicle 'h17_19964' has no valid route.\n",
      "Warning: No connection between edge '82286890' and edge '25816196#3' found.\n",
      "Warning: Mandatory edge '25816196#3' not reachable by vehicle 'h17_23374'.\n",
      "Warning: The vehicle 'h17_23374' has no valid route.\n",
      "Warning: No connection between edge '1367068984' and edge '430026146#1' found.\n",
      "Warning: Mandatory edge '430026146#1' not reachable by vehicle 'h17_20447'.\n",
      "Warning: The vehicle 'h17_20447' has no valid route.\n"
     ]
    },
    {
     "name": "stdout",
     "output_type": "stream",
     "text": [
      "Reading up to time step: 64601.15\r"
     ]
    },
    {
     "name": "stderr",
     "output_type": "stream",
     "text": [
      "Warning: No connection between edge '101975852#0' and edge '-144160557#2' found.\n",
      "Warning: Mandatory edge '-144160557#2' not reachable by vehicle 'h17_20855'.\n",
      "Warning: The vehicle 'h17_20855' has no valid route.\n",
      "Warning: No connection between edge '-24949527#1' and edge '-367820007' found.\n",
      "Warning: Mandatory edge '-367820007' not reachable by vehicle 'h17_20961'.\n",
      "Warning: The vehicle 'h17_20961' has no valid route.\n",
      "Warning: No connection between edge '82286890' and edge '71381682#0' found.\n",
      "Warning: Mandatory edge '71381682#0' not reachable by vehicle 'h17_20986'.\n",
      "Warning: The vehicle 'h17_20986' has no valid route.\n",
      "Warning: No connection between edge '406234517#0' and edge '-144168988#1' found.\n",
      "Warning: Mandatory edge '-144168988#1' not reachable by vehicle 'h17_21047'.\n",
      "Warning: The vehicle 'h17_21047' has no valid route.\n",
      "Warning: No connection between edge '493061137' and edge '66677091#0' found.\n",
      "Warning: Mandatory edge '66677091#0' not reachable by vehicle 'h17_21061'.\n",
      "Warning: The vehicle 'h17_21061' has no valid route.\n",
      "Warning: No connection between edge '-34336758' and edge '386307421#1' found.\n",
      "Warning: Mandatory edge '386307421#1' not reachable by vehicle 'h17_21093'.\n",
      "Warning: The vehicle 'h17_21093' has no valid route.\n",
      "Warning: No connection between edge '686136784#1' and edge '-144160557#2' found.\n",
      "Warning: Mandatory edge '-144160557#2' not reachable by vehicle 'h17_26009'.\n",
      "Warning: The vehicle 'h17_26009' has no valid route.\n",
      "Warning: No connection between edge '-30344419#0' and edge '383076320' found.\n",
      "Warning: Mandatory edge '383076320' not reachable by vehicle 'h17_21680'.\n",
      "Warning: The vehicle 'h17_21680' has no valid route.\n",
      "Warning: No connection between edge '207654055#0' and edge '144160547' found.\n",
      "Warning: Mandatory edge '144160547' not reachable by vehicle 'h17_25580'.\n",
      "Warning: The vehicle 'h17_25580' has no valid route.\n"
     ]
    },
    {
     "name": "stdout",
     "output_type": "stream",
     "text": [
      "Reading up to time step: 64801.15\r"
     ]
    },
    {
     "name": "stderr",
     "output_type": "stream",
     "text": [
      "Warning: No connection between edge '-124060635' and edge '-1054077419' found.\n",
      "Warning: Mandatory edge '-1054077419' not reachable by vehicle 'h17_21825'.\n",
      "Warning: The vehicle 'h17_21825' has no valid route.\n",
      "Warning: No connection between edge '124060635' and edge '-158434621#0' found.\n",
      "Warning: Mandatory edge '-158434621#0' not reachable by vehicle 'h17_21913'.\n",
      "Warning: The vehicle 'h17_21913' has no valid route.\n",
      "Warning: No connection between edge '115661504#0' and edge '-367820004' found.\n",
      "Warning: Mandatory edge '-367820004' not reachable by vehicle 'h17_21972'.\n",
      "Warning: The vehicle 'h17_21972' has no valid route.\n",
      "Warning: No connection between edge '195772780#1' and edge '281308645' found.\n",
      "Warning: Mandatory edge '281308645' not reachable by vehicle 'h17_25403'.\n",
      "Warning: The vehicle 'h17_25403' has no valid route.\n",
      "Warning: No connection between edge '780562172' and edge '112781626#0' found.\n",
      "Warning: Mandatory edge '112781626#0' not reachable by vehicle 'h17_22654'.\n",
      "Warning: The vehicle 'h17_22654' has no valid route.\n",
      "Warning: No connection between edge '108577796' and edge '510193635#1' found.\n",
      "Warning: Mandatory edge '510193635#1' not reachable by vehicle 'h17_22886'.\n",
      "Warning: The vehicle 'h17_22886' has no valid route.\n",
      "Warning: No connection between edge '-150283182#1' and edge '-143962120' found.\n",
      "Warning: Mandatory edge '-143962120' not reachable by vehicle 'h18_23'.\n",
      "Warning: The vehicle 'h18_23' has no valid route.\n"
     ]
    },
    {
     "name": "stdout",
     "output_type": "stream",
     "text": [
      "Reading up to time step: 65001.15\r"
     ]
    },
    {
     "name": "stderr",
     "output_type": "stream",
     "text": [
      "Warning: No connection between edge '-440004362' and edge '510193664' found.\n",
      "Warning: Mandatory edge '510193664' not reachable by vehicle 'h18_111'.\n",
      "Warning: The vehicle 'h18_111' has no valid route.\n",
      "Warning: No connection between edge '689270293' and edge '144160557#1' found.\n",
      "Warning: Mandatory edge '144160557#1' not reachable by vehicle 'h18_423'.\n",
      "Warning: The vehicle 'h18_423' has no valid route.\n",
      "Warning: No connection between edge '64227540' and edge '144160557#0' found.\n",
      "Warning: Mandatory edge '144160557#0' not reachable by vehicle 'h18_506'.\n",
      "Warning: The vehicle 'h18_506' has no valid route.\n",
      "Warning: No connection between edge '665644278' and edge '-137294377' found.\n",
      "Warning: Mandatory edge '-137294377' not reachable by vehicle 'h18_1103'.\n",
      "Warning: The vehicle 'h18_1103' has no valid route.\n",
      "Warning: No connection between edge '118808606#6' and edge '510193664' found.\n",
      "Warning: Mandatory edge '510193664' not reachable by vehicle 'h18_1155'.\n",
      "Warning: The vehicle 'h18_1155' has no valid route.\n",
      "Warning: No connection between edge '-114960015' and edge '62023740' found.\n",
      "Warning: Mandatory edge '62023740' not reachable by vehicle 'h18_1906'.\n",
      "Warning: The vehicle 'h18_1906' has no valid route.\n"
     ]
    },
    {
     "name": "stdout",
     "output_type": "stream",
     "text": [
      "Reading up to time step: 65201.15\r"
     ]
    },
    {
     "name": "stderr",
     "output_type": "stream",
     "text": [
      "Warning: No connection between edge '1367068984' and edge '53189854#2' found.\n",
      "Warning: Mandatory edge '53189854#2' not reachable by vehicle 'h18_2039'.\n",
      "Warning: The vehicle 'h18_2039' has no valid route.\n",
      "Warning: No connection between edge '108938544' and edge '382671620#2' found.\n",
      "Warning: Mandatory edge '382671620#2' not reachable by vehicle 'h18_2063'.\n",
      "Warning: The vehicle 'h18_2063' has no valid route.\n",
      "Warning: No connection between edge '-150925676' and edge '561020808#0' found.\n",
      "Warning: Mandatory edge '561020808#0' not reachable by vehicle 'h18_2254'.\n",
      "Warning: The vehicle 'h18_2254' has no valid route.\n",
      "Warning: No connection between edge '-112885009#0' and edge '27773684' found.\n",
      "Warning: Mandatory edge '27773684' not reachable by vehicle 'h18_2469'.\n",
      "Warning: The vehicle 'h18_2469' has no valid route.\n",
      "Warning: No connection between edge '422504726#1' and edge '-367820004' found.\n",
      "Warning: Mandatory edge '-367820004' not reachable by vehicle 'h18_2826'.\n",
      "Warning: The vehicle 'h18_2826' has no valid route.\n"
     ]
    },
    {
     "name": "stdout",
     "output_type": "stream",
     "text": [
      "Reading up to time step: 65401.15\r"
     ]
    },
    {
     "name": "stderr",
     "output_type": "stream",
     "text": [
      "Warning: No connection between edge '-150925676' and edge '259904465' found.\n",
      "Warning: Mandatory edge '259904465' not reachable by vehicle 'h18_2970'.\n",
      "Warning: The vehicle 'h18_2970' has no valid route.\n",
      "Warning: No connection between edge '-206568336#0' and edge '62023730' found.\n",
      "Warning: Mandatory edge '62023730' not reachable by vehicle 'h18_27153'.\n",
      "Warning: The vehicle 'h18_27153' has no valid route.\n",
      "Warning: No connection between edge '124060638#4' and edge '24401934#2' found.\n",
      "Warning: Mandatory edge '24401934#2' not reachable by vehicle 'h18_3081'.\n",
      "Warning: The vehicle 'h18_3081' has no valid route.\n",
      "Warning: No connection between edge '-146862330#1' and edge '510193680' found.\n",
      "Warning: Mandatory edge '510193680' not reachable by vehicle 'h18_3162'.\n",
      "Warning: The vehicle 'h18_3162' has no valid route.\n",
      "Warning: No connection between edge '199084871#0' and edge '281308645' found.\n",
      "Warning: Mandatory edge '281308645' not reachable by vehicle 'h18_26571'.\n",
      "Warning: The vehicle 'h18_26571' has no valid route.\n",
      "Warning: No connection between edge '406234517#0' and edge '63674311#2' found.\n",
      "Warning: Mandatory edge '63674311#2' not reachable by vehicle 'h18_3613'.\n",
      "Warning: The vehicle 'h18_3613' has no valid route.\n",
      "Warning: No connection between edge '1338069158' and edge '-741912437' found.\n",
      "Warning: Mandatory edge '-741912437' not reachable by vehicle 'h18_26575'.\n",
      "Warning: The vehicle 'h18_26575' has no valid route.\n"
     ]
    },
    {
     "name": "stdout",
     "output_type": "stream",
     "text": [
      "Reading up to time step: 65601.15\r"
     ]
    },
    {
     "name": "stderr",
     "output_type": "stream",
     "text": [
      "Warning: No connection between edge '406747405#2' and edge '143962123#0' found.\n",
      "Warning: Mandatory edge '143962123#0' not reachable by vehicle 'h18_27185'.\n",
      "Warning: The vehicle 'h18_27185' has no valid route.\n",
      "Warning: No connection between edge '85943600#1' and edge '889503609' found.\n",
      "Warning: Mandatory edge '889503609' not reachable by vehicle 'h18_4855'.\n",
      "Warning: The vehicle 'h18_4855' has no valid route.\n",
      "Warning: No connection between edge '368652720#0' and edge '281308645' found.\n",
      "Warning: Mandatory edge '281308645' not reachable by vehicle 'h18_4889'.\n",
      "Warning: The vehicle 'h18_4889' has no valid route.\n",
      "Warning: No connection between edge '-1047626209#4' and edge '144160557#2' found.\n",
      "Warning: Mandatory edge '144160557#2' not reachable by vehicle 'h18_4899'.\n",
      "Warning: The vehicle 'h18_4899' has no valid route.\n",
      "Warning: No connection between edge '96717395#1' and edge '82285300#4' found.\n",
      "Warning: Mandatory edge '82285300#4' not reachable by vehicle 'h18_26111'.\n",
      "Warning: The vehicle 'h18_26111' has no valid route.\n",
      "Warning: No connection between edge '183741260' and edge '604908283' found.\n",
      "Warning: Mandatory edge '604908283' not reachable by vehicle 'h18_5037'.\n",
      "Warning: The vehicle 'h18_5037' has no valid route.\n",
      "Warning: No connection between edge '-46997930#0' and edge '144160547' found.\n",
      "Warning: Mandatory edge '144160547' not reachable by vehicle 'h18_5225'.\n",
      "Warning: The vehicle 'h18_5225' has no valid route.\n"
     ]
    },
    {
     "name": "stdout",
     "output_type": "stream",
     "text": [
      "Reading up to time step: 65801.15\r"
     ]
    },
    {
     "name": "stderr",
     "output_type": "stream",
     "text": [
      "Warning: No connection between edge '1332793122' and edge '-306365017#2' found.\n",
      "Warning: Mandatory edge '-306365017#2' not reachable by vehicle 'h18_5467'.\n",
      "Warning: The vehicle 'h18_5467' has no valid route.\n",
      "Warning: No connection between edge '-413391003' and edge '-144160557#2' found.\n",
      "Warning: Mandatory edge '-144160557#2' not reachable by vehicle 'h18_6293'.\n",
      "Warning: The vehicle 'h18_6293' has no valid route.\n",
      "Warning: No connection between edge '482440747' and edge '510193650#5' found.\n",
      "Warning: Mandatory edge '510193650#5' not reachable by vehicle 'h18_26140'.\n",
      "Warning: The vehicle 'h18_26140' has no valid route.\n",
      "Warning: No connection between edge '234295066' and edge '156398858' found.\n",
      "Warning: Mandatory edge '156398858' not reachable by vehicle 'h18_6489'.\n",
      "Warning: The vehicle 'h18_6489' has no valid route.\n",
      "Warning: No connection between edge '-521547945#1' and edge '156398858' found.\n",
      "Warning: Mandatory edge '156398858' not reachable by vehicle 'h18_6508'.\n",
      "Warning: The vehicle 'h18_6508' has no valid route.\n",
      "Warning: No connection between edge '-34600649' and edge '1159203435#0' found.\n",
      "Warning: Mandatory edge '1159203435#0' not reachable by vehicle 'h18_7070'.\n",
      "Warning: The vehicle 'h18_7070' has no valid route.\n"
     ]
    },
    {
     "name": "stdout",
     "output_type": "stream",
     "text": [
      "Reading up to time step: 66001.15\r"
     ]
    },
    {
     "name": "stderr",
     "output_type": "stream",
     "text": [
      "Warning: No connection between edge '-6314181' and edge '378355993' found.\n",
      "Warning: Mandatory edge '378355993' not reachable by vehicle 'h18_7110'.\n",
      "Warning: The vehicle 'h18_7110' has no valid route.\n",
      "Warning: No connection between edge '434798488#5' and edge '156398858' found.\n",
      "Warning: Mandatory edge '156398858' not reachable by vehicle 'h18_7431'.\n",
      "Warning: The vehicle 'h18_7431' has no valid route.\n",
      "Warning: No connection between edge '156398864' and edge '782068740#1' found.\n",
      "Warning: Mandatory edge '782068740#1' not reachable by vehicle 'h18_7696'.\n",
      "Warning: The vehicle 'h18_7696' has no valid route.\n",
      "Warning: No connection between edge '-168572581#2' and edge '383076320' found.\n",
      "Warning: Mandatory edge '383076320' not reachable by vehicle 'h18_7841'.\n",
      "Warning: The vehicle 'h18_7841' has no valid route.\n"
     ]
    },
    {
     "name": "stdout",
     "output_type": "stream",
     "text": [
      "Reading up to time step: 66201.15\r"
     ]
    },
    {
     "name": "stderr",
     "output_type": "stream",
     "text": [
      "Warning: No connection between edge '-626118735' and edge '1060073977' found.\n",
      "Warning: Mandatory edge '1060073977' not reachable by vehicle 'h18_8117'.\n",
      "Warning: The vehicle 'h18_8117' has no valid route.\n",
      "Warning: No connection between edge '74128330#1' and edge '561233963' found.\n",
      "Warning: Mandatory edge '561233963' not reachable by vehicle 'h18_8256'.\n",
      "Warning: The vehicle 'h18_8256' has no valid route.\n",
      "Warning: No connection between edge '25901026#2' and edge '88119470' found.\n",
      "Warning: Mandatory edge '88119470' not reachable by vehicle 'h18_8816'.\n",
      "Warning: The vehicle 'h18_8816' has no valid route.\n",
      "Warning: No connection between edge '1367068984' and edge '27769731#4' found.\n",
      "Warning: Mandatory edge '27769731#4' not reachable by vehicle 'h18_9048'.\n",
      "Warning: The vehicle 'h18_9048' has no valid route.\n",
      "Warning: No connection between edge '53333907#4' and edge '493061137' found.\n",
      "Warning: Mandatory edge '493061137' not reachable by vehicle 'h18_9139'.\n",
      "Warning: The vehicle 'h18_9139' has no valid route.\n",
      "Warning: No connection between edge '-118208908#1' and edge '367820004' found.\n",
      "Warning: Mandatory edge '367820004' not reachable by vehicle 'h18_9665'.\n",
      "Warning: The vehicle 'h18_9665' has no valid route.\n"
     ]
    },
    {
     "name": "stdout",
     "output_type": "stream",
     "text": [
      "Reading up to time step: 66401.15\r"
     ]
    },
    {
     "name": "stderr",
     "output_type": "stream",
     "text": [
      "Warning: No connection between edge '665644278' and edge '-82287659#1' found.\n",
      "Warning: Mandatory edge '-82287659#1' not reachable by vehicle 'h18_9761'.\n",
      "Warning: The vehicle 'h18_9761' has no valid route.\n",
      "Warning: No connection between edge '137294378#0' and edge '142428191' found.\n",
      "Warning: Mandatory edge '142428191' not reachable by vehicle 'h18_9791'.\n",
      "Warning: The vehicle 'h18_9791' has no valid route.\n",
      "Warning: No connection between edge '1014113152' and edge '1367068983' found.\n",
      "Warning: Mandatory edge '1367068983' not reachable by vehicle 'h18_10001'.\n",
      "Warning: The vehicle 'h18_10001' has no valid route.\n",
      "Warning: No connection between edge '74128330#1' and edge '-71440146' found.\n",
      "Warning: Mandatory edge '-71440146' not reachable by vehicle 'h18_10056'.\n",
      "Warning: The vehicle 'h18_10056' has no valid route.\n",
      "Warning: No connection between edge '184187146#3' and edge '6312388#0' found.\n",
      "Warning: Mandatory edge '6312388#0' not reachable by vehicle 'h18_10124'.\n",
      "Warning: The vehicle 'h18_10124' has no valid route.\n",
      "Warning: No connection between edge '53144368' and edge '-367820007' found.\n",
      "Warning: Mandatory edge '-367820007' not reachable by vehicle 'h18_10407'.\n",
      "Warning: The vehicle 'h18_10407' has no valid route.\n",
      "Warning: No connection between edge '-203677077#1' and edge '112885002#0' found.\n",
      "Warning: Mandatory edge '112885002#0' not reachable by vehicle 'h18_10505'.\n",
      "Warning: The vehicle 'h18_10505' has no valid route.\n",
      "Warning: No connection between edge '1035313833#0' and edge '120926553#3' found.\n",
      "Warning: Mandatory edge '120926553#3' not reachable by vehicle 'h18_27301'.\n",
      "Warning: The vehicle 'h18_27301' has no valid route.\n",
      "Warning: No connection between edge '304774806#0' and edge '767313244' found.\n",
      "Warning: Mandatory edge '767313244' not reachable by vehicle 'h18_10595'.\n",
      "Warning: The vehicle 'h18_10595' has no valid route.\n",
      "Warning: No connection between edge '82285287#1' and edge '1367068983' found.\n",
      "Warning: Mandatory edge '1367068983' not reachable by vehicle 'h18_10683'.\n",
      "Warning: The vehicle 'h18_10683' has no valid route.\n",
      "Warning: No connection between edge '-50345192#0' and edge '666070226#0' found.\n",
      "Warning: Mandatory edge '666070226#0' not reachable by vehicle 'h18_10884'.\n",
      "Warning: The vehicle 'h18_10884' has no valid route.\n"
     ]
    },
    {
     "name": "stdout",
     "output_type": "stream",
     "text": [
      "Reading up to time step: 66601.15\r"
     ]
    },
    {
     "name": "stderr",
     "output_type": "stream",
     "text": [
      "Warning: No connection between edge '82286890' and edge '-34935005#0' found.\n",
      "Warning: Mandatory edge '-34935005#0' not reachable by vehicle 'h18_11165'.\n",
      "Warning: The vehicle 'h18_11165' has no valid route.\n",
      "Warning: No connection between edge '406234517#0' and edge '-66504226#0' found.\n",
      "Warning: Mandatory edge '-66504226#0' not reachable by vehicle 'h18_11373'.\n",
      "Warning: The vehicle 'h18_11373' has no valid route.\n",
      "Warning: No connection between edge '446955267' and edge '-251087872' found.\n",
      "Warning: Mandatory edge '-251087872' not reachable by vehicle 'h18_25238'.\n",
      "Warning: The vehicle 'h18_25238' has no valid route.\n",
      "Warning: No connection between edge '-187533083' and edge '-144160557#1' found.\n",
      "Warning: Mandatory edge '-144160557#1' not reachable by vehicle 'h18_11806'.\n",
      "Warning: The vehicle 'h18_11806' has no valid route.\n",
      "Warning: No connection between edge '173030381' and edge '143962123#1' found.\n",
      "Warning: Mandatory edge '143962123#1' not reachable by vehicle 'h18_26253'.\n",
      "Warning: The vehicle 'h18_26253' has no valid route.\n",
      "Warning: No connection between edge '74128330#1' and edge '200278972#2' found.\n",
      "Warning: Mandatory edge '200278972#2' not reachable by vehicle 'h18_11942'.\n",
      "Warning: The vehicle 'h18_11942' has no valid route.\n"
     ]
    },
    {
     "name": "stdout",
     "output_type": "stream",
     "text": [
      "Reading up to time step: 66801.15\r"
     ]
    },
    {
     "name": "stderr",
     "output_type": "stream",
     "text": [
      "Warning: No connection between edge '72056554#0' and edge '666070226#0' found.\n",
      "Warning: Mandatory edge '666070226#0' not reachable by vehicle 'h18_12462'.\n",
      "Warning: The vehicle 'h18_12462' has no valid route.\n",
      "Warning: No connection between edge '-53923751' and edge '446955265' found.\n",
      "Warning: Mandatory edge '446955265' not reachable by vehicle 'h18_12688'.\n",
      "Warning: The vehicle 'h18_12688' has no valid route.\n",
      "Warning: No connection between edge '-925261618' and edge '-6313524#14' found.\n",
      "Warning: Mandatory edge '-6313524#14' not reachable by vehicle 'h18_12841'.\n",
      "Warning: The vehicle 'h18_12841' has no valid route.\n",
      "Warning: No connection between edge '167795356#1' and edge '167692614#0' found.\n",
      "Warning: Mandatory edge '167692614#0' not reachable by vehicle 'h18_13370'.\n",
      "Warning: The vehicle 'h18_13370' has no valid route.\n",
      "Warning: No connection between edge '-66654881#4' and edge '689636461' found.\n",
      "Warning: Mandatory edge '689636461' not reachable by vehicle 'h18_13490'.\n",
      "Warning: The vehicle 'h18_13490' has no valid route.\n",
      "Warning: No connection between edge '1118636949' and edge '112885002#1' found.\n",
      "Warning: Mandatory edge '112885002#1' not reachable by vehicle 'h18_13521'.\n",
      "Warning: The vehicle 'h18_13521' has no valid route.\n"
     ]
    },
    {
     "name": "stdout",
     "output_type": "stream",
     "text": [
      "Reading up to time step: 67001.15\r"
     ]
    },
    {
     "name": "stderr",
     "output_type": "stream",
     "text": [
      "Warning: No connection between edge '82286890' and edge '-64227532#2' found.\n",
      "Warning: Mandatory edge '-64227532#2' not reachable by vehicle 'h18_14280'.\n",
      "Warning: The vehicle 'h18_14280' has no valid route.\n",
      "Warning: No connection between edge '40933717' and edge '386307419' found.\n",
      "Warning: Mandatory edge '386307419' not reachable by vehicle 'h18_14289'.\n",
      "Warning: The vehicle 'h18_14289' has no valid route.\n",
      "Warning: No connection between edge '125002630' and edge '143962123#2' found.\n",
      "Warning: Mandatory edge '143962123#2' not reachable by vehicle 'h18_26308'.\n",
      "Warning: The vehicle 'h18_26308' has no valid route.\n",
      "Warning: No connection between edge '52579012#1' and edge '386307421#0' found.\n",
      "Warning: Mandatory edge '386307421#0' not reachable by vehicle 'h18_14559'.\n",
      "Warning: The vehicle 'h18_14559' has no valid route.\n",
      "Warning: No connection between edge '71588007' and edge '386307419' found.\n",
      "Warning: Mandatory edge '386307419' not reachable by vehicle 'h18_14592'.\n",
      "Warning: The vehicle 'h18_14592' has no valid route.\n",
      "Warning: No connection between edge '-35156290#0' and edge '510193683' found.\n",
      "Warning: Mandatory edge '510193683' not reachable by vehicle 'h18_14599'.\n",
      "Warning: The vehicle 'h18_14599' has no valid route.\n",
      "Warning: No connection between edge '6313116#1' and edge '446955265' found.\n",
      "Warning: Mandatory edge '446955265' not reachable by vehicle 'h18_14718'.\n",
      "Warning: The vehicle 'h18_14718' has no valid route.\n",
      "Warning: No connection between edge '1351817910' and edge '143962120' found.\n",
      "Warning: Mandatory edge '143962120' not reachable by vehicle 'h18_14960'.\n",
      "Warning: The vehicle 'h18_14960' has no valid route.\n"
     ]
    },
    {
     "name": "stdout",
     "output_type": "stream",
     "text": [
      "Reading up to time step: 67201.15\r"
     ]
    },
    {
     "name": "stderr",
     "output_type": "stream",
     "text": [
      "Warning: No connection between edge '71818783' and edge '386307419' found.\n",
      "Warning: Mandatory edge '386307419' not reachable by vehicle 'h18_15102'.\n",
      "Warning: The vehicle 'h18_15102' has no valid route.\n",
      "Warning: No connection between edge '-112885009#0' and edge '518558327' found.\n",
      "Warning: Mandatory edge '518558327' not reachable by vehicle 'h18_15118'.\n",
      "Warning: The vehicle 'h18_15118' has no valid route.\n",
      "Warning: No connection between edge '82287658' and edge '62023740' found.\n",
      "Warning: Mandatory edge '62023740' not reachable by vehicle 'h18_15139'.\n",
      "Warning: The vehicle 'h18_15139' has no valid route.\n",
      "Warning: No connection between edge '112732653#1' and edge '510193635#1' found.\n",
      "Warning: Mandatory edge '510193635#1' not reachable by vehicle 'h18_15403'.\n",
      "Warning: The vehicle 'h18_15403' has no valid route.\n",
      "Warning: No connection between edge '-50832088#0' and edge '62023728#1' found.\n",
      "Warning: Mandatory edge '62023728#1' not reachable by vehicle 'h18_15567'.\n",
      "Warning: The vehicle 'h18_15567' has no valid route.\n",
      "Warning: No connection between edge '28471248#2' and edge '167692614#0' found.\n",
      "Warning: Mandatory edge '167692614#0' not reachable by vehicle 'h18_26332'.\n",
      "Warning: The vehicle 'h18_26332' has no valid route.\n",
      "Warning: No connection between edge '-243641087' and edge '263520769#0' found.\n",
      "Warning: Mandatory edge '263520769#0' not reachable by vehicle 'h18_15716'.\n",
      "Warning: The vehicle 'h18_15716' has no valid route.\n",
      "Warning: No connection between edge '-326375783#2' and edge '143962123#1' found.\n",
      "Warning: Mandatory edge '143962123#1' not reachable by vehicle 'h18_16185'.\n",
      "Warning: The vehicle 'h18_16185' has no valid route.\n"
     ]
    },
    {
     "name": "stdout",
     "output_type": "stream",
     "text": [
      "Reading up to time step: 67401.15\r"
     ]
    },
    {
     "name": "stderr",
     "output_type": "stream",
     "text": [
      "Warning: No connection between edge '74128330#1' and edge '34197060' found.\n",
      "Warning: Mandatory edge '34197060' not reachable by vehicle 'h18_16569'.\n",
      "Warning: The vehicle 'h18_16569' has no valid route.\n",
      "Warning: No connection between edge '-342094976#4' and edge '112885002#0' found.\n",
      "Warning: Mandatory edge '112885002#0' not reachable by vehicle 'h18_17530'.\n",
      "Warning: The vehicle 'h18_17530' has no valid route.\n",
      "Warning: No connection between edge '532753397' and edge '144160547' found.\n",
      "Warning: Mandatory edge '144160547' not reachable by vehicle 'h18_17849'.\n",
      "Warning: The vehicle 'h18_17849' has no valid route.\n"
     ]
    },
    {
     "name": "stdout",
     "output_type": "stream",
     "text": [
      "Reading up to time step: 67601.15\r"
     ]
    },
    {
     "name": "stderr",
     "output_type": "stream",
     "text": [
      "Warning: No connection between edge '71896676' and edge '1060073977' found.\n",
      "Warning: Mandatory edge '1060073977' not reachable by vehicle 'h18_17952'.\n",
      "Warning: The vehicle 'h18_17952' has no valid route.\n",
      "Warning: No connection between edge '503356965' and edge '730178305#0' found.\n",
      "Warning: Mandatory edge '730178305#0' not reachable by vehicle 'h18_18002'.\n",
      "Warning: The vehicle 'h18_18002' has no valid route.\n",
      "Warning: No connection between edge '458289022#1' and edge '-112885002#0' found.\n",
      "Warning: Mandatory edge '-112885002#0' not reachable by vehicle 'h18_18621'.\n",
      "Warning: The vehicle 'h18_18621' has no valid route.\n",
      "Warning: No connection between edge '-793930821' and edge '236123652' found.\n",
      "Warning: Mandatory edge '236123652' not reachable by vehicle 'h18_18852'.\n",
      "Warning: The vehicle 'h18_18852' has no valid route.\n",
      "Warning: No connection between edge '-388215204#3' and edge '144160557#2' found.\n",
      "Warning: Mandatory edge '144160557#2' not reachable by vehicle 'h18_19031'.\n",
      "Warning: The vehicle 'h18_19031' has no valid route.\n"
     ]
    },
    {
     "name": "stdout",
     "output_type": "stream",
     "text": [
      "Reading up to time step: 67801.15\r"
     ]
    },
    {
     "name": "stderr",
     "output_type": "stream",
     "text": [
      "Warning: No connection between edge '693988437' and edge '510193650#2' found.\n",
      "Warning: Mandatory edge '510193650#2' not reachable by vehicle 'h18_19630'.\n",
      "Warning: The vehicle 'h18_19630' has no valid route.\n",
      "Warning: No connection between edge '-236123645' and edge '-143962123#2' found.\n",
      "Warning: Mandatory edge '-143962123#2' not reachable by vehicle 'h18_19705'.\n",
      "Warning: The vehicle 'h18_19705' has no valid route.\n",
      "Warning: No connection between edge '384403708#2' and edge '510193650#3' found.\n",
      "Warning: Mandatory edge '510193650#3' not reachable by vehicle 'h18_20038'.\n",
      "Warning: The vehicle 'h18_20038' has no valid route.\n",
      "Warning: No connection between edge '423020628#1' and edge '1159203435#0' found.\n",
      "Warning: Mandatory edge '1159203435#0' not reachable by vehicle 'h18_20142'.\n",
      "Warning: The vehicle 'h18_20142' has no valid route.\n",
      "Warning: No connection between edge '383085193#1' and edge '-144160557#2' found.\n",
      "Warning: Mandatory edge '-144160557#2' not reachable by vehicle 'h18_20395'.\n",
      "Warning: The vehicle 'h18_20395' has no valid route.\n"
     ]
    },
    {
     "name": "stdout",
     "output_type": "stream",
     "text": [
      "Reading up to time step: 68001.15\r"
     ]
    },
    {
     "name": "stderr",
     "output_type": "stream",
     "text": [
      "Warning: No connection between edge '-49039535#0' and edge '-188649571' found.\n",
      "Warning: Mandatory edge '-188649571' not reachable by vehicle 'h18_20610'.\n",
      "Warning: The vehicle 'h18_20610' has no valid route.\n",
      "Warning: No connection between edge '-150925676' and edge '886693851' found.\n",
      "Warning: Mandatory edge '886693851' not reachable by vehicle 'h18_20658'.\n",
      "Warning: The vehicle 'h18_20658' has no valid route.\n",
      "Warning: No connection between edge '-150925676' and edge '-234821012' found.\n",
      "Warning: Mandatory edge '-234821012' not reachable by vehicle 'h18_20795'.\n",
      "Warning: The vehicle 'h18_20795' has no valid route.\n",
      "Warning: No connection between edge '-39791930#2' and edge '-143962123#1' found.\n",
      "Warning: Mandatory edge '-143962123#1' not reachable by vehicle 'h18_21089'.\n",
      "Warning: The vehicle 'h18_21089' has no valid route.\n",
      "Warning: No connection between edge '-72065795#0' and edge '-62023728#0' found.\n",
      "Warning: Mandatory edge '-62023728#0' not reachable by vehicle 'h18_21449'.\n",
      "Warning: The vehicle 'h18_21449' has no valid route.\n",
      "Warning: No connection between edge '641956946' and edge '-188649571' found.\n",
      "Warning: Mandatory edge '-188649571' not reachable by vehicle 'h18_27515'.\n",
      "Warning: The vehicle 'h18_27515' has no valid route.\n"
     ]
    },
    {
     "name": "stdout",
     "output_type": "stream",
     "text": [
      "Reading up to time step: 68201.15\r"
     ]
    },
    {
     "name": "stderr",
     "output_type": "stream",
     "text": [
      "Warning: No connection between edge '-109151814' and edge '112885002#1' found.\n",
      "Warning: Mandatory edge '112885002#1' not reachable by vehicle 'h18_21760'.\n",
      "Warning: The vehicle 'h18_21760' has no valid route.\n",
      "Warning: No connection between edge '-144834990' and edge '144160557#2' found.\n",
      "Warning: Mandatory edge '144160557#2' not reachable by vehicle 'h18_21824'.\n",
      "Warning: The vehicle 'h18_21824' has no valid route.\n",
      "Warning: No connection between edge '383653934#3' and edge '62023728#1' found.\n",
      "Warning: Mandatory edge '62023728#1' not reachable by vehicle 'h18_21841'.\n",
      "Warning: The vehicle 'h18_21841' has no valid route.\n",
      "Warning: No connection between edge '74128330#1' and edge '1014113154' found.\n",
      "Warning: Mandatory edge '1014113154' not reachable by vehicle 'h18_22252'.\n",
      "Warning: The vehicle 'h18_22252' has no valid route.\n",
      "Warning: No connection between edge '-202809175#1' and edge '386307419' found.\n",
      "Warning: Mandatory edge '386307419' not reachable by vehicle 'h18_26473'.\n",
      "Warning: The vehicle 'h18_26473' has no valid route.\n"
     ]
    },
    {
     "name": "stdout",
     "output_type": "stream",
     "text": [
      "Reading up to time step: 68401.15\r"
     ]
    },
    {
     "name": "stderr",
     "output_type": "stream",
     "text": [
      "Warning: No connection between edge '28116626#1' and edge '156398858' found.\n",
      "Warning: Mandatory edge '156398858' not reachable by vehicle 'h18_23100'.\n",
      "Warning: The vehicle 'h18_23100' has no valid route.\n",
      "Warning: No connection between edge '-139964395#2' and edge '6312388#0' found.\n",
      "Warning: Mandatory edge '6312388#0' not reachable by vehicle 'h18_23145'.\n",
      "Warning: The vehicle 'h18_23145' has no valid route.\n",
      "Warning: No connection between edge '510193669' and edge '144160557#0' found.\n",
      "Warning: Mandatory edge '144160557#0' not reachable by vehicle 'h18_23248'.\n",
      "Warning: The vehicle 'h18_23248' has no valid route.\n",
      "Warning: No connection between edge '-28462118#0' and edge '386307421#1' found.\n",
      "Warning: Mandatory edge '386307421#1' not reachable by vehicle 'h18_23391'.\n",
      "Warning: The vehicle 'h18_23391' has no valid route.\n",
      "Warning: No connection between edge '-41233405' and edge '144160557#0' found.\n",
      "Warning: Mandatory edge '144160557#0' not reachable by vehicle 'h18_23526'.\n",
      "Warning: The vehicle 'h18_23526' has no valid route.\n",
      "Warning: No connection between edge '-688357782#0' and edge '-141926161' found.\n",
      "Warning: Mandatory edge '-141926161' not reachable by vehicle 'h18_23749'.\n",
      "Warning: The vehicle 'h18_23749' has no valid route.\n",
      "Warning: No connection between edge '150925676' and edge '330635947' found.\n",
      "Warning: Mandatory edge '330635947' not reachable by vehicle 'h18_23761'.\n",
      "Warning: The vehicle 'h18_23761' has no valid route.\n",
      "Warning: No connection between edge '793930821' and edge '-143861410#7' found.\n",
      "Warning: Mandatory edge '-143861410#7' not reachable by vehicle 'h18_24206'.\n",
      "Warning: The vehicle 'h18_24206' has no valid route.\n",
      "Warning: No connection between edge '183741260' and edge '342122541#2' found.\n",
      "Warning: Mandatory edge '342122541#2' not reachable by vehicle 'h19_97'.\n",
      "Warning: The vehicle 'h19_97' has no valid route.\n"
     ]
    },
    {
     "name": "stdout",
     "output_type": "stream",
     "text": [
      "Reading up to time step: 68601.15\r"
     ]
    },
    {
     "name": "stderr",
     "output_type": "stream",
     "text": [
      "Warning: No connection between edge '124060638#4' and edge '1225462746#0' found.\n",
      "Warning: Mandatory edge '1225462746#0' not reachable by vehicle 'h19_318'.\n",
      "Warning: The vehicle 'h19_318' has no valid route.\n",
      "Warning: No connection between edge '158999864#1' and edge '263520769#0' found.\n",
      "Warning: Mandatory edge '263520769#0' not reachable by vehicle 'h19_340'.\n",
      "Warning: The vehicle 'h19_340' has no valid route.\n",
      "Warning: No connection between edge '288267830' and edge '386307421#1' found.\n",
      "Warning: Mandatory edge '386307421#1' not reachable by vehicle 'h19_444'.\n",
      "Warning: The vehicle 'h19_444' has no valid route.\n",
      "Warning: No connection between edge '24376199#3' and edge '-62023740' found.\n",
      "Warning: Mandatory edge '-62023740' not reachable by vehicle 'h19_559'.\n",
      "Warning: The vehicle 'h19_559' has no valid route.\n",
      "Warning: No connection between edge '232788067#2' and edge '66833262' found.\n",
      "Warning: Mandatory edge '66833262' not reachable by vehicle 'h19_710'.\n",
      "Warning: The vehicle 'h19_710' has no valid route.\n",
      "Warning: No connection between edge '98338686' and edge '456586936' found.\n",
      "Warning: Mandatory edge '456586936' not reachable by vehicle 'h19_807'.\n",
      "Warning: The vehicle 'h19_807' has no valid route.\n",
      "Warning: No connection between edge '-201390884' and edge '143962123#1' found.\n",
      "Warning: Mandatory edge '143962123#1' not reachable by vehicle 'h19_857'.\n",
      "Warning: The vehicle 'h19_857' has no valid route.\n",
      "Warning: No connection between edge '-71441413' and edge '-143962123#0' found.\n",
      "Warning: Mandatory edge '-143962123#0' not reachable by vehicle 'h19_863'.\n",
      "Warning: The vehicle 'h19_863' has no valid route.\n",
      "Warning: No connection between edge '72065812' and edge '143962123#0' found.\n",
      "Warning: Mandatory edge '143962123#0' not reachable by vehicle 'h19_1585'.\n",
      "Warning: The vehicle 'h19_1585' has no valid route.\n"
     ]
    },
    {
     "name": "stdout",
     "output_type": "stream",
     "text": [
      "Reading up to time step: 69001.15\r"
     ]
    },
    {
     "name": "stderr",
     "output_type": "stream",
     "text": [
      "Warning: No connection between edge '-53189149#0' and edge '-143962123#1' found.\n",
      "Warning: Mandatory edge '-143962123#1' not reachable by vehicle 'h19_1952'.\n",
      "Warning: The vehicle 'h19_1952' has no valid route.\n",
      "Warning: No connection between edge '-157010363#1' and edge '-62023740' found.\n",
      "Warning: Mandatory edge '-62023740' not reachable by vehicle 'h19_2051'.\n",
      "Warning: The vehicle 'h19_2051' has no valid route.\n",
      "Warning: No connection between edge '-71440156#0' and edge '-144160557#2' found.\n",
      "Warning: Mandatory edge '-144160557#2' not reachable by vehicle 'h19_2103'.\n",
      "Warning: The vehicle 'h19_2103' has no valid route.\n",
      "Warning: No connection between edge '74921391' and edge '-367820007' found.\n",
      "Warning: Mandatory edge '-367820007' not reachable by vehicle 'h19_18949'.\n",
      "Warning: The vehicle 'h19_18949' has no valid route.\n",
      "Warning: No connection between edge '5051211#1' and edge '1367068983' found.\n",
      "Warning: Mandatory edge '1367068983' not reachable by vehicle 'h19_2221'.\n",
      "Warning: The vehicle 'h19_2221' has no valid route.\n",
      "Warning: No connection between edge '53838834#1' and edge '143962123#1' found.\n",
      "Warning: Mandatory edge '143962123#1' not reachable by vehicle 'h19_2392'.\n",
      "Warning: The vehicle 'h19_2392' has no valid route.\n",
      "Warning: No connection between edge '688357782#0' and edge '-54969166#0' found.\n",
      "Warning: Mandatory edge '-54969166#0' not reachable by vehicle 'h19_2485'.\n",
      "Warning: The vehicle 'h19_2485' has no valid route.\n",
      "Warning: No connection between edge '-124060635' and edge '141180325#3' found.\n",
      "Warning: Mandatory edge '141180325#3' not reachable by vehicle 'h19_2565'.\n",
      "Warning: The vehicle 'h19_2565' has no valid route.\n",
      "Warning: No connection between edge '-281308645' and edge '-693695450' found.\n",
      "Warning: Mandatory edge '-693695450' not reachable by vehicle 'h19_2639'.\n",
      "Warning: The vehicle 'h19_2639' has no valid route.\n",
      "Warning: No connection between edge '446955267' and edge '-377390887#0' found.\n",
      "Warning: Mandatory edge '-377390887#0' not reachable by vehicle 'h19_2814'.\n",
      "Warning: The vehicle 'h19_2814' has no valid route.\n",
      "Warning: No connection between edge '688357782#0' and edge '-375689108' found.\n",
      "Warning: Mandatory edge '-375689108' not reachable by vehicle 'h19_2862'.\n",
      "Warning: The vehicle 'h19_2862' has no valid route.\n",
      "Warning: No connection between edge '136746626#9' and edge '4387061#0' found.\n",
      "Warning: Mandatory edge '4387061#0' not reachable by vehicle 'h19_3169'.\n",
      "Warning: The vehicle 'h19_3169' has no valid route.\n"
     ]
    },
    {
     "name": "stdout",
     "output_type": "stream",
     "text": [
      "Reading up to time step: 69201.15\r"
     ]
    },
    {
     "name": "stderr",
     "output_type": "stream",
     "text": [
      "Warning: No connection between edge '-687839171' and edge '-62023728#0' found.\n",
      "Warning: Mandatory edge '-62023728#0' not reachable by vehicle 'h19_3276'.\n",
      "Warning: The vehicle 'h19_3276' has no valid route.\n",
      "Warning: No connection between edge '40932972' and edge '1159203435#0' found.\n",
      "Warning: Mandatory edge '1159203435#0' not reachable by vehicle 'h19_3363'.\n",
      "Warning: The vehicle 'h19_3363' has no valid route.\n",
      "Warning: No connection between edge '-375231391' and edge '1367068968' found.\n",
      "Warning: Mandatory edge '1367068968' not reachable by vehicle 'h19_3489'.\n",
      "Warning: The vehicle 'h19_3489' has no valid route.\n"
     ]
    },
    {
     "name": "stdout",
     "output_type": "stream",
     "text": [
      "Reading up to time step: 69401.15\r"
     ]
    },
    {
     "name": "stderr",
     "output_type": "stream",
     "text": [
      "Warning: No connection between edge '665644278' and edge '-85798162#2' found.\n",
      "Warning: Mandatory edge '-85798162#2' not reachable by vehicle 'h19_18464'.\n",
      "Warning: The vehicle 'h19_18464' has no valid route.\n",
      "Warning: No connection between edge '-125361363#0' and edge '6312388#0' found.\n",
      "Warning: Mandatory edge '6312388#0' not reachable by vehicle 'h19_4062'.\n",
      "Warning: The vehicle 'h19_4062' has no valid route.\n",
      "Warning: No connection between edge '1356954327' and edge '48996833#1' found.\n",
      "Warning: Mandatory edge '48996833#1' not reachable by vehicle 'h19_4415'.\n",
      "Warning: The vehicle 'h19_4415' has no valid route.\n",
      "Warning: No connection between edge '437656619' and edge '386307421#1' found.\n",
      "Warning: Mandatory edge '386307421#1' not reachable by vehicle 'h19_4628'.\n",
      "Warning: The vehicle 'h19_4628' has no valid route.\n",
      "Warning: No connection between edge '411014379' and edge '1367068983' found.\n",
      "Warning: Mandatory edge '1367068983' not reachable by vehicle 'h19_4645'.\n",
      "Warning: The vehicle 'h19_4645' has no valid route.\n"
     ]
    },
    {
     "name": "stdout",
     "output_type": "stream",
     "text": [
      "Reading up to time step: 69601.15\r"
     ]
    },
    {
     "name": "stderr",
     "output_type": "stream",
     "text": [
      "Warning: No connection between edge '-460557318#0' and edge '767313244' found.\n",
      "Warning: Mandatory edge '767313244' not reachable by vehicle 'h19_4908'.\n",
      "Warning: The vehicle 'h19_4908' has no valid route.\n",
      "Warning: No connection between edge '130707779' and edge '210551368' found.\n",
      "Warning: Mandatory edge '210551368' not reachable by vehicle 'h19_18474'.\n",
      "Warning: The vehicle 'h19_18474' has no valid route.\n"
     ]
    },
    {
     "name": "stdout",
     "output_type": "stream",
     "text": [
      "Reading up to time step: 69801.15\r"
     ]
    },
    {
     "name": "stderr",
     "output_type": "stream",
     "text": [
      "Warning: No connection between edge '-150925676' and edge '-161232713#0' found.\n",
      "Warning: Mandatory edge '-161232713#0' not reachable by vehicle 'h19_6101'.\n",
      "Warning: The vehicle 'h19_6101' has no valid route.\n",
      "Warning: No connection between edge '-881589990' and edge '386307419' found.\n",
      "Warning: Mandatory edge '386307419' not reachable by vehicle 'h19_6148'.\n",
      "Warning: The vehicle 'h19_6148' has no valid route.\n",
      "Warning: No connection between edge '1335105378' and edge '53255175#1' found.\n",
      "Warning: Mandatory edge '53255175#1' not reachable by vehicle 'h19_6281'.\n",
      "Warning: The vehicle 'h19_6281' has no valid route.\n",
      "Warning: No connection between edge '383616387' and edge '510193674' found.\n",
      "Warning: Mandatory edge '510193674' not reachable by vehicle 'h19_6298'.\n",
      "Warning: The vehicle 'h19_6298' has no valid route.\n"
     ]
    },
    {
     "name": "stdout",
     "output_type": "stream",
     "text": [
      "Reading up to time step: 70001.15\r"
     ]
    },
    {
     "name": "stderr",
     "output_type": "stream",
     "text": [
      "Warning: No connection between edge '-65427745#3' and edge '144160557#0' found.\n",
      "Warning: Mandatory edge '144160557#0' not reachable by vehicle 'h19_6854'.\n",
      "Warning: The vehicle 'h19_6854' has no valid route.\n",
      "Warning: No connection between edge '1203882727#1' and edge '121903506#3' found.\n",
      "Warning: Mandatory edge '121903506#3' not reachable by vehicle 'h19_7088'.\n",
      "Warning: The vehicle 'h19_7088' has no valid route.\n",
      "Warning: No connection between edge '-47000202#6' and edge '281308645' found.\n",
      "Warning: Mandatory edge '281308645' not reachable by vehicle 'h19_7223'.\n",
      "Warning: The vehicle 'h19_7223' has no valid route.\n",
      "Warning: No connection between edge '503356965' and edge '81104337#2' found.\n",
      "Warning: Mandatory edge '81104337#2' not reachable by vehicle 'h19_7293'.\n",
      "Warning: The vehicle 'h19_7293' has no valid route.\n"
     ]
    },
    {
     "name": "stdout",
     "output_type": "stream",
     "text": [
      "Reading up to time step: 70201.15\r"
     ]
    },
    {
     "name": "stderr",
     "output_type": "stream",
     "text": [
      "Warning: No connection between edge '-793930821' and edge '64227574#1' found.\n",
      "Warning: Mandatory edge '64227574#1' not reachable by vehicle 'h19_7827'.\n",
      "Warning: The vehicle 'h19_7827' has no valid route.\n",
      "Warning: No connection between edge '124060633#1' and edge '112797631#0' found.\n",
      "Warning: Mandatory edge '112797631#0' not reachable by vehicle 'h19_7841'.\n",
      "Warning: The vehicle 'h19_7841' has no valid route.\n",
      "Warning: No connection between edge '-173975406' and edge '6312388#0' found.\n",
      "Warning: Mandatory edge '6312388#0' not reachable by vehicle 'h19_7879'.\n",
      "Warning: The vehicle 'h19_7879' has no valid route.\n",
      "Warning: No connection between edge '130862176' and edge '446955265' found.\n",
      "Warning: Mandatory edge '446955265' not reachable by vehicle 'h19_8030'.\n",
      "Warning: The vehicle 'h19_8030' has no valid route.\n",
      "Warning: No connection between edge '98338686' and edge '383621148' found.\n",
      "Warning: Mandatory edge '383621148' not reachable by vehicle 'h19_8163'.\n",
      "Warning: The vehicle 'h19_8163' has no valid route.\n",
      "Warning: No connection between edge '366469485#0' and edge '510193683' found.\n",
      "Warning: Mandatory edge '510193683' not reachable by vehicle 'h19_8758'.\n",
      "Warning: The vehicle 'h19_8758' has no valid route.\n"
     ]
    },
    {
     "name": "stdout",
     "output_type": "stream",
     "text": [
      "Reading up to time step: 70401.15\r"
     ]
    },
    {
     "name": "stderr",
     "output_type": "stream",
     "text": [
      "Warning: No connection between edge '53538482#0' and edge '98338695' found.\n",
      "Warning: Mandatory edge '98338695' not reachable by vehicle 'h19_8885'.\n",
      "Warning: The vehicle 'h19_8885' has no valid route.\n",
      "Warning: No connection between edge '243567307' and edge '-40936998' found.\n",
      "Warning: Mandatory edge '-40936998' not reachable by vehicle 'h19_18747'.\n",
      "Warning: The vehicle 'h19_18747' has no valid route.\n",
      "Warning: No connection between edge '-53189403#0' and edge '-144160557#1' found.\n",
      "Warning: Mandatory edge '-144160557#1' not reachable by vehicle 'h19_9557'.\n",
      "Warning: The vehicle 'h19_9557' has no valid route.\n"
     ]
    },
    {
     "name": "stdout",
     "output_type": "stream",
     "text": [
      "Reading up to time step: 70601.15\r"
     ]
    },
    {
     "name": "stderr",
     "output_type": "stream",
     "text": [
      "Warning: No connection between edge '108938544' and edge '-221310021' found.\n",
      "Warning: Mandatory edge '-221310021' not reachable by vehicle 'h19_9674'.\n",
      "Warning: The vehicle 'h19_9674' has no valid route.\n",
      "Warning: No connection between edge '320070002' and edge '143962123#1' found.\n",
      "Warning: Mandatory edge '143962123#1' not reachable by vehicle 'h19_19524'.\n",
      "Warning: The vehicle 'h19_19524' has no valid route.\n",
      "Warning: No connection between edge '-925261618' and edge '-274842173#0' found.\n",
      "Warning: Mandatory edge '-274842173#0' not reachable by vehicle 'h19_18505'.\n",
      "Warning: The vehicle 'h19_18505' has no valid route.\n",
      "Warning: No connection between edge '-383806987' and edge '386307421#0' found.\n",
      "Warning: Mandatory edge '386307421#0' not reachable by vehicle 'h19_10160'.\n",
      "Warning: The vehicle 'h19_10160' has no valid route.\n",
      "Warning: No connection between edge '-100144521#9' and edge '144160557#1' found.\n",
      "Warning: Mandatory edge '144160557#1' not reachable by vehicle 'h19_10503'.\n",
      "Warning: The vehicle 'h19_10503' has no valid route.\n",
      "Warning: No connection between edge '120877812#1' and edge '510193650#6' found.\n",
      "Warning: Mandatory edge '510193650#6' not reachable by vehicle 'h19_10514'.\n",
      "Warning: The vehicle 'h19_10514' has no valid route.\n"
     ]
    },
    {
     "name": "stdout",
     "output_type": "stream",
     "text": [
      "Reading up to time step: 70801.15\r"
     ]
    },
    {
     "name": "stderr",
     "output_type": "stream",
     "text": [
      "Warning: No connection between edge '252128072' and edge '142428191' found.\n",
      "Warning: Mandatory edge '142428191' not reachable by vehicle 'h19_10647'.\n",
      "Warning: The vehicle 'h19_10647' has no valid route.\n",
      "Warning: No connection between edge '96719492#1' and edge '-30281188#2' found.\n",
      "Warning: Mandatory edge '-30281188#2' not reachable by vehicle 'h19_10767'.\n",
      "Warning: The vehicle 'h19_10767' has no valid route.\n",
      "Warning: No connection between edge '1356954327' and edge '168001782#1' found.\n",
      "Warning: Mandatory edge '168001782#1' not reachable by vehicle 'h19_10773'.\n",
      "Warning: The vehicle 'h19_10773' has no valid route.\n",
      "Warning: No connection between edge '688357782#0' and edge '40937953' found.\n",
      "Warning: Mandatory edge '40937953' not reachable by vehicle 'h19_11072'.\n",
      "Warning: The vehicle 'h19_11072' has no valid route.\n",
      "Warning: No connection between edge '-1256881720#1' and edge '493061137' found.\n",
      "Warning: Mandatory edge '493061137' not reachable by vehicle 'h19_11338'.\n",
      "Warning: The vehicle 'h19_11338' has no valid route.\n",
      "Warning: No connection between edge '183741260' and edge '176541385#4' found.\n",
      "Warning: Mandatory edge '176541385#4' not reachable by vehicle 'h19_11530'.\n",
      "Warning: The vehicle 'h19_11530' has no valid route.\n",
      "Warning: No connection between edge '665644278' and edge '121903506#3' found.\n",
      "Warning: Mandatory edge '121903506#3' not reachable by vehicle 'h19_11639'.\n",
      "Warning: The vehicle 'h19_11639' has no valid route.\n"
     ]
    },
    {
     "name": "stdout",
     "output_type": "stream",
     "text": [
      "Reading up to time step: 71001.15\r"
     ]
    },
    {
     "name": "stderr",
     "output_type": "stream",
     "text": [
      "Warning: No connection between edge '925261618' and edge '24257296#0' found.\n",
      "Warning: Mandatory edge '24257296#0' not reachable by vehicle 'h19_11701'.\n",
      "Warning: The vehicle 'h19_11701' has no valid route.\n",
      "Warning: No connection between edge '49039545' and edge '510193664' found.\n",
      "Warning: Mandatory edge '510193664' not reachable by vehicle 'h19_12118'.\n",
      "Warning: The vehicle 'h19_12118' has no valid route.\n",
      "Warning: No connection between edge '-53189098#1' and edge '-112885002#1' found.\n",
      "Warning: Mandatory edge '-112885002#1' not reachable by vehicle 'h19_12157'.\n",
      "Warning: The vehicle 'h19_12157' has no valid route.\n",
      "Warning: No connection between edge '238119782' and edge '263520769#0' found.\n",
      "Warning: Mandatory edge '263520769#0' not reachable by vehicle 'h19_12360'.\n",
      "Warning: The vehicle 'h19_12360' has no valid route.\n",
      "Warning: No connection between edge '112885039' and edge '62413879#4' found.\n",
      "Warning: Mandatory edge '62413879#4' not reachable by vehicle 'h19_12668'.\n",
      "Warning: The vehicle 'h19_12668' has no valid route.\n"
     ]
    },
    {
     "name": "stdout",
     "output_type": "stream",
     "text": [
      "Reading up to time step: 71201.15\r"
     ]
    },
    {
     "name": "stderr",
     "output_type": "stream",
     "text": [
      "Warning: No connection between edge '734398207' and edge '-367820007' found.\n",
      "Warning: Mandatory edge '-367820007' not reachable by vehicle 'h19_12759'.\n",
      "Warning: The vehicle 'h19_12759' has no valid route.\n",
      "Warning: No connection between edge '144636818' and edge '383076320' found.\n",
      "Warning: Mandatory edge '383076320' not reachable by vehicle 'h19_12781'.\n",
      "Warning: The vehicle 'h19_12781' has no valid route.\n",
      "Warning: No connection between edge '320358046' and edge '181512362#1' found.\n",
      "Warning: Mandatory edge '181512362#1' not reachable by vehicle 'h19_19753'.\n",
      "Warning: The vehicle 'h19_19753' has no valid route.\n",
      "Warning: No connection between edge '1367068984' and edge '98476192' found.\n",
      "Warning: Mandatory edge '98476192' not reachable by vehicle 'h19_13135'.\n",
      "Warning: The vehicle 'h19_13135' has no valid route.\n",
      "Warning: No connection between edge '-30802554#2' and edge '510193650#2' found.\n",
      "Warning: Mandatory edge '510193650#2' not reachable by vehicle 'h19_13153'.\n",
      "Warning: The vehicle 'h19_13153' has no valid route.\n",
      "Warning: No connection between edge '-6314122#10' and edge '-143962123#1' found.\n",
      "Warning: Mandatory edge '-143962123#1' not reachable by vehicle 'h19_13483'.\n",
      "Warning: The vehicle 'h19_13483' has no valid route.\n"
     ]
    },
    {
     "name": "stdout",
     "output_type": "stream",
     "text": [
      "Reading up to time step: 71401.15\r"
     ]
    },
    {
     "name": "stderr",
     "output_type": "stream",
     "text": [
      "Warning: No connection between edge '-793930821' and edge '109585809' found.\n",
      "Warning: Mandatory edge '109585809' not reachable by vehicle 'h19_13666'.\n",
      "Warning: The vehicle 'h19_13666' has no valid route.\n",
      "Warning: No connection between edge '-1235780714' and edge '62023728#0' found.\n",
      "Warning: Mandatory edge '62023728#0' not reachable by vehicle 'h19_13737'.\n",
      "Warning: The vehicle 'h19_13737' has no valid route.\n",
      "Warning: No connection between edge '232788067#2' and edge '-453523290' found.\n",
      "Warning: Mandatory edge '-453523290' not reachable by vehicle 'h19_13758'.\n",
      "Warning: The vehicle 'h19_13758' has no valid route.\n",
      "Warning: No connection between edge '40941623#1' and edge '-767313243' found.\n",
      "Warning: Mandatory edge '-767313243' not reachable by vehicle 'h19_13894'.\n",
      "Warning: The vehicle 'h19_13894' has no valid route.\n",
      "Warning: No connection between edge '-150925676' and edge '30716438#1' found.\n",
      "Warning: Mandatory edge '30716438#1' not reachable by vehicle 'h19_18530'.\n",
      "Warning: The vehicle 'h19_18530' has no valid route.\n"
     ]
    },
    {
     "name": "stdout",
     "output_type": "stream",
     "text": [
      "Reading up to time step: 71601.15\r"
     ]
    },
    {
     "name": "stderr",
     "output_type": "stream",
     "text": [
      "Warning: No connection between edge '510193650#4' and edge '-367820004' found.\n",
      "Warning: Mandatory edge '-367820004' not reachable by vehicle 'h19_14721'.\n",
      "Warning: The vehicle 'h19_14721' has no valid route.\n",
      "Warning: No connection between edge '4385172#1' and edge '62023740' found.\n",
      "Warning: Mandatory edge '62023740' not reachable by vehicle 'h19_15275'.\n",
      "Warning: The vehicle 'h19_15275' has no valid route.\n"
     ]
    },
    {
     "name": "stdout",
     "output_type": "stream",
     "text": [
      "Reading up to time step: 71801.15\r"
     ]
    },
    {
     "name": "stderr",
     "output_type": "stream",
     "text": [
      "Warning: No connection between edge '34202635' and edge '-66829505' found.\n",
      "Warning: Mandatory edge '-66829505' not reachable by vehicle 'h19_19168'.\n",
      "Warning: The vehicle 'h19_19168' has no valid route.\n",
      "Warning: No connection between edge '446955267' and edge '-448167655#0' found.\n",
      "Warning: Mandatory edge '-448167655#0' not reachable by vehicle 'h19_15644'.\n",
      "Warning: The vehicle 'h19_15644' has no valid route.\n",
      "Warning: No connection between edge '66677093#4' and edge '1060073977' found.\n",
      "Warning: Mandatory edge '1060073977' not reachable by vehicle 'h19_15650'.\n",
      "Warning: The vehicle 'h19_15650' has no valid route.\n",
      "Warning: No connection between edge '72786013#1' and edge '510193674' found.\n",
      "Warning: Mandatory edge '510193674' not reachable by vehicle 'h19_19173'.\n",
      "Warning: The vehicle 'h19_19173' has no valid route.\n"
     ]
    },
    {
     "name": "stdout",
     "output_type": "stream",
     "text": [
      "Reading up to time step: 72001.15\r"
     ]
    },
    {
     "name": "stderr",
     "output_type": "stream",
     "text": [
      "Warning: No connection between edge '-355524619' and edge '386307421#1' found.\n",
      "Warning: Mandatory edge '386307421#1' not reachable by vehicle 'h19_16443'.\n",
      "Warning: The vehicle 'h19_16443' has no valid route.\n",
      "Warning: No connection between edge '115628933#3' and edge '98338695' found.\n",
      "Warning: Mandatory edge '98338695' not reachable by vehicle 'h19_16576'.\n",
      "Warning: The vehicle 'h19_16576' has no valid route.\n",
      "Warning: No connection between edge '628797134' and edge '112885002#0' found.\n",
      "Warning: Mandatory edge '112885002#0' not reachable by vehicle 'h19_17113'.\n",
      "Warning: The vehicle 'h19_17113' has no valid route.\n",
      "Warning: No connection between edge '1308456867#0' and edge '209796808' found.\n",
      "Warning: Mandatory edge '209796808' not reachable by vehicle 'h19_17238'.\n",
      "Warning: The vehicle 'h19_17238' has no valid route.\n"
     ]
    },
    {
     "name": "stdout",
     "output_type": "stream",
     "text": [
      "Reading up to time step: 72201.15\r"
     ]
    },
    {
     "name": "stderr",
     "output_type": "stream",
     "text": [
      "Warning: No connection between edge '1332793122' and edge '-267200070#0' found.\n",
      "Warning: Mandatory edge '-267200070#0' not reachable by vehicle 'h20_168'.\n",
      "Warning: The vehicle 'h20_168' has no valid route.\n",
      "Warning: No connection between edge '1254649294#0' and edge '510193661' found.\n",
      "Warning: Mandatory edge '510193661' not reachable by vehicle 'h20_178'.\n",
      "Warning: The vehicle 'h20_178' has no valid route.\n"
     ]
    },
    {
     "name": "stdout",
     "output_type": "stream",
     "text": [
      "Reading up to time step: 72401.15\r"
     ]
    },
    {
     "name": "stderr",
     "output_type": "stream",
     "text": [
      "Warning: No connection between edge '142366409' and edge '143962120' found.\n",
      "Warning: Mandatory edge '143962120' not reachable by vehicle 'h20_1048'.\n",
      "Warning: The vehicle 'h20_1048' has no valid route.\n",
      "Warning: No connection between edge '-181464195' and edge '156398858' found.\n",
      "Warning: Mandatory edge '156398858' not reachable by vehicle 'h20_1098'.\n",
      "Warning: The vehicle 'h20_1098' has no valid route.\n",
      "Warning: No connection between edge '-688357782#0' and edge '6312938#6' found.\n",
      "Warning: Mandatory edge '6312938#6' not reachable by vehicle 'h20_1172'.\n",
      "Warning: The vehicle 'h20_1172' has no valid route.\n",
      "Warning: No connection between edge '124060638#5' and edge '-159082444' found.\n",
      "Warning: Mandatory edge '-159082444' not reachable by vehicle 'h20_1266'.\n",
      "Warning: The vehicle 'h20_1266' has no valid route.\n",
      "Warning: No connection between edge '1060571622' and edge '62023740' found.\n",
      "Warning: Mandatory edge '62023740' not reachable by vehicle 'h20_12656'.\n",
      "Warning: The vehicle 'h20_12656' has no valid route.\n"
     ]
    },
    {
     "name": "stdout",
     "output_type": "stream",
     "text": [
      "Reading up to time step: 72601.15\r"
     ]
    },
    {
     "name": "stderr",
     "output_type": "stream",
     "text": [
      "Warning: No connection between edge '1356954327' and edge '-28667542#1' found.\n",
      "Warning: Mandatory edge '-28667542#1' not reachable by vehicle 'h20_1830'.\n",
      "Warning: The vehicle 'h20_1830' has no valid route.\n",
      "Warning: No connection between edge '112885039' and edge '-628797130' found.\n",
      "Warning: Mandatory edge '-628797130' not reachable by vehicle 'h20_1918'.\n",
      "Warning: The vehicle 'h20_1918' has no valid route.\n",
      "Warning: No connection between edge '430432916' and edge '143962123#0' found.\n",
      "Warning: Mandatory edge '143962123#0' not reachable by vehicle 'h20_2212'.\n",
      "Warning: The vehicle 'h20_2212' has no valid route.\n"
     ]
    },
    {
     "name": "stdout",
     "output_type": "stream",
     "text": [
      "Reading up to time step: 72801.15\r"
     ]
    },
    {
     "name": "stderr",
     "output_type": "stream",
     "text": [
      "Warning: No connection between edge '-1340030512' and edge '156398858' found.\n",
      "Warning: Mandatory edge '156398858' not reachable by vehicle 'h20_2348'.\n",
      "Warning: The vehicle 'h20_2348' has no valid route.\n"
     ]
    },
    {
     "name": "stdout",
     "output_type": "stream",
     "text": [
      "Reading up to time step: 73001.15\r"
     ]
    },
    {
     "name": "stderr",
     "output_type": "stream",
     "text": [
      "Warning: No connection between edge '38579398#4' and edge '143962123#0' found.\n",
      "Warning: Mandatory edge '143962123#0' not reachable by vehicle 'h20_2684'.\n",
      "Warning: The vehicle 'h20_2684' has no valid route.\n",
      "Warning: No connection between edge '66588221' and edge '-112885002#0' found.\n",
      "Warning: Mandatory edge '-112885002#0' not reachable by vehicle 'h20_2924'.\n",
      "Warning: The vehicle 'h20_2924' has no valid route.\n",
      "Warning: No connection between edge '163318443#1' and edge '62023730' found.\n",
      "Warning: Mandatory edge '62023730' not reachable by vehicle 'h20_2960'.\n",
      "Warning: The vehicle 'h20_2960' has no valid route.\n",
      "Warning: No connection between edge '65726760' and edge '-143962123#2' found.\n",
      "Warning: Mandatory edge '-143962123#2' not reachable by vehicle 'h20_3009'.\n",
      "Warning: The vehicle 'h20_3009' has no valid route.\n",
      "Warning: No connection between edge '421161737' and edge '-30281188#2' found.\n",
      "Warning: Mandatory edge '-30281188#2' not reachable by vehicle 'h20_3057'.\n",
      "Warning: The vehicle 'h20_3057' has no valid route.\n",
      "Warning: No connection between edge '-161031265' and edge '-1060073977' found.\n",
      "Warning: Mandatory edge '-1060073977' not reachable by vehicle 'h20_3297'.\n",
      "Warning: The vehicle 'h20_3297' has no valid route.\n"
     ]
    },
    {
     "name": "stdout",
     "output_type": "stream",
     "text": [
      "Reading up to time step: 73201.15\r"
     ]
    },
    {
     "name": "stderr",
     "output_type": "stream",
     "text": [
      "Warning: No connection between edge '39791925#12' and edge '510193661' found.\n",
      "Warning: Mandatory edge '510193661' not reachable by vehicle 'h20_3485'.\n",
      "Warning: The vehicle 'h20_3485' has no valid route.\n"
     ]
    },
    {
     "name": "stdout",
     "output_type": "stream",
     "text": [
      "Reading up to time step: 73401.15\r"
     ]
    },
    {
     "name": "stderr",
     "output_type": "stream",
     "text": [
      "Warning: No connection between edge '27769532' and edge '156398858' found.\n",
      "Warning: Mandatory edge '156398858' not reachable by vehicle 'h20_3978'.\n",
      "Warning: The vehicle 'h20_3978' has no valid route.\n",
      "Warning: No connection between edge '71896688#1' and edge '62023728#1' found.\n",
      "Warning: Mandatory edge '62023728#1' not reachable by vehicle 'h20_4130'.\n",
      "Warning: The vehicle 'h20_4130' has no valid route.\n"
     ]
    },
    {
     "name": "stdout",
     "output_type": "stream",
     "text": [
      "Reading up to time step: 73601.15\r"
     ]
    },
    {
     "name": "stderr",
     "output_type": "stream",
     "text": [
      "Warning: No connection between edge '-430001011' and edge '-143962123#2' found.\n",
      "Warning: Mandatory edge '-143962123#2' not reachable by vehicle 'h20_4620'.\n",
      "Warning: The vehicle 'h20_4620' has no valid route.\n",
      "Warning: No connection between edge '27769757#3' and edge '510193650#4' found.\n",
      "Warning: Mandatory edge '510193650#4' not reachable by vehicle 'h20_4944'.\n",
      "Warning: The vehicle 'h20_4944' has no valid route.\n",
      "Warning: No connection between edge '430026089#2' and edge '783551598' found.\n",
      "Warning: Mandatory edge '783551598' not reachable by vehicle 'h20_5082'.\n",
      "Warning: The vehicle 'h20_5082' has no valid route.\n",
      "Warning: No connection between edge '1189406598#1' and edge '446955265' found.\n",
      "Warning: Mandatory edge '446955265' not reachable by vehicle 'h20_12713'.\n",
      "Warning: The vehicle 'h20_12713' has no valid route.\n"
     ]
    },
    {
     "name": "stdout",
     "output_type": "stream",
     "text": [
      "Reading up to time step: 73801.15\r"
     ]
    },
    {
     "name": "stderr",
     "output_type": "stream",
     "text": [
      "Warning: No connection between edge '1367068984' and edge '27774043#0' found.\n",
      "Warning: Mandatory edge '27774043#0' not reachable by vehicle 'h20_5493'.\n",
      "Warning: The vehicle 'h20_5493' has no valid route.\n",
      "Warning: No connection between edge '1308456867#0' and edge '144028754#1' found.\n",
      "Warning: Mandatory edge '144028754#1' not reachable by vehicle 'h20_5642'.\n",
      "Warning: The vehicle 'h20_5642' has no valid route.\n",
      "Warning: No connection between edge '-156398857#0' and edge '156398858' found.\n",
      "Warning: Mandatory edge '156398858' not reachable by vehicle 'h20_5685'.\n",
      "Warning: The vehicle 'h20_5685' has no valid route.\n",
      "Warning: No connection between edge '27773317#1' and edge '4387061#0' found.\n",
      "Warning: Mandatory edge '4387061#0' not reachable by vehicle 'h20_5693'.\n",
      "Warning: The vehicle 'h20_5693' has no valid route.\n"
     ]
    },
    {
     "name": "stdout",
     "output_type": "stream",
     "text": [
      "Reading up to time step: 74001.15\r"
     ]
    },
    {
     "name": "stderr",
     "output_type": "stream",
     "text": [
      "Warning: No connection between edge '1367068984' and edge '422504882' found.\n",
      "Warning: Mandatory edge '422504882' not reachable by vehicle 'h20_5989'.\n",
      "Warning: The vehicle 'h20_5989' has no valid route.\n"
     ]
    },
    {
     "name": "stdout",
     "output_type": "stream",
     "text": [
      "Reading up to time step: 74201.15\r"
     ]
    },
    {
     "name": "stderr",
     "output_type": "stream",
     "text": [
      "Warning: No connection between edge '709628008' and edge '144160557#0' found.\n",
      "Warning: Mandatory edge '144160557#0' not reachable by vehicle 'h20_6756'.\n",
      "Warning: The vehicle 'h20_6756' has no valid route.\n",
      "Warning: No connection between edge '-315640848' and edge '386307419' found.\n",
      "Warning: Mandatory edge '386307419' not reachable by vehicle 'h20_6984'.\n",
      "Warning: The vehicle 'h20_6984' has no valid route.\n",
      "Warning: No connection between edge '-688357782#0' and edge '460530282#1' found.\n",
      "Warning: Mandatory edge '460530282#1' not reachable by vehicle 'h20_6993'.\n",
      "Warning: The vehicle 'h20_6993' has no valid route.\n"
     ]
    },
    {
     "name": "stdout",
     "output_type": "stream",
     "text": [
      "Reading up to time step: 74401.15\r"
     ]
    },
    {
     "name": "stderr",
     "output_type": "stream",
     "text": [
      "Warning: No connection between edge '105258182#2' and edge '560365509' found.\n",
      "Warning: Mandatory edge '560365509' not reachable by vehicle 'h20_12884'.\n",
      "Warning: The vehicle 'h20_12884' has no valid route.\n",
      "Warning: No connection between edge '-71440146' and edge '142428191' found.\n",
      "Warning: Mandatory edge '142428191' not reachable by vehicle 'h20_7269'.\n",
      "Warning: The vehicle 'h20_7269' has no valid route.\n",
      "Warning: No connection between edge '252130264#1' and edge '143962120' found.\n",
      "Warning: Mandatory edge '143962120' not reachable by vehicle 'h20_7708'.\n",
      "Warning: The vehicle 'h20_7708' has no valid route.\n",
      "Warning: No connection between edge '6553977#2' and edge '300906546' found.\n",
      "Warning: Mandatory edge '300906546' not reachable by vehicle 'h20_11741'.\n",
      "Warning: The vehicle 'h20_11741' has no valid route.\n"
     ]
    },
    {
     "name": "stdout",
     "output_type": "stream",
     "text": [
      "Reading up to time step: 74601.15\r"
     ]
    },
    {
     "name": "stderr",
     "output_type": "stream",
     "text": [
      "Warning: No connection between edge '167449747' and edge '-112885002#1' found.\n",
      "Warning: Mandatory edge '-112885002#1' not reachable by vehicle 'h20_7783'.\n",
      "Warning: The vehicle 'h20_7783' has no valid route.\n",
      "Warning: No connection between edge '-675853296' and edge '144160557#2' found.\n",
      "Warning: Mandatory edge '144160557#2' not reachable by vehicle 'h20_7941'.\n",
      "Warning: The vehicle 'h20_7941' has no valid route.\n",
      "Warning: No connection between edge '503356965' and edge '425743754' found.\n",
      "Warning: Mandatory edge '425743754' not reachable by vehicle 'h20_8525'.\n",
      "Warning: The vehicle 'h20_8525' has no valid route.\n"
     ]
    },
    {
     "name": "stdout",
     "output_type": "stream",
     "text": [
      "Reading up to time step: 74801.15\r"
     ]
    },
    {
     "name": "stderr",
     "output_type": "stream",
     "text": [
      "Warning: No connection between edge '-112885009#0' and edge '-54967033#3' found.\n",
      "Warning: Mandatory edge '-54967033#3' not reachable by vehicle 'h20_8823'.\n",
      "Warning: The vehicle 'h20_8823' has no valid route.\n",
      "Warning: No connection between edge '88119463' and edge '-1060073977' found.\n",
      "Warning: Mandatory edge '-1060073977' not reachable by vehicle 'h20_8831'.\n",
      "Warning: The vehicle 'h20_8831' has no valid route.\n",
      "Warning: No connection between edge '-71896684#5' and edge '161432888' found.\n",
      "Warning: Mandatory edge '161432888' not reachable by vehicle 'h20_8866'.\n",
      "Warning: The vehicle 'h20_8866' has no valid route.\n",
      "Warning: No connection between edge '1051902473' and edge '144160557#0' found.\n",
      "Warning: Mandatory edge '144160557#0' not reachable by vehicle 'h20_8873'.\n",
      "Warning: The vehicle 'h20_8873' has no valid route.\n"
     ]
    },
    {
     "name": "stdout",
     "output_type": "stream",
     "text": [
      "Reading up to time step: 75001.15\r"
     ]
    },
    {
     "name": "stderr",
     "output_type": "stream",
     "text": [
      "Warning: No connection between edge '446955267' and edge '41238920' found.\n",
      "Warning: Mandatory edge '41238920' not reachable by vehicle 'h20_9069'.\n",
      "Warning: The vehicle 'h20_9069' has no valid route.\n",
      "Warning: No connection between edge '6313744#0' and edge '6312388#0' found.\n",
      "Warning: Mandatory edge '6312388#0' not reachable by vehicle 'h20_9324'.\n",
      "Warning: The vehicle 'h20_9324' has no valid route.\n",
      "Warning: No connection between edge '-150925676' and edge '-675839246#1' found.\n",
      "Warning: Mandatory edge '-675839246#1' not reachable by vehicle 'h20_9404'.\n",
      "Warning: The vehicle 'h20_9404' has no valid route.\n",
      "Warning: No connection between edge '-112770049#12' and edge '88119470' found.\n",
      "Warning: Mandatory edge '88119470' not reachable by vehicle 'h20_9448'.\n",
      "Warning: The vehicle 'h20_9448' has no valid route.\n",
      "Warning: No connection between edge '150283095#0' and edge '6312388#0' found.\n",
      "Warning: Mandatory edge '6312388#0' not reachable by vehicle 'h20_9644'.\n",
      "Warning: The vehicle 'h20_9644' has no valid route.\n",
      "Warning: No connection between edge '-132326769#2' and edge '-62023740' found.\n",
      "Warning: Mandatory edge '-62023740' not reachable by vehicle 'h20_9811'.\n",
      "Warning: The vehicle 'h20_9811' has no valid route.\n"
     ]
    },
    {
     "name": "stdout",
     "output_type": "stream",
     "text": [
      "Reading up to time step: 75201.15\r"
     ]
    },
    {
     "name": "stderr",
     "output_type": "stream",
     "text": [
      "Warning: No connection between edge '-377396791#1' and edge '510193683' found.\n",
      "Warning: Mandatory edge '510193683' not reachable by vehicle 'h20_9833'.\n",
      "Warning: The vehicle 'h20_9833' has no valid route.\n",
      "Warning: No connection between edge '124060638#5' and edge '-510193683' found.\n",
      "Warning: Mandatory edge '-510193683' not reachable by vehicle 'h20_9869'.\n",
      "Warning: The vehicle 'h20_9869' has no valid route.\n",
      "Warning: No connection between edge '37794971#3' and edge '-62023730' found.\n",
      "Warning: Mandatory edge '-62023730' not reachable by vehicle 'h20_9886'.\n",
      "Warning: The vehicle 'h20_9886' has no valid route.\n",
      "Warning: No connection between edge '156861123#2' and edge '-143962123#2' found.\n",
      "Warning: Mandatory edge '-143962123#2' not reachable by vehicle 'h20_13105'.\n",
      "Warning: The vehicle 'h20_13105' has no valid route.\n"
     ]
    },
    {
     "name": "stdout",
     "output_type": "stream",
     "text": [
      "Reading up to time step: 75401.15\r"
     ]
    },
    {
     "name": "stderr",
     "output_type": "stream",
     "text": [
      "Warning: No connection between edge '688357782#0' and edge '62112626' found.\n",
      "Warning: Mandatory edge '62112626' not reachable by vehicle 'h20_10676'.\n",
      "Warning: The vehicle 'h20_10676' has no valid route.\n",
      "Warning: No connection between edge '1332793122' and edge '330633552#1' found.\n",
      "Warning: Mandatory edge '330633552#1' not reachable by vehicle 'h20_10691'.\n",
      "Warning: The vehicle 'h20_10691' has no valid route.\n"
     ]
    },
    {
     "name": "stdout",
     "output_type": "stream",
     "text": [
      "Reading up to time step: 75601.15\r"
     ]
    },
    {
     "name": "stderr",
     "output_type": "stream",
     "text": [
      "Warning: No connection between edge '665154341' and edge '64096011#0' found.\n",
      "Warning: Mandatory edge '64096011#0' not reachable by vehicle 'h20_12850'.\n",
      "Warning: The vehicle 'h20_12850' has no valid route.\n",
      "Warning: No connection between edge '98338686' and edge '-120753204#2' found.\n",
      "Warning: Mandatory edge '-120753204#2' not reachable by vehicle 'h20_11258'.\n",
      "Warning: The vehicle 'h20_11258' has no valid route.\n",
      "Warning: No connection between edge '-925261618' and edge '665079362#3' found.\n",
      "Warning: Mandatory edge '665079362#3' not reachable by vehicle 'h20_11298'.\n",
      "Warning: The vehicle 'h20_11298' has no valid route.\n"
     ]
    },
    {
     "name": "stdout",
     "output_type": "stream",
     "text": [
      "Reading up to time step: 75801.15\r"
     ]
    },
    {
     "name": "stderr",
     "output_type": "stream",
     "text": [
      "Warning: No connection between edge '166721714#2' and edge '510193674' found.\n",
      "Warning: Mandatory edge '510193674' not reachable by vehicle 'h21_153'.\n",
      "Warning: The vehicle 'h21_153' has no valid route.\n",
      "Warning: No connection between edge '-159082448' and edge '167692614#0' found.\n",
      "Warning: Mandatory edge '167692614#0' not reachable by vehicle 'h21_222'.\n",
      "Warning: The vehicle 'h21_222' has no valid route.\n",
      "Warning: No connection between edge '1308456867#0' and edge '675593929#0' found.\n",
      "Warning: Mandatory edge '675593929#0' not reachable by vehicle 'h21_240'.\n",
      "Warning: The vehicle 'h21_240' has no valid route.\n",
      "Warning: No connection between edge '793930821' and edge '88196426#4' found.\n",
      "Warning: Mandatory edge '88196426#4' not reachable by vehicle 'h21_291'.\n",
      "Warning: The vehicle 'h21_291' has no valid route.\n",
      "Warning: No connection between edge '-25447336#2' and edge '510193650#2' found.\n",
      "Warning: Mandatory edge '510193650#2' not reachable by vehicle 'h21_7448'.\n",
      "Warning: The vehicle 'h21_7448' has no valid route.\n"
     ]
    },
    {
     "name": "stdout",
     "output_type": "stream",
     "text": [
      "Reading up to time step: 76001.15\r"
     ]
    },
    {
     "name": "stderr",
     "output_type": "stream",
     "text": [
      "Warning: No connection between edge '456791578#1' and edge '-112885002#0' found.\n",
      "Warning: Mandatory edge '-112885002#0' not reachable by vehicle 'h21_939'.\n",
      "Warning: The vehicle 'h21_939' has no valid route.\n"
     ]
    },
    {
     "name": "stdout",
     "output_type": "stream",
     "text": [
      "Reading up to time step: 76201.15\r"
     ]
    },
    {
     "name": "stderr",
     "output_type": "stream",
     "text": [
      "Warning: No connection between edge '-194739894' and edge '-143962120' found.\n",
      "Warning: Mandatory edge '-143962120' not reachable by vehicle 'h21_1348'.\n",
      "Warning: The vehicle 'h21_1348' has no valid route.\n",
      "Warning: No connection between edge '503356965' and edge '430174538' found.\n",
      "Warning: Mandatory edge '430174538' not reachable by vehicle 'h21_1351'.\n",
      "Warning: The vehicle 'h21_1351' has no valid route.\n"
     ]
    },
    {
     "name": "stdout",
     "output_type": "stream",
     "text": [
      "Reading up to time step: 76401.15\r"
     ]
    },
    {
     "name": "stderr",
     "output_type": "stream",
     "text": [
      "Warning: No connection between edge '878692743#0' and edge '161432888' found.\n",
      "Warning: Mandatory edge '161432888' not reachable by vehicle 'h21_1437'.\n",
      "Warning: The vehicle 'h21_1437' has no valid route.\n",
      "Warning: No connection between edge '406214672#0' and edge '510193650#1' found.\n",
      "Warning: Mandatory edge '510193650#1' not reachable by vehicle 'h21_1666'.\n",
      "Warning: The vehicle 'h21_1666' has no valid route.\n"
     ]
    },
    {
     "name": "stdout",
     "output_type": "stream",
     "text": [
      "Reading up to time step: 76801.15\r"
     ]
    },
    {
     "name": "stderr",
     "output_type": "stream",
     "text": [
      "Warning: No connection between edge '124060635' and edge '665079362#5' found.\n",
      "Warning: Mandatory edge '665079362#5' not reachable by vehicle 'h21_2054'.\n",
      "Warning: The vehicle 'h21_2054' has no valid route.\n",
      "Warning: No connection between edge '688357782#0' and edge '222169882' found.\n",
      "Warning: Mandatory edge '222169882' not reachable by vehicle 'h21_2058'.\n",
      "Warning: The vehicle 'h21_2058' has no valid route.\n",
      "Warning: No connection between edge '36838245#0' and edge '-144160557#2' found.\n",
      "Warning: Mandatory edge '-144160557#2' not reachable by vehicle 'h21_2059'.\n",
      "Warning: The vehicle 'h21_2059' has no valid route.\n",
      "Warning: No connection between edge '-1196118609' and edge '510193683' found.\n",
      "Warning: Mandatory edge '510193683' not reachable by vehicle 'h21_7616'.\n",
      "Warning: The vehicle 'h21_7616' has no valid route.\n",
      "Warning: No connection between edge '688357782#0' and edge '-243220256#0' found.\n",
      "Warning: Mandatory edge '-243220256#0' not reachable by vehicle 'h21_7000'.\n",
      "Warning: The vehicle 'h21_7000' has no valid route.\n"
     ]
    },
    {
     "name": "stdout",
     "output_type": "stream",
     "text": [
      "Reading up to time step: 77001.15\r"
     ]
    },
    {
     "name": "stderr",
     "output_type": "stream",
     "text": [
      "Warning: No connection between edge '231224548#1' and edge '62023728#1' found.\n",
      "Warning: Mandatory edge '62023728#1' not reachable by vehicle 'h21_2341'.\n",
      "Warning: The vehicle 'h21_2341' has no valid route.\n",
      "Warning: No connection between edge '-281308645' and edge '27582861' found.\n",
      "Warning: Mandatory edge '27582861' not reachable by vehicle 'h21_7002'.\n",
      "Warning: The vehicle 'h21_7002' has no valid route.\n",
      "Warning: No connection between edge '124060638#4' and edge '53255334#1' found.\n",
      "Warning: Mandatory edge '53255334#1' not reachable by vehicle 'h21_2435'.\n",
      "Warning: The vehicle 'h21_2435' has no valid route.\n",
      "Warning: No connection between edge '6313105#2' and edge '-143962123#1' found.\n",
      "Warning: Mandatory edge '-143962123#1' not reachable by vehicle 'h21_2533'.\n",
      "Warning: The vehicle 'h21_2533' has no valid route.\n",
      "Warning: No connection between edge '925261618' and edge '48803226#1' found.\n",
      "Warning: Mandatory edge '48803226#1' not reachable by vehicle 'h21_2627'.\n",
      "Warning: The vehicle 'h21_2627' has no valid route.\n",
      "Warning: No connection between edge '-142306103#1' and edge '99096145#0' found.\n",
      "Warning: Mandatory edge '99096145#0' not reachable by vehicle 'h21_7408'.\n",
      "Warning: The vehicle 'h21_7408' has no valid route.\n",
      "Warning: No connection between edge '-431983728#2' and edge '-62023740' found.\n",
      "Warning: Mandatory edge '-62023740' not reachable by vehicle 'h21_2697'.\n",
      "Warning: The vehicle 'h21_2697' has no valid route.\n"
     ]
    },
    {
     "name": "stdout",
     "output_type": "stream",
     "text": [
      "Reading up to time step: 77201.15\r"
     ]
    },
    {
     "name": "stderr",
     "output_type": "stream",
     "text": [
      "Warning: No connection between edge '435268500' and edge '143962123#2' found.\n",
      "Warning: Mandatory edge '143962123#2' not reachable by vehicle 'h21_2852'.\n",
      "Warning: The vehicle 'h21_2852' has no valid route.\n",
      "Warning: No connection between edge '120926546' and edge '144160557#0' found.\n",
      "Warning: Mandatory edge '144160557#0' not reachable by vehicle 'h21_3306'.\n",
      "Warning: The vehicle 'h21_3306' has no valid route.\n"
     ]
    },
    {
     "name": "stdout",
     "output_type": "stream",
     "text": [
      "Reading up to time step: 77401.15\r"
     ]
    },
    {
     "name": "stderr",
     "output_type": "stream",
     "text": [
      "Warning: No connection between edge '-688357782#1' and edge '25152829#1' found.\n",
      "Warning: Mandatory edge '25152829#1' not reachable by vehicle 'h21_3454'.\n",
      "Warning: The vehicle 'h21_3454' has no valid route.\n",
      "Warning: No connection between edge '-1097312235' and edge '143962120' found.\n",
      "Warning: Mandatory edge '143962120' not reachable by vehicle 'h21_3641'.\n",
      "Warning: The vehicle 'h21_3641' has no valid route.\n"
     ]
    },
    {
     "name": "stdout",
     "output_type": "stream",
     "text": [
      "Reading up to time step: 77601.15\r"
     ]
    },
    {
     "name": "stderr",
     "output_type": "stream",
     "text": [
      "Warning: No connection between edge '529408683' and edge '-62023730' found.\n",
      "Warning: Mandatory edge '-62023730' not reachable by vehicle 'h21_3738'.\n",
      "Warning: The vehicle 'h21_3738' has no valid route.\n"
     ]
    },
    {
     "name": "stdout",
     "output_type": "stream",
     "text": [
      "Reading up to time step: 77801.15\r"
     ]
    },
    {
     "name": "stderr",
     "output_type": "stream",
     "text": [
      "Warning: No connection between edge '617595692#0' and edge '142428191' found.\n",
      "Warning: Mandatory edge '142428191' not reachable by vehicle 'h21_3881'.\n",
      "Warning: The vehicle 'h21_3881' has no valid route.\n",
      "Warning: No connection between edge '397805345#0' and edge '143962123#2' found.\n",
      "Warning: Mandatory edge '143962123#2' not reachable by vehicle 'h21_4303'.\n",
      "Warning: The vehicle 'h21_4303' has no valid route.\n"
     ]
    },
    {
     "name": "stdout",
     "output_type": "stream",
     "text": [
      "Reading up to time step: 78001.15\r"
     ]
    },
    {
     "name": "stderr",
     "output_type": "stream",
     "text": [
      "Warning: No connection between edge '124060635' and edge '138611170' found.\n",
      "Warning: Mandatory edge '138611170' not reachable by vehicle 'h21_4744'.\n",
      "Warning: The vehicle 'h21_4744' has no valid route.\n"
     ]
    },
    {
     "name": "stdout",
     "output_type": "stream",
     "text": [
      "Reading up to time step: 78201.15\r"
     ]
    },
    {
     "name": "stderr",
     "output_type": "stream",
     "text": [
      "Warning: No connection between edge '708310610' and edge '510193635#0' found.\n",
      "Warning: Mandatory edge '510193635#0' not reachable by vehicle 'h21_5687'.\n",
      "Warning: The vehicle 'h21_5687' has no valid route.\n"
     ]
    },
    {
     "name": "stdout",
     "output_type": "stream",
     "text": [
      "Reading up to time step: 78601.15\r"
     ]
    },
    {
     "name": "stderr",
     "output_type": "stream",
     "text": [
      "Warning: No connection between edge '24255499#7' and edge '-188649571' found.\n",
      "Warning: Mandatory edge '-188649571' not reachable by vehicle 'h21_5976'.\n",
      "Warning: The vehicle 'h21_5976' has no valid route.\n"
     ]
    },
    {
     "name": "stdout",
     "output_type": "stream",
     "text": [
      "Reading up to time step: 78801.15\r"
     ]
    },
    {
     "name": "stderr",
     "output_type": "stream",
     "text": [
      "Warning: No connection between edge '1308456867#0' and edge '-141483487#1' found.\n",
      "Warning: Mandatory edge '-141483487#1' not reachable by vehicle 'h21_5993'.\n",
      "Warning: The vehicle 'h21_5993' has no valid route.\n",
      "Warning: No connection between edge '1308456867#0' and edge '-252130264#2' found.\n",
      "Warning: Mandatory edge '-252130264#2' not reachable by vehicle 'h21_6102'.\n",
      "Warning: The vehicle 'h21_6102' has no valid route.\n"
     ]
    },
    {
     "name": "stdout",
     "output_type": "stream",
     "text": [
      "Reading up to time step: 79001.15\r"
     ]
    },
    {
     "name": "stderr",
     "output_type": "stream",
     "text": [
      "Warning: No connection between edge '527813999' and edge '-378355994#2' found.\n",
      "Warning: Mandatory edge '-378355994#2' not reachable by vehicle 'h21_6235'.\n",
      "Warning: The vehicle 'h21_6235' has no valid route.\n",
      "Warning: No connection between edge '53211162#1' and edge '144160547' found.\n",
      "Warning: Mandatory edge '144160547' not reachable by vehicle 'h21_6367'.\n",
      "Warning: The vehicle 'h21_6367' has no valid route.\n",
      "Warning: No connection between edge '-410315725' and edge '-767313243' found.\n",
      "Warning: Mandatory edge '-767313243' not reachable by vehicle 'h21_6370'.\n",
      "Warning: The vehicle 'h21_6370' has no valid route.\n",
      "Warning: No connection between edge '126353937' and edge '510193650#2' found.\n",
      "Warning: Mandatory edge '510193650#2' not reachable by vehicle 'h21_6487'.\n",
      "Warning: The vehicle 'h21_6487' has no valid route.\n",
      "Warning: No connection between edge '1013192837' and edge '783551598' found.\n",
      "Warning: Mandatory edge '783551598' not reachable by vehicle 'h21_7881'.\n",
      "Warning: The vehicle 'h21_7881' has no valid route.\n"
     ]
    },
    {
     "name": "stdout",
     "output_type": "stream",
     "text": [
      "Reading up to time step: 79201.15\r"
     ]
    },
    {
     "name": "stderr",
     "output_type": "stream",
     "text": [
      "Warning: No connection between edge '-53255623#1' and edge '889503609' found.\n",
      "Warning: Mandatory edge '889503609' not reachable by vehicle 'h22_92'.\n",
      "Warning: The vehicle 'h22_92' has no valid route.\n"
     ]
    },
    {
     "name": "stdout",
     "output_type": "stream",
     "text": [
      "Reading up to time step: 79801.15\r"
     ]
    },
    {
     "name": "stderr",
     "output_type": "stream",
     "text": [
      "Warning: No connection between edge '1367068984' and edge '379803811' found.\n",
      "Warning: Mandatory edge '379803811' not reachable by vehicle 'h22_602'.\n",
      "Warning: The vehicle 'h22_602' has no valid route.\n",
      "Warning: No connection between edge '6314122#5' and edge '27680368' found.\n",
      "Warning: Mandatory edge '27680368' not reachable by vehicle 'h22_3753'.\n",
      "Warning: The vehicle 'h22_3753' has no valid route.\n"
     ]
    },
    {
     "name": "stdout",
     "output_type": "stream",
     "text": [
      "Reading up to time step: 80401.15\r"
     ]
    },
    {
     "name": "stderr",
     "output_type": "stream",
     "text": [
      "Warning: No connection between edge '150283098#1' and edge '889503609' found.\n",
      "Warning: Mandatory edge '889503609' not reachable by vehicle 'h22_1259'.\n",
      "Warning: The vehicle 'h22_1259' has no valid route.\n"
     ]
    },
    {
     "name": "stdout",
     "output_type": "stream",
     "text": [
      "Reading up to time step: 80601.15\r"
     ]
    },
    {
     "name": "stderr",
     "output_type": "stream",
     "text": [
      "Warning: No connection between edge '27756008#2' and edge '143962123#1' found.\n",
      "Warning: Mandatory edge '143962123#1' not reachable by vehicle 'h22_4020'.\n",
      "Warning: The vehicle 'h22_4020' has no valid route.\n"
     ]
    },
    {
     "name": "stdout",
     "output_type": "stream",
     "text": [
      "Reading up to time step: 81001.15\r"
     ]
    },
    {
     "name": "stderr",
     "output_type": "stream",
     "text": [
      "Warning: No connection between edge '-377991087#3' and edge '-143962120' found.\n",
      "Warning: Mandatory edge '-143962120' not reachable by vehicle 'h22_1698'.\n",
      "Warning: The vehicle 'h22_1698' has no valid route.\n",
      "Warning: No connection between edge '880567548#0' and edge '143962120' found.\n",
      "Warning: Mandatory edge '143962120' not reachable by vehicle 'h22_1827'.\n",
      "Warning: The vehicle 'h22_1827' has no valid route.\n",
      "Warning: No connection between edge '115661495' and edge '-367820007' found.\n",
      "Warning: Mandatory edge '-367820007' not reachable by vehicle 'h22_2076'.\n",
      "Warning: The vehicle 'h22_2076' has no valid route.\n"
     ]
    },
    {
     "name": "stdout",
     "output_type": "stream",
     "text": [
      "Reading up to time step: 81401.15\r"
     ]
    },
    {
     "name": "stderr",
     "output_type": "stream",
     "text": [
      "Warning: No connection between edge '183727779#0' and edge '386307421#1' found.\n",
      "Warning: Mandatory edge '386307421#1' not reachable by vehicle 'h22_2328'.\n",
      "Warning: The vehicle 'h22_2328' has no valid route.\n"
     ]
    },
    {
     "name": "stdout",
     "output_type": "stream",
     "text": [
      "Reading up to time step: 81601.15\r"
     ]
    },
    {
     "name": "stderr",
     "output_type": "stream",
     "text": [
      "Warning: No connection between edge '744422812#1' and edge '889503609' found.\n",
      "Warning: Mandatory edge '889503609' not reachable by vehicle 'h22_2416'.\n",
      "Warning: The vehicle 'h22_2416' has no valid route.\n"
     ]
    },
    {
     "name": "stdout",
     "output_type": "stream",
     "text": [
      "Reading up to time step: 82201.15\r"
     ]
    },
    {
     "name": "stderr",
     "output_type": "stream",
     "text": [
      "Warning: No connection between edge '1308456867#0' and edge '675774707#4' found.\n",
      "Warning: Mandatory edge '675774707#4' not reachable by vehicle 'h22_3048'.\n",
      "Warning: The vehicle 'h22_3048' has no valid route.\n"
     ]
    },
    {
     "name": "stdout",
     "output_type": "stream",
     "text": [
      "Reading up to time step: 82401.15\r"
     ]
    },
    {
     "name": "stderr",
     "output_type": "stream",
     "text": [
      "Warning: No connection between edge '243124635#0' and edge '632110833' found.\n",
      "Warning: Mandatory edge '632110833' not reachable by vehicle 'h22_4054'.\n",
      "Warning: The vehicle 'h22_4054' has no valid route.\n"
     ]
    },
    {
     "name": "stdout",
     "output_type": "stream",
     "text": [
      "Reading up to time step: 83001.15\r"
     ]
    },
    {
     "name": "stderr",
     "output_type": "stream",
     "text": [
      "Warning: No connection between edge '53838585#2' and edge '-62023730' found.\n",
      "Warning: Mandatory edge '-62023730' not reachable by vehicle 'h23_132'.\n",
      "Warning: The vehicle 'h23_132' has no valid route.\n"
     ]
    },
    {
     "name": "stdout",
     "output_type": "stream",
     "text": [
      "Reading up to time step: 83201.15\r"
     ]
    },
    {
     "name": "stderr",
     "output_type": "stream",
     "text": [
      "Warning: No connection between edge '645299172' and edge '50832097' found.\n",
      "Warning: Mandatory edge '50832097' not reachable by vehicle 'h23_2608'.\n",
      "Warning: The vehicle 'h23_2608' has no valid route.\n"
     ]
    },
    {
     "name": "stdout",
     "output_type": "stream",
     "text": [
      "Reading up to time step: 83401.15\r"
     ]
    },
    {
     "name": "stderr",
     "output_type": "stream",
     "text": [
      "Warning: No connection between edge '-103268024' and edge '53839268#0' found.\n",
      "Warning: Mandatory edge '53839268#0' not reachable by vehicle 'h23_2561'.\n",
      "Warning: The vehicle 'h23_2561' has no valid route.\n",
      "Warning: No connection between edge '665644278' and edge '972630105#1' found.\n",
      "Warning: Mandatory edge '972630105#1' not reachable by vehicle 'h23_376'.\n",
      "Warning: The vehicle 'h23_376' has no valid route.\n",
      "Warning: No connection between edge '124060635' and edge '46961698#3' found.\n",
      "Warning: Mandatory edge '46961698#3' not reachable by vehicle 'h23_634'.\n",
      "Warning: The vehicle 'h23_634' has no valid route.\n"
     ]
    },
    {
     "name": "stdout",
     "output_type": "stream",
     "text": [
      "Reading up to time step: 84001.15\r"
     ]
    },
    {
     "name": "stderr",
     "output_type": "stream",
     "text": [
      "Warning: No connection between edge '-688357782#0' and edge '-427059303#2' found.\n",
      "Warning: Mandatory edge '-427059303#2' not reachable by vehicle 'h23_721'.\n",
      "Warning: The vehicle 'h23_721' has no valid route.\n"
     ]
    },
    {
     "name": "stdout",
     "output_type": "stream",
     "text": [
      "Reading up to time step: 84201.15\r"
     ]
    },
    {
     "name": "stderr",
     "output_type": "stream",
     "text": [
      "Warning: No connection between edge '156398864' and edge '-389162478#0' found.\n",
      "Warning: Mandatory edge '-389162478#0' not reachable by vehicle 'h23_885'.\n",
      "Warning: The vehicle 'h23_885' has no valid route.\n",
      "Warning: No connection between edge '82287659#2' and edge '1060073977' found.\n",
      "Warning: Mandatory edge '1060073977' not reachable by vehicle 'h23_1139'.\n",
      "Warning: The vehicle 'h23_1139' has no valid route.\n"
     ]
    },
    {
     "name": "stdout",
     "output_type": "stream",
     "text": [
      "Reading up to time step: 84601.15\r"
     ]
    },
    {
     "name": "stderr",
     "output_type": "stream",
     "text": [
      "Warning: No connection between edge '138100437' and edge '-62023728#0' found.\n",
      "Warning: Mandatory edge '-62023728#0' not reachable by vehicle 'h23_1160'.\n",
      "Warning: The vehicle 'h23_1160' has no valid route.\n"
     ]
    },
    {
     "name": "stdout",
     "output_type": "stream",
     "text": [
      "Reading up to time step: 85601.15\r"
     ]
    },
    {
     "name": "stderr",
     "output_type": "stream",
     "text": [
      "Warning: No connection between edge '665204360#1' and edge '510193650#3' found.\n",
      "Warning: Mandatory edge '510193650#3' not reachable by vehicle 'h23_1833'.\n",
      "Warning: The vehicle 'h23_1833' has no valid route.\n"
     ]
    },
    {
     "name": "stdout",
     "output_type": "stream",
     "text": [
      "Success.up to time step: 86401.15\n",
      "[DONE] Routes written in /home/hoai-linh.dao/Works/EVCS/CEREMA-Mini/result/experiments/simulation-10percent-nonvtypes/route.xml\n",
      "[LOG] Output logged in /home/hoai-linh.dao/Works/EVCS/CEREMA-Mini/result/experiments/simulation-10percent-nonvtypes/logs/duarouter.log\n"
     ]
    }
   ],
   "source": [
    "DUAROUTER_ADDS = \",\".join([str(VTYPES_DIST_XML), str(TAZ_XML)])\n",
    "DUAROUTER_CMD = [\n",
    "    \"duarouter\",\n",
    "    \"-n\", CLEANED_NET_XML_2,            \n",
    "    \"-r\", ALL_TRIPS_XML,            \n",
    "    # \"-a\", DUAROUTER_ADDS,\n",
    "    # \"-a\", VTYPES_DIST_XML, # Turn off for nonvtypes\n",
    "    # \"--keep-vtype-distributions\",\n",
    "    # \"--with-taz\",\n",
    "    # \"--repair\",                      \n",
    "    # \"--remove-loops\",               \n",
    "    \"--randomize-flows\",         \n",
    "    \"-o\", ROUTE_XML,    \n",
    "    \"--log\", DUAROUTER_LOG,\n",
    "    \"--exit-times\",\n",
    "    \"--named-routes\",\n",
    "    \"--route-length\",\n",
    "    \"--write-costs\",\n",
    "    \"--ignore-errors\"\n",
    "]\n",
    "\n",
    "print(\"Running DUAROUTER Step ...\")\n",
    "subprocess.run(DUAROUTER_CMD, check=True)\n",
    "print(f\"[DONE] Routes written in {ROUTE_XML}\\n[LOG] Output logged in {DUAROUTER_LOG}\")\n"
   ]
  },
  {
   "cell_type": "markdown",
   "metadata": {},
   "source": [
    "## Creating ReRouter (Optional)"
   ]
  },
  {
   "cell_type": "code",
   "execution_count": 4,
   "metadata": {},
   "outputs": [
    {
     "name": "stdout",
     "output_type": "stream",
     "text": [
      "Running REROUTING Step ...\n"
     ]
    },
    {
     "ename": "KeyboardInterrupt",
     "evalue": "",
     "output_type": "error",
     "traceback": [
      "\u001b[0;31m---------------------------------------------------------------------------\u001b[0m",
      "\u001b[0;31mKeyboardInterrupt\u001b[0m                         Traceback (most recent call last)",
      "Cell \u001b[0;32mIn[4], line 10\u001b[0m\n\u001b[1;32m      8\u001b[0m \u001b[38;5;28;01mwith\u001b[39;00m \u001b[38;5;28mopen\u001b[39m(REROUTING_LOG, \u001b[38;5;124m\"\u001b[39m\u001b[38;5;124mw\u001b[39m\u001b[38;5;124m\"\u001b[39m) \u001b[38;5;28;01mas\u001b[39;00m f:\n\u001b[1;32m      9\u001b[0m     \u001b[38;5;28mprint\u001b[39m(\u001b[38;5;124m\"\u001b[39m\u001b[38;5;124mRunning REROUTING Step ...\u001b[39m\u001b[38;5;124m\"\u001b[39m)\n\u001b[0;32m---> 10\u001b[0m     \u001b[43msubprocess\u001b[49m\u001b[38;5;241;43m.\u001b[39;49m\u001b[43mrun\u001b[49m\u001b[43m(\u001b[49m\u001b[43mREROUTING_CMD\u001b[49m\u001b[43m,\u001b[49m\u001b[43m \u001b[49m\u001b[43mstdout\u001b[49m\u001b[38;5;241;43m=\u001b[39;49m\u001b[43mf\u001b[49m\u001b[43m,\u001b[49m\u001b[43m \u001b[49m\u001b[43mstderr\u001b[49m\u001b[38;5;241;43m=\u001b[39;49m\u001b[43msubprocess\u001b[49m\u001b[38;5;241;43m.\u001b[39;49m\u001b[43mSTDOUT\u001b[49m\u001b[43m,\u001b[49m\u001b[43m \u001b[49m\u001b[43mcheck\u001b[49m\u001b[38;5;241;43m=\u001b[39;49m\u001b[38;5;28;43;01mTrue\u001b[39;49;00m\u001b[43m)\u001b[49m\n\u001b[1;32m     11\u001b[0m     \u001b[38;5;28mprint\u001b[39m(\u001b[38;5;124mf\u001b[39m\u001b[38;5;124m\"\u001b[39m\u001b[38;5;124m[DONE] Rerouter file is created in \u001b[39m\u001b[38;5;132;01m{\u001b[39;00mREROUTER_XML\u001b[38;5;132;01m}\u001b[39;00m\u001b[38;5;130;01m\\n\u001b[39;00m\u001b[38;5;124m[LOG] Output logged in \u001b[39m\u001b[38;5;132;01m{\u001b[39;00mREROUTING_LOG\u001b[38;5;132;01m}\u001b[39;00m\u001b[38;5;124m\"\u001b[39m)\n",
      "File \u001b[0;32m~/Envs/sumo-env/lib/python3.10/subprocess.py:505\u001b[0m, in \u001b[0;36mrun\u001b[0;34m(input, capture_output, timeout, check, *popenargs, **kwargs)\u001b[0m\n\u001b[1;32m    503\u001b[0m \u001b[38;5;28;01mwith\u001b[39;00m Popen(\u001b[38;5;241m*\u001b[39mpopenargs, \u001b[38;5;241m*\u001b[39m\u001b[38;5;241m*\u001b[39mkwargs) \u001b[38;5;28;01mas\u001b[39;00m process:\n\u001b[1;32m    504\u001b[0m     \u001b[38;5;28;01mtry\u001b[39;00m:\n\u001b[0;32m--> 505\u001b[0m         stdout, stderr \u001b[38;5;241m=\u001b[39m \u001b[43mprocess\u001b[49m\u001b[38;5;241;43m.\u001b[39;49m\u001b[43mcommunicate\u001b[49m\u001b[43m(\u001b[49m\u001b[38;5;28;43minput\u001b[39;49m\u001b[43m,\u001b[49m\u001b[43m \u001b[49m\u001b[43mtimeout\u001b[49m\u001b[38;5;241;43m=\u001b[39;49m\u001b[43mtimeout\u001b[49m\u001b[43m)\u001b[49m\n\u001b[1;32m    506\u001b[0m     \u001b[38;5;28;01mexcept\u001b[39;00m TimeoutExpired \u001b[38;5;28;01mas\u001b[39;00m exc:\n\u001b[1;32m    507\u001b[0m         process\u001b[38;5;241m.\u001b[39mkill()\n",
      "File \u001b[0;32m~/Envs/sumo-env/lib/python3.10/subprocess.py:1146\u001b[0m, in \u001b[0;36mPopen.communicate\u001b[0;34m(self, input, timeout)\u001b[0m\n\u001b[1;32m   1144\u001b[0m         stderr \u001b[38;5;241m=\u001b[39m \u001b[38;5;28mself\u001b[39m\u001b[38;5;241m.\u001b[39mstderr\u001b[38;5;241m.\u001b[39mread()\n\u001b[1;32m   1145\u001b[0m         \u001b[38;5;28mself\u001b[39m\u001b[38;5;241m.\u001b[39mstderr\u001b[38;5;241m.\u001b[39mclose()\n\u001b[0;32m-> 1146\u001b[0m     \u001b[38;5;28;43mself\u001b[39;49m\u001b[38;5;241;43m.\u001b[39;49m\u001b[43mwait\u001b[49m\u001b[43m(\u001b[49m\u001b[43m)\u001b[49m\n\u001b[1;32m   1147\u001b[0m \u001b[38;5;28;01melse\u001b[39;00m:\n\u001b[1;32m   1148\u001b[0m     \u001b[38;5;28;01mif\u001b[39;00m timeout \u001b[38;5;129;01mis\u001b[39;00m \u001b[38;5;129;01mnot\u001b[39;00m \u001b[38;5;28;01mNone\u001b[39;00m:\n",
      "File \u001b[0;32m~/Envs/sumo-env/lib/python3.10/subprocess.py:1209\u001b[0m, in \u001b[0;36mPopen.wait\u001b[0;34m(self, timeout)\u001b[0m\n\u001b[1;32m   1207\u001b[0m     endtime \u001b[38;5;241m=\u001b[39m _time() \u001b[38;5;241m+\u001b[39m timeout\n\u001b[1;32m   1208\u001b[0m \u001b[38;5;28;01mtry\u001b[39;00m:\n\u001b[0;32m-> 1209\u001b[0m     \u001b[38;5;28;01mreturn\u001b[39;00m \u001b[38;5;28;43mself\u001b[39;49m\u001b[38;5;241;43m.\u001b[39;49m\u001b[43m_wait\u001b[49m\u001b[43m(\u001b[49m\u001b[43mtimeout\u001b[49m\u001b[38;5;241;43m=\u001b[39;49m\u001b[43mtimeout\u001b[49m\u001b[43m)\u001b[49m\n\u001b[1;32m   1210\u001b[0m \u001b[38;5;28;01mexcept\u001b[39;00m \u001b[38;5;167;01mKeyboardInterrupt\u001b[39;00m:\n\u001b[1;32m   1211\u001b[0m     \u001b[38;5;66;03m# https://bugs.python.org/issue25942\u001b[39;00m\n\u001b[1;32m   1212\u001b[0m     \u001b[38;5;66;03m# The first keyboard interrupt waits briefly for the child to\u001b[39;00m\n\u001b[1;32m   1213\u001b[0m     \u001b[38;5;66;03m# exit under the common assumption that it also received the ^C\u001b[39;00m\n\u001b[1;32m   1214\u001b[0m     \u001b[38;5;66;03m# generated SIGINT and will exit rapidly.\u001b[39;00m\n\u001b[1;32m   1215\u001b[0m     \u001b[38;5;28;01mif\u001b[39;00m timeout \u001b[38;5;129;01mis\u001b[39;00m \u001b[38;5;129;01mnot\u001b[39;00m \u001b[38;5;28;01mNone\u001b[39;00m:\n",
      "File \u001b[0;32m~/Envs/sumo-env/lib/python3.10/subprocess.py:1959\u001b[0m, in \u001b[0;36mPopen._wait\u001b[0;34m(self, timeout)\u001b[0m\n\u001b[1;32m   1957\u001b[0m \u001b[38;5;28;01mif\u001b[39;00m \u001b[38;5;28mself\u001b[39m\u001b[38;5;241m.\u001b[39mreturncode \u001b[38;5;129;01mis\u001b[39;00m \u001b[38;5;129;01mnot\u001b[39;00m \u001b[38;5;28;01mNone\u001b[39;00m:\n\u001b[1;32m   1958\u001b[0m     \u001b[38;5;28;01mbreak\u001b[39;00m  \u001b[38;5;66;03m# Another thread waited.\u001b[39;00m\n\u001b[0;32m-> 1959\u001b[0m (pid, sts) \u001b[38;5;241m=\u001b[39m \u001b[38;5;28;43mself\u001b[39;49m\u001b[38;5;241;43m.\u001b[39;49m\u001b[43m_try_wait\u001b[49m\u001b[43m(\u001b[49m\u001b[38;5;241;43m0\u001b[39;49m\u001b[43m)\u001b[49m\n\u001b[1;32m   1960\u001b[0m \u001b[38;5;66;03m# Check the pid and loop as waitpid has been known to\u001b[39;00m\n\u001b[1;32m   1961\u001b[0m \u001b[38;5;66;03m# return 0 even without WNOHANG in odd situations.\u001b[39;00m\n\u001b[1;32m   1962\u001b[0m \u001b[38;5;66;03m# http://bugs.python.org/issue14396.\u001b[39;00m\n\u001b[1;32m   1963\u001b[0m \u001b[38;5;28;01mif\u001b[39;00m pid \u001b[38;5;241m==\u001b[39m \u001b[38;5;28mself\u001b[39m\u001b[38;5;241m.\u001b[39mpid:\n",
      "File \u001b[0;32m~/Envs/sumo-env/lib/python3.10/subprocess.py:1917\u001b[0m, in \u001b[0;36mPopen._try_wait\u001b[0;34m(self, wait_flags)\u001b[0m\n\u001b[1;32m   1915\u001b[0m \u001b[38;5;250m\u001b[39m\u001b[38;5;124;03m\"\"\"All callers to this function MUST hold self._waitpid_lock.\"\"\"\u001b[39;00m\n\u001b[1;32m   1916\u001b[0m \u001b[38;5;28;01mtry\u001b[39;00m:\n\u001b[0;32m-> 1917\u001b[0m     (pid, sts) \u001b[38;5;241m=\u001b[39m \u001b[43mos\u001b[49m\u001b[38;5;241;43m.\u001b[39;49m\u001b[43mwaitpid\u001b[49m\u001b[43m(\u001b[49m\u001b[38;5;28;43mself\u001b[39;49m\u001b[38;5;241;43m.\u001b[39;49m\u001b[43mpid\u001b[49m\u001b[43m,\u001b[49m\u001b[43m \u001b[49m\u001b[43mwait_flags\u001b[49m\u001b[43m)\u001b[49m\n\u001b[1;32m   1918\u001b[0m \u001b[38;5;28;01mexcept\u001b[39;00m \u001b[38;5;167;01mChildProcessError\u001b[39;00m:\n\u001b[1;32m   1919\u001b[0m     \u001b[38;5;66;03m# This happens if SIGCLD is set to be ignored or waiting\u001b[39;00m\n\u001b[1;32m   1920\u001b[0m     \u001b[38;5;66;03m# for child processes has otherwise been disabled for our\u001b[39;00m\n\u001b[1;32m   1921\u001b[0m     \u001b[38;5;66;03m# process.  This child is dead, we can't get the status.\u001b[39;00m\n\u001b[1;32m   1922\u001b[0m     pid \u001b[38;5;241m=\u001b[39m \u001b[38;5;28mself\u001b[39m\u001b[38;5;241m.\u001b[39mpid\n",
      "\u001b[0;31mKeyboardInterrupt\u001b[0m: "
     ]
    }
   ],
   "source": [
    "REROUTING_CMD = [\n",
    "    \"python\", REROUTING_PY,\n",
    "    \"-n\", CLEANED_NET_XML_2,\n",
    "    \"-o\", REROUTER_XML,\n",
    "    \"--vclass\", \"passenger\",\n",
    "]\n",
    "\n",
    "with open(REROUTING_LOG, \"w\") as f:\n",
    "    print(\"Running REROUTING Step ...\")\n",
    "    subprocess.run(REROUTING_CMD, stdout=f, stderr=subprocess.STDOUT, check=True)\n",
    "    print(f\"[DONE] Rerouter file is created in {REROUTER_XML}\\n[LOG] Output logged in {REROUTING_LOG}\")\n",
    "    "
   ]
  },
  {
   "cell_type": "markdown",
   "metadata": {},
   "source": [
    "## Updating SUMOCFG"
   ]
  },
  {
   "cell_type": "code",
   "execution_count": 12,
   "metadata": {},
   "outputs": [
    {
     "name": "stdout",
     "output_type": "stream",
     "text": [
      "Updating net-file: /home/hoai-linh.dao/Works/EVCS/CEREMA-Mini/result/net-repairment/cleaned_2_newtest-osm.net.xml -> /home/hoai-linh.dao/Works/EVCS/CEREMA-Mini/result/net-repairment/cleaned_2_newtest-osm.net.xml\n",
      "Updating route-files: /home/hoai-linh.dao/Works/EVCS/CEREMA-Mini/result/experiments/simulation-10percent/route.xml -> /home/hoai-linh.dao/Works/EVCS/CEREMA-Mini/result/experiments/simulation-10percent-nonvtypes/route.xml\n",
      "Updating statistic-output: /home/hoai-linh.dao/Works/EVCS/CEREMA-Mini/result/experiments/simulation-10percent/outputs/statistics.xml -> /home/hoai-linh.dao/Works/EVCS/CEREMA-Mini/result/experiments/simulation-10percent-nonvtypes/outputs/statistics.xml\n",
      "Updating log: /home/hoai-linh.dao/Works/EVCS/CEREMA-Mini/result/experiments/simulation-10percent/outputs/log.txt -> /home/hoai-linh.dao/Works/EVCS/CEREMA-Mini/result/experiments/simulation-10percent-nonvtypes/outputs/log.txt\n",
      "Updating summary-output: /home/hoai-linh.dao/Works/EVCS/CEREMA-Mini/result/experiments/simulation-10percent/outputs/summary.xml -> /home/hoai-linh.dao/Works/EVCS/CEREMA-Mini/result/experiments/simulation-10percent-nonvtypes/outputs/summary.xml\n",
      "Updating tripinfo-output: /home/hoai-linh.dao/Works/EVCS/CEREMA-Mini/result/experiments/simulation-10percent/outputs/tripinfo.xml -> /home/hoai-linh.dao/Works/EVCS/CEREMA-Mini/result/experiments/simulation-10percent-nonvtypes/outputs/tripinfo.xml\n",
      "Updating vehroute-output: /home/hoai-linh.dao/Works/EVCS/CEREMA-Mini/result/experiments/simulation-10percent/outputs/vehRoutes.xml -> /home/hoai-linh.dao/Works/EVCS/CEREMA-Mini/result/experiments/simulation-10percent-nonvtypes/outputs/vehRoutes.xml\n",
      "Updating lanechange-output: /home/hoai-linh.dao/Works/EVCS/CEREMA-Mini/result/experiments/simulation-10percent/outputs/laneChanges.xml -> /home/hoai-linh.dao/Works/EVCS/CEREMA-Mini/result/experiments/simulation-10percent-nonvtypes/outputs/laneChanges.xml\n",
      "Updating fcd-output: /home/hoai-linh.dao/Works/EVCS/CEREMA-Mini/result/experiments/simulation-10percent/outputs/sumoTrace.xml -> /home/hoai-linh.dao/Works/EVCS/CEREMA-Mini/result/experiments/simulation-10percent-nonvtypes/outputs/sumoTrace.xml\n",
      "Updating battery-output: /home/hoai-linh.dao/Works/EVCS/CEREMA-Mini/result/experiments/simulation-10percent/outputs/battery.xml -> /home/hoai-linh.dao/Works/EVCS/CEREMA-Mini/result/experiments/simulation-10percent-nonvtypes/outputs/battery.xml\n",
      "Updating collision-output: /home/hoai-linh.dao/Works/EVCS/CEREMA-Mini/result/experiments/simulation-10percent/outputs/collisions.xml -> /home/hoai-linh.dao/Works/EVCS/CEREMA-Mini/result/experiments/simulation-10percent-nonvtypes/outputs/collisions.xml\n"
     ]
    }
   ],
   "source": [
    "PATH_REPLACEMENTS = {\n",
    "    'net-file': CLEANED_NET_XML_2,\n",
    "    'route-files': ROUTE_XML,\n",
    "    'summary-output': SUMMARY_XML,\n",
    "    'tripinfo-output': TRIPINFO_XML,\n",
    "    'fcd-output': TRACE_XML,\n",
    "    'lanechange-output': LANECHANGES_XML,\n",
    "    'battery-output': BATTERY_XML,\n",
    "    'vehroute-output': VEHROUTES_XML,\n",
    "    'collision-output': COLLISIONS_XML,\n",
    "    'netstate-dump': NETSTATE_XML,\n",
    "    'statistic-output': STATISTICS_XML,\n",
    "    'log': LOG_TXT\n",
    "}\n",
    "updateSumoCfg(\n",
    "    cfg_path=SUMOCFG_XML,\n",
    "    output_path=SUMOCFG_XML,\n",
    "    replacements=PATH_REPLACEMENTS\n",
    ")"
   ]
  },
  {
   "cell_type": "markdown",
   "metadata": {},
   "source": [
    "## Running"
   ]
  },
  {
   "cell_type": "code",
   "execution_count": 4,
   "metadata": {},
   "outputs": [
    {
     "name": "stdout",
     "output_type": "stream",
     "text": [
      "Running SUMO simulation ...\n",
      "[DONE] Simulation outputs are created in /home/hoai-linh.dao/Works/EVCS/CEREMA-Mini/result/experiments/simulation-10percent-nonvtypes\n",
      "[LOG] Output logged in /home/hoai-linh.dao/Works/EVCS/CEREMA-Mini/result/experiments/simulation-10percent-nonvtypes/logs/sumo_run.log\n"
     ]
    }
   ],
   "source": [
    "SIMULATION_CMD = [\n",
    "    \"sumo\",             \n",
    "    \"-c\", SUMOCFG_XML,\n",
    "    \"--no-step-log\",      \n",
    "    \"--duration-log.statistics\",\n",
    "    \"--xml-validation\", \"never\"  \n",
    "]\n",
    "\n",
    "with open(SIMULATION_LOG, \"w\") as f:\n",
    "    print(\"Running SUMO simulation ...\")\n",
    "    subprocess.run(SIMULATION_CMD, stdout=f, stderr=subprocess.STDOUT, check=True)\n",
    "    print(f\"[DONE] Simulation outputs are created in {SIMULATION_DIR}\\n[LOG] Output logged in {SIMULATION_LOG}\")\n"
   ]
  },
  {
   "cell_type": "markdown",
   "metadata": {},
   "source": [
    "# **VISUALIZATIONS**"
   ]
  },
  {
   "cell_type": "code",
   "execution_count": 5,
   "metadata": {},
   "outputs": [
    {
     "name": "stderr",
     "output_type": "stream",
     "text": [
      "Warning: Skipped 131494 lines because of missing attributes 'arrival'.\n"
     ]
    },
    {
     "name": "stdout",
     "output_type": "stream",
     "text": [
      "Figure(1400x900)\n"
     ]
    },
    {
     "data": {
      "text/plain": [
       "CompletedProcess(args=['python', PosixPath('/home/hoai-linh.dao/Envs/sumo-env/lib/python3.10/site-packages/sumo/tools/visualization/plotXMLAttributes.py'), PosixPath('/home/hoai-linh.dao/Works/EVCS/CEREMA-Mini/result/experiments/simulation-10percent-nonvtypes/outputs/vehRoutes.xml'), '-x', 'depart', '-y', 'arrival', '-o', PosixPath('/home/hoai-linh.dao/Works/EVCS/CEREMA-Mini/result/experiments/simulation-10percent-nonvtypes/visualizations/plot_1.png'), '--scatterplot'], returncode=0)"
      ]
     },
     "execution_count": 5,
     "metadata": {},
     "output_type": "execute_result"
    }
   ],
   "source": [
    "PLOT_CMD_1 = [\n",
    "    \"python\", PLOTXMLATTRIBUTES_PY,\n",
    "    VEHROUTES_XML,                 \n",
    "    \"-x\", \"depart\",      \n",
    "    \"-y\", \"arrival\",             \n",
    "    \"-o\", PLOT_1_PNG,\n",
    "    \"--scatterplot\"\n",
    "]\n",
    "\n",
    "subprocess.run(PLOT_CMD_1, check=True)"
   ]
  },
  {
   "cell_type": "code",
   "execution_count": null,
   "metadata": {},
   "outputs": [],
   "source": [
    "PLOT_CMD_2 = [\n",
    "    \"python\", PLOTXMLATTRIBUTES_PY,\n",
    "    TRACE_XML,                 \n",
    "    \"-x\", \"x\",     \n",
    "    \"-y\", \"y\",             \n",
    "    \"-o\", PLOT_2_PNG,\n",
    "    \"--scatterplot\"\n",
    "]\n",
    "\n",
    "subprocess.run(PLOT_CMD_2, check=True)"
   ]
  },
  {
   "cell_type": "code",
   "execution_count": null,
   "metadata": {},
   "outputs": [
    {
     "name": "stdout",
     "output_type": "stream",
     "text": [
      "Eclipse SUMO od2trips Version v1_22_0+0959-576b58424eb\n",
      " Copyright (C) 2001-2025 German Aerospace Center (DLR) and others; https://sumo.dlr.de\n",
      "Importer of O/D-matrices for the microscopic, multi-modal traffic simulation\n",
      " SUMO.\n",
      "\n",
      "Usage: od2trips [OPTION]*\n",
      "Configuration Options:\n",
      "  -c, --configuration-file FILE    Loads the named config on startup\n",
      "  -C, --save-configuration FILE    Saves current configuration into FILE\n",
      "  --save-configuration.relative    Enforce relative paths when saving the\n",
      "                                    configuration\n",
      "  --save-template FILE             Saves a configuration template (empty) into\n",
      "                                    FILE\n",
      "  --save-schema FILE               Saves the configuration schema into FILE\n",
      "  --save-commented                 Adds comments to saved template,\n",
      "                                    configuration, or schema\n",
      "\n",
      "Input Options:\n",
      "  -n, --taz-files FILE             Loads TAZ (districts;\n",
      "                                    also from networks) from FILE(s)\n",
      "  -d, --od-matrix-files FILE       Loads O/D-files from FILE(s)\n",
      "  --od-amitran-files FILE          Loads O/D-matrix in Amitran format from\n",
      "                                    FILE(s)\n",
      "  -z, --tazrelation-files FILE     Loads O/D-matrix in tazRelation format from\n",
      "                                    FILE(s)\n",
      "  --tazrelation-attribute STR      Define data attribute for loading counts\n",
      "                                    (default 'count')\n",
      "\n",
      "Output Options:\n",
      "  --write-license                  Include license info into every output file\n",
      "  --output-prefix STR              Prefix which is applied to all output files.\n",
      "                                    The special string 'TIME' is replaced by the\n",
      "                                    current time.\n",
      "  --precision INT                  Defines the number of digits after the comma\n",
      "                                    for floating point output\n",
      "  --precision.geo INT              Defines the number of digits after the comma\n",
      "                                    for lon,lat output\n",
      "  -H, --human-readable-time        Write time values as hour:minute:second or\n",
      "                                    day:hour:minute:second rather than seconds\n",
      "  -o, --output-file FILE           Writes trip definitions into FILE\n",
      "  --flow-output FILE               Writes flow definitions into FILE\n",
      "  --flow-output.probability        Writes probabilistic flow instead of evenly\n",
      "                                    spaced flow\n",
      "  --pedestrians                    Writes pedestrians instead of vehicles\n",
      "  --persontrips                    Writes persontrips instead of vehicles\n",
      "  --persontrips.modes STR[]        Add modes attribute to personTrips\n",
      "  --ignore-vehicle-type            Does not save vtype information\n",
      "  --junctions                      Writes trips between junctions\n",
      "\n",
      "Time Options:\n",
      "  -b, --begin TIME                 Defines the begin time;\n",
      "                                    Previous trips will be discarded\n",
      "  -e, --end TIME                   Defines the end time;\n",
      "                                    Later trips will be discarded;\n",
      "                                    Defaults to the maximum time that SUMO can\n",
      "                                    represent\n",
      "\n",
      "Processing Options:\n",
      "  -s, --scale FLOAT                Scales the loaded flows by FLOAT\n",
      "  --spread.uniform                 Spreads trips uniformly over each time\n",
      "                                    period\n",
      "  --different-source-sink          Always choose source and sink edge which are\n",
      "                                    not identical\n",
      "  --vtype STR                      Defines the name of the vehicle type to use\n",
      "  --prefix STR                     Defines the prefix for vehicle names\n",
      "  --timeline STR[]                 Uses STR[] as a timeline definition\n",
      "  --timeline.day-in-hours          Uses STR as a 24h-timeline definition\n",
      "  --no-step-log                    Disable console output of current time step\n",
      "\n",
      "Defaults Options:\n",
      "  --departlane STR                 Assigns a default depart lane\n",
      "  --departpos STR                  Assigns a default depart position\n",
      "  --departspeed STR                Assigns a default depart speed\n",
      "  --arrivallane STR                Assigns a default arrival lane\n",
      "  --arrivalpos STR                 Assigns a default arrival position\n",
      "  --arrivalspeed STR               Assigns a default arrival speed\n",
      "\n",
      "Report Options:\n",
      "  -v, --verbose                    Switches to verbose output\n",
      "  --print-options                  Prints option values before processing\n",
      "  -?, --help                       Prints this screen or selected topics\n",
      "  -V, --version                    Prints the current version\n",
      "  -X, --xml-validation STR         Set schema validation scheme of XML inputs\n",
      "                                    (\"never\", \"local\", \"auto\" or \"always\")\n",
      "  -W, --no-warnings                Disables output of warnings\n",
      "  --aggregate-warnings INT         Aggregate warnings of the same type whenever\n",
      "                                    more than INT occur\n",
      "  -l, --log FILE                   Writes all messages to FILE (implies\n",
      "                                    verbose)\n",
      "  --message-log FILE               Writes all non-error messages to FILE\n",
      "                                    (implies verbose)\n",
      "  --error-log FILE                 Writes all warnings and errors to FILE\n",
      "  --log.timestamps                 Writes timestamps in front of all messages\n",
      "  --log.processid                  Writes process ID in front of all messages\n",
      "  --language STR                   Language to use in messages\n",
      "  --ignore-errors                  Continue on broken input\n",
      "\n",
      "Random Number Options:\n",
      "  --random                         Initialises the random number generator with\n",
      "                                    the current system time\n",
      "  --seed INT                       Initialises the random number generator with\n",
      "                                    the given value\n",
      "\n",
      "\n",
      "Examples:\n",
      "  od2trips -c <CONFIGURATION>\n",
      "    run with configuration file\n",
      "\n",
      "Report bugs at <https://github.com/eclipse-sumo/sumo/issues>.\n",
      "Get in contact via <sumo@dlr.de>.\n"
     ]
    }
   ],
   "source": [
    "! od2trips --help"
   ]
  }
 ],
 "metadata": {
  "kernelspec": {
   "display_name": "Python 3",
   "language": "python",
   "name": "python3"
  },
  "language_info": {
   "codemirror_mode": {
    "name": "ipython",
    "version": 3
   },
   "file_extension": ".py",
   "mimetype": "text/x-python",
   "name": "python",
   "nbconvert_exporter": "python",
   "pygments_lexer": "ipython3",
   "version": "3.10.16"
  }
 },
 "nbformat": 4,
 "nbformat_minor": 2
}
