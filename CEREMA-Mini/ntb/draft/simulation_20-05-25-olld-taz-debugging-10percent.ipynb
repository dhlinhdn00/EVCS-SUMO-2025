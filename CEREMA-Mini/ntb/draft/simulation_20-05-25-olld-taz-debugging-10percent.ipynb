{
 "cells": [
  {
   "cell_type": "markdown",
   "metadata": {},
   "source": [
    "# **SETUP**"
   ]
  },
  {
   "cell_type": "code",
   "execution_count": 1,
   "metadata": {},
   "outputs": [],
   "source": [
    "import sys\n",
    "from pathlib import Path\n",
    "sys.path.append('/home/hoai-linh.dao/Works/EVCS/CEREMA-Mini/src') \n",
    "from config import *\n",
    "\n",
    "# Fixed PATHs\n",
    "# NET_XML = Path(\"/home/hoai-linh.dao/Works/EVCS/CEREMA-Mini/data/newtest-osm.net.xml\")\n",
    "NET_XML = \"/home/hoai-linh.dao/Works/EVCS/CEREMA-Mini/result/net-repairment/cleaned_p2_2_newtest-osm.net.xml\"\n",
    "VTYPES_DIST_XML = \"/home/hoai-linh.dao/Works/EVCS/CEREMA-Mini/data/additional-files/vtypes-dist.add.xml\"\n",
    "MAIN_FLOW_CSV = \"/home/hoai-linh.dao/Works/EVCS/CEREMA-Mini/data/processed-data/main-flow.csv\"\n",
    "TAZ_XML = \"/home/hoai-linh.dao/Works/EVCS/CEREMA-Mini/data/additional-files/taz/taz-spatial-no-border-ratio.xml\"\n",
    "\n",
    "# Dynamic DIRs\n",
    "SIMULATION_DIR = Path(\"/home/hoai-linh.dao/Works/EVCS/CEREMA-Mini/result/experiments/20-05-25-olld-taz-debugging-10percent\") # MOST IMPORTANT\n",
    "\n",
    "ODS_DIR = SIMULATION_DIR / \"ods\"\n",
    "TRIPS_DIR = SIMULATION_DIR / \"trips\"\n",
    "OUTPUTS_DIR = SIMULATION_DIR / \"outputs\"\n",
    "LOGS_DIR = SIMULATION_DIR / \"logs\"\n",
    "VISUALIZATIONS_DIR = SIMULATION_DIR / \"visualizations\"\n",
    "\n",
    "SIMULATION_DIR.mkdir(parents=True, exist_ok=True)\n",
    "for path in [ODS_DIR, TRIPS_DIR, OUTPUTS_DIR, LOGS_DIR, VISUALIZATIONS_DIR]:\n",
    "    path.mkdir(parents=True, exist_ok=True)\n",
    "\n",
    "# Dynamic PATHs\n",
    "ALL_TRIPS_XML = SIMULATION_DIR / \"trips.xml\"\n",
    "ROUTE_XML = SIMULATION_DIR / \"route.xml\"\n",
    "ROUTE_ALT_XML = SIMULATION_DIR / \"route.alt.xml\"\n",
    "SUMOCFG_XML = SIMULATION_DIR / \"run.sumocfg\"\n",
    "\n",
    "DUAROUTER_LOG = LOGS_DIR / \"duarouter.log\"\n",
    "SIMULATION_LOG = LOGS_DIR / \"sumo_run.log\"\n",
    "\n",
    "# Outputs Paths\n",
    "COLLISIONS_XML = OUTPUTS_DIR / \"collisions.xml\"\n",
    "BATTERY_XML = OUTPUTS_DIR / \"battery.xml\"\n",
    "LANECHANGES_XML = OUTPUTS_DIR / \"laneChanges.xml\"\n",
    "STATISTICS_XML = OUTPUTS_DIR / \"statistics.xml\"\n",
    "TRACE_XML = OUTPUTS_DIR / \"sumoTrace.xml\"\n",
    "SUMMARY_XML = OUTPUTS_DIR / \"summary.xml\"\n",
    "TRIPINFO_XML = OUTPUTS_DIR / \"tripinfo.xml\"\n",
    "VEHROUTES_XML = OUTPUTS_DIR / \"vehRoutes.xml\"\n",
    "NETSTATE_XML = OUTPUTS_DIR / \"netstate.xml\"\n",
    "LOG_TXT = OUTPUTS_DIR / \"log.txt\"\n",
    "EDGEDATA_XML = OUTPUTS_DIR / \"edgeData-60s.xml\"\n",
    "LANEDATA_XML = OUTPUTS_DIR / \"laneData-60s.xml\"\n",
    "QUEUE_XML = OUTPUTS_DIR / \"queue.xml\"\n",
    "EMISSION_XML = OUTPUTS_DIR / \"emission.xml\"\n",
    "SMS_XML = OUTPUTS_DIR / \"sms.xml\"\n",
    "\n",
    "# Visualization Paths\n",
    "PLOT_1_PNG = VISUALIZATIONS_DIR / \"plot_1.png\"\n",
    "PLOT_2_PNG = VISUALIZATIONS_DIR / \"plot_2.png\"\n",
    "PLOT_3_PNG = VISUALIZATIONS_DIR / \"plot_3.png\"\n",
    "PLOT_4_PNG = VISUALIZATIONS_DIR / \"plot_4.png\"\n",
    "PLOT_5_PNG = VISUALIZATIONS_DIR / \"plot_5.png\"\n",
    "PLOT_6_PNG = VISUALIZATIONS_DIR / \"plot_6.png\"\n",
    "PLOT_7_PNG = VISUALIZATIONS_DIR / \"plot_7.png\"\n",
    "PLOT_8_PNG = VISUALIZATIONS_DIR / \"plot_8.png\"\n",
    "\n",
    "PATH_REPLACEMENTS = {\n",
    "    'net-file': NET_XML,\n",
    "    'route-files': ROUTE_XML,\n",
    "    'summary-output': SUMMARY_XML,\n",
    "    'tripinfo-output': TRIPINFO_XML,\n",
    "    'fcd-output': TRACE_XML,\n",
    "    'lanechange-output': LANECHANGES_XML,\n",
    "    'battery-output': BATTERY_XML,\n",
    "    'vehroute-output': VEHROUTES_XML,\n",
    "    'collision-output': COLLISIONS_XML,\n",
    "    'netstate-dump': NETSTATE_XML,\n",
    "    'statistic-output': STATISTICS_XML,\n",
    "    'log': LOG_TXT,\n",
    "    'lanedata-output': LANEDATA_XML,\n",
    "    'edgedata-output': EDGEDATA_XML,\n",
    "    'device.ssm.file': SMS_XML,\n",
    "    'emission-output': EMISSION_XML,\n",
    "    'queue-output': QUEUE_XML\n",
    "}"
   ]
  },
  {
   "cell_type": "markdown",
   "metadata": {},
   "source": [
    "# **MAIN**"
   ]
  },
  {
   "cell_type": "markdown",
   "metadata": {},
   "source": [
    "## Creating Ods"
   ]
  },
  {
   "cell_type": "code",
   "execution_count": 3,
   "metadata": {},
   "outputs": [
    {
     "name": "stdout",
     "output_type": "stream",
     "text": [
      "[DONE] OD matrix hour 4: /home/hoai-linh.dao/Works/EVCS/CEREMA-Mini/result/experiments/20-05-25-olld-taz-debugging-10percent/ods/od_matrix_04.txt (1688 bytes)\n",
      "[DONE] OD matrix hour 5: /home/hoai-linh.dao/Works/EVCS/CEREMA-Mini/result/experiments/20-05-25-olld-taz-debugging-10percent/ods/od_matrix_05.txt (1688 bytes)\n",
      "[DONE] OD matrix hour 6: /home/hoai-linh.dao/Works/EVCS/CEREMA-Mini/result/experiments/20-05-25-olld-taz-debugging-10percent/ods/od_matrix_06.txt (1688 bytes)\n",
      "[DONE] OD matrix hour 7: /home/hoai-linh.dao/Works/EVCS/CEREMA-Mini/result/experiments/20-05-25-olld-taz-debugging-10percent/ods/od_matrix_07.txt (1688 bytes)\n",
      "[DONE] OD matrix hour 8: /home/hoai-linh.dao/Works/EVCS/CEREMA-Mini/result/experiments/20-05-25-olld-taz-debugging-10percent/ods/od_matrix_08.txt (1688 bytes)\n",
      "[DONE] OD matrix hour 9: /home/hoai-linh.dao/Works/EVCS/CEREMA-Mini/result/experiments/20-05-25-olld-taz-debugging-10percent/ods/od_matrix_09.txt (1689 bytes)\n",
      "[DONE] OD matrix hour 10: /home/hoai-linh.dao/Works/EVCS/CEREMA-Mini/result/experiments/20-05-25-olld-taz-debugging-10percent/ods/od_matrix_10.txt (1690 bytes)\n",
      "[DONE] OD matrix hour 11: /home/hoai-linh.dao/Works/EVCS/CEREMA-Mini/result/experiments/20-05-25-olld-taz-debugging-10percent/ods/od_matrix_11.txt (1690 bytes)\n",
      "[DONE] OD matrix hour 12: /home/hoai-linh.dao/Works/EVCS/CEREMA-Mini/result/experiments/20-05-25-olld-taz-debugging-10percent/ods/od_matrix_12.txt (1690 bytes)\n",
      "[DONE] OD matrix hour 13: /home/hoai-linh.dao/Works/EVCS/CEREMA-Mini/result/experiments/20-05-25-olld-taz-debugging-10percent/ods/od_matrix_13.txt (1690 bytes)\n",
      "[DONE] OD matrix hour 14: /home/hoai-linh.dao/Works/EVCS/CEREMA-Mini/result/experiments/20-05-25-olld-taz-debugging-10percent/ods/od_matrix_14.txt (1690 bytes)\n",
      "[DONE] OD matrix hour 15: /home/hoai-linh.dao/Works/EVCS/CEREMA-Mini/result/experiments/20-05-25-olld-taz-debugging-10percent/ods/od_matrix_15.txt (1690 bytes)\n",
      "[DONE] OD matrix hour 16: /home/hoai-linh.dao/Works/EVCS/CEREMA-Mini/result/experiments/20-05-25-olld-taz-debugging-10percent/ods/od_matrix_16.txt (1690 bytes)\n",
      "[DONE] OD matrix hour 17: /home/hoai-linh.dao/Works/EVCS/CEREMA-Mini/result/experiments/20-05-25-olld-taz-debugging-10percent/ods/od_matrix_17.txt (1690 bytes)\n",
      "[DONE] OD matrix hour 18: /home/hoai-linh.dao/Works/EVCS/CEREMA-Mini/result/experiments/20-05-25-olld-taz-debugging-10percent/ods/od_matrix_18.txt (1690 bytes)\n",
      "[DONE] OD matrix hour 19: /home/hoai-linh.dao/Works/EVCS/CEREMA-Mini/result/experiments/20-05-25-olld-taz-debugging-10percent/ods/od_matrix_19.txt (1690 bytes)\n",
      "[DONE] OD matrix hour 20: /home/hoai-linh.dao/Works/EVCS/CEREMA-Mini/result/experiments/20-05-25-olld-taz-debugging-10percent/ods/od_matrix_20.txt (1690 bytes)\n",
      "[DONE] OD matrix hour 21: /home/hoai-linh.dao/Works/EVCS/CEREMA-Mini/result/experiments/20-05-25-olld-taz-debugging-10percent/ods/od_matrix_21.txt (1690 bytes)\n",
      "[DONE] OD matrix hour 22: /home/hoai-linh.dao/Works/EVCS/CEREMA-Mini/result/experiments/20-05-25-olld-taz-debugging-10percent/ods/od_matrix_22.txt (1690 bytes)\n",
      "[DONE] OD matrix hour 23: /home/hoai-linh.dao/Works/EVCS/CEREMA-Mini/result/experiments/20-05-25-olld-taz-debugging-10percent/ods/od_matrix_23.txt (1690 bytes)\n",
      "[DONE] OD matrix hour 0: /home/hoai-linh.dao/Works/EVCS/CEREMA-Mini/result/experiments/20-05-25-olld-taz-debugging-10percent/ods/od_matrix_00.txt (1688 bytes)\n",
      "[DONE] OD matrix hour 1: /home/hoai-linh.dao/Works/EVCS/CEREMA-Mini/result/experiments/20-05-25-olld-taz-debugging-10percent/ods/od_matrix_01.txt (1688 bytes)\n",
      "[DONE] OD matrix hour 2: /home/hoai-linh.dao/Works/EVCS/CEREMA-Mini/result/experiments/20-05-25-olld-taz-debugging-10percent/ods/od_matrix_02.txt (1688 bytes)\n",
      "[DONE] OD matrix hour 3: /home/hoai-linh.dao/Works/EVCS/CEREMA-Mini/result/experiments/20-05-25-olld-taz-debugging-10percent/ods/od_matrix_03.txt (1688 bytes)\n"
     ]
    }
   ],
   "source": [
    "matrix_files = generateOds(\n",
    "    MAIN_FLOW_CSV,\n",
    "    ODS_DIR,\n",
    "    TAZ_IDS,\n",
    "    real_origin=\"marseille\",\n",
    "    exclude_cols={\"total\",\"intra\"},\n",
    "    trips_ratio=TRIPS_RATIO_4,\n",
    "    scale_in=INCOMING_RATIO,\n",
    "    scale_out=OUTGOING_RATIO\n",
    ")\n",
    "\n",
    "\n",
    "for hour, path in matrix_files:\n",
    "    size = os.path.getsize(path)\n",
    "    print(f\"[DONE] OD matrix hour {hour}: {path} ({size} bytes)\")\n",
    "    "
   ]
  },
  {
   "cell_type": "markdown",
   "metadata": {},
   "source": [
    "## Creating Trips from Ods"
   ]
  },
  {
   "cell_type": "code",
   "execution_count": 4,
   "metadata": {},
   "outputs": [
    {
     "name": "stdout",
     "output_type": "stream",
     "text": [
      "Call od2trips for all ...\n",
      "Success.time 3598.85\n",
      "Generated /home/hoai-linh.dao/Works/EVCS/CEREMA-Mini/result/experiments/20-05-25-olld-taz-debugging-10percent/trips/trips_00.xml\n",
      "Success.time 7197.60\n",
      "Generated /home/hoai-linh.dao/Works/EVCS/CEREMA-Mini/result/experiments/20-05-25-olld-taz-debugging-10percent/trips/trips_01.xml\n",
      "Success.time 10794.00\n",
      "Generated /home/hoai-linh.dao/Works/EVCS/CEREMA-Mini/result/experiments/20-05-25-olld-taz-debugging-10percent/trips/trips_02.xml\n",
      "Success.time 14360.00\n",
      "Generated /home/hoai-linh.dao/Works/EVCS/CEREMA-Mini/result/experiments/20-05-25-olld-taz-debugging-10percent/trips/trips_03.xml\n",
      "Success.time 17979.78\n",
      "Generated /home/hoai-linh.dao/Works/EVCS/CEREMA-Mini/result/experiments/20-05-25-olld-taz-debugging-10percent/trips/trips_04.xml\n",
      "Success.time 21597.70\n",
      "Generated /home/hoai-linh.dao/Works/EVCS/CEREMA-Mini/result/experiments/20-05-25-olld-taz-debugging-10percent/trips/trips_05.xml\n",
      "Success.time 25199.25\n",
      "Generated /home/hoai-linh.dao/Works/EVCS/CEREMA-Mini/result/experiments/20-05-25-olld-taz-debugging-10percent/trips/trips_06.xml\n",
      "Success.time 28799.05\n",
      "Generated /home/hoai-linh.dao/Works/EVCS/CEREMA-Mini/result/experiments/20-05-25-olld-taz-debugging-10percent/trips/trips_07.xml\n",
      "Success.time 32399.40\n",
      "Generated /home/hoai-linh.dao/Works/EVCS/CEREMA-Mini/result/experiments/20-05-25-olld-taz-debugging-10percent/trips/trips_08.xml\n",
      "Success.time 35999.69\n",
      "Generated /home/hoai-linh.dao/Works/EVCS/CEREMA-Mini/result/experiments/20-05-25-olld-taz-debugging-10percent/trips/trips_09.xml\n",
      "Success.time 39599.38\n",
      "Generated /home/hoai-linh.dao/Works/EVCS/CEREMA-Mini/result/experiments/20-05-25-olld-taz-debugging-10percent/trips/trips_10.xml\n",
      "Success.time 43199.36\n",
      "Generated /home/hoai-linh.dao/Works/EVCS/CEREMA-Mini/result/experiments/20-05-25-olld-taz-debugging-10percent/trips/trips_11.xml\n",
      "Success.time 46799.26\n",
      "Generated /home/hoai-linh.dao/Works/EVCS/CEREMA-Mini/result/experiments/20-05-25-olld-taz-debugging-10percent/trips/trips_12.xml\n",
      "Success.time 50399.02\n",
      "Generated /home/hoai-linh.dao/Works/EVCS/CEREMA-Mini/result/experiments/20-05-25-olld-taz-debugging-10percent/trips/trips_13.xml\n",
      "Success.time 53999.88\n",
      "Generated /home/hoai-linh.dao/Works/EVCS/CEREMA-Mini/result/experiments/20-05-25-olld-taz-debugging-10percent/trips/trips_14.xml\n",
      "Success.time 57599.09\n",
      "Generated /home/hoai-linh.dao/Works/EVCS/CEREMA-Mini/result/experiments/20-05-25-olld-taz-debugging-10percent/trips/trips_15.xml\n",
      "Success.time 61199.22\n",
      "Generated /home/hoai-linh.dao/Works/EVCS/CEREMA-Mini/result/experiments/20-05-25-olld-taz-debugging-10percent/trips/trips_16.xml\n",
      "Success.time 64799.45\n",
      "Generated /home/hoai-linh.dao/Works/EVCS/CEREMA-Mini/result/experiments/20-05-25-olld-taz-debugging-10percent/trips/trips_17.xml\n",
      "Success.time 68399.63\n",
      "Generated /home/hoai-linh.dao/Works/EVCS/CEREMA-Mini/result/experiments/20-05-25-olld-taz-debugging-10percent/trips/trips_18.xml\n",
      "Success.time 71999.07\n",
      "Generated /home/hoai-linh.dao/Works/EVCS/CEREMA-Mini/result/experiments/20-05-25-olld-taz-debugging-10percent/trips/trips_19.xml\n",
      "Success.time 75599.84\n",
      "Generated /home/hoai-linh.dao/Works/EVCS/CEREMA-Mini/result/experiments/20-05-25-olld-taz-debugging-10percent/trips/trips_20.xml\n",
      "Success.time 79199.74\n",
      "Generated /home/hoai-linh.dao/Works/EVCS/CEREMA-Mini/result/experiments/20-05-25-olld-taz-debugging-10percent/trips/trips_21.xml\n",
      "Success.time 82798.55\n",
      "Generated /home/hoai-linh.dao/Works/EVCS/CEREMA-Mini/result/experiments/20-05-25-olld-taz-debugging-10percent/trips/trips_22.xml\n",
      "Success.time 86399.25\n",
      "Generated /home/hoai-linh.dao/Works/EVCS/CEREMA-Mini/result/experiments/20-05-25-olld-taz-debugging-10percent/trips/trips_23.xml\n",
      "\n",
      "[DONE] Finished 24 Trips based on hours.\n",
      "[DONE] Merged 24 trip files to /home/hoai-linh.dao/Works/EVCS/CEREMA-Mini/result/experiments/20-05-25-olld-taz-debugging-10percent/trips.xml\n"
     ]
    }
   ],
   "source": [
    "print(\"Call od2trips for all ...\")\n",
    "trips_files = od2tripsForAll(TAZ_XML, TRIPS_DIR, ODS_DIR)\n",
    "print()\n",
    "print(\"[DONE] Finished 24 Trips based on hours.\")\n",
    "\n",
    "mergeTrips(TRIPS_DIR, ALL_TRIPS_XML)\n"
   ]
  },
  {
   "cell_type": "markdown",
   "metadata": {},
   "source": [
    "## Creating Route"
   ]
  },
  {
   "cell_type": "code",
   "execution_count": 4,
   "metadata": {},
   "outputs": [
    {
     "name": "stdout",
     "output_type": "stream",
     "text": [
      "Running DUAROUTER Step ...\n"
     ]
    },
    {
     "name": "stderr",
     "output_type": "stream",
     "text": [
      "Warning: No connection between edge '161571403' and edge '143962123#1' found.\n",
      "Warning: Mandatory edge '143962123#1' not reachable by vehicle 'h00_400'.\n",
      "Warning: The vehicle 'h00_400' has no valid route.\n"
     ]
    },
    {
     "name": "stdout",
     "output_type": "stream",
     "text": [
      "Reading up to time step: 1201.15\r"
     ]
    },
    {
     "name": "stderr",
     "output_type": "stream",
     "text": [
      "Warning: No connection between edge '356936532#5' and edge '378355994#1' found.\n",
      "Warning: Mandatory edge '378355994#1' not reachable by vehicle 'h00_464'.\n",
      "Warning: The vehicle 'h00_464' has no valid route.\n"
     ]
    },
    {
     "name": "stdout",
     "output_type": "stream",
     "text": [
      "Reading up to time step: 1601.15\r"
     ]
    },
    {
     "name": "stderr",
     "output_type": "stream",
     "text": [
      "Warning: No connection between edge '71570214#0' and edge '144160557#0' found.\n",
      "Warning: Mandatory edge '144160557#0' not reachable by vehicle 'h00_627'.\n",
      "Warning: The vehicle 'h00_627' has no valid route.\n"
     ]
    },
    {
     "name": "stdout",
     "output_type": "stream",
     "text": [
      "Reading up to time step: 2601.15\r"
     ]
    },
    {
     "name": "stderr",
     "output_type": "stream",
     "text": [
      "Warning: No connection between edge '688357782#1' and edge '478673876' found.\n",
      "Warning: Mandatory edge '478673876' not reachable by vehicle 'h00_1082'.\n",
      "Warning: The vehicle 'h00_1082' has no valid route.\n"
     ]
    },
    {
     "name": "stdout",
     "output_type": "stream",
     "text": [
      "Reading up to time step: 3401.15\r"
     ]
    },
    {
     "name": "stderr",
     "output_type": "stream",
     "text": [
      "Warning: No connection between edge '24257311#3' and edge '116158359#1' found.\n",
      "Warning: Mandatory edge '116158359#1' not reachable by vehicle 'h00_1630'.\n",
      "Warning: The vehicle 'h00_1630' has no valid route.\n",
      "Warning: No connection between edge '126205686' and edge '1060073977' found.\n",
      "Warning: Mandatory edge '1060073977' not reachable by vehicle 'h01_476'.\n",
      "Warning: The vehicle 'h01_476' has no valid route.\n"
     ]
    },
    {
     "name": "stdout",
     "output_type": "stream",
     "text": [
      "Reading up to time step: 6001.15\r"
     ]
    },
    {
     "name": "stderr",
     "output_type": "stream",
     "text": [
      "Warning: No connection between edge '161387537#0' and edge '112885002#1' found.\n",
      "Warning: Mandatory edge '112885002#1' not reachable by vehicle 'h01_641'.\n",
      "Warning: The vehicle 'h01_641' has no valid route.\n"
     ]
    },
    {
     "name": "stdout",
     "output_type": "stream",
     "text": [
      "Reading up to time step: 18201.15\r"
     ]
    },
    {
     "name": "stderr",
     "output_type": "stream",
     "text": [
      "Warning: No connection between edge '34962459#0' and edge '386307421#1' found.\n",
      "Warning: Mandatory edge '386307421#1' not reachable by vehicle 'h05_10'.\n",
      "Warning: The vehicle 'h05_10' has no valid route.\n"
     ]
    },
    {
     "name": "stdout",
     "output_type": "stream",
     "text": [
      "Reading up to time step: 21001.15\r"
     ]
    },
    {
     "name": "stderr",
     "output_type": "stream",
     "text": [
      "Warning: No connection between edge '24375964#2' and edge '112885002#1' found.\n",
      "Warning: Mandatory edge '112885002#1' not reachable by vehicle 'h05_641'.\n",
      "Warning: The vehicle 'h05_641' has no valid route.\n"
     ]
    },
    {
     "name": "stdout",
     "output_type": "stream",
     "text": [
      "Reading up to time step: 21801.15\r"
     ]
    },
    {
     "name": "stderr",
     "output_type": "stream",
     "text": [
      "Warning: No connection between edge '34962459#0' and edge '386307421#1' found.\n",
      "Warning: Mandatory edge '386307421#1' not reachable by vehicle 'h06_10'.\n",
      "Warning: The vehicle 'h06_10' has no valid route.\n"
     ]
    },
    {
     "name": "stdout",
     "output_type": "stream",
     "text": [
      "Reading up to time step: 22601.15\r"
     ]
    },
    {
     "name": "stderr",
     "output_type": "stream",
     "text": [
      "Warning: No connection between edge '24375964#2' and edge '112885002#1' found.\n",
      "Warning: Mandatory edge '112885002#1' not reachable by vehicle 'h06_641'.\n",
      "Warning: The vehicle 'h06_641' has no valid route.\n"
     ]
    },
    {
     "name": "stdout",
     "output_type": "stream",
     "text": [
      "Reading up to time step: 23201.15\r"
     ]
    },
    {
     "name": "stderr",
     "output_type": "stream",
     "text": [
      "Warning: No connection between edge '160529671' and edge '378355994#0' found.\n",
      "Warning: Mandatory edge '378355994#0' not reachable by vehicle 'h06_1054'.\n",
      "Warning: The vehicle 'h06_1054' has no valid route.\n"
     ]
    },
    {
     "name": "stdout",
     "output_type": "stream",
     "text": [
      "Reading up to time step: 23601.15\r"
     ]
    },
    {
     "name": "stderr",
     "output_type": "stream",
     "text": [
      "Warning: No connection between edge '790838292#6' and edge '1060073977' found.\n",
      "Warning: Mandatory edge '1060073977' not reachable by vehicle 'h06_1256'.\n",
      "Warning: The vehicle 'h06_1256' has no valid route.\n"
     ]
    },
    {
     "name": "stdout",
     "output_type": "stream",
     "text": [
      "Reading up to time step: 24201.15\r"
     ]
    },
    {
     "name": "stderr",
     "output_type": "stream",
     "text": [
      "Warning: No connection between edge '157046113#0' and edge '378355994#1' found.\n",
      "Warning: Mandatory edge '378355994#1' not reachable by vehicle 'h06_1693'.\n",
      "Warning: The vehicle 'h06_1693' has no valid route.\n"
     ]
    },
    {
     "name": "stdout",
     "output_type": "stream",
     "text": [
      "Reading up to time step: 24401.15\r"
     ]
    },
    {
     "name": "stderr",
     "output_type": "stream",
     "text": [
      "Warning: No connection between edge '1109637682' and edge '62023730' found.\n",
      "Warning: Mandatory edge '62023730' not reachable by vehicle 'h06_1777'.\n",
      "Warning: The vehicle 'h06_1777' has no valid route.\n"
     ]
    },
    {
     "name": "stdout",
     "output_type": "stream",
     "text": [
      "Reading up to time step: 25601.15\r"
     ]
    },
    {
     "name": "stderr",
     "output_type": "stream",
     "text": [
      "Warning: No connection between edge '144252627#2' and edge '899788866' found.\n",
      "Warning: Mandatory edge '899788866' not reachable by vehicle 'h07_9665'.\n",
      "Warning: The vehicle 'h07_9665' has no valid route.\n"
     ]
    },
    {
     "name": "stdout",
     "output_type": "stream",
     "text": [
      "Reading up to time step: 25801.15\r"
     ]
    },
    {
     "name": "stderr",
     "output_type": "stream",
     "text": [
      "Warning: No connection between edge '435705788' and edge '144160557#0' found.\n",
      "Warning: Mandatory edge '144160557#0' not reachable by vehicle 'h07_1253'.\n",
      "Warning: The vehicle 'h07_1253' has no valid route.\n"
     ]
    },
    {
     "name": "stdout",
     "output_type": "stream",
     "text": [
      "Reading up to time step: 26201.15\r"
     ]
    },
    {
     "name": "stderr",
     "output_type": "stream",
     "text": [
      "Warning: No connection between edge '82285305#2' and edge '383076320' found.\n",
      "Warning: Mandatory edge '383076320' not reachable by vehicle 'h07_2554'.\n",
      "Warning: The vehicle 'h07_2554' has no valid route.\n"
     ]
    },
    {
     "name": "stdout",
     "output_type": "stream",
     "text": [
      "Reading up to time step: 26601.15\r"
     ]
    },
    {
     "name": "stderr",
     "output_type": "stream",
     "text": [
      "Warning: No connection between edge '391584634' and edge '378355994#0' found.\n",
      "Warning: Mandatory edge '378355994#0' not reachable by vehicle 'h07_3367'.\n",
      "Warning: The vehicle 'h07_3367' has no valid route.\n"
     ]
    },
    {
     "name": "stdout",
     "output_type": "stream",
     "text": [
      "Reading up to time step: 26801.15\r"
     ]
    },
    {
     "name": "stderr",
     "output_type": "stream",
     "text": [
      "Warning: No connection between edge '688357782#0' and edge '177925776#1' found.\n",
      "Warning: Mandatory edge '177925776#1' not reachable by vehicle 'h07_9949'.\n",
      "Warning: The vehicle 'h07_9949' has no valid route.\n",
      "Warning: No connection between edge '172670903#1' and edge '386307421#0' found.\n",
      "Warning: Mandatory edge '386307421#0' not reachable by vehicle 'h07_3762'.\n",
      "Warning: The vehicle 'h07_3762' has no valid route.\n",
      "Warning: No connection between edge '225091441#1' and edge '62023730' found.\n",
      "Warning: Mandatory edge '62023730' not reachable by vehicle 'h07_3896'.\n",
      "Warning: The vehicle 'h07_3896' has no valid route.\n"
     ]
    },
    {
     "name": "stdout",
     "output_type": "stream",
     "text": [
      "Reading up to time step: 27001.15\r"
     ]
    },
    {
     "name": "stderr",
     "output_type": "stream",
     "text": [
      "Warning: No connection between edge '458289025#2' and edge '62023741' found.\n",
      "Warning: Mandatory edge '62023741' not reachable by vehicle 'h07_4322'.\n",
      "Warning: The vehicle 'h07_4322' has no valid route.\n",
      "Warning: No connection between edge '335356961#1' and edge '144160557#2' found.\n",
      "Warning: Mandatory edge '144160557#2' not reachable by vehicle 'h07_4339'.\n",
      "Warning: The vehicle 'h07_4339' has no valid route.\n",
      "Warning: No connection between edge '41455224#6' and edge '62023728#0' found.\n",
      "Warning: Mandatory edge '62023728#0' not reachable by vehicle 'h07_4469'.\n",
      "Warning: The vehicle 'h07_4469' has no valid route.\n"
     ]
    },
    {
     "name": "stdout",
     "output_type": "stream",
     "text": [
      "Reading up to time step: 27201.15\r"
     ]
    },
    {
     "name": "stderr",
     "output_type": "stream",
     "text": [
      "Warning: No connection between edge '54357724' and edge '378355994#2' found.\n",
      "Warning: Mandatory edge '378355994#2' not reachable by vehicle 'h07_5212'.\n",
      "Warning: The vehicle 'h07_5212' has no valid route.\n",
      "Warning: No connection between edge '688357782#1' and edge '675420936#4' found.\n",
      "Warning: Mandatory edge '675420936#4' not reachable by vehicle 'h07_5357'.\n",
      "Warning: The vehicle 'h07_5357' has no valid route.\n"
     ]
    },
    {
     "name": "stdout",
     "output_type": "stream",
     "text": [
      "Reading up to time step: 27401.15\r"
     ]
    },
    {
     "name": "stderr",
     "output_type": "stream",
     "text": [
      "Warning: No connection between edge '688357782#1' and edge '165280731' found.\n",
      "Warning: Mandatory edge '165280731' not reachable by vehicle 'h07_5611'.\n",
      "Warning: The vehicle 'h07_5611' has no valid route.\n",
      "Warning: No connection between edge '744562808#1' and edge '143962123#0' found.\n",
      "Warning: Mandatory edge '143962123#0' not reachable by vehicle 'h07_5638'.\n",
      "Warning: The vehicle 'h07_5638' has no valid route.\n"
     ]
    },
    {
     "name": "stdout",
     "output_type": "stream",
     "text": [
      "Reading up to time step: 27601.15\r"
     ]
    },
    {
     "name": "stderr",
     "output_type": "stream",
     "text": [
      "Warning: No connection between edge '1180179015' and edge '367820007' found.\n",
      "Warning: Mandatory edge '367820007' not reachable by vehicle 'h07_5953'.\n",
      "Warning: The vehicle 'h07_5953' has no valid route.\n",
      "Warning: No connection between edge '1075990660#0' and edge '378355994#0' found.\n",
      "Warning: Mandatory edge '378355994#0' not reachable by vehicle 'h07_6105'.\n",
      "Warning: The vehicle 'h07_6105' has no valid route.\n",
      "Warning: No connection between edge '142427849#1' and edge '767313244' found.\n",
      "Warning: Mandatory edge '767313244' not reachable by vehicle 'h07_6287'.\n",
      "Warning: The vehicle 'h07_6287' has no valid route.\n",
      "Warning: No connection between edge '623438528#3' and edge '144160557#2' found.\n",
      "Warning: Mandatory edge '144160557#2' not reachable by vehicle 'h07_10255'.\n",
      "Warning: The vehicle 'h07_10255' has no valid route.\n"
     ]
    },
    {
     "name": "stdout",
     "output_type": "stream",
     "text": [
      "Reading up to time step: 28201.15\r"
     ]
    },
    {
     "name": "stderr",
     "output_type": "stream",
     "text": [
      "Warning: No connection between edge '139896281' and edge '143962123#2' found.\n",
      "Warning: Mandatory edge '143962123#2' not reachable by vehicle 'h07_7655'.\n",
      "Warning: The vehicle 'h07_7655' has no valid route.\n"
     ]
    },
    {
     "name": "stdout",
     "output_type": "stream",
     "text": [
      "Reading up to time step: 28601.15\r"
     ]
    },
    {
     "name": "stderr",
     "output_type": "stream",
     "text": [
      "Warning: No connection between edge '925261618' and edge '140499119#6' found.\n",
      "Warning: Mandatory edge '140499119#6' not reachable by vehicle 'h07_8908'.\n",
      "Warning: The vehicle 'h07_8908' has no valid route.\n"
     ]
    },
    {
     "name": "stdout",
     "output_type": "stream",
     "text": [
      "Reading up to time step: 29001.15\r"
     ]
    },
    {
     "name": "stderr",
     "output_type": "stream",
     "text": [
      "Warning: No connection between edge '157010361#0' and edge '143962123#0' found.\n",
      "Warning: Mandatory edge '143962123#0' not reachable by vehicle 'h08_770'.\n",
      "Warning: The vehicle 'h08_770' has no valid route.\n",
      "Warning: No connection between edge '32566250#14' and edge '62023741' found.\n",
      "Warning: Mandatory edge '62023741' not reachable by vehicle 'h08_911'.\n",
      "Warning: The vehicle 'h08_911' has no valid route.\n",
      "Warning: No connection between edge '225014573#0' and edge '62023730' found.\n",
      "Warning: Mandatory edge '62023730' not reachable by vehicle 'h08_912'.\n",
      "Warning: The vehicle 'h08_912' has no valid route.\n",
      "Warning: No connection between edge '30281515#0' and edge '144160557#0' found.\n",
      "Warning: Mandatory edge '144160557#0' not reachable by vehicle 'h08_929'.\n",
      "Warning: The vehicle 'h08_929' has no valid route.\n",
      "Warning: No connection between edge '252582311#0' and edge '62023728#1' found.\n",
      "Warning: Mandatory edge '62023728#1' not reachable by vehicle 'h08_1104'.\n",
      "Warning: The vehicle 'h08_1104' has no valid route.\n",
      "Warning: No connection between edge '397805346#28' and edge '378355994#0' found.\n",
      "Warning: Mandatory edge '378355994#0' not reachable by vehicle 'h08_1239'.\n",
      "Warning: The vehicle 'h08_1239' has no valid route.\n",
      "Warning: No connection between edge '293861219' and edge '767313244' found.\n",
      "Warning: Mandatory edge '767313244' not reachable by vehicle 'h08_1643'.\n",
      "Warning: The vehicle 'h08_1643' has no valid route.\n"
     ]
    },
    {
     "name": "stdout",
     "output_type": "stream",
     "text": [
      "Reading up to time step: 29201.15\r"
     ]
    },
    {
     "name": "stderr",
     "output_type": "stream",
     "text": [
      "Warning: No connection between edge '925261618' and edge '218269561' found.\n",
      "Warning: Mandatory edge '218269561' not reachable by vehicle 'h08_26887'.\n",
      "Warning: The vehicle 'h08_26887' has no valid route.\n",
      "Warning: No connection between edge '1115212222' and edge '510193683' found.\n",
      "Warning: Mandatory edge '510193683' not reachable by vehicle 'h08_2215'.\n",
      "Warning: The vehicle 'h08_2215' has no valid route.\n",
      "Warning: No connection between edge '793930821' and edge '675420936#6' found.\n",
      "Warning: Mandatory edge '675420936#6' not reachable by vehicle 'h08_2702'.\n",
      "Warning: The vehicle 'h08_2702' has no valid route.\n",
      "Warning: No connection between edge '23698008#3' and edge '143962120' found.\n",
      "Warning: Mandatory edge '143962120' not reachable by vehicle 'h08_2729'.\n",
      "Warning: The vehicle 'h08_2729' has no valid route.\n",
      "Warning: No connection between edge '50848255#1' and edge '378355994#2' found.\n",
      "Warning: Mandatory edge '378355994#2' not reachable by vehicle 'h08_2991'.\n",
      "Warning: The vehicle 'h08_2991' has no valid route.\n"
     ]
    },
    {
     "name": "stdout",
     "output_type": "stream",
     "text": [
      "Reading up to time step: 29401.15\r"
     ]
    },
    {
     "name": "stderr",
     "output_type": "stream",
     "text": [
      "Warning: No connection between edge '180015219#1' and edge '510193680' found.\n",
      "Warning: Mandatory edge '510193680' not reachable by vehicle 'h08_3135'.\n",
      "Warning: The vehicle 'h08_3135' has no valid route.\n",
      "Warning: No connection between edge '23698008#6' and edge '510193683' found.\n",
      "Warning: Mandatory edge '510193683' not reachable by vehicle 'h08_3753'.\n",
      "Warning: The vehicle 'h08_3753' has no valid route.\n",
      "Warning: No connection between edge '625557813' and edge '378355994#0' found.\n",
      "Warning: Mandatory edge '378355994#0' not reachable by vehicle 'h08_3930'.\n",
      "Warning: The vehicle 'h08_3930' has no valid route.\n",
      "Warning: No connection between edge '82172838' and edge '367820007' found.\n",
      "Warning: Mandatory edge '367820007' not reachable by vehicle 'h08_4113'.\n",
      "Warning: The vehicle 'h08_4113' has no valid route.\n",
      "Warning: No connection between edge '6313524#0' and edge '144160557#2' found.\n",
      "Warning: Mandatory edge '144160557#2' not reachable by vehicle 'h08_4340'.\n",
      "Warning: The vehicle 'h08_4340' has no valid route.\n"
     ]
    },
    {
     "name": "stdout",
     "output_type": "stream",
     "text": [
      "Reading up to time step: 29601.15\r"
     ]
    },
    {
     "name": "stderr",
     "output_type": "stream",
     "text": [
      "Warning: No connection between edge '158426206#1' and edge '367820007' found.\n",
      "Warning: Mandatory edge '367820007' not reachable by vehicle 'h08_4995'.\n",
      "Warning: The vehicle 'h08_4995' has no valid route.\n",
      "Warning: No connection between edge '1344794837#1' and edge '62023740' found.\n",
      "Warning: Mandatory edge '62023740' not reachable by vehicle 'h08_5636'.\n",
      "Warning: The vehicle 'h08_5636' has no valid route.\n",
      "Warning: No connection between edge '112885026' and edge '62023728#0' found.\n",
      "Warning: Mandatory edge '62023728#0' not reachable by vehicle 'h08_5668'.\n",
      "Warning: The vehicle 'h08_5668' has no valid route.\n",
      "Warning: No connection between edge '120676350#2' and edge '386307421#1' found.\n",
      "Warning: Mandatory edge '386307421#1' not reachable by vehicle 'h08_5855'.\n",
      "Warning: The vehicle 'h08_5855' has no valid route.\n",
      "Warning: No connection between edge '925261618' and edge '461933839' found.\n",
      "Warning: Mandatory edge '461933839' not reachable by vehicle 'h08_5914'.\n",
      "Warning: The vehicle 'h08_5914' has no valid route.\n",
      "Warning: No connection between edge '71896679' and edge '1060073977' found.\n",
      "Warning: Mandatory edge '1060073977' not reachable by vehicle 'h08_5933'.\n",
      "Warning: The vehicle 'h08_5933' has no valid route.\n"
     ]
    },
    {
     "name": "stdout",
     "output_type": "stream",
     "text": [
      "Reading up to time step: 29801.15\r"
     ]
    },
    {
     "name": "stderr",
     "output_type": "stream",
     "text": [
      "Warning: No connection between edge '397961198' and edge '510193680' found.\n",
      "Warning: Mandatory edge '510193680' not reachable by vehicle 'h08_28839'.\n",
      "Warning: The vehicle 'h08_28839' has no valid route.\n",
      "Warning: No connection between edge '360819173' and edge '112885002#0' found.\n",
      "Warning: Mandatory edge '112885002#0' not reachable by vehicle 'h08_29374'.\n",
      "Warning: The vehicle 'h08_29374' has no valid route.\n",
      "Warning: No connection between edge '6313524#3' and edge '62023741' found.\n",
      "Warning: Mandatory edge '62023741' not reachable by vehicle 'h08_6773'.\n",
      "Warning: The vehicle 'h08_6773' has no valid route.\n",
      "Warning: No connection between edge '42809488#3' and edge '62023730' found.\n",
      "Warning: Mandatory edge '62023730' not reachable by vehicle 'h08_6903'.\n",
      "Warning: The vehicle 'h08_6903' has no valid route.\n",
      "Warning: No connection between edge '127010150#0' and edge '510193680' found.\n",
      "Warning: Mandatory edge '510193680' not reachable by vehicle 'h08_6940'.\n",
      "Warning: The vehicle 'h08_6940' has no valid route.\n",
      "Warning: No connection between edge '112704397#2' and edge '383076320' found.\n",
      "Warning: Mandatory edge '383076320' not reachable by vehicle 'h08_7722'.\n",
      "Warning: The vehicle 'h08_7722' has no valid route.\n"
     ]
    },
    {
     "name": "stdout",
     "output_type": "stream",
     "text": [
      "Reading up to time step: 30001.15\r"
     ]
    },
    {
     "name": "stderr",
     "output_type": "stream",
     "text": [
      "Warning: No connection between edge '114941448' and edge '62023730' found.\n",
      "Warning: Mandatory edge '62023730' not reachable by vehicle 'h08_8244'.\n",
      "Warning: The vehicle 'h08_8244' has no valid route.\n",
      "Warning: No connection between edge '367051434' and edge '1060073977' found.\n",
      "Warning: Mandatory edge '1060073977' not reachable by vehicle 'h08_8277'.\n",
      "Warning: The vehicle 'h08_8277' has no valid route.\n",
      "Warning: No connection between edge '71440146' and edge '161432888' found.\n",
      "Warning: Mandatory edge '161432888' not reachable by vehicle 'h08_8381'.\n",
      "Warning: The vehicle 'h08_8381' has no valid route.\n",
      "Warning: No connection between edge '34961220#2' and edge '378355994#2' found.\n",
      "Warning: Mandatory edge '378355994#2' not reachable by vehicle 'h08_8435'.\n",
      "Warning: The vehicle 'h08_8435' has no valid route.\n"
     ]
    },
    {
     "name": "stdout",
     "output_type": "stream",
     "text": [
      "Reading up to time step: 30201.15\r"
     ]
    },
    {
     "name": "stderr",
     "output_type": "stream",
     "text": [
      "Warning: No connection between edge '356962706#7' and edge '281308645' found.\n",
      "Warning: Mandatory edge '281308645' not reachable by vehicle 'h08_8968'.\n",
      "Warning: The vehicle 'h08_8968' has no valid route.\n",
      "Warning: No connection between edge '632110819#0' and edge '510193683' found.\n",
      "Warning: Mandatory edge '510193683' not reachable by vehicle 'h08_9365'.\n",
      "Warning: The vehicle 'h08_9365' has no valid route.\n",
      "Warning: No connection between edge '528676161#0' and edge '143962123#0' found.\n",
      "Warning: Mandatory edge '143962123#0' not reachable by vehicle 'h08_9374'.\n",
      "Warning: The vehicle 'h08_9374' has no valid route.\n",
      "Warning: No connection between edge '360509061' and edge '62023740' found.\n",
      "Warning: Mandatory edge '62023740' not reachable by vehicle 'h08_29433'.\n",
      "Warning: The vehicle 'h08_29433' has no valid route.\n",
      "Warning: No connection between edge '40941616' and edge '62023728#1' found.\n",
      "Warning: Mandatory edge '62023728#1' not reachable by vehicle 'h08_10243'.\n",
      "Warning: The vehicle 'h08_10243' has no valid route.\n",
      "Warning: No connection between edge '664422033#0' and edge '1060073977' found.\n",
      "Warning: Mandatory edge '1060073977' not reachable by vehicle 'h08_10264'.\n",
      "Warning: The vehicle 'h08_10264' has no valid route.\n"
     ]
    },
    {
     "name": "stdout",
     "output_type": "stream",
     "text": [
      "Reading up to time step: 30401.15\r"
     ]
    },
    {
     "name": "stderr",
     "output_type": "stream",
     "text": [
      "Warning: No connection between edge '374058176#0' and edge '386307421#1' found.\n",
      "Warning: Mandatory edge '386307421#1' not reachable by vehicle 'h08_11084'.\n",
      "Warning: The vehicle 'h08_11084' has no valid route.\n",
      "Warning: No connection between edge '49039554' and edge '144160557#1' found.\n",
      "Warning: Mandatory edge '144160557#1' not reachable by vehicle 'h08_11159'.\n",
      "Warning: The vehicle 'h08_11159' has no valid route.\n",
      "Warning: No connection between edge '434130201#2' and edge '367820007' found.\n",
      "Warning: Mandatory edge '367820007' not reachable by vehicle 'h08_11163'.\n",
      "Warning: The vehicle 'h08_11163' has no valid route.\n",
      "Warning: No connection between edge '754837677' and edge '281308645' found.\n",
      "Warning: Mandatory edge '281308645' not reachable by vehicle 'h08_11585'.\n",
      "Warning: The vehicle 'h08_11585' has no valid route.\n",
      "Warning: No connection between edge '88798445' and edge '767313244' found.\n",
      "Warning: Mandatory edge '767313244' not reachable by vehicle 'h08_11613'.\n",
      "Warning: The vehicle 'h08_11613' has no valid route.\n",
      "Warning: No connection between edge '354451003' and edge '510193683' found.\n",
      "Warning: Mandatory edge '510193683' not reachable by vehicle 'h08_12075'.\n",
      "Warning: The vehicle 'h08_12075' has no valid route.\n"
     ]
    },
    {
     "name": "stdout",
     "output_type": "stream",
     "text": [
      "Reading up to time step: 30601.15\r"
     ]
    },
    {
     "name": "stderr",
     "output_type": "stream",
     "text": [
      "Warning: No connection between edge '160967888#1' and edge '144160557#0' found.\n",
      "Warning: Mandatory edge '144160557#0' not reachable by vehicle 'h08_12107'.\n",
      "Warning: The vehicle 'h08_12107' has no valid route.\n",
      "Warning: No connection between edge '34962456#2' and edge '143962123#2' found.\n",
      "Warning: Mandatory edge '143962123#2' not reachable by vehicle 'h08_12490'.\n",
      "Warning: The vehicle 'h08_12490' has no valid route.\n",
      "Warning: No connection between edge '53838589#1' and edge '62023728#1' found.\n",
      "Warning: Mandatory edge '62023728#1' not reachable by vehicle 'h08_12834'.\n",
      "Warning: The vehicle 'h08_12834' has no valid route.\n",
      "Warning: No connection between edge '96719558#1' and edge '383076320' found.\n",
      "Warning: Mandatory edge '383076320' not reachable by vehicle 'h08_13460'.\n",
      "Warning: The vehicle 'h08_13460' has no valid route.\n"
     ]
    },
    {
     "name": "stdout",
     "output_type": "stream",
     "text": [
      "Reading up to time step: 30801.15\r"
     ]
    },
    {
     "name": "stderr",
     "output_type": "stream",
     "text": [
      "Warning: No connection between edge '105258166' and edge '53331148#1' found.\n",
      "Warning: Mandatory edge '53331148#1' not reachable by vehicle 'h08_29846'.\n",
      "Warning: The vehicle 'h08_29846' has no valid route.\n",
      "Warning: No connection between edge '793930821' and edge '1043702733' found.\n",
      "Warning: Mandatory edge '1043702733' not reachable by vehicle 'h08_28291'.\n",
      "Warning: The vehicle 'h08_28291' has no valid route.\n"
     ]
    },
    {
     "name": "stdout",
     "output_type": "stream",
     "text": [
      "Reading up to time step: 31001.15\r"
     ]
    },
    {
     "name": "stderr",
     "output_type": "stream",
     "text": [
      "Warning: No connection between edge '88122137' and edge '112885002#1' found.\n",
      "Warning: Mandatory edge '112885002#1' not reachable by vehicle 'h08_14935'.\n",
      "Warning: The vehicle 'h08_14935' has no valid route.\n",
      "Warning: No connection between edge '115868207#0' and edge '62023741' found.\n",
      "Warning: Mandatory edge '62023741' not reachable by vehicle 'h08_15268'.\n",
      "Warning: The vehicle 'h08_15268' has no valid route.\n"
     ]
    },
    {
     "name": "stdout",
     "output_type": "stream",
     "text": [
      "Reading up to time step: 31201.15\r"
     ]
    },
    {
     "name": "stderr",
     "output_type": "stream",
     "text": [
      "Warning: No connection between edge '40939118' and edge '378355994#0' found.\n",
      "Warning: Mandatory edge '378355994#0' not reachable by vehicle 'h08_16500'.\n",
      "Warning: The vehicle 'h08_16500' has no valid route.\n",
      "Warning: No connection between edge '688357782#0' and edge '848923748#1' found.\n",
      "Warning: Mandatory edge '848923748#1' not reachable by vehicle 'h08_16878'.\n",
      "Warning: The vehicle 'h08_16878' has no valid route.\n",
      "Warning: No connection between edge '1358348640' and edge '383076320' found.\n",
      "Warning: Mandatory edge '383076320' not reachable by vehicle 'h08_30248'.\n",
      "Warning: The vehicle 'h08_30248' has no valid route.\n",
      "Warning: No connection between edge '377991081#1' and edge '281308645' found.\n",
      "Warning: Mandatory edge '281308645' not reachable by vehicle 'h08_17535'.\n",
      "Warning: The vehicle 'h08_17535' has no valid route.\n",
      "Warning: No connection between edge '24828628#4' and edge '144160557#2' found.\n",
      "Warning: Mandatory edge '144160557#2' not reachable by vehicle 'h08_17678'.\n",
      "Warning: The vehicle 'h08_17678' has no valid route.\n",
      "Warning: No connection between edge '142418752#0' and edge '62023728#0' found.\n",
      "Warning: Mandatory edge '62023728#0' not reachable by vehicle 'h08_17904'.\n",
      "Warning: The vehicle 'h08_17904' has no valid route.\n",
      "Warning: No connection between edge '34427138#1' and edge '281308645' found.\n",
      "Warning: Mandatory edge '281308645' not reachable by vehicle 'h08_18701'.\n",
      "Warning: The vehicle 'h08_18701' has no valid route.\n"
     ]
    },
    {
     "name": "stdout",
     "output_type": "stream",
     "text": [
      "Reading up to time step: 31401.15\r"
     ]
    },
    {
     "name": "stderr",
     "output_type": "stream",
     "text": [
      "Warning: No connection between edge '591413520' and edge '143962123#0' found.\n",
      "Warning: Mandatory edge '143962123#0' not reachable by vehicle 'h08_29870'.\n",
      "Warning: The vehicle 'h08_29870' has no valid route.\n",
      "Warning: No connection between edge '506802817' and edge '510193680' found.\n",
      "Warning: Mandatory edge '510193680' not reachable by vehicle 'h08_18999'.\n",
      "Warning: The vehicle 'h08_18999' has no valid route.\n",
      "Warning: No connection between edge '165194291#1' and edge '143962123#1' found.\n",
      "Warning: Mandatory edge '143962123#1' not reachable by vehicle 'h08_19228'.\n",
      "Warning: The vehicle 'h08_19228' has no valid route.\n",
      "Warning: No connection between edge '118442416' and edge '143962123#1' found.\n",
      "Warning: Mandatory edge '143962123#1' not reachable by vehicle 'h08_19279'.\n",
      "Warning: The vehicle 'h08_19279' has no valid route.\n",
      "Warning: No connection between edge '71572309' and edge '383076320' found.\n",
      "Warning: Mandatory edge '383076320' not reachable by vehicle 'h08_19437'.\n",
      "Warning: The vehicle 'h08_19437' has no valid route.\n"
     ]
    },
    {
     "name": "stdout",
     "output_type": "stream",
     "text": [
      "Reading up to time step: 31601.15\r"
     ]
    },
    {
     "name": "stderr",
     "output_type": "stream",
     "text": [
      "Warning: No connection between edge '130541447#0' and edge '143962123#2' found.\n",
      "Warning: Mandatory edge '143962123#2' not reachable by vehicle 'h08_19717'.\n",
      "Warning: The vehicle 'h08_19717' has no valid route.\n",
      "Warning: No connection between edge '925261618' and edge '1041389892#4' found.\n",
      "Warning: Mandatory edge '1041389892#4' not reachable by vehicle 'h08_27252'.\n",
      "Warning: The vehicle 'h08_27252' has no valid route.\n",
      "Warning: No connection between edge '268930518#2' and edge '386307421#1' found.\n",
      "Warning: Mandatory edge '386307421#1' not reachable by vehicle 'h08_20372'.\n",
      "Warning: The vehicle 'h08_20372' has no valid route.\n",
      "Warning: No connection between edge '124060635' and edge '365677373#1' found.\n",
      "Warning: Mandatory edge '365677373#1' not reachable by vehicle 'h08_21379'.\n",
      "Warning: The vehicle 'h08_21379' has no valid route.\n"
     ]
    },
    {
     "name": "stdout",
     "output_type": "stream",
     "text": [
      "Reading up to time step: 31801.15\r"
     ]
    },
    {
     "name": "stderr",
     "output_type": "stream",
     "text": [
      "Warning: No connection between edge '688357782#0' and edge '158425357#1' found.\n",
      "Warning: Mandatory edge '158425357#1' not reachable by vehicle 'h08_21445'.\n",
      "Warning: The vehicle 'h08_21445' has no valid route.\n",
      "Warning: No connection between edge '287698505#1' and edge '144160557#0' found.\n",
      "Warning: Mandatory edge '144160557#0' not reachable by vehicle 'h08_30331'.\n",
      "Warning: The vehicle 'h08_30331' has no valid route.\n",
      "Warning: No connection between edge '71896681#0' and edge '62023730' found.\n",
      "Warning: Mandatory edge '62023730' not reachable by vehicle 'h08_21814'.\n",
      "Warning: The vehicle 'h08_21814' has no valid route.\n",
      "Warning: No connection between edge '456812767' and edge '510193680' found.\n",
      "Warning: Mandatory edge '510193680' not reachable by vehicle 'h08_22500'.\n",
      "Warning: The vehicle 'h08_22500' has no valid route.\n"
     ]
    },
    {
     "name": "stdout",
     "output_type": "stream",
     "text": [
      "Reading up to time step: 32001.15\r"
     ]
    },
    {
     "name": "stderr",
     "output_type": "stream",
     "text": [
      "Warning: No connection between edge '425187630' and edge '42809486#0' found.\n",
      "Warning: Mandatory edge '42809486#0' not reachable by vehicle 'h08_30347'.\n",
      "Warning: The vehicle 'h08_30347' has no valid route.\n",
      "Warning: No connection between edge '688357782#1' and edge '209561709' found.\n",
      "Warning: Mandatory edge '209561709' not reachable by vehicle 'h08_22779'.\n",
      "Warning: The vehicle 'h08_22779' has no valid route.\n",
      "Warning: No connection between edge '124060635' and edge '676625640#1' found.\n",
      "Warning: Mandatory edge '676625640#1' not reachable by vehicle 'h08_23104'.\n",
      "Warning: The vehicle 'h08_23104' has no valid route.\n"
     ]
    },
    {
     "name": "stdout",
     "output_type": "stream",
     "text": [
      "Reading up to time step: 32201.15\r"
     ]
    },
    {
     "name": "stderr",
     "output_type": "stream",
     "text": [
      "Warning: No connection between edge '53209929' and edge '510193680' found.\n",
      "Warning: Mandatory edge '510193680' not reachable by vehicle 'h08_23951'.\n",
      "Warning: The vehicle 'h08_23951' has no valid route.\n",
      "Warning: No connection between edge '379971907' and edge '188649571' found.\n",
      "Warning: Mandatory edge '188649571' not reachable by vehicle 'h08_25306'.\n",
      "Warning: The vehicle 'h08_25306' has no valid route.\n"
     ]
    },
    {
     "name": "stdout",
     "output_type": "stream",
     "text": [
      "Reading up to time step: 32401.15\r"
     ]
    },
    {
     "name": "stderr",
     "output_type": "stream",
     "text": [
      "Warning: No connection between edge '688357782#0' and edge '82286206#0' found.\n",
      "Warning: Mandatory edge '82286206#0' not reachable by vehicle 'h08_25502'.\n",
      "Warning: The vehicle 'h08_25502' has no valid route.\n",
      "Warning: No connection between edge '186905172#0' and edge '386307421#0' found.\n",
      "Warning: Mandatory edge '386307421#0' not reachable by vehicle 'h08_26084'.\n",
      "Warning: The vehicle 'h08_26084' has no valid route.\n"
     ]
    },
    {
     "name": "stdout",
     "output_type": "stream",
     "text": [
      "Reading up to time step: 32601.15\r"
     ]
    },
    {
     "name": "stderr",
     "output_type": "stream",
     "text": [
      "Warning: No connection between edge '139762730#2' and edge '1060073977' found.\n",
      "Warning: Mandatory edge '1060073977' not reachable by vehicle 'h09_187'.\n",
      "Warning: The vehicle 'h09_187' has no valid route.\n"
     ]
    },
    {
     "name": "stdout",
     "output_type": "stream",
     "text": [
      "Reading up to time step: 32801.15\r"
     ]
    },
    {
     "name": "stderr",
     "output_type": "stream",
     "text": [
      "Warning: No connection between edge '111774907#2' and edge '144160557#2' found.\n",
      "Warning: Mandatory edge '144160557#2' not reachable by vehicle 'h09_1480'.\n",
      "Warning: The vehicle 'h09_1480' has no valid route.\n",
      "Warning: No connection between edge '61976432' and edge '144160557#0' found.\n",
      "Warning: Mandatory edge '144160557#0' not reachable by vehicle 'h09_2298'.\n",
      "Warning: The vehicle 'h09_2298' has no valid route.\n"
     ]
    },
    {
     "name": "stdout",
     "output_type": "stream",
     "text": [
      "Reading up to time step: 33001.15\r"
     ]
    },
    {
     "name": "stderr",
     "output_type": "stream",
     "text": [
      "Warning: No connection between edge '34962441#0' and edge '386307421#1' found.\n",
      "Warning: Mandatory edge '386307421#1' not reachable by vehicle 'h09_2709'.\n",
      "Warning: The vehicle 'h09_2709' has no valid route.\n"
     ]
    },
    {
     "name": "stdout",
     "output_type": "stream",
     "text": [
      "Reading up to time step: 33201.15\r"
     ]
    },
    {
     "name": "stderr",
     "output_type": "stream",
     "text": [
      "Warning: No connection between edge '53792071' and edge '367820007' found.\n",
      "Warning: Mandatory edge '367820007' not reachable by vehicle 'h09_3029'.\n",
      "Warning: The vehicle 'h09_3029' has no valid route.\n",
      "Warning: No connection between edge '53256144' and edge '143962120' found.\n",
      "Warning: Mandatory edge '143962120' not reachable by vehicle 'h09_3224'.\n",
      "Warning: The vehicle 'h09_3224' has no valid route.\n",
      "Warning: No connection between edge '42867296#0' and edge '143962123#1' found.\n",
      "Warning: Mandatory edge '143962123#1' not reachable by vehicle 'h09_3324'.\n",
      "Warning: The vehicle 'h09_3324' has no valid route.\n",
      "Warning: No connection between edge '82286210#1' and edge '143962123#0' found.\n",
      "Warning: Mandatory edge '143962123#0' not reachable by vehicle 'h09_3444'.\n",
      "Warning: The vehicle 'h09_3444' has no valid route.\n",
      "Warning: No connection between edge '74359734#3' and edge '62023728#0' found.\n",
      "Warning: Mandatory edge '62023728#0' not reachable by vehicle 'h09_3610'.\n",
      "Warning: The vehicle 'h09_3610' has no valid route.\n",
      "Warning: No connection between edge '626118726#3' and edge '144160557#0' found.\n",
      "Warning: Mandatory edge '144160557#0' not reachable by vehicle 'h09_3958'.\n",
      "Warning: The vehicle 'h09_3958' has no valid route.\n"
     ]
    },
    {
     "name": "stdout",
     "output_type": "stream",
     "text": [
      "Reading up to time step: 33401.15\r"
     ]
    },
    {
     "name": "stderr",
     "output_type": "stream",
     "text": [
      "Warning: No connection between edge '159460072#1' and edge '144160557#0' found.\n",
      "Warning: Mandatory edge '144160557#0' not reachable by vehicle 'h09_4155'.\n",
      "Warning: The vehicle 'h09_4155' has no valid route.\n",
      "Warning: No connection between edge '30802614#2' and edge '143962123#2' found.\n",
      "Warning: Mandatory edge '143962123#2' not reachable by vehicle 'h09_4466'.\n",
      "Warning: The vehicle 'h09_4466' has no valid route.\n",
      "Warning: No connection between edge '632110823#1' and edge '386307421#0' found.\n",
      "Warning: Mandatory edge '386307421#0' not reachable by vehicle 'h09_4643'.\n",
      "Warning: The vehicle 'h09_4643' has no valid route.\n",
      "Warning: No connection between edge '50345163#2' and edge '378355994#0' found.\n",
      "Warning: Mandatory edge '378355994#0' not reachable by vehicle 'h09_4741'.\n",
      "Warning: The vehicle 'h09_4741' has no valid route.\n",
      "Warning: No connection between edge '120877804#4' and edge '378355994#1' found.\n",
      "Warning: Mandatory edge '378355994#1' not reachable by vehicle 'h09_5002'.\n",
      "Warning: The vehicle 'h09_5002' has no valid route.\n"
     ]
    },
    {
     "name": "stdout",
     "output_type": "stream",
     "text": [
      "Reading up to time step: 33601.15\r"
     ]
    },
    {
     "name": "stderr",
     "output_type": "stream",
     "text": [
      "Warning: No connection between edge '1087950332' and edge '367820007' found.\n",
      "Warning: Mandatory edge '367820007' not reachable by vehicle 'h09_5157'.\n",
      "Warning: The vehicle 'h09_5157' has no valid route.\n",
      "Warning: No connection between edge '675851212#2' and edge '378355994#2' found.\n",
      "Warning: Mandatory edge '378355994#2' not reachable by vehicle 'h09_5501'.\n",
      "Warning: The vehicle 'h09_5501' has no valid route.\n",
      "Warning: No connection between edge '169754977' and edge '62023728#0' found.\n",
      "Warning: Mandatory edge '62023728#0' not reachable by vehicle 'h09_5572'.\n",
      "Warning: The vehicle 'h09_5572' has no valid route.\n",
      "Warning: No connection between edge '122670089#3' and edge '144160557#0' found.\n",
      "Warning: Mandatory edge '144160557#0' not reachable by vehicle 'h09_5607'.\n",
      "Warning: The vehicle 'h09_5607' has no valid route.\n",
      "Warning: No connection between edge '890168657' and edge '378355994#0' found.\n",
      "Warning: Mandatory edge '378355994#0' not reachable by vehicle 'h09_5652'.\n",
      "Warning: The vehicle 'h09_5652' has no valid route.\n"
     ]
    },
    {
     "name": "stdout",
     "output_type": "stream",
     "text": [
      "Reading up to time step: 33801.15\r"
     ]
    },
    {
     "name": "stderr",
     "output_type": "stream",
     "text": [
      "Warning: No connection between edge '1358385011' and edge '767313243' found.\n",
      "Warning: Mandatory edge '767313243' not reachable by vehicle 'h09_5964'.\n",
      "Warning: The vehicle 'h09_5964' has no valid route.\n",
      "Warning: No connection between edge '159460081#1' and edge '143962123#2' found.\n",
      "Warning: Mandatory edge '143962123#2' not reachable by vehicle 'h09_6163'.\n",
      "Warning: The vehicle 'h09_6163' has no valid route.\n",
      "Warning: No connection between edge '53333868' and edge '281308645' found.\n",
      "Warning: Mandatory edge '281308645' not reachable by vehicle 'h09_6565'.\n",
      "Warning: The vehicle 'h09_6565' has no valid route.\n",
      "Warning: No connection between edge '66833243#1' and edge '143962120' found.\n",
      "Warning: Mandatory edge '143962120' not reachable by vehicle 'h09_7080'.\n",
      "Warning: The vehicle 'h09_7080' has no valid route.\n"
     ]
    },
    {
     "name": "stdout",
     "output_type": "stream",
     "text": [
      "Reading up to time step: 34001.15\r"
     ]
    },
    {
     "name": "stderr",
     "output_type": "stream",
     "text": [
      "Warning: No connection between edge '124060635' and edge '82113748' found.\n",
      "Warning: Mandatory edge '82113748' not reachable by vehicle 'h09_7327'.\n",
      "Warning: The vehicle 'h09_7327' has no valid route.\n"
     ]
    },
    {
     "name": "stdout",
     "output_type": "stream",
     "text": [
      "Reading up to time step: 34201.15\r"
     ]
    },
    {
     "name": "stderr",
     "output_type": "stream",
     "text": [
      "Warning: No connection between edge '191697008' and edge '767313244' found.\n",
      "Warning: Mandatory edge '767313244' not reachable by vehicle 'h09_8097'.\n",
      "Warning: The vehicle 'h09_8097' has no valid route.\n",
      "Warning: No connection between edge '375731283' and edge '62023730' found.\n",
      "Warning: Mandatory edge '62023730' not reachable by vehicle 'h09_8459'.\n",
      "Warning: The vehicle 'h09_8459' has no valid route.\n",
      "Warning: No connection between edge '144028738#0' and edge '386307421#1' found.\n",
      "Warning: Mandatory edge '386307421#1' not reachable by vehicle 'h09_8946'.\n",
      "Warning: The vehicle 'h09_8946' has no valid route.\n"
     ]
    },
    {
     "name": "stdout",
     "output_type": "stream",
     "text": [
      "Reading up to time step: 34401.15\r"
     ]
    },
    {
     "name": "stderr",
     "output_type": "stream",
     "text": [
      "Warning: No connection between edge '85418775' and edge '201880302#0' found.\n",
      "Warning: Mandatory edge '201880302#0' not reachable by vehicle 'h09_19037'.\n",
      "Warning: The vehicle 'h09_19037' has no valid route.\n",
      "Warning: No connection between edge '88122141' and edge '767313244' found.\n",
      "Warning: Mandatory edge '767313244' not reachable by vehicle 'h09_9768'.\n",
      "Warning: The vehicle 'h09_9768' has no valid route.\n",
      "Warning: No connection between edge '230277945#1' and edge '383076320' found.\n",
      "Warning: Mandatory edge '383076320' not reachable by vehicle 'h09_10930'.\n",
      "Warning: The vehicle 'h09_10930' has no valid route.\n"
     ]
    },
    {
     "name": "stdout",
     "output_type": "stream",
     "text": [
      "Reading up to time step: 34801.15\r"
     ]
    },
    {
     "name": "stderr",
     "output_type": "stream",
     "text": [
      "Warning: No connection between edge '1051902472#0' and edge '144160557#0' found.\n",
      "Warning: Mandatory edge '144160557#0' not reachable by vehicle 'h09_11186'.\n",
      "Warning: The vehicle 'h09_11186' has no valid route.\n",
      "Warning: No connection between edge '71896850' and edge '378355994#2' found.\n",
      "Warning: Mandatory edge '378355994#2' not reachable by vehicle 'h09_11280'.\n",
      "Warning: The vehicle 'h09_11280' has no valid route.\n",
      "Warning: No connection between edge '54357700' and edge '112885002#1' found.\n",
      "Warning: Mandatory edge '112885002#1' not reachable by vehicle 'h09_11380'.\n",
      "Warning: The vehicle 'h09_11380' has no valid route.\n",
      "Warning: No connection between edge '154888015#1' and edge '62023728#1' found.\n",
      "Warning: Mandatory edge '62023728#1' not reachable by vehicle 'h09_11757'.\n",
      "Warning: The vehicle 'h09_11757' has no valid route.\n"
     ]
    },
    {
     "name": "stdout",
     "output_type": "stream",
     "text": [
      "Reading up to time step: 35001.15\r"
     ]
    },
    {
     "name": "stderr",
     "output_type": "stream",
     "text": [
      "Warning: No connection between edge '27773558' and edge '510193680' found.\n",
      "Warning: Mandatory edge '510193680' not reachable by vehicle 'h09_12262'.\n",
      "Warning: The vehicle 'h09_12262' has no valid route.\n",
      "Warning: No connection between edge '310226654' and edge '386307421#0' found.\n",
      "Warning: Mandatory edge '386307421#0' not reachable by vehicle 'h09_12265'.\n",
      "Warning: The vehicle 'h09_12265' has no valid route.\n",
      "Warning: No connection between edge '71440132' and edge '62023728#1' found.\n",
      "Warning: Mandatory edge '62023728#1' not reachable by vehicle 'h09_12477'.\n",
      "Warning: The vehicle 'h09_12477' has no valid route.\n"
     ]
    },
    {
     "name": "stdout",
     "output_type": "stream",
     "text": [
      "Reading up to time step: 35201.15\r"
     ]
    },
    {
     "name": "stderr",
     "output_type": "stream",
     "text": [
      "Warning: No connection between edge '326399422#1' and edge '62023728#0' found.\n",
      "Warning: Mandatory edge '62023728#0' not reachable by vehicle 'h09_13104'.\n",
      "Warning: The vehicle 'h09_13104' has no valid route.\n",
      "Warning: No connection between edge '375231328' and edge '281308645' found.\n",
      "Warning: Mandatory edge '281308645' not reachable by vehicle 'h09_13528'.\n",
      "Warning: The vehicle 'h09_13528' has no valid route.\n"
     ]
    },
    {
     "name": "stdout",
     "output_type": "stream",
     "text": [
      "Reading up to time step: 35401.15\r"
     ]
    },
    {
     "name": "stderr",
     "output_type": "stream",
     "text": [
      "Warning: No connection between edge '53331923#0' and edge '386307421#0' found.\n",
      "Warning: Mandatory edge '386307421#0' not reachable by vehicle 'h09_14033'.\n",
      "Warning: The vehicle 'h09_14033' has no valid route.\n",
      "Warning: No connection between edge '142306353' and edge '767313244' found.\n",
      "Warning: Mandatory edge '767313244' not reachable by vehicle 'h09_14296'.\n",
      "Warning: The vehicle 'h09_14296' has no valid route.\n",
      "Warning: No connection between edge '120692097#0' and edge '281308645' found.\n",
      "Warning: Mandatory edge '281308645' not reachable by vehicle 'h09_14362'.\n",
      "Warning: The vehicle 'h09_14362' has no valid route.\n",
      "Warning: No connection between edge '24388135#2' and edge '143962123#0' found.\n",
      "Warning: Mandatory edge '143962123#0' not reachable by vehicle 'h09_14534'.\n",
      "Warning: The vehicle 'h09_14534' has no valid route.\n"
     ]
    },
    {
     "name": "stdout",
     "output_type": "stream",
     "text": [
      "Reading up to time step: 35601.15\r"
     ]
    },
    {
     "name": "stderr",
     "output_type": "stream",
     "text": [
      "Warning: No connection between edge '25152802' and edge '112885002#0' found.\n",
      "Warning: Mandatory edge '112885002#0' not reachable by vehicle 'h09_14953'.\n",
      "Warning: The vehicle 'h09_14953' has no valid route.\n",
      "Warning: No connection between edge '1055444133#2' and edge '144160557#0' found.\n",
      "Warning: Mandatory edge '144160557#0' not reachable by vehicle 'h09_15274'.\n",
      "Warning: The vehicle 'h09_15274' has no valid route.\n",
      "Warning: No connection between edge '75803702#1' and edge '144160557#2' found.\n",
      "Warning: Mandatory edge '144160557#2' not reachable by vehicle 'h09_15371'.\n",
      "Warning: The vehicle 'h09_15371' has no valid route.\n",
      "Warning: No connection between edge '1130943925' and edge '144160557#0' found.\n",
      "Warning: Mandatory edge '144160557#0' not reachable by vehicle 'h09_15433'.\n",
      "Warning: The vehicle 'h09_15433' has no valid route.\n",
      "Warning: No connection between edge '624358284#0' and edge '1060073977' found.\n",
      "Warning: Mandatory edge '1060073977' not reachable by vehicle 'h09_15685'.\n",
      "Warning: The vehicle 'h09_15685' has no valid route.\n"
     ]
    },
    {
     "name": "stdout",
     "output_type": "stream",
     "text": [
      "Reading up to time step: 35801.15\r"
     ]
    },
    {
     "name": "stderr",
     "output_type": "stream",
     "text": [
      "Warning: No connection between edge '264304429#0' and edge '1060073977' found.\n",
      "Warning: Mandatory edge '1060073977' not reachable by vehicle 'h09_16471'.\n",
      "Warning: The vehicle 'h09_16471' has no valid route.\n",
      "Warning: No connection between edge '142426064#1' and edge '383076320' found.\n",
      "Warning: Mandatory edge '383076320' not reachable by vehicle 'h09_16802'.\n",
      "Warning: The vehicle 'h09_16802' has no valid route.\n"
     ]
    },
    {
     "name": "stdout",
     "output_type": "stream",
     "text": [
      "Reading up to time step: 36001.15\r"
     ]
    },
    {
     "name": "stderr",
     "output_type": "stream",
     "text": [
      "Warning: No connection between edge '438015002#1' and edge '188649571' found.\n",
      "Warning: Mandatory edge '188649571' not reachable by vehicle 'h09_17215'.\n",
      "Warning: The vehicle 'h09_17215' has no valid route.\n",
      "Warning: No connection between edge '53256063' and edge '367820004' found.\n",
      "Warning: Mandatory edge '367820004' not reachable by vehicle 'h09_17315'.\n",
      "Warning: The vehicle 'h09_17315' has no valid route.\n",
      "Warning: No connection between edge '191684326' and edge '144160557#1' found.\n",
      "Warning: Mandatory edge '144160557#1' not reachable by vehicle 'h09_17580'.\n",
      "Warning: The vehicle 'h09_17580' has no valid route.\n",
      "Warning: No connection between edge '50832088#3' and edge '143962120' found.\n",
      "Warning: Mandatory edge '143962120' not reachable by vehicle 'h10_333'.\n",
      "Warning: The vehicle 'h10_333' has no valid route.\n"
     ]
    },
    {
     "name": "stdout",
     "output_type": "stream",
     "text": [
      "Reading up to time step: 36201.15\r"
     ]
    },
    {
     "name": "stderr",
     "output_type": "stream",
     "text": [
      "Warning: No connection between edge '40932543' and edge '144160557#1' found.\n",
      "Warning: Mandatory edge '144160557#1' not reachable by vehicle 'h10_628'.\n",
      "Warning: The vehicle 'h10_628' has no valid route.\n"
     ]
    },
    {
     "name": "stdout",
     "output_type": "stream",
     "text": [
      "Reading up to time step: 36401.15\r"
     ]
    },
    {
     "name": "stderr",
     "output_type": "stream",
     "text": [
      "Warning: No connection between edge '209232465' and edge '143962123#2' found.\n",
      "Warning: Mandatory edge '143962123#2' not reachable by vehicle 'h10_1303'.\n",
      "Warning: The vehicle 'h10_1303' has no valid route.\n",
      "Warning: No connection between edge '64227498#1' and edge '144160557#1' found.\n",
      "Warning: Mandatory edge '144160557#1' not reachable by vehicle 'h10_1412'.\n",
      "Warning: The vehicle 'h10_1412' has no valid route.\n",
      "Warning: No connection between edge '158728450#6' and edge '143962120' found.\n",
      "Warning: Mandatory edge '143962120' not reachable by vehicle 'h10_2171'.\n",
      "Warning: The vehicle 'h10_2171' has no valid route.\n"
     ]
    },
    {
     "name": "stdout",
     "output_type": "stream",
     "text": [
      "Reading up to time step: 36801.15\r"
     ]
    },
    {
     "name": "stderr",
     "output_type": "stream",
     "text": [
      "Warning: No connection between edge '688357782#0' and edge '493060858' found.\n",
      "Warning: Mandatory edge '493060858' not reachable by vehicle 'h10_2937'.\n",
      "Warning: The vehicle 'h10_2937' has no valid route.\n",
      "Warning: No connection between edge '192984470' and edge '188649571' found.\n",
      "Warning: Mandatory edge '188649571' not reachable by vehicle 'h10_3118'.\n",
      "Warning: The vehicle 'h10_3118' has no valid route.\n",
      "Warning: No connection between edge '657639044' and edge '143962123#1' found.\n",
      "Warning: Mandatory edge '143962123#1' not reachable by vehicle 'h10_3251'.\n",
      "Warning: The vehicle 'h10_3251' has no valid route.\n"
     ]
    },
    {
     "name": "stdout",
     "output_type": "stream",
     "text": [
      "Reading up to time step: 37001.15\r"
     ]
    },
    {
     "name": "stderr",
     "output_type": "stream",
     "text": [
      "Warning: No connection between edge '49039535#1' and edge '143962123#2' found.\n",
      "Warning: Mandatory edge '143962123#2' not reachable by vehicle 'h10_3364'.\n",
      "Warning: The vehicle 'h10_3364' has no valid route.\n",
      "Warning: No connection between edge '53231626#0' and edge '143962123#1' found.\n",
      "Warning: Mandatory edge '143962123#1' not reachable by vehicle 'h10_3845'.\n",
      "Warning: The vehicle 'h10_3845' has no valid route.\n",
      "Warning: No connection between edge '156862573' and edge '62023730' found.\n",
      "Warning: Mandatory edge '62023730' not reachable by vehicle 'h10_3852'.\n",
      "Warning: The vehicle 'h10_3852' has no valid route.\n"
     ]
    },
    {
     "name": "stdout",
     "output_type": "stream",
     "text": [
      "Reading up to time step: 37201.15\r"
     ]
    },
    {
     "name": "stderr",
     "output_type": "stream",
     "text": [
      "Warning: No connection between edge '688357782#1' and edge '187646098#1' found.\n",
      "Warning: Mandatory edge '187646098#1' not reachable by vehicle 'h10_4244'.\n",
      "Warning: The vehicle 'h10_4244' has no valid route.\n",
      "Warning: No connection between edge '688357782#1' and edge '144635188#2' found.\n",
      "Warning: Mandatory edge '144635188#2' not reachable by vehicle 'h10_4332'.\n",
      "Warning: The vehicle 'h10_4332' has no valid route.\n",
      "Warning: No connection between edge '220768323#0' and edge '143962123#1' found.\n",
      "Warning: Mandatory edge '143962123#1' not reachable by vehicle 'h10_4809'.\n",
      "Warning: The vehicle 'h10_4809' has no valid route.\n",
      "Warning: No connection between edge '144027684#0' and edge '144160557#1' found.\n",
      "Warning: Mandatory edge '144160557#1' not reachable by vehicle 'h10_4940'.\n",
      "Warning: The vehicle 'h10_4940' has no valid route.\n"
     ]
    },
    {
     "name": "stdout",
     "output_type": "stream",
     "text": [
      "Reading up to time step: 37401.15\r"
     ]
    },
    {
     "name": "stderr",
     "output_type": "stream",
     "text": [
      "Warning: No connection between edge '150925676' and edge '156861115#2' found.\n",
      "Warning: Mandatory edge '156861115#2' not reachable by vehicle 'h10_5616'.\n",
      "Warning: The vehicle 'h10_5616' has no valid route.\n",
      "Warning: No connection between edge '676178098' and edge '383076320' found.\n",
      "Warning: Mandatory edge '383076320' not reachable by vehicle 'h10_6469'.\n",
      "Warning: The vehicle 'h10_6469' has no valid route.\n"
     ]
    },
    {
     "name": "stdout",
     "output_type": "stream",
     "text": [
      "Reading up to time step: 37801.15\r"
     ]
    },
    {
     "name": "stderr",
     "output_type": "stream",
     "text": [
      "Warning: No connection between edge '152177127#1' and edge '143962120' found.\n",
      "Warning: Mandatory edge '143962120' not reachable by vehicle 'h10_6724'.\n",
      "Warning: The vehicle 'h10_6724' has no valid route.\n",
      "Warning: No connection between edge '688357782#1' and edge '434920030' found.\n",
      "Warning: Mandatory edge '434920030' not reachable by vehicle 'h10_7088'.\n",
      "Warning: The vehicle 'h10_7088' has no valid route.\n"
     ]
    },
    {
     "name": "stdout",
     "output_type": "stream",
     "text": [
      "Reading up to time step: 38001.15\r"
     ]
    },
    {
     "name": "stderr",
     "output_type": "stream",
     "text": [
      "Warning: No connection between edge '1186016129#1' and edge '510193683' found.\n",
      "Warning: Mandatory edge '510193683' not reachable by vehicle 'h10_15917'.\n",
      "Warning: The vehicle 'h10_15917' has no valid route.\n",
      "Warning: No connection between edge '429286827' and edge '144160557#1' found.\n",
      "Warning: Mandatory edge '144160557#1' not reachable by vehicle 'h10_7883'.\n",
      "Warning: The vehicle 'h10_7883' has no valid route.\n",
      "Warning: No connection between edge '434811647#1' and edge '62023740' found.\n",
      "Warning: Mandatory edge '62023740' not reachable by vehicle 'h10_7972'.\n",
      "Warning: The vehicle 'h10_7972' has no valid route.\n",
      "Warning: No connection between edge '1037527485#1' and edge '144160557#2' found.\n",
      "Warning: Mandatory edge '144160557#2' not reachable by vehicle 'h10_8136'.\n",
      "Warning: The vehicle 'h10_8136' has no valid route.\n"
     ]
    },
    {
     "name": "stdout",
     "output_type": "stream",
     "text": [
      "Reading up to time step: 38201.15\r"
     ]
    },
    {
     "name": "stderr",
     "output_type": "stream",
     "text": [
      "Warning: No connection between edge '60181302#12' and edge '112885002#0' found.\n",
      "Warning: Mandatory edge '112885002#0' not reachable by vehicle 'h10_8352'.\n",
      "Warning: The vehicle 'h10_8352' has no valid route.\n",
      "Warning: No connection between edge '115628888#1' and edge '143962123#2' found.\n",
      "Warning: Mandatory edge '143962123#2' not reachable by vehicle 'h10_8379'.\n",
      "Warning: The vehicle 'h10_8379' has no valid route.\n",
      "Warning: No connection between edge '688357782#0' and edge '1305380495' found.\n",
      "Warning: Mandatory edge '1305380495' not reachable by vehicle 'h10_15285'.\n",
      "Warning: The vehicle 'h10_15285' has no valid route.\n",
      "Warning: No connection between edge '54357735#0' and edge '188649571' found.\n",
      "Warning: Mandatory edge '188649571' not reachable by vehicle 'h10_8503'.\n",
      "Warning: The vehicle 'h10_8503' has no valid route.\n"
     ]
    },
    {
     "name": "stdout",
     "output_type": "stream",
     "text": [
      "Reading up to time step: 38401.15\r"
     ]
    },
    {
     "name": "stderr",
     "output_type": "stream",
     "text": [
      "Warning: No connection between edge '71589578#1' and edge '386307421#1' found.\n",
      "Warning: Mandatory edge '386307421#1' not reachable by vehicle 'h10_9102'.\n",
      "Warning: The vehicle 'h10_9102' has no valid route.\n",
      "Warning: No connection between edge '82172838' and edge '143962120' found.\n",
      "Warning: Mandatory edge '143962120' not reachable by vehicle 'h10_9103'.\n",
      "Warning: The vehicle 'h10_9103' has no valid route.\n",
      "Warning: No connection between edge '124060635' and edge '39170419' found.\n",
      "Warning: Mandatory edge '39170419' not reachable by vehicle 'h10_9561'.\n",
      "Warning: The vehicle 'h10_9561' has no valid route.\n"
     ]
    },
    {
     "name": "stdout",
     "output_type": "stream",
     "text": [
      "Reading up to time step: 38601.15\r"
     ]
    },
    {
     "name": "stderr",
     "output_type": "stream",
     "text": [
      "Warning: No connection between edge '178023415' and edge '767313244' found.\n",
      "Warning: Mandatory edge '767313244' not reachable by vehicle 'h10_9873'.\n",
      "Warning: The vehicle 'h10_9873' has no valid route.\n"
     ]
    },
    {
     "name": "stdout",
     "output_type": "stream",
     "text": [
      "Reading up to time step: 38801.15\r"
     ]
    },
    {
     "name": "stderr",
     "output_type": "stream",
     "text": [
      "Warning: No connection between edge '186776776#0' and edge '767313244' found.\n",
      "Warning: Mandatory edge '767313244' not reachable by vehicle 'h10_16065'.\n",
      "Warning: The vehicle 'h10_16065' has no valid route.\n",
      "Warning: No connection between edge '688357782#1' and edge '46961701#2' found.\n",
      "Warning: Mandatory edge '46961701#2' not reachable by vehicle 'h10_10907'.\n",
      "Warning: The vehicle 'h10_10907' has no valid route.\n",
      "Warning: No connection between edge '63951386#1' and edge '383076320' found.\n",
      "Warning: Mandatory edge '383076320' not reachable by vehicle 'h10_11131'.\n",
      "Warning: The vehicle 'h10_11131' has no valid route.\n",
      "Warning: No connection between edge '96717347#0' and edge '62023728#1' found.\n",
      "Warning: Mandatory edge '62023728#1' not reachable by vehicle 'h10_11256'.\n",
      "Warning: The vehicle 'h10_11256' has no valid route.\n",
      "Warning: No connection between edge '910734074' and edge '767313243' found.\n",
      "Warning: Mandatory edge '767313243' not reachable by vehicle 'h10_11909'.\n",
      "Warning: The vehicle 'h10_11909' has no valid route.\n"
     ]
    },
    {
     "name": "stdout",
     "output_type": "stream",
     "text": [
      "Reading up to time step: 39001.15\r"
     ]
    },
    {
     "name": "stderr",
     "output_type": "stream",
     "text": [
      "Warning: No connection between edge '168274967#4' and edge '367820004' found.\n",
      "Warning: Mandatory edge '367820004' not reachable by vehicle 'h10_12070'.\n",
      "Warning: The vehicle 'h10_12070' has no valid route.\n"
     ]
    },
    {
     "name": "stdout",
     "output_type": "stream",
     "text": [
      "Reading up to time step: 39201.15\r"
     ]
    },
    {
     "name": "stderr",
     "output_type": "stream",
     "text": [
      "Warning: No connection between edge '688357782#0' and edge '1054386165' found.\n",
      "Warning: Mandatory edge '1054386165' not reachable by vehicle 'h10_12287'.\n",
      "Warning: The vehicle 'h10_12287' has no valid route.\n",
      "Warning: No connection between edge '427059303#2' and edge '767313244' found.\n",
      "Warning: Mandatory edge '767313244' not reachable by vehicle 'h10_12923'.\n",
      "Warning: The vehicle 'h10_12923' has no valid route.\n"
     ]
    },
    {
     "name": "stdout",
     "output_type": "stream",
     "text": [
      "Reading up to time step: 39401.15\r"
     ]
    },
    {
     "name": "stderr",
     "output_type": "stream",
     "text": [
      "Warning: No connection between edge '39629549#2' and edge '112885002#1' found.\n",
      "Warning: Mandatory edge '112885002#1' not reachable by vehicle 'h10_15766'.\n",
      "Warning: The vehicle 'h10_15766' has no valid route.\n",
      "Warning: No connection between edge '212751185#2' and edge '378355994#0' found.\n",
      "Warning: Mandatory edge '378355994#0' not reachable by vehicle 'h10_13153'.\n",
      "Warning: The vehicle 'h10_13153' has no valid route.\n"
     ]
    },
    {
     "name": "stdout",
     "output_type": "stream",
     "text": [
      "Reading up to time step: 39601.15\r"
     ]
    },
    {
     "name": "stderr",
     "output_type": "stream",
     "text": [
      "Warning: No connection between edge '688357782#1' and edge '423217821#0' found.\n",
      "Warning: Mandatory edge '423217821#0' not reachable by vehicle 'h10_14308'.\n",
      "Warning: The vehicle 'h10_14308' has no valid route.\n"
     ]
    },
    {
     "name": "stdout",
     "output_type": "stream",
     "text": [
      "Reading up to time step: 39801.15\r"
     ]
    },
    {
     "name": "stderr",
     "output_type": "stream",
     "text": [
      "Warning: No connection between edge '524450504#0' and edge '144160557#0' found.\n",
      "Warning: Mandatory edge '144160557#0' not reachable by vehicle 'h11_129'.\n",
      "Warning: The vehicle 'h11_129' has no valid route.\n",
      "Warning: No connection between edge '161980755' and edge '510193680' found.\n",
      "Warning: Mandatory edge '510193680' not reachable by vehicle 'h11_315'.\n",
      "Warning: The vehicle 'h11_315' has no valid route.\n",
      "Warning: No connection between edge '150925676' and edge '54357758' found.\n",
      "Warning: Mandatory edge '54357758' not reachable by vehicle 'h11_321'.\n",
      "Warning: The vehicle 'h11_321' has no valid route.\n",
      "Warning: No connection between edge '112770049#17' and edge '386307421#0' found.\n",
      "Warning: Mandatory edge '386307421#0' not reachable by vehicle 'h11_489'.\n",
      "Warning: The vehicle 'h11_489' has no valid route.\n"
     ]
    },
    {
     "name": "stdout",
     "output_type": "stream",
     "text": [
      "Reading up to time step: 40001.15\r"
     ]
    },
    {
     "name": "stderr",
     "output_type": "stream",
     "text": [
      "Warning: No connection between edge '764545380#2' and edge '767313244' found.\n",
      "Warning: Mandatory edge '767313244' not reachable by vehicle 'h11_1440'.\n",
      "Warning: The vehicle 'h11_1440' has no valid route.\n"
     ]
    },
    {
     "name": "stdout",
     "output_type": "stream",
     "text": [
      "Reading up to time step: 40601.15\r"
     ]
    },
    {
     "name": "stderr",
     "output_type": "stream",
     "text": [
      "Warning: No connection between edge '688357782#0' and edge '173046981' found.\n",
      "Warning: Mandatory edge '173046981' not reachable by vehicle 'h11_3476'.\n",
      "Warning: The vehicle 'h11_3476' has no valid route.\n",
      "Warning: No connection between edge '303225593#2' and edge '53538481#2' found.\n",
      "Warning: Mandatory edge '53538481#2' not reachable by vehicle 'h11_15184'.\n",
      "Warning: The vehicle 'h11_15184' has no valid route.\n",
      "Warning: No connection between edge '1130943925' and edge '62023740' found.\n",
      "Warning: Mandatory edge '62023740' not reachable by vehicle 'h11_3539'.\n",
      "Warning: The vehicle 'h11_3539' has no valid route.\n"
     ]
    },
    {
     "name": "stdout",
     "output_type": "stream",
     "text": [
      "Reading up to time step: 40801.15\r"
     ]
    },
    {
     "name": "stderr",
     "output_type": "stream",
     "text": [
      "Warning: No connection between edge '970343199#1' and edge '112885002#0' found.\n",
      "Warning: Mandatory edge '112885002#0' not reachable by vehicle 'h11_4038'.\n",
      "Warning: The vehicle 'h11_4038' has no valid route.\n",
      "Warning: No connection between edge '157770819#3' and edge '143962123#1' found.\n",
      "Warning: Mandatory edge '143962123#1' not reachable by vehicle 'h11_4712'.\n",
      "Warning: The vehicle 'h11_4712' has no valid route.\n",
      "Warning: No connection between edge '142239329#3' and edge '62023728#0' found.\n",
      "Warning: Mandatory edge '62023728#0' not reachable by vehicle 'h11_4928'.\n",
      "Warning: The vehicle 'h11_4928' has no valid route.\n"
     ]
    },
    {
     "name": "stdout",
     "output_type": "stream",
     "text": [
      "Reading up to time step: 41201.15\r"
     ]
    },
    {
     "name": "stderr",
     "output_type": "stream",
     "text": [
      "Warning: No connection between edge '150925676' and edge '370323354' found.\n",
      "Warning: Mandatory edge '370323354' not reachable by vehicle 'h11_5666'.\n",
      "Warning: The vehicle 'h11_5666' has no valid route.\n",
      "Warning: No connection between edge '591224349#0' and edge '143962120' found.\n",
      "Warning: Mandatory edge '143962120' not reachable by vehicle 'h11_15859'.\n",
      "Warning: The vehicle 'h11_15859' has no valid route.\n",
      "Warning: No connection between edge '25255600#0' and edge '383076320' found.\n",
      "Warning: Mandatory edge '383076320' not reachable by vehicle 'h11_6213'.\n",
      "Warning: The vehicle 'h11_6213' has no valid route.\n",
      "Warning: No connection between edge '1243212452#1' and edge '161432888' found.\n",
      "Warning: Mandatory edge '161432888' not reachable by vehicle 'h11_6344'.\n",
      "Warning: The vehicle 'h11_6344' has no valid route.\n"
     ]
    },
    {
     "name": "stdout",
     "output_type": "stream",
     "text": [
      "Reading up to time step: 41401.15\r"
     ]
    },
    {
     "name": "stderr",
     "output_type": "stream",
     "text": [
      "Warning: No connection between edge '925261618' and edge '161561762' found.\n",
      "Warning: Mandatory edge '161561762' not reachable by vehicle 'h11_6356'.\n",
      "Warning: The vehicle 'h11_6356' has no valid route.\n",
      "Warning: No connection between edge '181419220' and edge '510193680' found.\n",
      "Warning: Mandatory edge '510193680' not reachable by vehicle 'h11_6367'.\n",
      "Warning: The vehicle 'h11_6367' has no valid route.\n"
     ]
    },
    {
     "name": "stdout",
     "output_type": "stream",
     "text": [
      "Reading up to time step: 41601.15\r"
     ]
    },
    {
     "name": "stderr",
     "output_type": "stream",
     "text": [
      "Warning: No connection between edge '53189151' and edge '144160557#1' found.\n",
      "Warning: Mandatory edge '144160557#1' not reachable by vehicle 'h11_7361'.\n",
      "Warning: The vehicle 'h11_7361' has no valid route.\n"
     ]
    },
    {
     "name": "stdout",
     "output_type": "stream",
     "text": [
      "Reading up to time step: 41801.15\r"
     ]
    },
    {
     "name": "stderr",
     "output_type": "stream",
     "text": [
      "Warning: No connection between edge '124060635' and edge '158425355#1' found.\n",
      "Warning: Mandatory edge '158425355#1' not reachable by vehicle 'h11_7912'.\n",
      "Warning: The vehicle 'h11_7912' has no valid route.\n",
      "Warning: No connection between edge '24255361' and edge '62023730' found.\n",
      "Warning: Mandatory edge '62023730' not reachable by vehicle 'h11_8315'.\n",
      "Warning: The vehicle 'h11_8315' has no valid route.\n",
      "Warning: No connection between edge '165279966' and edge '62023728#1' found.\n",
      "Warning: Mandatory edge '62023728#1' not reachable by vehicle 'h11_8413'.\n",
      "Warning: The vehicle 'h11_8413' has no valid route.\n"
     ]
    },
    {
     "name": "stdout",
     "output_type": "stream",
     "text": [
      "Reading up to time step: 42001.15\r"
     ]
    },
    {
     "name": "stderr",
     "output_type": "stream",
     "text": [
      "Warning: No connection between edge '925261618' and edge '360784902#2' found.\n",
      "Warning: Mandatory edge '360784902#2' not reachable by vehicle 'h11_8844'.\n",
      "Warning: The vehicle 'h11_8844' has no valid route.\n"
     ]
    },
    {
     "name": "stdout",
     "output_type": "stream",
     "text": [
      "Reading up to time step: 42201.15\r"
     ]
    },
    {
     "name": "stderr",
     "output_type": "stream",
     "text": [
      "Warning: No connection between edge '236123650#0' and edge '281308645' found.\n",
      "Warning: Mandatory edge '281308645' not reachable by vehicle 'h11_9818'.\n",
      "Warning: The vehicle 'h11_9818' has no valid route.\n",
      "Warning: No connection between edge '30281188#0' and edge '378355994#2' found.\n",
      "Warning: Mandatory edge '378355994#2' not reachable by vehicle 'h11_10078'.\n",
      "Warning: The vehicle 'h11_10078' has no valid route.\n"
     ]
    },
    {
     "name": "stdout",
     "output_type": "stream",
     "text": [
      "Reading up to time step: 42401.15\r"
     ]
    },
    {
     "name": "stderr",
     "output_type": "stream",
     "text": [
      "Warning: No connection between edge '96719628' and edge '383076320' found.\n",
      "Warning: Mandatory edge '383076320' not reachable by vehicle 'h11_10468'.\n",
      "Warning: The vehicle 'h11_10468' has no valid route.\n",
      "Warning: No connection between edge '67209272' and edge '62023728#0' found.\n",
      "Warning: Mandatory edge '62023728#0' not reachable by vehicle 'h11_10800'.\n",
      "Warning: The vehicle 'h11_10800' has no valid route.\n",
      "Warning: No connection between edge '323042644#0' and edge '1060073977' found.\n",
      "Warning: Mandatory edge '1060073977' not reachable by vehicle 'h11_10937'.\n",
      "Warning: The vehicle 'h11_10937' has no valid route.\n"
     ]
    },
    {
     "name": "stdout",
     "output_type": "stream",
     "text": [
      "Reading up to time step: 42601.15\r"
     ]
    },
    {
     "name": "stderr",
     "output_type": "stream",
     "text": [
      "Warning: No connection between edge '675851212#1' and edge '1060073977' found.\n",
      "Warning: Mandatory edge '1060073977' not reachable by vehicle 'h11_11505'.\n",
      "Warning: The vehicle 'h11_11505' has no valid route.\n",
      "Warning: No connection between edge '82113804' and edge '143962123#1' found.\n",
      "Warning: Mandatory edge '143962123#1' not reachable by vehicle 'h11_11532'.\n",
      "Warning: The vehicle 'h11_11532' has no valid route.\n"
     ]
    },
    {
     "name": "stdout",
     "output_type": "stream",
     "text": [
      "Reading up to time step: 42801.15\r"
     ]
    },
    {
     "name": "stderr",
     "output_type": "stream",
     "text": [
      "Warning: No connection between edge '428542224' and edge '767313243' found.\n",
      "Warning: Mandatory edge '767313243' not reachable by vehicle 'h11_12450'.\n",
      "Warning: The vehicle 'h11_12450' has no valid route.\n",
      "Warning: No connection between edge '172670903#1' and edge '62023730' found.\n",
      "Warning: Mandatory edge '62023730' not reachable by vehicle 'h11_12526'.\n",
      "Warning: The vehicle 'h11_12526' has no valid route.\n"
     ]
    },
    {
     "name": "stdout",
     "output_type": "stream",
     "text": [
      "Reading up to time step: 43001.15\r"
     ]
    },
    {
     "name": "stderr",
     "output_type": "stream",
     "text": [
      "Warning: No connection between edge '688357782#1' and edge '1243212449#1' found.\n",
      "Warning: Mandatory edge '1243212449#1' not reachable by vehicle 'h11_13155'.\n",
      "Warning: The vehicle 'h11_13155' has no valid route.\n",
      "Warning: No connection between edge '144634780#0' and edge '767313244' found.\n",
      "Warning: Mandatory edge '767313244' not reachable by vehicle 'h11_13204'.\n",
      "Warning: The vehicle 'h11_13204' has no valid route.\n",
      "Warning: No connection between edge '99205776#0' and edge '281308645' found.\n",
      "Warning: Mandatory edge '281308645' not reachable by vehicle 'h11_13297'.\n",
      "Warning: The vehicle 'h11_13297' has no valid route.\n",
      "Warning: No connection between edge '524450504#0' and edge '144160557#0' found.\n",
      "Warning: Mandatory edge '144160557#0' not reachable by vehicle 'h12_129'.\n",
      "Warning: The vehicle 'h12_129' has no valid route.\n"
     ]
    },
    {
     "name": "stdout",
     "output_type": "stream",
     "text": [
      "Reading up to time step: 43401.15\r"
     ]
    },
    {
     "name": "stderr",
     "output_type": "stream",
     "text": [
      "Warning: No connection between edge '161980755' and edge '510193680' found.\n",
      "Warning: Mandatory edge '510193680' not reachable by vehicle 'h12_315'.\n",
      "Warning: The vehicle 'h12_315' has no valid route.\n",
      "Warning: No connection between edge '150925676' and edge '54357758' found.\n",
      "Warning: Mandatory edge '54357758' not reachable by vehicle 'h12_321'.\n",
      "Warning: The vehicle 'h12_321' has no valid route.\n",
      "Warning: No connection between edge '112770049#17' and edge '386307421#0' found.\n",
      "Warning: Mandatory edge '386307421#0' not reachable by vehicle 'h12_489'.\n",
      "Warning: The vehicle 'h12_489' has no valid route.\n"
     ]
    },
    {
     "name": "stdout",
     "output_type": "stream",
     "text": [
      "Reading up to time step: 43601.15\r"
     ]
    },
    {
     "name": "stderr",
     "output_type": "stream",
     "text": [
      "Warning: No connection between edge '764545380#2' and edge '767313244' found.\n",
      "Warning: Mandatory edge '767313244' not reachable by vehicle 'h12_1440'.\n",
      "Warning: The vehicle 'h12_1440' has no valid route.\n",
      "Warning: No connection between edge '28934758' and edge '367820007' found.\n",
      "Warning: Mandatory edge '367820007' not reachable by vehicle 'h12_18904'.\n",
      "Warning: The vehicle 'h12_18904' has no valid route.\n",
      "Warning: No connection between edge '1161406925' and edge '144160557#1' found.\n",
      "Warning: Mandatory edge '144160557#1' not reachable by vehicle 'h12_18521'.\n",
      "Warning: The vehicle 'h12_18521' has no valid route.\n"
     ]
    },
    {
     "name": "stdout",
     "output_type": "stream",
     "text": [
      "Reading up to time step: 44001.15\r"
     ]
    },
    {
     "name": "stderr",
     "output_type": "stream",
     "text": [
      "Warning: No connection between edge '688357782#0' and edge '173046981' found.\n",
      "Warning: Mandatory edge '173046981' not reachable by vehicle 'h12_3476'.\n",
      "Warning: The vehicle 'h12_3476' has no valid route.\n",
      "Warning: No connection between edge '1130943925' and edge '62023740' found.\n",
      "Warning: Mandatory edge '62023740' not reachable by vehicle 'h12_3539'.\n",
      "Warning: The vehicle 'h12_3539' has no valid route.\n",
      "Warning: No connection between edge '970343199#1' and edge '112885002#0' found.\n",
      "Warning: Mandatory edge '112885002#0' not reachable by vehicle 'h12_4038'.\n",
      "Warning: The vehicle 'h12_4038' has no valid route.\n"
     ]
    },
    {
     "name": "stdout",
     "output_type": "stream",
     "text": [
      "Reading up to time step: 44401.15\r"
     ]
    },
    {
     "name": "stderr",
     "output_type": "stream",
     "text": [
      "Warning: No connection between edge '157770819#3' and edge '143962123#1' found.\n",
      "Warning: Mandatory edge '143962123#1' not reachable by vehicle 'h12_4712'.\n",
      "Warning: The vehicle 'h12_4712' has no valid route.\n",
      "Warning: No connection between edge '142239329#3' and edge '62023728#0' found.\n",
      "Warning: Mandatory edge '62023728#0' not reachable by vehicle 'h12_4928'.\n",
      "Warning: The vehicle 'h12_4928' has no valid route.\n"
     ]
    },
    {
     "name": "stdout",
     "output_type": "stream",
     "text": [
      "Reading up to time step: 44601.15\r"
     ]
    },
    {
     "name": "stderr",
     "output_type": "stream",
     "text": [
      "Warning: No connection between edge '150925676' and edge '370323354' found.\n",
      "Warning: Mandatory edge '370323354' not reachable by vehicle 'h12_5666'.\n",
      "Warning: The vehicle 'h12_5666' has no valid route.\n",
      "Warning: No connection between edge '25255600#0' and edge '383076320' found.\n",
      "Warning: Mandatory edge '383076320' not reachable by vehicle 'h12_6213'.\n",
      "Warning: The vehicle 'h12_6213' has no valid route.\n",
      "Warning: No connection between edge '1243212452#1' and edge '161432888' found.\n",
      "Warning: Mandatory edge '161432888' not reachable by vehicle 'h12_6344'.\n",
      "Warning: The vehicle 'h12_6344' has no valid route.\n",
      "Warning: No connection between edge '925261618' and edge '161561762' found.\n",
      "Warning: Mandatory edge '161561762' not reachable by vehicle 'h12_6356'.\n",
      "Warning: The vehicle 'h12_6356' has no valid route.\n",
      "Warning: No connection between edge '181419220' and edge '510193680' found.\n",
      "Warning: Mandatory edge '510193680' not reachable by vehicle 'h12_6367'.\n",
      "Warning: The vehicle 'h12_6367' has no valid route.\n",
      "Warning: No connection between edge '132080346' and edge '1155222630' found.\n",
      "Warning: Mandatory edge '1155222630' not reachable by vehicle 'h12_17387'.\n",
      "Warning: The vehicle 'h12_17387' has no valid route.\n"
     ]
    },
    {
     "name": "stdout",
     "output_type": "stream",
     "text": [
      "Reading up to time step: 44801.15\r"
     ]
    },
    {
     "name": "stderr",
     "output_type": "stream",
     "text": [
      "Warning: No connection between edge '53189151' and edge '144160557#1' found.\n",
      "Warning: Mandatory edge '144160557#1' not reachable by vehicle 'h12_7361'.\n",
      "Warning: The vehicle 'h12_7361' has no valid route.\n"
     ]
    },
    {
     "name": "stdout",
     "output_type": "stream",
     "text": [
      "Reading up to time step: 45001.15\r"
     ]
    },
    {
     "name": "stderr",
     "output_type": "stream",
     "text": [
      "Warning: No connection between edge '124060635' and edge '158425355#1' found.\n",
      "Warning: Mandatory edge '158425355#1' not reachable by vehicle 'h12_7912'.\n",
      "Warning: The vehicle 'h12_7912' has no valid route.\n",
      "Warning: No connection between edge '24255361' and edge '62023730' found.\n",
      "Warning: Mandatory edge '62023730' not reachable by vehicle 'h12_8315'.\n",
      "Warning: The vehicle 'h12_8315' has no valid route.\n",
      "Warning: No connection between edge '165279966' and edge '62023728#1' found.\n",
      "Warning: Mandatory edge '62023728#1' not reachable by vehicle 'h12_8413'.\n",
      "Warning: The vehicle 'h12_8413' has no valid route.\n"
     ]
    },
    {
     "name": "stdout",
     "output_type": "stream",
     "text": [
      "Reading up to time step: 45201.15\r"
     ]
    },
    {
     "name": "stderr",
     "output_type": "stream",
     "text": [
      "Warning: No connection between edge '925261618' and edge '360784902#2' found.\n",
      "Warning: Mandatory edge '360784902#2' not reachable by vehicle 'h12_8844'.\n",
      "Warning: The vehicle 'h12_8844' has no valid route.\n"
     ]
    },
    {
     "name": "stdout",
     "output_type": "stream",
     "text": [
      "Reading up to time step: 45401.15\r"
     ]
    },
    {
     "name": "stderr",
     "output_type": "stream",
     "text": [
      "Warning: No connection between edge '236123650#0' and edge '281308645' found.\n",
      "Warning: Mandatory edge '281308645' not reachable by vehicle 'h12_9818'.\n",
      "Warning: The vehicle 'h12_9818' has no valid route.\n",
      "Warning: No connection between edge '30281188#0' and edge '378355994#2' found.\n",
      "Warning: Mandatory edge '378355994#2' not reachable by vehicle 'h12_10078'.\n",
      "Warning: The vehicle 'h12_10078' has no valid route.\n"
     ]
    },
    {
     "name": "stdout",
     "output_type": "stream",
     "text": [
      "Reading up to time step: 45601.15\r"
     ]
    },
    {
     "name": "stderr",
     "output_type": "stream",
     "text": [
      "Warning: No connection between edge '96719628' and edge '383076320' found.\n",
      "Warning: Mandatory edge '383076320' not reachable by vehicle 'h12_10468'.\n",
      "Warning: The vehicle 'h12_10468' has no valid route.\n",
      "Warning: No connection between edge '67209272' and edge '62023728#0' found.\n",
      "Warning: Mandatory edge '62023728#0' not reachable by vehicle 'h12_10800'.\n",
      "Warning: The vehicle 'h12_10800' has no valid route.\n",
      "Warning: No connection between edge '323042644#0' and edge '1060073977' found.\n",
      "Warning: Mandatory edge '1060073977' not reachable by vehicle 'h12_10937'.\n",
      "Warning: The vehicle 'h12_10937' has no valid route.\n",
      "Warning: No connection between edge '675851212#1' and edge '1060073977' found.\n",
      "Warning: Mandatory edge '1060073977' not reachable by vehicle 'h12_11505'.\n",
      "Warning: The vehicle 'h12_11505' has no valid route.\n"
     ]
    },
    {
     "name": "stdout",
     "output_type": "stream",
     "text": [
      "Reading up to time step: 45801.15\r"
     ]
    },
    {
     "name": "stderr",
     "output_type": "stream",
     "text": [
      "Warning: No connection between edge '82113804' and edge '143962123#1' found.\n",
      "Warning: Mandatory edge '143962123#1' not reachable by vehicle 'h12_11532'.\n",
      "Warning: The vehicle 'h12_11532' has no valid route.\n",
      "Warning: No connection between edge '428542224' and edge '767313243' found.\n",
      "Warning: Mandatory edge '767313243' not reachable by vehicle 'h12_12450'.\n",
      "Warning: The vehicle 'h12_12450' has no valid route.\n"
     ]
    },
    {
     "name": "stdout",
     "output_type": "stream",
     "text": [
      "Reading up to time step: 46001.15\r"
     ]
    },
    {
     "name": "stderr",
     "output_type": "stream",
     "text": [
      "Warning: No connection between edge '172670903#1' and edge '62023730' found.\n",
      "Warning: Mandatory edge '62023730' not reachable by vehicle 'h12_12526'.\n",
      "Warning: The vehicle 'h12_12526' has no valid route.\n",
      "Warning: No connection between edge '688357782#1' and edge '1243212449#1' found.\n",
      "Warning: Mandatory edge '1243212449#1' not reachable by vehicle 'h12_13155'.\n",
      "Warning: The vehicle 'h12_13155' has no valid route.\n",
      "Warning: No connection between edge '144634780#0' and edge '767313244' found.\n",
      "Warning: Mandatory edge '767313244' not reachable by vehicle 'h12_13204'.\n",
      "Warning: The vehicle 'h12_13204' has no valid route.\n"
     ]
    },
    {
     "name": "stdout",
     "output_type": "stream",
     "text": [
      "Reading up to time step: 46201.15\r"
     ]
    },
    {
     "name": "stderr",
     "output_type": "stream",
     "text": [
      "Warning: No connection between edge '99205776#0' and edge '281308645' found.\n",
      "Warning: Mandatory edge '281308645' not reachable by vehicle 'h12_13297'.\n",
      "Warning: The vehicle 'h12_13297' has no valid route.\n",
      "Warning: No connection between edge '631879219#1' and edge '62023741' found.\n",
      "Warning: Mandatory edge '62023741' not reachable by vehicle 'h12_19146'.\n",
      "Warning: The vehicle 'h12_19146' has no valid route.\n"
     ]
    },
    {
     "name": "stdout",
     "output_type": "stream",
     "text": [
      "Reading up to time step: 46801.15\r"
     ]
    },
    {
     "name": "stderr",
     "output_type": "stream",
     "text": [
      "Warning: No connection between edge '53255327#0' and edge '143962123#1' found.\n",
      "Warning: Mandatory edge '143962123#1' not reachable by vehicle 'h12_16597'.\n",
      "Warning: The vehicle 'h12_16597' has no valid route.\n"
     ]
    },
    {
     "name": "stdout",
     "output_type": "stream",
     "text": [
      "Reading up to time step: 47001.15\r"
     ]
    },
    {
     "name": "stderr",
     "output_type": "stream",
     "text": [
      "Warning: No connection between edge '150925676' and edge '49901666#1' found.\n",
      "Warning: Mandatory edge '49901666#1' not reachable by vehicle 'h13_16849'.\n",
      "Warning: The vehicle 'h13_16849' has no valid route.\n",
      "Warning: No connection between edge '168678834#1' and edge '161432888' found.\n",
      "Warning: Mandatory edge '161432888' not reachable by vehicle 'h13_577'.\n",
      "Warning: The vehicle 'h13_577' has no valid route.\n"
     ]
    },
    {
     "name": "stdout",
     "output_type": "stream",
     "text": [
      "Reading up to time step: 47201.15\r"
     ]
    },
    {
     "name": "stderr",
     "output_type": "stream",
     "text": [
      "Warning: No connection between edge '39386408' and edge '378355994#2' found.\n",
      "Warning: Mandatory edge '378355994#2' not reachable by vehicle 'h13_979'.\n",
      "Warning: The vehicle 'h13_979' has no valid route.\n",
      "Warning: No connection between edge '161048246' and edge '281308645' found.\n",
      "Warning: Mandatory edge '281308645' not reachable by vehicle 'h13_1413'.\n",
      "Warning: The vehicle 'h13_1413' has no valid route.\n",
      "Warning: No connection between edge '24255361' and edge '112885002#1' found.\n",
      "Warning: Mandatory edge '112885002#1' not reachable by vehicle 'h13_1453'.\n",
      "Warning: The vehicle 'h13_1453' has no valid route.\n",
      "Warning: No connection between edge '30129956#0' and edge '144633110' found.\n",
      "Warning: Mandatory edge '144633110' not reachable by vehicle 'h13_18421'.\n",
      "Warning: The vehicle 'h13_18421' has no valid route.\n",
      "Warning: No connection between edge '124060635' and edge '342122541#1' found.\n",
      "Warning: Mandatory edge '342122541#1' not reachable by vehicle 'h13_1551'.\n",
      "Warning: The vehicle 'h13_1551' has no valid route.\n"
     ]
    },
    {
     "name": "stdout",
     "output_type": "stream",
     "text": [
      "Reading up to time step: 47401.15\r"
     ]
    },
    {
     "name": "stderr",
     "output_type": "stream",
     "text": [
      "Warning: No connection between edge '793930821' and edge '685820374#0' found.\n",
      "Warning: Mandatory edge '685820374#0' not reachable by vehicle 'h13_2186'.\n",
      "Warning: The vehicle 'h13_2186' has no valid route.\n",
      "Warning: No connection between edge '326393127#0' and edge '386307421#0' found.\n",
      "Warning: Mandatory edge '386307421#0' not reachable by vehicle 'h13_2292'.\n",
      "Warning: The vehicle 'h13_2292' has no valid route.\n"
     ]
    },
    {
     "name": "stdout",
     "output_type": "stream",
     "text": [
      "Reading up to time step: 47601.15\r"
     ]
    },
    {
     "name": "stderr",
     "output_type": "stream",
     "text": [
      "Warning: No connection between edge '925261618' and edge '1334840576' found.\n",
      "Warning: Mandatory edge '1334840576' not reachable by vehicle 'h13_3047'.\n",
      "Warning: The vehicle 'h13_3047' has no valid route.\n",
      "Warning: No connection between edge '367820003#0' and edge '297985242' found.\n",
      "Warning: Mandatory edge '297985242' not reachable by vehicle 'h13_17290'.\n",
      "Warning: The vehicle 'h13_17290' has no valid route.\n",
      "Warning: No connection between edge '925261618' and edge '155376089#0' found.\n",
      "Warning: Mandatory edge '155376089#0' not reachable by vehicle 'h13_3201'.\n",
      "Warning: The vehicle 'h13_3201' has no valid route.\n",
      "Warning: No connection between edge '28117451#1' and edge '62023741' found.\n",
      "Warning: Mandatory edge '62023741' not reachable by vehicle 'h13_3427'.\n",
      "Warning: The vehicle 'h13_3427' has no valid route.\n"
     ]
    },
    {
     "name": "stdout",
     "output_type": "stream",
     "text": [
      "Reading up to time step: 47801.15\r"
     ]
    },
    {
     "name": "stderr",
     "output_type": "stream",
     "text": [
      "Warning: No connection between edge '278318683#3' and edge '144160557#0' found.\n",
      "Warning: Mandatory edge '144160557#0' not reachable by vehicle 'h13_4074'.\n",
      "Warning: The vehicle 'h13_4074' has no valid route.\n",
      "Warning: No connection between edge '925261618' and edge '361589176#0' found.\n",
      "Warning: Mandatory edge '361589176#0' not reachable by vehicle 'h13_4175'.\n",
      "Warning: The vehicle 'h13_4175' has no valid route.\n",
      "Warning: No connection between edge '25844221#2' and edge '767313244' found.\n",
      "Warning: Mandatory edge '767313244' not reachable by vehicle 'h13_18067'.\n",
      "Warning: The vehicle 'h13_18067' has no valid route.\n",
      "Warning: No connection between edge '165251009#1' and edge '386307421#0' found.\n",
      "Warning: Mandatory edge '386307421#0' not reachable by vehicle 'h13_4563'.\n",
      "Warning: The vehicle 'h13_4563' has no valid route.\n"
     ]
    },
    {
     "name": "stdout",
     "output_type": "stream",
     "text": [
      "Reading up to time step: 48201.15\r"
     ]
    },
    {
     "name": "stderr",
     "output_type": "stream",
     "text": [
      "Warning: No connection between edge '71897730#1' and edge '378355994#2' found.\n",
      "Warning: Mandatory edge '378355994#2' not reachable by vehicle 'h13_5583'.\n",
      "Warning: The vehicle 'h13_5583' has no valid route.\n",
      "Warning: No connection between edge '27773961#6' and edge '378355994#0' found.\n",
      "Warning: Mandatory edge '378355994#0' not reachable by vehicle 'h13_6424'.\n",
      "Warning: The vehicle 'h13_6424' has no valid route.\n",
      "Warning: No connection between edge '156026392' and edge '109226117' found.\n",
      "Warning: Mandatory edge '109226117' not reachable by vehicle 'h13_18522'.\n",
      "Warning: The vehicle 'h13_18522' has no valid route.\n"
     ]
    },
    {
     "name": "stdout",
     "output_type": "stream",
     "text": [
      "Reading up to time step: 48401.15\r"
     ]
    },
    {
     "name": "stderr",
     "output_type": "stream",
     "text": [
      "Warning: No connection between edge '226309924#1' and edge '367820004' found.\n",
      "Warning: Mandatory edge '367820004' not reachable by vehicle 'h13_8033'.\n",
      "Warning: The vehicle 'h13_8033' has no valid route.\n"
     ]
    },
    {
     "name": "stdout",
     "output_type": "stream",
     "text": [
      "Reading up to time step: 48601.15\r"
     ]
    },
    {
     "name": "stderr",
     "output_type": "stream",
     "text": [
      "Warning: No connection between edge '37791879#1' and edge '62023740' found.\n",
      "Warning: Mandatory edge '62023740' not reachable by vehicle 'h13_8242'.\n",
      "Warning: The vehicle 'h13_8242' has no valid route.\n"
     ]
    },
    {
     "name": "stdout",
     "output_type": "stream",
     "text": [
      "Reading up to time step: 48801.15\r"
     ]
    },
    {
     "name": "stderr",
     "output_type": "stream",
     "text": [
      "Warning: No connection between edge '150925676' and edge '226309928#0' found.\n",
      "Warning: Mandatory edge '226309928#0' not reachable by vehicle 'h13_8932'.\n",
      "Warning: The vehicle 'h13_8932' has no valid route.\n"
     ]
    },
    {
     "name": "stdout",
     "output_type": "stream",
     "text": [
      "Reading up to time step: 49001.15\r"
     ]
    },
    {
     "name": "stderr",
     "output_type": "stream",
     "text": [
      "Warning: No connection between edge '427443309#1' and edge '367820007' found.\n",
      "Warning: Mandatory edge '367820007' not reachable by vehicle 'h13_9313'.\n",
      "Warning: The vehicle 'h13_9313' has no valid route.\n",
      "Warning: No connection between edge '60966829#1' and edge '367820007' found.\n",
      "Warning: Mandatory edge '367820007' not reachable by vehicle 'h13_9984'.\n",
      "Warning: The vehicle 'h13_9984' has no valid route.\n"
     ]
    },
    {
     "name": "stdout",
     "output_type": "stream",
     "text": [
      "Reading up to time step: 49201.15\r"
     ]
    },
    {
     "name": "stderr",
     "output_type": "stream",
     "text": [
      "Warning: No connection between edge '688357782#1' and edge '64227532#0' found.\n",
      "Warning: Mandatory edge '64227532#0' not reachable by vehicle 'h13_10188'.\n",
      "Warning: The vehicle 'h13_10188' has no valid route.\n",
      "Warning: No connection between edge '186826709#2' and edge '144160557#0' found.\n",
      "Warning: Mandatory edge '144160557#0' not reachable by vehicle 'h13_10716'.\n",
      "Warning: The vehicle 'h13_10716' has no valid route.\n"
     ]
    },
    {
     "name": "stdout",
     "output_type": "stream",
     "text": [
      "Reading up to time step: 49601.15\r"
     ]
    },
    {
     "name": "stderr",
     "output_type": "stream",
     "text": [
      "Warning: No connection between edge '888178960#10' and edge '112885002#1' found.\n",
      "Warning: Mandatory edge '112885002#1' not reachable by vehicle 'h13_11942'.\n",
      "Warning: The vehicle 'h13_11942' has no valid route.\n",
      "Warning: No connection between edge '1032383518' and edge '378355994#0' found.\n",
      "Warning: Mandatory edge '378355994#0' not reachable by vehicle 'h13_12027'.\n",
      "Warning: The vehicle 'h13_12027' has no valid route.\n",
      "Warning: No connection between edge '127010150#0' and edge '510193683' found.\n",
      "Warning: Mandatory edge '510193683' not reachable by vehicle 'h13_12441'.\n",
      "Warning: The vehicle 'h13_12441' has no valid route.\n"
     ]
    },
    {
     "name": "stdout",
     "output_type": "stream",
     "text": [
      "Reading up to time step: 50001.15\r"
     ]
    },
    {
     "name": "stderr",
     "output_type": "stream",
     "text": [
      "Warning: No connection between edge '521547983#2' and edge '386307421#1' found.\n",
      "Warning: Mandatory edge '386307421#1' not reachable by vehicle 'h13_14351'.\n",
      "Warning: The vehicle 'h13_14351' has no valid route.\n",
      "Warning: No connection between edge '458784376' and edge '143962123#1' found.\n",
      "Warning: Mandatory edge '143962123#1' not reachable by vehicle 'h13_14962'.\n",
      "Warning: The vehicle 'h13_14962' has no valid route.\n"
     ]
    },
    {
     "name": "stdout",
     "output_type": "stream",
     "text": [
      "Reading up to time step: 50201.15\r"
     ]
    },
    {
     "name": "stderr",
     "output_type": "stream",
     "text": [
      "Warning: No connection between edge '124060635' and edge '24949352#1' found.\n",
      "Warning: Mandatory edge '24949352#1' not reachable by vehicle 'h13_15215'.\n",
      "Warning: The vehicle 'h13_15215' has no valid route.\n",
      "Warning: No connection between edge '104384253#4' and edge '378355994#1' found.\n",
      "Warning: Mandatory edge '378355994#1' not reachable by vehicle 'h13_18389'.\n",
      "Warning: The vehicle 'h13_18389' has no valid route.\n"
     ]
    },
    {
     "name": "stdout",
     "output_type": "stream",
     "text": [
      "Reading up to time step: 50401.15\r"
     ]
    },
    {
     "name": "stderr",
     "output_type": "stream",
     "text": [
      "Warning: No connection between edge '688357782#1' and edge '1100922949' found.\n",
      "Warning: Mandatory edge '1100922949' not reachable by vehicle 'h13_15795'.\n",
      "Warning: The vehicle 'h13_15795' has no valid route.\n",
      "Warning: No connection between edge '189359644' and edge '144160557#0' found.\n",
      "Warning: Mandatory edge '144160557#0' not reachable by vehicle 'h13_16045'.\n",
      "Warning: The vehicle 'h13_16045' has no valid route.\n"
     ]
    },
    {
     "name": "stdout",
     "output_type": "stream",
     "text": [
      "Reading up to time step: 50601.15\r"
     ]
    },
    {
     "name": "stderr",
     "output_type": "stream",
     "text": [
      "Warning: No connection between edge '167620038#0' and edge '144160557#1' found.\n",
      "Warning: Mandatory edge '144160557#1' not reachable by vehicle 'h14_166'.\n",
      "Warning: The vehicle 'h14_166' has no valid route.\n",
      "Warning: No connection between edge '374307262#1' and edge '281308645' found.\n",
      "Warning: Mandatory edge '281308645' not reachable by vehicle 'h14_450'.\n",
      "Warning: The vehicle 'h14_450' has no valid route.\n",
      "Warning: No connection between edge '515814292#5' and edge '112885002#0' found.\n",
      "Warning: Mandatory edge '112885002#0' not reachable by vehicle 'h14_552'.\n",
      "Warning: The vehicle 'h14_552' has no valid route.\n",
      "Warning: No connection between edge '688357782#1' and edge '194679027#0' found.\n",
      "Warning: Mandatory edge '194679027#0' not reachable by vehicle 'h14_758'.\n",
      "Warning: The vehicle 'h14_758' has no valid route.\n",
      "Warning: No connection between edge '375686691' and edge '62023728#0' found.\n",
      "Warning: Mandatory edge '62023728#0' not reachable by vehicle 'h14_1538'.\n",
      "Warning: The vehicle 'h14_1538' has no valid route.\n"
     ]
    },
    {
     "name": "stdout",
     "output_type": "stream",
     "text": [
      "Reading up to time step: 50801.15\r"
     ]
    },
    {
     "name": "stderr",
     "output_type": "stream",
     "text": [
      "Warning: No connection between edge '54965966#2' and edge '378355994#1' found.\n",
      "Warning: Mandatory edge '378355994#1' not reachable by vehicle 'h14_2337'.\n",
      "Warning: The vehicle 'h14_2337' has no valid route.\n"
     ]
    },
    {
     "name": "stdout",
     "output_type": "stream",
     "text": [
      "Reading up to time step: 51201.15\r"
     ]
    },
    {
     "name": "stderr",
     "output_type": "stream",
     "text": [
      "Warning: No connection between edge '661958137#0' and edge '767313244' found.\n",
      "Warning: Mandatory edge '767313244' not reachable by vehicle 'h14_2647'.\n",
      "Warning: The vehicle 'h14_2647' has no valid route.\n",
      "Warning: No connection between edge '463973720#1' and edge '144160557#2' found.\n",
      "Warning: Mandatory edge '144160557#2' not reachable by vehicle 'h14_16871'.\n",
      "Warning: The vehicle 'h14_16871' has no valid route.\n",
      "Warning: No connection between edge '363163676#1' and edge '367820004' found.\n",
      "Warning: Mandatory edge '367820004' not reachable by vehicle 'h14_2875'.\n",
      "Warning: The vehicle 'h14_2875' has no valid route.\n",
      "Warning: No connection between edge '201103001#3' and edge '188649571' found.\n",
      "Warning: Mandatory edge '188649571' not reachable by vehicle 'h14_3188'.\n",
      "Warning: The vehicle 'h14_3188' has no valid route.\n",
      "Warning: No connection between edge '394895432#1' and edge '510193680' found.\n",
      "Warning: Mandatory edge '510193680' not reachable by vehicle 'h14_3387'.\n",
      "Warning: The vehicle 'h14_3387' has no valid route.\n"
     ]
    },
    {
     "name": "stdout",
     "output_type": "stream",
     "text": [
      "Reading up to time step: 51401.15\r"
     ]
    },
    {
     "name": "stderr",
     "output_type": "stream",
     "text": [
      "Warning: No connection between edge '793930821' and edge '1338837747#1' found.\n",
      "Warning: Mandatory edge '1338837747#1' not reachable by vehicle 'h14_3516'.\n",
      "Warning: The vehicle 'h14_3516' has no valid route.\n",
      "Warning: No connection between edge '1050810669' and edge '383076320' found.\n",
      "Warning: Mandatory edge '383076320' not reachable by vehicle 'h14_16530'.\n",
      "Warning: The vehicle 'h14_16530' has no valid route.\n"
     ]
    },
    {
     "name": "stdout",
     "output_type": "stream",
     "text": [
      "Reading up to time step: 51801.15\r"
     ]
    },
    {
     "name": "stderr",
     "output_type": "stream",
     "text": [
      "Warning: No connection between edge '925261618' and edge '65611554' found.\n",
      "Warning: Mandatory edge '65611554' not reachable by vehicle 'h14_5116'.\n",
      "Warning: The vehicle 'h14_5116' has no valid route.\n",
      "Warning: No connection between edge '297991908#1' and edge '62023728#0' found.\n",
      "Warning: Mandatory edge '62023728#0' not reachable by vehicle 'h14_5179'.\n",
      "Warning: The vehicle 'h14_5179' has no valid route.\n",
      "Warning: No connection between edge '793930821' and edge '391584632' found.\n",
      "Warning: Mandatory edge '391584632' not reachable by vehicle 'h14_5442'.\n",
      "Warning: The vehicle 'h14_5442' has no valid route.\n"
     ]
    },
    {
     "name": "stdout",
     "output_type": "stream",
     "text": [
      "Reading up to time step: 52001.15\r"
     ]
    },
    {
     "name": "stderr",
     "output_type": "stream",
     "text": [
      "Warning: No connection between edge '543261599' and edge '367820007' found.\n",
      "Warning: Mandatory edge '367820007' not reachable by vehicle 'h14_6118'.\n",
      "Warning: The vehicle 'h14_6118' has no valid route.\n",
      "Warning: No connection between edge '144312328' and edge '143962123#1' found.\n",
      "Warning: Mandatory edge '143962123#1' not reachable by vehicle 'h14_6276'.\n",
      "Warning: The vehicle 'h14_6276' has no valid route.\n",
      "Warning: No connection between edge '158425373#4' and edge '367820007' found.\n",
      "Warning: Mandatory edge '367820007' not reachable by vehicle 'h14_6705'.\n",
      "Warning: The vehicle 'h14_6705' has no valid route.\n",
      "Warning: No connection between edge '24255499#5' and edge '112885002#1' found.\n",
      "Warning: Mandatory edge '112885002#1' not reachable by vehicle 'h14_7246'.\n",
      "Warning: The vehicle 'h14_7246' has no valid route.\n"
     ]
    },
    {
     "name": "stdout",
     "output_type": "stream",
     "text": [
      "Reading up to time step: 52201.15\r"
     ]
    },
    {
     "name": "stderr",
     "output_type": "stream",
     "text": [
      "Warning: No connection between edge '109152404#1' and edge '144160557#1' found.\n",
      "Warning: Mandatory edge '144160557#1' not reachable by vehicle 'h14_7597'.\n",
      "Warning: The vehicle 'h14_7597' has no valid route.\n"
     ]
    },
    {
     "name": "stdout",
     "output_type": "stream",
     "text": [
      "Reading up to time step: 52401.15\r"
     ]
    },
    {
     "name": "stderr",
     "output_type": "stream",
     "text": [
      "Warning: No connection between edge '252288328#0' and edge '62023740' found.\n",
      "Warning: Mandatory edge '62023740' not reachable by vehicle 'h14_7623'.\n",
      "Warning: The vehicle 'h14_7623' has no valid route.\n",
      "Warning: No connection between edge '366469482#3' and edge '112885002#1' found.\n",
      "Warning: Mandatory edge '112885002#1' not reachable by vehicle 'h14_8377'.\n",
      "Warning: The vehicle 'h14_8377' has no valid route.\n",
      "Warning: No connection between edge '125483121#2' and edge '62023728#1' found.\n",
      "Warning: Mandatory edge '62023728#1' not reachable by vehicle 'h14_8848'.\n",
      "Warning: The vehicle 'h14_8848' has no valid route.\n"
     ]
    },
    {
     "name": "stdout",
     "output_type": "stream",
     "text": [
      "Reading up to time step: 52601.15\r"
     ]
    },
    {
     "name": "stderr",
     "output_type": "stream",
     "text": [
      "Warning: No connection between edge '47001620#0' and edge '378355994#1' found.\n",
      "Warning: Mandatory edge '378355994#1' not reachable by vehicle 'h14_8854'.\n",
      "Warning: The vehicle 'h14_8854' has no valid route.\n",
      "Warning: No connection between edge '100144521#8' and edge '62023730' found.\n",
      "Warning: Mandatory edge '62023730' not reachable by vehicle 'h14_9340'.\n",
      "Warning: The vehicle 'h14_9340' has no valid route.\n"
     ]
    },
    {
     "name": "stdout",
     "output_type": "stream",
     "text": [
      "Reading up to time step: 52801.15\r"
     ]
    },
    {
     "name": "stderr",
     "output_type": "stream",
     "text": [
      "Warning: No connection between edge '64546297' and edge '143962123#0' found.\n",
      "Warning: Mandatory edge '143962123#0' not reachable by vehicle 'h14_9552'.\n",
      "Warning: The vehicle 'h14_9552' has no valid route.\n"
     ]
    },
    {
     "name": "stdout",
     "output_type": "stream",
     "text": [
      "Reading up to time step: 53001.15\r"
     ]
    },
    {
     "name": "stderr",
     "output_type": "stream",
     "text": [
      "Warning: No connection between edge '925261618' and edge '109077587' found.\n",
      "Warning: Mandatory edge '109077587' not reachable by vehicle 'h14_10387'.\n",
      "Warning: The vehicle 'h14_10387' has no valid route.\n",
      "Warning: No connection between edge '103261611#1' and edge '189359632#2' found.\n",
      "Warning: Mandatory edge '189359632#2' not reachable by vehicle 'h14_16361'.\n",
      "Warning: The vehicle 'h14_16361' has no valid route.\n",
      "Warning: No connection between edge '384188929' and edge '386307421#0' found.\n",
      "Warning: Mandatory edge '386307421#0' not reachable by vehicle 'h14_11436'.\n",
      "Warning: The vehicle 'h14_11436' has no valid route.\n"
     ]
    },
    {
     "name": "stdout",
     "output_type": "stream",
     "text": [
      "Reading up to time step: 53401.15\r"
     ]
    },
    {
     "name": "stderr",
     "output_type": "stream",
     "text": [
      "Warning: No connection between edge '30129956#1' and edge '171514121#2' found.\n",
      "Warning: Mandatory edge '171514121#2' not reachable by vehicle 'h14_17060'.\n",
      "Warning: The vehicle 'h14_17060' has no valid route.\n",
      "Warning: No connection between edge '124060635' and edge '231391927#0' found.\n",
      "Warning: Mandatory edge '231391927#0' not reachable by vehicle 'h14_12516'.\n",
      "Warning: The vehicle 'h14_12516' has no valid route.\n",
      "Warning: No connection between edge '925261618' and edge '417207891#0' found.\n",
      "Warning: Mandatory edge '417207891#0' not reachable by vehicle 'h14_12554'.\n",
      "Warning: The vehicle 'h14_12554' has no valid route.\n"
     ]
    },
    {
     "name": "stdout",
     "output_type": "stream",
     "text": [
      "Reading up to time step: 53601.15\r"
     ]
    },
    {
     "name": "stderr",
     "output_type": "stream",
     "text": [
      "Warning: No connection between edge '183526654' and edge '143962120' found.\n",
      "Warning: Mandatory edge '143962120' not reachable by vehicle 'h14_12663'.\n",
      "Warning: The vehicle 'h14_12663' has no valid route.\n",
      "Warning: No connection between edge '1132202536' and edge '62023728#0' found.\n",
      "Warning: Mandatory edge '62023728#0' not reachable by vehicle 'h14_16806'.\n",
      "Warning: The vehicle 'h14_16806' has no valid route.\n",
      "Warning: No connection between edge '182026735#0' and edge '281308645' found.\n",
      "Warning: Mandatory edge '281308645' not reachable by vehicle 'h14_13313'.\n",
      "Warning: The vehicle 'h14_13313' has no valid route.\n",
      "Warning: No connection between edge '144834980' and edge '1060073977' found.\n",
      "Warning: Mandatory edge '1060073977' not reachable by vehicle 'h14_13555'.\n",
      "Warning: The vehicle 'h14_13555' has no valid route.\n"
     ]
    },
    {
     "name": "stdout",
     "output_type": "stream",
     "text": [
      "Reading up to time step: 53801.15\r"
     ]
    },
    {
     "name": "stderr",
     "output_type": "stream",
     "text": [
      "Warning: No connection between edge '347645154#2' and edge '367820004' found.\n",
      "Warning: Mandatory edge '367820004' not reachable by vehicle 'h14_14081'.\n",
      "Warning: The vehicle 'h14_14081' has no valid route.\n",
      "Warning: No connection between edge '125150667' and edge '386307421#0' found.\n",
      "Warning: Mandatory edge '386307421#0' not reachable by vehicle 'h14_14153'.\n",
      "Warning: The vehicle 'h14_14153' has no valid route.\n"
     ]
    },
    {
     "name": "stdout",
     "output_type": "stream",
     "text": [
      "Reading up to time step: 54001.15\r"
     ]
    },
    {
     "name": "stderr",
     "output_type": "stream",
     "text": [
      "Warning: No connection between edge '632110833' and edge '112885002#0' found.\n",
      "Warning: Mandatory edge '112885002#0' not reachable by vehicle 'h14_14421'.\n",
      "Warning: The vehicle 'h14_14421' has no valid route.\n"
     ]
    },
    {
     "name": "stdout",
     "output_type": "stream",
     "text": [
      "Reading up to time step: 54201.15\r"
     ]
    },
    {
     "name": "stderr",
     "output_type": "stream",
     "text": [
      "Warning: No connection between edge '456191641#0' and edge '281308645' found.\n",
      "Warning: Mandatory edge '281308645' not reachable by vehicle 'h15_675'.\n",
      "Warning: The vehicle 'h15_675' has no valid route.\n"
     ]
    },
    {
     "name": "stdout",
     "output_type": "stream",
     "text": [
      "Reading up to time step: 54601.15\r"
     ]
    },
    {
     "name": "stderr",
     "output_type": "stream",
     "text": [
      "Warning: No connection between edge '685808378#1' and edge '378355994#0' found.\n",
      "Warning: Mandatory edge '378355994#0' not reachable by vehicle 'h15_1947'.\n",
      "Warning: The vehicle 'h15_1947' has no valid route.\n",
      "Warning: No connection between edge '109075790' and edge '143962123#0' found.\n",
      "Warning: Mandatory edge '143962123#0' not reachable by vehicle 'h15_1994'.\n",
      "Warning: The vehicle 'h15_1994' has no valid route.\n",
      "Warning: No connection between edge '124060635' and edge '676612340' found.\n",
      "Warning: Mandatory edge '676612340' not reachable by vehicle 'h15_2011'.\n",
      "Warning: The vehicle 'h15_2011' has no valid route.\n",
      "Warning: No connection between edge '103267981#1' and edge '393235678' found.\n",
      "Warning: Mandatory edge '393235678' not reachable by vehicle 'h15_14860'.\n",
      "Warning: The vehicle 'h15_14860' has no valid route.\n"
     ]
    },
    {
     "name": "stdout",
     "output_type": "stream",
     "text": [
      "Reading up to time step: 54801.15\r"
     ]
    },
    {
     "name": "stderr",
     "output_type": "stream",
     "text": [
      "Warning: No connection between edge '925261618' and edge '180015215' found.\n",
      "Warning: Mandatory edge '180015215' not reachable by vehicle 'h15_2891'.\n",
      "Warning: The vehicle 'h15_2891' has no valid route.\n"
     ]
    },
    {
     "name": "stdout",
     "output_type": "stream",
     "text": [
      "Reading up to time step: 55001.15\r"
     ]
    },
    {
     "name": "stderr",
     "output_type": "stream",
     "text": [
      "Warning: No connection between edge '64095976#1' and edge '367820004' found.\n",
      "Warning: Mandatory edge '367820004' not reachable by vehicle 'h15_3347'.\n",
      "Warning: The vehicle 'h15_3347' has no valid route.\n",
      "Warning: No connection between edge '139762737' and edge '161432888' found.\n",
      "Warning: Mandatory edge '161432888' not reachable by vehicle 'h15_3373'.\n",
      "Warning: The vehicle 'h15_3373' has no valid route.\n",
      "Warning: No connection between edge '181512359' and edge '62023730' found.\n",
      "Warning: Mandatory edge '62023730' not reachable by vehicle 'h15_3704'.\n",
      "Warning: The vehicle 'h15_3704' has no valid route.\n"
     ]
    },
    {
     "name": "stdout",
     "output_type": "stream",
     "text": [
      "Reading up to time step: 55201.15\r"
     ]
    },
    {
     "name": "stderr",
     "output_type": "stream",
     "text": [
      "Warning: No connection between edge '688357782#1' and edge '139964395#0' found.\n",
      "Warning: Mandatory edge '139964395#0' not reachable by vehicle 'h15_3897'.\n",
      "Warning: The vehicle 'h15_3897' has no valid route.\n"
     ]
    },
    {
     "name": "stdout",
     "output_type": "stream",
     "text": [
      "Reading up to time step: 55401.15\r"
     ]
    },
    {
     "name": "stderr",
     "output_type": "stream",
     "text": [
      "Warning: No connection between edge '4385542#8' and edge '143962123#0' found.\n",
      "Warning: Mandatory edge '143962123#0' not reachable by vehicle 'h15_4936'.\n",
      "Warning: The vehicle 'h15_4936' has no valid route.\n",
      "Warning: No connection between edge '46986599#0' and edge '767313244' found.\n",
      "Warning: Mandatory edge '767313244' not reachable by vehicle 'h15_5063'.\n",
      "Warning: The vehicle 'h15_5063' has no valid route.\n"
     ]
    },
    {
     "name": "stdout",
     "output_type": "stream",
     "text": [
      "Reading up to time step: 55801.15\r"
     ]
    },
    {
     "name": "stderr",
     "output_type": "stream",
     "text": [
      "Warning: No connection between edge '41455219#3' and edge '378355994#1' found.\n",
      "Warning: Mandatory edge '378355994#1' not reachable by vehicle 'h15_6759'.\n",
      "Warning: The vehicle 'h15_6759' has no valid route.\n",
      "Warning: No connection between edge '112770049#8' and edge '144160557#2' found.\n",
      "Warning: Mandatory edge '144160557#2' not reachable by vehicle 'h15_7028'.\n",
      "Warning: The vehicle 'h15_7028' has no valid route.\n"
     ]
    },
    {
     "name": "stdout",
     "output_type": "stream",
     "text": [
      "Reading up to time step: 56001.15\r"
     ]
    },
    {
     "name": "stderr",
     "output_type": "stream",
     "text": [
      "Warning: No connection between edge '124060635' and edge '12365268#3' found.\n",
      "Warning: Mandatory edge '12365268#3' not reachable by vehicle 'h15_7044'.\n",
      "Warning: The vehicle 'h15_7044' has no valid route.\n",
      "Warning: No connection between edge '685488168#7' and edge '62023728#1' found.\n",
      "Warning: Mandatory edge '62023728#1' not reachable by vehicle 'h15_15578'.\n",
      "Warning: The vehicle 'h15_15578' has no valid route.\n"
     ]
    },
    {
     "name": "stdout",
     "output_type": "stream",
     "text": [
      "Reading up to time step: 56201.15\r"
     ]
    },
    {
     "name": "stderr",
     "output_type": "stream",
     "text": [
      "Warning: No connection between edge '688357782#0' and edge '159245820#1' found.\n",
      "Warning: Mandatory edge '159245820#1' not reachable by vehicle 'h15_8203'.\n",
      "Warning: The vehicle 'h15_8203' has no valid route.\n"
     ]
    },
    {
     "name": "stdout",
     "output_type": "stream",
     "text": [
      "Reading up to time step: 56401.15\r"
     ]
    },
    {
     "name": "stderr",
     "output_type": "stream",
     "text": [
      "Warning: No connection between edge '377796629#3' and edge '144160557#2' found.\n",
      "Warning: Mandatory edge '144160557#2' not reachable by vehicle 'h15_8848'.\n",
      "Warning: The vehicle 'h15_8848' has no valid route.\n",
      "Warning: No connection between edge '70186981#1' and edge '510193683' found.\n",
      "Warning: Mandatory edge '510193683' not reachable by vehicle 'h15_8879'.\n",
      "Warning: The vehicle 'h15_8879' has no valid route.\n",
      "Warning: No connection between edge '162153699#0' and edge '367820004' found.\n",
      "Warning: Mandatory edge '367820004' not reachable by vehicle 'h15_9156'.\n",
      "Warning: The vehicle 'h15_9156' has no valid route.\n"
     ]
    },
    {
     "name": "stdout",
     "output_type": "stream",
     "text": [
      "Reading up to time step: 56601.15\r"
     ]
    },
    {
     "name": "stderr",
     "output_type": "stream",
     "text": [
      "Warning: No connection between edge '793930821' and edge '382013252' found.\n",
      "Warning: Mandatory edge '382013252' not reachable by vehicle 'h15_9274'.\n",
      "Warning: The vehicle 'h15_9274' has no valid route.\n",
      "Warning: No connection between edge '144312349#0' and edge '62023728#0' found.\n",
      "Warning: Mandatory edge '62023728#0' not reachable by vehicle 'h15_9815'.\n",
      "Warning: The vehicle 'h15_9815' has no valid route.\n"
     ]
    },
    {
     "name": "stdout",
     "output_type": "stream",
     "text": [
      "Reading up to time step: 57001.15\r"
     ]
    },
    {
     "name": "stderr",
     "output_type": "stream",
     "text": [
      "Warning: No connection between edge '688357782#1' and edge '28325573#0' found.\n",
      "Warning: Mandatory edge '28325573#0' not reachable by vehicle 'h15_14321'.\n",
      "Warning: The vehicle 'h15_14321' has no valid route.\n"
     ]
    },
    {
     "name": "stdout",
     "output_type": "stream",
     "text": [
      "Reading up to time step: 57201.15\r"
     ]
    },
    {
     "name": "stderr",
     "output_type": "stream",
     "text": [
      "Warning: No connection between edge '104291456#1' and edge '62023730' found.\n",
      "Warning: Mandatory edge '62023730' not reachable by vehicle 'h15_15425'.\n",
      "Warning: The vehicle 'h15_15425' has no valid route.\n",
      "Warning: No connection between edge '688357782#0' and edge '165251009#0' found.\n",
      "Warning: Mandatory edge '165251009#0' not reachable by vehicle 'h15_11625'.\n",
      "Warning: The vehicle 'h15_11625' has no valid route.\n"
     ]
    },
    {
     "name": "stdout",
     "output_type": "stream",
     "text": [
      "Reading up to time step: 57401.15\r"
     ]
    },
    {
     "name": "stderr",
     "output_type": "stream",
     "text": [
      "Warning: No connection between edge '688357782#1' and edge '82285287#3' found.\n",
      "Warning: Mandatory edge '82285287#3' not reachable by vehicle 'h15_12730'.\n",
      "Warning: The vehicle 'h15_12730' has no valid route.\n",
      "Warning: No connection between edge '159460091#1' and edge '1060073977' found.\n",
      "Warning: Mandatory edge '1060073977' not reachable by vehicle 'h15_13001'.\n",
      "Warning: The vehicle 'h15_13001' has no valid route.\n",
      "Warning: No connection between edge '53424792#1' and edge '1060073977' found.\n",
      "Warning: Mandatory edge '1060073977' not reachable by vehicle 'h15_13036'.\n",
      "Warning: The vehicle 'h15_13036' has no valid route.\n"
     ]
    },
    {
     "name": "stdout",
     "output_type": "stream",
     "text": [
      "Reading up to time step: 57601.15\r"
     ]
    },
    {
     "name": "stderr",
     "output_type": "stream",
     "text": [
      "Warning: No connection between edge '150925676' and edge '416551853#0' found.\n",
      "Warning: Mandatory edge '416551853#0' not reachable by vehicle 'h15_13125'.\n",
      "Warning: The vehicle 'h15_13125' has no valid route.\n",
      "Warning: No connection between edge '41344933' and edge '378355994#2' found.\n",
      "Warning: Mandatory edge '378355994#2' not reachable by vehicle 'h15_13729'.\n",
      "Warning: The vehicle 'h15_13729' has no valid route.\n",
      "Warning: No connection between edge '793930821' and edge '347645154#1' found.\n",
      "Warning: Mandatory edge '347645154#1' not reachable by vehicle 'h15_13769'.\n",
      "Warning: The vehicle 'h15_13769' has no valid route.\n"
     ]
    },
    {
     "name": "stdout",
     "output_type": "stream",
     "text": [
      "Reading up to time step: 57801.15\r"
     ]
    },
    {
     "name": "stderr",
     "output_type": "stream",
     "text": [
      "Warning: No connection between edge '150925676' and edge '554560098#0' found.\n",
      "Warning: Mandatory edge '554560098#0' not reachable by vehicle 'h16_16817'.\n",
      "Warning: The vehicle 'h16_16817' has no valid route.\n"
     ]
    },
    {
     "name": "stdout",
     "output_type": "stream",
     "text": [
      "Reading up to time step: 58001.15\r"
     ]
    },
    {
     "name": "stderr",
     "output_type": "stream",
     "text": [
      "Warning: No connection between edge '342150049#9' and edge '378355994#0' found.\n",
      "Warning: Mandatory edge '378355994#0' not reachable by vehicle 'h16_908'.\n",
      "Warning: The vehicle 'h16_908' has no valid route.\n",
      "Warning: No connection between edge '157010360#2' and edge '367820007' found.\n",
      "Warning: Mandatory edge '367820007' not reachable by vehicle 'h16_1245'.\n",
      "Warning: The vehicle 'h16_1245' has no valid route.\n",
      "Warning: No connection between edge '366469489#7' and edge '386307421#1' found.\n",
      "Warning: Mandatory edge '386307421#1' not reachable by vehicle 'h16_1848'.\n",
      "Warning: The vehicle 'h16_1848' has no valid route.\n"
     ]
    },
    {
     "name": "stdout",
     "output_type": "stream",
     "text": [
      "Reading up to time step: 58201.15\r"
     ]
    },
    {
     "name": "stderr",
     "output_type": "stream",
     "text": [
      "Warning: No connection between edge '383616385#1' and edge '62023728#0' found.\n",
      "Warning: Mandatory edge '62023728#0' not reachable by vehicle 'h16_2533'.\n",
      "Warning: The vehicle 'h16_2533' has no valid route.\n",
      "Warning: No connection between edge '925261618' and edge '881589988#1' found.\n",
      "Warning: Mandatory edge '881589988#1' not reachable by vehicle 'h16_2651'.\n",
      "Warning: The vehicle 'h16_2651' has no valid route.\n"
     ]
    },
    {
     "name": "stdout",
     "output_type": "stream",
     "text": [
      "Reading up to time step: 58401.15\r"
     ]
    },
    {
     "name": "stderr",
     "output_type": "stream",
     "text": [
      "Warning: No connection between edge '925261618' and edge '515611037' found.\n",
      "Warning: Mandatory edge '515611037' not reachable by vehicle 'h16_3139'.\n",
      "Warning: The vehicle 'h16_3139' has no valid route.\n",
      "Warning: No connection between edge '46988963#0' and edge '1060073977' found.\n",
      "Warning: Mandatory edge '1060073977' not reachable by vehicle 'h16_3262'.\n",
      "Warning: The vehicle 'h16_3262' has no valid route.\n",
      "Warning: No connection between edge '444249792#0' and edge '378355994#2' found.\n",
      "Warning: Mandatory edge '378355994#2' not reachable by vehicle 'h16_3335'.\n",
      "Warning: The vehicle 'h16_3335' has no valid route.\n"
     ]
    },
    {
     "name": "stdout",
     "output_type": "stream",
     "text": [
      "Reading up to time step: 58601.15\r"
     ]
    },
    {
     "name": "stderr",
     "output_type": "stream",
     "text": [
      "Warning: No connection between edge '34349785#0' and edge '143962123#1' found.\n",
      "Warning: Mandatory edge '143962123#1' not reachable by vehicle 'h16_3907'.\n",
      "Warning: The vehicle 'h16_3907' has no valid route.\n",
      "Warning: No connection between edge '510193683' and edge '161432888' found.\n",
      "Warning: Mandatory edge '161432888' not reachable by vehicle 'h16_4108'.\n",
      "Warning: The vehicle 'h16_4108' has no valid route.\n",
      "Warning: No connection between edge '462341560' and edge '143962120' found.\n",
      "Warning: Mandatory edge '143962120' not reachable by vehicle 'h16_4292'.\n",
      "Warning: The vehicle 'h16_4292' has no valid route.\n",
      "Warning: No connection between edge '124060635' and edge '375231326#1' found.\n",
      "Warning: Mandatory edge '375231326#1' not reachable by vehicle 'h16_4401'.\n",
      "Warning: The vehicle 'h16_4401' has no valid route.\n"
     ]
    },
    {
     "name": "stdout",
     "output_type": "stream",
     "text": [
      "Reading up to time step: 58801.15\r"
     ]
    },
    {
     "name": "stderr",
     "output_type": "stream",
     "text": [
      "Warning: No connection between edge '925261618' and edge '887925205#1' found.\n",
      "Warning: Mandatory edge '887925205#1' not reachable by vehicle 'h16_4569'.\n",
      "Warning: The vehicle 'h16_4569' has no valid route.\n",
      "Warning: No connection between edge '6311287#1' and edge '767313243' found.\n",
      "Warning: Mandatory edge '767313243' not reachable by vehicle 'h16_4811'.\n",
      "Warning: The vehicle 'h16_4811' has no valid route.\n",
      "Warning: No connection between edge '688357782#0' and edge '125483117#2' found.\n",
      "Warning: Mandatory edge '125483117#2' not reachable by vehicle 'h16_5021'.\n",
      "Warning: The vehicle 'h16_5021' has no valid route.\n"
     ]
    },
    {
     "name": "stdout",
     "output_type": "stream",
     "text": [
      "Reading up to time step: 59001.15\r"
     ]
    },
    {
     "name": "stderr",
     "output_type": "stream",
     "text": [
      "Warning: No connection between edge '161478843' and edge '144160557#0' found.\n",
      "Warning: Mandatory edge '144160557#0' not reachable by vehicle 'h16_5387'.\n",
      "Warning: The vehicle 'h16_5387' has no valid route.\n",
      "Warning: No connection between edge '119782778#6' and edge '367820007' found.\n",
      "Warning: Mandatory edge '367820007' not reachable by vehicle 'h16_17334'.\n",
      "Warning: The vehicle 'h16_17334' has no valid route.\n",
      "Warning: No connection between edge '1238831646' and edge '143962123#1' found.\n",
      "Warning: Mandatory edge '143962123#1' not reachable by vehicle 'h16_6236'.\n",
      "Warning: The vehicle 'h16_6236' has no valid route.\n",
      "Warning: No connection between edge '82113769' and edge '62023730' found.\n",
      "Warning: Mandatory edge '62023730' not reachable by vehicle 'h16_6296'.\n",
      "Warning: The vehicle 'h16_6296' has no valid route.\n"
     ]
    },
    {
     "name": "stdout",
     "output_type": "stream",
     "text": [
      "Reading up to time step: 59201.15\r"
     ]
    },
    {
     "name": "stderr",
     "output_type": "stream",
     "text": [
      "Warning: No connection between edge '150925676' and edge '34934222#2' found.\n",
      "Warning: Mandatory edge '34934222#2' not reachable by vehicle 'h16_7013'.\n",
      "Warning: The vehicle 'h16_7013' has no valid route.\n"
     ]
    },
    {
     "name": "stdout",
     "output_type": "stream",
     "text": [
      "Reading up to time step: 59401.15\r"
     ]
    },
    {
     "name": "stderr",
     "output_type": "stream",
     "text": [
      "Warning: No connection between edge '793930821' and edge '396763809#1' found.\n",
      "Warning: Mandatory edge '396763809#1' not reachable by vehicle 'h16_7292'.\n",
      "Warning: The vehicle 'h16_7292' has no valid route.\n",
      "Warning: No connection between edge '142146285' and edge '144160557#1' found.\n",
      "Warning: Mandatory edge '144160557#1' not reachable by vehicle 'h16_7305'.\n",
      "Warning: The vehicle 'h16_7305' has no valid route.\n",
      "Warning: No connection between edge '945989608#0' and edge '378355994#0' found.\n",
      "Warning: Mandatory edge '378355994#0' not reachable by vehicle 'h16_7363'.\n",
      "Warning: The vehicle 'h16_7363' has no valid route.\n",
      "Warning: No connection between edge '106056769#0' and edge '143962123#0' found.\n",
      "Warning: Mandatory edge '143962123#0' not reachable by vehicle 'h16_7974'.\n",
      "Warning: The vehicle 'h16_7974' has no valid route.\n"
     ]
    },
    {
     "name": "stdout",
     "output_type": "stream",
     "text": [
      "Reading up to time step: 59801.15\r"
     ]
    },
    {
     "name": "stderr",
     "output_type": "stream",
     "text": [
      "Warning: No connection between edge '310295557' and edge '112885002#1' found.\n",
      "Warning: Mandatory edge '112885002#1' not reachable by vehicle 'h16_9074'.\n",
      "Warning: The vehicle 'h16_9074' has no valid route.\n",
      "Warning: No connection between edge '688357782#1' and edge '324012042' found.\n",
      "Warning: Mandatory edge '324012042' not reachable by vehicle 'h16_9213'.\n",
      "Warning: The vehicle 'h16_9213' has no valid route.\n",
      "Warning: No connection between edge '377483225#1' and edge '112885002#0' found.\n",
      "Warning: Mandatory edge '112885002#0' not reachable by vehicle 'h16_18320'.\n",
      "Warning: The vehicle 'h16_18320' has no valid route.\n"
     ]
    },
    {
     "name": "stdout",
     "output_type": "stream",
     "text": [
      "Reading up to time step: 60001.15\r"
     ]
    },
    {
     "name": "stderr",
     "output_type": "stream",
     "text": [
      "Warning: No connection between edge '793930821' and edge '970343205' found.\n",
      "Warning: Mandatory edge '970343205' not reachable by vehicle 'h16_10022'.\n",
      "Warning: The vehicle 'h16_10022' has no valid route.\n",
      "Warning: No connection between edge '81059161' and edge '143962123#1' found.\n",
      "Warning: Mandatory edge '143962123#1' not reachable by vehicle 'h16_10203'.\n",
      "Warning: The vehicle 'h16_10203' has no valid route.\n",
      "Warning: No connection between edge '42413295' and edge '53277471#1' found.\n",
      "Warning: Mandatory edge '53277471#1' not reachable by vehicle 'h16_18143'.\n",
      "Warning: The vehicle 'h16_18143' has no valid route.\n"
     ]
    },
    {
     "name": "stdout",
     "output_type": "stream",
     "text": [
      "Reading up to time step: 60201.15\r"
     ]
    },
    {
     "name": "stderr",
     "output_type": "stream",
     "text": [
      "Warning: No connection between edge '121131438' and edge '188649571' found.\n",
      "Warning: Mandatory edge '188649571' not reachable by vehicle 'h16_10995'.\n",
      "Warning: The vehicle 'h16_10995' has no valid route.\n",
      "Warning: No connection between edge '237036534#2' and edge '144160557#0' found.\n",
      "Warning: Mandatory edge '144160557#0' not reachable by vehicle 'h16_11189'.\n",
      "Warning: The vehicle 'h16_11189' has no valid route.\n"
     ]
    },
    {
     "name": "stdout",
     "output_type": "stream",
     "text": [
      "Reading up to time step: 60401.15\r"
     ]
    },
    {
     "name": "stderr",
     "output_type": "stream",
     "text": [
      "Warning: No connection between edge '284250930#0' and edge '62023740' found.\n",
      "Warning: Mandatory edge '62023740' not reachable by vehicle 'h16_11913'.\n",
      "Warning: The vehicle 'h16_11913' has no valid route.\n",
      "Warning: No connection between edge '82172840' and edge '386307421#0' found.\n",
      "Warning: Mandatory edge '386307421#0' not reachable by vehicle 'h16_12107'.\n",
      "Warning: The vehicle 'h16_12107' has no valid route.\n",
      "Warning: No connection between edge '115544317' and edge '62023740' found.\n",
      "Warning: Mandatory edge '62023740' not reachable by vehicle 'h16_12518'.\n",
      "Warning: The vehicle 'h16_12518' has no valid route.\n",
      "Warning: No connection between edge '208078075' and edge '367820007' found.\n",
      "Warning: Mandatory edge '367820007' not reachable by vehicle 'h16_12866'.\n",
      "Warning: The vehicle 'h16_12866' has no valid route.\n"
     ]
    },
    {
     "name": "stdout",
     "output_type": "stream",
     "text": [
      "Reading up to time step: 60801.15\r"
     ]
    },
    {
     "name": "stderr",
     "output_type": "stream",
     "text": [
      "Warning: No connection between edge '124060635' and edge '166718032' found.\n",
      "Warning: Mandatory edge '166718032' not reachable by vehicle 'h16_13702'.\n",
      "Warning: The vehicle 'h16_13702' has no valid route.\n",
      "Warning: No connection between edge '150925676' and edge '394895438#7' found.\n",
      "Warning: Mandatory edge '394895438#7' not reachable by vehicle 'h16_13748'.\n",
      "Warning: The vehicle 'h16_13748' has no valid route.\n",
      "Warning: No connection between edge '437670365#7' and edge '767313243' found.\n",
      "Warning: Mandatory edge '767313243' not reachable by vehicle 'h16_14078'.\n",
      "Warning: The vehicle 'h16_14078' has no valid route.\n"
     ]
    },
    {
     "name": "stdout",
     "output_type": "stream",
     "text": [
      "Reading up to time step: 61001.15\r"
     ]
    },
    {
     "name": "stderr",
     "output_type": "stream",
     "text": [
      "Warning: No connection between edge '165193636#0' and edge '1060073977' found.\n",
      "Warning: Mandatory edge '1060073977' not reachable by vehicle 'h16_15111'.\n",
      "Warning: The vehicle 'h16_15111' has no valid route.\n",
      "Warning: No connection between edge '187069050#0' and edge '144160557#2' found.\n",
      "Warning: Mandatory edge '144160557#2' not reachable by vehicle 'h16_15354'.\n",
      "Warning: The vehicle 'h16_15354' has no valid route.\n"
     ]
    },
    {
     "name": "stdout",
     "output_type": "stream",
     "text": [
      "Reading up to time step: 61201.15\r"
     ]
    },
    {
     "name": "stderr",
     "output_type": "stream",
     "text": [
      "Warning: No connection between edge '793930821' and edge '839460570#6' found.\n",
      "Warning: Mandatory edge '839460570#6' not reachable by vehicle 'h16_15492'.\n",
      "Warning: The vehicle 'h16_15492' has no valid route.\n",
      "Warning: No connection between edge '222342519#1' and edge '1060073977' found.\n",
      "Warning: Mandatory edge '1060073977' not reachable by vehicle 'h16_15884'.\n",
      "Warning: The vehicle 'h16_15884' has no valid route.\n"
     ]
    },
    {
     "name": "stdout",
     "output_type": "stream",
     "text": [
      "Reading up to time step: 61401.15\r"
     ]
    },
    {
     "name": "stderr",
     "output_type": "stream",
     "text": [
      "Warning: No connection between edge '436215841' and edge '326375783#2' found.\n",
      "Warning: Mandatory edge '326375783#2' not reachable by vehicle 'h17_25595'.\n",
      "Warning: The vehicle 'h17_25595' has no valid route.\n",
      "Warning: No connection between edge '181464200' and edge '143962123#1' found.\n",
      "Warning: Mandatory edge '143962123#1' not reachable by vehicle 'h17_492'.\n",
      "Warning: The vehicle 'h17_492' has no valid route.\n",
      "Warning: No connection between edge '688357782#0' and edge '144252627#1' found.\n",
      "Warning: Mandatory edge '144252627#1' not reachable by vehicle 'h17_1062'.\n",
      "Warning: The vehicle 'h17_1062' has no valid route.\n",
      "Warning: No connection between edge '157628828#3' and edge '62023728#1' found.\n",
      "Warning: Mandatory edge '62023728#1' not reachable by vehicle 'h17_1262'.\n",
      "Warning: The vehicle 'h17_1262' has no valid route.\n"
     ]
    },
    {
     "name": "stdout",
     "output_type": "stream",
     "text": [
      "Reading up to time step: 61601.15\r"
     ]
    },
    {
     "name": "stderr",
     "output_type": "stream",
     "text": [
      "Warning: No connection between edge '688357782#0' and edge '367820004' found.\n",
      "Warning: Mandatory edge '367820004' not reachable by vehicle 'h17_1350'.\n",
      "Warning: The vehicle 'h17_1350' has no valid route.\n",
      "Warning: No connection between edge '588220279#5' and edge '143962123#2' found.\n",
      "Warning: Mandatory edge '143962123#2' not reachable by vehicle 'h17_1389'.\n",
      "Warning: The vehicle 'h17_1389' has no valid route.\n",
      "Warning: No connection between edge '55336715#0' and edge '62023741' found.\n",
      "Warning: Mandatory edge '62023741' not reachable by vehicle 'h17_1459'.\n",
      "Warning: The vehicle 'h17_1459' has no valid route.\n",
      "Warning: No connection between edge '303225593#1' and edge '1115212225' found.\n",
      "Warning: Mandatory edge '1115212225' not reachable by vehicle 'h17_24594'.\n",
      "Warning: The vehicle 'h17_24594' has no valid route.\n",
      "Warning: No connection between edge '156672379#2' and edge '62023728#0' found.\n",
      "Warning: Mandatory edge '62023728#0' not reachable by vehicle 'h17_2515'.\n",
      "Warning: The vehicle 'h17_2515' has no valid route.\n"
     ]
    },
    {
     "name": "stdout",
     "output_type": "stream",
     "text": [
      "Reading up to time step: 61801.15\r"
     ]
    },
    {
     "name": "stderr",
     "output_type": "stream",
     "text": [
      "Warning: No connection between edge '688357782#0' and edge '1312989503#4' found.\n",
      "Warning: Mandatory edge '1312989503#4' not reachable by vehicle 'h17_2989'.\n",
      "Warning: The vehicle 'h17_2989' has no valid route.\n",
      "Warning: No connection between edge '144165013#4' and edge '281308645' found.\n",
      "Warning: Mandatory edge '281308645' not reachable by vehicle 'h17_3384'.\n",
      "Warning: The vehicle 'h17_3384' has no valid route.\n",
      "Warning: No connection between edge '626118726#4' and edge '510193680' found.\n",
      "Warning: Mandatory edge '510193680' not reachable by vehicle 'h17_3426'.\n",
      "Warning: The vehicle 'h17_3426' has no valid route.\n",
      "Warning: No connection between edge '211969737' and edge '112885002#0' found.\n",
      "Warning: Mandatory edge '112885002#0' not reachable by vehicle 'h17_25094'.\n",
      "Warning: The vehicle 'h17_25094' has no valid route.\n",
      "Warning: No connection between edge '198952697' and edge '62023730' found.\n",
      "Warning: Mandatory edge '62023730' not reachable by vehicle 'h17_4331'.\n",
      "Warning: The vehicle 'h17_4331' has no valid route.\n"
     ]
    },
    {
     "name": "stdout",
     "output_type": "stream",
     "text": [
      "Reading up to time step: 62001.15\r"
     ]
    },
    {
     "name": "stderr",
     "output_type": "stream",
     "text": [
      "Warning: No connection between edge '554313130' and edge '143962120' found.\n",
      "Warning: Mandatory edge '143962120' not reachable by vehicle 'h17_4777'.\n",
      "Warning: The vehicle 'h17_4777' has no valid route.\n",
      "Warning: No connection between edge '232780417#5' and edge '510193680' found.\n",
      "Warning: Mandatory edge '510193680' not reachable by vehicle 'h17_4978'.\n",
      "Warning: The vehicle 'h17_4978' has no valid route.\n"
     ]
    },
    {
     "name": "stdout",
     "output_type": "stream",
     "text": [
      "Reading up to time step: 62201.15\r"
     ]
    },
    {
     "name": "stderr",
     "output_type": "stream",
     "text": [
      "Warning: No connection between edge '388890720#0' and edge '143962123#0' found.\n",
      "Warning: Mandatory edge '143962123#0' not reachable by vehicle 'h17_5540'.\n",
      "Warning: The vehicle 'h17_5540' has no valid route.\n",
      "Warning: No connection between edge '319645584' and edge '510193680' found.\n",
      "Warning: Mandatory edge '510193680' not reachable by vehicle 'h17_5915'.\n",
      "Warning: The vehicle 'h17_5915' has no valid route.\n",
      "Warning: No connection between edge '179310866' and edge '767313243' found.\n",
      "Warning: Mandatory edge '767313243' not reachable by vehicle 'h17_6368'.\n",
      "Warning: The vehicle 'h17_6368' has no valid route.\n"
     ]
    },
    {
     "name": "stdout",
     "output_type": "stream",
     "text": [
      "Reading up to time step: 62401.15\r"
     ]
    },
    {
     "name": "stderr",
     "output_type": "stream",
     "text": [
      "Warning: No connection between edge '124060635' and edge '839460570#3' found.\n",
      "Warning: Mandatory edge '839460570#3' not reachable by vehicle 'h17_7339'.\n",
      "Warning: The vehicle 'h17_7339' has no valid route.\n",
      "Warning: No connection between edge '182026735#1' and edge '386307421#0' found.\n",
      "Warning: Mandatory edge '386307421#0' not reachable by vehicle 'h17_7577'.\n",
      "Warning: The vehicle 'h17_7577' has no valid route.\n",
      "Warning: No connection between edge '50345192#1' and edge '367820007' found.\n",
      "Warning: Mandatory edge '367820007' not reachable by vehicle 'h17_7696'.\n",
      "Warning: The vehicle 'h17_7696' has no valid route.\n"
     ]
    },
    {
     "name": "stdout",
     "output_type": "stream",
     "text": [
      "Reading up to time step: 62601.15\r"
     ]
    },
    {
     "name": "stderr",
     "output_type": "stream",
     "text": [
      "Warning: No connection between edge '438575240#1' and edge '767313244' found.\n",
      "Warning: Mandatory edge '767313244' not reachable by vehicle 'h17_7829'.\n",
      "Warning: The vehicle 'h17_7829' has no valid route.\n"
     ]
    },
    {
     "name": "stdout",
     "output_type": "stream",
     "text": [
      "Reading up to time step: 62801.15\r"
     ]
    },
    {
     "name": "stderr",
     "output_type": "stream",
     "text": [
      "Warning: No connection between edge '970343203' and edge '144160557#0' found.\n",
      "Warning: Mandatory edge '144160557#0' not reachable by vehicle 'h17_9258'.\n",
      "Warning: The vehicle 'h17_9258' has no valid route.\n",
      "Warning: No connection between edge '524450504#0' and edge '112885002#1' found.\n",
      "Warning: Mandatory edge '112885002#1' not reachable by vehicle 'h17_9922'.\n",
      "Warning: The vehicle 'h17_9922' has no valid route.\n",
      "Warning: No connection between edge '372049364#2' and edge '386307421#0' found.\n",
      "Warning: Mandatory edge '386307421#0' not reachable by vehicle 'h17_9943'.\n",
      "Warning: The vehicle 'h17_9943' has no valid route.\n",
      "Warning: No connection between edge '53188695#3' and edge '386307421#0' found.\n",
      "Warning: Mandatory edge '386307421#0' not reachable by vehicle 'h17_10212'.\n",
      "Warning: The vehicle 'h17_10212' has no valid route.\n"
     ]
    },
    {
     "name": "stdout",
     "output_type": "stream",
     "text": [
      "Reading up to time step: 63001.15\r"
     ]
    },
    {
     "name": "stderr",
     "output_type": "stream",
     "text": [
      "Warning: No connection between edge '1223256094' and edge '367820004' found.\n",
      "Warning: Mandatory edge '367820004' not reachable by vehicle 'h17_10717'.\n",
      "Warning: The vehicle 'h17_10717' has no valid route.\n",
      "Warning: No connection between edge '109077587' and edge '383076320' found.\n",
      "Warning: Mandatory edge '383076320' not reachable by vehicle 'h17_11277'.\n",
      "Warning: The vehicle 'h17_11277' has no valid route.\n"
     ]
    },
    {
     "name": "stdout",
     "output_type": "stream",
     "text": [
      "Reading up to time step: 63201.15\r"
     ]
    },
    {
     "name": "stderr",
     "output_type": "stream",
     "text": [
      "Warning: No connection between edge '219780143' and edge '144160557#1' found.\n",
      "Warning: Mandatory edge '144160557#1' not reachable by vehicle 'h17_11972'.\n",
      "Warning: The vehicle 'h17_11972' has no valid route.\n",
      "Warning: No connection between edge '36963824#1' and edge '144160557#2' found.\n",
      "Warning: Mandatory edge '144160557#2' not reachable by vehicle 'h17_12257'.\n",
      "Warning: The vehicle 'h17_12257' has no valid route.\n",
      "Warning: No connection between edge '843832445' and edge '767313243' found.\n",
      "Warning: Mandatory edge '767313243' not reachable by vehicle 'h17_12645'.\n",
      "Warning: The vehicle 'h17_12645' has no valid route.\n"
     ]
    },
    {
     "name": "stdout",
     "output_type": "stream",
     "text": [
      "Reading up to time step: 63401.15\r"
     ]
    },
    {
     "name": "stderr",
     "output_type": "stream",
     "text": [
      "Warning: No connection between edge '65725325#1' and edge '144160557#1' found.\n",
      "Warning: Mandatory edge '144160557#1' not reachable by vehicle 'h17_13360'.\n",
      "Warning: The vehicle 'h17_13360' has no valid route.\n",
      "Warning: No connection between edge '115664893#0' and edge '144160557#2' found.\n",
      "Warning: Mandatory edge '144160557#2' not reachable by vehicle 'h17_13647'.\n",
      "Warning: The vehicle 'h17_13647' has no valid route.\n",
      "Warning: No connection between edge '137342752' and edge '383653934#15' found.\n",
      "Warning: Mandatory edge '383653934#15' not reachable by vehicle 'h17_25544'.\n",
      "Warning: The vehicle 'h17_25544' has no valid route.\n"
     ]
    },
    {
     "name": "stdout",
     "output_type": "stream",
     "text": [
      "Reading up to time step: 63601.15\r"
     ]
    },
    {
     "name": "stderr",
     "output_type": "stream",
     "text": [
      "Warning: No connection between edge '136788491#0' and edge '144160557#2' found.\n",
      "Warning: Mandatory edge '144160557#2' not reachable by vehicle 'h17_14350'.\n",
      "Warning: The vehicle 'h17_14350' has no valid route.\n",
      "Warning: No connection between edge '98338703#0' and edge '143962123#2' found.\n",
      "Warning: Mandatory edge '143962123#2' not reachable by vehicle 'h17_14713'.\n",
      "Warning: The vehicle 'h17_14713' has no valid route.\n",
      "Warning: No connection between edge '1331092618#1' and edge '62023730' found.\n",
      "Warning: Mandatory edge '62023730' not reachable by vehicle 'h17_15042'.\n",
      "Warning: The vehicle 'h17_15042' has no valid route.\n",
      "Warning: No connection between edge '793930821' and edge '165883571' found.\n",
      "Warning: Mandatory edge '165883571' not reachable by vehicle 'h17_15297'.\n",
      "Warning: The vehicle 'h17_15297' has no valid route.\n",
      "Warning: No connection between edge '24257025#3' and edge '1060073977' found.\n",
      "Warning: Mandatory edge '1060073977' not reachable by vehicle 'h17_15506'.\n",
      "Warning: The vehicle 'h17_15506' has no valid route.\n"
     ]
    },
    {
     "name": "stdout",
     "output_type": "stream",
     "text": [
      "Reading up to time step: 63801.15\r"
     ]
    },
    {
     "name": "stderr",
     "output_type": "stream",
     "text": [
      "Warning: No connection between edge '99205761#7' and edge '62023740' found.\n",
      "Warning: Mandatory edge '62023740' not reachable by vehicle 'h17_15591'.\n",
      "Warning: The vehicle 'h17_15591' has no valid route.\n",
      "Warning: No connection between edge '547697572' and edge '62023728#1' found.\n",
      "Warning: Mandatory edge '62023728#1' not reachable by vehicle 'h17_15593'.\n",
      "Warning: The vehicle 'h17_15593' has no valid route.\n",
      "Warning: No connection between edge '546582940' and edge '143962123#1' found.\n",
      "Warning: Mandatory edge '143962123#1' not reachable by vehicle 'h17_15860'.\n",
      "Warning: The vehicle 'h17_15860' has no valid route.\n",
      "Warning: No connection between edge '426567834#0' and edge '144160557#2' found.\n",
      "Warning: Mandatory edge '144160557#2' not reachable by vehicle 'h17_16294'.\n",
      "Warning: The vehicle 'h17_16294' has no valid route.\n"
     ]
    },
    {
     "name": "stdout",
     "output_type": "stream",
     "text": [
      "Reading up to time step: 64001.15\r"
     ]
    },
    {
     "name": "stderr",
     "output_type": "stream",
     "text": [
      "Warning: No connection between edge '98338683' and edge '62023730' found.\n",
      "Warning: Mandatory edge '62023730' not reachable by vehicle 'h17_17096'.\n",
      "Warning: The vehicle 'h17_17096' has no valid route.\n",
      "Warning: No connection between edge '445307075#0' and edge '144160557#1' found.\n",
      "Warning: Mandatory edge '144160557#1' not reachable by vehicle 'h17_17308'.\n",
      "Warning: The vehicle 'h17_17308' has no valid route.\n",
      "Warning: No connection between edge '688357782#1' and edge '158426206#1' found.\n",
      "Warning: Mandatory edge '158426206#1' not reachable by vehicle 'h17_17749'.\n",
      "Warning: The vehicle 'h17_17749' has no valid route.\n",
      "Warning: No connection between edge '53212343' and edge '161432888' found.\n",
      "Warning: Mandatory edge '161432888' not reachable by vehicle 'h17_17877'.\n",
      "Warning: The vehicle 'h17_17877' has no valid route.\n"
     ]
    },
    {
     "name": "stdout",
     "output_type": "stream",
     "text": [
      "Reading up to time step: 64201.15\r"
     ]
    },
    {
     "name": "stderr",
     "output_type": "stream",
     "text": [
      "Warning: No connection between edge '239499967#0' and edge '112885002#1' found.\n",
      "Warning: Mandatory edge '112885002#1' not reachable by vehicle 'h17_25563'.\n",
      "Warning: The vehicle 'h17_25563' has no valid route.\n"
     ]
    },
    {
     "name": "stdout",
     "output_type": "stream",
     "text": [
      "Reading up to time step: 64401.15\r"
     ]
    },
    {
     "name": "stderr",
     "output_type": "stream",
     "text": [
      "Warning: No connection between edge '187069050#15' and edge '62023740' found.\n",
      "Warning: Mandatory edge '62023740' not reachable by vehicle 'h17_19426'.\n",
      "Warning: The vehicle 'h17_19426' has no valid route.\n",
      "Warning: No connection between edge '132429598' and edge '62023730' found.\n",
      "Warning: Mandatory edge '62023730' not reachable by vehicle 'h17_20051'.\n",
      "Warning: The vehicle 'h17_20051' has no valid route.\n"
     ]
    },
    {
     "name": "stdout",
     "output_type": "stream",
     "text": [
      "Reading up to time step: 64601.15\r"
     ]
    },
    {
     "name": "stderr",
     "output_type": "stream",
     "text": [
      "Warning: No connection between edge '688357782#1' and edge '162141576#0' found.\n",
      "Warning: Mandatory edge '162141576#0' not reachable by vehicle 'h17_23382'.\n",
      "Warning: The vehicle 'h17_23382' has no valid route.\n",
      "Warning: No connection between edge '194679025' and edge '144160557#1' found.\n",
      "Warning: Mandatory edge '144160557#1' not reachable by vehicle 'h17_20750'.\n",
      "Warning: The vehicle 'h17_20750' has no valid route.\n",
      "Warning: No connection between edge '304111065#1' and edge '144160557#0' found.\n",
      "Warning: Mandatory edge '144160557#0' not reachable by vehicle 'h17_21415'.\n",
      "Warning: The vehicle 'h17_21415' has no valid route.\n",
      "Warning: No connection between edge '187069050#11' and edge '112885002#0' found.\n",
      "Warning: Mandatory edge '112885002#0' not reachable by vehicle 'h17_21503'.\n",
      "Warning: The vehicle 'h17_21503' has no valid route.\n",
      "Warning: No connection between edge '169726480#2' and edge '383076320' found.\n",
      "Warning: Mandatory edge '383076320' not reachable by vehicle 'h17_21506'.\n",
      "Warning: The vehicle 'h17_21506' has no valid route.\n",
      "Warning: No connection between edge '88760040#2' and edge '62023740' found.\n",
      "Warning: Mandatory edge '62023740' not reachable by vehicle 'h17_21549'.\n",
      "Warning: The vehicle 'h17_21549' has no valid route.\n",
      "Warning: No connection between edge '782068740#2' and edge '143962123#0' found.\n",
      "Warning: Mandatory edge '143962123#0' not reachable by vehicle 'h17_22014'.\n",
      "Warning: The vehicle 'h17_22014' has no valid route.\n"
     ]
    },
    {
     "name": "stdout",
     "output_type": "stream",
     "text": [
      "Reading up to time step: 64801.15\r"
     ]
    },
    {
     "name": "stderr",
     "output_type": "stream",
     "text": [
      "Warning: No connection between edge '942348115' and edge '188649571' found.\n",
      "Warning: Mandatory edge '188649571' not reachable by vehicle 'h17_22880'.\n",
      "Warning: The vehicle 'h17_22880' has no valid route.\n"
     ]
    },
    {
     "name": "stdout",
     "output_type": "stream",
     "text": [
      "Reading up to time step: 65001.15\r"
     ]
    },
    {
     "name": "stderr",
     "output_type": "stream",
     "text": [
      "Warning: No connection between edge '870669229#5' and edge '62023730' found.\n",
      "Warning: Mandatory edge '62023730' not reachable by vehicle 'h18_26520'.\n",
      "Warning: The vehicle 'h18_26520' has no valid route.\n",
      "Warning: No connection between edge '65611560#1' and edge '62023728#0' found.\n",
      "Warning: Mandatory edge '62023728#0' not reachable by vehicle 'h18_579'.\n",
      "Warning: The vehicle 'h18_579' has no valid route.\n",
      "Warning: No connection between edge '1256881721' and edge '62023728#0' found.\n",
      "Warning: Mandatory edge '62023728#0' not reachable by vehicle 'h18_1049'.\n",
      "Warning: The vehicle 'h18_1049' has no valid route.\n",
      "Warning: No connection between edge '30344464#0' and edge '767313243' found.\n",
      "Warning: Mandatory edge '767313243' not reachable by vehicle 'h18_1268'.\n",
      "Warning: The vehicle 'h18_1268' has no valid route.\n"
     ]
    },
    {
     "name": "stdout",
     "output_type": "stream",
     "text": [
      "Reading up to time step: 65401.15\r"
     ]
    },
    {
     "name": "stderr",
     "output_type": "stream",
     "text": [
      "Warning: No connection between edge '886635292' and edge '767313244' found.\n",
      "Warning: Mandatory edge '767313244' not reachable by vehicle 'h18_2981'.\n",
      "Warning: The vehicle 'h18_2981' has no valid route.\n",
      "Warning: No connection between edge '688357782#1' and edge '90687644' found.\n",
      "Warning: Mandatory edge '90687644' not reachable by vehicle 'h18_3215'.\n",
      "Warning: The vehicle 'h18_3215' has no valid route.\n",
      "Warning: No connection between edge '40931837' and edge '378355994#2' found.\n",
      "Warning: Mandatory edge '378355994#2' not reachable by vehicle 'h18_3464'.\n",
      "Warning: The vehicle 'h18_3464' has no valid route.\n",
      "Warning: No connection between edge '741912476' and edge '143962120' found.\n",
      "Warning: Mandatory edge '143962120' not reachable by vehicle 'h18_3561'.\n",
      "Warning: The vehicle 'h18_3561' has no valid route.\n",
      "Warning: No connection between edge '47001618#1' and edge '367820007' found.\n",
      "Warning: Mandatory edge '367820007' not reachable by vehicle 'h18_3950'.\n",
      "Warning: The vehicle 'h18_3950' has no valid route.\n",
      "Warning: No connection between edge '24967727#6' and edge '188649571' found.\n",
      "Warning: Mandatory edge '188649571' not reachable by vehicle 'h18_3980'.\n",
      "Warning: The vehicle 'h18_3980' has no valid route.\n",
      "Warning: No connection between edge '156862603#7' and edge '144160557#2' found.\n",
      "Warning: Mandatory edge '144160557#2' not reachable by vehicle 'h18_4026'.\n",
      "Warning: The vehicle 'h18_4026' has no valid route.\n",
      "Warning: No connection between edge '463245981' and edge '161432888' found.\n",
      "Warning: Mandatory edge '161432888' not reachable by vehicle 'h18_4046'.\n",
      "Warning: The vehicle 'h18_4046' has no valid route.\n"
     ]
    },
    {
     "name": "stdout",
     "output_type": "stream",
     "text": [
      "Reading up to time step: 65601.15\r"
     ]
    },
    {
     "name": "stderr",
     "output_type": "stream",
     "text": [
      "Warning: No connection between edge '143615334' and edge '378355994#2' found.\n",
      "Warning: Mandatory edge '378355994#2' not reachable by vehicle 'h18_4789'.\n",
      "Warning: The vehicle 'h18_4789' has no valid route.\n",
      "Warning: No connection between edge '688357782#1' and edge '82285300#1' found.\n",
      "Warning: Mandatory edge '82285300#1' not reachable by vehicle 'h18_4982'.\n",
      "Warning: The vehicle 'h18_4982' has no valid route.\n",
      "Warning: No connection between edge '74359741#0' and edge '188649571' found.\n",
      "Warning: Mandatory edge '188649571' not reachable by vehicle 'h18_5705'.\n",
      "Warning: The vehicle 'h18_5705' has no valid route.\n"
     ]
    },
    {
     "name": "stdout",
     "output_type": "stream",
     "text": [
      "Reading up to time step: 65801.15\r"
     ]
    },
    {
     "name": "stderr",
     "output_type": "stream",
     "text": [
      "Warning: No connection between edge '383294932#0' and edge '367820004' found.\n",
      "Warning: Mandatory edge '367820004' not reachable by vehicle 'h18_6354'.\n",
      "Warning: The vehicle 'h18_6354' has no valid route.\n",
      "Warning: No connection between edge '383247624' and edge '62023728#0' found.\n",
      "Warning: Mandatory edge '62023728#0' not reachable by vehicle 'h18_6559'.\n",
      "Warning: The vehicle 'h18_6559' has no valid route.\n",
      "Warning: No connection between edge '921719302' and edge '767313244' found.\n",
      "Warning: Mandatory edge '767313244' not reachable by vehicle 'h18_6580'.\n",
      "Warning: The vehicle 'h18_6580' has no valid route.\n"
     ]
    },
    {
     "name": "stdout",
     "output_type": "stream",
     "text": [
      "Reading up to time step: 66001.15\r"
     ]
    },
    {
     "name": "stderr",
     "output_type": "stream",
     "text": [
      "Warning: No connection between edge '759179144#3' and edge '144160557#2' found.\n",
      "Warning: Mandatory edge '144160557#2' not reachable by vehicle 'h18_6792'.\n",
      "Warning: The vehicle 'h18_6792' has no valid route.\n"
     ]
    },
    {
     "name": "stdout",
     "output_type": "stream",
     "text": [
      "Reading up to time step: 66201.15\r"
     ]
    },
    {
     "name": "stderr",
     "output_type": "stream",
     "text": [
      "Warning: No connection between edge '53208756#0' and edge '112885002#0' found.\n",
      "Warning: Mandatory edge '112885002#0' not reachable by vehicle 'h18_8293'.\n",
      "Warning: The vehicle 'h18_8293' has no valid route.\n",
      "Warning: No connection between edge '30129956#1' and edge '46997905#1' found.\n",
      "Warning: Mandatory edge '46997905#1' not reachable by vehicle 'h18_27259'.\n",
      "Warning: The vehicle 'h18_27259' has no valid route.\n",
      "Warning: No connection between edge '81101927' and edge '144160557#2' found.\n",
      "Warning: Mandatory edge '144160557#2' not reachable by vehicle 'h18_8945'.\n",
      "Warning: The vehicle 'h18_8945' has no valid route.\n",
      "Warning: No connection between edge '925261618' and edge '46962497#0' found.\n",
      "Warning: Mandatory edge '46962497#0' not reachable by vehicle 'h18_9483'.\n",
      "Warning: The vehicle 'h18_9483' has no valid route.\n"
     ]
    },
    {
     "name": "stdout",
     "output_type": "stream",
     "text": [
      "Reading up to time step: 66401.15\r"
     ]
    },
    {
     "name": "stderr",
     "output_type": "stream",
     "text": [
      "Warning: No connection between edge '341899123' and edge '1155222630' found.\n",
      "Warning: Mandatory edge '1155222630' not reachable by vehicle 'h18_24978'.\n",
      "Warning: The vehicle 'h18_24978' has no valid route.\n",
      "Warning: No connection between edge '124060635' and edge '114972065#1' found.\n",
      "Warning: Mandatory edge '114972065#1' not reachable by vehicle 'h18_10245'.\n",
      "Warning: The vehicle 'h18_10245' has no valid route.\n"
     ]
    },
    {
     "name": "stdout",
     "output_type": "stream",
     "text": [
      "Reading up to time step: 66601.15\r"
     ]
    },
    {
     "name": "stderr",
     "output_type": "stream",
     "text": [
      "Warning: No connection between edge '24257759' and edge '767313244' found.\n",
      "Warning: Mandatory edge '767313244' not reachable by vehicle 'h18_10995'.\n",
      "Warning: The vehicle 'h18_10995' has no valid route.\n",
      "Warning: No connection between edge '150925676' and edge '159245820#0' found.\n",
      "Warning: Mandatory edge '159245820#0' not reachable by vehicle 'h18_11667'.\n",
      "Warning: The vehicle 'h18_11667' has no valid route.\n",
      "Warning: No connection between edge '310226654' and edge '143962123#0' found.\n",
      "Warning: Mandatory edge '143962123#0' not reachable by vehicle 'h18_11906'.\n",
      "Warning: The vehicle 'h18_11906' has no valid route.\n",
      "Warning: No connection between edge '39464199' and edge '1060073977' found.\n",
      "Warning: Mandatory edge '1060073977' not reachable by vehicle 'h18_12915'.\n",
      "Warning: The vehicle 'h18_12915' has no valid route.\n"
     ]
    },
    {
     "name": "stdout",
     "output_type": "stream",
     "text": [
      "Reading up to time step: 66801.15\r"
     ]
    },
    {
     "name": "stderr",
     "output_type": "stream",
     "text": [
      "Warning: No connection between edge '688357782#1' and edge '436967712' found.\n",
      "Warning: Mandatory edge '436967712' not reachable by vehicle 'h18_13179'.\n",
      "Warning: The vehicle 'h18_13179' has no valid route.\n",
      "Warning: No connection between edge '152177124' and edge '378355994#1' found.\n",
      "Warning: Mandatory edge '378355994#1' not reachable by vehicle 'h18_14061'.\n",
      "Warning: The vehicle 'h18_14061' has no valid route.\n"
     ]
    },
    {
     "name": "stdout",
     "output_type": "stream",
     "text": [
      "Reading up to time step: 67001.15\r"
     ]
    },
    {
     "name": "stderr",
     "output_type": "stream",
     "text": [
      "Warning: No connection between edge '434920049#0' and edge '62023741' found.\n",
      "Warning: Mandatory edge '62023741' not reachable by vehicle 'h18_14080'.\n",
      "Warning: The vehicle 'h18_14080' has no valid route.\n",
      "Warning: No connection between edge '124060635' and edge '159082456#3' found.\n",
      "Warning: Mandatory edge '159082456#3' not reachable by vehicle 'h18_14110'.\n",
      "Warning: The vehicle 'h18_14110' has no valid route.\n",
      "Warning: No connection between edge '191697012#0' and edge '62023728#1' found.\n",
      "Warning: Mandatory edge '62023728#1' not reachable by vehicle 'h18_14661'.\n",
      "Warning: The vehicle 'h18_14661' has no valid route.\n",
      "Warning: No connection between edge '793930821' and edge '53331563#0' found.\n",
      "Warning: Mandatory edge '53331563#0' not reachable by vehicle 'h18_14678'.\n",
      "Warning: The vehicle 'h18_14678' has no valid route.\n",
      "Warning: No connection between edge '793930821' and edge '161048981#0' found.\n",
      "Warning: Mandatory edge '161048981#0' not reachable by vehicle 'h18_14689'.\n",
      "Warning: The vehicle 'h18_14689' has no valid route.\n",
      "Warning: No connection between edge '185992840' and edge '143962120' found.\n",
      "Warning: Mandatory edge '143962120' not reachable by vehicle 'h18_15250'.\n",
      "Warning: The vehicle 'h18_15250' has no valid route.\n"
     ]
    },
    {
     "name": "stdout",
     "output_type": "stream",
     "text": [
      "Reading up to time step: 67201.15\r"
     ]
    },
    {
     "name": "stderr",
     "output_type": "stream",
     "text": [
      "Warning: No connection between edge '1223256095' and edge '767313243' found.\n",
      "Warning: Mandatory edge '767313243' not reachable by vehicle 'h18_15905'.\n",
      "Warning: The vehicle 'h18_15905' has no valid route.\n",
      "Warning: No connection between edge '27866165#1' and edge '386307421#0' found.\n",
      "Warning: Mandatory edge '386307421#0' not reachable by vehicle 'h18_16134'.\n",
      "Warning: The vehicle 'h18_16134' has no valid route.\n",
      "Warning: No connection between edge '283803196' and edge '767313243' found.\n",
      "Warning: Mandatory edge '767313243' not reachable by vehicle 'h18_16195'.\n",
      "Warning: The vehicle 'h18_16195' has no valid route.\n"
     ]
    },
    {
     "name": "stdout",
     "output_type": "stream",
     "text": [
      "Reading up to time step: 67401.15\r"
     ]
    },
    {
     "name": "stderr",
     "output_type": "stream",
     "text": [
      "Warning: No connection between edge '142366416#2' and edge '143962123#2' found.\n",
      "Warning: Mandatory edge '143962123#2' not reachable by vehicle 'h18_16645'.\n",
      "Warning: The vehicle 'h18_16645' has no valid route.\n",
      "Warning: No connection between edge '142240359#4' and edge '378355994#2' found.\n",
      "Warning: Mandatory edge '378355994#2' not reachable by vehicle 'h18_16803'.\n",
      "Warning: The vehicle 'h18_16803' has no valid route.\n",
      "Warning: No connection between edge '1037527487' and edge '144160557#0' found.\n",
      "Warning: Mandatory edge '144160557#0' not reachable by vehicle 'h18_16805'.\n",
      "Warning: The vehicle 'h18_16805' has no valid route.\n",
      "Warning: No connection between edge '683742974#1' and edge '144160557#2' found.\n",
      "Warning: Mandatory edge '144160557#2' not reachable by vehicle 'h18_17050'.\n",
      "Warning: The vehicle 'h18_17050' has no valid route.\n",
      "Warning: No connection between edge '688357782#0' and edge '550606953' found.\n",
      "Warning: Mandatory edge '550606953' not reachable by vehicle 'h18_17240'.\n",
      "Warning: The vehicle 'h18_17240' has no valid route.\n",
      "Warning: No connection between edge '30129956#1' and edge '74128324' found.\n",
      "Warning: Mandatory edge '74128324' not reachable by vehicle 'h18_27433'.\n",
      "Warning: The vehicle 'h18_27433' has no valid route.\n"
     ]
    },
    {
     "name": "stdout",
     "output_type": "stream",
     "text": [
      "Reading up to time step: 67601.15\r"
     ]
    },
    {
     "name": "stderr",
     "output_type": "stream",
     "text": [
      "Warning: No connection between edge '683976845' and edge '217565512#2' found.\n",
      "Warning: Mandatory edge '217565512#2' not reachable by vehicle 'h18_26374'.\n",
      "Warning: The vehicle 'h18_26374' has no valid route.\n",
      "Warning: No connection between edge '53256215#0' and edge '62023728#1' found.\n",
      "Warning: Mandatory edge '62023728#1' not reachable by vehicle 'h18_17700'.\n",
      "Warning: The vehicle 'h18_17700' has no valid route.\n",
      "Warning: No connection between edge '141815671#2' and edge '62023741' found.\n",
      "Warning: Mandatory edge '62023741' not reachable by vehicle 'h18_18337'.\n",
      "Warning: The vehicle 'h18_18337' has no valid route.\n",
      "Warning: No connection between edge '366469489#2' and edge '378355994#0' found.\n",
      "Warning: Mandatory edge '378355994#0' not reachable by vehicle 'h18_18421'.\n",
      "Warning: The vehicle 'h18_18421' has no valid route.\n",
      "Warning: No connection between edge '65006152#3' and edge '367820007' found.\n",
      "Warning: Mandatory edge '367820007' not reachable by vehicle 'h18_19378'.\n",
      "Warning: The vehicle 'h18_19378' has no valid route.\n"
     ]
    },
    {
     "name": "stdout",
     "output_type": "stream",
     "text": [
      "Reading up to time step: 67801.15\r"
     ]
    },
    {
     "name": "stderr",
     "output_type": "stream",
     "text": [
      "Warning: No connection between edge '251782414' and edge '62023740' found.\n",
      "Warning: Mandatory edge '62023740' not reachable by vehicle 'h18_26841'.\n",
      "Warning: The vehicle 'h18_26841' has no valid route.\n",
      "Warning: No connection between edge '157616857' and edge '112885002#0' found.\n",
      "Warning: Mandatory edge '112885002#0' not reachable by vehicle 'h18_20571'.\n",
      "Warning: The vehicle 'h18_20571' has no valid route.\n"
     ]
    },
    {
     "name": "stdout",
     "output_type": "stream",
     "text": [
      "Reading up to time step: 68001.15\r"
     ]
    },
    {
     "name": "stderr",
     "output_type": "stream",
     "text": [
      "Warning: No connection between edge '132429570' and edge '767313243' found.\n",
      "Warning: Mandatory edge '767313243' not reachable by vehicle 'h18_20699'.\n",
      "Warning: The vehicle 'h18_20699' has no valid route.\n",
      "Warning: No connection between edge '978973126#3' and edge '188649571' found.\n",
      "Warning: Mandatory edge '188649571' not reachable by vehicle 'h18_21116'.\n",
      "Warning: The vehicle 'h18_21116' has no valid route.\n",
      "Warning: No connection between edge '688357782#1' and edge '336857900#1' found.\n",
      "Warning: Mandatory edge '336857900#1' not reachable by vehicle 'h18_21177'.\n",
      "Warning: The vehicle 'h18_21177' has no valid route.\n",
      "Warning: No connection between edge '70186982' and edge '378355994#2' found.\n",
      "Warning: Mandatory edge '378355994#2' not reachable by vehicle 'h18_21535'.\n",
      "Warning: The vehicle 'h18_21535' has no valid route.\n"
     ]
    },
    {
     "name": "stdout",
     "output_type": "stream",
     "text": [
      "Reading up to time step: 68201.15\r"
     ]
    },
    {
     "name": "stderr",
     "output_type": "stream",
     "text": [
      "Warning: No connection between edge '46988957' and edge '767313243' found.\n",
      "Warning: Mandatory edge '767313243' not reachable by vehicle 'h18_21682'.\n",
      "Warning: The vehicle 'h18_21682' has no valid route.\n",
      "Warning: No connection between edge '150925676' and edge '28087158#1' found.\n",
      "Warning: Mandatory edge '28087158#1' not reachable by vehicle 'h18_25373'.\n",
      "Warning: The vehicle 'h18_25373' has no valid route.\n",
      "Warning: No connection between edge '124060635' and edge '49039552#2' found.\n",
      "Warning: Mandatory edge '49039552#2' not reachable by vehicle 'h18_22009'.\n",
      "Warning: The vehicle 'h18_22009' has no valid route.\n",
      "Warning: No connection between edge '549398371#1' and edge '767313244' found.\n",
      "Warning: Mandatory edge '767313244' not reachable by vehicle 'h18_22090'.\n",
      "Warning: The vehicle 'h18_22090' has no valid route.\n",
      "Warning: No connection between edge '40933723#1' and edge '62023741' found.\n",
      "Warning: Mandatory edge '62023741' not reachable by vehicle 'h18_22258'.\n",
      "Warning: The vehicle 'h18_22258' has no valid route.\n",
      "Warning: No connection between edge '40932543' and edge '386307421#1' found.\n",
      "Warning: Mandatory edge '386307421#1' not reachable by vehicle 'h18_22294'.\n",
      "Warning: The vehicle 'h18_22294' has no valid route.\n",
      "Warning: No connection between edge '47000202#0' and edge '62023728#0' found.\n",
      "Warning: Mandatory edge '62023728#0' not reachable by vehicle 'h18_22444'.\n",
      "Warning: The vehicle 'h18_22444' has no valid route.\n",
      "Warning: No connection between edge '387419961#1' and edge '143962120' found.\n",
      "Warning: Mandatory edge '143962120' not reachable by vehicle 'h18_22506'.\n",
      "Warning: The vehicle 'h18_22506' has no valid route.\n",
      "Warning: No connection between edge '39791925#14' and edge '378355994#1' found.\n",
      "Warning: Mandatory edge '378355994#1' not reachable by vehicle 'h18_22904'.\n",
      "Warning: The vehicle 'h18_22904' has no valid route.\n",
      "Warning: No connection between edge '1133879966#1' and edge '281308645' found.\n",
      "Warning: Mandatory edge '281308645' not reachable by vehicle 'h18_23037'.\n",
      "Warning: The vehicle 'h18_23037' has no valid route.\n"
     ]
    },
    {
     "name": "stdout",
     "output_type": "stream",
     "text": [
      "Reading up to time step: 68401.15\r"
     ]
    },
    {
     "name": "stderr",
     "output_type": "stream",
     "text": [
      "Warning: No connection between edge '72056554#0' and edge '767313243' found.\n",
      "Warning: Mandatory edge '767313243' not reachable by vehicle 'h18_23615'.\n",
      "Warning: The vehicle 'h18_23615' has no valid route.\n",
      "Warning: No connection between edge '774661292#5' and edge '367820004' found.\n",
      "Warning: Mandatory edge '367820004' not reachable by vehicle 'h18_26903'.\n",
      "Warning: The vehicle 'h18_26903' has no valid route.\n",
      "Warning: No connection between edge '34934806#1' and edge '112885002#0' found.\n",
      "Warning: Mandatory edge '112885002#0' not reachable by vehicle 'h19_109'.\n",
      "Warning: The vehicle 'h19_109' has no valid route.\n"
     ]
    },
    {
     "name": "stdout",
     "output_type": "stream",
     "text": [
      "Reading up to time step: 68601.15\r"
     ]
    },
    {
     "name": "stderr",
     "output_type": "stream",
     "text": [
      "Warning: No connection between edge '165280714#1' and edge '1060073977' found.\n",
      "Warning: Mandatory edge '1060073977' not reachable by vehicle 'h19_331'.\n",
      "Warning: The vehicle 'h19_331' has no valid route.\n",
      "Warning: No connection between edge '377754206#0' and edge '62023730' found.\n",
      "Warning: Mandatory edge '62023730' not reachable by vehicle 'h19_376'.\n",
      "Warning: The vehicle 'h19_376' has no valid route.\n",
      "Warning: No connection between edge '53189095' and edge '378355994#0' found.\n",
      "Warning: Mandatory edge '378355994#0' not reachable by vehicle 'h19_651'.\n",
      "Warning: The vehicle 'h19_651' has no valid route.\n",
      "Warning: No connection between edge '170367355' and edge '378355994#1' found.\n",
      "Warning: Mandatory edge '378355994#1' not reachable by vehicle 'h19_937'.\n",
      "Warning: The vehicle 'h19_937' has no valid route.\n"
     ]
    },
    {
     "name": "stdout",
     "output_type": "stream",
     "text": [
      "Reading up to time step: 68801.15\r"
     ]
    },
    {
     "name": "stderr",
     "output_type": "stream",
     "text": [
      "Warning: No connection between edge '161387529' and edge '378355994#0' found.\n",
      "Warning: Mandatory edge '378355994#0' not reachable by vehicle 'h19_1486'.\n",
      "Warning: The vehicle 'h19_1486' has no valid route.\n"
     ]
    },
    {
     "name": "stdout",
     "output_type": "stream",
     "text": [
      "Reading up to time step: 69001.15\r"
     ]
    },
    {
     "name": "stderr",
     "output_type": "stream",
     "text": [
      "Warning: No connection between edge '124060635' and edge '430089020' found.\n",
      "Warning: Mandatory edge '430089020' not reachable by vehicle 'h19_2558'.\n",
      "Warning: The vehicle 'h19_2558' has no valid route.\n",
      "Warning: No connection between edge '303225593#0' and edge '267200070#0' found.\n",
      "Warning: Mandatory edge '267200070#0' not reachable by vehicle 'h19_18609'.\n",
      "Warning: The vehicle 'h19_18609' has no valid route.\n",
      "Warning: No connection between edge '53839125#0' and edge '62023728#0' found.\n",
      "Warning: Mandatory edge '62023728#0' not reachable by vehicle 'h19_3383'.\n",
      "Warning: The vehicle 'h19_3383' has no valid route.\n"
     ]
    },
    {
     "name": "stdout",
     "output_type": "stream",
     "text": [
      "Reading up to time step: 69201.15\r"
     ]
    },
    {
     "name": "stderr",
     "output_type": "stream",
     "text": [
      "Warning: No connection between edge '793930821' and edge '666905897#6' found.\n",
      "Warning: Mandatory edge '666905897#6' not reachable by vehicle 'h19_3402'.\n",
      "Warning: The vehicle 'h19_3402' has no valid route.\n",
      "Warning: No connection between edge '82285300#3' and edge '1060073977' found.\n",
      "Warning: Mandatory edge '1060073977' not reachable by vehicle 'h19_3700'.\n",
      "Warning: The vehicle 'h19_3700' has no valid route.\n"
     ]
    },
    {
     "name": "stdout",
     "output_type": "stream",
     "text": [
      "Reading up to time step: 69401.15\r"
     ]
    },
    {
     "name": "stderr",
     "output_type": "stream",
     "text": [
      "Warning: No connection between edge '793930821' and edge '206743295#2' found.\n",
      "Warning: Mandatory edge '206743295#2' not reachable by vehicle 'h19_3921'.\n",
      "Warning: The vehicle 'h19_3921' has no valid route.\n",
      "Warning: No connection between edge '150925676' and edge '395832192#1' found.\n",
      "Warning: Mandatory edge '395832192#1' not reachable by vehicle 'h19_4393'.\n",
      "Warning: The vehicle 'h19_4393' has no valid route.\n",
      "Warning: No connection between edge '53513815#1' and edge '144160557#0' found.\n",
      "Warning: Mandatory edge '144160557#0' not reachable by vehicle 'h19_4397'.\n",
      "Warning: The vehicle 'h19_4397' has no valid route.\n"
     ]
    },
    {
     "name": "stdout",
     "output_type": "stream",
     "text": [
      "Reading up to time step: 69601.15\r"
     ]
    },
    {
     "name": "stderr",
     "output_type": "stream",
     "text": [
      "Warning: No connection between edge '815663950#5' and edge '143962120' found.\n",
      "Warning: Mandatory edge '143962120' not reachable by vehicle 'h19_5386'.\n",
      "Warning: The vehicle 'h19_5386' has no valid route.\n",
      "Warning: No connection between edge '543452527#0' and edge '144160557#1' found.\n",
      "Warning: Mandatory edge '144160557#1' not reachable by vehicle 'h19_5642'.\n",
      "Warning: The vehicle 'h19_5642' has no valid route.\n",
      "Warning: No connection between edge '146727226#12' and edge '767313243' found.\n",
      "Warning: Mandatory edge '767313243' not reachable by vehicle 'h19_5673'.\n",
      "Warning: The vehicle 'h19_5673' has no valid route.\n",
      "Warning: No connection between edge '743115052' and edge '378355994#2' found.\n",
      "Warning: Mandatory edge '378355994#2' not reachable by vehicle 'h19_5767'.\n",
      "Warning: The vehicle 'h19_5767' has no valid route.\n"
     ]
    },
    {
     "name": "stdout",
     "output_type": "stream",
     "text": [
      "Reading up to time step: 69801.15\r"
     ]
    },
    {
     "name": "stderr",
     "output_type": "stream",
     "text": [
      "Warning: No connection between edge '886635291' and edge '188649571' found.\n",
      "Warning: Mandatory edge '188649571' not reachable by vehicle 'h19_5948'.\n",
      "Warning: The vehicle 'h19_5948' has no valid route.\n",
      "Warning: No connection between edge '113578829#0' and edge '62023728#1' found.\n",
      "Warning: Mandatory edge '62023728#1' not reachable by vehicle 'h19_6013'.\n",
      "Warning: The vehicle 'h19_6013' has no valid route.\n",
      "Warning: No connection between edge '150925676' and edge '53838569#1' found.\n",
      "Warning: Mandatory edge '53838569#1' not reachable by vehicle 'h19_6151'.\n",
      "Warning: The vehicle 'h19_6151' has no valid route.\n",
      "Warning: No connection between edge '231391930#1' and edge '378355994#0' found.\n",
      "Warning: Mandatory edge '378355994#0' not reachable by vehicle 'h19_6279'.\n",
      "Warning: The vehicle 'h19_6279' has no valid route.\n",
      "Warning: No connection between edge '555638674' and edge '144160557#0' found.\n",
      "Warning: Mandatory edge '144160557#0' not reachable by vehicle 'h19_6521'.\n",
      "Warning: The vehicle 'h19_6521' has no valid route.\n",
      "Warning: No connection between edge '793930821' and edge '49895894#0' found.\n",
      "Warning: Mandatory edge '49895894#0' not reachable by vehicle 'h19_6688'.\n",
      "Warning: The vehicle 'h19_6688' has no valid route.\n"
     ]
    },
    {
     "name": "stdout",
     "output_type": "stream",
     "text": [
      "Reading up to time step: 70001.15\r"
     ]
    },
    {
     "name": "stderr",
     "output_type": "stream",
     "text": [
      "Warning: No connection between edge '96719519#1' and edge '281308645' found.\n",
      "Warning: Mandatory edge '281308645' not reachable by vehicle 'h19_6975'.\n",
      "Warning: The vehicle 'h19_6975' has no valid route.\n",
      "Warning: No connection between edge '657254349' and edge '112885002#0' found.\n",
      "Warning: Mandatory edge '112885002#0' not reachable by vehicle 'h19_18701'.\n",
      "Warning: The vehicle 'h19_18701' has no valid route.\n",
      "Warning: No connection between edge '37791874#2' and edge '112885002#0' found.\n",
      "Warning: Mandatory edge '112885002#0' not reachable by vehicle 'h19_7283'.\n",
      "Warning: The vehicle 'h19_7283' has no valid route.\n"
     ]
    },
    {
     "name": "stdout",
     "output_type": "stream",
     "text": [
      "Reading up to time step: 70201.15\r"
     ]
    },
    {
     "name": "stderr",
     "output_type": "stream",
     "text": [
      "Warning: No connection between edge '368022013#1' and edge '62023741' found.\n",
      "Warning: Mandatory edge '62023741' not reachable by vehicle 'h19_7948'.\n",
      "Warning: The vehicle 'h19_7948' has no valid route.\n",
      "Warning: No connection between edge '925261618' and edge '132333633#4' found.\n",
      "Warning: Mandatory edge '132333633#4' not reachable by vehicle 'h19_8218'.\n",
      "Warning: The vehicle 'h19_8218' has no valid route.\n",
      "Warning: No connection between edge '1209032392' and edge '386307421#1' found.\n",
      "Warning: Mandatory edge '386307421#1' not reachable by vehicle 'h19_8478'.\n",
      "Warning: The vehicle 'h19_8478' has no valid route.\n"
     ]
    },
    {
     "name": "stdout",
     "output_type": "stream",
     "text": [
      "Reading up to time step: 70401.15\r"
     ]
    },
    {
     "name": "stderr",
     "output_type": "stream",
     "text": [
      "Warning: No connection between edge '53788976' and edge '767313243' found.\n",
      "Warning: Mandatory edge '767313243' not reachable by vehicle 'h19_9319'.\n",
      "Warning: The vehicle 'h19_9319' has no valid route.\n",
      "Warning: No connection between edge '688357782#0' and edge '189876384#2' found.\n",
      "Warning: Mandatory edge '189876384#2' not reachable by vehicle 'h19_9528'.\n",
      "Warning: The vehicle 'h19_9528' has no valid route.\n",
      "Warning: No connection between edge '3625541#2' and edge '143962123#2' found.\n",
      "Warning: Mandatory edge '143962123#2' not reachable by vehicle 'h19_9584'.\n",
      "Warning: The vehicle 'h19_9584' has no valid route.\n",
      "Warning: No connection between edge '684411594' and edge '767313244' found.\n",
      "Warning: Mandatory edge '767313244' not reachable by vehicle 'h19_10077'.\n",
      "Warning: The vehicle 'h19_10077' has no valid route.\n"
     ]
    },
    {
     "name": "stdout",
     "output_type": "stream",
     "text": [
      "Reading up to time step: 70601.15\r"
     ]
    },
    {
     "name": "stderr",
     "output_type": "stream",
     "text": [
      "Warning: No connection between edge '365677373#0' and edge '144160557#0' found.\n",
      "Warning: Mandatory edge '144160557#0' not reachable by vehicle 'h19_10329'.\n",
      "Warning: The vehicle 'h19_10329' has no valid route.\n"
     ]
    },
    {
     "name": "stdout",
     "output_type": "stream",
     "text": [
      "Reading up to time step: 70801.15\r"
     ]
    },
    {
     "name": "stderr",
     "output_type": "stream",
     "text": [
      "Warning: No connection between edge '115868190' and edge '62023741' found.\n",
      "Warning: Mandatory edge '62023741' not reachable by vehicle 'h19_10809'.\n",
      "Warning: The vehicle 'h19_10809' has no valid route.\n",
      "Warning: No connection between edge '159082459' and edge '510193683' found.\n",
      "Warning: Mandatory edge '510193683' not reachable by vehicle 'h19_11047'.\n",
      "Warning: The vehicle 'h19_11047' has no valid route.\n",
      "Warning: No connection between edge '124060635' and edge '157928498' found.\n",
      "Warning: Mandatory edge '157928498' not reachable by vehicle 'h19_11142'.\n",
      "Warning: The vehicle 'h19_11142' has no valid route.\n",
      "Warning: No connection between edge '142520815#1' and edge '767313243' found.\n",
      "Warning: Mandatory edge '767313243' not reachable by vehicle 'h19_11248'.\n",
      "Warning: The vehicle 'h19_11248' has no valid route.\n"
     ]
    },
    {
     "name": "stdout",
     "output_type": "stream",
     "text": [
      "Reading up to time step: 71001.15\r"
     ]
    },
    {
     "name": "stderr",
     "output_type": "stream",
     "text": [
      "Warning: No connection between edge '494470855' and edge '1060073977' found.\n",
      "Warning: Mandatory edge '1060073977' not reachable by vehicle 'h19_12122'.\n",
      "Warning: The vehicle 'h19_12122' has no valid route.\n",
      "Warning: No connection between edge '403879353#1' and edge '62023730' found.\n",
      "Warning: Mandatory edge '62023730' not reachable by vehicle 'h19_12166'.\n",
      "Warning: The vehicle 'h19_12166' has no valid route.\n",
      "Warning: No connection between edge '713810792#3' and edge '188649571' found.\n",
      "Warning: Mandatory edge '188649571' not reachable by vehicle 'h19_12385'.\n",
      "Warning: The vehicle 'h19_12385' has no valid route.\n"
     ]
    },
    {
     "name": "stdout",
     "output_type": "stream",
     "text": [
      "Reading up to time step: 71201.15\r"
     ]
    },
    {
     "name": "stderr",
     "output_type": "stream",
     "text": [
      "Warning: No connection between edge '158032017' and edge '367820004' found.\n",
      "Warning: Mandatory edge '367820004' not reachable by vehicle 'h19_12987'.\n",
      "Warning: The vehicle 'h19_12987' has no valid route.\n",
      "Warning: No connection between edge '456812766#1' and edge '62023741' found.\n",
      "Warning: Mandatory edge '62023741' not reachable by vehicle 'h19_13239'.\n",
      "Warning: The vehicle 'h19_13239' has no valid route.\n",
      "Warning: No connection between edge '677786221' and edge '157010359' found.\n",
      "Warning: Mandatory edge '157010359' not reachable by vehicle 'h19_19133'.\n",
      "Warning: The vehicle 'h19_19133' has no valid route.\n"
     ]
    },
    {
     "name": "stdout",
     "output_type": "stream",
     "text": [
      "Reading up to time step: 71401.15\r"
     ]
    },
    {
     "name": "stderr",
     "output_type": "stream",
     "text": [
      "Warning: No connection between edge '6313141#4' and edge '143962120' found.\n",
      "Warning: Mandatory edge '143962120' not reachable by vehicle 'h19_13608'.\n",
      "Warning: The vehicle 'h19_13608' has no valid route.\n",
      "Warning: No connection between edge '330638011' and edge '367820007' found.\n",
      "Warning: Mandatory edge '367820007' not reachable by vehicle 'h19_14052'.\n",
      "Warning: The vehicle 'h19_14052' has no valid route.\n",
      "Warning: No connection between edge '165240626' and edge '510193683' found.\n",
      "Warning: Mandatory edge '510193683' not reachable by vehicle 'h19_14359'.\n",
      "Warning: The vehicle 'h19_14359' has no valid route.\n"
     ]
    },
    {
     "name": "stdout",
     "output_type": "stream",
     "text": [
      "Reading up to time step: 71801.15\r"
     ]
    },
    {
     "name": "stderr",
     "output_type": "stream",
     "text": [
      "Warning: No connection between edge '47001613#6' and edge '62023728#0' found.\n",
      "Warning: Mandatory edge '62023728#0' not reachable by vehicle 'h19_15442'.\n",
      "Warning: The vehicle 'h19_15442' has no valid route.\n",
      "Warning: No connection between edge '124060635' and edge '395353696' found.\n",
      "Warning: Mandatory edge '395353696' not reachable by vehicle 'h19_16145'.\n",
      "Warning: The vehicle 'h19_16145' has no valid route.\n",
      "Warning: No connection between edge '50832088#2' and edge '386307421#0' found.\n",
      "Warning: Mandatory edge '386307421#0' not reachable by vehicle 'h19_16166'.\n",
      "Warning: The vehicle 'h19_16166' has no valid route.\n",
      "Warning: No connection between edge '24257299' and edge '188649571' found.\n",
      "Warning: Mandatory edge '188649571' not reachable by vehicle 'h19_16714'.\n",
      "Warning: The vehicle 'h19_16714' has no valid route.\n"
     ]
    },
    {
     "name": "stdout",
     "output_type": "stream",
     "text": [
      "Reading up to time step: 72201.15\r"
     ]
    },
    {
     "name": "stderr",
     "output_type": "stream",
     "text": [
      "Warning: No connection between edge '161355715#1' and edge '143962123#0' found.\n",
      "Warning: Mandatory edge '143962123#0' not reachable by vehicle 'h20_32'.\n",
      "Warning: The vehicle 'h20_32' has no valid route.\n"
     ]
    },
    {
     "name": "stdout",
     "output_type": "stream",
     "text": [
      "Reading up to time step: 72401.15\r"
     ]
    },
    {
     "name": "stderr",
     "output_type": "stream",
     "text": [
      "Warning: No connection between edge '71570214#0' and edge '378355994#2' found.\n",
      "Warning: Mandatory edge '378355994#2' not reachable by vehicle 'h20_921'.\n",
      "Warning: The vehicle 'h20_921' has no valid route.\n",
      "Warning: No connection between edge '187777230#0' and edge '386307421#0' found.\n",
      "Warning: Mandatory edge '386307421#0' not reachable by vehicle 'h20_1251'.\n",
      "Warning: The vehicle 'h20_1251' has no valid route.\n"
     ]
    },
    {
     "name": "stdout",
     "output_type": "stream",
     "text": [
      "Reading up to time step: 72801.15\r"
     ]
    },
    {
     "name": "stderr",
     "output_type": "stream",
     "text": [
      "Warning: No connection between edge '169984983#6' and edge '62023728#0' found.\n",
      "Warning: Mandatory edge '62023728#0' not reachable by vehicle 'h20_1941'.\n",
      "Warning: The vehicle 'h20_1941' has no valid route.\n",
      "Warning: No connection between edge '112732664' and edge '143962123#0' found.\n",
      "Warning: Mandatory edge '143962123#0' not reachable by vehicle 'h20_2371'.\n",
      "Warning: The vehicle 'h20_2371' has no valid route.\n",
      "Warning: No connection between edge '36983504#0' and edge '143962123#1' found.\n",
      "Warning: Mandatory edge '143962123#1' not reachable by vehicle 'h20_2659'.\n",
      "Warning: The vehicle 'h20_2659' has no valid route.\n"
     ]
    },
    {
     "name": "stdout",
     "output_type": "stream",
     "text": [
      "Reading up to time step: 73001.15\r"
     ]
    },
    {
     "name": "stderr",
     "output_type": "stream",
     "text": [
      "Warning: No connection between edge '326497006#0' and edge '161432888' found.\n",
      "Warning: Mandatory edge '161432888' not reachable by vehicle 'h20_3079'.\n",
      "Warning: The vehicle 'h20_3079' has no valid route.\n",
      "Warning: No connection between edge '60693885#0' and edge '386307421#1' found.\n",
      "Warning: Mandatory edge '386307421#1' not reachable by vehicle 'h20_3258'.\n",
      "Warning: The vehicle 'h20_3258' has no valid route.\n"
     ]
    },
    {
     "name": "stdout",
     "output_type": "stream",
     "text": [
      "Reading up to time step: 73201.15\r"
     ]
    },
    {
     "name": "stderr",
     "output_type": "stream",
     "text": [
      "Warning: No connection between edge '434798483' and edge '281308645' found.\n",
      "Warning: Mandatory edge '281308645' not reachable by vehicle 'h20_3668'.\n",
      "Warning: The vehicle 'h20_3668' has no valid route.\n"
     ]
    },
    {
     "name": "stdout",
     "output_type": "stream",
     "text": [
      "Reading up to time step: 73401.15\r"
     ]
    },
    {
     "name": "stderr",
     "output_type": "stream",
     "text": [
      "Warning: No connection between edge '157931974' and edge '62023741' found.\n",
      "Warning: Mandatory edge '62023741' not reachable by vehicle 'h20_4097'.\n",
      "Warning: The vehicle 'h20_4097' has no valid route.\n",
      "Warning: No connection between edge '441601046' and edge '767313243' found.\n",
      "Warning: Mandatory edge '767313243' not reachable by vehicle 'h20_4129'.\n",
      "Warning: The vehicle 'h20_4129' has no valid route.\n",
      "Warning: No connection between edge '721598672#4' and edge '378355994#1' found.\n",
      "Warning: Mandatory edge '378355994#1' not reachable by vehicle 'h20_4265'.\n",
      "Warning: The vehicle 'h20_4265' has no valid route.\n"
     ]
    },
    {
     "name": "stdout",
     "output_type": "stream",
     "text": [
      "Reading up to time step: 73601.15\r"
     ]
    },
    {
     "name": "stderr",
     "output_type": "stream",
     "text": [
      "Warning: No connection between edge '64227527#4' and edge '143962123#2' found.\n",
      "Warning: Mandatory edge '143962123#2' not reachable by vehicle 'h20_4605'.\n",
      "Warning: The vehicle 'h20_4605' has no valid route.\n",
      "Warning: No connection between edge '72065785#1' and edge '510193683' found.\n",
      "Warning: Mandatory edge '510193683' not reachable by vehicle 'h20_4654'.\n",
      "Warning: The vehicle 'h20_4654' has no valid route.\n",
      "Warning: No connection between edge '436967671' and edge '378355994#1' found.\n",
      "Warning: Mandatory edge '378355994#1' not reachable by vehicle 'h20_4789'.\n",
      "Warning: The vehicle 'h20_4789' has no valid route.\n",
      "Warning: No connection between edge '173166874' and edge '510193680' found.\n",
      "Warning: Mandatory edge '510193680' not reachable by vehicle 'h20_5042'.\n",
      "Warning: The vehicle 'h20_5042' has no valid route.\n"
     ]
    },
    {
     "name": "stdout",
     "output_type": "stream",
     "text": [
      "Reading up to time step: 73801.15\r"
     ]
    },
    {
     "name": "stderr",
     "output_type": "stream",
     "text": [
      "Warning: No connection between edge '150925676' and edge '71817017#0' found.\n",
      "Warning: Mandatory edge '71817017#0' not reachable by vehicle 'h20_5396'.\n",
      "Warning: The vehicle 'h20_5396' has no valid route.\n",
      "Warning: No connection between edge '106332758' and edge '281308645' found.\n",
      "Warning: Mandatory edge '281308645' not reachable by vehicle 'h20_5601'.\n",
      "Warning: The vehicle 'h20_5601' has no valid route.\n"
     ]
    },
    {
     "name": "stdout",
     "output_type": "stream",
     "text": [
      "Reading up to time step: 74001.15\r"
     ]
    },
    {
     "name": "stderr",
     "output_type": "stream",
     "text": [
      "Warning: No connection between edge '688357782#0' and edge '66654881#1' found.\n",
      "Warning: Mandatory edge '66654881#1' not reachable by vehicle 'h20_6083'.\n",
      "Warning: The vehicle 'h20_6083' has no valid route.\n",
      "Warning: No connection between edge '144028742#0' and edge '143962123#2' found.\n",
      "Warning: Mandatory edge '143962123#2' not reachable by vehicle 'h20_6130'.\n",
      "Warning: The vehicle 'h20_6130' has no valid route.\n"
     ]
    },
    {
     "name": "stdout",
     "output_type": "stream",
     "text": [
      "Reading up to time step: 74201.15\r"
     ]
    },
    {
     "name": "stderr",
     "output_type": "stream",
     "text": [
      "Warning: No connection between edge '165251013#1' and edge '143962123#2' found.\n",
      "Warning: Mandatory edge '143962123#2' not reachable by vehicle 'h20_6637'.\n",
      "Warning: The vehicle 'h20_6637' has no valid route.\n",
      "Warning: No connection between edge '103528150' and edge '143962120' found.\n",
      "Warning: Mandatory edge '143962120' not reachable by vehicle 'h20_6753'.\n",
      "Warning: The vehicle 'h20_6753' has no valid route.\n",
      "Warning: No connection between edge '198453759' and edge '62023741' found.\n",
      "Warning: Mandatory edge '62023741' not reachable by vehicle 'h20_6792'.\n",
      "Warning: The vehicle 'h20_6792' has no valid route.\n",
      "Warning: No connection between edge '6314122#1' and edge '143962123#0' found.\n",
      "Warning: Mandatory edge '143962123#0' not reachable by vehicle 'h20_7066'.\n",
      "Warning: The vehicle 'h20_7066' has no valid route.\n",
      "Warning: No connection between edge '6314122#6' and edge '143962123#0' found.\n",
      "Warning: Mandatory edge '143962123#0' not reachable by vehicle 'h20_7622'.\n",
      "Warning: The vehicle 'h20_7622' has no valid route.\n"
     ]
    },
    {
     "name": "stdout",
     "output_type": "stream",
     "text": [
      "Reading up to time step: 74401.15\r"
     ]
    },
    {
     "name": "stderr",
     "output_type": "stream",
     "text": [
      "Warning: No connection between edge '161355715#1' and edge '144160557#1' found.\n",
      "Warning: Mandatory edge '144160557#1' not reachable by vehicle 'h20_7815'.\n",
      "Warning: The vehicle 'h20_7815' has no valid route.\n"
     ]
    },
    {
     "name": "stdout",
     "output_type": "stream",
     "text": [
      "Reading up to time step: 74601.15\r"
     ]
    },
    {
     "name": "stderr",
     "output_type": "stream",
     "text": [
      "Warning: No connection between edge '98338703#0' and edge '510193683' found.\n",
      "Warning: Mandatory edge '510193683' not reachable by vehicle 'h20_7852'.\n",
      "Warning: The vehicle 'h20_7852' has no valid route.\n",
      "Warning: No connection between edge '54357740#2' and edge '188649571' found.\n",
      "Warning: Mandatory edge '188649571' not reachable by vehicle 'h20_7905'.\n",
      "Warning: The vehicle 'h20_7905' has no valid route.\n",
      "Warning: No connection between edge '161980749#0' and edge '386307421#0' found.\n",
      "Warning: Mandatory edge '386307421#0' not reachable by vehicle 'h20_8009'.\n",
      "Warning: The vehicle 'h20_8009' has no valid route.\n"
     ]
    },
    {
     "name": "stdout",
     "output_type": "stream",
     "text": [
      "Reading up to time step: 75001.15\r"
     ]
    },
    {
     "name": "stderr",
     "output_type": "stream",
     "text": [
      "Warning: No connection between edge '172901735#2' and edge '510193680' found.\n",
      "Warning: Mandatory edge '510193680' not reachable by vehicle 'h20_9232'.\n",
      "Warning: The vehicle 'h20_9232' has no valid route.\n",
      "Warning: No connection between edge '128615660#0' and edge '62023741' found.\n",
      "Warning: Mandatory edge '62023741' not reachable by vehicle 'h20_9363'.\n",
      "Warning: The vehicle 'h20_9363' has no valid route.\n",
      "Warning: No connection between edge '688357782#0' and edge '676368251#0' found.\n",
      "Warning: Mandatory edge '676368251#0' not reachable by vehicle 'h20_9386'.\n",
      "Warning: The vehicle 'h20_9386' has no valid route.\n",
      "Warning: No connection between edge '115628903' and edge '144160557#2' found.\n",
      "Warning: Mandatory edge '144160557#2' not reachable by vehicle 'h20_9514'.\n",
      "Warning: The vehicle 'h20_9514' has no valid route.\n",
      "Warning: No connection between edge '63680064#0' and edge '767313243' found.\n",
      "Warning: Mandatory edge '767313243' not reachable by vehicle 'h20_9638'.\n",
      "Warning: The vehicle 'h20_9638' has no valid route.\n",
      "Warning: No connection between edge '165597369#1' and edge '143962120' found.\n",
      "Warning: Mandatory edge '143962120' not reachable by vehicle 'h20_10128'.\n",
      "Warning: The vehicle 'h20_10128' has no valid route.\n"
     ]
    },
    {
     "name": "stdout",
     "output_type": "stream",
     "text": [
      "Reading up to time step: 75601.15\r"
     ]
    },
    {
     "name": "stderr",
     "output_type": "stream",
     "text": [
      "Warning: No connection between edge '52530439#3' and edge '386307421#0' found.\n",
      "Warning: Mandatory edge '386307421#0' not reachable by vehicle 'h20_11538'.\n",
      "Warning: The vehicle 'h20_11538' has no valid route.\n",
      "Warning: No connection between edge '6310470#2' and edge '378355994#0' found.\n",
      "Warning: Mandatory edge '378355994#0' not reachable by vehicle 'h21_300'.\n",
      "Warning: The vehicle 'h21_300' has no valid route.\n"
     ]
    },
    {
     "name": "stdout",
     "output_type": "stream",
     "text": [
      "Reading up to time step: 75801.15\r"
     ]
    },
    {
     "name": "stderr",
     "output_type": "stream",
     "text": [
      "Warning: No connection between edge '125150664' and edge '144160557#2' found.\n",
      "Warning: Mandatory edge '144160557#2' not reachable by vehicle 'h21_590'.\n",
      "Warning: The vehicle 'h21_590' has no valid route.\n"
     ]
    },
    {
     "name": "stdout",
     "output_type": "stream",
     "text": [
      "Reading up to time step: 76001.15\r"
     ]
    },
    {
     "name": "stderr",
     "output_type": "stream",
     "text": [
      "Warning: No connection between edge '24257944' and edge '161432888' found.\n",
      "Warning: Mandatory edge '161432888' not reachable by vehicle 'h21_770'.\n",
      "Warning: The vehicle 'h21_770' has no valid route.\n",
      "Warning: No connection between edge '198775308' and edge '62023730' found.\n",
      "Warning: Mandatory edge '62023730' not reachable by vehicle 'h21_775'.\n",
      "Warning: The vehicle 'h21_775' has no valid route.\n"
     ]
    },
    {
     "name": "stdout",
     "output_type": "stream",
     "text": [
      "Reading up to time step: 76201.15\r"
     ]
    },
    {
     "name": "stderr",
     "output_type": "stream",
     "text": [
      "Warning: No connection between edge '48996835#0' and edge '383076320' found.\n",
      "Warning: Mandatory edge '383076320' not reachable by vehicle 'h21_1132'.\n",
      "Warning: The vehicle 'h21_1132' has no valid route.\n"
     ]
    },
    {
     "name": "stdout",
     "output_type": "stream",
     "text": [
      "Reading up to time step: 77001.15\r"
     ]
    },
    {
     "name": "stderr",
     "output_type": "stream",
     "text": [
      "Warning: No connection between edge '554313130' and edge '367820007' found.\n",
      "Warning: Mandatory edge '367820007' not reachable by vehicle 'h21_2503'.\n",
      "Warning: The vehicle 'h21_2503' has no valid route.\n",
      "Warning: No connection between edge '53188864#4' and edge '1060073977' found.\n",
      "Warning: Mandatory edge '1060073977' not reachable by vehicle 'h21_2624'.\n",
      "Warning: The vehicle 'h21_2624' has no valid route.\n"
     ]
    },
    {
     "name": "stdout",
     "output_type": "stream",
     "text": [
      "Reading up to time step: 77201.15\r"
     ]
    },
    {
     "name": "stderr",
     "output_type": "stream",
     "text": [
      "Warning: No connection between edge '28245824#0' and edge '281308645' found.\n",
      "Warning: Mandatory edge '281308645' not reachable by vehicle 'h21_2719'.\n",
      "Warning: The vehicle 'h21_2719' has no valid route.\n",
      "Warning: No connection between edge '82172834' and edge '144160557#1' found.\n",
      "Warning: Mandatory edge '144160557#1' not reachable by vehicle 'h21_2871'.\n",
      "Warning: The vehicle 'h21_2871' has no valid route.\n"
     ]
    },
    {
     "name": "stdout",
     "output_type": "stream",
     "text": [
      "Reading up to time step: 77401.15\r"
     ]
    },
    {
     "name": "stderr",
     "output_type": "stream",
     "text": [
      "Warning: No connection between edge '1225673190' and edge '383076320' found.\n",
      "Warning: Mandatory edge '383076320' not reachable by vehicle 'h21_3323'.\n",
      "Warning: The vehicle 'h21_3323' has no valid route.\n",
      "Warning: No connection between edge '688357782#0' and edge '140499119#5' found.\n",
      "Warning: Mandatory edge '140499119#5' not reachable by vehicle 'h21_3427'.\n",
      "Warning: The vehicle 'h21_3427' has no valid route.\n"
     ]
    },
    {
     "name": "stdout",
     "output_type": "stream",
     "text": [
      "Reading up to time step: 77601.15\r"
     ]
    },
    {
     "name": "stderr",
     "output_type": "stream",
     "text": [
      "Warning: No connection between edge '155999497#1' and edge '143962123#0' found.\n",
      "Warning: Mandatory edge '143962123#0' not reachable by vehicle 'h21_7818'.\n",
      "Warning: The vehicle 'h21_7818' has no valid route.\n"
     ]
    },
    {
     "name": "stdout",
     "output_type": "stream",
     "text": [
      "Reading up to time step: 78201.15\r"
     ]
    },
    {
     "name": "stderr",
     "output_type": "stream",
     "text": [
      "Warning: No connection between edge '925261618' and edge '268397081#1' found.\n",
      "Warning: Mandatory edge '268397081#1' not reachable by vehicle 'h21_4873'.\n",
      "Warning: The vehicle 'h21_4873' has no valid route.\n",
      "Warning: No connection between edge '144634780#1' and edge '367820007' found.\n",
      "Warning: Mandatory edge '367820007' not reachable by vehicle 'h21_4934'.\n",
      "Warning: The vehicle 'h21_4934' has no valid route.\n"
     ]
    },
    {
     "name": "stdout",
     "output_type": "stream",
     "text": [
      "Reading up to time step: 78601.15\r"
     ]
    },
    {
     "name": "stderr",
     "output_type": "stream",
     "text": [
      "Warning: No connection between edge '383085195#3' and edge '281308645' found.\n",
      "Warning: Mandatory edge '281308645' not reachable by vehicle 'h21_5683'.\n",
      "Warning: The vehicle 'h21_5683' has no valid route.\n"
     ]
    },
    {
     "name": "stdout",
     "output_type": "stream",
     "text": [
      "Reading up to time step: 79001.15\r"
     ]
    },
    {
     "name": "stderr",
     "output_type": "stream",
     "text": [
      "Warning: No connection between edge '688357782#1' and edge '210649528#1' found.\n",
      "Warning: Mandatory edge '210649528#1' not reachable by vehicle 'h21_7198'.\n",
      "Warning: The vehicle 'h21_7198' has no valid route.\n"
     ]
    },
    {
     "name": "stdout",
     "output_type": "stream",
     "text": [
      "Reading up to time step: 79601.15\r"
     ]
    },
    {
     "name": "stderr",
     "output_type": "stream",
     "text": [
      "Warning: No connection between edge '688357782#0' and edge '377991076#10' found.\n",
      "Warning: Mandatory edge '377991076#10' not reachable by vehicle 'h22_316'.\n",
      "Warning: The vehicle 'h22_316' has no valid route.\n",
      "Warning: No connection between edge '112619158#1' and edge '378355994#0' found.\n",
      "Warning: Mandatory edge '378355994#0' not reachable by vehicle 'h22_320'.\n",
      "Warning: The vehicle 'h22_320' has no valid route.\n"
     ]
    },
    {
     "name": "stdout",
     "output_type": "stream",
     "text": [
      "Reading up to time step: 82401.15\r"
     ]
    },
    {
     "name": "stderr",
     "output_type": "stream",
     "text": [
      "Warning: No connection between edge '35156385#3' and edge '378355994#2' found.\n",
      "Warning: Mandatory edge '378355994#2' not reachable by vehicle 'h22_3207'.\n",
      "Warning: The vehicle 'h22_3207' has no valid route.\n"
     ]
    },
    {
     "name": "stdout",
     "output_type": "stream",
     "text": [
      "Reading up to time step: 82601.15\r"
     ]
    },
    {
     "name": "stderr",
     "output_type": "stream",
     "text": [
      "Warning: No connection between edge '883137227' and edge '386307421#0' found.\n",
      "Warning: Mandatory edge '386307421#0' not reachable by vehicle 'h22_3366'.\n",
      "Warning: The vehicle 'h22_3366' has no valid route.\n",
      "Warning: No connection between edge '430174368#2' and edge '188649571' found.\n",
      "Warning: Mandatory edge '188649571' not reachable by vehicle 'h22_3548'.\n",
      "Warning: The vehicle 'h22_3548' has no valid route.\n"
     ]
    },
    {
     "name": "stdout",
     "output_type": "stream",
     "text": [
      "Reading up to time step: 82801.15\r"
     ]
    },
    {
     "name": "stderr",
     "output_type": "stream",
     "text": [
      "Warning: No connection between edge '71570211#1' and edge '386307421#1' found.\n",
      "Warning: Mandatory edge '386307421#1' not reachable by vehicle 'h22_3564'.\n",
      "Warning: The vehicle 'h22_3564' has no valid route.\n"
     ]
    },
    {
     "name": "stdout",
     "output_type": "stream",
     "text": [
      "Reading up to time step: 83401.15\r"
     ]
    },
    {
     "name": "stderr",
     "output_type": "stream",
     "text": [
      "Warning: No connection between edge '688357782#0' and edge '377991076#10' found.\n",
      "Warning: Mandatory edge '377991076#10' not reachable by vehicle 'h23_316'.\n",
      "Warning: The vehicle 'h23_316' has no valid route.\n",
      "Warning: No connection between edge '112619158#1' and edge '378355994#0' found.\n",
      "Warning: Mandatory edge '378355994#0' not reachable by vehicle 'h23_320'.\n",
      "Warning: The vehicle 'h23_320' has no valid route.\n"
     ]
    },
    {
     "name": "stdout",
     "output_type": "stream",
     "text": [
      "Success.up to time step: 86401.15\n",
      "[DONE] Routes written in /home/hoai-linh.dao/Works/EVCS/CEREMA-Mini/result/experiments/20-05-25-olld-taz-debugging-10percent/route.xml\n",
      "[LOG] Output logged in /home/hoai-linh.dao/Works/EVCS/CEREMA-Mini/result/experiments/20-05-25-olld-taz-debugging-10percent/logs/duarouter.log\n"
     ]
    }
   ],
   "source": [
    "DUAROUTER_CMD = [\n",
    "    \"duarouter\",\n",
    "    \"-n\", NET_XML,            \n",
    "    \"-r\", ALL_TRIPS_XML,            \n",
    "    \"-a\", VTYPES_DIST_XML,\n",
    "    \"--randomize-flows\",         \n",
    "    \"-o\", ROUTE_XML,    \n",
    "    \"--log\", DUAROUTER_LOG,\n",
    "    \"--exit-times\",\n",
    "    \"--named-routes\",\n",
    "    \"--route-length\",\n",
    "    \"--write-costs\",\n",
    "    \"--ignore-errors\",\n",
    "    \"--seed\", \"2005\"\n",
    "]\n",
    "\n",
    "print(\"Running DUAROUTER Step ...\")\n",
    "subprocess.run(DUAROUTER_CMD, check=True)\n",
    "print(f\"[DONE] Routes written in {ROUTE_XML}\\n[LOG] Output logged in {DUAROUTER_LOG}\")\n"
   ]
  },
  {
   "cell_type": "markdown",
   "metadata": {},
   "source": [
    "## Updating Sumo-Config"
   ]
  },
  {
   "cell_type": "code",
   "execution_count": 6,
   "metadata": {},
   "outputs": [
    {
     "name": "stdout",
     "output_type": "stream",
     "text": [
      "Updating net-file: /home/hoai-linh.dao/Works/EVCS/CEREMA-Mini/result/net-repairment/cleaned_p2_2_newtest-osm.net.xml -> /home/hoai-linh.dao/Works/EVCS/CEREMA-Mini/result/net-repairment/cleaned_p2_2_newtest-osm.net.xml\n",
      "Updating route-files: /home/hoai-linh.dao/Works/EVCS/CEREMA-Mini/result/experiments/19-05-25-debugging/route.xml -> /home/hoai-linh.dao/Works/EVCS/CEREMA-Mini/result/experiments/20-05-25-olld-taz-debugging-10percent/route.xml\n",
      "Updating statistic-output: /home/hoai-linh.dao/Works/EVCS/CEREMA-Mini/result/experiments/19-05-25-debugging/outputs/statistics.xml -> /home/hoai-linh.dao/Works/EVCS/CEREMA-Mini/result/experiments/20-05-25-olld-taz-debugging-10percent/outputs/statistics.xml\n",
      "Updating log: /home/hoai-linh.dao/Works/EVCS/CEREMA-Mini/result/experiments/19-05-25-debugging/outputs/log.txt -> /home/hoai-linh.dao/Works/EVCS/CEREMA-Mini/result/experiments/20-05-25-olld-taz-debugging-10percent/outputs/log.txt\n",
      "Updating summary-output: /home/hoai-linh.dao/Works/EVCS/CEREMA-Mini/result/experiments/19-05-25-debugging/outputs/summary.xml -> /home/hoai-linh.dao/Works/EVCS/CEREMA-Mini/result/experiments/20-05-25-olld-taz-debugging-10percent/outputs/summary.xml\n",
      "Updating tripinfo-output: /home/hoai-linh.dao/Works/EVCS/CEREMA-Mini/result/experiments/19-05-25-debugging/outputs/tripinfo.xml -> /home/hoai-linh.dao/Works/EVCS/CEREMA-Mini/result/experiments/20-05-25-olld-taz-debugging-10percent/outputs/tripinfo.xml\n",
      "Updating vehroute-output: /home/hoai-linh.dao/Works/EVCS/CEREMA-Mini/result/experiments/19-05-25-debugging/outputs/vehRoutes.xml -> /home/hoai-linh.dao/Works/EVCS/CEREMA-Mini/result/experiments/20-05-25-olld-taz-debugging-10percent/outputs/vehRoutes.xml\n",
      "Updating lanechange-output: /home/hoai-linh.dao/Works/EVCS/CEREMA-Mini/result/experiments/19-05-25-debugging/outputs/laneChanges.xml -> /home/hoai-linh.dao/Works/EVCS/CEREMA-Mini/result/experiments/20-05-25-olld-taz-debugging-10percent/outputs/laneChanges.xml\n",
      "Updating fcd-output: /home/hoai-linh.dao/Works/EVCS/CEREMA-Mini/result/experiments/19-05-25-debugging/outputs/sumoTrace.xml -> /home/hoai-linh.dao/Works/EVCS/CEREMA-Mini/result/experiments/20-05-25-olld-taz-debugging-10percent/outputs/sumoTrace.xml\n",
      "Updating battery-output: /home/hoai-linh.dao/Works/EVCS/CEREMA-Mini/result/experiments/19-05-25-debugging/outputs/battery.xml -> /home/hoai-linh.dao/Works/EVCS/CEREMA-Mini/result/experiments/20-05-25-olld-taz-debugging-10percent/outputs/battery.xml\n",
      "Updating collision-output: /home/hoai-linh.dao/Works/EVCS/CEREMA-Mini/result/experiments/19-05-25-debugging/outputs/collisions.xml -> /home/hoai-linh.dao/Works/EVCS/CEREMA-Mini/result/experiments/20-05-25-olld-taz-debugging-10percent/outputs/collisions.xml\n",
      "Updating edgedata-output: /home/hoai-linh.dao/Works/EVCS/CEREMA-Mini/result/experiments/19-05-25-debugging/outputs/edgeData-60s.xml -> /home/hoai-linh.dao/Works/EVCS/CEREMA-Mini/result/experiments/20-05-25-olld-taz-debugging-10percent/outputs/edgeData-60s.xml\n",
      "Updating lanedata-output: /home/hoai-linh.dao/Works/EVCS/CEREMA-Mini/result/experiments/19-05-25-debugging/outputs/laneData-60s.xml -> /home/hoai-linh.dao/Works/EVCS/CEREMA-Mini/result/experiments/20-05-25-olld-taz-debugging-10percent/outputs/laneData-60s.xml\n",
      "Updating queue-output: /home/hoai-linh.dao/Works/EVCS/CEREMA-Mini/result/experiments/19-05-25-debugging/outputs/queue.xml -> /home/hoai-linh.dao/Works/EVCS/CEREMA-Mini/result/experiments/20-05-25-olld-taz-debugging-10percent/outputs/queue.xml\n",
      "[DONE] New Sumo-Configuration in /home/hoai-linh.dao/Works/EVCS/CEREMA-Mini/result/experiments/20-05-25-olld-taz-debugging-10percent/run.sumocfg with all right paths.\n"
     ]
    }
   ],
   "source": [
    "updateSumoCfg(\n",
    "    cfg_path=SUMOCFG_XML,\n",
    "    output_path=SUMOCFG_XML,\n",
    "    replacements=PATH_REPLACEMENTS\n",
    ")\n",
    "print(f\"[DONE] New Sumo-Configuration in {SUMOCFG_XML} with all right paths.\")\n"
   ]
  },
  {
   "cell_type": "markdown",
   "metadata": {},
   "source": [
    "## Running"
   ]
  },
  {
   "cell_type": "code",
   "execution_count": 7,
   "metadata": {},
   "outputs": [
    {
     "name": "stdout",
     "output_type": "stream",
     "text": [
      "Running SUMO simulation ...\n"
     ]
    },
    {
     "ename": "KeyboardInterrupt",
     "evalue": "",
     "output_type": "error",
     "traceback": [
      "\u001b[0;31m---------------------------------------------------------------------------\u001b[0m",
      "\u001b[0;31mKeyboardInterrupt\u001b[0m                         Traceback (most recent call last)",
      "Cell \u001b[0;32mIn[7], line 11\u001b[0m\n\u001b[1;32m      9\u001b[0m \u001b[38;5;28;01mwith\u001b[39;00m \u001b[38;5;28mopen\u001b[39m(SIMULATION_LOG, \u001b[38;5;124m\"\u001b[39m\u001b[38;5;124mw\u001b[39m\u001b[38;5;124m\"\u001b[39m) \u001b[38;5;28;01mas\u001b[39;00m f:\n\u001b[1;32m     10\u001b[0m     \u001b[38;5;28mprint\u001b[39m(\u001b[38;5;124m\"\u001b[39m\u001b[38;5;124mRunning SUMO simulation ...\u001b[39m\u001b[38;5;124m\"\u001b[39m)\n\u001b[0;32m---> 11\u001b[0m     \u001b[43msubprocess\u001b[49m\u001b[38;5;241;43m.\u001b[39;49m\u001b[43mrun\u001b[49m\u001b[43m(\u001b[49m\u001b[43mSIMULATION_CMD\u001b[49m\u001b[43m,\u001b[49m\u001b[43m \u001b[49m\u001b[43mstdout\u001b[49m\u001b[38;5;241;43m=\u001b[39;49m\u001b[43mf\u001b[49m\u001b[43m,\u001b[49m\u001b[43m \u001b[49m\u001b[43mstderr\u001b[49m\u001b[38;5;241;43m=\u001b[39;49m\u001b[43msubprocess\u001b[49m\u001b[38;5;241;43m.\u001b[39;49m\u001b[43mSTDOUT\u001b[49m\u001b[43m,\u001b[49m\u001b[43m \u001b[49m\u001b[43mcheck\u001b[49m\u001b[38;5;241;43m=\u001b[39;49m\u001b[38;5;28;43;01mTrue\u001b[39;49;00m\u001b[43m)\u001b[49m\n\u001b[1;32m     12\u001b[0m     \u001b[38;5;28mprint\u001b[39m(\u001b[38;5;124mf\u001b[39m\u001b[38;5;124m\"\u001b[39m\u001b[38;5;124m[DONE] Simulation outputs are created in \u001b[39m\u001b[38;5;132;01m{\u001b[39;00mSIMULATION_DIR\u001b[38;5;132;01m}\u001b[39;00m\u001b[38;5;130;01m\\n\u001b[39;00m\u001b[38;5;124m[LOG] Output logged in \u001b[39m\u001b[38;5;132;01m{\u001b[39;00mSIMULATION_LOG\u001b[38;5;132;01m}\u001b[39;00m\u001b[38;5;124m\"\u001b[39m)\n",
      "File \u001b[0;32m~/Envs/sumo-env/lib/python3.10/subprocess.py:505\u001b[0m, in \u001b[0;36mrun\u001b[0;34m(input, capture_output, timeout, check, *popenargs, **kwargs)\u001b[0m\n\u001b[1;32m    503\u001b[0m \u001b[38;5;28;01mwith\u001b[39;00m Popen(\u001b[38;5;241m*\u001b[39mpopenargs, \u001b[38;5;241m*\u001b[39m\u001b[38;5;241m*\u001b[39mkwargs) \u001b[38;5;28;01mas\u001b[39;00m process:\n\u001b[1;32m    504\u001b[0m     \u001b[38;5;28;01mtry\u001b[39;00m:\n\u001b[0;32m--> 505\u001b[0m         stdout, stderr \u001b[38;5;241m=\u001b[39m \u001b[43mprocess\u001b[49m\u001b[38;5;241;43m.\u001b[39;49m\u001b[43mcommunicate\u001b[49m\u001b[43m(\u001b[49m\u001b[38;5;28;43minput\u001b[39;49m\u001b[43m,\u001b[49m\u001b[43m \u001b[49m\u001b[43mtimeout\u001b[49m\u001b[38;5;241;43m=\u001b[39;49m\u001b[43mtimeout\u001b[49m\u001b[43m)\u001b[49m\n\u001b[1;32m    506\u001b[0m     \u001b[38;5;28;01mexcept\u001b[39;00m TimeoutExpired \u001b[38;5;28;01mas\u001b[39;00m exc:\n\u001b[1;32m    507\u001b[0m         process\u001b[38;5;241m.\u001b[39mkill()\n",
      "File \u001b[0;32m~/Envs/sumo-env/lib/python3.10/subprocess.py:1146\u001b[0m, in \u001b[0;36mPopen.communicate\u001b[0;34m(self, input, timeout)\u001b[0m\n\u001b[1;32m   1144\u001b[0m         stderr \u001b[38;5;241m=\u001b[39m \u001b[38;5;28mself\u001b[39m\u001b[38;5;241m.\u001b[39mstderr\u001b[38;5;241m.\u001b[39mread()\n\u001b[1;32m   1145\u001b[0m         \u001b[38;5;28mself\u001b[39m\u001b[38;5;241m.\u001b[39mstderr\u001b[38;5;241m.\u001b[39mclose()\n\u001b[0;32m-> 1146\u001b[0m     \u001b[38;5;28;43mself\u001b[39;49m\u001b[38;5;241;43m.\u001b[39;49m\u001b[43mwait\u001b[49m\u001b[43m(\u001b[49m\u001b[43m)\u001b[49m\n\u001b[1;32m   1147\u001b[0m \u001b[38;5;28;01melse\u001b[39;00m:\n\u001b[1;32m   1148\u001b[0m     \u001b[38;5;28;01mif\u001b[39;00m timeout \u001b[38;5;129;01mis\u001b[39;00m \u001b[38;5;129;01mnot\u001b[39;00m \u001b[38;5;28;01mNone\u001b[39;00m:\n",
      "File \u001b[0;32m~/Envs/sumo-env/lib/python3.10/subprocess.py:1209\u001b[0m, in \u001b[0;36mPopen.wait\u001b[0;34m(self, timeout)\u001b[0m\n\u001b[1;32m   1207\u001b[0m     endtime \u001b[38;5;241m=\u001b[39m _time() \u001b[38;5;241m+\u001b[39m timeout\n\u001b[1;32m   1208\u001b[0m \u001b[38;5;28;01mtry\u001b[39;00m:\n\u001b[0;32m-> 1209\u001b[0m     \u001b[38;5;28;01mreturn\u001b[39;00m \u001b[38;5;28;43mself\u001b[39;49m\u001b[38;5;241;43m.\u001b[39;49m\u001b[43m_wait\u001b[49m\u001b[43m(\u001b[49m\u001b[43mtimeout\u001b[49m\u001b[38;5;241;43m=\u001b[39;49m\u001b[43mtimeout\u001b[49m\u001b[43m)\u001b[49m\n\u001b[1;32m   1210\u001b[0m \u001b[38;5;28;01mexcept\u001b[39;00m \u001b[38;5;167;01mKeyboardInterrupt\u001b[39;00m:\n\u001b[1;32m   1211\u001b[0m     \u001b[38;5;66;03m# https://bugs.python.org/issue25942\u001b[39;00m\n\u001b[1;32m   1212\u001b[0m     \u001b[38;5;66;03m# The first keyboard interrupt waits briefly for the child to\u001b[39;00m\n\u001b[1;32m   1213\u001b[0m     \u001b[38;5;66;03m# exit under the common assumption that it also received the ^C\u001b[39;00m\n\u001b[1;32m   1214\u001b[0m     \u001b[38;5;66;03m# generated SIGINT and will exit rapidly.\u001b[39;00m\n\u001b[1;32m   1215\u001b[0m     \u001b[38;5;28;01mif\u001b[39;00m timeout \u001b[38;5;129;01mis\u001b[39;00m \u001b[38;5;129;01mnot\u001b[39;00m \u001b[38;5;28;01mNone\u001b[39;00m:\n",
      "File \u001b[0;32m~/Envs/sumo-env/lib/python3.10/subprocess.py:1959\u001b[0m, in \u001b[0;36mPopen._wait\u001b[0;34m(self, timeout)\u001b[0m\n\u001b[1;32m   1957\u001b[0m \u001b[38;5;28;01mif\u001b[39;00m \u001b[38;5;28mself\u001b[39m\u001b[38;5;241m.\u001b[39mreturncode \u001b[38;5;129;01mis\u001b[39;00m \u001b[38;5;129;01mnot\u001b[39;00m \u001b[38;5;28;01mNone\u001b[39;00m:\n\u001b[1;32m   1958\u001b[0m     \u001b[38;5;28;01mbreak\u001b[39;00m  \u001b[38;5;66;03m# Another thread waited.\u001b[39;00m\n\u001b[0;32m-> 1959\u001b[0m (pid, sts) \u001b[38;5;241m=\u001b[39m \u001b[38;5;28;43mself\u001b[39;49m\u001b[38;5;241;43m.\u001b[39;49m\u001b[43m_try_wait\u001b[49m\u001b[43m(\u001b[49m\u001b[38;5;241;43m0\u001b[39;49m\u001b[43m)\u001b[49m\n\u001b[1;32m   1960\u001b[0m \u001b[38;5;66;03m# Check the pid and loop as waitpid has been known to\u001b[39;00m\n\u001b[1;32m   1961\u001b[0m \u001b[38;5;66;03m# return 0 even without WNOHANG in odd situations.\u001b[39;00m\n\u001b[1;32m   1962\u001b[0m \u001b[38;5;66;03m# http://bugs.python.org/issue14396.\u001b[39;00m\n\u001b[1;32m   1963\u001b[0m \u001b[38;5;28;01mif\u001b[39;00m pid \u001b[38;5;241m==\u001b[39m \u001b[38;5;28mself\u001b[39m\u001b[38;5;241m.\u001b[39mpid:\n",
      "File \u001b[0;32m~/Envs/sumo-env/lib/python3.10/subprocess.py:1917\u001b[0m, in \u001b[0;36mPopen._try_wait\u001b[0;34m(self, wait_flags)\u001b[0m\n\u001b[1;32m   1915\u001b[0m \u001b[38;5;250m\u001b[39m\u001b[38;5;124;03m\"\"\"All callers to this function MUST hold self._waitpid_lock.\"\"\"\u001b[39;00m\n\u001b[1;32m   1916\u001b[0m \u001b[38;5;28;01mtry\u001b[39;00m:\n\u001b[0;32m-> 1917\u001b[0m     (pid, sts) \u001b[38;5;241m=\u001b[39m \u001b[43mos\u001b[49m\u001b[38;5;241;43m.\u001b[39;49m\u001b[43mwaitpid\u001b[49m\u001b[43m(\u001b[49m\u001b[38;5;28;43mself\u001b[39;49m\u001b[38;5;241;43m.\u001b[39;49m\u001b[43mpid\u001b[49m\u001b[43m,\u001b[49m\u001b[43m \u001b[49m\u001b[43mwait_flags\u001b[49m\u001b[43m)\u001b[49m\n\u001b[1;32m   1918\u001b[0m \u001b[38;5;28;01mexcept\u001b[39;00m \u001b[38;5;167;01mChildProcessError\u001b[39;00m:\n\u001b[1;32m   1919\u001b[0m     \u001b[38;5;66;03m# This happens if SIGCLD is set to be ignored or waiting\u001b[39;00m\n\u001b[1;32m   1920\u001b[0m     \u001b[38;5;66;03m# for child processes has otherwise been disabled for our\u001b[39;00m\n\u001b[1;32m   1921\u001b[0m     \u001b[38;5;66;03m# process.  This child is dead, we can't get the status.\u001b[39;00m\n\u001b[1;32m   1922\u001b[0m     pid \u001b[38;5;241m=\u001b[39m \u001b[38;5;28mself\u001b[39m\u001b[38;5;241m.\u001b[39mpid\n",
      "\u001b[0;31mKeyboardInterrupt\u001b[0m: "
     ]
    }
   ],
   "source": [
    "SIMULATION_CMD = [\n",
    "    \"sumo\",             \n",
    "    \"-c\", SUMOCFG_XML,\n",
    "    \"--no-step-log\",      \n",
    "    \"--duration-log.statistics\",\n",
    "    \"--xml-validation\", \"never\"  \n",
    "]\n",
    "\n",
    "with open(SIMULATION_LOG, \"w\") as f:\n",
    "    print(\"Running SUMO simulation ...\")\n",
    "    subprocess.run(SIMULATION_CMD, stdout=f, stderr=subprocess.STDOUT, check=True)\n",
    "    print(f\"[DONE] Simulation outputs are created in {SIMULATION_DIR}\\n[LOG] Output logged in {SIMULATION_LOG}\")\n"
   ]
  },
  {
   "cell_type": "markdown",
   "metadata": {},
   "source": [
    "# **VISUALIZATIONS**"
   ]
  },
  {
   "cell_type": "code",
   "execution_count": null,
   "metadata": {},
   "outputs": [],
   "source": [
    "# Departure times versus arrival times\n",
    "PLOT_CMD_1 = [\n",
    "    \"python\", PLOTXMLATTRIBUTES_PY,\n",
    "    VEHROUTES_XML,                 \n",
    "    \"-x\", \"depart\",      \n",
    "    \"-y\", \"arrival\",             \n",
    "    \"-o\", PLOT_1_PNG,\n",
    "    \"--scatterplot\"\n",
    "]\n",
    "\n",
    "subprocess.run(PLOT_CMD_1, check=True)\n"
   ]
  },
  {
   "cell_type": "code",
   "execution_count": null,
   "metadata": {},
   "outputs": [],
   "source": [
    "# All trajectories over time 1\n",
    "PLOT_CMD_2 = [\n",
    "    \"python\", PLOTXMLATTRIBUTES_PY,\n",
    "    TRACE_XML,                 \n",
    "    \"-x\", \"x\",     \n",
    "    \"-y\", \"y\",             \n",
    "    \"-o\", PLOT_2_PNG,\n",
    "    \"--scatterplot\"\n",
    "]\n",
    "\n",
    "subprocess.run(PLOT_CMD_2, check=True)\n"
   ]
  },
  {
   "cell_type": "code",
   "execution_count": null,
   "metadata": {},
   "outputs": [],
   "source": [
    "# Multiple timelines from summary-output\n",
    "PLOT_CMD_3 = [\n",
    "    \"python\", PLOTXMLATTRIBUTES_PY,\n",
    "    SUMMARY_XML,\n",
    "    \"-x\", \"time\",\n",
    "    \"-y\", \"running,halting\",\n",
    "    \"-o\", PLOT_3_PNG,\n",
    "    \"--legend\"\n",
    "]\n",
    "subprocess.run(PLOT_CMD_3, check=True)\n"
   ]
  },
  {
   "cell_type": "code",
   "execution_count": null,
   "metadata": {},
   "outputs": [],
   "source": [
    "# Depart delay over time from TripInfo data\n",
    "PLOT_CMD_4 = [\n",
    "    \"python\", PLOTXMLATTRIBUTES_PY,\n",
    "    TRIPINFO_XML,\n",
    "    \"-x\", \"depart\",\n",
    "    \"-y\", \"departDelay\",\n",
    "    \"--xlabel\", \"depart time [s]\",\n",
    "    \"--ylabel\", \"depart delay [s]\",\n",
    "    \"--ylim\", \"0,40\",\n",
    "    \"--xticks\", \"0,1200,200,10\",\n",
    "    \"--yticks\", \"0,40,5,10\",\n",
    "    \"--xgrid\", \"--ygrid\",\n",
    "    \"--title\", \"depart delay over depart time\",\n",
    "    \"--titlesize\", \"16\",\n",
    "    \"-o\", PLOT_4_PNG\n",
    "]\n",
    "subprocess.run(PLOT_CMD_4, check=True)\n"
   ]
  },
  {
   "cell_type": "code",
   "execution_count": null,
   "metadata": {},
   "outputs": [],
   "source": [
    "QUERIED_VEH_ID = \"carDist1\"\n",
    "# Selected trajectories over time\n",
    "PLOT_CMD_5 = [\n",
    "    \"python\", PLOTXMLATTRIBUTES_PY,\n",
    "    TRACE_XML,\n",
    "    \"-x\", \"x\",\n",
    "    \"-y\", \"y\",\n",
    "    \"-i\", \"id\",\n",
    "    \"--filter-ids\", QUERIED_VEH_ID\n",
    "    \"--scatterplot\",\n",
    "    \"--legend\",\n",
    "    \"-o\", PLOT_5_PNG\n",
    "]\n",
    "subprocess.run(PLOT_CMD_4, check=True)"
   ]
  }
 ],
 "metadata": {
  "kernelspec": {
   "display_name": "Python 3",
   "language": "python",
   "name": "python3"
  },
  "language_info": {
   "codemirror_mode": {
    "name": "ipython",
    "version": 3
   },
   "file_extension": ".py",
   "mimetype": "text/x-python",
   "name": "python",
   "nbconvert_exporter": "python",
   "pygments_lexer": "ipython3",
   "version": "3.10.16"
  }
 },
 "nbformat": 4,
 "nbformat_minor": 2
}
