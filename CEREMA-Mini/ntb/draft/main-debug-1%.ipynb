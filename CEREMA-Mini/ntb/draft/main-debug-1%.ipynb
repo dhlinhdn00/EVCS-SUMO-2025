{
 "cells": [
  {
   "cell_type": "markdown",
   "metadata": {},
   "source": [
    "# **SETUP**"
   ]
  },
  {
   "cell_type": "markdown",
   "metadata": {},
   "source": [
    "## Libs && Envs"
   ]
  },
  {
   "cell_type": "code",
   "execution_count": 1,
   "metadata": {},
   "outputs": [],
   "source": [
    "import os\n",
    "import glob\n",
    "from pathlib import Path\n",
    "import subprocess\n",
    "import sys\n",
    "import shutil\n",
    "from functools import lru_cache\n",
    "from concurrent.futures import ThreadPoolExecutor, as_completed\n",
    "\n",
    "import itertools\n",
    "import random\n",
    "import pandas as pd\n",
    "import math\n",
    "import csv\n",
    "import re\n",
    "from collections import OrderedDict, defaultdict\n",
    "from typing import List, Dict, Tuple\n",
    "from collections import Counter\n",
    "\n",
    "import traci\n",
    "import sumolib\n",
    "import xml.etree.ElementTree as ET\n",
    "from pyproj import Transformer, CRS\n",
    "import networkx as nx\n",
    "from shapely.geometry import Point, Polygon\n",
    "from shapely.ops import unary_union\n",
    "from shapely.errors import TopologicalError\n",
    "\n",
    "from helpers import *\n",
    "\n",
    "# export LD_LIBRARY_PATH=~/Libs/libnsl\n",
    "# export SUMO_HOME=~/Envs/sumo-env/lib/python3.10/site-packages/sumo\n",
    "os.environ[\"LD_LIBRARY_PATH\"] = os.path.expanduser(\"~/Libs/libnsl\")\n",
    "os.environ[\"SUMO_HOME\"] = os.path.expanduser(\"~/Envs/sumo-env/lib/python3.10/site-packages/sumo\")\n"
   ]
  },
  {
   "cell_type": "markdown",
   "metadata": {},
   "source": [
    "## Configs"
   ]
  },
  {
   "cell_type": "code",
   "execution_count": 7,
   "metadata": {},
   "outputs": [],
   "source": [
    "# Fixed PATHs\n",
    "NET_XML = Path(\"/home/hoai-linh.dao/Works/EVCS/CEREMA-Mini/data/newtest-osm.net.xml\")\n",
    "POLY_XML = \"/home/hoai-linh.dao/Works/EVCS/AMP-Metropole/Task-1-Completion/results/p0/newtest-poly/bassin-based.poly.xml\"\n",
    "ORIG_VTYPES_XML = \"/home/hoai-linh.dao/Works/EVCS/CEREMA-Mini/data/integrated-dist.add.xml\"\n",
    "GROUPED_POLY_XML = \"/home/hoai-linh.dao/Works/EVCS/CEREMA-Mini/data/group-based.poly.xml\"\n",
    "FLOW_CSV = \"/home/hoai-linh.dao/Works/EVCS/CEREMA-Mini/data/flow.csv\"\n",
    "MAIN_FLOW_CSV = \"/home/hoai-linh.dao/Works/EVCS/CEREMA-Mini/result/main-flow.csv\"\n",
    "\n",
    "SUMO_TOOLS_DIR = Path(\"/home/hoai-linh.dao/Envs/sumo-env/lib/python3.10/site-packages/sumo/tools\")\n",
    "REROUTING_PY = SUMO_TOOLS_DIR / \"generateContinuousRerouters.py\"\n",
    "NETCHECK_PY = SUMO_TOOLS_DIR / \"net/netcheck.py\"\n",
    "RANDOMTRIPS_PY = SUMO_TOOLS_DIR / \"randomTrips.py\"\n",
    "FINDALLROUTES_PY = SUMO_TOOLS_DIR / \"findAllRoutes.py\"\n",
    "PLOTXMLATTRIBUTES_PY = SUMO_TOOLS_DIR / \"visualization/plotXMLAttributes.py\"\n",
    "PLOTTRAJECTORIES_PY = SUMO_TOOLS_DIR / \"plot_trajectories.py\"\n",
    "PLOTNETDUMP_PY = SUMO_TOOLS_DIR / \"visualization/plot_net_dump.py\"\n",
    "PLOTNETSPEED_PY = SUMO_TOOLS_DIR / \"visualization/plot_net_speed.py\"\n",
    "PLOTNETTRAFFICLIGHTS_PY = SUMO_TOOLS_DIR / \"visualization/plot_net_trafficLights.py\"\n",
    "PLOTSUMMARY_PY = SUMO_TOOLS_DIR / \"visualization/plot_summary.py\"\n",
    "PLOTTRIPINFODISTRIBUTIONS_PY = SUMO_TOOLS_DIR / \"visualization/plot_tripinfo_distributions.py\"\n",
    "PLOTCSVTIMELINE_PY = SUMO_TOOLS_DIR / \"visualization/plot_csv_timeline.py\"\n",
    "PLOTCSVPIE_PY = SUMO_TOOLS_DIR / \"visualization/plot_csv_pie.py\"\n",
    "PLOTCSVBARS_PY = SUMO_TOOLS_DIR / \"visualization/plot_csv_bars.py\"\n",
    "MACROUTPUT_PY = SUMO_TOOLS_DIR / \"visualization/marcoOutput.py\"\n",
    "ROUTESTATS_PY = SUMO_TOOLS_DIR / \"route/routeStats.py\"\n",
    "ROUTECHECK_PY = SUMO_TOOLS_DIR / \"route/routecheck.py\"\n",
    "\n",
    "# Dynamic DIRs\n",
    "SIMULATION_DIR = Path(\"/home/hoai-linh.dao/Works/EVCS/CEREMA-Mini/result/experiments/simulation-debug-1%\")\n",
    "\n",
    "ODS_DIR = SIMULATION_DIR / \"ods\"\n",
    "TRIPS_DIR = SIMULATION_DIR / \"trips\"\n",
    "OUTPUTS_DIR = SIMULATION_DIR / \"outputs\"\n",
    "LOGS_DIR = SIMULATION_DIR / \"logs\"\n",
    "VISUALIZATIONS_DIR = SIMULATION_DIR / \"visualizations\"\n",
    "\n",
    "SIMULATION_DIR.mkdir(parents=True, exist_ok=True)\n",
    "for path in [ODS_DIR, TRIPS_DIR, OUTPUTS_DIR, LOGS_DIR, VISUALIZATIONS_DIR]:\n",
    "    path.mkdir(parents=True, exist_ok=True)\n",
    "\n",
    "# Dynamic PATHs\n",
    "TAZ_XML = SIMULATION_DIR / \"taz.add.xml\"\n",
    "VTYPES_DIST_XML = SIMULATION_DIR / \"vtypes-dist.add.xml\"\n",
    "ALL_TRIPS_XML = SIMULATION_DIR / \"trips.xml\"\n",
    "ROUTE_XML = SIMULATION_DIR / \"route.xml\"\n",
    "ROUTE_ALT_XML = SIMULATION_DIR / \"route.alt.xml\"\n",
    "REROUTER_XML = SIMULATION_DIR / \"rerouter.add.xml\"\n",
    "SUMOCFG_XML = SIMULATION_DIR / \"run.sumocfg\"\n",
    "\n",
    "DUAROUTER_LOG = LOGS_DIR / \"duarouter.log\"\n",
    "SIMULATION_LOG = LOGS_DIR / \"sumo_run.log\"\n",
    "REROUTING_LOG = LOGS_DIR / \"rerouting.log\"\n",
    "\n",
    "# Outputs Paths\n",
    "COLLISIONS_XML = OUTPUTS_DIR / \"collisions.xml\"\n",
    "BATTERY_XML = OUTPUTS_DIR / \"battery.xml\"\n",
    "LANECHANGES_XML = OUTPUTS_DIR / \"laneChanges.xml\"\n",
    "STATISTICS_XML = OUTPUTS_DIR / \"statistics.xml\"\n",
    "TRACE_XML = OUTPUTS_DIR / \"sumoTrace.xml\"\n",
    "SUMMARY_XML = OUTPUTS_DIR / \"summary.xml\"\n",
    "TRIPINFO_XML = OUTPUTS_DIR / \"tripinfo.xml\"\n",
    "VEHROUTES_XML = OUTPUTS_DIR / \"vehRoutes.xml\"\n",
    "\n",
    "# Visualization Paths\n",
    "PLOT_1_PNG = VISUALIZATIONS_DIR / \"plot_1.png\"\n",
    "PLOT_2_PNG = VISUALIZATIONS_DIR / \"plot_2.png\"\n",
    "PLOT_3_PNG = VISUALIZATIONS_DIR / \"plot_3.png\"\n",
    "PLOT_4_PNG = VISUALIZATIONS_DIR / \"plot_4.png\"\n",
    "PLOT_5_PNG = VISUALIZATIONS_DIR / \"plot_5.png\"\n",
    "PLOT_6_PNG = VISUALIZATIONS_DIR / \"plot_6.png\"\n",
    "PLOT_7_PNG = VISUALIZATIONS_DIR / \"plot_7.png\"\n",
    "PLOT_8_PNG = VISUALIZATIONS_DIR / \"plot_8.png\"\n",
    "\n",
    "# Net-Repairment Task\n",
    "NET_REPAIRMENT_DIR = Path(\"/home/hoai-linh.dao/Works/EVCS/CEREMA-Mini/result/net-repairment\")\n",
    "CLEANED_NET_XML_1 = NET_REPAIRMENT_DIR /  f\"cleaned_1_{NET_XML.name}\"\n",
    "CLEANED_NET_XML_2 = NET_REPAIRMENT_DIR /  f\"cleaned_2_{NET_XML.name}\"\n",
    "\n",
    "KEEP_EDGES_TXT_1 = NET_REPAIRMENT_DIR / \"keep-edges_1.txt\"\n",
    "KEEP_EDGES_TXT_2 = NET_REPAIRMENT_DIR / \"keep-edges_2.txt\"\n",
    "COMPONENTS_NW_TXT_1 = NET_REPAIRMENT_DIR / \"components_nw_1.txt\"\n",
    "COMPONENTS_NW_TXT_2 = NET_REPAIRMENT_DIR / \"components_nw_2.txt\"\n",
    "\n",
    "NET_REPAIRMENT_LOGS_DIR = NET_REPAIRMENT_DIR / \"logs\"\n",
    "NETCHECK_LOG_1 = NET_REPAIRMENT_LOGS_DIR / \"netcheck_1.log\"\n",
    "NETCHECK_LOG_2 = NET_REPAIRMENT_LOGS_DIR / \"netcheck_2.log\"\n",
    "NETCHECK_LOG_3 = NET_REPAIRMENT_LOGS_DIR / \"netcheck_3.log\"\n",
    "NETCONVERT_LOG_1 = NET_REPAIRMENT_LOGS_DIR / \"netconvert_1.log\"\n",
    "NETCONVERT_LOG_2 = NET_REPAIRMENT_LOGS_DIR / \"netconvert_2.log\"\n"
   ]
  },
  {
   "cell_type": "code",
   "execution_count": 3,
   "metadata": {},
   "outputs": [],
   "source": [
    "TAZ_IDS = {\n",
    "    'marseille': '1',\n",
    "    'aix-en-provence': '2',\n",
    "    'est-etang-de-berre': '3',\n",
    "    'nord-ouest': '4',\n",
    "    'ouest-etang-de-berre': '5',\n",
    "    'sud-est': '6',\n",
    "    'hors_amp': '99'\n",
    "}\n",
    "\n",
    "BORDER_RATIO = 0.40\n",
    "REAL_ORIGIN   = 'marseille'\n",
    "\n",
    "CAR_PREFIX = \"carDist\"              \n",
    "EV_BRANDS = [\"Renault\", \"Tesla\", \"Citroen\", \"Peugeot\", \"Dacia\", \"Volkswagen\", \"BMW\", \"Fiat\", \"KIA\"]\n",
    "\n",
    "EV_RATIO = 0.20\n",
    "\n",
    "DIST_ID = \"vehDist\"\n",
    "\n",
    "# Page 11\n",
    "INCOMING_RATIO = 178729/(178729 + 174729)\n",
    "OUTGOING_RATIO = 174729/(178729 + 174729)\n",
    "INCOMING_RATIO, OUTGOING_RATIO\n",
    "\n",
    "# Page 14 + Page 15\n",
    "TRIPS_RATIO_0 = 1 # default\n",
    "TRIPS_RATIO_1 = 0.40 # Marseille \n",
    "TRIPS_RATIO_2 = 0.41 # Marseille Bassin\n",
    "TRIPS_RATIO_3 = 0.52 # AMP Bassin = CEREMA\n",
    "TRIPS_RATIO_4 = 0.10 # test\n",
    "TRIPS_RATIO_5 = 0.01 # debug duarouter"
   ]
  },
  {
   "cell_type": "markdown",
   "metadata": {},
   "source": [
    "# **PREPARATION**"
   ]
  },
  {
   "cell_type": "markdown",
   "metadata": {},
   "source": [
    "## Processing Raw Flow"
   ]
  },
  {
   "cell_type": "code",
   "execution_count": null,
   "metadata": {},
   "outputs": [],
   "source": [
    "df = pd.read_csv(FLOW_CSV)\n",
    "\n",
    "columns_inter = ['Est_Etang-de-Berre','Aix-en-Provence','Sud-Est','Ouest_Etang-de-Berre','Nord-Ouest','Hors_AMP']\n",
    "df[\"Intra\"] = df[\"Total\"] - df[columns_inter].sum(axis=1)\n",
    "\n",
    "df.columns = [col.lower() for col in df.columns]\n",
    "\n",
    "df.to_csv(MAIN_FLOW_CSV, index=False)\n"
   ]
  },
  {
   "cell_type": "markdown",
   "metadata": {},
   "source": [
    "## Repairing Network"
   ]
  },
  {
   "cell_type": "code",
   "execution_count": null,
   "metadata": {},
   "outputs": [],
   "source": [
    "NETCHECK_CMD_1 = [\n",
    "    \"python\", NETCHECK_PY,\n",
    "    NET_XML,\n",
    "    \"--vclass\", \"passenger\",\n",
    "    \"--component-output\", COMPONENTS_NW_TXT_1\n",
    "]\n",
    "\n",
    "with open(NETCHECK_LOG_1, \"w\") as f:\n",
    "    print(f\"Running NETCHECK Step 1 ...\")\n",
    "    subprocess.run(NETCHECK_CMD_1, stdout=f, stderr=subprocess.STDOUT, check=True)\n",
    "    print(f\"[DONE] Components Ouput written to {COMPONENTS_NW_TXT_1}\\n[LOG] Output logged in {NETCHECK_LOG_1}\")\n",
    "\n",
    "print()\n",
    "print(f\"Running extractMaxComponent ...\")\n",
    "extractMaxComponent(COMPONENTS_NW_TXT_1, KEEP_EDGES_TXT_1)\n"
   ]
  },
  {
   "cell_type": "code",
   "execution_count": null,
   "metadata": {},
   "outputs": [],
   "source": [
    "NETCONVERT_CMD_1 = [\n",
    "    \"netconvert\",\n",
    "    \"--net-file\", NET_XML,\n",
    "    \"--keep-edges.input-file\", KEEP_EDGES_TXT_1,\n",
    "    \"--geometry.remove\",\n",
    "    \"--geometry.remove.min-length\", \"2\",\n",
    "    \"--geometry.max-segment-length\", \"20\",\n",
    "    \"--geometry.min-dist\", \"0.1\",\n",
    "    \"--geometry.max-angle\", \"150\",\n",
    "    \"--geometry.max-angle.fix\",\n",
    "    \"--remove-edges.isolated\",\n",
    "    \"--junctions.join\",\n",
    "    \"--junctions.join-dist\", \"60\",\n",
    "    \"--roundabouts.guess\",\n",
    "    \"--ramps.guess\",\n",
    "    \"--keep-edges.by-vclass=passenger\",\n",
    "    \"--osm.bike-access=false\",\n",
    "    \"--osm.sidewalks=false\",\n",
    "    \"--crossings.guess=false\",\n",
    "    \"--tls.guess\",\n",
    "    \"--tls.guess.threshold\", \"40\",\n",
    "    \"--tls.join\",\n",
    "    \"--tls.layout\", \"incoming\",\n",
    "    \"--tls.discard-loaded\",\n",
    "    \"--ptstop-output\", \"/dev/null\",\n",
    "    \"--ptline-output\", \"/dev/null\",\n",
    "    \"-o\", CLEANED_NET_XML_1\n",
    "]\n",
    "\n",
    "with open(NETCONVERT_LOG_1, \"w\") as f:\n",
    "    print(f\"Running NETCONVERT Step 1 ...\")\n",
    "    subprocess.run(NETCONVERT_CMD_1, stdout=f, stderr=subprocess.STDOUT, check=True)\n",
    "    print(f\"[DONE] Cleaned Network written to {CLEANED_NET_XML_1}\\n[LOG] Output logged in {NETCONVERT_LOG_1}\")\n"
   ]
  },
  {
   "cell_type": "code",
   "execution_count": null,
   "metadata": {},
   "outputs": [],
   "source": [
    "NETCHECK_CMD_2 = [\n",
    "    \"python\", NETCHECK_PY,\n",
    "    CLEANED_NET_XML_1,\n",
    "    \"--vclass\", \"passenger\",\n",
    "    \"--component-output\", COMPONENTS_NW_TXT_2,\n",
    "    \"-t\"\n",
    "]\n",
    "\n",
    "with open(NETCHECK_LOG_2, \"w\") as f:\n",
    "    print(f\"Running NETCHECK Step 2 ...\")\n",
    "    subprocess.run(NETCHECK_CMD_2, stdout=f, stderr=subprocess.STDOUT, check=True)\n",
    "    print(f\"[DONE] Output logged in {NETCHECK_LOG_2}\")\n",
    "\n",
    "print()\n",
    "print(f\"Running extractMaxComponent ...\")\n",
    "extractMaxComponent(COMPONENTS_NW_TXT_2, KEEP_EDGES_TXT_2)\n"
   ]
  },
  {
   "cell_type": "code",
   "execution_count": null,
   "metadata": {},
   "outputs": [],
   "source": [
    "NETCONVERT_CMD_2 = [\n",
    "    \"netconvert\",\n",
    "    \"--net-file\", CLEANED_NET_XML_1,\n",
    "    \"--keep-edges.input-file\", KEEP_EDGES_TXT_2,\n",
    "    \"-o\", CLEANED_NET_XML_2\n",
    "]\n",
    "\n",
    "with open(NETCONVERT_LOG_2, \"w\") as f:\n",
    "    print(f\"Running NETCONVERT Step 2 ...\")\n",
    "    subprocess.run(NETCONVERT_CMD_2, stdout=f, stderr=subprocess.STDOUT, check=True)\n",
    "    print(f\"[DONE] Cleaned Network written to {CLEANED_NET_XML_2}\\n[LOG] Output logged in {NETCONVERT_LOG_2}\")\n"
   ]
  },
  {
   "cell_type": "code",
   "execution_count": 8,
   "metadata": {},
   "outputs": [
    {
     "name": "stdout",
     "output_type": "stream",
     "text": [
      "Running NETCHECK Step 3 ...\n"
     ]
    },
    {
     "name": "stdout",
     "output_type": "stream",
     "text": [
      "[DONE] Output logged in /home/hoai-linh.dao/Works/EVCS/CEREMA-Mini/result/net-repairment/logs/netcheck_3.log\n"
     ]
    }
   ],
   "source": [
    "NETCHECK_CMD_3 = [\n",
    "    \"python\", NETCHECK_PY,\n",
    "    CLEANED_NET_XML_2,\n",
    "    \"--vclass\", \"passenger\",\n",
    "    \"-t\"\n",
    "\n",
    "]\n",
    "\n",
    "with open(NETCHECK_LOG_3, \"w\") as f:\n",
    "    print(f\"Running NETCHECK Step 3 ...\")\n",
    "    subprocess.run(NETCHECK_CMD_3, stdout=f, stderr=subprocess.STDOUT, check=True)\n",
    "    print(f\"[DONE] Output logged in {NETCHECK_LOG_3}\")\n"
   ]
  },
  {
   "cell_type": "code",
   "execution_count": 11,
   "metadata": {},
   "outputs": [
    {
     "name": "stdout",
     "output_type": "stream",
     "text": [
      "64502815#1  → 510193665: True\n",
      "510193665   → 64502815#1: False\n"
     ]
    }
   ],
   "source": [
    "net = sumolib.net.readNet(CLEANED_NET_XML_2)\n",
    "\n",
    "# Chiều A → B\n",
    "print(\"64502815#1  → 510193665:\",\n",
    "      net.getShortestPath(\n",
    "          net.getEdge('64502815#1'),\n",
    "          net.getEdge('510193665'))[0] is None)\n",
    "\n",
    "# Chiều ngược lại B → A\n",
    "print(\"510193665   → 64502815#1:\",\n",
    "      net.getShortestPath(\n",
    "          net.getEdge('510193665'),\n",
    "          net.getEdge('64502815#1'))[0] is None)\n"
   ]
  },
  {
   "cell_type": "markdown",
   "metadata": {},
   "source": [
    "## Checking Route"
   ]
  },
  {
   "cell_type": "code",
   "execution_count": null,
   "metadata": {},
   "outputs": [
    {
     "name": "stderr",
     "output_type": "stream",
     "text": [
      "Traceback (most recent call last):\n",
      "  File \"/home/hoai-linh.dao/Envs/sumo-env/lib/python3.10/site-packages/sumo/tools/route/routeStats.py\", line 158, in <module>\n",
      "    main()\n",
      "  File \"/home/hoai-linh.dao/Envs/sumo-env/lib/python3.10/site-packages/sumo/tools/route/routeStats.py\", line 127, in main\n",
      "    length = attribute_retriever(vehicle)\n",
      "  File \"/home/hoai-linh.dao/Envs/sumo-env/lib/python3.10/site-packages/sumo/tools/route/routeStats.py\", line 101, in attribute_retriever\n",
      "    return float(vehicle.routeLength)\n",
      "TypeError: float() argument must be a string or a real number, not 'NoneType'\n"
     ]
    },
    {
     "ename": "CalledProcessError",
     "evalue": "Command '['python', PosixPath('/home/hoai-linh.dao/Envs/sumo-env/lib/python3.10/site-packages/sumo/tools/route/routeStats.py'), PosixPath('/home/hoai-linh.dao/Works/EVCS/CEREMA-Mini/result/vtypes-simulation/route.alt.xml'), '-a', 'routeLength', '--binwidth', '500', '--hist-output', '/home/hoai-linh.dao/Works/EVCS/CEREMA-Mini/result/hist.dat']' returned non-zero exit status 1.",
     "output_type": "error",
     "traceback": [
      "\u001b[0;31m---------------------------------------------------------------------------\u001b[0m",
      "\u001b[0;31mCalledProcessError\u001b[0m                        Traceback (most recent call last)",
      "Cell \u001b[0;32mIn[10], line 9\u001b[0m\n\u001b[1;32m      1\u001b[0m ROUTESTATS_CMD \u001b[38;5;241m=\u001b[39m [\n\u001b[1;32m      2\u001b[0m     \u001b[38;5;124m\"\u001b[39m\u001b[38;5;124mpython\u001b[39m\u001b[38;5;124m\"\u001b[39m, ROUTESTATS_PY,\n\u001b[1;32m      3\u001b[0m     ROUTE_ALT_XML,\n\u001b[0;32m   (...)\u001b[0m\n\u001b[1;32m      7\u001b[0m     \u001b[38;5;124m\"\u001b[39m\u001b[38;5;124m--hist-output\u001b[39m\u001b[38;5;124m\"\u001b[39m, \u001b[38;5;124m\"\u001b[39m\u001b[38;5;124m/home/hoai-linh.dao/Works/EVCS/CEREMA-Mini/result/hist.dat\u001b[39m\u001b[38;5;124m\"\u001b[39m\n\u001b[1;32m      8\u001b[0m ]\n\u001b[0;32m----> 9\u001b[0m \u001b[43msubprocess\u001b[49m\u001b[38;5;241;43m.\u001b[39;49m\u001b[43mrun\u001b[49m\u001b[43m(\u001b[49m\u001b[43mROUTESTATS_CMD\u001b[49m\u001b[43m,\u001b[49m\u001b[43m \u001b[49m\u001b[43mcheck\u001b[49m\u001b[38;5;241;43m=\u001b[39;49m\u001b[38;5;28;43;01mTrue\u001b[39;49;00m\u001b[43m)\u001b[49m\n",
      "File \u001b[0;32m~/Envs/sumo-env/lib/python3.10/subprocess.py:526\u001b[0m, in \u001b[0;36mrun\u001b[0;34m(input, capture_output, timeout, check, *popenargs, **kwargs)\u001b[0m\n\u001b[1;32m    524\u001b[0m     retcode \u001b[38;5;241m=\u001b[39m process\u001b[38;5;241m.\u001b[39mpoll()\n\u001b[1;32m    525\u001b[0m     \u001b[38;5;28;01mif\u001b[39;00m check \u001b[38;5;129;01mand\u001b[39;00m retcode:\n\u001b[0;32m--> 526\u001b[0m         \u001b[38;5;28;01mraise\u001b[39;00m CalledProcessError(retcode, process\u001b[38;5;241m.\u001b[39margs,\n\u001b[1;32m    527\u001b[0m                                  output\u001b[38;5;241m=\u001b[39mstdout, stderr\u001b[38;5;241m=\u001b[39mstderr)\n\u001b[1;32m    528\u001b[0m \u001b[38;5;28;01mreturn\u001b[39;00m CompletedProcess(process\u001b[38;5;241m.\u001b[39margs, retcode, stdout, stderr)\n",
      "\u001b[0;31mCalledProcessError\u001b[0m: Command '['python', PosixPath('/home/hoai-linh.dao/Envs/sumo-env/lib/python3.10/site-packages/sumo/tools/route/routeStats.py'), PosixPath('/home/hoai-linh.dao/Works/EVCS/CEREMA-Mini/result/vtypes-simulation/route.alt.xml'), '-a', 'routeLength', '--binwidth', '500', '--hist-output', '/home/hoai-linh.dao/Works/EVCS/CEREMA-Mini/result/hist.dat']' returned non-zero exit status 1."
     ]
    }
   ],
   "source": [
    "ROUTESTATS_CMD = [\n",
    "    \"python\", ROUTESTATS_PY,\n",
    "    ROUTE_ALT_XML,\n",
    "    # \"-n\", CLEANED_NET_XML_2,\n",
    "    \"-a\", \"routeLength\",\n",
    "    \"--binwidth\", \"500\",\n",
    "    \"--hist-output\", \"/home/hoai-linh.dao/Works/EVCS/CEREMA-Mini/result/hist.dat\"\n",
    "]\n",
    "subprocess.run(ROUTESTATS_CMD, check=True)\n"
   ]
  },
  {
   "cell_type": "code",
   "execution_count": null,
   "metadata": {},
   "outputs": [],
   "source": []
  },
  {
   "cell_type": "markdown",
   "metadata": {},
   "source": [
    "# **MAIN**"
   ]
  },
  {
   "cell_type": "markdown",
   "metadata": {},
   "source": [
    "## Draft"
   ]
  },
  {
   "cell_type": "code",
   "execution_count": null,
   "metadata": {},
   "outputs": [
    {
     "name": "stdout",
     "output_type": "stream",
     "text": [
      "[1] Reading basins …\n",
      "[2] Scanning network …\n"
     ]
    },
    {
     "name": "stdout",
     "output_type": "stream",
     "text": [
      "[2a] Inner‑basin filter … (threads=128 | sample=5)\n"
     ]
    }
   ],
   "source": [
    "BORDER_RATIO   = 0.4      # boundary vs interior share\n",
    "SAMPLE_INNER   = 5       # targets per edge within basin\n",
    "SAMPLE_CROSS   = 5       # targets per edge across basins\n",
    "MAX_WORKERS    = max(os.cpu_count() or 4, 4)  # thread pool size\n",
    "\n",
    "def parse_shape(shape_str: str):\n",
    "    try:\n",
    "        coords = [tuple(map(float, p.split(','))) for p in shape_str.split()]\n",
    "    except ValueError:\n",
    "        return None\n",
    "    if len(coords) < 3:\n",
    "        return None\n",
    "    if coords[0] != coords[-1]:\n",
    "        coords.append(coords[0])\n",
    "    poly = Polygon(coords)\n",
    "    if not poly.is_valid:\n",
    "        poly = poly.buffer(0)\n",
    "    return poly if poly.is_valid else None\n",
    "\n",
    "\n",
    "def boundary_edges(edges, geom, ratio=0.1):\n",
    "    if geom is None:\n",
    "        return []\n",
    "    minx, miny, maxx, maxy = geom.bounds\n",
    "    th = min(maxx - minx, maxy - miny) * ratio\n",
    "    boundary = geom.boundary\n",
    "    return [e for e in edges if Point(e.getShape()[len(e.getShape())//2]).distance(boundary) < th]\n",
    "\n",
    "\n",
    "def has_reverse(edge):\n",
    "    fn, tn = edge.getFromNode(), edge.getToNode()\n",
    "    return any(o.getToNode() is fn for o in tn.getOutgoing())\n",
    "\n",
    "\n",
    "def is_valid_edge(edge):\n",
    "    return (not edge.getID().startswith('-') and  # skip reverse\n",
    "            not edge.getID().endswith(('-source', '-sink')) and\n",
    "            edge.getShape() and\n",
    "            has_reverse(edge))\n",
    "\n",
    "\n",
    "# Memoised shortest‑path query ------------------------------------------------\n",
    "@lru_cache(maxsize=100000)\n",
    "def _reachable_cached(eid_from: str, eid_to: str, net):\n",
    "    return net.getShortestPath(net.getEdge(eid_from), net.getEdge(eid_to))[0] is not None\n",
    "\n",
    "def reachable(e_from, e_to, net):\n",
    "    return _reachable_cached(e_from.getID(), e_to.getID(), net)\n",
    "\n",
    "\n",
    "# Parallel filter ------------------------------------------------------------\n",
    "\n",
    "def _test_edge_reachability(args):\n",
    "    e, pool_ids, sample, net = args\n",
    "    if len(pool_ids) <= 1:\n",
    "        return e, True\n",
    "    targets = random.sample([tid for tid in pool_ids if tid != e.getID()], min(sample, len(pool_ids)-1))\n",
    "    ok_out = any(reachable(e, net.getEdge(tid), net) for tid in targets)\n",
    "    ok_in  = any(reachable(net.getEdge(tid), e, net) for tid in targets)\n",
    "    return e, ok_out and ok_in\n",
    "\n",
    "\n",
    "def filter_reachable(pool, net, sample):\n",
    "    pool_ids = [e.getID() for e in pool]\n",
    "    keep = []\n",
    "    with ThreadPoolExecutor(max_workers=MAX_WORKERS) as exe:\n",
    "        futures = [exe.submit(_test_edge_reachability, (e, pool_ids, sample, net)) for e in pool]\n",
    "        for fut in as_completed(futures):\n",
    "            e, ok = fut.result()\n",
    "            if ok:\n",
    "                keep.append(e)\n",
    "    return keep\n",
    "\n",
    "# ----------------------------------------------------------------------------\n",
    "# STEP‑1  Build basin geometries\n",
    "# ----------------------------------------------------------------------------\n",
    "print(\"[1] Reading basins …\")\n",
    "region_geoms = defaultdict(list)\n",
    "for p in ET.parse(GROUPED_POLY_XML).getroot().findall('poly'):\n",
    "    reg = p.get('type')\n",
    "    geom = parse_shape(p.get('shape', ''))\n",
    "    if reg and geom:\n",
    "        region_geoms[reg].append(geom)\n",
    "for reg, polys in region_geoms.items():\n",
    "    region_geoms[reg] = unary_union(polys) if len(polys) > 1 else polys[0]\n",
    "\n",
    "# ----------------------------------------------------------------------------\n",
    "# STEP‑2  Scan network & assign edges\n",
    "# ----------------------------------------------------------------------------\n",
    "print(\"[2] Scanning network …\")\n",
    "NET = sumolib.net.readNet(CLEANED_NET_XML_2)\n",
    "\n",
    "edges_by_region = defaultdict(list)\n",
    "outside = []\n",
    "for e in NET.getEdges():\n",
    "    if not is_valid_edge(e):\n",
    "        continue\n",
    "    mid = Point(e.getShape()[len(e.getShape())//2])\n",
    "    for reg, geom in region_geoms.items():\n",
    "        if geom.contains(mid):\n",
    "            edges_by_region[reg].append(e)\n",
    "            break\n",
    "    else:\n",
    "        outside.append(e)\n",
    "edges_by_region['hors_amp'] = outside\n",
    "\n",
    "# ----------------------------------------------------------------------------\n",
    "# STEP‑2a  Inner‑basin connectivity filter\n",
    "# ----------------------------------------------------------------------------\n",
    "print(\"[2a] Inner‑basin filter … (threads={} | sample={})\".format(MAX_WORKERS, SAMPLE_INNER))\n",
    "for reg, pool in list(edges_by_region.items()):\n",
    "    kept = filter_reachable(pool, NET, SAMPLE_INNER)\n",
    "    if len(kept) < len(pool):\n",
    "        print(f\"  – {reg}: {len(pool)-len(kept)} removed (isolated)\")\n",
    "    edges_by_region[reg] = kept\n",
    "\n",
    "# ----------------------------------------------------------------------------\n",
    "# STEP‑2b  Cross‑basin connectivity filter\n",
    "# ----------------------------------------------------------------------------\n",
    "print(\"[2b] Cross‑basin filter … (sample={})\".format(SAMPLE_CROSS))\n",
    "for reg_from, pool_from in list(edges_by_region.items()):\n",
    "    others = [e for r, p in edges_by_region.items() if r != reg_from for e in p]\n",
    "    if not pool_from or not others:\n",
    "        continue\n",
    "    other_ids = [e.getID() for e in others]\n",
    "\n",
    "    keep = []\n",
    "    with ThreadPoolExecutor(max_workers=MAX_WORKERS) as exe:\n",
    "        futures = []\n",
    "        for e in pool_from:\n",
    "            tgt_ids = random.sample(other_ids, min(SAMPLE_CROSS, len(other_ids)))\n",
    "            futures.append(exe.submit(_test_edge_reachability, (e, tgt_ids, len(tgt_ids), NET)))\n",
    "        for fut in as_completed(futures):\n",
    "            e, ok = fut.result()\n",
    "            if ok:\n",
    "                keep.append(e)\n",
    "    removed = len(pool_from) - len(keep)\n",
    "    if removed:\n",
    "        print(f\"  – {reg_from}: {removed} removed (no cross reach)\")\n",
    "    edges_by_region[reg_from] = keep\n",
    "\n",
    "# ----------------------------------------------------------------------------\n",
    "# STEP‑3  Write TAZ\n",
    "# ----------------------------------------------------------------------------\n",
    "print(\"[3] Writing TAZ …\")\n",
    "root = ET.Element('tazs')\n",
    "for reg, pool in edges_by_region.items():\n",
    "    if not pool:\n",
    "        continue\n",
    "    tid = TAZ_IDS.get(reg.lower())\n",
    "    if tid is None:\n",
    "        print(f\"  ! no TAZ id for {reg}; skip\")\n",
    "        continue\n",
    "    geom = region_geoms.get(reg)\n",
    "    B = boundary_edges(pool, geom)\n",
    "    I = [e for e in pool if e not in B]\n",
    "    nb = int(BORDER_RATIO * len(pool))\n",
    "    ni = len(pool) - nb\n",
    "    chosen = random.sample(B, min(nb, len(B))) + random.sample(I, min(ni, len(I)))\n",
    "\n",
    "    c = geom.centroid if geom else Point(0, 0)\n",
    "    taz = ET.SubElement(root, 'taz', id=str(tid), x=f\"{c.x:.2f}\", y=f\"{c.y:.2f}\")\n",
    "    for e in sorted(chosen, key=lambda x: x.getID()):\n",
    "        ET.SubElement(taz, 'tazSource', id=e.getID(), weight='1.0')\n",
    "        ET.SubElement(taz, 'tazSink',   id=e.getID(), weight='1.0')\n",
    "\n",
    "ET.ElementTree(root).write(TAZ_XML, encoding='utf-8', xml_declaration=True)\n",
    "print(f\"[DONE] {TAZ_XML} ready — inner/cross filters multithreaded.\")\n"
   ]
  },
  {
   "cell_type": "markdown",
   "metadata": {},
   "source": [
    "## CREATING TAZ"
   ]
  },
  {
   "cell_type": "code",
   "execution_count": 9,
   "metadata": {},
   "outputs": [
    {
     "name": "stdout",
     "output_type": "stream",
     "text": [
      "[CHECK] BBs based on bassin:\n",
      "  Marseille: (681071.41, 4782435.09, 707896.24, 4809844.54)\n",
      "  Aix-En-Provence: (675875.66, 4806237.37, 726750.02, 4846094.13)\n",
      "  Est-Etang-de-Berre: (661512.74, 4799268.23, 692628.4, 4824635.74)\n",
      "  Nord-Ouest: (657332.98, 4821077.14, 684620.21, 4848686.82)\n",
      "  Ouest-Etang-de-Berre: (640339.8, 4798892.24, 671498.4, 4834166.7)\n",
      "  Sud-Est: (702844.16, 4781624.45, 724169.27, 4813232.06)\n"
     ]
    }
   ],
   "source": [
    "poly_tree = ET.parse(GROUPED_POLY_XML)\n",
    "poly_root = poly_tree.getroot()\n",
    "\n",
    "region_polys = defaultdict(list)\n",
    "for poly in poly_root.findall(\"poly\"):\n",
    "    region = poly.get(\"type\")\n",
    "    shape_str = poly.get(\"shape\")\n",
    "    if region and shape_str:\n",
    "        polygon = parseShape(shape_str)\n",
    "        if polygon is not None:\n",
    "            region_polys[region].append(polygon)\n",
    "\n",
    "region_geoms = {}\n",
    "for region, polys in region_polys.items():\n",
    "    if polys:\n",
    "        try:\n",
    "            region_geoms[region] = unary_union(polys)\n",
    "        except TopologicalError as e:\n",
    "            print(f\"[ERROR] Topology error in bassin {region}: {e}\")\n",
    "\n",
    "print(\"[CHECK] BBs based on bassin:\")\n",
    "for region, geom in region_geoms.items():\n",
    "    print(f\"  {region}: {geom.bounds}\")\n",
    "    "
   ]
  },
  {
   "cell_type": "code",
   "execution_count": 10,
   "metadata": {},
   "outputs": [],
   "source": [
    "net = sumolib.net.readNet(CLEANED_NET_XML_2)\n",
    "tree_net = ET.parse(CLEANED_NET_XML_2)\n",
    "root_net = tree_net.getroot()\n",
    "location_elem = root_net.find(\"location\")\n",
    "if location_elem is None or \"projParameter\" not in location_elem.attrib:\n",
    "    raise ValueError(\"Not found <location> or projParameter in net.xml\")\n",
    "proj_param = location_elem.attrib[\"projParameter\"]\n",
    "target_crs = CRS.from_proj4(proj_param)\n",
    "transformer = Transformer.from_crs(\"epsg:4326\", target_crs, always_xy=True)\n",
    "\n",
    "edges_by_region = defaultdict(list)\n",
    "edges_hors = []\n",
    "\n",
    "for edge in net.getEdges():\n",
    "    if edge.getID().endswith(\"-source\") or edge.getID().endswith(\"-sink\"):\n",
    "        continue\n",
    "    shape = edge.getShape()\n",
    "    if not shape:\n",
    "        continue\n",
    "    mid_pt = shape[len(shape)//2]\n",
    "    pt = Point(mid_pt[0], mid_pt[1])\n",
    "\n",
    "    assigned = False\n",
    "    for region, geom in region_geoms.items():\n",
    "        if geom.contains(pt):\n",
    "            edges_by_region[region].append(edge)\n",
    "            assigned = True\n",
    "            break\n",
    "\n",
    "    if not assigned:\n",
    "        edges_hors.append(edge)\n",
    "        \n",
    "edges_by_region['hors_amp'] = edges_hors\n"
   ]
  },
  {
   "cell_type": "code",
   "execution_count": 11,
   "metadata": {},
   "outputs": [
    {
     "name": "stdout",
     "output_type": "stream",
     "text": [
      "[CHECK] Bassin Aix-En-Provence: total edges = 40267\n",
      "    boundary edges (B): 16029\n",
      "    interior edges (I): 24238\n",
      "    => selected for TAZ : 40190\n",
      "\n",
      "[CHECK] Bassin Ouest-Etang-de-Berre: total edges = 21546\n",
      "    boundary edges (B): 19557\n",
      "    interior edges (I): 1989\n",
      "    => selected for TAZ : 10607\n",
      "\n",
      "[CHECK] Bassin Est-Etang-de-Berre: total edges = 23540\n",
      "    boundary edges (B): 8919\n",
      "    interior edges (I): 14621\n",
      "    => selected for TAZ : 23043\n",
      "\n",
      "[CHECK] Bassin Marseille: total edges = 31481\n",
      "    boundary edges (B): 16169\n",
      "    interior edges (I): 15312\n",
      "    => selected for TAZ : 27904\n",
      "\n",
      "[CHECK] Bassin Sud-Est: total edges = 16139\n",
      "    boundary edges (B): 7154\n",
      "    interior edges (I): 8985\n",
      "    => selected for TAZ : 15440\n",
      "\n",
      "[CHECK] Bassin Nord-Ouest: total edges = 14904\n",
      "    boundary edges (B): 9852\n",
      "    interior edges (I): 5052\n",
      "    => selected for TAZ : 11013\n",
      "\n",
      "[CHECK] Bassin hors_amp: total edges = 17931\n",
      "    boundary edges (B): 0\n",
      "    interior edges (I): 17931\n",
      "    => selected for TAZ : 17931\n",
      "\n",
      "\n",
      "[DONE] TAZ file written to /home/hoai-linh.dao/Works/EVCS/CEREMA-Mini/result/experiments/simulation-debug-1%/taz.add.xml\n"
     ]
    }
   ],
   "source": [
    "taz_root = ET.Element('tazs')\n",
    "\n",
    "for region, edges in edges_by_region.items():\n",
    "\n",
    "    rid    = region.lower()\n",
    "    taz_id = TAZ_IDS.get(rid)\n",
    "    if not taz_id:\n",
    "        print(f\"[ERROR] No TAZ ID for {region}, skip\")\n",
    "        continue\n",
    "\n",
    "    geom = region_geoms.get(region)        \n",
    "    if geom is None:\n",
    "        B, I = [], edges[:]             \n",
    "    else:\n",
    "        B = selectBoundaryEdges(edges, geom, threshold_ratio=0.1)\n",
    "        I = [e for e in edges if e not in B]\n",
    "\n",
    "    if region == 'hors_amp':\n",
    "        conns = edges[:]\n",
    "    else:\n",
    "        total = len(B) + len(I)\n",
    "        nB    = int(BORDER_RATIO * total)\n",
    "        nI    = total - nB\n",
    "        conns = random.sample(B, min(nB, len(B))) + \\\n",
    "                random.sample(I, min(nI, len(I)))\n",
    "\n",
    "    print(f\"[CHECK] Bassin {region}: total edges = {len(edges)}\")\n",
    "    print(f\"    boundary edges (B): {len(B)}\")\n",
    "    print(f\"    interior edges (I): {len(I)}\")\n",
    "    print(f\"    => selected for TAZ : {len(conns)}\\n\")\n",
    "\n",
    "    cent = geom.centroid if geom is not None else Point(0, 0)\n",
    "    taz  = ET.SubElement(\n",
    "        taz_root, 'taz', id=taz_id,\n",
    "        x=f\"{cent.x:.2f}\", y=f\"{cent.y:.2f}\"\n",
    "    )\n",
    "    for e in sorted(conns, key=lambda _e: _e.getID()):\n",
    "        ET.SubElement(taz, 'tazSource', id=e.getID(), weight=\"1.0\")\n",
    "        ET.SubElement(taz, 'tazSink',   id=e.getID(), weight=\"1.0\")\n",
    "\n",
    "tree = ET.ElementTree(taz_root)\n",
    "tree.write(TAZ_XML, encoding='utf-8', xml_declaration=True)\n",
    "print()\n",
    "print(f\"[DONE] TAZ file written to {TAZ_XML}\")\n"
   ]
  },
  {
   "cell_type": "markdown",
   "metadata": {},
   "source": [
    "## Creating Ods"
   ]
  },
  {
   "cell_type": "code",
   "execution_count": 15,
   "metadata": {},
   "outputs": [
    {
     "name": "stdout",
     "output_type": "stream",
     "text": [
      "[DONE] OD matrix hour 4: /home/hoai-linh.dao/Works/EVCS/CEREMA-Mini/result/experiments/simulation-debug-1%/ods/od_matrix_04.txt (1688 bytes)\n",
      "[DONE] OD matrix hour 5: /home/hoai-linh.dao/Works/EVCS/CEREMA-Mini/result/experiments/simulation-debug-1%/ods/od_matrix_05.txt (1688 bytes)\n",
      "[DONE] OD matrix hour 6: /home/hoai-linh.dao/Works/EVCS/CEREMA-Mini/result/experiments/simulation-debug-1%/ods/od_matrix_06.txt (1688 bytes)\n",
      "[DONE] OD matrix hour 7: /home/hoai-linh.dao/Works/EVCS/CEREMA-Mini/result/experiments/simulation-debug-1%/ods/od_matrix_07.txt (1688 bytes)\n",
      "[DONE] OD matrix hour 8: /home/hoai-linh.dao/Works/EVCS/CEREMA-Mini/result/experiments/simulation-debug-1%/ods/od_matrix_08.txt (1688 bytes)\n",
      "[DONE] OD matrix hour 9: /home/hoai-linh.dao/Works/EVCS/CEREMA-Mini/result/experiments/simulation-debug-1%/ods/od_matrix_09.txt (1689 bytes)\n",
      "[DONE] OD matrix hour 10: /home/hoai-linh.dao/Works/EVCS/CEREMA-Mini/result/experiments/simulation-debug-1%/ods/od_matrix_10.txt (1690 bytes)\n",
      "[DONE] OD matrix hour 11: /home/hoai-linh.dao/Works/EVCS/CEREMA-Mini/result/experiments/simulation-debug-1%/ods/od_matrix_11.txt (1690 bytes)\n",
      "[DONE] OD matrix hour 12: /home/hoai-linh.dao/Works/EVCS/CEREMA-Mini/result/experiments/simulation-debug-1%/ods/od_matrix_12.txt (1690 bytes)\n",
      "[DONE] OD matrix hour 13: /home/hoai-linh.dao/Works/EVCS/CEREMA-Mini/result/experiments/simulation-debug-1%/ods/od_matrix_13.txt (1690 bytes)\n",
      "[DONE] OD matrix hour 14: /home/hoai-linh.dao/Works/EVCS/CEREMA-Mini/result/experiments/simulation-debug-1%/ods/od_matrix_14.txt (1690 bytes)\n",
      "[DONE] OD matrix hour 15: /home/hoai-linh.dao/Works/EVCS/CEREMA-Mini/result/experiments/simulation-debug-1%/ods/od_matrix_15.txt (1690 bytes)\n",
      "[DONE] OD matrix hour 16: /home/hoai-linh.dao/Works/EVCS/CEREMA-Mini/result/experiments/simulation-debug-1%/ods/od_matrix_16.txt (1690 bytes)\n",
      "[DONE] OD matrix hour 17: /home/hoai-linh.dao/Works/EVCS/CEREMA-Mini/result/experiments/simulation-debug-1%/ods/od_matrix_17.txt (1690 bytes)\n",
      "[DONE] OD matrix hour 18: /home/hoai-linh.dao/Works/EVCS/CEREMA-Mini/result/experiments/simulation-debug-1%/ods/od_matrix_18.txt (1690 bytes)\n",
      "[DONE] OD matrix hour 19: /home/hoai-linh.dao/Works/EVCS/CEREMA-Mini/result/experiments/simulation-debug-1%/ods/od_matrix_19.txt (1690 bytes)\n",
      "[DONE] OD matrix hour 20: /home/hoai-linh.dao/Works/EVCS/CEREMA-Mini/result/experiments/simulation-debug-1%/ods/od_matrix_20.txt (1690 bytes)\n",
      "[DONE] OD matrix hour 21: /home/hoai-linh.dao/Works/EVCS/CEREMA-Mini/result/experiments/simulation-debug-1%/ods/od_matrix_21.txt (1690 bytes)\n",
      "[DONE] OD matrix hour 22: /home/hoai-linh.dao/Works/EVCS/CEREMA-Mini/result/experiments/simulation-debug-1%/ods/od_matrix_22.txt (1690 bytes)\n",
      "[DONE] OD matrix hour 23: /home/hoai-linh.dao/Works/EVCS/CEREMA-Mini/result/experiments/simulation-debug-1%/ods/od_matrix_23.txt (1690 bytes)\n",
      "[DONE] OD matrix hour 0: /home/hoai-linh.dao/Works/EVCS/CEREMA-Mini/result/experiments/simulation-debug-1%/ods/od_matrix_00.txt (1688 bytes)\n",
      "[DONE] OD matrix hour 1: /home/hoai-linh.dao/Works/EVCS/CEREMA-Mini/result/experiments/simulation-debug-1%/ods/od_matrix_01.txt (1688 bytes)\n",
      "[DONE] OD matrix hour 2: /home/hoai-linh.dao/Works/EVCS/CEREMA-Mini/result/experiments/simulation-debug-1%/ods/od_matrix_02.txt (1688 bytes)\n",
      "[DONE] OD matrix hour 3: /home/hoai-linh.dao/Works/EVCS/CEREMA-Mini/result/experiments/simulation-debug-1%/ods/od_matrix_03.txt (1688 bytes)\n"
     ]
    }
   ],
   "source": [
    "matrix_files = generateOds(\n",
    "    MAIN_FLOW_CSV,\n",
    "    ODS_DIR,\n",
    "    TAZ_IDS,\n",
    "    real_origin=\"marseille\",\n",
    "    exclude_cols={\"total\",\"intra\"},\n",
    "    trips_ratio=TRIPS_RATIO_5,\n",
    "    scale_in=INCOMING_RATIO,\n",
    "    scale_out=OUTGOING_RATIO\n",
    ")\n",
    "\n",
    "for hour, path in matrix_files:\n",
    "    size = os.path.getsize(path)\n",
    "    print(f\"[DONE] OD matrix hour {hour}: {path} ({size} bytes)\")\n",
    "    "
   ]
  },
  {
   "cell_type": "markdown",
   "metadata": {},
   "source": [
    "## Creating Vtypes Distribution (Optional)"
   ]
  },
  {
   "cell_type": "code",
   "execution_count": 16,
   "metadata": {},
   "outputs": [
    {
     "name": "stdout",
     "output_type": "stream",
     "text": [
      "[DETECTED] There are 100 ICEs, 66 EVs\n",
      "[DONE] vType probabilities written to /home/hoai-linh.dao/Works/EVCS/CEREMA-Mini/result/experiments/simulation-debug-1%/vtypes-dist.add.xml\n"
     ]
    }
   ],
   "source": [
    "assignProbabilitiesToVtypes(\n",
    "    vtypes_xml=ORIG_VTYPES_XML,\n",
    "    dist_id=\"vehDist\",\n",
    "    ev_brands=EV_BRANDS,\n",
    "    ev_ratio=0.2,\n",
    "    output_xml=VTYPES_DIST_XML\n",
    ")\n"
   ]
  },
  {
   "cell_type": "markdown",
   "metadata": {},
   "source": [
    "## Creating Trips from Ods"
   ]
  },
  {
   "cell_type": "code",
   "execution_count": 17,
   "metadata": {},
   "outputs": [
    {
     "name": "stdout",
     "output_type": "stream",
     "text": [
      "Call od2trips for all ...\n",
      "Success.time 3588.46\n",
      "Generated /home/hoai-linh.dao/Works/EVCS/CEREMA-Mini/result/experiments/simulation-debug-1%/trips/trips_00.xml\n",
      "Success.time 7176.00\n",
      "Generated /home/hoai-linh.dao/Works/EVCS/CEREMA-Mini/result/experiments/simulation-debug-1%/trips/trips_01.xml\n",
      "Success.time 10740.00\n",
      "Generated /home/hoai-linh.dao/Works/EVCS/CEREMA-Mini/result/experiments/simulation-debug-1%/trips/trips_02.xml\n",
      "Success.time 13950.00\n",
      "Generated /home/hoai-linh.dao/Works/EVCS/CEREMA-Mini/result/experiments/simulation-debug-1%/trips/trips_03.xml\n",
      "Success.time 17800.00\n",
      "Generated /home/hoai-linh.dao/Works/EVCS/CEREMA-Mini/result/experiments/simulation-debug-1%/trips/trips_04.xml\n",
      "Success.time 21576.92\n",
      "Generated /home/hoai-linh.dao/Works/EVCS/CEREMA-Mini/result/experiments/simulation-debug-1%/trips/trips_05.xml\n",
      "Success.time 25192.47\n",
      "Generated /home/hoai-linh.dao/Works/EVCS/CEREMA-Mini/result/experiments/simulation-debug-1%/trips/trips_06.xml\n",
      "Success.time 28798.10\n",
      "Generated /home/hoai-linh.dao/Works/EVCS/CEREMA-Mini/result/experiments/simulation-debug-1%/trips/trips_07.xml\n",
      "Success.time 32399.33\n",
      "Generated /home/hoai-linh.dao/Works/EVCS/CEREMA-Mini/result/experiments/simulation-debug-1%/trips/trips_08.xml\n",
      "Success.time 35998.98\n",
      "Generated /home/hoai-linh.dao/Works/EVCS/CEREMA-Mini/result/experiments/simulation-debug-1%/trips/trips_09.xml\n",
      "Success.time 39598.76\n",
      "Generated /home/hoai-linh.dao/Works/EVCS/CEREMA-Mini/result/experiments/simulation-debug-1%/trips/trips_10.xml\n",
      "Success.time 43198.73\n",
      "Generated /home/hoai-linh.dao/Works/EVCS/CEREMA-Mini/result/experiments/simulation-debug-1%/trips/trips_11.xml\n",
      "Success.time 46798.94\n",
      "Generated /home/hoai-linh.dao/Works/EVCS/CEREMA-Mini/result/experiments/simulation-debug-1%/trips/trips_12.xml\n",
      "Success.time 50398.91\n",
      "Generated /home/hoai-linh.dao/Works/EVCS/CEREMA-Mini/result/experiments/simulation-debug-1%/trips/trips_13.xml\n",
      "Success.time 53998.81\n",
      "Generated /home/hoai-linh.dao/Works/EVCS/CEREMA-Mini/result/experiments/simulation-debug-1%/trips/trips_14.xml\n",
      "Success.time 57598.70\n",
      "Generated /home/hoai-linh.dao/Works/EVCS/CEREMA-Mini/result/experiments/simulation-debug-1%/trips/trips_15.xml\n",
      "Success.time 61198.88\n",
      "Generated /home/hoai-linh.dao/Works/EVCS/CEREMA-Mini/result/experiments/simulation-debug-1%/trips/trips_16.xml\n",
      "Success.time 64799.22\n",
      "Generated /home/hoai-linh.dao/Works/EVCS/CEREMA-Mini/result/experiments/simulation-debug-1%/trips/trips_17.xml\n",
      "Success.time 68399.26\n",
      "Generated /home/hoai-linh.dao/Works/EVCS/CEREMA-Mini/result/experiments/simulation-debug-1%/trips/trips_18.xml\n",
      "Success.time 71998.96\n",
      "Generated /home/hoai-linh.dao/Works/EVCS/CEREMA-Mini/result/experiments/simulation-debug-1%/trips/trips_19.xml\n",
      "Success.time 75598.45\n",
      "Generated /home/hoai-linh.dao/Works/EVCS/CEREMA-Mini/result/experiments/simulation-debug-1%/trips/trips_20.xml\n",
      "Success.time 79197.41\n",
      "Generated /home/hoai-linh.dao/Works/EVCS/CEREMA-Mini/result/experiments/simulation-debug-1%/trips/trips_21.xml\n",
      "Success.time 82795.17\n",
      "Generated /home/hoai-linh.dao/Works/EVCS/CEREMA-Mini/result/experiments/simulation-debug-1%/trips/trips_22.xml\n",
      "Success.time 86392.47\n",
      "Generated /home/hoai-linh.dao/Works/EVCS/CEREMA-Mini/result/experiments/simulation-debug-1%/trips/trips_23.xml\n",
      "\n",
      "[DONE] Finished 24 Trips based on hours.\n",
      "[DONE] Merged 24 trip files to /home/hoai-linh.dao/Works/EVCS/CEREMA-Mini/result/experiments/simulation-debug-1%/trips.xml\n"
     ]
    }
   ],
   "source": [
    "print(\"Call od2trips for all ...\")\n",
    "trips_files = od2tripsForAll(TAZ_XML, TRIPS_DIR, ODS_DIR, DIST_ID)\n",
    "print()\n",
    "print(\"[DONE] Finished 24 Trips based on hours.\")\n",
    "\n",
    "mergeTrips(TRIPS_DIR, ALL_TRIPS_XML)\n"
   ]
  },
  {
   "cell_type": "markdown",
   "metadata": {},
   "source": [
    "## Creating Route"
   ]
  },
  {
   "cell_type": "code",
   "execution_count": 18,
   "metadata": {},
   "outputs": [
    {
     "name": "stdout",
     "output_type": "stream",
     "text": [
      "Running DUAROUTER Step ...\n",
      "Reading up to time step: 24411.54\r"
     ]
    },
    {
     "name": "stderr",
     "output_type": "stream",
     "text": [
      "Warning: No connection between edge '53765528' and edge '144160557#0' found.\n",
      "Warning: Mandatory edge '144160557#0' not reachable by vehicle 'h06_174'.\n",
      "Warning: The vehicle 'h06_174' has no valid route.\n",
      "Warning: No connection between edge '137294381#0' and edge '666070226#0' found.\n",
      "Warning: Mandatory edge '666070226#0' not reachable by vehicle 'h06_215'.\n",
      "Warning: The vehicle 'h06_215' has no valid route.\n"
     ]
    },
    {
     "name": "stdout",
     "output_type": "stream",
     "text": [
      "Reading up to time step: 25011.54\r"
     ]
    },
    {
     "name": "stderr",
     "output_type": "stream",
     "text": [
      "Warning: No connection between edge '685808379' and edge '510193674' found.\n",
      "Warning: Mandatory edge '510193674' not reachable by vehicle 'h07_299'.\n",
      "Warning: The vehicle 'h07_299' has no valid route.\n"
     ]
    },
    {
     "name": "stdout",
     "output_type": "stream",
     "text": [
      "Reading up to time step: 27411.54\r"
     ]
    },
    {
     "name": "stderr",
     "output_type": "stream",
     "text": [
      "Warning: No connection between edge '-81100922#1' and edge '386307421#1' found.\n",
      "Warning: Mandatory edge '386307421#1' not reachable by vehicle 'h07_537'.\n",
      "Warning: The vehicle 'h07_537' has no valid route.\n",
      "Warning: No connection between edge '703104895#1' and edge '-1060073977' found.\n",
      "Warning: Mandatory edge '-1060073977' not reachable by vehicle 'h07_553'.\n",
      "Warning: The vehicle 'h07_553' has no valid route.\n"
     ]
    },
    {
     "name": "stdout",
     "output_type": "stream",
     "text": [
      "Reading up to time step: 27811.54\r"
     ]
    },
    {
     "name": "stderr",
     "output_type": "stream",
     "text": [
      "Warning: No connection between edge '-157010357' and edge '62023730' found.\n",
      "Warning: Mandatory edge '62023730' not reachable by vehicle 'h07_635'.\n",
      "Warning: The vehicle 'h07_635' has no valid route.\n"
     ]
    },
    {
     "name": "stdout",
     "output_type": "stream",
     "text": [
      "Reading up to time step: 28011.54\r"
     ]
    },
    {
     "name": "stderr",
     "output_type": "stream",
     "text": [
      "Warning: No connection between edge '60359632#8' and edge '-767313243' found.\n",
      "Warning: Mandatory edge '-767313243' not reachable by vehicle 'h07_720'.\n",
      "Warning: The vehicle 'h07_720' has no valid route.\n"
     ]
    },
    {
     "name": "stdout",
     "output_type": "stream",
     "text": [
      "Reading up to time step: 28211.54\r"
     ]
    },
    {
     "name": "stderr",
     "output_type": "stream",
     "text": [
      "Warning: No connection between edge '508860742' and edge '446955265' found.\n",
      "Warning: Mandatory edge '446955265' not reachable by vehicle 'h07_777'.\n",
      "Warning: The vehicle 'h07_777' has no valid route.\n",
      "Warning: No connection between edge '88196426#6' and edge '161432888' found.\n",
      "Warning: Mandatory edge '161432888' not reachable by vehicle 'h08_56'.\n",
      "Warning: The vehicle 'h08_56' has no valid route.\n"
     ]
    },
    {
     "name": "stdout",
     "output_type": "stream",
     "text": [
      "Reading up to time step: 29411.54\r"
     ]
    },
    {
     "name": "stderr",
     "output_type": "stream",
     "text": [
      "Warning: No connection between edge '503356965' and edge '-1117402907' found.\n",
      "Warning: Mandatory edge '-1117402907' not reachable by vehicle 'h08_357'.\n",
      "Warning: The vehicle 'h08_357' has no valid route.\n",
      "Warning: No connection between edge '-821478801' and edge '281308645' found.\n",
      "Warning: Mandatory edge '281308645' not reachable by vehicle 'h08_2999'.\n",
      "Warning: The vehicle 'h08_2999' has no valid route.\n",
      "Warning: No connection between edge '559505409' and edge '-1060073977' found.\n",
      "Warning: Mandatory edge '-1060073977' not reachable by vehicle 'h08_619'.\n",
      "Warning: The vehicle 'h08_619' has no valid route.\n"
     ]
    },
    {
     "name": "stdout",
     "output_type": "stream",
     "text": [
      "Reading up to time step: 30011.54\r"
     ]
    },
    {
     "name": "stderr",
     "output_type": "stream",
     "text": [
      "Warning: No connection between edge '65423723#0' and edge '386307419' found.\n",
      "Warning: Mandatory edge '386307419' not reachable by vehicle 'h08_777'.\n",
      "Warning: The vehicle 'h08_777' has no valid route.\n",
      "Warning: No connection between edge '1308456867#0' and edge '201485941#1' found.\n",
      "Warning: Mandatory edge '201485941#1' not reachable by vehicle 'h08_899'.\n",
      "Warning: The vehicle 'h08_899' has no valid route.\n"
     ]
    },
    {
     "name": "stdout",
     "output_type": "stream",
     "text": [
      "Reading up to time step: 31011.54\r"
     ]
    },
    {
     "name": "stderr",
     "output_type": "stream",
     "text": [
      "Warning: No connection between edge '150925674' and edge '-1138075126' found.\n",
      "Warning: Mandatory edge '-1138075126' not reachable by vehicle 'h08_2831'.\n",
      "Warning: The vehicle 'h08_2831' has no valid route.\n",
      "Warning: No connection between edge '-150925676' and edge '115668959#2' found.\n",
      "Warning: Mandatory edge '115668959#2' not reachable by vehicle 'h08_1985'.\n",
      "Warning: The vehicle 'h08_1985' has no valid route.\n"
     ]
    },
    {
     "name": "stdout",
     "output_type": "stream",
     "text": [
      "Reading up to time step: 32211.54\r"
     ]
    },
    {
     "name": "stderr",
     "output_type": "stream",
     "text": [
      "Warning: No connection between edge '-81825423' and edge '281308645' found.\n",
      "Warning: Mandatory edge '281308645' not reachable by vehicle 'h08_2403'.\n",
      "Warning: The vehicle 'h08_2403' has no valid route.\n",
      "Warning: No connection between edge '-53513815#0' and edge '-1060073977' found.\n",
      "Warning: Mandatory edge '-1060073977' not reachable by vehicle 'h08_2416'.\n",
      "Warning: The vehicle 'h08_2416' has no valid route.\n",
      "Warning: No connection between edge '40932971#1' and edge '-383076320' found.\n",
      "Warning: Mandatory edge '-383076320' not reachable by vehicle 'h08_2565'.\n",
      "Warning: The vehicle 'h08_2565' has no valid route.\n"
     ]
    },
    {
     "name": "stdout",
     "output_type": "stream",
     "text": [
      "Reading up to time step: 32611.54\r"
     ]
    },
    {
     "name": "stderr",
     "output_type": "stream",
     "text": [
      "Warning: No connection between edge '1335105378' and edge '39791925#25' found.\n",
      "Warning: Mandatory edge '39791925#25' not reachable by vehicle 'h09_97'.\n",
      "Warning: The vehicle 'h09_97' has no valid route.\n"
     ]
    },
    {
     "name": "stdout",
     "output_type": "stream",
     "text": [
      "Reading up to time step: 32811.54\r"
     ]
    },
    {
     "name": "stderr",
     "output_type": "stream",
     "text": [
      "Warning: No connection between edge '445435770' and edge '-188649571' found.\n",
      "Warning: Mandatory edge '-188649571' not reachable by vehicle 'h09_165'.\n",
      "Warning: The vehicle 'h09_165' has no valid route.\n",
      "Warning: No connection between edge '6314165#3' and edge '98338695' found.\n",
      "Warning: Mandatory edge '98338695' not reachable by vehicle 'h09_193'.\n",
      "Warning: The vehicle 'h09_193' has no valid route.\n",
      "Warning: No connection between edge '-37793644#0' and edge '144160557#2' found.\n",
      "Warning: Mandatory edge '144160557#2' not reachable by vehicle 'h09_804'.\n",
      "Warning: The vehicle 'h09_804' has no valid route.\n"
     ]
    },
    {
     "name": "stdout",
     "output_type": "stream",
     "text": [
      "Reading up to time step: 34611.54\r"
     ]
    },
    {
     "name": "stderr",
     "output_type": "stream",
     "text": [
      "Warning: No connection between edge '372377709' and edge '112885002#1' found.\n",
      "Warning: Mandatory edge '112885002#1' not reachable by vehicle 'h09_1005'.\n",
      "Warning: The vehicle 'h09_1005' has no valid route.\n"
     ]
    },
    {
     "name": "stdout",
     "output_type": "stream",
     "text": [
      "Reading up to time step: 34811.54\r"
     ]
    },
    {
     "name": "stderr",
     "output_type": "stream",
     "text": [
      "Warning: No connection between edge '-137294374' and edge '-143962120' found.\n",
      "Warning: Mandatory edge '-143962120' not reachable by vehicle 'h09_1091'.\n",
      "Warning: The vehicle 'h09_1091' has no valid route.\n"
     ]
    },
    {
     "name": "stdout",
     "output_type": "stream",
     "text": [
      "Reading up to time step: 35411.54\r"
     ]
    },
    {
     "name": "stderr",
     "output_type": "stream",
     "text": [
      "Warning: No connection between edge '124060638#6' and edge '-224090491' found.\n",
      "Warning: Mandatory edge '-224090491' not reachable by vehicle 'h09_1838'.\n",
      "Warning: The vehicle 'h09_1838' has no valid route.\n"
     ]
    },
    {
     "name": "stdout",
     "output_type": "stream",
     "text": [
      "Reading up to time step: 36011.54\r"
     ]
    },
    {
     "name": "stderr",
     "output_type": "stream",
     "text": [
      "Warning: No connection between edge '-150925676' and edge '133408950' found.\n",
      "Warning: Mandatory edge '133408950' not reachable by vehicle 'h09_1692'.\n",
      "Warning: The vehicle 'h09_1692' has no valid route.\n",
      "Warning: No connection between edge '-60181302#13' and edge '143962123#0' found.\n",
      "Warning: Mandatory edge '143962123#0' not reachable by vehicle 'h10_104'.\n",
      "Warning: The vehicle 'h10_104' has no valid route.\n"
     ]
    },
    {
     "name": "stdout",
     "output_type": "stream",
     "text": [
      "Reading up to time step: 36411.54\r"
     ]
    },
    {
     "name": "stderr",
     "output_type": "stream",
     "text": [
      "Warning: No connection between edge '426843941' and edge '767313244' found.\n",
      "Warning: Mandatory edge '767313244' not reachable by vehicle 'h10_272'.\n",
      "Warning: The vehicle 'h10_272' has no valid route.\n"
     ]
    },
    {
     "name": "stdout",
     "output_type": "stream",
     "text": [
      "Reading up to time step: 37211.54\r"
     ]
    },
    {
     "name": "stderr",
     "output_type": "stream",
     "text": [
      "Warning: No connection between edge '890087566#0' and edge '378355994#2' found.\n",
      "Warning: Mandatory edge '378355994#2' not reachable by vehicle 'h10_431'.\n",
      "Warning: The vehicle 'h10_431' has no valid route.\n"
     ]
    },
    {
     "name": "stdout",
     "output_type": "stream",
     "text": [
      "Reading up to time step: 40011.54\r"
     ]
    },
    {
     "name": "stderr",
     "output_type": "stream",
     "text": [
      "Warning: No connection between edge '-60181302#13' and edge '143962123#0' found.\n",
      "Warning: Mandatory edge '143962123#0' not reachable by vehicle 'h11_104'.\n",
      "Warning: The vehicle 'h11_104' has no valid route.\n"
     ]
    },
    {
     "name": "stdout",
     "output_type": "stream",
     "text": [
      "Reading up to time step: 40411.54\r"
     ]
    },
    {
     "name": "stderr",
     "output_type": "stream",
     "text": [
      "Warning: No connection between edge '426843941' and edge '767313244' found.\n",
      "Warning: Mandatory edge '767313244' not reachable by vehicle 'h11_272'.\n",
      "Warning: The vehicle 'h11_272' has no valid route.\n",
      "Warning: No connection between edge '975727520#5' and edge '510193650#5' found.\n",
      "Warning: Mandatory edge '510193650#5' not reachable by vehicle 'h11_1581'.\n",
      "Warning: The vehicle 'h11_1581' has no valid route.\n"
     ]
    },
    {
     "name": "stdout",
     "output_type": "stream",
     "text": [
      "Reading up to time step: 40611.54\r"
     ]
    },
    {
     "name": "stderr",
     "output_type": "stream",
     "text": [
      "Warning: No connection between edge '890087566#0' and edge '378355994#2' found.\n",
      "Warning: Mandatory edge '378355994#2' not reachable by vehicle 'h11_431'.\n",
      "Warning: The vehicle 'h11_431' has no valid route.\n"
     ]
    },
    {
     "name": "stdout",
     "output_type": "stream",
     "text": [
      "Reading up to time step: 43011.54\r"
     ]
    },
    {
     "name": "stderr",
     "output_type": "stream",
     "text": [
      "Warning: No connection between edge '709343167' and edge '-150283094#2' found.\n",
      "Warning: Mandatory edge '-150283094#2' not reachable by vehicle 'h11_1573'.\n",
      "Warning: The vehicle 'h11_1573' has no valid route.\n",
      "Warning: No connection between edge '354451003' and edge '510193674' found.\n",
      "Warning: Mandatory edge '510193674' not reachable by vehicle 'h12_107'.\n",
      "Warning: The vehicle 'h12_107' has no valid route.\n"
     ]
    },
    {
     "name": "stdout",
     "output_type": "stream",
     "text": [
      "Reading up to time step: 43611.54\r"
     ]
    },
    {
     "name": "stderr",
     "output_type": "stream",
     "text": [
      "Warning: No connection between edge '-24257457#1' and edge '143962123#1' found.\n",
      "Warning: Mandatory edge '143962123#1' not reachable by vehicle 'h12_430'.\n",
      "Warning: The vehicle 'h12_430' has no valid route.\n"
     ]
    },
    {
     "name": "stdout",
     "output_type": "stream",
     "text": [
      "Reading up to time step: 44811.54\r"
     ]
    },
    {
     "name": "stderr",
     "output_type": "stream",
     "text": [
      "Warning: No connection between edge '-124060635' and edge '53334047#0' found.\n",
      "Warning: Mandatory edge '53334047#0' not reachable by vehicle 'h12_725'.\n",
      "Warning: The vehicle 'h12_725' has no valid route.\n"
     ]
    },
    {
     "name": "stdout",
     "output_type": "stream",
     "text": [
      "Reading up to time step: 45411.54\r"
     ]
    },
    {
     "name": "stderr",
     "output_type": "stream",
     "text": [
      "Warning: No connection between edge '1367068984' and edge '115868227' found.\n",
      "Warning: Mandatory edge '115868227' not reachable by vehicle 'h12_999'.\n",
      "Warning: The vehicle 'h12_999' has no valid route.\n"
     ]
    },
    {
     "name": "stdout",
     "output_type": "stream",
     "text": [
      "Reading up to time step: 47011.54\r"
     ]
    },
    {
     "name": "stderr",
     "output_type": "stream",
     "text": [
      "Warning: No connection between edge '1332793122' and edge '1158754633' found.\n",
      "Warning: Mandatory edge '1158754633' not reachable by vehicle 'h13_43'.\n",
      "Warning: The vehicle 'h13_43' has no valid route.\n",
      "Warning: No connection between edge '451897696' and edge '-367820007' found.\n",
      "Warning: Mandatory edge '-367820007' not reachable by vehicle 'h13_68'.\n",
      "Warning: The vehicle 'h13_68' has no valid route.\n"
     ]
    },
    {
     "name": "stdout",
     "output_type": "stream",
     "text": [
      "Reading up to time step: 47211.54\r"
     ]
    },
    {
     "name": "stderr",
     "output_type": "stream",
     "text": [
      "Warning: No connection between edge '388823828#3' and edge '1367068983' found.\n",
      "Warning: Mandatory edge '1367068983' not reachable by vehicle 'h13_186'.\n",
      "Warning: The vehicle 'h13_186' has no valid route.\n"
     ]
    },
    {
     "name": "stdout",
     "output_type": "stream",
     "text": [
      "Reading up to time step: 47811.54\r"
     ]
    },
    {
     "name": "stderr",
     "output_type": "stream",
     "text": [
      "Warning: No connection between edge '-227934184' and edge '142428191' found.\n",
      "Warning: Mandatory edge '142428191' not reachable by vehicle 'h13_395'.\n",
      "Warning: The vehicle 'h13_395' has no valid route.\n"
     ]
    },
    {
     "name": "stdout",
     "output_type": "stream",
     "text": [
      "Reading up to time step: 48211.54\r"
     ]
    },
    {
     "name": "stderr",
     "output_type": "stream",
     "text": [
      "Warning: No connection between edge '377991087#12' and edge '-62023730' found.\n",
      "Warning: Mandatory edge '-62023730' not reachable by vehicle 'h13_564'.\n",
      "Warning: The vehicle 'h13_564' has no valid route.\n"
     ]
    },
    {
     "name": "stdout",
     "output_type": "stream",
     "text": [
      "Reading up to time step: 48411.54\r"
     ]
    },
    {
     "name": "stderr",
     "output_type": "stream",
     "text": [
      "Warning: No connection between edge '-448461269#3' and edge '510193650#4' found.\n",
      "Warning: Mandatory edge '510193650#4' not reachable by vehicle 'h13_727'.\n",
      "Warning: The vehicle 'h13_727' has no valid route.\n"
     ]
    },
    {
     "name": "stdout",
     "output_type": "stream",
     "text": [
      "Reading up to time step: 48811.54\r"
     ]
    },
    {
     "name": "stderr",
     "output_type": "stream",
     "text": [
      "Warning: No connection between edge '160833739' and edge '386307421#1' found.\n",
      "Warning: Mandatory edge '386307421#1' not reachable by vehicle 'h13_857'.\n",
      "Warning: The vehicle 'h13_857' has no valid route.\n"
     ]
    },
    {
     "name": "stdout",
     "output_type": "stream",
     "text": [
      "Reading up to time step: 49211.54\r"
     ]
    },
    {
     "name": "stderr",
     "output_type": "stream",
     "text": [
      "Warning: No connection between edge '568304303#0' and edge '1367068983' found.\n",
      "Warning: Mandatory edge '1367068983' not reachable by vehicle 'h13_1077'.\n",
      "Warning: The vehicle 'h13_1077' has no valid route.\n",
      "Warning: No connection between edge '-689270369' and edge '1200615233' found.\n",
      "Warning: Mandatory edge '1200615233' not reachable by vehicle 'h13_1098'.\n",
      "Warning: The vehicle 'h13_1098' has no valid route.\n"
     ]
    },
    {
     "name": "stdout",
     "output_type": "stream",
     "text": [
      "Reading up to time step: 49411.54\r"
     ]
    },
    {
     "name": "stderr",
     "output_type": "stream",
     "text": [
      "Warning: No connection between edge '141480120' and edge '98338695' found.\n",
      "Warning: Mandatory edge '98338695' not reachable by vehicle 'h13_1137'.\n",
      "Warning: The vehicle 'h13_1137' has no valid route.\n",
      "Warning: No connection between edge '139897013' and edge '-367820004' found.\n",
      "Warning: Mandatory edge '-367820004' not reachable by vehicle 'h13_1164'.\n",
      "Warning: The vehicle 'h13_1164' has no valid route.\n"
     ]
    },
    {
     "name": "stdout",
     "output_type": "stream",
     "text": [
      "Reading up to time step: 49611.54\r"
     ]
    },
    {
     "name": "stderr",
     "output_type": "stream",
     "text": [
      "Warning: No connection between edge '434811650#0' and edge '-62023728#0' found.\n",
      "Warning: Mandatory edge '-62023728#0' not reachable by vehicle 'h13_1259'.\n",
      "Warning: The vehicle 'h13_1259' has no valid route.\n",
      "Warning: No connection between edge '529408432#4' and edge '510193650#1' found.\n",
      "Warning: Mandatory edge '510193650#1' not reachable by vehicle 'h13_1266'.\n",
      "Warning: The vehicle 'h13_1266' has no valid route.\n",
      "Warning: No connection between edge '191727680' and edge '510193650#4' found.\n",
      "Warning: Mandatory edge '510193650#4' not reachable by vehicle 'h13_1356'.\n",
      "Warning: The vehicle 'h13_1356' has no valid route.\n"
     ]
    },
    {
     "name": "stdout",
     "output_type": "stream",
     "text": [
      "Reading up to time step: 50811.54\r"
     ]
    },
    {
     "name": "stderr",
     "output_type": "stream",
     "text": [
      "Warning: No connection between edge '150925674' and edge '6312938#8' found.\n",
      "Warning: Mandatory edge '6312938#8' not reachable by vehicle 'h14_170'.\n",
      "Warning: The vehicle 'h14_170' has no valid route.\n"
     ]
    },
    {
     "name": "stdout",
     "output_type": "stream",
     "text": [
      "Reading up to time step: 51211.54\r"
     ]
    },
    {
     "name": "stderr",
     "output_type": "stream",
     "text": [
      "Warning: No connection between edge '-793930821' and edge '30980471#2' found.\n",
      "Warning: Mandatory edge '30980471#2' not reachable by vehicle 'h14_261'.\n",
      "Warning: The vehicle 'h14_261' has no valid route.\n",
      "Warning: No connection between edge '65251883#1' and edge '-143962123#0' found.\n",
      "Warning: Mandatory edge '-143962123#0' not reachable by vehicle 'h14_624'.\n",
      "Warning: The vehicle 'h14_624' has no valid route.\n"
     ]
    },
    {
     "name": "stdout",
     "output_type": "stream",
     "text": [
      "Reading up to time step: 52211.54\r"
     ]
    },
    {
     "name": "stderr",
     "output_type": "stream",
     "text": [
      "Warning: No connection between edge '1035313834#0' and edge '53189527' found.\n",
      "Warning: Mandatory edge '53189527' not reachable by vehicle 'h14_1695'.\n",
      "Warning: The vehicle 'h14_1695' has no valid route.\n"
     ]
    },
    {
     "name": "stdout",
     "output_type": "stream",
     "text": [
      "Reading up to time step: 52611.54\r"
     ]
    },
    {
     "name": "stderr",
     "output_type": "stream",
     "text": [
      "Warning: No connection between edge '150925674' and edge '-115661508' found.\n",
      "Warning: Mandatory edge '-115661508' not reachable by vehicle 'h14_864'.\n",
      "Warning: The vehicle 'h14_864' has no valid route.\n",
      "Warning: No connection between edge '642607931#5' and edge '510193665' found.\n",
      "Warning: Mandatory edge '510193665' not reachable by vehicle 'h14_1718'.\n",
      "Warning: The vehicle 'h14_1718' has no valid route.\n"
     ]
    },
    {
     "name": "stdout",
     "output_type": "stream",
     "text": [
      "Reading up to time step: 53211.54\r"
     ]
    },
    {
     "name": "stderr",
     "output_type": "stream",
     "text": [
      "Warning: No connection between edge '175768389' and edge '510193664' found.\n",
      "Warning: Mandatory edge '510193664' not reachable by vehicle 'h14_1475'.\n",
      "Warning: The vehicle 'h14_1475' has no valid route.\n"
     ]
    },
    {
     "name": "stdout",
     "output_type": "stream",
     "text": [
      "Reading up to time step: 56211.54\r"
     ]
    },
    {
     "name": "stderr",
     "output_type": "stream",
     "text": [
      "Warning: No connection between edge '406234517#0' and edge '46997930#1' found.\n",
      "Warning: Mandatory edge '46997930#1' not reachable by vehicle 'h15_841'.\n",
      "Warning: The vehicle 'h15_841' has no valid route.\n",
      "Warning: No connection between edge '-112885009#0' and edge '51077367' found.\n",
      "Warning: Mandatory edge '51077367' not reachable by vehicle 'h15_849'.\n",
      "Warning: The vehicle 'h15_849' has no valid route.\n",
      "Warning: No connection between edge '406234517#0' and edge '-700845676#0' found.\n",
      "Warning: Mandatory edge '-700845676#0' not reachable by vehicle 'h15_1155'.\n",
      "Warning: The vehicle 'h15_1155' has no valid route.\n"
     ]
    },
    {
     "name": "stdout",
     "output_type": "stream",
     "text": [
      "Reading up to time step: 57011.54\r"
     ]
    },
    {
     "name": "stderr",
     "output_type": "stream",
     "text": [
      "Warning: No connection between edge '4338020' and edge '438504259' found.\n",
      "Warning: Mandatory edge '438504259' not reachable by vehicle 'h15_1536'.\n",
      "Warning: The vehicle 'h15_1536' has no valid route.\n"
     ]
    },
    {
     "name": "stdout",
     "output_type": "stream",
     "text": [
      "Reading up to time step: 57211.54\r"
     ]
    },
    {
     "name": "stderr",
     "output_type": "stream",
     "text": [
      "Warning: No connection between edge '158351066#0' and edge '62023740' found.\n",
      "Warning: Mandatory edge '62023740' not reachable by vehicle 'h16_72'.\n",
      "Warning: The vehicle 'h16_72' has no valid route.\n"
     ]
    },
    {
     "name": "stdout",
     "output_type": "stream",
     "text": [
      "Reading up to time step: 58011.54\r"
     ]
    },
    {
     "name": "stderr",
     "output_type": "stream",
     "text": [
      "Warning: No connection between edge '342738939' and edge '142428191' found.\n",
      "Warning: Mandatory edge '142428191' not reachable by vehicle 'h16_182'.\n",
      "Warning: The vehicle 'h16_182' has no valid route.\n"
     ]
    },
    {
     "name": "stdout",
     "output_type": "stream",
     "text": [
      "Reading up to time step: 58211.54\r"
     ]
    },
    {
     "name": "stderr",
     "output_type": "stream",
     "text": [
      "Warning: No connection between edge '6310713#1' and edge '1367068983' found.\n",
      "Warning: Mandatory edge '1367068983' not reachable by vehicle 'h16_220'.\n",
      "Warning: The vehicle 'h16_220' has no valid route.\n",
      "Warning: No connection between edge '-62023726#0' and edge '446955265' found.\n",
      "Warning: Mandatory edge '446955265' not reachable by vehicle 'h16_870'.\n",
      "Warning: The vehicle 'h16_870' has no valid route.\n"
     ]
    },
    {
     "name": "stdout",
     "output_type": "stream",
     "text": [
      "Reading up to time step: 60411.54\r"
     ]
    },
    {
     "name": "stderr",
     "output_type": "stream",
     "text": [
      "Warning: No connection between edge '238088167#0' and edge '767313244' found.\n",
      "Warning: Mandatory edge '767313244' not reachable by vehicle 'h16_1180'.\n",
      "Warning: The vehicle 'h16_1180' has no valid route.\n"
     ]
    },
    {
     "name": "stdout",
     "output_type": "stream",
     "text": [
      "Reading up to time step: 60811.54\r"
     ]
    },
    {
     "name": "stderr",
     "output_type": "stream",
     "text": [
      "Warning: No connection between edge '-27769566#1' and edge '62023740' found.\n",
      "Warning: Mandatory edge '62023740' not reachable by vehicle 'h16_1376'.\n",
      "Warning: The vehicle 'h16_1376' has no valid route.\n"
     ]
    },
    {
     "name": "stdout",
     "output_type": "stream",
     "text": [
      "Reading up to time step: 61211.54\r"
     ]
    },
    {
     "name": "stderr",
     "output_type": "stream",
     "text": [
      "Warning: No connection between edge '6310369#3' and edge '-1060073977' found.\n",
      "Warning: Mandatory edge '-1060073977' not reachable by vehicle 'h16_1581'.\n",
      "Warning: The vehicle 'h16_1581' has no valid route.\n"
     ]
    },
    {
     "name": "stdout",
     "output_type": "stream",
     "text": [
      "Reading up to time step: 61811.54\r"
     ]
    },
    {
     "name": "stderr",
     "output_type": "stream",
     "text": [
      "Warning: No connection between edge '446955267' and edge '125483131#1' found.\n",
      "Warning: Mandatory edge '125483131#1' not reachable by vehicle 'h17_354'.\n",
      "Warning: The vehicle 'h17_354' has no valid route.\n"
     ]
    },
    {
     "name": "stdout",
     "output_type": "stream",
     "text": [
      "Reading up to time step: 62211.54\r"
     ]
    },
    {
     "name": "stderr",
     "output_type": "stream",
     "text": [
      "Warning: No connection between edge '1308456867#0' and edge '-423660257' found.\n",
      "Warning: Mandatory edge '-423660257' not reachable by vehicle 'h17_2408'.\n",
      "Warning: The vehicle 'h17_2408' has no valid route.\n"
     ]
    },
    {
     "name": "stdout",
     "output_type": "stream",
     "text": [
      "Reading up to time step: 62811.54\r"
     ]
    },
    {
     "name": "stderr",
     "output_type": "stream",
     "text": [
      "Warning: No connection between edge '-197183400#1' and edge '-767313243' found.\n",
      "Warning: Mandatory edge '-767313243' not reachable by vehicle 'h17_979'.\n",
      "Warning: The vehicle 'h17_979' has no valid route.\n"
     ]
    },
    {
     "name": "stdout",
     "output_type": "stream",
     "text": [
      "Reading up to time step: 63011.54\r"
     ]
    },
    {
     "name": "stderr",
     "output_type": "stream",
     "text": [
      "Warning: No connection between edge '-46999156#0' and edge '510193650#5' found.\n",
      "Warning: Mandatory edge '510193650#5' not reachable by vehicle 'h17_1032'.\n",
      "Warning: The vehicle 'h17_1032' has no valid route.\n"
     ]
    },
    {
     "name": "stdout",
     "output_type": "stream",
     "text": [
      "Reading up to time step: 63611.54\r"
     ]
    },
    {
     "name": "stderr",
     "output_type": "stream",
     "text": [
      "Warning: No connection between edge '925261618' and edge '183185045' found.\n",
      "Warning: Mandatory edge '183185045' not reachable by vehicle 'h17_1453'.\n",
      "Warning: The vehicle 'h17_1453' has no valid route.\n",
      "Warning: No connection between edge '-793930821' and edge '372049361#0' found.\n",
      "Warning: Mandatory edge '372049361#0' not reachable by vehicle 'h17_1518'.\n",
      "Warning: The vehicle 'h17_1518' has no valid route.\n",
      "Warning: No connection between edge '688357782#0' and edge '-194836658#1' found.\n",
      "Warning: Mandatory edge '-194836658#1' not reachable by vehicle 'h17_1904'.\n",
      "Warning: The vehicle 'h17_1904' has no valid route.\n"
     ]
    },
    {
     "name": "stdout",
     "output_type": "stream",
     "text": [
      "Reading up to time step: 64811.54\r"
     ]
    },
    {
     "name": "stderr",
     "output_type": "stream",
     "text": [
      "Warning: No connection between edge '157757579#0' and edge '155503531' found.\n",
      "Warning: Mandatory edge '155503531' not reachable by vehicle 'h17_2342'.\n",
      "Warning: The vehicle 'h17_2342' has no valid route.\n"
     ]
    },
    {
     "name": "stdout",
     "output_type": "stream",
     "text": [
      "Reading up to time step: 65411.54\r"
     ]
    },
    {
     "name": "stderr",
     "output_type": "stream",
     "text": [
      "Warning: No connection between edge '446955267' and edge '125483131#1' found.\n",
      "Warning: Mandatory edge '125483131#1' not reachable by vehicle 'h18_354'.\n",
      "Warning: The vehicle 'h18_354' has no valid route.\n",
      "Warning: No connection between edge '-197183400#1' and edge '-767313243' found.\n",
      "Warning: Mandatory edge '-767313243' not reachable by vehicle 'h18_979'.\n",
      "Warning: The vehicle 'h18_979' has no valid route.\n"
     ]
    },
    {
     "name": "stdout",
     "output_type": "stream",
     "text": [
      "Reading up to time step: 66411.54\r"
     ]
    },
    {
     "name": "stderr",
     "output_type": "stream",
     "text": [
      "Warning: No connection between edge '-46999156#0' and edge '510193650#5' found.\n",
      "Warning: Mandatory edge '510193650#5' not reachable by vehicle 'h18_1032'.\n",
      "Warning: The vehicle 'h18_1032' has no valid route.\n"
     ]
    },
    {
     "name": "stdout",
     "output_type": "stream",
     "text": [
      "Reading up to time step: 67011.54\r"
     ]
    },
    {
     "name": "stderr",
     "output_type": "stream",
     "text": [
      "Warning: No connection between edge '925261618' and edge '183185045' found.\n",
      "Warning: Mandatory edge '183185045' not reachable by vehicle 'h18_1453'.\n",
      "Warning: The vehicle 'h18_1453' has no valid route.\n"
     ]
    },
    {
     "name": "stdout",
     "output_type": "stream",
     "text": [
      "Reading up to time step: 67211.54\r"
     ]
    },
    {
     "name": "stderr",
     "output_type": "stream",
     "text": [
      "Warning: No connection between edge '-793930821' and edge '372049361#0' found.\n",
      "Warning: Mandatory edge '372049361#0' not reachable by vehicle 'h18_1518'.\n",
      "Warning: The vehicle 'h18_1518' has no valid route.\n",
      "Warning: No connection between edge '124060633#1' and edge '28642670' found.\n",
      "Warning: Mandatory edge '28642670' not reachable by vehicle 'h18_2463'.\n",
      "Warning: The vehicle 'h18_2463' has no valid route.\n"
     ]
    },
    {
     "name": "stdout",
     "output_type": "stream",
     "text": [
      "Reading up to time step: 67811.54\r"
     ]
    },
    {
     "name": "stderr",
     "output_type": "stream",
     "text": [
      "Warning: No connection between edge '688357782#0' and edge '-194836658#1' found.\n",
      "Warning: Mandatory edge '-194836658#1' not reachable by vehicle 'h18_1904'.\n",
      "Warning: The vehicle 'h18_1904' has no valid route.\n"
     ]
    },
    {
     "name": "stdout",
     "output_type": "stream",
     "text": [
      "Reading up to time step: 68411.54\r"
     ]
    },
    {
     "name": "stderr",
     "output_type": "stream",
     "text": [
      "Warning: No connection between edge '437987138' and edge '493061137' found.\n",
      "Warning: Mandatory edge '493061137' not reachable by vehicle 'h18_2348'.\n",
      "Warning: The vehicle 'h18_2348' has no valid route.\n"
     ]
    },
    {
     "name": "stdout",
     "output_type": "stream",
     "text": [
      "Reading up to time step: 69011.54\r"
     ]
    },
    {
     "name": "stderr",
     "output_type": "stream",
     "text": [
      "Warning: No connection between edge '493061137' and edge '213141706#2' found.\n",
      "Warning: Mandatory edge '213141706#2' not reachable by vehicle 'h19_258'.\n",
      "Warning: The vehicle 'h19_258' has no valid route.\n",
      "Warning: No connection between edge '150283120' and edge '-188649571' found.\n",
      "Warning: Mandatory edge '-188649571' not reachable by vehicle 'h19_653'.\n",
      "Warning: The vehicle 'h19_653' has no valid route.\n"
     ]
    },
    {
     "name": "stdout",
     "output_type": "stream",
     "text": [
      "Reading up to time step: 69811.54\r"
     ]
    },
    {
     "name": "stderr",
     "output_type": "stream",
     "text": [
      "Warning: No connection between edge '360777555#1' and edge '767313244' found.\n",
      "Warning: Mandatory edge '767313244' not reachable by vehicle 'h19_802'.\n",
      "Warning: The vehicle 'h19_802' has no valid route.\n"
     ]
    },
    {
     "name": "stdout",
     "output_type": "stream",
     "text": [
      "Reading up to time step: 70411.54\r"
     ]
    },
    {
     "name": "stderr",
     "output_type": "stream",
     "text": [
      "Warning: No connection between edge '-925261618' and edge '-529005977#0' found.\n",
      "Warning: Mandatory edge '-529005977#0' not reachable by vehicle 'h19_926'.\n",
      "Warning: The vehicle 'h19_926' has no valid route.\n",
      "Warning: No connection between edge '30281491#3' and edge '62023728#0' found.\n",
      "Warning: Mandatory edge '62023728#0' not reachable by vehicle 'h19_931'.\n",
      "Warning: The vehicle 'h19_931' has no valid route.\n",
      "Warning: No connection between edge '-168274969#0' and edge '-144160557#0' found.\n",
      "Warning: Mandatory edge '-144160557#0' not reachable by vehicle 'h19_1140'.\n",
      "Warning: The vehicle 'h19_1140' has no valid route.\n"
     ]
    },
    {
     "name": "stdout",
     "output_type": "stream",
     "text": [
      "Reading up to time step: 70811.54\r"
     ]
    },
    {
     "name": "stderr",
     "output_type": "stream",
     "text": [
      "Warning: No connection between edge '47001230#1' and edge '-143962123#1' found.\n",
      "Warning: Mandatory edge '-143962123#1' not reachable by vehicle 'h19_1204'.\n",
      "Warning: The vehicle 'h19_1204' has no valid route.\n"
     ]
    },
    {
     "name": "stdout",
     "output_type": "stream",
     "text": [
      "Reading up to time step: 71011.54\r"
     ]
    },
    {
     "name": "stderr",
     "output_type": "stream",
     "text": [
      "Warning: No connection between edge '1158445001' and edge '510193664' found.\n",
      "Warning: Mandatory edge '510193664' not reachable by vehicle 'h19_1239'.\n",
      "Warning: The vehicle 'h19_1239' has no valid route.\n"
     ]
    },
    {
     "name": "stdout",
     "output_type": "stream",
     "text": [
      "Reading up to time step: 71611.54\r"
     ]
    },
    {
     "name": "stderr",
     "output_type": "stream",
     "text": [
      "Warning: No connection between edge '-688357782#0' and edge '-103528157#1' found.\n",
      "Warning: Mandatory edge '-103528157#1' not reachable by vehicle 'h19_1509'.\n",
      "Warning: The vehicle 'h19_1509' has no valid route.\n",
      "Warning: No connection between edge '510193680' and edge '112885002#0' found.\n",
      "Warning: Mandatory edge '112885002#0' not reachable by vehicle 'h19_1592'.\n",
      "Warning: The vehicle 'h19_1592' has no valid route.\n"
     ]
    },
    {
     "name": "stdout",
     "output_type": "stream",
     "text": [
      "Reading up to time step: 72411.54\r"
     ]
    },
    {
     "name": "stderr",
     "output_type": "stream",
     "text": [
      "Warning: No connection between edge '-176395481' and edge '-367820004' found.\n",
      "Warning: Mandatory edge '-367820004' not reachable by vehicle 'h20_1313'.\n",
      "Warning: The vehicle 'h20_1313' has no valid route.\n",
      "Warning: No connection between edge '6309601#0' and edge '143962123#1' found.\n",
      "Warning: Mandatory edge '143962123#1' not reachable by vehicle 'h20_117'.\n",
      "Warning: The vehicle 'h20_117' has no valid route.\n",
      "Warning: No connection between edge '713802775' and edge '143962123#1' found.\n",
      "Warning: Mandatory edge '143962123#1' not reachable by vehicle 'h20_152'.\n",
      "Warning: The vehicle 'h20_152' has no valid route.\n"
     ]
    },
    {
     "name": "stdout",
     "output_type": "stream",
     "text": [
      "Reading up to time step: 72811.54\r"
     ]
    },
    {
     "name": "stderr",
     "output_type": "stream",
     "text": [
      "Warning: No connection between edge '-749142400' and edge '-62023730' found.\n",
      "Warning: Mandatory edge '-62023730' not reachable by vehicle 'h20_213'.\n",
      "Warning: The vehicle 'h20_213' has no valid route.\n",
      "Warning: No connection between edge '133408939' and edge '8060736#0' found.\n",
      "Warning: Mandatory edge '8060736#0' not reachable by vehicle 'h20_1232'.\n",
      "Warning: The vehicle 'h20_1232' has no valid route.\n",
      "Warning: No connection between edge '-81059101' and edge '143962123#2' found.\n",
      "Warning: Mandatory edge '143962123#2' not reachable by vehicle 'h20_217'.\n",
      "Warning: The vehicle 'h20_217' has no valid route.\n"
     ]
    },
    {
     "name": "stdout",
     "output_type": "stream",
     "text": [
      "Reading up to time step: 74211.54\r"
     ]
    },
    {
     "name": "stderr",
     "output_type": "stream",
     "text": [
      "Warning: No connection between edge '142239329#0' and edge '112885002#0' found.\n",
      "Warning: Mandatory edge '112885002#0' not reachable by vehicle 'h20_647'.\n",
      "Warning: The vehicle 'h20_647' has no valid route.\n",
      "Warning: No connection between edge '165280744#3' and edge '27680368' found.\n",
      "Warning: Mandatory edge '27680368' not reachable by vehicle 'h20_1171'.\n",
      "Warning: The vehicle 'h20_1171' has no valid route.\n",
      "Warning: No connection between edge '-71817023#0' and edge '-144160557#0' found.\n",
      "Warning: Mandatory edge '-144160557#0' not reachable by vehicle 'h20_1012'.\n",
      "Warning: The vehicle 'h20_1012' has no valid route.\n"
     ]
    },
    {
     "name": "stdout",
     "output_type": "stream",
     "text": [
      "Reading up to time step: 75211.54\r"
     ]
    },
    {
     "name": "stderr",
     "output_type": "stream",
     "text": [
      "Warning: No connection between edge '24376463#1' and edge '-112885002#0' found.\n",
      "Warning: Mandatory edge '-112885002#0' not reachable by vehicle 'h22_61'.\n",
      "Warning: The vehicle 'h22_61' has no valid route.\n"
     ]
    },
    {
     "name": "stdout",
     "output_type": "stream",
     "text": [
      "Reading up to time step: 83811.54\r"
     ]
    },
    {
     "name": "stderr",
     "output_type": "stream",
     "text": [
      "Warning: No connection between edge '-34373641' and edge '386307421#1' found.\n",
      "Warning: Mandatory edge '386307421#1' not reachable by vehicle 'h23_56'.\n",
      "Warning: The vehicle 'h23_56' has no valid route.\n",
      "Warning: No connection between edge '124060633#1' and edge '89227755' found.\n",
      "Warning: Mandatory edge '89227755' not reachable by vehicle 'h23_198'.\n",
      "Warning: The vehicle 'h23_198' has no valid route.\n"
     ]
    },
    {
     "name": "stdout",
     "output_type": "stream",
     "text": [
      "Success.up to time step: 86411.54\n",
      "[DONE] Routes written in /home/hoai-linh.dao/Works/EVCS/CEREMA-Mini/result/experiments/simulation-debug-1%/route.xml\n",
      "[LOG] Output logged in /home/hoai-linh.dao/Works/EVCS/CEREMA-Mini/result/experiments/simulation-debug-1%/logs/duarouter.log\n"
     ]
    }
   ],
   "source": [
    "DUAROUTER_ADDS = \",\".join([str(VTYPES_DIST_XML), str(TAZ_XML)])\n",
    "DUAROUTER_CMD = [\n",
    "    \"duarouter\",\n",
    "    \"-n\", CLEANED_NET_XML_2,            \n",
    "    \"-r\", ALL_TRIPS_XML,            \n",
    "    # \"-a\", DUAROUTER_ADDS,\n",
    "    \"-a\", VTYPES_DIST_XML,\n",
    "    # \"--keep-vtype-distributions\",\n",
    "    # \"--with-taz\",\n",
    "    # \"--repair\",                      \n",
    "    # \"--remove-loops\",               \n",
    "    \"--randomize-flows\",         \n",
    "    \"-o\", ROUTE_XML,    \n",
    "    \"--log\", DUAROUTER_LOG,\n",
    "    \"--exit-times\",\n",
    "    \"--named-routes\",\n",
    "    \"--route-length\",\n",
    "    \"--write-costs\",\n",
    "    \"--ignore-errors\"\n",
    "]\n",
    "\n",
    "print(\"Running DUAROUTER Step ...\")\n",
    "subprocess.run(DUAROUTER_CMD, check=True)\n",
    "print(f\"[DONE] Routes written in {ROUTE_XML}\\n[LOG] Output logged in {DUAROUTER_LOG}\")\n"
   ]
  },
  {
   "cell_type": "markdown",
   "metadata": {},
   "source": [
    "## Creating ReRouter (Optional)"
   ]
  },
  {
   "cell_type": "code",
   "execution_count": null,
   "metadata": {},
   "outputs": [],
   "source": [
    "REROUTING_CMD = [\n",
    "    \"python\", REROUTING_PY,\n",
    "    \"-n\", CLEANED_NET_XML_2,\n",
    "    \"-o\", REROUTER_XML,\n",
    "    \"--vclass\", \"passenger\",\n",
    "]\n",
    "\n",
    "with open(REROUTING_LOG, \"w\") as f:\n",
    "    print(\"Running REROUTING Step ...\")\n",
    "    subprocess.run(REROUTING_CMD, stdout=f, stderr=subprocess.STDOUT, check=True)\n",
    "    print(f\"[DONE] Rerouter file is created in {REROUTER_XML}\\n[LOG] Output logged in {REROUTING_LOG}\")\n",
    "    "
   ]
  },
  {
   "cell_type": "markdown",
   "metadata": {},
   "source": [
    "## Running"
   ]
  },
  {
   "cell_type": "code",
   "execution_count": 19,
   "metadata": {},
   "outputs": [
    {
     "name": "stdout",
     "output_type": "stream",
     "text": [
      "Running SUMO simulation ...\n",
      "[DONE] Simulation outputs are created in /home/hoai-linh.dao/Works/EVCS/CEREMA-Mini/result/experiments/simulation-debug-1%\n",
      "[LOG] Output logged in /home/hoai-linh.dao/Works/EVCS/CEREMA-Mini/result/experiments/simulation-debug-1%/logs/sumo_run.log\n"
     ]
    }
   ],
   "source": [
    "SIMULATION_CMD = [\n",
    "    \"sumo\",             \n",
    "    \"-c\", SUMOCFG_XML,\n",
    "    \"--no-step-log\",      \n",
    "    \"--duration-log.statistics\",\n",
    "    \"--xml-validation\", \"never\"  \n",
    "]\n",
    "\n",
    "with open(SIMULATION_LOG, \"w\") as f:\n",
    "    print(\"Running SUMO simulation ...\")\n",
    "    subprocess.run(SIMULATION_CMD, stdout=f, stderr=subprocess.STDOUT, check=True)\n",
    "    print(f\"[DONE] Simulation outputs are created in {SIMULATION_DIR}\\n[LOG] Output logged in {SIMULATION_LOG}\")\n"
   ]
  },
  {
   "cell_type": "markdown",
   "metadata": {},
   "source": [
    "# **VISUALIZATIONS**"
   ]
  },
  {
   "cell_type": "code",
   "execution_count": null,
   "metadata": {},
   "outputs": [
    {
     "name": "stderr",
     "output_type": "stream",
     "text": [
      "Warning: Skipped 116 lines because of missing attributes 'arrival'.\n"
     ]
    },
    {
     "name": "stdout",
     "output_type": "stream",
     "text": [
      "Figure(1400x900)\n"
     ]
    },
    {
     "data": {
      "text/plain": [
       "CompletedProcess(args=['python', PosixPath('/home/hoai-linh.dao/Envs/sumo-env/lib/python3.10/site-packages/sumo/tools/visualization/plotXMLAttributes.py'), PosixPath('/home/hoai-linh.dao/Works/EVCS/CEREMA-Mini/result/experiments/simulation-debug-1%/outputs/vehRoutes.xml'), '-x', 'depart', '-y', 'arrival', '-o', PosixPath('/home/hoai-linh.dao/Works/EVCS/CEREMA-Mini/result/experiments/simulation-debug-1%/visualizations/plot_1.png'), '--scatterplot'], returncode=0)"
      ]
     },
     "execution_count": 20,
     "metadata": {},
     "output_type": "execute_result"
    }
   ],
   "source": [
    "# Departure times versus arrival times\n",
    "PLOT_CMD_1 = [\n",
    "    \"python\", PLOTXMLATTRIBUTES_PY,\n",
    "    VEHROUTES_XML,                 \n",
    "    \"-x\", \"depart\",      \n",
    "    \"-y\", \"arrival\",             \n",
    "    \"-o\", PLOT_1_PNG,\n",
    "    \"--scatterplot\"\n",
    "]\n",
    "\n",
    "subprocess.run(PLOT_CMD_1, check=True)\n"
   ]
  },
  {
   "cell_type": "code",
   "execution_count": null,
   "metadata": {},
   "outputs": [
    {
     "name": "stdout",
     "output_type": "stream",
     "text": [
      "Figure(1400x900)\n"
     ]
    },
    {
     "data": {
      "text/plain": [
       "CompletedProcess(args=['python', PosixPath('/home/hoai-linh.dao/Envs/sumo-env/lib/python3.10/site-packages/sumo/tools/visualization/plotXMLAttributes.py'), PosixPath('/home/hoai-linh.dao/Works/EVCS/CEREMA-Mini/result/experiments/simulation-debug-1%/outputs/sumoTrace.xml'), '-x', 'x', '-y', 'y', '-o', PosixPath('/home/hoai-linh.dao/Works/EVCS/CEREMA-Mini/result/experiments/simulation-debug-1%/visualizations/plot_2.png'), '--scatterplot'], returncode=0)"
      ]
     },
     "execution_count": 21,
     "metadata": {},
     "output_type": "execute_result"
    }
   ],
   "source": [
    "# All trajectories over time 1\n",
    "PLOT_CMD_2 = [\n",
    "    \"python\", PLOTXMLATTRIBUTES_PY,\n",
    "    TRACE_XML,                 \n",
    "    \"-x\", \"x\",     \n",
    "    \"-y\", \"y\",             \n",
    "    \"-o\", PLOT_2_PNG,\n",
    "    \"--scatterplot\"\n",
    "]\n",
    "\n",
    "subprocess.run(PLOT_CMD_2, check=True)\n"
   ]
  },
  {
   "cell_type": "code",
   "execution_count": null,
   "metadata": {},
   "outputs": [
    {
     "name": "stderr",
     "output_type": "stream",
     "text": [
      "idattr 'id' not found in /home/hoai-linh.dao/Works/EVCS/CEREMA-Mini/result/experiments/simulation-debug-1%/outputs/summary.xml\n"
     ]
    },
    {
     "name": "stdout",
     "output_type": "stream",
     "text": [
      "Figure(1400x900)\n"
     ]
    },
    {
     "data": {
      "text/plain": [
       "CompletedProcess(args=['python', PosixPath('/home/hoai-linh.dao/Envs/sumo-env/lib/python3.10/site-packages/sumo/tools/visualization/plotXMLAttributes.py'), PosixPath('/home/hoai-linh.dao/Works/EVCS/CEREMA-Mini/result/experiments/simulation-debug-1%/outputs/summary.xml'), '-x', 'time', '-y', 'running,halting', '-o', PosixPath('/home/hoai-linh.dao/Works/EVCS/CEREMA-Mini/result/experiments/simulation-debug-1%/visualizations/plot_3.png'), '--legend'], returncode=0)"
      ]
     },
     "execution_count": 5,
     "metadata": {},
     "output_type": "execute_result"
    }
   ],
   "source": [
    "# Multiple timelines from summary-output\n",
    "PLOT_CMD_3 = [\n",
    "    \"python\", PLOTXMLATTRIBUTES_PY,\n",
    "    SUMMARY_XML,\n",
    "    \"-x\", \"time\",\n",
    "    \"-y\", \"running,halting\",\n",
    "    \"-o\", PLOT_3_PNG,\n",
    "    \"--legend\"\n",
    "]\n",
    "subprocess.run(PLOT_CMD_3, check=True)\n"
   ]
  },
  {
   "cell_type": "code",
   "execution_count": 6,
   "metadata": {},
   "outputs": [
    {
     "name": "stdout",
     "output_type": "stream",
     "text": [
      "Figure(1400x900)\n"
     ]
    },
    {
     "data": {
      "text/plain": [
       "CompletedProcess(args=['python', PosixPath('/home/hoai-linh.dao/Envs/sumo-env/lib/python3.10/site-packages/sumo/tools/visualization/plotXMLAttributes.py'), PosixPath('/home/hoai-linh.dao/Works/EVCS/CEREMA-Mini/result/experiments/simulation-debug-1%/outputs/tripinfo.xml'), '-x', 'depart', '-y', 'departDelay', '--xlabel', 'depart time [s]', '--ylabel', 'depart delay [s]', '--ylim', '0,40', '--xticks', '0,1200,200,10', '--yticks', '0,40,5,10', '--xgrid', '--ygrid', '--title', 'depart delay over depart time', '--titlesize', '16', '-o', PosixPath('/home/hoai-linh.dao/Works/EVCS/CEREMA-Mini/result/experiments/simulation-debug-1%/visualizations/plot_4.png')], returncode=0)"
      ]
     },
     "execution_count": 6,
     "metadata": {},
     "output_type": "execute_result"
    }
   ],
   "source": [
    "# Depart delay over time from TripInfo data\n",
    "PLOT_CMD_4 = [\n",
    "    \"python\", PLOTXMLATTRIBUTES_PY,\n",
    "    TRIPINFO_XML,\n",
    "    \"-x\", \"depart\",\n",
    "    \"-y\", \"departDelay\",\n",
    "    \"--xlabel\", \"depart time [s]\",\n",
    "    \"--ylabel\", \"depart delay [s]\",\n",
    "    \"--ylim\", \"0,40\",\n",
    "    \"--xticks\", \"0,1200,200,10\",\n",
    "    \"--yticks\", \"0,40,5,10\",\n",
    "    \"--xgrid\", \"--ygrid\",\n",
    "    \"--title\", \"depart delay over depart time\",\n",
    "    \"--titlesize\", \"16\",\n",
    "    \"-o\", PLOT_4_PNG\n",
    "]\n",
    "subprocess.run(PLOT_CMD_4, check=True)\n"
   ]
  },
  {
   "cell_type": "code",
   "execution_count": null,
   "metadata": {},
   "outputs": [],
   "source": [
    "QUERIED_VEH_ID = \"carDist1\"\n",
    "# Selected trajectories over time\n",
    "PLOT_CMD_5 = [\n",
    "    \"python\", PLOTXMLATTRIBUTES_PY,\n",
    "    TRACE_XML,\n",
    "    \"-x\", \"x\",\n",
    "    \"-y\", \"y\",\n",
    "    \"-i\", \"id\",\n",
    "    \"--filter-ids\", QUERIED_VEH_ID\n",
    "    \"--scatterplot\",\n",
    "    \"--legend\",\n",
    "    \"-o\", PLOT_5_PNG\n",
    "]\n",
    "subprocess.run(PLOT_CMD_4, check=True)"
   ]
  }
 ],
 "metadata": {
  "kernelspec": {
   "display_name": "Python 3",
   "language": "python",
   "name": "python3"
  },
  "language_info": {
   "codemirror_mode": {
    "name": "ipython",
    "version": 3
   },
   "file_extension": ".py",
   "mimetype": "text/x-python",
   "name": "python",
   "nbconvert_exporter": "python",
   "pygments_lexer": "ipython3",
   "version": "3.10.16"
  }
 },
 "nbformat": 4,
 "nbformat_minor": 2
}
