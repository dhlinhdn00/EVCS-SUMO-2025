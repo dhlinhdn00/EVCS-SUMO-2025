{
 "cells": [
  {
   "cell_type": "markdown",
   "metadata": {},
   "source": [
    "# **SETUP**"
   ]
  },
  {
   "cell_type": "code",
   "execution_count": 1,
   "metadata": {},
   "outputs": [],
   "source": [
    "import sys\n",
    "from pathlib import Path\n",
    "sys.path.append('/home/hoai-linh.dao/Works/EVCS/CEREMA-Mini/src') \n",
    "from config import *\n",
    "\n",
    "# Fixed PATHs\n",
    "# NET_XML = Path(\"/home/hoai-linh.dao/Works/EVCS/CEREMA-Mini/data/newtest-osm.net.xml\")\n",
    "NET_XML = \"/home/hoai-linh.dao/Works/EVCS/CEREMA-Mini/result/net-repairment/cleaned_p2_2_newtest-osm.net.xml\"\n",
    "VTYPES_DIST_XML = \"/home/hoai-linh.dao/Works/EVCS/CEREMA-Mini/data/additional-files/vtypes-dist.add.xml\"\n",
    "MAIN_FLOW_CSV = \"/home/hoai-linh.dao/Works/EVCS/CEREMA-Mini/data/processed-data/main-flow.csv\"\n",
    "TAZ_XML = \"/home/hoai-linh.dao/Works/EVCS/CEREMA-Mini/data/additional-files/taz/taz-ver2-40samples-clean2netp2.add.xml\"\n",
    "\n",
    "# Dynamic DIRs\n",
    "SIMULATION_DIR = Path(\"/home/hoai-linh.dao/Works/EVCS/CEREMA-Mini/result/experiments/19-05-25-debugging\") # MOST IMPORTANT\n",
    "\n",
    "ODS_DIR = SIMULATION_DIR / \"ods\"\n",
    "TRIPS_DIR = SIMULATION_DIR / \"trips\"\n",
    "OUTPUTS_DIR = SIMULATION_DIR / \"outputs\"\n",
    "LOGS_DIR = SIMULATION_DIR / \"logs\"\n",
    "VISUALIZATIONS_DIR = SIMULATION_DIR / \"visualizations\"\n",
    "\n",
    "SIMULATION_DIR.mkdir(parents=True, exist_ok=True)\n",
    "for path in [ODS_DIR, TRIPS_DIR, OUTPUTS_DIR, LOGS_DIR, VISUALIZATIONS_DIR]:\n",
    "    path.mkdir(parents=True, exist_ok=True)\n",
    "\n",
    "# Dynamic PATHs\n",
    "ALL_TRIPS_XML = SIMULATION_DIR / \"trips.xml\"\n",
    "ROUTE_XML = SIMULATION_DIR / \"route.xml\"\n",
    "ROUTE_ALT_XML = SIMULATION_DIR / \"route.alt.xml\"\n",
    "SUMOCFG_XML = SIMULATION_DIR / \"run.sumocfg\"\n",
    "\n",
    "DUAROUTER_LOG = LOGS_DIR / \"duarouter.log\"\n",
    "SIMULATION_LOG = LOGS_DIR / \"sumo_run.log\"\n",
    "\n",
    "# Outputs Paths\n",
    "COLLISIONS_XML = OUTPUTS_DIR / \"collisions.xml\"\n",
    "BATTERY_XML = OUTPUTS_DIR / \"battery.xml\"\n",
    "LANECHANGES_XML = OUTPUTS_DIR / \"laneChanges.xml\"\n",
    "STATISTICS_XML = OUTPUTS_DIR / \"statistics.xml\"\n",
    "TRACE_XML = OUTPUTS_DIR / \"sumoTrace.xml\"\n",
    "SUMMARY_XML = OUTPUTS_DIR / \"summary.xml\"\n",
    "TRIPINFO_XML = OUTPUTS_DIR / \"tripinfo.xml\"\n",
    "VEHROUTES_XML = OUTPUTS_DIR / \"vehRoutes.xml\"\n",
    "NETSTATE_XML = OUTPUTS_DIR / \"netstate.xml\"\n",
    "LOG_TXT = OUTPUTS_DIR / \"log.txt\"\n",
    "EDGEDATA_XML = OUTPUTS_DIR / \"edgeData-60s.xml\"\n",
    "LANEDATA_XML = OUTPUTS_DIR / \"laneData-60s.xml\"\n",
    "QUEUE_XML = OUTPUTS_DIR / \"queue.xml\"\n",
    "EMISSION_XML = OUTPUTS_DIR / \"emission.xml\"\n",
    "SMS_XML = OUTPUTS_DIR / \"sms.xml\"\n",
    "\n",
    "# Visualization Paths\n",
    "PLOT_1_PNG = VISUALIZATIONS_DIR / \"plot_1.png\"\n",
    "PLOT_2_PNG = VISUALIZATIONS_DIR / \"plot_2.png\"\n",
    "PLOT_3_PNG = VISUALIZATIONS_DIR / \"plot_3.png\"\n",
    "PLOT_4_PNG = VISUALIZATIONS_DIR / \"plot_4.png\"\n",
    "PLOT_5_PNG = VISUALIZATIONS_DIR / \"plot_5.png\"\n",
    "PLOT_6_PNG = VISUALIZATIONS_DIR / \"plot_6.png\"\n",
    "PLOT_7_PNG = VISUALIZATIONS_DIR / \"plot_7.png\"\n",
    "PLOT_8_PNG = VISUALIZATIONS_DIR / \"plot_8.png\"\n",
    "\n",
    "PATH_REPLACEMENTS = {\n",
    "    'net-file': NET_XML,\n",
    "    'route-files': ROUTE_XML,\n",
    "    'summary-output': SUMMARY_XML,\n",
    "    'tripinfo-output': TRIPINFO_XML,\n",
    "    'fcd-output': TRACE_XML,\n",
    "    'lanechange-output': LANECHANGES_XML,\n",
    "    'battery-output': BATTERY_XML,\n",
    "    'vehroute-output': VEHROUTES_XML,\n",
    "    'collision-output': COLLISIONS_XML,\n",
    "    'netstate-dump': NETSTATE_XML,\n",
    "    'statistic-output': STATISTICS_XML,\n",
    "    'log': LOG_TXT,\n",
    "    'lanedata-output': LANEDATA_XML,\n",
    "    'edgedata-output': EDGEDATA_XML,\n",
    "    'device.ssm.file': SMS_XML,\n",
    "    'emission-output': EMISSION_XML,\n",
    "    'queue-output': QUEUE_XML\n",
    "}"
   ]
  },
  {
   "cell_type": "markdown",
   "metadata": {},
   "source": [
    "# **MAIN**"
   ]
  },
  {
   "cell_type": "markdown",
   "metadata": {},
   "source": [
    "## Creating Ods"
   ]
  },
  {
   "cell_type": "code",
   "execution_count": 2,
   "metadata": {},
   "outputs": [
    {
     "name": "stdout",
     "output_type": "stream",
     "text": [
      "[DONE] OD matrix hour 4: /home/hoai-linh.dao/Works/EVCS/CEREMA-Mini/result/experiments/19-05-25-debugging/ods/od_matrix_04.txt (1688 bytes)\n",
      "[DONE] OD matrix hour 5: /home/hoai-linh.dao/Works/EVCS/CEREMA-Mini/result/experiments/19-05-25-debugging/ods/od_matrix_05.txt (1688 bytes)\n",
      "[DONE] OD matrix hour 6: /home/hoai-linh.dao/Works/EVCS/CEREMA-Mini/result/experiments/19-05-25-debugging/ods/od_matrix_06.txt (1688 bytes)\n",
      "[DONE] OD matrix hour 7: /home/hoai-linh.dao/Works/EVCS/CEREMA-Mini/result/experiments/19-05-25-debugging/ods/od_matrix_07.txt (1688 bytes)\n",
      "[DONE] OD matrix hour 8: /home/hoai-linh.dao/Works/EVCS/CEREMA-Mini/result/experiments/19-05-25-debugging/ods/od_matrix_08.txt (1688 bytes)\n",
      "[DONE] OD matrix hour 9: /home/hoai-linh.dao/Works/EVCS/CEREMA-Mini/result/experiments/19-05-25-debugging/ods/od_matrix_09.txt (1689 bytes)\n",
      "[DONE] OD matrix hour 10: /home/hoai-linh.dao/Works/EVCS/CEREMA-Mini/result/experiments/19-05-25-debugging/ods/od_matrix_10.txt (1690 bytes)\n",
      "[DONE] OD matrix hour 11: /home/hoai-linh.dao/Works/EVCS/CEREMA-Mini/result/experiments/19-05-25-debugging/ods/od_matrix_11.txt (1690 bytes)\n",
      "[DONE] OD matrix hour 12: /home/hoai-linh.dao/Works/EVCS/CEREMA-Mini/result/experiments/19-05-25-debugging/ods/od_matrix_12.txt (1690 bytes)\n",
      "[DONE] OD matrix hour 13: /home/hoai-linh.dao/Works/EVCS/CEREMA-Mini/result/experiments/19-05-25-debugging/ods/od_matrix_13.txt (1690 bytes)\n",
      "[DONE] OD matrix hour 14: /home/hoai-linh.dao/Works/EVCS/CEREMA-Mini/result/experiments/19-05-25-debugging/ods/od_matrix_14.txt (1690 bytes)\n",
      "[DONE] OD matrix hour 15: /home/hoai-linh.dao/Works/EVCS/CEREMA-Mini/result/experiments/19-05-25-debugging/ods/od_matrix_15.txt (1690 bytes)\n",
      "[DONE] OD matrix hour 16: /home/hoai-linh.dao/Works/EVCS/CEREMA-Mini/result/experiments/19-05-25-debugging/ods/od_matrix_16.txt (1690 bytes)\n",
      "[DONE] OD matrix hour 17: /home/hoai-linh.dao/Works/EVCS/CEREMA-Mini/result/experiments/19-05-25-debugging/ods/od_matrix_17.txt (1690 bytes)\n",
      "[DONE] OD matrix hour 18: /home/hoai-linh.dao/Works/EVCS/CEREMA-Mini/result/experiments/19-05-25-debugging/ods/od_matrix_18.txt (1690 bytes)\n",
      "[DONE] OD matrix hour 19: /home/hoai-linh.dao/Works/EVCS/CEREMA-Mini/result/experiments/19-05-25-debugging/ods/od_matrix_19.txt (1690 bytes)\n",
      "[DONE] OD matrix hour 20: /home/hoai-linh.dao/Works/EVCS/CEREMA-Mini/result/experiments/19-05-25-debugging/ods/od_matrix_20.txt (1690 bytes)\n",
      "[DONE] OD matrix hour 21: /home/hoai-linh.dao/Works/EVCS/CEREMA-Mini/result/experiments/19-05-25-debugging/ods/od_matrix_21.txt (1690 bytes)\n",
      "[DONE] OD matrix hour 22: /home/hoai-linh.dao/Works/EVCS/CEREMA-Mini/result/experiments/19-05-25-debugging/ods/od_matrix_22.txt (1690 bytes)\n",
      "[DONE] OD matrix hour 23: /home/hoai-linh.dao/Works/EVCS/CEREMA-Mini/result/experiments/19-05-25-debugging/ods/od_matrix_23.txt (1690 bytes)\n",
      "[DONE] OD matrix hour 0: /home/hoai-linh.dao/Works/EVCS/CEREMA-Mini/result/experiments/19-05-25-debugging/ods/od_matrix_00.txt (1688 bytes)\n",
      "[DONE] OD matrix hour 1: /home/hoai-linh.dao/Works/EVCS/CEREMA-Mini/result/experiments/19-05-25-debugging/ods/od_matrix_01.txt (1688 bytes)\n",
      "[DONE] OD matrix hour 2: /home/hoai-linh.dao/Works/EVCS/CEREMA-Mini/result/experiments/19-05-25-debugging/ods/od_matrix_02.txt (1688 bytes)\n",
      "[DONE] OD matrix hour 3: /home/hoai-linh.dao/Works/EVCS/CEREMA-Mini/result/experiments/19-05-25-debugging/ods/od_matrix_03.txt (1688 bytes)\n"
     ]
    }
   ],
   "source": [
    "matrix_files = generateOds(\n",
    "    MAIN_FLOW_CSV,\n",
    "    ODS_DIR,\n",
    "    TAZ_IDS,\n",
    "    real_origin=\"marseille\",\n",
    "    exclude_cols={\"total\",\"intra\"},\n",
    "    trips_ratio=TRIPS_RATIO_4,\n",
    "    scale_in=INCOMING_RATIO,\n",
    "    scale_out=OUTGOING_RATIO\n",
    ")\n",
    "\n",
    "\n",
    "for hour, path in matrix_files:\n",
    "    size = os.path.getsize(path)\n",
    "    print(f\"[DONE] OD matrix hour {hour}: {path} ({size} bytes)\")\n",
    "    "
   ]
  },
  {
   "cell_type": "markdown",
   "metadata": {},
   "source": [
    "## Creating Trips from Ods"
   ]
  },
  {
   "cell_type": "code",
   "execution_count": 3,
   "metadata": {},
   "outputs": [
    {
     "name": "stdout",
     "output_type": "stream",
     "text": [
      "Call od2trips for all ...\n",
      "Success.time 3598.85\n",
      "Generated /home/hoai-linh.dao/Works/EVCS/CEREMA-Mini/result/experiments/19-05-25-debugging/trips/trips_00.xml\n",
      "Success.time 7197.60\n",
      "Generated /home/hoai-linh.dao/Works/EVCS/CEREMA-Mini/result/experiments/19-05-25-debugging/trips/trips_01.xml\n",
      "Success.time 10794.00\n",
      "Generated /home/hoai-linh.dao/Works/EVCS/CEREMA-Mini/result/experiments/19-05-25-debugging/trips/trips_02.xml\n",
      "Success.time 14360.00\n",
      "Generated /home/hoai-linh.dao/Works/EVCS/CEREMA-Mini/result/experiments/19-05-25-debugging/trips/trips_03.xml\n",
      "Success.time 17979.78\n",
      "Generated /home/hoai-linh.dao/Works/EVCS/CEREMA-Mini/result/experiments/19-05-25-debugging/trips/trips_04.xml\n",
      "Success.time 21597.70\n",
      "Generated /home/hoai-linh.dao/Works/EVCS/CEREMA-Mini/result/experiments/19-05-25-debugging/trips/trips_05.xml\n",
      "Success.time 25199.25\n",
      "Generated /home/hoai-linh.dao/Works/EVCS/CEREMA-Mini/result/experiments/19-05-25-debugging/trips/trips_06.xml\n",
      "Success.time 28799.05\n",
      "Generated /home/hoai-linh.dao/Works/EVCS/CEREMA-Mini/result/experiments/19-05-25-debugging/trips/trips_07.xml\n",
      "Success.time 32399.40\n",
      "Generated /home/hoai-linh.dao/Works/EVCS/CEREMA-Mini/result/experiments/19-05-25-debugging/trips/trips_08.xml\n",
      "Success.time 35999.69\n",
      "Generated /home/hoai-linh.dao/Works/EVCS/CEREMA-Mini/result/experiments/19-05-25-debugging/trips/trips_09.xml\n",
      "Success.time 39599.38\n",
      "Generated /home/hoai-linh.dao/Works/EVCS/CEREMA-Mini/result/experiments/19-05-25-debugging/trips/trips_10.xml\n",
      "Success.time 43199.36\n",
      "Generated /home/hoai-linh.dao/Works/EVCS/CEREMA-Mini/result/experiments/19-05-25-debugging/trips/trips_11.xml\n",
      "Success.time 46799.26\n",
      "Generated /home/hoai-linh.dao/Works/EVCS/CEREMA-Mini/result/experiments/19-05-25-debugging/trips/trips_12.xml\n",
      "Success.time 50399.02\n",
      "Generated /home/hoai-linh.dao/Works/EVCS/CEREMA-Mini/result/experiments/19-05-25-debugging/trips/trips_13.xml\n",
      "Success.time 53999.88\n",
      "Generated /home/hoai-linh.dao/Works/EVCS/CEREMA-Mini/result/experiments/19-05-25-debugging/trips/trips_14.xml\n",
      "Success.time 57599.09\n",
      "Generated /home/hoai-linh.dao/Works/EVCS/CEREMA-Mini/result/experiments/19-05-25-debugging/trips/trips_15.xml\n",
      "Success.time 61199.22\n",
      "Generated /home/hoai-linh.dao/Works/EVCS/CEREMA-Mini/result/experiments/19-05-25-debugging/trips/trips_16.xml\n",
      "Success.time 64799.45\n",
      "Generated /home/hoai-linh.dao/Works/EVCS/CEREMA-Mini/result/experiments/19-05-25-debugging/trips/trips_17.xml\n",
      "Success.time 68399.63\n",
      "Generated /home/hoai-linh.dao/Works/EVCS/CEREMA-Mini/result/experiments/19-05-25-debugging/trips/trips_18.xml\n",
      "Success.time 71999.07\n",
      "Generated /home/hoai-linh.dao/Works/EVCS/CEREMA-Mini/result/experiments/19-05-25-debugging/trips/trips_19.xml\n",
      "Success.time 75599.84\n",
      "Generated /home/hoai-linh.dao/Works/EVCS/CEREMA-Mini/result/experiments/19-05-25-debugging/trips/trips_20.xml\n",
      "Success.time 79199.74\n",
      "Generated /home/hoai-linh.dao/Works/EVCS/CEREMA-Mini/result/experiments/19-05-25-debugging/trips/trips_21.xml\n",
      "Success.time 82798.55\n",
      "Generated /home/hoai-linh.dao/Works/EVCS/CEREMA-Mini/result/experiments/19-05-25-debugging/trips/trips_22.xml\n",
      "Success.time 86399.25\n",
      "Generated /home/hoai-linh.dao/Works/EVCS/CEREMA-Mini/result/experiments/19-05-25-debugging/trips/trips_23.xml\n",
      "\n",
      "[DONE] Finished 24 Trips based on hours.\n",
      "[DONE] Merged 24 trip files to /home/hoai-linh.dao/Works/EVCS/CEREMA-Mini/result/experiments/19-05-25-debugging/trips.xml\n"
     ]
    }
   ],
   "source": [
    "print(\"Call od2trips for all ...\")\n",
    "trips_files = od2tripsForAll(TAZ_XML, TRIPS_DIR, ODS_DIR)\n",
    "print()\n",
    "print(\"[DONE] Finished 24 Trips based on hours.\")\n",
    "\n",
    "mergeTrips(TRIPS_DIR, ALL_TRIPS_XML)\n"
   ]
  },
  {
   "cell_type": "markdown",
   "metadata": {},
   "source": [
    "## Creating Route"
   ]
  },
  {
   "cell_type": "code",
   "execution_count": 4,
   "metadata": {},
   "outputs": [
    {
     "name": "stdout",
     "output_type": "stream",
     "text": [
      "Running DUAROUTER Step ...\n",
      "Success.up to time step: 86401.15ng up to time step: 24401.15ep: 48401.15ding up to time step: 72601.15\n",
      "[DONE] Routes written in /home/hoai-linh.dao/Works/EVCS/CEREMA-Mini/result/experiments/19-05-25-debugging/route.xml\n",
      "[LOG] Output logged in /home/hoai-linh.dao/Works/EVCS/CEREMA-Mini/result/experiments/19-05-25-debugging/logs/duarouter.log\n"
     ]
    }
   ],
   "source": [
    "DUAROUTER_CMD = [\n",
    "    \"duarouter\",\n",
    "    \"-n\", NET_XML,            \n",
    "    \"-r\", ALL_TRIPS_XML,            \n",
    "    \"-a\", VTYPES_DIST_XML,\n",
    "    \"--randomize-flows\",         \n",
    "    \"-o\", ROUTE_XML,    \n",
    "    \"--log\", DUAROUTER_LOG,\n",
    "    \"--exit-times\",\n",
    "    \"--named-routes\",\n",
    "    \"--route-length\",\n",
    "    \"--write-costs\"\n",
    "]\n",
    "\n",
    "print(\"Running DUAROUTER Step ...\")\n",
    "subprocess.run(DUAROUTER_CMD, check=True)\n",
    "print(f\"[DONE] Routes written in {ROUTE_XML}\\n[LOG] Output logged in {DUAROUTER_LOG}\")\n"
   ]
  },
  {
   "cell_type": "markdown",
   "metadata": {},
   "source": [
    "## Updating Sumo-Config"
   ]
  },
  {
   "cell_type": "code",
   "execution_count": 5,
   "metadata": {},
   "outputs": [
    {
     "name": "stdout",
     "output_type": "stream",
     "text": [
      "Updating net-file: /home/hoai-linh.dao/Works/EVCS/CEREMA-Mini/result/net-repairment/cleaned_p2_2_newtest-osm.net.xml -> /home/hoai-linh.dao/Works/EVCS/CEREMA-Mini/result/net-repairment/cleaned_p2_2_newtest-osm.net.xml\n",
      "Updating route-files: /home/hoai-linh.dao/Works/EVCS/CEREMA-Mini/result/experiments/19-05-25-debugging/route.xml -> /home/hoai-linh.dao/Works/EVCS/CEREMA-Mini/result/experiments/19-05-25-debugging/route.xml\n",
      "Updating statistic-output: /home/hoai-linh.dao/Works/EVCS/CEREMA-Mini/result/experiments/19-05-25-debugging/outputs/statistics.xml -> /home/hoai-linh.dao/Works/EVCS/CEREMA-Mini/result/experiments/19-05-25-debugging/outputs/statistics.xml\n",
      "Updating log: /home/hoai-linh.dao/Works/EVCS/CEREMA-Mini/result/experiments/19-05-25-debugging/outputs/log.txt -> /home/hoai-linh.dao/Works/EVCS/CEREMA-Mini/result/experiments/19-05-25-debugging/outputs/log.txt\n",
      "Updating summary-output: /home/hoai-linh.dao/Works/EVCS/CEREMA-Mini/result/experiments/19-05-25-debugging/outputs/summary.xml -> /home/hoai-linh.dao/Works/EVCS/CEREMA-Mini/result/experiments/19-05-25-debugging/outputs/summary.xml\n",
      "Updating tripinfo-output: /home/hoai-linh.dao/Works/EVCS/CEREMA-Mini/result/experiments/19-05-25-debugging/outputs/tripinfo.xml -> /home/hoai-linh.dao/Works/EVCS/CEREMA-Mini/result/experiments/19-05-25-debugging/outputs/tripinfo.xml\n",
      "Updating vehroute-output: /home/hoai-linh.dao/Works/EVCS/CEREMA-Mini/result/experiments/19-05-25-debugging/outputs/vehRoutes.xml -> /home/hoai-linh.dao/Works/EVCS/CEREMA-Mini/result/experiments/19-05-25-debugging/outputs/vehRoutes.xml\n",
      "Updating lanechange-output: /home/hoai-linh.dao/Works/EVCS/CEREMA-Mini/result/experiments/19-05-25-debugging/outputs/laneChanges.xml -> /home/hoai-linh.dao/Works/EVCS/CEREMA-Mini/result/experiments/19-05-25-debugging/outputs/laneChanges.xml\n",
      "Updating fcd-output: /home/hoai-linh.dao/Works/EVCS/CEREMA-Mini/result/experiments/19-05-25-debugging/outputs/sumoTrace.xml -> /home/hoai-linh.dao/Works/EVCS/CEREMA-Mini/result/experiments/19-05-25-debugging/outputs/sumoTrace.xml\n",
      "Updating battery-output: /home/hoai-linh.dao/Works/EVCS/CEREMA-Mini/result/experiments/19-05-25-debugging/outputs/battery.xml -> /home/hoai-linh.dao/Works/EVCS/CEREMA-Mini/result/experiments/19-05-25-debugging/outputs/battery.xml\n",
      "Updating collision-output: /home/hoai-linh.dao/Works/EVCS/CEREMA-Mini/result/experiments/19-05-25-debugging/outputs/collisions.xml -> /home/hoai-linh.dao/Works/EVCS/CEREMA-Mini/result/experiments/19-05-25-debugging/outputs/collisions.xml\n",
      "Updating edgedata-output: /home/hoai-linh.dao/Works/EVCS/CEREMA-Mini/result/experiments/19-05-25-debugging/outputs/edgeData-60s.xml -> /home/hoai-linh.dao/Works/EVCS/CEREMA-Mini/result/experiments/19-05-25-debugging/outputs/edgeData-60s.xml\n",
      "Updating lanedata-output: /home/hoai-linh.dao/Works/EVCS/CEREMA-Mini/result/experiments/19-05-25-debugging/outputs/laneData-60s.xml -> /home/hoai-linh.dao/Works/EVCS/CEREMA-Mini/result/experiments/19-05-25-debugging/outputs/laneData-60s.xml\n",
      "Updating queue-output: /home/hoai-linh.dao/Works/EVCS/CEREMA-Mini/result/experiments/19-05-25-debugging/outputs/queue.xml -> /home/hoai-linh.dao/Works/EVCS/CEREMA-Mini/result/experiments/19-05-25-debugging/outputs/queue.xml\n",
      "[DONE] New Sumo-Configuration in /home/hoai-linh.dao/Works/EVCS/CEREMA-Mini/result/experiments/19-05-25-debugging/run.sumocfg with all right paths.\n"
     ]
    }
   ],
   "source": [
    "updateSumoCfg(\n",
    "    cfg_path=SUMOCFG_XML,\n",
    "    output_path=SUMOCFG_XML,\n",
    "    replacements=PATH_REPLACEMENTS\n",
    ")\n",
    "print(f\"[DONE] New Sumo-Configuration in {SUMOCFG_XML} with all right paths.\")\n"
   ]
  },
  {
   "cell_type": "markdown",
   "metadata": {},
   "source": [
    "## Running"
   ]
  },
  {
   "cell_type": "code",
   "execution_count": null,
   "metadata": {},
   "outputs": [
    {
     "name": "stdout",
     "output_type": "stream",
     "text": [
      "Running SUMO simulation ...\n"
     ]
    }
   ],
   "source": [
    "SIMULATION_CMD = [\n",
    "    \"sumo\",             \n",
    "    \"-c\", SUMOCFG_XML,\n",
    "    \"--no-step-log\",      \n",
    "    \"--duration-log.statistics\",\n",
    "    \"--xml-validation\", \"never\"  \n",
    "]\n",
    "\n",
    "with open(SIMULATION_LOG, \"w\") as f:\n",
    "    print(\"Running SUMO simulation ...\")\n",
    "    subprocess.run(SIMULATION_CMD, stdout=f, stderr=subprocess.STDOUT, check=True)\n",
    "    print(f\"[DONE] Simulation outputs are created in {SIMULATION_DIR}\\n[LOG] Output logged in {SIMULATION_LOG}\")\n"
   ]
  },
  {
   "cell_type": "markdown",
   "metadata": {},
   "source": [
    "# **VISUALIZATIONS**"
   ]
  },
  {
   "cell_type": "code",
   "execution_count": null,
   "metadata": {},
   "outputs": [],
   "source": [
    "# Departure times versus arrival times\n",
    "PLOT_CMD_1 = [\n",
    "    \"python\", PLOTXMLATTRIBUTES_PY,\n",
    "    VEHROUTES_XML,                 \n",
    "    \"-x\", \"depart\",      \n",
    "    \"-y\", \"arrival\",             \n",
    "    \"-o\", PLOT_1_PNG,\n",
    "    \"--scatterplot\"\n",
    "]\n",
    "\n",
    "subprocess.run(PLOT_CMD_1, check=True)\n"
   ]
  },
  {
   "cell_type": "code",
   "execution_count": null,
   "metadata": {},
   "outputs": [],
   "source": [
    "# All trajectories over time 1\n",
    "PLOT_CMD_2 = [\n",
    "    \"python\", PLOTXMLATTRIBUTES_PY,\n",
    "    TRACE_XML,                 \n",
    "    \"-x\", \"x\",     \n",
    "    \"-y\", \"y\",             \n",
    "    \"-o\", PLOT_2_PNG,\n",
    "    \"--scatterplot\"\n",
    "]\n",
    "\n",
    "subprocess.run(PLOT_CMD_2, check=True)\n"
   ]
  },
  {
   "cell_type": "code",
   "execution_count": null,
   "metadata": {},
   "outputs": [],
   "source": [
    "# Multiple timelines from summary-output\n",
    "PLOT_CMD_3 = [\n",
    "    \"python\", PLOTXMLATTRIBUTES_PY,\n",
    "    SUMMARY_XML,\n",
    "    \"-x\", \"time\",\n",
    "    \"-y\", \"running,halting\",\n",
    "    \"-o\", PLOT_3_PNG,\n",
    "    \"--legend\"\n",
    "]\n",
    "subprocess.run(PLOT_CMD_3, check=True)\n"
   ]
  },
  {
   "cell_type": "code",
   "execution_count": null,
   "metadata": {},
   "outputs": [],
   "source": [
    "# Depart delay over time from TripInfo data\n",
    "PLOT_CMD_4 = [\n",
    "    \"python\", PLOTXMLATTRIBUTES_PY,\n",
    "    TRIPINFO_XML,\n",
    "    \"-x\", \"depart\",\n",
    "    \"-y\", \"departDelay\",\n",
    "    \"--xlabel\", \"depart time [s]\",\n",
    "    \"--ylabel\", \"depart delay [s]\",\n",
    "    \"--ylim\", \"0,40\",\n",
    "    \"--xticks\", \"0,1200,200,10\",\n",
    "    \"--yticks\", \"0,40,5,10\",\n",
    "    \"--xgrid\", \"--ygrid\",\n",
    "    \"--title\", \"depart delay over depart time\",\n",
    "    \"--titlesize\", \"16\",\n",
    "    \"-o\", PLOT_4_PNG\n",
    "]\n",
    "subprocess.run(PLOT_CMD_4, check=True)\n"
   ]
  },
  {
   "cell_type": "code",
   "execution_count": null,
   "metadata": {},
   "outputs": [],
   "source": [
    "QUERIED_VEH_ID = \"carDist1\"\n",
    "# Selected trajectories over time\n",
    "PLOT_CMD_5 = [\n",
    "    \"python\", PLOTXMLATTRIBUTES_PY,\n",
    "    TRACE_XML,\n",
    "    \"-x\", \"x\",\n",
    "    \"-y\", \"y\",\n",
    "    \"-i\", \"id\",\n",
    "    \"--filter-ids\", QUERIED_VEH_ID\n",
    "    \"--scatterplot\",\n",
    "    \"--legend\",\n",
    "    \"-o\", PLOT_5_PNG\n",
    "]\n",
    "subprocess.run(PLOT_CMD_4, check=True)"
   ]
  }
 ],
 "metadata": {
  "kernelspec": {
   "display_name": "Python 3",
   "language": "python",
   "name": "python3"
  },
  "language_info": {
   "codemirror_mode": {
    "name": "ipython",
    "version": 3
   },
   "file_extension": ".py",
   "mimetype": "text/x-python",
   "name": "python",
   "nbconvert_exporter": "python",
   "pygments_lexer": "ipython3",
   "version": "3.10.16"
  }
 },
 "nbformat": 4,
 "nbformat_minor": 2
}
