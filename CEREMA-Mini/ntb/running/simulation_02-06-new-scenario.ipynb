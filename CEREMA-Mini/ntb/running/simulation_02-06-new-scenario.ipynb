{
 "cells": [
  {
   "cell_type": "markdown",
   "metadata": {},
   "source": [
    "# **SETUP**"
   ]
  },
  {
   "cell_type": "code",
   "execution_count": null,
   "metadata": {},
   "outputs": [],
   "source": [
    "import sys\n",
    "from pathlib import Path\n",
    "sys.path.append('/home/hoai-linh.dao/Works/EVCS/CEREMA-Mini/src') \n",
    "from config import *\n",
    "\n",
    "# Fixed PATHs\n",
    "# NET_XML = Path(\"/home/hoai-linh.dao/Works/EVCS/CEREMA-Mini/data/newtest-osm.net.xml\")\n",
    "NET_XML = \"/home/hoai-linh.dao/Works/EVCS/CEREMA-Mini/result/net-creation/310525-AMP-test-func/connected-network.net.xml\"\n",
    "# VTYPES_DIST_XML = \"/home/hoai-linh.dao/Works/EVCS/CEREMA-Mini/data/additional-files/vtypes-dist.add.xml\"\n",
    "TAZ_XML = \"/home/hoai-linh.dao/Works/EVCS/CEREMA-Mini/result/net-creation/310525-AMP-test-func/taz.xml\"\n",
    "VTYPES_XML = \"/home/hoai-linh.dao/Works/EVCS/CEREMA-Mini/data/additional-files/vtypes/eidm-1.xml\"\n",
    "ODS_DIR = \"/home/hoai-linh.dao/Works/EVCS/CEREMA-Mini/data/processed-data/total_scenario/old-form-all\"\n",
    "\n",
    "# Dynamic DIRs\n",
    "SIMULATION_DIR = Path(\"/home/hoai-linh.dao/Works/EVCS/CEREMA-Mini/result/experiments/02-06-new-scenario\") # MOST IMPORTANT\n",
    "TRIPS_DIR = SIMULATION_DIR / \"trips\"\n",
    "OUTPUTS_DIR = SIMULATION_DIR / \"outputs\"\n",
    "LOGS_DIR = SIMULATION_DIR / \"logs\"\n",
    "VISUALIZATIONS_DIR = SIMULATION_DIR / \"visualizations\"\n",
    "\n",
    "SIMULATION_DIR.mkdir(parents=True, exist_ok=True)\n",
    "for path in [TRIPS_DIR, OUTPUTS_DIR, LOGS_DIR, VISUALIZATIONS_DIR]:\n",
    "    path.mkdir(parents=True, exist_ok=True)\n",
    "\n",
    "# Dynamic PATHs\n",
    "ALL_TRIPS_XML = SIMULATION_DIR / \"trips.xml\"\n",
    "ROUTE_XML = SIMULATION_DIR / \"route.xml\"\n",
    "ROUTE_ALT_XML = SIMULATION_DIR / \"route.alt.xml\"\n",
    "SUMOCFG_XML = SIMULATION_DIR / \"run.sumocfg\"\n",
    "\n",
    "DUAROUTER_LOG = LOGS_DIR / \"duarouter.log\"\n",
    "SIMULATION_LOG = LOGS_DIR / \"sumo_run.log\"\n",
    "\n",
    "# Outputs Paths\n",
    "COLLISIONS_XML = OUTPUTS_DIR / \"collisions.xml\"\n",
    "BATTERY_XML = OUTPUTS_DIR / \"battery.xml\"\n",
    "LANECHANGES_XML = OUTPUTS_DIR / \"laneChanges.xml\"\n",
    "STATISTICS_XML = OUTPUTS_DIR / \"statistics.xml\"\n",
    "TRACE_XML = OUTPUTS_DIR / \"sumoTrace.xml\"\n",
    "SUMMARY_XML = OUTPUTS_DIR / \"summary.xml\"\n",
    "TRIPINFO_XML = OUTPUTS_DIR / \"tripinfo.xml\"\n",
    "VEHROUTES_XML = OUTPUTS_DIR / \"vehRoutes.xml\"\n",
    "NETSTATE_XML = OUTPUTS_DIR / \"netstate.xml\"\n",
    "LOG_TXT = OUTPUTS_DIR / \"log.txt\"\n",
    "EDGEDATA_XML = OUTPUTS_DIR / \"edgeData-60s.xml\"\n",
    "LANEDATA_XML = OUTPUTS_DIR / \"laneData-60s.xml\"\n",
    "QUEUE_XML = OUTPUTS_DIR / \"queue.xml\"\n",
    "EMISSION_XML = OUTPUTS_DIR / \"emission.xml\"\n",
    "SMS_XML = OUTPUTS_DIR / \"sms.xml\"\n",
    "\n",
    "# Visualization Paths\n",
    "PLOT_1_PNG = VISUALIZATIONS_DIR / \"plot_1.png\"\n",
    "PLOT_2_PNG = VISUALIZATIONS_DIR / \"plot_2.png\"\n",
    "PLOT_3_PNG = VISUALIZATIONS_DIR / \"plot_3.png\"\n",
    "PLOT_4_PNG = VISUALIZATIONS_DIR / \"plot_4.png\"\n",
    "PLOT_5_PNG = VISUALIZATIONS_DIR / \"plot_5.png\"\n",
    "PLOT_6_PNG = VISUALIZATIONS_DIR / \"plot_6.png\"\n",
    "PLOT_7_PNG = VISUALIZATIONS_DIR / \"plot_7.png\"\n",
    "PLOT_8_PNG = VISUALIZATIONS_DIR / \"plot_8.png\"\n",
    "\n",
    "PATH_REPLACEMENTS = {\n",
    "    'net-file': NET_XML,\n",
    "    'route-files': ROUTE_XML,\n",
    "    'summary-output': SUMMARY_XML,\n",
    "    'tripinfo-output': TRIPINFO_XML,\n",
    "    'fcd-output': TRACE_XML,\n",
    "    'lanechange-output': LANECHANGES_XML,\n",
    "    'battery-output': BATTERY_XML,\n",
    "    'vehroute-output': VEHROUTES_XML,\n",
    "    'collision-output': COLLISIONS_XML,\n",
    "    'netstate-dump': NETSTATE_XML,\n",
    "    'statistic-output': STATISTICS_XML,\n",
    "    'log': LOG_TXT,\n",
    "    'lanedata-output': LANEDATA_XML,\n",
    "    'edgedata-output': EDGEDATA_XML,\n",
    "    'device.ssm.file': SMS_XML,\n",
    "    'emission-output': EMISSION_XML,\n",
    "    'queue-output': QUEUE_XML\n",
    "}"
   ]
  },
  {
   "cell_type": "markdown",
   "metadata": {},
   "source": [
    "# **MAIN**"
   ]
  },
  {
   "cell_type": "markdown",
   "metadata": {},
   "source": [
    "## Creating Trips from Ods"
   ]
  },
  {
   "cell_type": "code",
   "execution_count": null,
   "metadata": {},
   "outputs": [
    {
     "name": "stdout",
     "output_type": "stream",
     "text": [
      "Call od2trips for all ...\n",
      "Success.time 3598.38\n",
      "Generated /home/hoai-linh.dao/Works/EVCS/CEREMA-Mini/result/experiments/02-06-new-scenario/trips/trips_00.xml\n",
      "Success.time 7197.29\n",
      "Generated /home/hoai-linh.dao/Works/EVCS/CEREMA-Mini/result/experiments/02-06-new-scenario/trips/trips_01.xml\n",
      "Success.time 10792.44\n",
      "Generated /home/hoai-linh.dao/Works/EVCS/CEREMA-Mini/result/experiments/02-06-new-scenario/trips/trips_02.xml\n",
      "Success.time 14392.68\n",
      "Generated /home/hoai-linh.dao/Works/EVCS/CEREMA-Mini/result/experiments/02-06-new-scenario/trips/trips_03.xml\n",
      "Success.time 17997.88\n",
      "Generated /home/hoai-linh.dao/Works/EVCS/CEREMA-Mini/result/experiments/02-06-new-scenario/trips/trips_04.xml\n",
      "Success.time 21599.60\n",
      "Generated /home/hoai-linh.dao/Works/EVCS/CEREMA-Mini/result/experiments/02-06-new-scenario/trips/trips_05.xml\n",
      "Success.time 25199.68.22\n",
      "Generated /home/hoai-linh.dao/Works/EVCS/CEREMA-Mini/result/experiments/02-06-new-scenario/trips/trips_06.xml\n",
      "Success.time 28799.2454.29g time 26520.69 27841.57rsing time 28407.80\n",
      "Generated /home/hoai-linh.dao/Works/EVCS/CEREMA-Mini/result/experiments/02-06-new-scenario/trips/trips_07.xml\n",
      "Success.time 32399.81 29359.42rsing time 29919.780479.14ing time 31039.5198.87g time 32159.23\n",
      "Generated /home/hoai-linh.dao/Works/EVCS/CEREMA-Mini/result/experiments/02-06-new-scenario/trips/trips_08.xml\n",
      "Success.time 35999.9024098.91 35043.38g time 35799.01\n",
      "Generated /home/hoai-linh.dao/Works/EVCS/CEREMA-Mini/result/experiments/02-06-new-scenario/trips/trips_09.xml\n",
      "Success.time 39599.504.3895.52\n",
      "Generated /home/hoai-linh.dao/Works/EVCS/CEREMA-Mini/result/experiments/02-06-new-scenario/trips/trips_10.xml\n",
      "Success.time 43199.046.43 42249.39g time 43006.79\n",
      "Generated /home/hoai-linh.dao/Works/EVCS/CEREMA-Mini/result/experiments/02-06-new-scenario/trips/trips_11.xml\n",
      "Success.time 46799.075.08 45807.51\n",
      "Generated /home/hoai-linh.dao/Works/EVCS/CEREMA-Mini/result/experiments/02-06-new-scenario/trips/trips_12.xml\n",
      "Success.time 50399.717.1319.18\n",
      "Generated /home/hoai-linh.dao/Works/EVCS/CEREMA-Mini/result/experiments/02-06-new-scenario/trips/trips_13.xml\n",
      "Success.time 53999.972.2549.63\n",
      "Generated /home/hoai-linh.dao/Works/EVCS/CEREMA-Mini/result/experiments/02-06-new-scenario/trips/trips_14.xml\n",
      "Success.time 57599.7215675.35 56606.53g time 57351.68\n",
      "Generated /home/hoai-linh.dao/Works/EVCS/CEREMA-Mini/result/experiments/02-06-new-scenario/trips/trips_15.xml\n",
      "Success.time 61199.78 58162.67rsing time 58726.179288.90ing time 59852.7815.25me 61166.58\n",
      "Generated /home/hoai-linh.dao/Works/EVCS/CEREMA-Mini/result/experiments/02-06-new-scenario/trips/trips_16.xml\n",
      "Success.time 64799.45 61763.76rsing time 62328.412892.00ing time 63456.8220.55g time 64585.27\n",
      "Generated /home/hoai-linh.dao/Works/EVCS/CEREMA-Mini/result/experiments/02-06-new-scenario/trips/trips_17.xml\n",
      "Success.time 68399.1126488.68 67427.26g time 68178.33\n",
      "Generated /home/hoai-linh.dao/Works/EVCS/CEREMA-Mini/result/experiments/02-06-new-scenario/trips/trips_18.xml\n",
      "Success.time 71999.80g time 69735.38 71069.60\n",
      "Generated /home/hoai-linh.dao/Works/EVCS/CEREMA-Mini/result/experiments/02-06-new-scenario/trips/trips_19.xml\n",
      "Success.time 75599.64 74728.36\n",
      "Generated /home/hoai-linh.dao/Works/EVCS/CEREMA-Mini/result/experiments/02-06-new-scenario/trips/trips_20.xml\n",
      "Success.time 79199.61\n",
      "Generated /home/hoai-linh.dao/Works/EVCS/CEREMA-Mini/result/experiments/02-06-new-scenario/trips/trips_21.xml\n",
      "Success.time 82799.64\n",
      "Generated /home/hoai-linh.dao/Works/EVCS/CEREMA-Mini/result/experiments/02-06-new-scenario/trips/trips_22.xml\n",
      "Success.time 86399.50\n",
      "Generated /home/hoai-linh.dao/Works/EVCS/CEREMA-Mini/result/experiments/02-06-new-scenario/trips/trips_23.xml\n",
      "\n",
      "[DONE] Finished 24 Trips based on hours.\n",
      "[DONE] Merged 24 trip files to /home/hoai-linh.dao/Works/EVCS/CEREMA-Mini/result/experiments/02-06-new-scenario/trips.xml\n"
     ]
    }
   ],
   "source": [
    "print(\"Call od2trips for all ...\")\n",
    "trips_files = od2tripsForAll(TAZ_XML, TRIPS_DIR, ODS_DIR, \"car_eidm\")\n",
    "print()\n",
    "print(\"[DONE] Finished 24 Trips based on hours.\")\n",
    "\n",
    "mergeTrips(TRIPS_DIR, ALL_TRIPS_XML)\n"
   ]
  },
  {
   "cell_type": "markdown",
   "metadata": {},
   "source": [
    "## Creating Route"
   ]
  },
  {
   "cell_type": "code",
   "execution_count": 1,
   "metadata": {},
   "outputs": [
    {
     "ename": "NameError",
     "evalue": "name 'NET_XML' is not defined",
     "output_type": "error",
     "traceback": [
      "\u001b[0;31m---------------------------------------------------------------------------\u001b[0m",
      "\u001b[0;31mNameError\u001b[0m                                 Traceback (most recent call last)",
      "Cell \u001b[0;32mIn[1], line 3\u001b[0m\n\u001b[1;32m      1\u001b[0m DUAROUTER_CMD \u001b[38;5;241m=\u001b[39m [\n\u001b[1;32m      2\u001b[0m     \u001b[38;5;124m\"\u001b[39m\u001b[38;5;124mduarouter\u001b[39m\u001b[38;5;124m\"\u001b[39m,\n\u001b[0;32m----> 3\u001b[0m     \u001b[38;5;124m\"\u001b[39m\u001b[38;5;124m-n\u001b[39m\u001b[38;5;124m\"\u001b[39m, \u001b[43mNET_XML\u001b[49m,            \n\u001b[1;32m      4\u001b[0m     \u001b[38;5;124m\"\u001b[39m\u001b[38;5;124m-r\u001b[39m\u001b[38;5;124m\"\u001b[39m, ALL_TRIPS_XML,            \n\u001b[1;32m      5\u001b[0m     \u001b[38;5;124m\"\u001b[39m\u001b[38;5;124m-a\u001b[39m\u001b[38;5;124m\"\u001b[39m, VTYPES_XML,\n\u001b[1;32m      6\u001b[0m     \u001b[38;5;66;03m# \"--randomize-flows\",         \u001b[39;00m\n\u001b[1;32m      7\u001b[0m     \u001b[38;5;124m\"\u001b[39m\u001b[38;5;124m-o\u001b[39m\u001b[38;5;124m\"\u001b[39m, ROUTE_XML,    \n\u001b[1;32m      8\u001b[0m     \u001b[38;5;124m\"\u001b[39m\u001b[38;5;124m--log\u001b[39m\u001b[38;5;124m\"\u001b[39m, DUAROUTER_LOG,\n\u001b[1;32m      9\u001b[0m     \u001b[38;5;124m\"\u001b[39m\u001b[38;5;124m--exit-times\u001b[39m\u001b[38;5;124m\"\u001b[39m,\n\u001b[1;32m     10\u001b[0m     \u001b[38;5;124m\"\u001b[39m\u001b[38;5;124m--named-routes\u001b[39m\u001b[38;5;124m\"\u001b[39m,\n\u001b[1;32m     11\u001b[0m     \u001b[38;5;124m\"\u001b[39m\u001b[38;5;124m--route-length\u001b[39m\u001b[38;5;124m\"\u001b[39m,\n\u001b[1;32m     12\u001b[0m     \u001b[38;5;124m\"\u001b[39m\u001b[38;5;124m--write-costs\u001b[39m\u001b[38;5;124m\"\u001b[39m,\n\u001b[1;32m     13\u001b[0m     \u001b[38;5;124m\"\u001b[39m\u001b[38;5;124m--ignore-errors\u001b[39m\u001b[38;5;124m\"\u001b[39m,\n\u001b[1;32m     14\u001b[0m     \u001b[38;5;124m\"\u001b[39m\u001b[38;5;124m--seed\u001b[39m\u001b[38;5;124m\"\u001b[39m, \u001b[38;5;124m\"\u001b[39m\u001b[38;5;124m2005\u001b[39m\u001b[38;5;124m\"\u001b[39m\n\u001b[1;32m     15\u001b[0m ]\n\u001b[1;32m     17\u001b[0m \u001b[38;5;28mprint\u001b[39m(\u001b[38;5;124m\"\u001b[39m\u001b[38;5;124mRunning DUAROUTER Step ...\u001b[39m\u001b[38;5;124m\"\u001b[39m)\n\u001b[1;32m     18\u001b[0m subprocess\u001b[38;5;241m.\u001b[39mrun(DUAROUTER_CMD, check\u001b[38;5;241m=\u001b[39m\u001b[38;5;28;01mTrue\u001b[39;00m)\n",
      "\u001b[0;31mNameError\u001b[0m: name 'NET_XML' is not defined"
     ]
    }
   ],
   "source": [
    "DUAROUTER_CMD = [\n",
    "    \"duarouter\",\n",
    "    \"-n\", NET_XML,            \n",
    "    \"-r\", ALL_TRIPS_XML,            \n",
    "    \"-a\", VTYPES_XML,\n",
    "    # \"--randomize-flows\",         \n",
    "    \"-o\", ROUTE_XML,    \n",
    "    \"--log\", DUAROUTER_LOG,\n",
    "    \"--exit-times\",\n",
    "    \"--named-routes\",\n",
    "    \"--route-length\",\n",
    "    \"--write-costs\",\n",
    "    \"--ignore-errors\",\n",
    "    \"--seed\", \"2005\"\n",
    "]\n",
    "\n",
    "print(\"Running DUAROUTER Step ...\")\n",
    "subprocess.run(DUAROUTER_CMD, check=True)\n",
    "print(f\"[DONE] Routes written in {ROUTE_XML}\\n[LOG] Output logged in {DUAROUTER_LOG}\")\n"
   ]
  },
  {
   "cell_type": "markdown",
   "metadata": {},
   "source": [
    "## Updating Sumo-Config"
   ]
  },
  {
   "cell_type": "code",
   "execution_count": null,
   "metadata": {},
   "outputs": [
    {
     "name": "stdout",
     "output_type": "stream",
     "text": [
      "Updating net-file: /home/hoai-linh.dao/Works/EVCS/CEREMA-Mini/result/net-repairment/cleaned_p2_2_newtest-osm.net.xml -> /home/hoai-linh.dao/Works/EVCS/CEREMA-Mini/result/net-repairment/cleaned_p2_2_newtest-osm.net.xml\n",
      "Updating route-files: /home/hoai-linh.dao/Works/EVCS/CEREMA-Mini/result/experiments/19-05-25-debugging/route.xml -> /home/hoai-linh.dao/Works/EVCS/CEREMA-Mini/result/experiments/19-05-25-debugging/route.xml\n",
      "Updating statistic-output: /home/hoai-linh.dao/Works/EVCS/CEREMA-Mini/result/experiments/19-05-25-debugging/outputs/statistics.xml -> /home/hoai-linh.dao/Works/EVCS/CEREMA-Mini/result/experiments/19-05-25-debugging/outputs/statistics.xml\n",
      "Updating log: /home/hoai-linh.dao/Works/EVCS/CEREMA-Mini/result/experiments/19-05-25-debugging/outputs/log.txt -> /home/hoai-linh.dao/Works/EVCS/CEREMA-Mini/result/experiments/19-05-25-debugging/outputs/log.txt\n",
      "Updating summary-output: /home/hoai-linh.dao/Works/EVCS/CEREMA-Mini/result/experiments/19-05-25-debugging/outputs/summary.xml -> /home/hoai-linh.dao/Works/EVCS/CEREMA-Mini/result/experiments/19-05-25-debugging/outputs/summary.xml\n",
      "Updating tripinfo-output: /home/hoai-linh.dao/Works/EVCS/CEREMA-Mini/result/experiments/19-05-25-debugging/outputs/tripinfo.xml -> /home/hoai-linh.dao/Works/EVCS/CEREMA-Mini/result/experiments/19-05-25-debugging/outputs/tripinfo.xml\n",
      "Updating vehroute-output: /home/hoai-linh.dao/Works/EVCS/CEREMA-Mini/result/experiments/19-05-25-debugging/outputs/vehRoutes.xml -> /home/hoai-linh.dao/Works/EVCS/CEREMA-Mini/result/experiments/19-05-25-debugging/outputs/vehRoutes.xml\n",
      "Updating lanechange-output: /home/hoai-linh.dao/Works/EVCS/CEREMA-Mini/result/experiments/19-05-25-debugging/outputs/laneChanges.xml -> /home/hoai-linh.dao/Works/EVCS/CEREMA-Mini/result/experiments/19-05-25-debugging/outputs/laneChanges.xml\n",
      "Updating fcd-output: /home/hoai-linh.dao/Works/EVCS/CEREMA-Mini/result/experiments/19-05-25-debugging/outputs/sumoTrace.xml -> /home/hoai-linh.dao/Works/EVCS/CEREMA-Mini/result/experiments/19-05-25-debugging/outputs/sumoTrace.xml\n",
      "Updating battery-output: /home/hoai-linh.dao/Works/EVCS/CEREMA-Mini/result/experiments/19-05-25-debugging/outputs/battery.xml -> /home/hoai-linh.dao/Works/EVCS/CEREMA-Mini/result/experiments/19-05-25-debugging/outputs/battery.xml\n",
      "Updating collision-output: /home/hoai-linh.dao/Works/EVCS/CEREMA-Mini/result/experiments/19-05-25-debugging/outputs/collisions.xml -> /home/hoai-linh.dao/Works/EVCS/CEREMA-Mini/result/experiments/19-05-25-debugging/outputs/collisions.xml\n",
      "Updating edgedata-output: /home/hoai-linh.dao/Works/EVCS/CEREMA-Mini/result/experiments/19-05-25-debugging/outputs/edgeData-60s.xml -> /home/hoai-linh.dao/Works/EVCS/CEREMA-Mini/result/experiments/19-05-25-debugging/outputs/edgeData-60s.xml\n",
      "Updating lanedata-output: /home/hoai-linh.dao/Works/EVCS/CEREMA-Mini/result/experiments/19-05-25-debugging/outputs/laneData-60s.xml -> /home/hoai-linh.dao/Works/EVCS/CEREMA-Mini/result/experiments/19-05-25-debugging/outputs/laneData-60s.xml\n",
      "Updating queue-output: /home/hoai-linh.dao/Works/EVCS/CEREMA-Mini/result/experiments/19-05-25-debugging/outputs/queue.xml -> /home/hoai-linh.dao/Works/EVCS/CEREMA-Mini/result/experiments/19-05-25-debugging/outputs/queue.xml\n",
      "[DONE] New Sumo-Configuration in /home/hoai-linh.dao/Works/EVCS/CEREMA-Mini/result/experiments/19-05-25-debugging/run.sumocfg with all right paths.\n"
     ]
    }
   ],
   "source": [
    "updateSumoCfg(\n",
    "    cfg_path=SUMOCFG_XML,\n",
    "    output_path=SUMOCFG_XML,\n",
    "    replacements=PATH_REPLACEMENTS\n",
    ")\n",
    "print(f\"[DONE] New Sumo-Configuration in {SUMOCFG_XML} with all right paths.\")\n"
   ]
  },
  {
   "cell_type": "markdown",
   "metadata": {},
   "source": [
    "## Running"
   ]
  },
  {
   "cell_type": "code",
   "execution_count": null,
   "metadata": {},
   "outputs": [
    {
     "name": "stdout",
     "output_type": "stream",
     "text": [
      "Running SUMO simulation ...\n"
     ]
    }
   ],
   "source": [
    "SIMULATION_CMD = [\n",
    "    \"sumo\",             \n",
    "    \"-c\", SUMOCFG_XML,\n",
    "    \"--no-step-log\",      \n",
    "    \"--duration-log.statistics\",\n",
    "    \"--xml-validation\", \"never\"  \n",
    "]\n",
    "\n",
    "with open(SIMULATION_LOG, \"w\") as f:\n",
    "    print(\"Running SUMO simulation ...\")\n",
    "    subprocess.run(SIMULATION_CMD, stdout=f, stderr=subprocess.STDOUT, check=True)\n",
    "    print(f\"[DONE] Simulation outputs are created in {SIMULATION_DIR}\\n[LOG] Output logged in {SIMULATION_LOG}\")\n"
   ]
  },
  {
   "cell_type": "markdown",
   "metadata": {},
   "source": [
    "# **VISUALIZATIONS**"
   ]
  },
  {
   "cell_type": "code",
   "execution_count": null,
   "metadata": {},
   "outputs": [],
   "source": [
    "# Departure times versus arrival times\n",
    "PLOT_CMD_1 = [\n",
    "    \"python\", PLOTXMLATTRIBUTES_PY,\n",
    "    VEHROUTES_XML,                 \n",
    "    \"-x\", \"depart\",      \n",
    "    \"-y\", \"arrival\",             \n",
    "    \"-o\", PLOT_1_PNG,\n",
    "    \"--scatterplot\"\n",
    "]\n",
    "\n",
    "subprocess.run(PLOT_CMD_1, check=True)\n"
   ]
  },
  {
   "cell_type": "code",
   "execution_count": null,
   "metadata": {},
   "outputs": [],
   "source": [
    "# All trajectories over time 1\n",
    "PLOT_CMD_2 = [\n",
    "    \"python\", PLOTXMLATTRIBUTES_PY,\n",
    "    TRACE_XML,                 \n",
    "    \"-x\", \"x\",     \n",
    "    \"-y\", \"y\",             \n",
    "    \"-o\", PLOT_2_PNG,\n",
    "    \"--scatterplot\"\n",
    "]\n",
    "\n",
    "subprocess.run(PLOT_CMD_2, check=True)\n"
   ]
  },
  {
   "cell_type": "code",
   "execution_count": null,
   "metadata": {},
   "outputs": [],
   "source": [
    "# Multiple timelines from summary-output\n",
    "PLOT_CMD_3 = [\n",
    "    \"python\", PLOTXMLATTRIBUTES_PY,\n",
    "    SUMMARY_XML,\n",
    "    \"-x\", \"time\",\n",
    "    \"-y\", \"running,halting\",\n",
    "    \"-o\", PLOT_3_PNG,\n",
    "    \"--legend\"\n",
    "]\n",
    "subprocess.run(PLOT_CMD_3, check=True)\n"
   ]
  },
  {
   "cell_type": "code",
   "execution_count": null,
   "metadata": {},
   "outputs": [],
   "source": [
    "# Depart delay over time from TripInfo data\n",
    "PLOT_CMD_4 = [\n",
    "    \"python\", PLOTXMLATTRIBUTES_PY,\n",
    "    TRIPINFO_XML,\n",
    "    \"-x\", \"depart\",\n",
    "    \"-y\", \"departDelay\",\n",
    "    \"--xlabel\", \"depart time [s]\",\n",
    "    \"--ylabel\", \"depart delay [s]\",\n",
    "    \"--ylim\", \"0,40\",\n",
    "    \"--xticks\", \"0,1200,200,10\",\n",
    "    \"--yticks\", \"0,40,5,10\",\n",
    "    \"--xgrid\", \"--ygrid\",\n",
    "    \"--title\", \"depart delay over depart time\",\n",
    "    \"--titlesize\", \"16\",\n",
    "    \"-o\", PLOT_4_PNG\n",
    "]\n",
    "subprocess.run(PLOT_CMD_4, check=True)\n"
   ]
  },
  {
   "cell_type": "code",
   "execution_count": null,
   "metadata": {},
   "outputs": [],
   "source": [
    "QUERIED_VEH_ID = \"carDist1\"\n",
    "# Selected trajectories over time\n",
    "PLOT_CMD_5 = [\n",
    "    \"python\", PLOTXMLATTRIBUTES_PY,\n",
    "    TRACE_XML,\n",
    "    \"-x\", \"x\",\n",
    "    \"-y\", \"y\",\n",
    "    \"-i\", \"id\",\n",
    "    \"--filter-ids\", QUERIED_VEH_ID\n",
    "    \"--scatterplot\",\n",
    "    \"--legend\",\n",
    "    \"-o\", PLOT_5_PNG\n",
    "]\n",
    "subprocess.run(PLOT_CMD_4, check=True)"
   ]
  }
 ],
 "metadata": {
  "kernelspec": {
   "display_name": "Python 3",
   "language": "python",
   "name": "python3"
  },
  "language_info": {
   "codemirror_mode": {
    "name": "ipython",
    "version": 3
   },
   "file_extension": ".py",
   "mimetype": "text/x-python",
   "name": "python",
   "nbconvert_exporter": "python",
   "pygments_lexer": "ipython3",
   "version": "3.10.16"
  }
 },
 "nbformat": 4,
 "nbformat_minor": 2
}
