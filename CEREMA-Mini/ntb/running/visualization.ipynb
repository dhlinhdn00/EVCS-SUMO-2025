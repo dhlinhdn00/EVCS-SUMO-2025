{
 "cells": [
  {
   "cell_type": "markdown",
   "metadata": {},
   "source": [
    "# **SETUP**"
   ]
  },
  {
   "cell_type": "code",
   "execution_count": 4,
   "metadata": {},
   "outputs": [],
   "source": [
    "import sys\n",
    "from pathlib import Path\n",
    "sys.path.append('/home/hoai-linh.dao/Works/EVCS/CEREMA-Mini/src') \n",
    "from config import *\n",
    "\n",
    "# Fixed PATHs\n",
    "# NET_XML = Path(\"/home/hoai-linh.dao/Works/EVCS/CEREMA-Mini/data/newtest-osm.net.xml\")\n",
    "NET_XML = \"/home/hoai-linh.dao/Works/EVCS/CEREMA-Mini/result/net-repairment/cleaned_p2_2_newtest-osm.net.xml\"\n",
    "VTYPES_DIST_XML = \"/home/hoai-linh.dao/Works/EVCS/CEREMA-Mini/data/additional-files/vtypes-dist.add.xml\"\n",
    "MAIN_FLOW_CSV = \"/home/hoai-linh.dao/Works/EVCS/CEREMA-Mini/data/processed-data/main-flow.csv\"\n",
    "TAZ_XML = \"/home/hoai-linh.dao/Works/EVCS/CEREMA-Mini/data/additional-files/taz/taz-spatial-no-border-ratio.xml\"\n",
    "\n",
    "# Dynamic DIRs\n",
    "SIMULATION_DIR = Path(\"/home/hoai-linh.dao/Works/EVCS/CEREMA-Mini/result/experiments/19-05-25-debugging\") # MOST IMPORTANT\n",
    "\n",
    "ODS_DIR = SIMULATION_DIR / \"ods\"\n",
    "TRIPS_DIR = SIMULATION_DIR / \"trips\"\n",
    "OUTPUTS_DIR = SIMULATION_DIR / \"outputs\"\n",
    "LOGS_DIR = SIMULATION_DIR / \"logs\"\n",
    "VISUALIZATIONS_DIR = SIMULATION_DIR / \"visualizations\"\n",
    "\n",
    "SIMULATION_DIR.mkdir(parents=True, exist_ok=True)\n",
    "for path in [ODS_DIR, TRIPS_DIR, OUTPUTS_DIR, LOGS_DIR, VISUALIZATIONS_DIR]:\n",
    "    path.mkdir(parents=True, exist_ok=True)\n",
    "\n",
    "# Dynamic PATHs\n",
    "ALL_TRIPS_XML = SIMULATION_DIR / \"trips.xml\"\n",
    "ROUTE_XML = SIMULATION_DIR / \"route.xml\"\n",
    "ROUTE_ALT_XML = SIMULATION_DIR / \"route.alt.xml\"\n",
    "SUMOCFG_XML = SIMULATION_DIR / \"run.sumocfg\"\n",
    "\n",
    "DUAROUTER_LOG = LOGS_DIR / \"duarouter.log\"\n",
    "SIMULATION_LOG = LOGS_DIR / \"sumo_run.log\"\n",
    "\n",
    "# Outputs Paths\n",
    "COLLISIONS_XML = OUTPUTS_DIR / \"collisions.xml\"\n",
    "BATTERY_XML = OUTPUTS_DIR / \"battery.xml\"\n",
    "LANECHANGES_XML = OUTPUTS_DIR / \"laneChanges.xml\"\n",
    "STATISTICS_XML = OUTPUTS_DIR / \"statistics.xml\"\n",
    "TRACE_XML = OUTPUTS_DIR / \"sumoTrace.xml\"\n",
    "SUMMARY_XML = OUTPUTS_DIR / \"summary.xml\"\n",
    "TRIPINFO_XML = OUTPUTS_DIR / \"tripinfo.xml\"\n",
    "VEHROUTES_XML = OUTPUTS_DIR / \"vehRoutes.xml\"\n",
    "NETSTATE_XML = OUTPUTS_DIR / \"netstate.xml\"\n",
    "LOG_TXT = OUTPUTS_DIR / \"log.txt\"\n",
    "EDGEDATA_XML = OUTPUTS_DIR / \"edgeData-60s.xml\"\n",
    "LANEDATA_XML = OUTPUTS_DIR / \"laneData-60s.xml\"\n",
    "QUEUE_XML = OUTPUTS_DIR / \"queue.xml\"\n",
    "EMISSION_XML = OUTPUTS_DIR / \"emission.xml\"\n",
    "SMS_XML = OUTPUTS_DIR / \"sms.xml\"\n",
    "\n",
    "# Visualization Paths\n",
    "PLOT_1_PNG = VISUALIZATIONS_DIR / \"plot_1.png\"\n",
    "PLOT_2_PNG = VISUALIZATIONS_DIR / \"plot_2.png\"\n",
    "PLOT_3_PNG = VISUALIZATIONS_DIR / \"plot_3.png\"\n",
    "PLOT_4_PNG = VISUALIZATIONS_DIR / \"plot_4.png\"\n",
    "PLOT_5_PNG = VISUALIZATIONS_DIR / \"plot_5.png\"\n",
    "PLOT_6_PNG = VISUALIZATIONS_DIR / \"plot_6.png\"\n",
    "PLOT_7_PNG = VISUALIZATIONS_DIR / \"plot_7.png\"\n",
    "PLOT_8_PNG = VISUALIZATIONS_DIR / \"plot_8.png\"\n",
    "\n",
    "PATH_REPLACEMENTS = {\n",
    "    'net-file': NET_XML,\n",
    "    'route-files': ROUTE_XML,\n",
    "    'summary-output': SUMMARY_XML,\n",
    "    'tripinfo-output': TRIPINFO_XML,\n",
    "    'fcd-output': TRACE_XML,\n",
    "    'lanechange-output': LANECHANGES_XML,\n",
    "    'battery-output': BATTERY_XML,\n",
    "    'vehroute-output': VEHROUTES_XML,\n",
    "    'collision-output': COLLISIONS_XML,\n",
    "    'netstate-dump': NETSTATE_XML,\n",
    "    'statistic-output': STATISTICS_XML,\n",
    "    'log': LOG_TXT,\n",
    "    'lanedata-output': LANEDATA_XML,\n",
    "    'edgedata-output': EDGEDATA_XML,\n",
    "    'device.ssm.file': SMS_XML,\n",
    "    'emission-output': EMISSION_XML,\n",
    "    'queue-output': QUEUE_XML\n",
    "}"
   ]
  },
  {
   "cell_type": "markdown",
   "metadata": {},
   "source": [
    "# **VISUALIZATIONS**"
   ]
  },
  {
   "cell_type": "code",
   "execution_count": 5,
   "metadata": {},
   "outputs": [
    {
     "name": "stderr",
     "output_type": "stream",
     "text": [
      "Warning: Skipped 20703 lines because of missing attributes 'arrival'.\n"
     ]
    },
    {
     "name": "stdout",
     "output_type": "stream",
     "text": [
      "Figure(1400x900)\n"
     ]
    },
    {
     "data": {
      "text/plain": [
       "CompletedProcess(args=['python', PosixPath('/home/hoai-linh.dao/Envs/sumo-env/lib/python3.10/site-packages/sumo/tools/visualization/plotXMLAttributes.py'), PosixPath('/home/hoai-linh.dao/Works/EVCS/CEREMA-Mini/result/experiments/19-05-25-debugging/outputs/vehRoutes.xml'), '-x', 'depart', '-y', 'arrival', '-o', PosixPath('/home/hoai-linh.dao/Works/EVCS/CEREMA-Mini/result/experiments/19-05-25-debugging/visualizations/plot_1.png'), '--scatterplot'], returncode=0)"
      ]
     },
     "execution_count": 5,
     "metadata": {},
     "output_type": "execute_result"
    }
   ],
   "source": [
    "# Departure times versus arrival times\n",
    "PLOT_CMD_1 = [\n",
    "    \"python\", PLOTXMLATTRIBUTES_PY,\n",
    "    VEHROUTES_XML,                 \n",
    "    \"-x\", \"depart\",      \n",
    "    \"-y\", \"arrival\",             \n",
    "    \"-o\", PLOT_1_PNG,\n",
    "    \"--scatterplot\"\n",
    "]\n",
    "\n",
    "subprocess.run(PLOT_CMD_1, check=True)\n"
   ]
  },
  {
   "cell_type": "code",
   "execution_count": null,
   "metadata": {},
   "outputs": [],
   "source": [
    "# All trajectories over time 1\n",
    "PLOT_CMD_2 = [\n",
    "    \"python\", PLOTXMLATTRIBUTES_PY,\n",
    "    TRACE_XML,                 \n",
    "    \"-x\", \"x\",     \n",
    "    \"-y\", \"y\",             \n",
    "    \"-o\", PLOT_2_PNG,\n",
    "    \"--scatterplot\"\n",
    "]\n",
    "\n",
    "subprocess.run(PLOT_CMD_2, check=True)\n"
   ]
  },
  {
   "cell_type": "code",
   "execution_count": 6,
   "metadata": {},
   "outputs": [
    {
     "name": "stderr",
     "output_type": "stream",
     "text": [
      "idattr 'id' not found in /home/hoai-linh.dao/Works/EVCS/CEREMA-Mini/result/experiments/19-05-25-debugging/outputs/summary.xml\n"
     ]
    },
    {
     "name": "stdout",
     "output_type": "stream",
     "text": [
      "Figure(1400x900)\n"
     ]
    },
    {
     "data": {
      "text/plain": [
       "CompletedProcess(args=['python', PosixPath('/home/hoai-linh.dao/Envs/sumo-env/lib/python3.10/site-packages/sumo/tools/visualization/plotXMLAttributes.py'), PosixPath('/home/hoai-linh.dao/Works/EVCS/CEREMA-Mini/result/experiments/19-05-25-debugging/outputs/summary.xml'), '-x', 'time', '-y', 'running,halting', '-o', PosixPath('/home/hoai-linh.dao/Works/EVCS/CEREMA-Mini/result/experiments/19-05-25-debugging/visualizations/plot_3.png'), '--legend'], returncode=0)"
      ]
     },
     "execution_count": 6,
     "metadata": {},
     "output_type": "execute_result"
    }
   ],
   "source": [
    "# Multiple timelines from summary-output\n",
    "PLOT_CMD_3 = [\n",
    "    \"python\", PLOTXMLATTRIBUTES_PY,\n",
    "    SUMMARY_XML,\n",
    "    \"-x\", \"time\",\n",
    "    \"-y\", \"running,halting\",\n",
    "    \"-o\", PLOT_3_PNG,\n",
    "    \"--legend\"\n",
    "]\n",
    "subprocess.run(PLOT_CMD_3, check=True)\n"
   ]
  },
  {
   "cell_type": "code",
   "execution_count": 7,
   "metadata": {},
   "outputs": [
    {
     "name": "stdout",
     "output_type": "stream",
     "text": [
      "Figure(1400x900)\n"
     ]
    },
    {
     "data": {
      "text/plain": [
       "CompletedProcess(args=['python', PosixPath('/home/hoai-linh.dao/Envs/sumo-env/lib/python3.10/site-packages/sumo/tools/visualization/plotXMLAttributes.py'), PosixPath('/home/hoai-linh.dao/Works/EVCS/CEREMA-Mini/result/experiments/19-05-25-debugging/outputs/tripinfo.xml'), '-x', 'depart', '-y', 'departDelay', '--xlabel', 'depart time [s]', '--ylabel', 'depart delay [s]', '--ylim', '0,40', '--xticks', '0,1200,200,10', '--yticks', '0,40,5,10', '--xgrid', '--ygrid', '--title', 'depart delay over depart time', '--titlesize', '16', '-o', PosixPath('/home/hoai-linh.dao/Works/EVCS/CEREMA-Mini/result/experiments/19-05-25-debugging/visualizations/plot_4.png')], returncode=0)"
      ]
     },
     "execution_count": 7,
     "metadata": {},
     "output_type": "execute_result"
    }
   ],
   "source": [
    "# Depart delay over time from TripInfo data\n",
    "PLOT_CMD_4 = [\n",
    "    \"python\", PLOTXMLATTRIBUTES_PY,\n",
    "    TRIPINFO_XML,\n",
    "    \"-x\", \"depart\",\n",
    "    \"-y\", \"departDelay\",\n",
    "    \"--xlabel\", \"depart time [s]\",\n",
    "    \"--ylabel\", \"depart delay [s]\",\n",
    "    \"--ylim\", \"0,40\",\n",
    "    \"--xticks\", \"0,1200,200,10\",\n",
    "    \"--yticks\", \"0,40,5,10\",\n",
    "    \"--xgrid\", \"--ygrid\",\n",
    "    \"--title\", \"depart delay over depart time\",\n",
    "    \"--titlesize\", \"16\",\n",
    "    \"-o\", PLOT_4_PNG\n",
    "]\n",
    "subprocess.run(PLOT_CMD_4, check=True)\n"
   ]
  },
  {
   "cell_type": "code",
   "execution_count": null,
   "metadata": {},
   "outputs": [],
   "source": [
    "QUERIED_VEH_ID = \"carDist1\"\n",
    "# Selected trajectories over time\n",
    "PLOT_CMD_5 = [\n",
    "    \"python\", PLOTXMLATTRIBUTES_PY,\n",
    "    TRACE_XML,\n",
    "    \"-x\", \"x\",\n",
    "    \"-y\", \"y\",\n",
    "    \"-i\", \"id\",\n",
    "    \"--filter-ids\", QUERIED_VEH_ID\n",
    "    \"--scatterplot\",\n",
    "    \"--legend\",\n",
    "    \"-o\", PLOT_5_PNG\n",
    "]\n",
    "subprocess.run(PLOT_CMD_5, check=True)"
   ]
  },
  {
   "cell_type": "code",
   "execution_count": null,
   "metadata": {},
   "outputs": [],
   "source": [
    "PLOT_CMD_6 = [\n",
    "    \"python\", PLOTNETDUMP_PY,\n",
    "    \"-n\", NET_XML,\n",
    "    \"--internal\",\n",
    "    \"--measure\", \"density\",\n",
    "    \"-i\", EDGEDATA_XML,\n",
    "    \"-w\", \"2\",  \n",
    "    \"--default-color\", \"grey\",\n",
    "    \"--size\", \"15.0,15.0\",\n",
    "    \"--colormap\", \"hot\",\n",
    "    \"--blind\",\n",
    "    \"--title\", \"Density (veh/m)\",\n",
    "    \"-o\", PLOT_6_PNG  \n",
    "]\n",
    "\n",
    "subprocess.run(PLOT_CMD_6, check=True)"
   ]
  },
  {
   "cell_type": "code",
   "execution_count": null,
   "metadata": {},
   "outputs": [],
   "source": [
    "PLOT_CMD_7 = [\n",
    "    \"python\", PLOTNETDUMP_PY,\n",
    "    \"-n\", NET_XML,\n",
    "    \"--internal\",\n",
    "    \"--measure\", \"density\",\n",
    "    \"-i\", EDGEDATA_XML,\n",
    "    \"-w\", \"2\",  \n",
    "    \"--default-color\", \"grey\",\n",
    "    \"--size\", \"15.0,15.0\",\n",
    "    \"--colormap\", \"viridis\",\n",
    "    \"--blind\",\n",
    "    \"--title\", \"Edge Speed (m/s)\",\n",
    "    \"-o\", PLOT_6_PNG  \n",
    "]\n",
    "\n",
    "subprocess.run(PLOT_CMD_6, check=True)"
   ]
  },
  {
   "cell_type": "code",
   "execution_count": null,
   "metadata": {},
   "outputs": [],
   "source": []
  }
 ],
 "metadata": {
  "kernelspec": {
   "display_name": "Python 3",
   "language": "python",
   "name": "python3"
  },
  "language_info": {
   "codemirror_mode": {
    "name": "ipython",
    "version": 3
   },
   "file_extension": ".py",
   "mimetype": "text/x-python",
   "name": "python",
   "nbconvert_exporter": "python",
   "pygments_lexer": "ipython3",
   "version": "3.10.16"
  }
 },
 "nbformat": 4,
 "nbformat_minor": 2
}
