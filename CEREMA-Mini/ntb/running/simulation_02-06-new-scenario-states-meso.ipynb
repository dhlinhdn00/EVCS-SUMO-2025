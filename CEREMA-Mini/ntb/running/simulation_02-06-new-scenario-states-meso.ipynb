{
 "cells": [
  {
   "cell_type": "code",
   "execution_count": null,
   "metadata": {},
   "outputs": [
    {
     "name": "stdout",
     "output_type": "stream",
     "text": [
      "Resume from hour 18 (prev_state=/home/hoai-linh.dao/Works/EVCS/CEREMA-Mini/result/experiments/03-06-hourly-scenario-meso/states/state_00064800.xml.gz)\n",
      "[H18] route ready – skip duarouter\n",
      "[H18] tls_cycle ready – skip adaptation\n",
      "[H18] tls_coord ready – skip coordination\n",
      "[H18] SUMO 64800→68400 …\n",
      "[H18] finished (state saved → /home/hoai-linh.dao/Works/EVCS/CEREMA-Mini/result/experiments/03-06-hourly-scenario-meso/states/state_00068400.xml.gz)\n",
      "\n",
      "[H19] duarouter …\n"
     ]
    },
    {
     "name": "stderr",
     "output_type": "stream",
     "text": [
      "Warning: No connection between edge '392225275' and edge '442455336#1' found.\n",
      "Warning: Mandatory edge '442455336#1' not reachable by vehicle 'h19_106058'.\n",
      "Warning: The vehicle 'h19_106058' has no valid route.\n"
     ]
    },
    {
     "name": "stdout",
     "output_type": "stream",
     "text": [
      "Reading up to time step: 68600.04\r"
     ]
    },
    {
     "name": "stderr",
     "output_type": "stream",
     "text": [
      "Warning: No connection between edge '688357782#0' and edge '443605743#2' found.\n",
      "Warning: Mandatory edge '443605743#2' not reachable by vehicle 'h19_823'.\n",
      "Warning: The vehicle 'h19_823' has no valid route.\n",
      "Warning: No connection between edge '436215841' and edge '223383330' found.\n",
      "Warning: Mandatory edge '223383330' not reachable by vehicle 'h19_119467'.\n",
      "Warning: The vehicle 'h19_119467' has no valid route.\n",
      "Warning: No connection between edge '688357782#1' and edge '229063632' found.\n",
      "Warning: Mandatory edge '229063632' not reachable by vehicle 'h19_938'.\n",
      "Warning: The vehicle 'h19_938' has no valid route.\n",
      "Warning: No connection between edge '105258144#1' and edge '210418240' found.\n",
      "Warning: Mandatory edge '210418240' not reachable by vehicle 'h19_106294'.\n",
      "Warning: The vehicle 'h19_106294' has no valid route.\n",
      "Warning: No connection between edge '436233257#1' and edge '158282502#1' found.\n",
      "Warning: Mandatory edge '158282502#1' not reachable by vehicle 'h19_120453'.\n",
      "Warning: The vehicle 'h19_120453' has no valid route.\n",
      "Warning: No connection between edge '24255366#0' and edge '143962123#0' found.\n",
      "Warning: Mandatory edge '143962123#0' not reachable by vehicle 'h19_1742'.\n",
      "Warning: The vehicle 'h19_1742' has no valid route.\n",
      "Warning: No connection between edge '25334583#0' and edge '378355994#1' found.\n",
      "Warning: Mandatory edge '378355994#1' not reachable by vehicle 'h19_81113'.\n",
      "Warning: The vehicle 'h19_81113' has no valid route.\n",
      "Warning: No connection between edge '436233257#0' and edge '33455710#1' found.\n",
      "Warning: Mandatory edge '33455710#1' not reachable by vehicle 'h19_120491'.\n",
      "Warning: The vehicle 'h19_120491' has no valid route.\n",
      "Warning: No connection between edge '361877316' and edge '56753419' found.\n",
      "Warning: Mandatory edge '56753419' not reachable by vehicle 'h19_106479'.\n",
      "Warning: The vehicle 'h19_106479' has no valid route.\n",
      "Warning: No connection between edge '397805346#29' and edge '144160557#2' found.\n",
      "Warning: Mandatory edge '144160557#2' not reachable by vehicle 'h19_2075'.\n",
      "Warning: The vehicle 'h19_2075' has no valid route.\n",
      "Warning: No connection between edge '428493592#1' and edge '62023728#1' found.\n",
      "Warning: Mandatory edge '62023728#1' not reachable by vehicle 'h19_2104'.\n",
      "Warning: The vehicle 'h19_2104' has no valid route.\n",
      "Warning: No connection between edge '700660059#1' and edge '281308645' found.\n",
      "Warning: Mandatory edge '281308645' not reachable by vehicle 'h19_2252'.\n",
      "Warning: The vehicle 'h19_2252' has no valid route.\n",
      "Warning: No connection between edge '150925676' and edge '973926612' found.\n",
      "Warning: Mandatory edge '973926612' not reachable by vehicle 'h19_2379'.\n",
      "Warning: The vehicle 'h19_2379' has no valid route.\n",
      "Warning: No connection between edge '105258166' and edge '209020420#1' found.\n",
      "Warning: Mandatory edge '209020420#1' not reachable by vehicle 'h19_106640'.\n",
      "Warning: The vehicle 'h19_106640' has no valid route.\n",
      "Warning: No connection between edge '96717413' and edge '26557031#1' found.\n",
      "Warning: Mandatory edge '26557031#1' not reachable by vehicle 'h19_79120'.\n",
      "Warning: The vehicle 'h19_79120' has no valid route.\n",
      "Warning: No connection between edge '29177202#6' and edge '510193683' found.\n",
      "Warning: Mandatory edge '510193683' not reachable by vehicle 'h19_118161'.\n",
      "Warning: The vehicle 'h19_118161' has no valid route.\n"
     ]
    },
    {
     "name": "stdout",
     "output_type": "stream",
     "text": [
      "Reading up to time step: 68800.04\r"
     ]
    },
    {
     "name": "stderr",
     "output_type": "stream",
     "text": [
      "Warning: No connection between edge '103268024' and edge '162141953#0' found.\n",
      "Warning: Mandatory edge '162141953#0' not reachable by vehicle 'h19_51943'.\n",
      "Warning: The vehicle 'h19_51943' has no valid route.\n",
      "Warning: No connection between edge '681300479' and edge '188649571' found.\n",
      "Warning: Mandatory edge '188649571' not reachable by vehicle 'h19_3101'.\n",
      "Warning: The vehicle 'h19_3101' has no valid route.\n",
      "Warning: No connection between edge '40636246#5' and edge '899788866' found.\n",
      "Warning: Mandatory edge '899788866' not reachable by vehicle 'h19_84001'.\n",
      "Warning: The vehicle 'h19_84001' has no valid route.\n",
      "Warning: No connection between edge '492590326' and edge '386307421#1' found.\n",
      "Warning: Mandatory edge '386307421#1' not reachable by vehicle 'h19_3260'.\n",
      "Warning: The vehicle 'h19_3260' has no valid route.\n",
      "Warning: No connection between edge '225034763' and edge '112885002#0' found.\n",
      "Warning: Mandatory edge '112885002#0' not reachable by vehicle 'h19_3552'.\n",
      "Warning: The vehicle 'h19_3552' has no valid route.\n",
      "Warning: No connection between edge '115668964#1' and edge '62023741' found.\n",
      "Warning: Mandatory edge '62023741' not reachable by vehicle 'h19_3732'.\n",
      "Warning: The vehicle 'h19_3732' has no valid route.\n",
      "Warning: No connection between edge '1153207720' and edge '899788866' found.\n",
      "Warning: Mandatory edge '899788866' not reachable by vehicle 'h19_84283'.\n",
      "Warning: The vehicle 'h19_84283' has no valid route.\n",
      "Warning: No connection between edge '677420823' and edge '161432888' found.\n",
      "Warning: Mandatory edge '161432888' not reachable by vehicle 'h19_81172'.\n",
      "Warning: The vehicle 'h19_81172' has no valid route.\n",
      "Warning: No connection between edge '170042306' and edge '62023741' found.\n",
      "Warning: Mandatory edge '62023741' not reachable by vehicle 'h19_4406'.\n",
      "Warning: The vehicle 'h19_4406' has no valid route.\n",
      "Warning: No connection between edge '436233257#1' and edge '196654834#2' found.\n",
      "Warning: Mandatory edge '196654834#2' not reachable by vehicle 'h19_121238'.\n",
      "Warning: The vehicle 'h19_121238' has no valid route.\n",
      "Warning: No connection between edge '96717445' and edge '147886263#0' found.\n",
      "Warning: Mandatory edge '147886263#0' not reachable by vehicle 'h19_53104'.\n",
      "Warning: The vehicle 'h19_53104' has no valid route.\n",
      "Warning: No connection between edge '30129956#1' and edge '91431073#2' found.\n",
      "Warning: Mandatory edge '91431073#2' not reachable by vehicle 'h19_121317'.\n",
      "Warning: The vehicle 'h19_121317' has no valid route.\n",
      "Warning: No connection between edge '793930821' and edge '628849626' found.\n",
      "Warning: Mandatory edge '628849626' not reachable by vehicle 'h19_4883'.\n",
      "Warning: The vehicle 'h19_4883' has no valid route.\n",
      "Warning: No connection between edge '378844044' and edge '143962123#0' found.\n",
      "Warning: Mandatory edge '143962123#0' not reachable by vehicle 'h19_5028'.\n",
      "Warning: The vehicle 'h19_5028' has no valid route.\n"
     ]
    },
    {
     "name": "stdout",
     "output_type": "stream",
     "text": [
      "Reading up to time step: 69000.04\r"
     ]
    },
    {
     "name": "stderr",
     "output_type": "stream",
     "text": [
      "Warning: No connection between edge '66364406' and edge '62023728#1' found.\n",
      "Warning: Mandatory edge '62023728#1' not reachable by vehicle 'h19_5154'.\n",
      "Warning: The vehicle 'h19_5154' has no valid route.\n",
      "Warning: No connection between edge '303225593#3' and edge '25474084' found.\n",
      "Warning: Mandatory edge '25474084' not reachable by vehicle 'h19_53454'.\n",
      "Warning: The vehicle 'h19_53454' has no valid route.\n",
      "Warning: No connection between edge '71896678#1' and edge '367820004' found.\n",
      "Warning: Mandatory edge '367820004' not reachable by vehicle 'h19_5729'.\n",
      "Warning: The vehicle 'h19_5729' has no valid route.\n",
      "Warning: No connection between edge '156026392' and edge '1131984096' found.\n",
      "Warning: Mandatory edge '1131984096' not reachable by vehicle 'h19_121616'.\n",
      "Warning: The vehicle 'h19_121616' has no valid route.\n",
      "Warning: No connection between edge '158351074' and edge '144160557#2' found.\n",
      "Warning: Mandatory edge '144160557#2' not reachable by vehicle 'h19_6398'.\n",
      "Warning: The vehicle 'h19_6398' has no valid route.\n",
      "Warning: No connection between edge '159081366' and edge '1060073977' found.\n",
      "Warning: Mandatory edge '1060073977' not reachable by vehicle 'h19_6546'.\n",
      "Warning: The vehicle 'h19_6546' has no valid route.\n",
      "Warning: No connection between edge '1116553451#3' and edge '378355994#2' found.\n",
      "Warning: Mandatory edge '378355994#2' not reachable by vehicle 'h19_6556'.\n",
      "Warning: The vehicle 'h19_6556' has no valid route.\n",
      "Warning: No connection between edge '688357782#1' and edge '326617514#0' found.\n",
      "Warning: Mandatory edge '326617514#0' not reachable by vehicle 'h19_6874'.\n",
      "Warning: The vehicle 'h19_6874' has no valid route.\n",
      "Warning: No connection between edge '303225593#0' and edge '217795677' found.\n",
      "Warning: Mandatory edge '217795677' not reachable by vehicle 'h19_54693'.\n",
      "Warning: The vehicle 'h19_54693' has no valid route.\n"
     ]
    },
    {
     "name": "stdout",
     "output_type": "stream",
     "text": [
      "Reading up to time step: 69200.04\r"
     ]
    },
    {
     "name": "stderr",
     "output_type": "stream",
     "text": [
      "Warning: No connection between edge '66504226#0' and edge '378355994#2' found.\n",
      "Warning: Mandatory edge '378355994#2' not reachable by vehicle 'h19_7630'.\n",
      "Warning: The vehicle 'h19_7630' has no valid route.\n",
      "Warning: No connection between edge '28117465' and edge '62023730' found.\n",
      "Warning: Mandatory edge '62023730' not reachable by vehicle 'h19_8029'.\n",
      "Warning: The vehicle 'h19_8029' has no valid route.\n",
      "Warning: No connection between edge '49040170' and edge '143962123#2' found.\n",
      "Warning: Mandatory edge '143962123#2' not reachable by vehicle 'h19_8043'.\n",
      "Warning: The vehicle 'h19_8043' has no valid route.\n",
      "Warning: No connection between edge '96717445' and edge '687659669#0' found.\n",
      "Warning: Mandatory edge '687659669#0' not reachable by vehicle 'h19_55347'.\n",
      "Warning: The vehicle 'h19_55347' has no valid route.\n",
      "Warning: No connection between edge '1252589163' and edge '619238583#0' found.\n",
      "Warning: Mandatory edge '619238583#0' not reachable by vehicle 'h19_55456'.\n",
      "Warning: The vehicle 'h19_55456' has no valid route.\n",
      "Warning: No connection between edge '1275312294' and edge '281308645' found.\n",
      "Warning: Mandatory edge '281308645' not reachable by vehicle 'h19_8780'.\n",
      "Warning: The vehicle 'h19_8780' has no valid route.\n",
      "Warning: No connection between edge '105258186' and edge '559584419' found.\n",
      "Warning: Mandatory edge '559584419' not reachable by vehicle 'h19_117833'.\n",
      "Warning: The vehicle 'h19_117833' has no valid route.\n",
      "Warning: No connection between edge '199113442#1' and edge '176976552' found.\n",
      "Warning: Mandatory edge '176976552' not reachable by vehicle 'h19_79432'.\n",
      "Warning: The vehicle 'h19_79432' has no valid route.\n",
      "Warning: No connection between edge '436233257#0' and edge '61329090#1' found.\n",
      "Warning: Mandatory edge '61329090#1' not reachable by vehicle 'h19_122679'.\n",
      "Warning: The vehicle 'h19_122679' has no valid route.\n",
      "Warning: No connection between edge '683976845' and edge '23559404' found.\n",
      "Warning: Mandatory edge '23559404' not reachable by vehicle 'h19_79434'.\n",
      "Warning: The vehicle 'h19_79434' has no valid route.\n",
      "Warning: No connection between edge '96717413' and edge '682252988' found.\n",
      "Warning: Mandatory edge '682252988' not reachable by vehicle 'h19_56191'.\n",
      "Warning: The vehicle 'h19_56191' has no valid route.\n",
      "Warning: No connection between edge '30129956#0' and edge '195822444' found.\n",
      "Warning: Mandatory edge '195822444' not reachable by vehicle 'h19_122758'.\n",
      "Warning: The vehicle 'h19_122758' has no valid route.\n",
      "Warning: No connection between edge '113706929' and edge '767313244' found.\n",
      "Warning: Mandatory edge '767313244' not reachable by vehicle 'h19_9967'.\n",
      "Warning: The vehicle 'h19_9967' has no valid route.\n",
      "Warning: No connection between edge '150925676' and edge '734888489#2' found.\n",
      "Warning: Mandatory edge '734888489#2' not reachable by vehicle 'h19_10179'.\n",
      "Warning: The vehicle 'h19_10179' has no valid route.\n"
     ]
    },
    {
     "name": "stdout",
     "output_type": "stream",
     "text": [
      "Reading up to time step: 69400.04\r"
     ]
    },
    {
     "name": "stderr",
     "output_type": "stream",
     "text": [
      "Warning: No connection between edge '105258144#0' and edge '105153464#1' found.\n",
      "Warning: Mandatory edge '105153464#1' not reachable by vehicle 'h19_108788'.\n",
      "Warning: The vehicle 'h19_108788' has no valid route.\n",
      "Warning: No connection between edge '683976845' and edge '47078825' found.\n",
      "Warning: Mandatory edge '47078825' not reachable by vehicle 'h19_56762'.\n",
      "Warning: The vehicle 'h19_56762' has no valid route.\n",
      "Warning: No connection between edge '42413295' and edge '142419277#1' found.\n",
      "Warning: Mandatory edge '142419277#1' not reachable by vehicle 'h19_123033'.\n",
      "Warning: The vehicle 'h19_123033' has no valid route.\n",
      "Warning: No connection between edge '239910746' and edge '139292065' found.\n",
      "Warning: Mandatory edge '139292065' not reachable by vehicle 'h19_108922'.\n",
      "Warning: The vehicle 'h19_108922' has no valid route.\n",
      "Warning: No connection between edge '677786221' and edge '1060026565' found.\n",
      "Warning: Mandatory edge '1060026565' not reachable by vehicle 'h19_86321'.\n",
      "Warning: The vehicle 'h19_86321' has no valid route.\n",
      "Warning: No connection between edge '303225593#2' and edge '474846461' found.\n",
      "Warning: Mandatory edge '474846461' not reachable by vehicle 'h19_57121'.\n",
      "Warning: The vehicle 'h19_57121' has no valid route.\n",
      "Warning: No connection between edge '456191600#0' and edge '378355994#2' found.\n",
      "Warning: Mandatory edge '378355994#2' not reachable by vehicle 'h19_11555'.\n",
      "Warning: The vehicle 'h19_11555' has no valid route.\n",
      "Warning: No connection between edge '383653934#2' and edge '143962123#0' found.\n",
      "Warning: Mandatory edge '143962123#0' not reachable by vehicle 'h19_11489'.\n",
      "Warning: The vehicle 'h19_11489' has no valid route.\n",
      "Warning: No connection between edge '875807716#0' and edge '144160557#2' found.\n",
      "Warning: Mandatory edge '144160557#2' not reachable by vehicle 'h19_12001'.\n",
      "Warning: The vehicle 'h19_12001' has no valid route.\n",
      "Warning: No connection between edge '199113442#1' and edge '474846456#0' found.\n",
      "Warning: Mandatory edge '474846456#0' not reachable by vehicle 'h19_57748'.\n",
      "Warning: The vehicle 'h19_57748' has no valid route.\n",
      "Warning: No connection between edge '925261618' and edge '28325630' found.\n",
      "Warning: Mandatory edge '28325630' not reachable by vehicle 'h19_46632'.\n",
      "Warning: The vehicle 'h19_46632' has no valid route.\n",
      "Warning: No connection between edge '150925676' and edge '798550335' found.\n",
      "Warning: Mandatory edge '798550335' not reachable by vehicle 'h19_12504'.\n",
      "Warning: The vehicle 'h19_12504' has no valid route.\n",
      "Warning: No connection between edge '42867076' and edge '281308645' found.\n",
      "Warning: Mandatory edge '281308645' not reachable by vehicle 'h19_12748'.\n",
      "Warning: The vehicle 'h19_12748' has no valid route.\n"
     ]
    },
    {
     "name": "stdout",
     "output_type": "stream",
     "text": [
      "Reading up to time step: 69600.04\r"
     ]
    },
    {
     "name": "stderr",
     "output_type": "stream",
     "text": [
      "Warning: No connection between edge '793930821' and edge '28245824#0' found.\n",
      "Warning: Mandatory edge '28245824#0' not reachable by vehicle 'h19_13011'.\n",
      "Warning: The vehicle 'h19_13011' has no valid route.\n",
      "Warning: No connection between edge '142307781' and edge '62023728#1' found.\n",
      "Warning: Mandatory edge '62023728#1' not reachable by vehicle 'h19_13473'.\n",
      "Warning: The vehicle 'h19_13473' has no valid route.\n",
      "Warning: No connection between edge '303225593#0' and edge '172542889#1' found.\n",
      "Warning: Mandatory edge '172542889#1' not reachable by vehicle 'h19_58576'.\n",
      "Warning: The vehicle 'h19_58576' has no valid route.\n",
      "Warning: No connection between edge '53333958' and edge '1060073977' found.\n",
      "Warning: Mandatory edge '1060073977' not reachable by vehicle 'h19_13692'.\n",
      "Warning: The vehicle 'h19_13692' has no valid route.\n",
      "Warning: No connection between edge '112724357#2' and edge '143962123#0' found.\n",
      "Warning: Mandatory edge '143962123#0' not reachable by vehicle 'h19_14022'.\n",
      "Warning: The vehicle 'h19_14022' has no valid route.\n",
      "Warning: No connection between edge '65526212#6' and edge '143962123#0' found.\n",
      "Warning: Mandatory edge '143962123#0' not reachable by vehicle 'h19_14555'.\n",
      "Warning: The vehicle 'h19_14555' has no valid route.\n",
      "Warning: No connection between edge '436233257#1' and edge '559584418' found.\n",
      "Warning: Mandatory edge '559584418' not reachable by vehicle 'h19_124086'.\n",
      "Warning: The vehicle 'h19_124086' has no valid route.\n"
     ]
    },
    {
     "name": "stdout",
     "output_type": "stream",
     "text": [
      "Reading up to time step: 69800.04\r"
     ]
    },
    {
     "name": "stderr",
     "output_type": "stream",
     "text": [
      "Warning: No connection between edge '425187630' and edge '1099500521' found.\n",
      "Warning: Mandatory edge '1099500521' not reachable by vehicle 'h19_132864'.\n",
      "Warning: The vehicle 'h19_132864' has no valid route.\n",
      "Warning: No connection between edge '163081794#1' and edge '143962123#2' found.\n",
      "Warning: Mandatory edge '143962123#2' not reachable by vehicle 'h19_15449'.\n",
      "Warning: The vehicle 'h19_15449' has no valid route.\n",
      "Warning: No connection between edge '166652902#0' and edge '378355994#0' found.\n",
      "Warning: Mandatory edge '378355994#0' not reachable by vehicle 'h19_15664'.\n",
      "Warning: The vehicle 'h19_15664' has no valid route.\n",
      "Warning: No connection between edge '504787530' and edge '116158366#2' found.\n",
      "Warning: Mandatory edge '116158366#2' not reachable by vehicle 'h19_96625'.\n",
      "Warning: The vehicle 'h19_96625' has no valid route.\n",
      "Warning: No connection between edge '103267981#1' and edge '641349416#1' found.\n",
      "Warning: Mandatory edge '641349416#1' not reachable by vehicle 'h19_59917'.\n",
      "Warning: The vehicle 'h19_59917' has no valid route.\n",
      "Warning: No connection between edge '96717413' and edge '28142584' found.\n",
      "Warning: Mandatory edge '28142584' not reachable by vehicle 'h19_60092'.\n",
      "Warning: The vehicle 'h19_60092' has no valid route.\n",
      "Warning: No connection between edge '74921277#3' and edge '899788866' found.\n",
      "Warning: Mandatory edge '899788866' not reachable by vehicle 'h19_87819'.\n",
      "Warning: The vehicle 'h19_87819' has no valid route.\n",
      "Warning: No connection between edge '85418775' and edge '31638353' found.\n",
      "Warning: Mandatory edge '31638353' not reachable by vehicle 'h19_60416'.\n",
      "Warning: The vehicle 'h19_60416' has no valid route.\n",
      "Warning: No connection between edge '278603145' and edge '510193683' found.\n",
      "Warning: Mandatory edge '510193683' not reachable by vehicle 'h19_17073'.\n",
      "Warning: The vehicle 'h19_17073' has no valid route.\n",
      "Warning: No connection between edge '342847346#1' and edge '367820007' found.\n",
      "Warning: Mandatory edge '367820007' not reachable by vehicle 'h19_118453'.\n",
      "Warning: The vehicle 'h19_118453' has no valid route.\n",
      "Warning: No connection between edge '342150049#12' and edge '767313244' found.\n",
      "Warning: Mandatory edge '767313244' not reachable by vehicle 'h19_16915'.\n",
      "Warning: The vehicle 'h19_16915' has no valid route.\n",
      "Warning: No connection between edge '677786221' and edge '195817841' found.\n",
      "Warning: Mandatory edge '195817841' not reachable by vehicle 'h19_88118'.\n",
      "Warning: The vehicle 'h19_88118' has no valid route.\n",
      "Warning: No connection between edge '30129956#1' and edge '1150263876#0' found.\n",
      "Warning: Mandatory edge '1150263876#0' not reachable by vehicle 'h19_124961'.\n",
      "Warning: The vehicle 'h19_124961' has no valid route.\n"
     ]
    },
    {
     "name": "stdout",
     "output_type": "stream",
     "text": [
      "Reading up to time step: 70000.04\r"
     ]
    },
    {
     "name": "stderr",
     "output_type": "stream",
     "text": [
      "Warning: No connection between edge '210416842#1' and edge '55262562' found.\n",
      "Warning: Mandatory edge '55262562' not reachable by vehicle 'h19_110666'.\n",
      "Warning: The vehicle 'h19_110666' has no valid route.\n",
      "Warning: No connection between edge '383247624' and edge '143962123#1' found.\n",
      "Warning: Mandatory edge '143962123#1' not reachable by vehicle 'h19_17975'.\n",
      "Warning: The vehicle 'h19_17975' has no valid route.\n",
      "Warning: No connection between edge '105258166' and edge '105146155' found.\n",
      "Warning: Mandatory edge '105146155' not reachable by vehicle 'h19_110834'.\n",
      "Warning: The vehicle 'h19_110834' has no valid route.\n",
      "Warning: No connection between edge '103268024' and edge '7989858#2' found.\n",
      "Warning: Mandatory edge '7989858#2' not reachable by vehicle 'h19_61636'.\n",
      "Warning: The vehicle 'h19_61636' has no valid route.\n",
      "Warning: No connection between edge '666656597' and edge '32550183#1' found.\n",
      "Warning: Mandatory edge '32550183#1' not reachable by vehicle 'h19_61859'.\n",
      "Warning: The vehicle 'h19_61859' has no valid route.\n",
      "Warning: No connection between edge '1258640587#0' and edge '1155222630' found.\n",
      "Warning: Mandatory edge '1155222630' not reachable by vehicle 'h19_88635'.\n",
      "Warning: The vehicle 'h19_88635' has no valid route.\n",
      "Warning: No connection between edge '165945023#3' and edge '144160557#2' found.\n",
      "Warning: Mandatory edge '144160557#2' not reachable by vehicle 'h19_19208'.\n",
      "Warning: The vehicle 'h19_19208' has no valid route.\n",
      "Warning: No connection between edge '25961156#25' and edge '116158366#0' found.\n",
      "Warning: Mandatory edge '116158366#0' not reachable by vehicle 'h19_111105'.\n",
      "Warning: The vehicle 'h19_111105' has no valid route.\n",
      "Warning: No connection between edge '1252589163' and edge '167651792#0' found.\n",
      "Warning: Mandatory edge '167651792#0' not reachable by vehicle 'h19_80342'.\n",
      "Warning: The vehicle 'h19_80342' has no valid route.\n"
     ]
    },
    {
     "name": "stdout",
     "output_type": "stream",
     "text": [
      "Reading up to time step: 70200.04\r"
     ]
    },
    {
     "name": "stderr",
     "output_type": "stream",
     "text": [
      "Warning: No connection between edge '27773490#0' and edge '143962123#1' found.\n",
      "Warning: Mandatory edge '143962123#1' not reachable by vehicle 'h19_20569'.\n",
      "Warning: The vehicle 'h19_20569' has no valid route.\n",
      "Warning: No connection between edge '124087499#2' and edge '62023740' found.\n",
      "Warning: Mandatory edge '62023740' not reachable by vehicle 'h19_20512'.\n",
      "Warning: The vehicle 'h19_20512' has no valid route.\n",
      "Warning: No connection between edge '234059452' and edge '62023741' found.\n",
      "Warning: Mandatory edge '62023741' not reachable by vehicle 'h19_21046'.\n",
      "Warning: The vehicle 'h19_21046' has no valid route.\n",
      "Warning: No connection between edge '105258144#2' and edge '1020368163#1' found.\n",
      "Warning: Mandatory edge '1020368163#1' not reachable by vehicle 'h19_111577'.\n",
      "Warning: The vehicle 'h19_111577' has no valid route.\n",
      "Warning: No connection between edge '42413295' and edge '168689993#1' found.\n",
      "Warning: Mandatory edge '168689993#1' not reachable by vehicle 'h19_125957'.\n",
      "Warning: The vehicle 'h19_125957' has no valid route.\n",
      "Warning: No connection between edge '30129956#0' and edge '156537065' found.\n",
      "Warning: Mandatory edge '156537065' not reachable by vehicle 'h19_126002'.\n",
      "Warning: The vehicle 'h19_126002' has no valid route.\n",
      "Warning: No connection between edge '103267981#1' and edge '168140260' found.\n",
      "Warning: Mandatory edge '168140260' not reachable by vehicle 'h19_63277'.\n",
      "Warning: The vehicle 'h19_63277' has no valid route.\n",
      "Warning: No connection between edge '53334009' and edge '510193683' found.\n",
      "Warning: Mandatory edge '510193683' not reachable by vehicle 'h19_21592'.\n",
      "Warning: The vehicle 'h19_21592' has no valid route.\n",
      "Warning: No connection between edge '200971026#4' and edge '116158366#2' found.\n",
      "Warning: Mandatory edge '116158366#2' not reachable by vehicle 'h19_111897'.\n",
      "Warning: The vehicle 'h19_111897' has no valid route.\n",
      "Warning: No connection between edge '176677063#3' and edge '767313244' found.\n",
      "Warning: Mandatory edge '767313244' not reachable by vehicle 'h19_22694'.\n",
      "Warning: The vehicle 'h19_22694' has no valid route.\n"
     ]
    },
    {
     "name": "stdout",
     "output_type": "stream",
     "text": [
      "Reading up to time step: 70400.04\r"
     ]
    },
    {
     "name": "stderr",
     "output_type": "stream",
     "text": [
      "Warning: No connection between edge '436215841' and edge '61568430#4' found.\n",
      "Warning: Mandatory edge '61568430#4' not reachable by vehicle 'h19_126511'.\n",
      "Warning: The vehicle 'h19_126511' has no valid route.\n",
      "Warning: No connection between edge '436215841' and edge '30281678' found.\n",
      "Warning: Mandatory edge '30281678' not reachable by vehicle 'h19_118581'.\n",
      "Warning: The vehicle 'h19_118581' has no valid route.\n",
      "Warning: No connection between edge '303225593#0' and edge '146845369' found.\n",
      "Warning: Mandatory edge '146845369' not reachable by vehicle 'h19_78201'.\n",
      "Warning: The vehicle 'h19_78201' has no valid route.\n",
      "Warning: No connection between edge '425187630' and edge '170418839' found.\n",
      "Warning: Mandatory edge '170418839' not reachable by vehicle 'h19_126722'.\n",
      "Warning: The vehicle 'h19_126722' has no valid route.\n",
      "Warning: No connection between edge '103261611#1' and edge '134221478#2' found.\n",
      "Warning: Mandatory edge '134221478#2' not reachable by vehicle 'h19_64701'.\n",
      "Warning: The vehicle 'h19_64701' has no valid route.\n",
      "Warning: No connection between edge '363338962' and edge '62023728#0' found.\n",
      "Warning: Mandatory edge '62023728#0' not reachable by vehicle 'h19_23930'.\n",
      "Warning: The vehicle 'h19_23930' has no valid route.\n",
      "Warning: No connection between edge '425187630' and edge '406747405#1' found.\n",
      "Warning: Mandatory edge '406747405#1' not reachable by vehicle 'h19_126763'.\n",
      "Warning: The vehicle 'h19_126763' has no valid route.\n",
      "Warning: No connection between edge '1115212230' and edge '188649571' found.\n",
      "Warning: Mandatory edge '188649571' not reachable by vehicle 'h19_24143'.\n",
      "Warning: The vehicle 'h19_24143' has no valid route.\n",
      "Warning: No connection between edge '586702098#0' and edge '767313244' found.\n",
      "Warning: Mandatory edge '767313244' not reachable by vehicle 'h19_24156'.\n",
      "Warning: The vehicle 'h19_24156' has no valid route.\n",
      "Warning: No connection between edge '162389238#1' and edge '116158366#2' found.\n",
      "Warning: Mandatory edge '116158366#2' not reachable by vehicle 'h19_112477'.\n",
      "Warning: The vehicle 'h19_112477' has no valid route.\n",
      "Warning: No connection between edge '688357782#1' and edge '53209713' found.\n",
      "Warning: Mandatory edge '53209713' not reachable by vehicle 'h19_24555'.\n",
      "Warning: The vehicle 'h19_24555' has no valid route.\n",
      "Warning: No connection between edge '392225274' and edge '167350515#0' found.\n",
      "Warning: Mandatory edge '167350515#0' not reachable by vehicle 'h19_112472'.\n",
      "Warning: The vehicle 'h19_112472' has no valid route.\n"
     ]
    },
    {
     "name": "stdout",
     "output_type": "stream",
     "text": [
      "Reading up to time step: 70600.04\r"
     ]
    },
    {
     "name": "stderr",
     "output_type": "stream",
     "text": [
      "Warning: No connection between edge '844754866' and edge '188649571' found.\n",
      "Warning: Mandatory edge '188649571' not reachable by vehicle 'h19_25545'.\n",
      "Warning: The vehicle 'h19_25545' has no valid route.\n",
      "Warning: No connection between edge '243020707' and edge '1252589170#1' found.\n",
      "Warning: Mandatory edge '1252589170#1' not reachable by vehicle 'h19_66081'.\n",
      "Warning: The vehicle 'h19_66081' has no valid route.\n",
      "Warning: No connection between edge '42413295' and edge '442405249#1' found.\n",
      "Warning: Mandatory edge '442405249#1' not reachable by vehicle 'h19_127353'.\n",
      "Warning: The vehicle 'h19_127353' has no valid route.\n",
      "Warning: No connection between edge '72213177#1' and edge '767313244' found.\n",
      "Warning: Mandatory edge '767313244' not reachable by vehicle 'h19_26174'.\n",
      "Warning: The vehicle 'h19_26174' has no valid route.\n",
      "Warning: No connection between edge '688357782#1' and edge '157770500' found.\n",
      "Warning: Mandatory edge '157770500' not reachable by vehicle 'h19_26259'.\n",
      "Warning: The vehicle 'h19_26259' has no valid route.\n",
      "Warning: No connection between edge '688357782#0' and edge '81123896#0' found.\n",
      "Warning: Mandatory edge '81123896#0' not reachable by vehicle 'h19_26356'.\n",
      "Warning: The vehicle 'h19_26356' has no valid route.\n",
      "Warning: No connection between edge '53189546#1' and edge '386307421#1' found.\n",
      "Warning: Mandatory edge '386307421#1' not reachable by vehicle 'h19_26284'.\n",
      "Warning: The vehicle 'h19_26284' has no valid route.\n",
      "Warning: No connection between edge '103268024' and edge '156580395#1' found.\n",
      "Warning: Mandatory edge '156580395#1' not reachable by vehicle 'h19_66145'.\n",
      "Warning: The vehicle 'h19_66145' has no valid route.\n",
      "Warning: No connection between edge '177516673' and edge '386307421#1' found.\n",
      "Warning: Mandatory edge '386307421#1' not reachable by vehicle 'h19_118644'.\n",
      "Warning: The vehicle 'h19_118644' has no valid route.\n",
      "Warning: No connection between edge '30129956#1' and edge '1165485151#0' found.\n",
      "Warning: Mandatory edge '1165485151#0' not reachable by vehicle 'h19_127495'.\n",
      "Warning: The vehicle 'h19_127495' has no valid route.\n",
      "Warning: No connection between edge '1155222631' and edge '769630837#6' found.\n",
      "Warning: Mandatory edge '769630837#6' not reachable by vehicle 'h19_90866'.\n",
      "Warning: The vehicle 'h19_90866' has no valid route.\n",
      "Warning: No connection between edge '96717333#1' and edge '161432888' found.\n",
      "Warning: Mandatory edge '161432888' not reachable by vehicle 'h19_26904'.\n",
      "Warning: The vehicle 'h19_26904' has no valid route.\n",
      "Warning: No connection between edge '27582621#1' and edge '62023728#0' found.\n",
      "Warning: Mandatory edge '62023728#0' not reachable by vehicle 'h19_49689'.\n",
      "Warning: The vehicle 'h19_49689' has no valid route.\n",
      "Warning: No connection between edge '105244977#1' and edge '185019312' found.\n",
      "Warning: Mandatory edge '185019312' not reachable by vehicle 'h19_105869'.\n",
      "Warning: The vehicle 'h19_105869' has no valid route.\n",
      "Warning: No connection between edge '1317498941#0' and edge '161432888' found.\n",
      "Warning: Mandatory edge '161432888' not reachable by vehicle 'h19_27282'.\n",
      "Warning: The vehicle 'h19_27282' has no valid route.\n",
      "Warning: No connection between edge '39386409#4' and edge '62023728#0' found.\n",
      "Warning: Mandatory edge '62023728#0' not reachable by vehicle 'h19_27446'.\n",
      "Warning: The vehicle 'h19_27446' has no valid route.\n"
     ]
    },
    {
     "name": "stdout",
     "output_type": "stream",
     "text": [
      "Reading up to time step: 70800.04\r"
     ]
    },
    {
     "name": "stderr",
     "output_type": "stream",
     "text": [
      "Warning: No connection between edge '115628899#1' and edge '767313243' found.\n",
      "Warning: Mandatory edge '767313243' not reachable by vehicle 'h19_27641'.\n",
      "Warning: The vehicle 'h19_27641' has no valid route.\n",
      "Warning: No connection between edge '27866086' and edge '378355994#0' found.\n",
      "Warning: Mandatory edge '378355994#0' not reachable by vehicle 'h19_27634'.\n",
      "Warning: The vehicle 'h19_27634' has no valid route.\n",
      "Warning: No connection between edge '1059185897#0' and edge '112885002#1' found.\n",
      "Warning: Mandatory edge '112885002#1' not reachable by vehicle 'h19_81695'.\n",
      "Warning: The vehicle 'h19_81695' has no valid route.\n",
      "Warning: No connection between edge '546099873#2' and edge '143962123#0' found.\n",
      "Warning: Mandatory edge '143962123#0' not reachable by vehicle 'h19_28009'.\n",
      "Warning: The vehicle 'h19_28009' has no valid route.\n",
      "Warning: No connection between edge '105258186' and edge '104386798#2' found.\n",
      "Warning: Mandatory edge '104386798#2' not reachable by vehicle 'h19_113392'.\n",
      "Warning: The vehicle 'h19_113392' has no valid route.\n",
      "Warning: No connection between edge '688357782#0' and edge '35156022#3' found.\n",
      "Warning: Mandatory edge '35156022#3' not reachable by vehicle 'h19_28192'.\n",
      "Warning: The vehicle 'h19_28192' has no valid route.\n",
      "Warning: No connection between edge '150925676' and edge '182670433' found.\n",
      "Warning: Mandatory edge '182670433' not reachable by vehicle 'h19_28337'.\n",
      "Warning: The vehicle 'h19_28337' has no valid route.\n",
      "Warning: No connection between edge '650770802#0' and edge '386307421#0' found.\n",
      "Warning: Mandatory edge '386307421#0' not reachable by vehicle 'h19_28513'.\n",
      "Warning: The vehicle 'h19_28513' has no valid route.\n",
      "Warning: No connection between edge '30129956#1' and edge '170418844#1' found.\n",
      "Warning: Mandatory edge '170418844#1' not reachable by vehicle 'h19_128140'.\n",
      "Warning: The vehicle 'h19_128140' has no valid route.\n",
      "Warning: No connection between edge '47072533#2' and edge '62023728#1' found.\n",
      "Warning: Mandatory edge '62023728#1' not reachable by vehicle 'h19_29382'.\n",
      "Warning: The vehicle 'h19_29382' has no valid route.\n",
      "Warning: No connection between edge '30281609#3' and edge '144160557#1' found.\n",
      "Warning: Mandatory edge '144160557#1' not reachable by vehicle 'h19_29607'.\n",
      "Warning: The vehicle 'h19_29607' has no valid route.\n",
      "Warning: No connection between edge '139135707#0' and edge '1060073977' found.\n",
      "Warning: Mandatory edge '1060073977' not reachable by vehicle 'h19_29786'.\n",
      "Warning: The vehicle 'h19_29786' has no valid route.\n",
      "Warning: No connection between edge '105258144#1' and edge '517031828#1' found.\n",
      "Warning: Mandatory edge '517031828#1' not reachable by vehicle 'h19_113839'.\n",
      "Warning: The vehicle 'h19_113839' has no valid route.\n"
     ]
    },
    {
     "name": "stdout",
     "output_type": "stream",
     "text": [
      "Reading up to time step: 71000.04\r"
     ]
    },
    {
     "name": "stderr",
     "output_type": "stream",
     "text": [
      "Warning: No connection between edge '105258144#1' and edge '230469171#0' found.\n",
      "Warning: Mandatory edge '230469171#0' not reachable by vehicle 'h19_113968'.\n",
      "Warning: The vehicle 'h19_113968' has no valid route.\n",
      "Warning: No connection between edge '1296441375' and edge '281308645' found.\n",
      "Warning: Mandatory edge '281308645' not reachable by vehicle 'h19_30647'.\n",
      "Warning: The vehicle 'h19_30647' has no valid route.\n",
      "Warning: No connection between edge '232891466' and edge '144160557#2' found.\n",
      "Warning: Mandatory edge '144160557#2' not reachable by vehicle 'h19_30797'.\n",
      "Warning: The vehicle 'h19_30797' has no valid route.\n",
      "Warning: No connection between edge '53331808' and edge '62023728#1' found.\n",
      "Warning: Mandatory edge '62023728#1' not reachable by vehicle 'h19_30771'.\n",
      "Warning: The vehicle 'h19_30771' has no valid route.\n",
      "Warning: No connection between edge '43857215#1' and edge '1097309369' found.\n",
      "Warning: Mandatory edge '1097309369' not reachable by vehicle 'h19_92059'.\n",
      "Warning: The vehicle 'h19_92059' has no valid route.\n",
      "Warning: No connection between edge '1252589170#0' and edge '93141334#1' found.\n",
      "Warning: Mandatory edge '93141334#1' not reachable by vehicle 'h19_69253'.\n",
      "Warning: The vehicle 'h19_69253' has no valid route.\n",
      "Warning: No connection between edge '399909792#1' and edge '1060073977' found.\n",
      "Warning: Mandatory edge '1060073977' not reachable by vehicle 'h19_31298'.\n",
      "Warning: The vehicle 'h19_31298' has no valid route.\n",
      "Warning: No connection between edge '338135898#0' and edge '386307421#0' found.\n",
      "Warning: Mandatory edge '386307421#0' not reachable by vehicle 'h19_31255'.\n",
      "Warning: The vehicle 'h19_31255' has no valid route.\n",
      "Warning: No connection between edge '96717445' and edge '543589582#1' found.\n",
      "Warning: Mandatory edge '543589582#1' not reachable by vehicle 'h19_69272'.\n",
      "Warning: The vehicle 'h19_69272' has no valid route.\n",
      "Warning: No connection between edge '1340327171' and edge '112885002#0' found.\n",
      "Warning: Mandatory edge '112885002#0' not reachable by vehicle 'h19_31580'.\n",
      "Warning: The vehicle 'h19_31580' has no valid route.\n",
      "Warning: No connection between edge '925261618' and edge '343465800' found.\n",
      "Warning: Mandatory edge '343465800' not reachable by vehicle 'h19_31823'.\n",
      "Warning: The vehicle 'h19_31823' has no valid route.\n",
      "Warning: No connection between edge '712078115' and edge '201114176' found.\n",
      "Warning: Mandatory edge '201114176' not reachable by vehicle 'h19_114371'.\n",
      "Warning: The vehicle 'h19_114371' has no valid route.\n",
      "Warning: No connection between edge '303225593#1' and edge '251831100#0' found.\n",
      "Warning: Mandatory edge '251831100#0' not reachable by vehicle 'h19_69748'.\n",
      "Warning: The vehicle 'h19_69748' has no valid route.\n",
      "Warning: No connection between edge '567761405' and edge '112885002#1' found.\n",
      "Warning: Mandatory edge '112885002#1' not reachable by vehicle 'h19_32154'.\n",
      "Warning: The vehicle 'h19_32154' has no valid route.\n",
      "Warning: No connection between edge '53255425#1' and edge '367820004' found.\n",
      "Warning: Mandatory edge '367820004' not reachable by vehicle 'h19_32080'.\n",
      "Warning: The vehicle 'h19_32080' has no valid route.\n"
     ]
    },
    {
     "name": "stdout",
     "output_type": "stream",
     "text": [
      "Reading up to time step: 71200.04\r"
     ]
    },
    {
     "name": "stderr",
     "output_type": "stream",
     "text": [
      "Warning: No connection between edge '397805346#10' and edge '281308645' found.\n",
      "Warning: Mandatory edge '281308645' not reachable by vehicle 'h19_32765'.\n",
      "Warning: The vehicle 'h19_32765' has no valid route.\n",
      "Warning: No connection between edge '1225418992' and edge '386307421#1' found.\n",
      "Warning: Mandatory edge '386307421#1' not reachable by vehicle 'h19_32841'.\n",
      "Warning: The vehicle 'h19_32841' has no valid route.\n",
      "Warning: No connection between edge '150925676' and edge '71570214#2' found.\n",
      "Warning: Mandatory edge '71570214#2' not reachable by vehicle 'h19_32990'.\n",
      "Warning: The vehicle 'h19_32990' has no valid route.\n",
      "Warning: No connection between edge '103261611#1' and edge '188964951#10' found.\n",
      "Warning: Mandatory edge '188964951#10' not reachable by vehicle 'h19_70538'.\n",
      "Warning: The vehicle 'h19_70538' has no valid route.\n",
      "Warning: No connection between edge '436233257#0' and edge '685040727#0' found.\n",
      "Warning: Mandatory edge '685040727#0' not reachable by vehicle 'h19_129446'.\n",
      "Warning: The vehicle 'h19_129446' has no valid route.\n",
      "Warning: No connection between edge '561020798#0' and edge '144160557#1' found.\n",
      "Warning: Mandatory edge '144160557#1' not reachable by vehicle 'h19_33487'.\n",
      "Warning: The vehicle 'h19_33487' has no valid route.\n",
      "Warning: No connection between edge '30129956#1' and edge '112885002#0' found.\n",
      "Warning: Mandatory edge '112885002#0' not reachable by vehicle 'h19_118787'.\n",
      "Warning: The vehicle 'h19_118787' has no valid route.\n",
      "Warning: No connection between edge '171835835#1' and edge '27450015#5' found.\n",
      "Warning: Mandatory edge '27450015#5' not reachable by vehicle 'h19_92779'.\n",
      "Warning: The vehicle 'h19_92779' has no valid route.\n",
      "Warning: No connection between edge '688357782#0' and edge '650770802#0' found.\n",
      "Warning: Mandatory edge '650770802#0' not reachable by vehicle 'h19_33981'.\n",
      "Warning: The vehicle 'h19_33981' has no valid route.\n",
      "Warning: No connection between edge '438423749#0' and edge '112885002#1' found.\n",
      "Warning: Mandatory edge '112885002#1' not reachable by vehicle 'h19_118798'.\n",
      "Warning: The vehicle 'h19_118798' has no valid route.\n",
      "Warning: No connection between edge '38280119' and edge '367820004' found.\n",
      "Warning: Mandatory edge '367820004' not reachable by vehicle 'h19_34199'.\n",
      "Warning: The vehicle 'h19_34199' has no valid route.\n",
      "Warning: No connection between edge '341796846' and edge '112885002#0' found.\n",
      "Warning: Mandatory edge '112885002#0' not reachable by vehicle 'h19_34439'.\n",
      "Warning: The vehicle 'h19_34439' has no valid route.\n",
      "Warning: No connection between edge '103268024' and edge '27407757#0' found.\n",
      "Warning: Mandatory edge '27407757#0' not reachable by vehicle 'h19_71283'.\n",
      "Warning: The vehicle 'h19_71283' has no valid route.\n",
      "Warning: No connection between edge '425202429' and edge '62023740' found.\n",
      "Warning: Mandatory edge '62023740' not reachable by vehicle 'h19_118811'.\n",
      "Warning: The vehicle 'h19_118811' has no valid route.\n"
     ]
    },
    {
     "name": "stdout",
     "output_type": "stream",
     "text": [
      "Reading up to time step: 71400.04\r"
     ]
    },
    {
     "name": "stderr",
     "output_type": "stream",
     "text": [
      "Warning: No connection between edge '71440132' and edge '62023740' found.\n",
      "Warning: Mandatory edge '62023740' not reachable by vehicle 'h19_35480'.\n",
      "Warning: The vehicle 'h19_35480' has no valid route.\n",
      "Warning: No connection between edge '303225593#2' and edge '255091767#0' found.\n",
      "Warning: Mandatory edge '255091767#0' not reachable by vehicle 'h19_71895'.\n",
      "Warning: The vehicle 'h19_71895' has no valid route.\n",
      "Warning: No connection between edge '355956868#2' and edge '510193683' found.\n",
      "Warning: Mandatory edge '510193683' not reachable by vehicle 'h19_49926'.\n",
      "Warning: The vehicle 'h19_49926' has no valid route.\n",
      "Warning: No connection between edge '103268024' and edge '27632394' found.\n",
      "Warning: Mandatory edge '27632394' not reachable by vehicle 'h19_72024'.\n",
      "Warning: The vehicle 'h19_72024' has no valid route.\n",
      "Warning: No connection between edge '105211286#4' and edge '583225072' found.\n",
      "Warning: Mandatory edge '583225072' not reachable by vehicle 'h19_115403'.\n",
      "Warning: The vehicle 'h19_115403' has no valid route.\n",
      "Warning: No connection between edge '156026392' and edge '436447634#3' found.\n",
      "Warning: Mandatory edge '436447634#3' not reachable by vehicle 'h19_130158'.\n",
      "Warning: The vehicle 'h19_130158' has no valid route.\n",
      "Warning: No connection between edge '425702645#0' and edge '281308645' found.\n",
      "Warning: Mandatory edge '281308645' not reachable by vehicle 'h19_35876'.\n",
      "Warning: The vehicle 'h19_35876' has no valid route.\n",
      "Warning: No connection between edge '709343160#5' and edge '116158366#1' found.\n",
      "Warning: Mandatory edge '116158366#1' not reachable by vehicle 'h19_115451'.\n",
      "Warning: The vehicle 'h19_115451' has no valid route.\n",
      "Warning: No connection between edge '203506538' and edge '810198644' found.\n",
      "Warning: Mandatory edge '810198644' not reachable by vehicle 'h19_93537'.\n",
      "Warning: The vehicle 'h19_93537' has no valid route.\n",
      "Warning: No connection between edge '849490023' and edge '510193680' found.\n",
      "Warning: Mandatory edge '510193680' not reachable by vehicle 'h19_36189'.\n",
      "Warning: The vehicle 'h19_36189' has no valid route.\n",
      "Warning: No connection between edge '303225593#1' and edge '68293199#0' found.\n",
      "Warning: Mandatory edge '68293199#0' not reachable by vehicle 'h19_72299'.\n",
      "Warning: The vehicle 'h19_72299' has no valid route.\n",
      "Warning: No connection between edge '532273611' and edge '188649571' found.\n",
      "Warning: Mandatory edge '188649571' not reachable by vehicle 'h19_36579'.\n",
      "Warning: The vehicle 'h19_36579' has no valid route.\n",
      "Warning: No connection between edge '99205776#2' and edge '378355994#1' found.\n",
      "Warning: Mandatory edge '378355994#1' not reachable by vehicle 'h19_36468'.\n",
      "Warning: The vehicle 'h19_36468' has no valid route.\n",
      "Warning: No connection between edge '52514073#3' and edge '383076320' found.\n",
      "Warning: Mandatory edge '383076320' not reachable by vehicle 'h19_36701'.\n",
      "Warning: The vehicle 'h19_36701' has no valid route.\n",
      "Warning: No connection between edge '1238377103#0' and edge '62023728#0' found.\n",
      "Warning: Mandatory edge '62023728#0' not reachable by vehicle 'h19_36811'.\n",
      "Warning: The vehicle 'h19_36811' has no valid route.\n",
      "Warning: No connection between edge '137342753' and edge '165194265#2' found.\n",
      "Warning: Mandatory edge '165194265#2' not reachable by vehicle 'h19_115597'.\n",
      "Warning: The vehicle 'h19_115597' has no valid route.\n",
      "Warning: No connection between edge '925261618' and edge '46986599#2' found.\n",
      "Warning: Mandatory edge '46986599#2' not reachable by vehicle 'h19_37071'.\n",
      "Warning: The vehicle 'h19_37071' has no valid route.\n",
      "Warning: No connection between edge '208980458' and edge '297985242' found.\n",
      "Warning: Mandatory edge '297985242' not reachable by vehicle 'h19_117953'.\n",
      "Warning: The vehicle 'h19_117953' has no valid route.\n",
      "Warning: No connection between edge '39736894#4' and edge '281308645' found.\n",
      "Warning: Mandatory edge '281308645' not reachable by vehicle 'h19_37049'.\n",
      "Warning: The vehicle 'h19_37049' has no valid route.\n",
      "Warning: No connection between edge '47072535#0' and edge '62023728#0' found.\n",
      "Warning: Mandatory edge '62023728#0' not reachable by vehicle 'h19_37350'.\n",
      "Warning: The vehicle 'h19_37350' has no valid route.\n",
      "Warning: No connection between edge '103261611#0' and edge '251823822' found.\n",
      "Warning: Mandatory edge '251823822' not reachable by vehicle 'h19_73024'.\n",
      "Warning: The vehicle 'h19_73024' has no valid route.\n"
     ]
    },
    {
     "name": "stdout",
     "output_type": "stream",
     "text": [
      "Reading up to time step: 71600.04\r"
     ]
    },
    {
     "name": "stderr",
     "output_type": "stream",
     "text": [
      "Warning: No connection between edge '23146230' and edge '1005867620#2' found.\n",
      "Warning: Mandatory edge '1005867620#2' not reachable by vehicle 'h19_73196'.\n",
      "Warning: The vehicle 'h19_73196' has no valid route.\n",
      "Warning: No connection between edge '705434105#1' and edge '62023728#1' found.\n",
      "Warning: Mandatory edge '62023728#1' not reachable by vehicle 'h19_38100'.\n",
      "Warning: The vehicle 'h19_38100' has no valid route.\n",
      "Warning: No connection between edge '688357782#1' and edge '423013660#0' found.\n",
      "Warning: Mandatory edge '423013660#0' not reachable by vehicle 'h19_38219'.\n",
      "Warning: The vehicle 'h19_38219' has no valid route.\n",
      "Warning: No connection between edge '1225396440' and edge '62023740' found.\n",
      "Warning: Mandatory edge '62023740' not reachable by vehicle 'h19_38282'.\n",
      "Warning: The vehicle 'h19_38282' has no valid route.\n",
      "Warning: No connection between edge '676178098' and edge '143962120' found.\n",
      "Warning: Mandatory edge '143962120' not reachable by vehicle 'h19_38372'.\n",
      "Warning: The vehicle 'h19_38372' has no valid route.\n",
      "Warning: No connection between edge '135993919' and edge '188649571' found.\n",
      "Warning: Mandatory edge '188649571' not reachable by vehicle 'h19_38540'.\n",
      "Warning: The vehicle 'h19_38540' has no valid route.\n",
      "Warning: No connection between edge '124060635' and edge '24387219#8' found.\n",
      "Warning: Mandatory edge '24387219#8' not reachable by vehicle 'h19_39265'.\n",
      "Warning: The vehicle 'h19_39265' has no valid route.\n",
      "Warning: No connection between edge '137342752' and edge '251087698' found.\n",
      "Warning: Mandatory edge '251087698' not reachable by vehicle 'h19_105983'.\n",
      "Warning: The vehicle 'h19_105983' has no valid route.\n",
      "Warning: No connection between edge '144636829#1' and edge '62023730' found.\n",
      "Warning: Mandatory edge '62023730' not reachable by vehicle 'h19_39498'.\n",
      "Warning: The vehicle 'h19_39498' has no valid route.\n",
      "Warning: No connection between edge '34339918#2' and edge '188649571' found.\n",
      "Warning: Mandatory edge '188649571' not reachable by vehicle 'h19_39606'.\n",
      "Warning: The vehicle 'h19_39606' has no valid route.\n",
      "Warning: No connection between edge '688357782#1' and edge '1150449594' found.\n",
      "Warning: Mandatory edge '1150449594' not reachable by vehicle 'h19_47247'.\n",
      "Warning: The vehicle 'h19_47247' has no valid route.\n",
      "Warning: No connection between edge '1223495682' and edge '210489663#2' found.\n",
      "Warning: Mandatory edge '210489663#2' not reachable by vehicle 'h19_116407'.\n",
      "Warning: The vehicle 'h19_116407' has no valid route.\n",
      "Warning: No connection between edge '42867296#1' and edge '378355994#1' found.\n",
      "Warning: Mandatory edge '378355994#1' not reachable by vehicle 'h19_39825'.\n",
      "Warning: The vehicle 'h19_39825' has no valid route.\n",
      "Warning: No connection between edge '303225593#1' and edge '477289071' found.\n",
      "Warning: Mandatory edge '477289071' not reachable by vehicle 'h19_74577'.\n",
      "Warning: The vehicle 'h19_74577' has no valid route.\n"
     ]
    },
    {
     "name": "stdout",
     "output_type": "stream",
     "text": [
      "Reading up to time step: 71800.04\r"
     ]
    },
    {
     "name": "stderr",
     "output_type": "stream",
     "text": [
      "Warning: No connection between edge '329321831#3' and edge '144160557#2' found.\n",
      "Warning: Mandatory edge '144160557#2' not reachable by vehicle 'h19_40116'.\n",
      "Warning: The vehicle 'h19_40116' has no valid route.\n",
      "Warning: No connection between edge '425187630' and edge '980173401' found.\n",
      "Warning: Mandatory edge '980173401' not reachable by vehicle 'h19_131359'.\n",
      "Warning: The vehicle 'h19_131359' has no valid route.\n",
      "Warning: No connection between edge '195806780' and edge '139292065' found.\n",
      "Warning: Mandatory edge '139292065' not reachable by vehicle 'h19_96952'.\n",
      "Warning: The vehicle 'h19_96952' has no valid route.\n",
      "Warning: No connection between edge '1035834756' and edge '1097309372' found.\n",
      "Warning: Mandatory edge '1097309372' not reachable by vehicle 'h19_94938'.\n",
      "Warning: The vehicle 'h19_94938' has no valid route.\n",
      "Warning: No connection between edge '463971655#0' and edge '583225072' found.\n",
      "Warning: Mandatory edge '583225072' not reachable by vehicle 'h19_116774'.\n",
      "Warning: The vehicle 'h19_116774' has no valid route.\n",
      "Warning: No connection between edge '345730917' and edge '62023728#1' found.\n",
      "Warning: Mandatory edge '62023728#1' not reachable by vehicle 'h19_41358'.\n",
      "Warning: The vehicle 'h19_41358' has no valid route.\n",
      "Warning: No connection between edge '303225593#0' and edge '162143520#0' found.\n",
      "Warning: Mandatory edge '162143520#0' not reachable by vehicle 'h19_75478'.\n",
      "Warning: The vehicle 'h19_75478' has no valid route.\n",
      "Warning: No connection between edge '28246673#1' and edge '116158359#0' found.\n",
      "Warning: Mandatory edge '116158359#0' not reachable by vehicle 'h19_116887'.\n",
      "Warning: The vehicle 'h19_116887' has no valid route.\n",
      "Warning: No connection between edge '163317631' and edge '132296616' found.\n",
      "Warning: Mandatory edge '132296616' not reachable by vehicle 'h19_95194'.\n",
      "Warning: The vehicle 'h19_95194' has no valid route.\n",
      "Warning: No connection between edge '39475941#3' and edge '1097309372' found.\n",
      "Warning: Mandatory edge '1097309372' not reachable by vehicle 'h19_95166'.\n",
      "Warning: The vehicle 'h19_95166' has no valid route.\n",
      "Warning: No connection between edge '199113442#1' and edge '1379202314#0' found.\n",
      "Warning: Mandatory edge '1379202314#0' not reachable by vehicle 'h19_75852'.\n",
      "Warning: The vehicle 'h19_75852' has no valid route.\n",
      "Warning: No connection between edge '30129956#2' and edge '160084620#2' found.\n",
      "Warning: Mandatory edge '160084620#2' not reachable by vehicle 'h19_131979'.\n",
      "Warning: The vehicle 'h19_131979' has no valid route.\n"
     ]
    },
    {
     "name": "stdout",
     "output_type": "stream",
     "text": [
      "Reading up to time step: 72000.04\r"
     ]
    },
    {
     "name": "stderr",
     "output_type": "stream",
     "text": [
      "Warning: No connection between edge '50433746' and edge '386307421#0' found.\n",
      "Warning: Mandatory edge '386307421#0' not reachable by vehicle 'h19_42676'.\n",
      "Warning: The vehicle 'h19_42676' has no valid route.\n",
      "Warning: No connection between edge '30129956#2' and edge '103406060#1' found.\n",
      "Warning: Mandatory edge '103406060#1' not reachable by vehicle 'h19_132111'.\n",
      "Warning: The vehicle 'h19_132111' has no valid route.\n",
      "Warning: No connection between edge '1119827432#0' and edge '1252589170#1' found.\n",
      "Warning: Mandatory edge '1252589170#1' not reachable by vehicle 'h19_76478'.\n",
      "Warning: The vehicle 'h19_76478' has no valid route.\n",
      "Warning: No connection between edge '161432890#5' and edge '510193680' found.\n",
      "Warning: Mandatory edge '510193680' not reachable by vehicle 'h19_43201'.\n",
      "Warning: The vehicle 'h19_43201' has no valid route.\n",
      "Warning: No connection between edge '208078069#1' and edge '383076320' found.\n",
      "Warning: Mandatory edge '383076320' not reachable by vehicle 'h19_43428'.\n",
      "Warning: The vehicle 'h19_43428' has no valid route.\n",
      "Warning: No connection between edge '192984473' and edge '144160557#2' found.\n",
      "Warning: Mandatory edge '144160557#2' not reachable by vehicle 'h19_43771'.\n",
      "Warning: The vehicle 'h19_43771' has no valid route.\n",
      "Warning: No connection between edge '96717445' and edge '1058625551' found.\n",
      "Warning: Mandatory edge '1058625551' not reachable by vehicle 'h19_78647'.\n",
      "Warning: The vehicle 'h19_78647' has no valid route.\n",
      "Warning: No connection between edge '100144522' and edge '1252589170#1' found.\n",
      "Warning: Mandatory edge '1252589170#1' not reachable by vehicle 'h19_77007'.\n",
      "Warning: The vehicle 'h19_77007' has no valid route.\n",
      "Warning: No connection between edge '6314122#7' and edge '144160557#2' found.\n",
      "Warning: Mandatory edge '144160557#2' not reachable by vehicle 'h19_44041'.\n",
      "Warning: The vehicle 'h19_44041' has no valid route.\n",
      "Warning: No connection between edge '1037527481#0' and edge '62023728#1' found.\n",
      "Warning: Mandatory edge '62023728#1' not reachable by vehicle 'h19_44141'.\n",
      "Warning: The vehicle 'h19_44141' has no valid route.\n",
      "Warning: No connection between edge '174116463' and edge '62023728#0' found.\n",
      "Warning: Mandatory edge '62023728#0' not reachable by vehicle 'h19_44271'.\n",
      "Warning: The vehicle 'h19_44271' has no valid route.\n",
      "Warning: No connection between edge '1033211838' and edge '1155222630' found.\n",
      "Warning: Mandatory edge '1155222630' not reachable by vehicle 'h19_96008'.\n",
      "Warning: The vehicle 'h19_96008' has no valid route.\n",
      "Warning: No connection between edge '63673697#0' and edge '1060073977' found.\n",
      "Warning: Mandatory edge '1060073977' not reachable by vehicle 'h19_44787'.\n",
      "Warning: The vehicle 'h19_44787' has no valid route.\n"
     ]
    },
    {
     "name": "stdout",
     "output_type": "stream",
     "text": [
      "Success.\n",
      "[H19] tlsCycleAdaptation …\n",
      "[H19] tlsCoordinator …\n",
      "[H19] SUMO 68400→72000 …\n",
      "[H19] finished (state saved → /home/hoai-linh.dao/Works/EVCS/CEREMA-Mini/result/experiments/03-06-hourly-scenario-meso/states/state_00072000.xml.gz)\n",
      "\n",
      "[H20] duarouter …\n"
     ]
    },
    {
     "name": "stderr",
     "output_type": "stream",
     "text": [
      "Warning: No connection between edge '437449402' and edge '62023741' found.\n",
      "Warning: Mandatory edge '62023741' not reachable by vehicle 'h20_367'.\n",
      "Warning: The vehicle 'h20_367' has no valid route.\n"
     ]
    },
    {
     "name": "stdout",
     "output_type": "stream",
     "text": [
      "Reading up to time step: 72200.07\r"
     ]
    },
    {
     "name": "stderr",
     "output_type": "stream",
     "text": [
      "Warning: No connection between edge '392225275' and edge '1252266899' found.\n",
      "Warning: Mandatory edge '1252266899' not reachable by vehicle 'h20_58227'.\n",
      "Warning: The vehicle 'h20_58227' has no valid route.\n",
      "Warning: No connection between edge '547911882#1' and edge '378355994#0' found.\n",
      "Warning: Mandatory edge '378355994#0' not reachable by vehicle 'h20_798'.\n",
      "Warning: The vehicle 'h20_798' has no valid route.\n",
      "Warning: No connection between edge '105258144#2' and edge '429346639#2' found.\n",
      "Warning: Mandatory edge '429346639#2' not reachable by vehicle 'h20_58291'.\n",
      "Warning: The vehicle 'h20_58291' has no valid route.\n",
      "Warning: No connection between edge '103267981#1' and edge '43529150#0' found.\n",
      "Warning: Mandatory edge '43529150#0' not reachable by vehicle 'h20_29432'.\n",
      "Warning: The vehicle 'h20_29432' has no valid route.\n",
      "Warning: No connection between edge '343465799#1' and edge '144160557#2' found.\n",
      "Warning: Mandatory edge '144160557#2' not reachable by vehicle 'h20_994'.\n",
      "Warning: The vehicle 'h20_994' has no valid route.\n",
      "Warning: No connection between edge '47000202#4' and edge '367820007' found.\n",
      "Warning: Mandatory edge '367820007' not reachable by vehicle 'h20_1147'.\n",
      "Warning: The vehicle 'h20_1147' has no valid route.\n",
      "Warning: No connection between edge '313522840' and edge '143962123#2' found.\n",
      "Warning: Mandatory edge '143962123#2' not reachable by vehicle 'h20_1461'.\n",
      "Warning: The vehicle 'h20_1461' has no valid route.\n"
     ]
    },
    {
     "name": "stdout",
     "output_type": "stream",
     "text": [
      "Reading up to time step: 72400.07\r"
     ]
    },
    {
     "name": "stderr",
     "output_type": "stream",
     "text": [
      "Warning: No connection between edge '124060635' and edge '1099451731#0' found.\n",
      "Warning: Mandatory edge '1099451731#0' not reachable by vehicle 'h20_1569'.\n",
      "Warning: The vehicle 'h20_1569' has no valid route.\n",
      "Warning: No connection between edge '221552735' and edge '1252589170#1' found.\n",
      "Warning: Mandatory edge '1252589170#1' not reachable by vehicle 'h20_29764'.\n",
      "Warning: The vehicle 'h20_29764' has no valid route.\n",
      "Warning: No connection between edge '103261611#0' and edge '232119363#0' found.\n",
      "Warning: Mandatory edge '232119363#0' not reachable by vehicle 'h20_30074'.\n",
      "Warning: The vehicle 'h20_30074' has no valid route.\n",
      "Warning: No connection between edge '1155222631' and edge '1060061540' found.\n",
      "Warning: Mandatory edge '1060061540' not reachable by vehicle 'h20_47113'.\n",
      "Warning: The vehicle 'h20_47113' has no valid route.\n",
      "Warning: No connection between edge '120053749#1' and edge '161432888' found.\n",
      "Warning: Mandatory edge '161432888' not reachable by vehicle 'h20_2419'.\n",
      "Warning: The vehicle 'h20_2419' has no valid route.\n",
      "Warning: No connection between edge '425187630' and edge '219095813#1' found.\n",
      "Warning: Mandatory edge '219095813#1' not reachable by vehicle 'h20_65508'.\n",
      "Warning: The vehicle 'h20_65508' has no valid route.\n",
      "Warning: No connection between edge '203506538' and edge '45187183' found.\n",
      "Warning: Mandatory edge '45187183' not reachable by vehicle 'h20_47302'.\n",
      "Warning: The vehicle 'h20_47302' has no valid route.\n"
     ]
    },
    {
     "name": "stdout",
     "output_type": "stream",
     "text": [
      "Reading up to time step: 72600.07\r"
     ]
    },
    {
     "name": "stderr",
     "output_type": "stream",
     "text": [
      "Warning: No connection between edge '303225593#3' and edge '92351455#0' found.\n",
      "Warning: Mandatory edge '92351455#0' not reachable by vehicle 'h20_30626'.\n",
      "Warning: The vehicle 'h20_30626' has no valid route.\n",
      "Warning: No connection between edge '706041311' and edge '143962123#0' found.\n",
      "Warning: Mandatory edge '143962123#0' not reachable by vehicle 'h20_3191'.\n",
      "Warning: The vehicle 'h20_3191' has no valid route.\n",
      "Warning: No connection between edge '124060635' and edge '24255361' found.\n",
      "Warning: Mandatory edge '24255361' not reachable by vehicle 'h20_3615'.\n",
      "Warning: The vehicle 'h20_3615' has no valid route.\n",
      "Warning: No connection between edge '171835835#1' and edge '168069197' found.\n",
      "Warning: Mandatory edge '168069197' not reachable by vehicle 'h20_47462'.\n",
      "Warning: The vehicle 'h20_47462' has no valid route.\n",
      "Warning: No connection between edge '1155222629' and edge '625557761#1' found.\n",
      "Warning: Mandatory edge '625557761#1' not reachable by vehicle 'h20_45595'.\n",
      "Warning: The vehicle 'h20_45595' has no valid route.\n"
     ]
    },
    {
     "name": "stdout",
     "output_type": "stream",
     "text": [
      "Reading up to time step: 72800.07\r"
     ]
    },
    {
     "name": "stderr",
     "output_type": "stream",
     "text": [
      "Warning: No connection between edge '712078115' and edge '52170670#1' found.\n",
      "Warning: Mandatory edge '52170670#1' not reachable by vehicle 'h20_59052'.\n",
      "Warning: The vehicle 'h20_59052' has no valid route.\n",
      "Warning: No connection between edge '251816419' and edge '899788866' found.\n",
      "Warning: Mandatory edge '899788866' not reachable by vehicle 'h20_47596'.\n",
      "Warning: The vehicle 'h20_47596' has no valid route.\n",
      "Warning: No connection between edge '793930821' and edge '388890735#1' found.\n",
      "Warning: Mandatory edge '388890735#1' not reachable by vehicle 'h20_4445'.\n",
      "Warning: The vehicle 'h20_4445' has no valid route.\n",
      "Warning: No connection between edge '303225593#1' and edge '686160154#1' found.\n",
      "Warning: Mandatory edge '686160154#1' not reachable by vehicle 'h20_31454'.\n",
      "Warning: The vehicle 'h20_31454' has no valid route.\n",
      "Warning: No connection between edge '48999028#4' and edge '378355994#1' found.\n",
      "Warning: Mandatory edge '378355994#1' not reachable by vehicle 'h20_45619'.\n",
      "Warning: The vehicle 'h20_45619' has no valid route.\n",
      "Warning: No connection between edge '225091441#1' and edge '112885002#0' found.\n",
      "Warning: Mandatory edge '112885002#0' not reachable by vehicle 'h20_5317'.\n",
      "Warning: The vehicle 'h20_5317' has no valid route.\n",
      "Warning: No connection between edge '66833312' and edge '144160557#2' found.\n",
      "Warning: Mandatory edge '144160557#2' not reachable by vehicle 'h20_5538'.\n",
      "Warning: The vehicle 'h20_5538' has no valid route.\n",
      "Warning: No connection between edge '156026386' and edge '30540415#1' found.\n",
      "Warning: Mandatory edge '30540415#1' not reachable by vehicle 'h20_66227'.\n",
      "Warning: The vehicle 'h20_66227' has no valid route.\n"
     ]
    },
    {
     "name": "stdout",
     "output_type": "stream",
     "text": [
      "Reading up to time step: 73000.07\r"
     ]
    },
    {
     "name": "stderr",
     "output_type": "stream",
     "text": [
      "Warning: No connection between edge '112732715#1' and edge '143962123#2' found.\n",
      "Warning: Mandatory edge '143962123#2' not reachable by vehicle 'h20_6249'.\n",
      "Warning: The vehicle 'h20_6249' has no valid route.\n",
      "Warning: No connection between edge '150925676' and edge '174134833#0' found.\n",
      "Warning: Mandatory edge '174134833#0' not reachable by vehicle 'h20_6331'.\n",
      "Warning: The vehicle 'h20_6331' has no valid route.\n",
      "Warning: No connection between edge '1249423704' and edge '195821449#2' found.\n",
      "Warning: Mandatory edge '195821449#2' not reachable by vehicle 'h20_63851'.\n",
      "Warning: The vehicle 'h20_63851' has no valid route.\n",
      "Warning: No connection between edge '688357782#1' and edge '54357750#1' found.\n",
      "Warning: Mandatory edge '54357750#1' not reachable by vehicle 'h20_7332'.\n",
      "Warning: The vehicle 'h20_7332' has no valid route.\n"
     ]
    },
    {
     "name": "stdout",
     "output_type": "stream",
     "text": [
      "Reading up to time step: 73200.07\r"
     ]
    },
    {
     "name": "stderr",
     "output_type": "stream",
     "text": [
      "Warning: No connection between edge '72049676#4' and edge '112885002#1' found.\n",
      "Warning: Mandatory edge '112885002#1' not reachable by vehicle 'h20_7511'.\n",
      "Warning: The vehicle 'h20_7511' has no valid route.\n",
      "Warning: No connection between edge '1252589163' and edge '232891083#0' found.\n",
      "Warning: Mandatory edge '232891083#0' not reachable by vehicle 'h20_33187'.\n",
      "Warning: The vehicle 'h20_33187' has no valid route.\n",
      "Warning: No connection between edge '103261611#0' and edge '162141563#0' found.\n",
      "Warning: Mandatory edge '162141563#0' not reachable by vehicle 'h20_33305'.\n",
      "Warning: The vehicle 'h20_33305' has no valid route.\n",
      "Warning: No connection between edge '103267981#0' and edge '28307950#0' found.\n",
      "Warning: Mandatory edge '28307950#0' not reachable by vehicle 'h20_33317'.\n",
      "Warning: The vehicle 'h20_33317' has no valid route.\n",
      "Warning: No connection between edge '1155222629' and edge '543993040#1' found.\n",
      "Warning: Mandatory edge '543993040#1' not reachable by vehicle 'h20_53012'.\n",
      "Warning: The vehicle 'h20_53012' has no valid route.\n",
      "Warning: No connection between edge '588220279#3' and edge '62023730' found.\n",
      "Warning: Mandatory edge '62023730' not reachable by vehicle 'h20_8118'.\n",
      "Warning: The vehicle 'h20_8118' has no valid route.\n",
      "Warning: No connection between edge '392225274' and edge '28292460' found.\n",
      "Warning: Mandatory edge '28292460' not reachable by vehicle 'h20_59965'.\n",
      "Warning: The vehicle 'h20_59965' has no valid route.\n",
      "Warning: No connection between edge '173066539' and edge '82632771' found.\n",
      "Warning: Mandatory edge '82632771' not reachable by vehicle 'h20_26280'.\n",
      "Warning: The vehicle 'h20_26280' has no valid route.\n",
      "Warning: No connection between edge '688357782#0' and edge '881884802#0' found.\n",
      "Warning: Mandatory edge '881884802#0' not reachable by vehicle 'h20_8835'.\n",
      "Warning: The vehicle 'h20_8835' has no valid route.\n"
     ]
    },
    {
     "name": "stdout",
     "output_type": "stream",
     "text": [
      "Reading up to time step: 73400.07\r"
     ]
    },
    {
     "name": "stderr",
     "output_type": "stream",
     "text": [
      "Warning: No connection between edge '688357782#0' and edge '418606089#1' found.\n",
      "Warning: Mandatory edge '418606089#1' not reachable by vehicle 'h20_8936'.\n",
      "Warning: The vehicle 'h20_8936' has no valid route.\n",
      "Warning: No connection between edge '53188875#0' and edge '62023728#0' found.\n",
      "Warning: Mandatory edge '62023728#0' not reachable by vehicle 'h20_9132'.\n",
      "Warning: The vehicle 'h20_9132' has no valid route.\n",
      "Warning: No connection between edge '100810866#1' and edge '367820004' found.\n",
      "Warning: Mandatory edge '367820004' not reachable by vehicle 'h20_28344'.\n",
      "Warning: The vehicle 'h20_28344' has no valid route.\n",
      "Warning: No connection between edge '156026392' and edge '30151262#8' found.\n",
      "Warning: Mandatory edge '30151262#8' not reachable by vehicle 'h20_67198'.\n",
      "Warning: The vehicle 'h20_67198' has no valid route.\n",
      "Warning: No connection between edge '6310760' and edge '62023740' found.\n",
      "Warning: Mandatory edge '62023740' not reachable by vehicle 'h20_9708'.\n",
      "Warning: The vehicle 'h20_9708' has no valid route.\n",
      "Warning: No connection between edge '30129956#0' and edge '61409313#1' found.\n",
      "Warning: Mandatory edge '61409313#1' not reachable by vehicle 'h20_67184'.\n",
      "Warning: The vehicle 'h20_67184' has no valid route.\n",
      "Warning: No connection between edge '76195364' and edge '116158359#0' found.\n",
      "Warning: Mandatory edge '116158359#0' not reachable by vehicle 'h20_60255'.\n",
      "Warning: The vehicle 'h20_60255' has no valid route.\n",
      "Warning: No connection between edge '688357782#1' and edge '157928504#1' found.\n",
      "Warning: Mandatory edge '157928504#1' not reachable by vehicle 'h20_10097'.\n",
      "Warning: The vehicle 'h20_10097' has no valid route.\n",
      "Warning: No connection between edge '1249423702#0' and edge '239733894' found.\n",
      "Warning: Mandatory edge '239733894' not reachable by vehicle 'h20_60351'.\n",
      "Warning: The vehicle 'h20_60351' has no valid route.\n"
     ]
    },
    {
     "name": "stdout",
     "output_type": "stream",
     "text": [
      "Reading up to time step: 73600.07\r"
     ]
    },
    {
     "name": "stderr",
     "output_type": "stream",
     "text": [
      "Warning: No connection between edge '110367355#0' and edge '132296616' found.\n",
      "Warning: Mandatory edge '132296616' not reachable by vehicle 'h20_49041'.\n",
      "Warning: The vehicle 'h20_49041' has no valid route.\n",
      "Warning: No connection between edge '96719624#0' and edge '112885002#0' found.\n",
      "Warning: Mandatory edge '112885002#0' not reachable by vehicle 'h20_10746'.\n",
      "Warning: The vehicle 'h20_10746' has no valid route.\n",
      "Warning: No connection between edge '46998042#0' and edge '143962120' found.\n",
      "Warning: Mandatory edge '143962120' not reachable by vehicle 'h20_11158'.\n",
      "Warning: The vehicle 'h20_11158' has no valid route.\n",
      "Warning: No connection between edge '239339190' and edge '116158366#2' found.\n",
      "Warning: Mandatory edge '116158366#2' not reachable by vehicle 'h20_60520'.\n",
      "Warning: The vehicle 'h20_60520' has no valid route.\n",
      "Warning: No connection between edge '568743825' and edge '340505043' found.\n",
      "Warning: Mandatory edge '340505043' not reachable by vehicle 'h20_35346'.\n",
      "Warning: The vehicle 'h20_35346' has no valid route.\n",
      "Warning: No connection between edge '24257013#1' and edge '62023730' found.\n",
      "Warning: Mandatory edge '62023730' not reachable by vehicle 'h20_11504'.\n",
      "Warning: The vehicle 'h20_11504' has no valid route.\n",
      "Warning: No connection between edge '688357782#0' and edge '548551172' found.\n",
      "Warning: Mandatory edge '548551172' not reachable by vehicle 'h20_11676'.\n",
      "Warning: The vehicle 'h20_11676' has no valid route.\n"
     ]
    },
    {
     "name": "stdout",
     "output_type": "stream",
     "text": [
      "Reading up to time step: 73800.07\r"
     ]
    },
    {
     "name": "stderr",
     "output_type": "stream",
     "text": [
      "Warning: No connection between edge '793930821' and edge '54357750#0' found.\n",
      "Warning: Mandatory edge '54357750#0' not reachable by vehicle 'h20_11962'.\n",
      "Warning: The vehicle 'h20_11962' has no valid route.\n",
      "Warning: No connection between edge '1331092619#1' and edge '378355994#2' found.\n",
      "Warning: Mandatory edge '378355994#2' not reachable by vehicle 'h20_12101'.\n",
      "Warning: The vehicle 'h20_12101' has no valid route.\n",
      "Warning: No connection between edge '142428375#0' and edge '161432888' found.\n",
      "Warning: Mandatory edge '161432888' not reachable by vehicle 'h20_12264'.\n",
      "Warning: The vehicle 'h20_12264' has no valid route.\n",
      "Warning: No connection between edge '614946281#1' and edge '143962123#2' found.\n",
      "Warning: Mandatory edge '143962123#2' not reachable by vehicle 'h20_12278'.\n",
      "Warning: The vehicle 'h20_12278' has no valid route.\n",
      "Warning: No connection between edge '30129956#2' and edge '23559107#0' found.\n",
      "Warning: Mandatory edge '23559107#0' not reachable by vehicle 'h20_67833'.\n",
      "Warning: The vehicle 'h20_67833' has no valid route.\n",
      "Warning: No connection between edge '105258144#2' and edge '308576068#0' found.\n",
      "Warning: Mandatory edge '308576068#0' not reachable by vehicle 'h20_60845'.\n",
      "Warning: The vehicle 'h20_60845' has no valid route.\n",
      "Warning: No connection between edge '124060635' and edge '369275277' found.\n",
      "Warning: Mandatory edge '369275277' not reachable by vehicle 'h20_12733'.\n",
      "Warning: The vehicle 'h20_12733' has no valid route.\n",
      "Warning: No connection between edge '793930821' and edge '59617132' found.\n",
      "Warning: Mandatory edge '59617132' not reachable by vehicle 'h20_12939'.\n",
      "Warning: The vehicle 'h20_12939' has no valid route.\n",
      "Warning: No connection between edge '1223495682' and edge '28049282' found.\n",
      "Warning: Mandatory edge '28049282' not reachable by vehicle 'h20_60880'.\n",
      "Warning: The vehicle 'h20_60880' has no valid route.\n",
      "Warning: No connection between edge '150925676' and edge '6310369#1' found.\n",
      "Warning: Mandatory edge '6310369#1' not reachable by vehicle 'h20_13163'.\n",
      "Warning: The vehicle 'h20_13163' has no valid route.\n"
     ]
    },
    {
     "name": "stdout",
     "output_type": "stream",
     "text": [
      "Reading up to time step: 74000.07\r"
     ]
    },
    {
     "name": "stderr",
     "output_type": "stream",
     "text": [
      "Warning: No connection between edge '688357782#1' and edge '566339003' found.\n",
      "Warning: Mandatory edge '566339003' not reachable by vehicle 'h20_13291'.\n",
      "Warning: The vehicle 'h20_13291' has no valid route.\n",
      "Warning: No connection between edge '131904949#4' and edge '510193683' found.\n",
      "Warning: Mandatory edge '510193683' not reachable by vehicle 'h20_13320'.\n",
      "Warning: The vehicle 'h20_13320' has no valid route.\n",
      "Warning: No connection between edge '61415122#1' and edge '297985242' found.\n",
      "Warning: Mandatory edge '297985242' not reachable by vehicle 'h20_68050'.\n",
      "Warning: The vehicle 'h20_68050' has no valid route.\n",
      "Warning: No connection between edge '127457090' and edge '144160557#0' found.\n",
      "Warning: Mandatory edge '144160557#0' not reachable by vehicle 'h20_28447'.\n",
      "Warning: The vehicle 'h20_28447' has no valid route.\n",
      "Warning: No connection between edge '427444320' and edge '62023740' found.\n",
      "Warning: Mandatory edge '62023740' not reachable by vehicle 'h20_13740'.\n",
      "Warning: The vehicle 'h20_13740' has no valid route.\n",
      "Warning: No connection between edge '96717445' and edge '172542891' found.\n",
      "Warning: Mandatory edge '172542891' not reachable by vehicle 'h20_36727'.\n",
      "Warning: The vehicle 'h20_36727' has no valid route.\n",
      "Warning: No connection between edge '1236440572' and edge '297985242' found.\n",
      "Warning: Mandatory edge '297985242' not reachable by vehicle 'h20_68183'.\n",
      "Warning: The vehicle 'h20_68183' has no valid route.\n",
      "Warning: No connection between edge '793930821' and edge '379971907' found.\n",
      "Warning: Mandatory edge '379971907' not reachable by vehicle 'h20_14096'.\n",
      "Warning: The vehicle 'h20_14096' has no valid route.\n",
      "Warning: No connection between edge '161386586#1' and edge '383076320' found.\n",
      "Warning: Mandatory edge '383076320' not reachable by vehicle 'h20_14244'.\n",
      "Warning: The vehicle 'h20_14244' has no valid route.\n",
      "Warning: No connection between edge '1081121325#0' and edge '116158359#0' found.\n",
      "Warning: Mandatory edge '116158359#0' not reachable by vehicle 'h20_53082'.\n",
      "Warning: The vehicle 'h20_53082' has no valid route.\n"
     ]
    },
    {
     "name": "stdout",
     "output_type": "stream",
     "text": [
      "Reading up to time step: 74200.07\r"
     ]
    },
    {
     "name": "stderr",
     "output_type": "stream",
     "text": [
      "Warning: No connection between edge '105258144#1' and edge '27365577#0' found.\n",
      "Warning: Mandatory edge '27365577#0' not reachable by vehicle 'h20_61254'.\n",
      "Warning: The vehicle 'h20_61254' has no valid route.\n",
      "Warning: No connection between edge '925261618' and edge '133408947#1' found.\n",
      "Warning: Mandatory edge '133408947#1' not reachable by vehicle 'h20_14776'.\n",
      "Warning: The vehicle 'h20_14776' has no valid route.\n",
      "Warning: No connection between edge '71896669' and edge '378355994#2' found.\n",
      "Warning: Mandatory edge '378355994#2' not reachable by vehicle 'h20_15222'.\n",
      "Warning: The vehicle 'h20_15222' has no valid route.\n",
      "Warning: No connection between edge '156026386' and edge '449761253' found.\n",
      "Warning: Mandatory edge '449761253' not reachable by vehicle 'h20_71166'.\n",
      "Warning: The vehicle 'h20_71166' has no valid route.\n",
      "Warning: No connection between edge '143861410#1' and edge '62023730' found.\n",
      "Warning: Mandatory edge '62023730' not reachable by vehicle 'h20_15427'.\n",
      "Warning: The vehicle 'h20_15427' has no valid route.\n",
      "Warning: No connection between edge '207654053#0' and edge '583225071' found.\n",
      "Warning: Mandatory edge '583225071' not reachable by vehicle 'h20_61475'.\n",
      "Warning: The vehicle 'h20_61475' has no valid route.\n",
      "Warning: No connection between edge '167428938' and edge '116158366#2' found.\n",
      "Warning: Mandatory edge '116158366#2' not reachable by vehicle 'h20_61514'.\n",
      "Warning: The vehicle 'h20_61514' has no valid route.\n"
     ]
    },
    {
     "name": "stdout",
     "output_type": "stream",
     "text": [
      "Reading up to time step: 74400.07\r"
     ]
    },
    {
     "name": "stderr",
     "output_type": "stream",
     "text": [
      "Warning: No connection between edge '700788917#2' and edge '62023728#1' found.\n",
      "Warning: Mandatory edge '62023728#1' not reachable by vehicle 'h20_16400'.\n",
      "Warning: The vehicle 'h20_16400' has no valid route.\n",
      "Warning: No connection between edge '150925676' and edge '493061141' found.\n",
      "Warning: Mandatory edge '493061141' not reachable by vehicle 'h20_16378'.\n",
      "Warning: The vehicle 'h20_16378' has no valid route.\n",
      "Warning: No connection between edge '161031267#2' and edge '378355994#2' found.\n",
      "Warning: Mandatory edge '378355994#2' not reachable by vehicle 'h20_16445'.\n",
      "Warning: The vehicle 'h20_16445' has no valid route.\n",
      "Warning: No connection between edge '124060635' and edge '82285312' found.\n",
      "Warning: Mandatory edge '82285312' not reachable by vehicle 'h20_16564'.\n",
      "Warning: The vehicle 'h20_16564' has no valid route.\n",
      "Warning: No connection between edge '239732921#1' and edge '116158359#1' found.\n",
      "Warning: Mandatory edge '116158359#1' not reachable by vehicle 'h20_61835'.\n",
      "Warning: The vehicle 'h20_61835' has no valid route.\n",
      "Warning: No connection between edge '241177414' and edge '297985242' found.\n",
      "Warning: Mandatory edge '297985242' not reachable by vehicle 'h20_27769'.\n",
      "Warning: The vehicle 'h20_27769' has no valid route.\n",
      "Warning: No connection between edge '27769532' and edge '367820007' found.\n",
      "Warning: Mandatory edge '367820007' not reachable by vehicle 'h20_17355'.\n",
      "Warning: The vehicle 'h20_17355' has no valid route.\n"
     ]
    },
    {
     "name": "stdout",
     "output_type": "stream",
     "text": [
      "Reading up to time step: 74600.07\r"
     ]
    },
    {
     "name": "stderr",
     "output_type": "stream",
     "text": [
      "Warning: No connection between edge '144834980' and edge '112885002#0' found.\n",
      "Warning: Mandatory edge '112885002#0' not reachable by vehicle 'h20_17370'.\n",
      "Warning: The vehicle 'h20_17370' has no valid route.\n",
      "Warning: No connection between edge '1252589163' and edge '173196787' found.\n",
      "Warning: Mandatory edge '173196787' not reachable by vehicle 'h20_38812'.\n",
      "Warning: The vehicle 'h20_38812' has no valid route.\n",
      "Warning: No connection between edge '27773550#1' and edge '188649571' found.\n",
      "Warning: Mandatory edge '188649571' not reachable by vehicle 'h20_17451'.\n",
      "Warning: The vehicle 'h20_17451' has no valid route.\n",
      "Warning: No connection between edge '24966847#2' and edge '378355994#1' found.\n",
      "Warning: Mandatory edge '378355994#1' not reachable by vehicle 'h20_17498'.\n",
      "Warning: The vehicle 'h20_17498' has no valid route.\n",
      "Warning: No connection between edge '181512362#0' and edge '62023728#1' found.\n",
      "Warning: Mandatory edge '62023728#1' not reachable by vehicle 'h20_17675'.\n",
      "Warning: The vehicle 'h20_17675' has no valid route.\n",
      "Warning: No connection between edge '666656597' and edge '185721816#0' found.\n",
      "Warning: Mandatory edge '185721816#0' not reachable by vehicle 'h20_38927'.\n",
      "Warning: The vehicle 'h20_38927' has no valid route.\n",
      "Warning: No connection between edge '24387020#2' and edge '144160557#2' found.\n",
      "Warning: Mandatory edge '144160557#2' not reachable by vehicle 'h20_17847'.\n",
      "Warning: The vehicle 'h20_17847' has no valid route.\n",
      "Warning: No connection between edge '436233257#0' and edge '803788373#2' found.\n",
      "Warning: Mandatory edge '803788373#2' not reachable by vehicle 'h20_69119'.\n",
      "Warning: The vehicle 'h20_69119' has no valid route.\n",
      "Warning: No connection between edge '1340030512' and edge '62023730' found.\n",
      "Warning: Mandatory edge '62023730' not reachable by vehicle 'h20_18103'.\n",
      "Warning: The vehicle 'h20_18103' has no valid route.\n",
      "Warning: No connection between edge '72049640#0' and edge '143962123#1' found.\n",
      "Warning: Mandatory edge '143962123#1' not reachable by vehicle 'h20_18282'.\n",
      "Warning: The vehicle 'h20_18282' has no valid route.\n",
      "Warning: No connection between edge '6309943' and edge '112885002#0' found.\n",
      "Warning: Mandatory edge '112885002#0' not reachable by vehicle 'h20_18469'.\n",
      "Warning: The vehicle 'h20_18469' has no valid route.\n",
      "Warning: No connection between edge '436233257#0' and edge '464195202#0' found.\n",
      "Warning: Mandatory edge '464195202#0' not reachable by vehicle 'h20_69325'.\n",
      "Warning: The vehicle 'h20_69325' has no valid route.\n"
     ]
    },
    {
     "name": "stdout",
     "output_type": "stream",
     "text": [
      "Reading up to time step: 74800.07\r"
     ]
    },
    {
     "name": "stderr",
     "output_type": "stream",
     "text": [
      "Warning: No connection between edge '830656776' and edge '367820007' found.\n",
      "Warning: Mandatory edge '367820007' not reachable by vehicle 'h20_19029'.\n",
      "Warning: The vehicle 'h20_19029' has no valid route.\n",
      "Warning: No connection between edge '218996159#1' and edge '1183726070' found.\n",
      "Warning: Mandatory edge '1183726070' not reachable by vehicle 'h20_62262'.\n",
      "Warning: The vehicle 'h20_62262' has no valid route.\n",
      "Warning: No connection between edge '85418775' and edge '166769351' found.\n",
      "Warning: Mandatory edge '166769351' not reachable by vehicle 'h20_39857'.\n",
      "Warning: The vehicle 'h20_39857' has no valid route.\n",
      "Warning: No connection between edge '34995811#1' and edge '62023728#1' found.\n",
      "Warning: Mandatory edge '62023728#1' not reachable by vehicle 'h20_19909'.\n",
      "Warning: The vehicle 'h20_19909' has no valid route.\n",
      "Warning: No connection between edge '125357681#0' and edge '378355994#2' found.\n",
      "Warning: Mandatory edge '378355994#2' not reachable by vehicle 'h20_20143'.\n",
      "Warning: The vehicle 'h20_20143' has no valid route.\n",
      "Warning: No connection between edge '28117465' and edge '143962123#1' found.\n",
      "Warning: Mandatory edge '143962123#1' not reachable by vehicle 'h20_20119'.\n",
      "Warning: The vehicle 'h20_20119' has no valid route.\n"
     ]
    },
    {
     "name": "stdout",
     "output_type": "stream",
     "text": [
      "Reading up to time step: 75000.07\r"
     ]
    },
    {
     "name": "stderr",
     "output_type": "stream",
     "text": [
      "Warning: No connection between edge '105258144#4' and edge '239627592' found.\n",
      "Warning: Mandatory edge '239627592' not reachable by vehicle 'h20_62580'.\n",
      "Warning: The vehicle 'h20_62580' has no valid route.\n",
      "Warning: No connection between edge '25342393#4' and edge '1155222630' found.\n",
      "Warning: Mandatory edge '1155222630' not reachable by vehicle 'h20_51510'.\n",
      "Warning: The vehicle 'h20_51510' has no valid route.\n",
      "Warning: No connection between edge '30129956#2' and edge '92587460#0' found.\n",
      "Warning: Mandatory edge '92587460#0' not reachable by vehicle 'h20_69807'.\n",
      "Warning: The vehicle 'h20_69807' has no valid route.\n",
      "Warning: No connection between edge '1155222629' and edge '144654214#12' found.\n",
      "Warning: Mandatory edge '144654214#12' not reachable by vehicle 'h20_51585'.\n",
      "Warning: The vehicle 'h20_51585' has no valid route.\n",
      "Warning: No connection between edge '1155222629' and edge '330801423' found.\n",
      "Warning: Mandatory edge '330801423' not reachable by vehicle 'h20_46454'.\n",
      "Warning: The vehicle 'h20_46454' has no valid route.\n",
      "Warning: No connection between edge '392225275' and edge '200442724#0' found.\n",
      "Warning: Mandatory edge '200442724#0' not reachable by vehicle 'h20_62794'.\n",
      "Warning: The vehicle 'h20_62794' has no valid route.\n",
      "Warning: No connection between edge '1249423702#1' and edge '104784036#6' found.\n",
      "Warning: Mandatory edge '104784036#6' not reachable by vehicle 'h20_62773'.\n",
      "Warning: The vehicle 'h20_62773' has no valid route.\n",
      "Warning: No connection between edge '124060635' and edge '324004608' found.\n",
      "Warning: Mandatory edge '324004608' not reachable by vehicle 'h20_21914'.\n",
      "Warning: The vehicle 'h20_21914' has no valid route.\n"
     ]
    },
    {
     "name": "stdout",
     "output_type": "stream",
     "text": [
      "Reading up to time step: 75200.07\r"
     ]
    },
    {
     "name": "stderr",
     "output_type": "stream",
     "text": [
      "Warning: No connection between edge '268930518#1' and edge '281308645' found.\n",
      "Warning: Mandatory edge '281308645' not reachable by vehicle 'h20_21872'.\n",
      "Warning: The vehicle 'h20_21872' has no valid route.\n",
      "Warning: No connection between edge '40932543' and edge '161432888' found.\n",
      "Warning: Mandatory edge '161432888' not reachable by vehicle 'h20_23019'.\n",
      "Warning: The vehicle 'h20_23019' has no valid route.\n",
      "Warning: No connection between edge '105258144#2' and edge '109189350#0' found.\n",
      "Warning: Mandatory edge '109189350#0' not reachable by vehicle 'h20_63108'.\n",
      "Warning: The vehicle 'h20_63108' has no valid route.\n",
      "Warning: No connection between edge '463245967' and edge '143962123#0' found.\n",
      "Warning: Mandatory edge '143962123#0' not reachable by vehicle 'h20_23225'.\n",
      "Warning: The vehicle 'h20_23225' has no valid route.\n"
     ]
    },
    {
     "name": "stdout",
     "output_type": "stream",
     "text": [
      "Reading up to time step: 75400.07\r"
     ]
    },
    {
     "name": "stderr",
     "output_type": "stream",
     "text": [
      "Warning: No connection between edge '925261618' and edge '1051902446#0' found.\n",
      "Warning: Mandatory edge '1051902446#0' not reachable by vehicle 'h20_23525'.\n",
      "Warning: The vehicle 'h20_23525' has no valid route.\n",
      "Warning: No connection between edge '105153300#3' and edge '116158359#1' found.\n",
      "Warning: Mandatory edge '116158359#1' not reachable by vehicle 'h20_63347'.\n",
      "Warning: The vehicle 'h20_63347' has no valid route.\n",
      "Warning: No connection between edge '796536782#0' and edge '297985242' found.\n",
      "Warning: Mandatory edge '297985242' not reachable by vehicle 'h20_70657'.\n",
      "Warning: The vehicle 'h20_70657' has no valid route.\n",
      "Warning: No connection between edge '54967033#2' and edge '367820004' found.\n",
      "Warning: Mandatory edge '367820004' not reachable by vehicle 'h20_25176'.\n",
      "Warning: The vehicle 'h20_25176' has no valid route.\n"
     ]
    },
    {
     "name": "stdout",
     "output_type": "stream",
     "text": [
      "Reading up to time step: 75600.07\r"
     ]
    },
    {
     "name": "stderr",
     "output_type": "stream",
     "text": [
      "Warning: No connection between edge '49326528#1' and edge '112885002#1' found.\n",
      "Warning: Mandatory edge '112885002#1' not reachable by vehicle 'h20_25310'.\n",
      "Warning: The vehicle 'h20_25310' has no valid route.\n",
      "Warning: No connection between edge '1320965734' and edge '144160557#1' found.\n",
      "Warning: Mandatory edge '144160557#1' not reachable by vehicle 'h20_25638'.\n",
      "Warning: The vehicle 'h20_25638' has no valid route.\n",
      "Warning: No connection between edge '688357782#1' and edge '172802202' found.\n",
      "Warning: Mandatory edge '172802202' not reachable by vehicle 'h20_25856'.\n",
      "Warning: The vehicle 'h20_25856' has no valid route.\n",
      "Warning: No connection between edge '1225580165' and edge '378355994#1' found.\n",
      "Warning: Mandatory edge '378355994#1' not reachable by vehicle 'h20_25936'.\n",
      "Warning: The vehicle 'h20_25936' has no valid route.\n"
     ]
    },
    {
     "name": "stdout",
     "output_type": "stream",
     "text": [
      "Success.\n",
      "[H20] tlsCycleAdaptation …\n",
      "[H20] tlsCoordinator …\n",
      "[H20] SUMO 72000→75600 …\n",
      "[H20] finished (state saved → /home/hoai-linh.dao/Works/EVCS/CEREMA-Mini/result/experiments/03-06-hourly-scenario-meso/states/state_00075600.xml.gz)\n",
      "\n",
      "[H21] duarouter …\n"
     ]
    },
    {
     "name": "stderr",
     "output_type": "stream",
     "text": [
      "Warning: No connection between edge '203506538' and edge '86970038' found.\n",
      "Warning: Mandatory edge '86970038' not reachable by vehicle 'h21_23476'.\n",
      "Warning: The vehicle 'h21_23476' has no valid route.\n"
     ]
    },
    {
     "name": "stdout",
     "output_type": "stream",
     "text": [
      "Reading up to time step: 75800.13\r"
     ]
    },
    {
     "name": "stderr",
     "output_type": "stream",
     "text": [
      "Warning: No connection between edge '314731513' and edge '62023740' found.\n",
      "Warning: Mandatory edge '62023740' not reachable by vehicle 'h21_167'.\n",
      "Warning: The vehicle 'h21_167' has no valid route.\n",
      "Warning: No connection between edge '1249423702#1' and edge '221255108#2' found.\n",
      "Warning: Mandatory edge '221255108#2' not reachable by vehicle 'h21_30033'.\n",
      "Warning: The vehicle 'h21_30033' has no valid route.\n",
      "Warning: No connection between edge '170261982#1' and edge '143962123#1' found.\n",
      "Warning: Mandatory edge '143962123#1' not reachable by vehicle 'h21_597'.\n",
      "Warning: The vehicle 'h21_597' has no valid route.\n"
     ]
    },
    {
     "name": "stdout",
     "output_type": "stream",
     "text": [
      "Reading up to time step: 76000.13\r"
     ]
    },
    {
     "name": "stderr",
     "output_type": "stream",
     "text": [
      "Warning: No connection between edge '524960203#0' and edge '510193683' found.\n",
      "Warning: Mandatory edge '510193683' not reachable by vehicle 'h21_919'.\n",
      "Warning: The vehicle 'h21_919' has no valid route.\n",
      "Warning: No connection between edge '159082459' and edge '378355994#0' found.\n",
      "Warning: Mandatory edge '378355994#0' not reachable by vehicle 'h21_1018'.\n",
      "Warning: The vehicle 'h21_1018' has no valid route.\n",
      "Warning: No connection between edge '59265229' and edge '583225071' found.\n",
      "Warning: Mandatory edge '583225071' not reachable by vehicle 'h21_30145'.\n",
      "Warning: The vehicle 'h21_30145' has no valid route.\n",
      "Warning: No connection between edge '124060635' and edge '53188711#1' found.\n",
      "Warning: Mandatory edge '53188711#1' not reachable by vehicle 'h21_1157'.\n",
      "Warning: The vehicle 'h21_1157' has no valid route.\n",
      "Warning: No connection between edge '105258144#2' and edge '1047137595#0' found.\n",
      "Warning: Mandatory edge '1047137595#0' not reachable by vehicle 'h21_30188'.\n",
      "Warning: The vehicle 'h21_30188' has no valid route.\n"
     ]
    },
    {
     "name": "stdout",
     "output_type": "stream",
     "text": [
      "Reading up to time step: 76200.13\r"
     ]
    },
    {
     "name": "stderr",
     "output_type": "stream",
     "text": [
      "Warning: No connection between edge '1023712665#2' and edge '1183726070' found.\n",
      "Warning: Mandatory edge '1183726070' not reachable by vehicle 'h21_30254'.\n",
      "Warning: The vehicle 'h21_30254' has no valid route.\n",
      "Warning: No connection between edge '1223495683' and edge '28246546' found.\n",
      "Warning: Mandatory edge '28246546' not reachable by vehicle 'h21_30275'.\n",
      "Warning: The vehicle 'h21_30275' has no valid route.\n",
      "Warning: No connection between edge '664097419' and edge '281308645' found.\n",
      "Warning: Mandatory edge '281308645' not reachable by vehicle 'h21_1757'.\n",
      "Warning: The vehicle 'h21_1757' has no valid route.\n",
      "Warning: No connection between edge '196878695#0' and edge '143962120' found.\n",
      "Warning: Mandatory edge '143962120' not reachable by vehicle 'h21_1897'.\n",
      "Warning: The vehicle 'h21_1897' has no valid route.\n",
      "Warning: No connection between edge '425187630' and edge '1375221984' found.\n",
      "Warning: Mandatory edge '1375221984' not reachable by vehicle 'h21_33484'.\n",
      "Warning: The vehicle 'h21_33484' has no valid route.\n",
      "Warning: No connection between edge '46846761' and edge '144160557#0' found.\n",
      "Warning: Mandatory edge '144160557#0' not reachable by vehicle 'h21_2208'.\n",
      "Warning: The vehicle 'h21_2208' has no valid route.\n"
     ]
    },
    {
     "name": "stdout",
     "output_type": "stream",
     "text": [
      "Reading up to time step: 76400.13\r"
     ]
    },
    {
     "name": "stderr",
     "output_type": "stream",
     "text": [
      "Warning: No connection between edge '112798385' and edge '367820007' found.\n",
      "Warning: Mandatory edge '367820007' not reachable by vehicle 'h21_2415'.\n",
      "Warning: The vehicle 'h21_2415' has no valid route.\n",
      "Warning: No connection between edge '96717445' and edge '1263761576' found.\n",
      "Warning: Mandatory edge '1263761576' not reachable by vehicle 'h21_16523'.\n",
      "Warning: The vehicle 'h21_16523' has no valid route.\n",
      "Warning: No connection between edge '161094293#0' and edge '143962123#0' found.\n",
      "Warning: Mandatory edge '143962123#0' not reachable by vehicle 'h21_2912'.\n",
      "Warning: The vehicle 'h21_2912' has no valid route.\n",
      "Warning: No connection between edge '547697575' and edge '767313244' found.\n",
      "Warning: Mandatory edge '767313244' not reachable by vehicle 'h21_2968'.\n",
      "Warning: The vehicle 'h21_2968' has no valid route.\n",
      "Warning: No connection between edge '168191545#2' and edge '378355994#0' found.\n",
      "Warning: Mandatory edge '378355994#0' not reachable by vehicle 'h21_32786'.\n",
      "Warning: The vehicle 'h21_32786' has no valid route.\n",
      "Warning: No connection between edge '30129956#1' and edge '436245095' found.\n",
      "Warning: Mandatory edge '436245095' not reachable by vehicle 'h21_33620'.\n",
      "Warning: The vehicle 'h21_33620' has no valid route.\n"
     ]
    },
    {
     "name": "stdout",
     "output_type": "stream",
     "text": [
      "Reading up to time step: 76600.13\r"
     ]
    },
    {
     "name": "stderr",
     "output_type": "stream",
     "text": [
      "Warning: No connection between edge '85418775' and edge '25474373#1' found.\n",
      "Warning: Mandatory edge '25474373#1' not reachable by vehicle 'h21_17012'.\n",
      "Warning: The vehicle 'h21_17012' has no valid route.\n",
      "Warning: No connection between edge '94183863' and edge '27755846#3' found.\n",
      "Warning: Mandatory edge '27755846#3' not reachable by vehicle 'h21_16969'.\n",
      "Warning: The vehicle 'h21_16969' has no valid route.\n",
      "Warning: No connection between edge '326385984' and edge '1060073977' found.\n",
      "Warning: Mandatory edge '1060073977' not reachable by vehicle 'h21_3724'.\n",
      "Warning: The vehicle 'h21_3724' has no valid route.\n",
      "Warning: No connection between edge '53144438' and edge '144160557#1' found.\n",
      "Warning: Mandatory edge '144160557#1' not reachable by vehicle 'h21_3685'.\n",
      "Warning: The vehicle 'h21_3685' has no valid route.\n",
      "Warning: No connection between edge '124060635' and edge '759179144#0' found.\n",
      "Warning: Mandatory edge '759179144#0' not reachable by vehicle 'h21_4317'.\n",
      "Warning: The vehicle 'h21_4317' has no valid route.\n"
     ]
    },
    {
     "name": "stdout",
     "output_type": "stream",
     "text": [
      "Reading up to time step: 76800.13\r"
     ]
    },
    {
     "name": "stderr",
     "output_type": "stream",
     "text": [
      "Warning: No connection between edge '42413295' and edge '666540135#6' found.\n",
      "Warning: Mandatory edge '666540135#6' not reachable by vehicle 'h21_33865'.\n",
      "Warning: The vehicle 'h21_33865' has no valid route.\n"
     ]
    },
    {
     "name": "stdout",
     "output_type": "stream",
     "text": [
      "Reading up to time step: 77000.13\r"
     ]
    },
    {
     "name": "stderr",
     "output_type": "stream",
     "text": [
      "Warning: No connection between edge '124060635' and edge '49895889#1' found.\n",
      "Warning: Mandatory edge '49895889#1' not reachable by vehicle 'h21_4668'.\n",
      "Warning: The vehicle 'h21_4668' has no valid route.\n",
      "Warning: No connection between edge '105258186' and edge '104481439#1' found.\n",
      "Warning: Mandatory edge '104481439#1' not reachable by vehicle 'h21_30874'.\n",
      "Warning: The vehicle 'h21_30874' has no valid route.\n",
      "Warning: No connection between edge '150925676' and edge '81113575' found.\n",
      "Warning: Mandatory edge '81113575' not reachable by vehicle 'h21_5199'.\n",
      "Warning: The vehicle 'h21_5199' has no valid route.\n"
     ]
    },
    {
     "name": "stdout",
     "output_type": "stream",
     "text": [
      "Reading up to time step: 77200.13\r"
     ]
    },
    {
     "name": "stderr",
     "output_type": "stream",
     "text": [
      "Warning: No connection between edge '1035313831' and edge '179489015' found.\n",
      "Warning: Mandatory edge '179489015' not reachable by vehicle 'h21_32818'.\n",
      "Warning: The vehicle 'h21_32818' has no valid route.\n",
      "Warning: No connection between edge '24934838#0' and edge '132296616' found.\n",
      "Warning: Mandatory edge '132296616' not reachable by vehicle 'h21_24776'.\n",
      "Warning: The vehicle 'h21_24776' has no valid route.\n"
     ]
    },
    {
     "name": "stdout",
     "output_type": "stream",
     "text": [
      "Reading up to time step: 77400.13\r"
     ]
    },
    {
     "name": "stderr",
     "output_type": "stream",
     "text": [
      "Warning: No connection between edge '105258144#4' and edge '345787792#1' found.\n",
      "Warning: Mandatory edge '345787792#1' not reachable by vehicle 'h21_29576'.\n",
      "Warning: The vehicle 'h21_29576' has no valid route.\n",
      "Warning: No connection between edge '1013449945#1' and edge '139292065' found.\n",
      "Warning: Mandatory edge '139292065' not reachable by vehicle 'h21_31232'.\n",
      "Warning: The vehicle 'h21_31232' has no valid route.\n",
      "Warning: No connection between edge '137342753' and edge '104786676#1' found.\n",
      "Warning: Mandatory edge '104786676#1' not reachable by vehicle 'h21_31297'.\n",
      "Warning: The vehicle 'h21_31297' has no valid route.\n"
     ]
    },
    {
     "name": "stdout",
     "output_type": "stream",
     "text": [
      "Reading up to time step: 77600.13\r"
     ]
    },
    {
     "name": "stderr",
     "output_type": "stream",
     "text": [
      "Warning: No connection between edge '30344418' and edge '383076320' found.\n",
      "Warning: Mandatory edge '383076320' not reachable by vehicle 'h21_7021'.\n",
      "Warning: The vehicle 'h21_7021' has no valid route.\n",
      "Warning: No connection between edge '675839245' and edge '1060073977' found.\n",
      "Warning: Mandatory edge '1060073977' not reachable by vehicle 'h21_7201'.\n",
      "Warning: The vehicle 'h21_7201' has no valid route.\n",
      "Warning: No connection between edge '161478846#3' and edge '144160557#0' found.\n",
      "Warning: Mandatory edge '144160557#0' not reachable by vehicle 'h21_7331'.\n",
      "Warning: The vehicle 'h21_7331' has no valid route.\n",
      "Warning: No connection between edge '23698017#2' and edge '144160557#1' found.\n",
      "Warning: Mandatory edge '144160557#1' not reachable by vehicle 'h21_7261'.\n",
      "Warning: The vehicle 'h21_7261' has no valid route.\n",
      "Warning: No connection between edge '425187630' and edge '196717741' found.\n",
      "Warning: Mandatory edge '196717741' not reachable by vehicle 'h21_32844'.\n",
      "Warning: The vehicle 'h21_32844' has no valid route.\n",
      "Warning: No connection between edge '112770049#20' and edge '378355994#0' found.\n",
      "Warning: Mandatory edge '378355994#0' not reachable by vehicle 'h21_7689'.\n",
      "Warning: The vehicle 'h21_7689' has no valid route.\n"
     ]
    },
    {
     "name": "stdout",
     "output_type": "stream",
     "text": [
      "Reading up to time step: 77800.13\r"
     ]
    },
    {
     "name": "stderr",
     "output_type": "stream",
     "text": [
      "Warning: No connection between edge '115661497' and edge '188649571' found.\n",
      "Warning: Mandatory edge '188649571' not reachable by vehicle 'h21_7819'.\n",
      "Warning: The vehicle 'h21_7819' has no valid route.\n",
      "Warning: No connection between edge '1249423702#0' and edge '239732911#5' found.\n",
      "Warning: Mandatory edge '239732911#5' not reachable by vehicle 'h21_31504'.\n",
      "Warning: The vehicle 'h21_31504' has no valid route.\n",
      "Warning: No connection between edge '150925676' and edge '626118735' found.\n",
      "Warning: Mandatory edge '626118735' not reachable by vehicle 'h21_8128'.\n",
      "Warning: The vehicle 'h21_8128' has no valid route.\n",
      "Warning: No connection between edge '239862143#0' and edge '55262562' found.\n",
      "Warning: Mandatory edge '55262562' not reachable by vehicle 'h21_31549'.\n",
      "Warning: The vehicle 'h21_31549' has no valid route.\n",
      "Warning: No connection between edge '1249423702#1' and edge '33459674#1' found.\n",
      "Warning: Mandatory edge '33459674#1' not reachable by vehicle 'h21_32736'.\n",
      "Warning: The vehicle 'h21_32736' has no valid route.\n",
      "Warning: No connection between edge '60181299' and edge '143962123#0' found.\n",
      "Warning: Mandatory edge '143962123#0' not reachable by vehicle 'h21_8502'.\n",
      "Warning: The vehicle 'h21_8502' has no valid route.\n"
     ]
    },
    {
     "name": "stdout",
     "output_type": "stream",
     "text": [
      "Reading up to time step: 78000.13\r"
     ]
    },
    {
     "name": "stderr",
     "output_type": "stream",
     "text": [
      "Warning: No connection between edge '360829774' and edge '143962123#2' found.\n",
      "Warning: Mandatory edge '143962123#2' not reachable by vehicle 'h21_23120'.\n",
      "Warning: The vehicle 'h21_23120' has no valid route.\n",
      "Warning: No connection between edge '156026386' and edge '156709995' found.\n",
      "Warning: Mandatory edge '156709995' not reachable by vehicle 'h21_34544'.\n",
      "Warning: The vehicle 'h21_34544' has no valid route.\n",
      "Warning: No connection between edge '42413295' and edge '371642442' found.\n",
      "Warning: Mandatory edge '371642442' not reachable by vehicle 'h21_33076'.\n",
      "Warning: The vehicle 'h21_33076' has no valid route.\n"
     ]
    },
    {
     "name": "stdout",
     "output_type": "stream",
     "text": [
      "Reading up to time step: 78200.13\r"
     ]
    },
    {
     "name": "stderr",
     "output_type": "stream",
     "text": [
      "Warning: No connection between edge '683976845' and edge '313097991' found.\n",
      "Warning: Mandatory edge '313097991' not reachable by vehicle 'h21_19865'.\n",
      "Warning: The vehicle 'h21_19865' has no valid route.\n",
      "Warning: No connection between edge '360777558' and edge '386307421#1' found.\n",
      "Warning: Mandatory edge '386307421#1' not reachable by vehicle 'h21_9377'.\n",
      "Warning: The vehicle 'h21_9377' has no valid route.\n",
      "Warning: No connection between edge '925261618' and edge '170501334' found.\n",
      "Warning: Mandatory edge '170501334' not reachable by vehicle 'h21_14189'.\n",
      "Warning: The vehicle 'h21_14189' has no valid route.\n",
      "Warning: No connection between edge '239630567#1' and edge '55262562' found.\n",
      "Warning: Mandatory edge '55262562' not reachable by vehicle 'h21_31813'.\n",
      "Warning: The vehicle 'h21_31813' has no valid route.\n",
      "Warning: No connection between edge '467407589#0' and edge '62023740' found.\n",
      "Warning: Mandatory edge '62023740' not reachable by vehicle 'h21_9721'.\n",
      "Warning: The vehicle 'h21_9721' has no valid route.\n"
     ]
    },
    {
     "name": "stdout",
     "output_type": "stream",
     "text": [
      "Reading up to time step: 78400.13\r"
     ]
    },
    {
     "name": "stderr",
     "output_type": "stream",
     "text": [
      "Warning: No connection between edge '57683771' and edge '297985242' found.\n",
      "Warning: Mandatory edge '297985242' not reachable by vehicle 'h21_34743'.\n",
      "Warning: The vehicle 'h21_34743' has no valid route.\n",
      "Warning: No connection between edge '385535521#1' and edge '367820004' found.\n",
      "Warning: Mandatory edge '367820004' not reachable by vehicle 'h21_10220'.\n",
      "Warning: The vehicle 'h21_10220' has no valid route.\n",
      "Warning: No connection between edge '6313238#2' and edge '144160557#0' found.\n",
      "Warning: Mandatory edge '144160557#0' not reachable by vehicle 'h21_10299'.\n",
      "Warning: The vehicle 'h21_10299' has no valid route.\n"
     ]
    },
    {
     "name": "stdout",
     "output_type": "stream",
     "text": [
      "Reading up to time step: 78600.13\r"
     ]
    },
    {
     "name": "stderr",
     "output_type": "stream",
     "text": [
      "Warning: No connection between edge '30129956#1' and edge '297983009#2' found.\n",
      "Warning: Mandatory edge '297983009#2' not reachable by vehicle 'h21_34900'.\n",
      "Warning: The vehicle 'h21_34900' has no valid route.\n",
      "Warning: No connection between edge '103261611#0' and edge '202809179' found.\n",
      "Warning: Mandatory edge '202809179' not reachable by vehicle 'h21_20732'.\n",
      "Warning: The vehicle 'h21_20732' has no valid route.\n",
      "Warning: No connection between edge '143847952#1' and edge '378355994#0' found.\n",
      "Warning: Mandatory edge '378355994#0' not reachable by vehicle 'h21_11139'.\n",
      "Warning: The vehicle 'h21_11139' has no valid route.\n",
      "Warning: No connection between edge '27769528#0' and edge '62023728#0' found.\n",
      "Warning: Mandatory edge '62023728#0' not reachable by vehicle 'h21_11212'.\n",
      "Warning: The vehicle 'h21_11212' has no valid route.\n",
      "Warning: No connection between edge '52513136#2' and edge '144160557#0' found.\n",
      "Warning: Mandatory edge '144160557#0' not reachable by vehicle 'h21_11359'.\n",
      "Warning: The vehicle 'h21_11359' has no valid route.\n",
      "Warning: No connection between edge '1223495683' and edge '493201534' found.\n",
      "Warning: Mandatory edge '493201534' not reachable by vehicle 'h21_32204'.\n",
      "Warning: The vehicle 'h21_32204' has no valid route.\n"
     ]
    },
    {
     "name": "stdout",
     "output_type": "stream",
     "text": [
      "Reading up to time step: 78800.13\r"
     ]
    },
    {
     "name": "stderr",
     "output_type": "stream",
     "text": [
      "Warning: No connection between edge '85418775' and edge '463971686' found.\n",
      "Warning: Mandatory edge '463971686' not reachable by vehicle 'h21_21023'.\n",
      "Warning: The vehicle 'h21_21023' has no valid route.\n",
      "Warning: No connection between edge '156783346#2' and edge '132296616' found.\n",
      "Warning: Mandatory edge '132296616' not reachable by vehicle 'h21_26223'.\n",
      "Warning: The vehicle 'h21_26223' has no valid route.\n",
      "Warning: No connection between edge '717578058#0' and edge '144160557#1' found.\n",
      "Warning: Mandatory edge '144160557#1' not reachable by vehicle 'h21_11961'.\n",
      "Warning: The vehicle 'h21_11961' has no valid route.\n"
     ]
    },
    {
     "name": "stdout",
     "output_type": "stream",
     "text": [
      "Reading up to time step: 79000.13\r"
     ]
    },
    {
     "name": "stderr",
     "output_type": "stream",
     "text": [
      "Warning: No connection between edge '150925676' and edge '161386581#0' found.\n",
      "Warning: Mandatory edge '161386581#0' not reachable by vehicle 'h21_12721'.\n",
      "Warning: The vehicle 'h21_12721' has no valid route.\n",
      "Warning: No connection between edge '72049672' and edge '62023740' found.\n",
      "Warning: Mandatory edge '62023740' not reachable by vehicle 'h21_12826'.\n",
      "Warning: The vehicle 'h21_12826' has no valid route.\n",
      "Warning: No connection between edge '286261155#0' and edge '767313244' found.\n",
      "Warning: Mandatory edge '767313244' not reachable by vehicle 'h21_32911'.\n",
      "Warning: The vehicle 'h21_32911' has no valid route.\n",
      "Warning: No connection between edge '176322854#0' and edge '144160557#1' found.\n",
      "Warning: Mandatory edge '144160557#1' not reachable by vehicle 'h21_13139'.\n",
      "Warning: The vehicle 'h21_13139' has no valid route.\n"
     ]
    },
    {
     "name": "stdout",
     "output_type": "stream",
     "text": [
      "Reading up to time step: 79200.13\r"
     ]
    },
    {
     "name": "stderr",
     "output_type": "stream",
     "text": [
      "Warning: No connection between edge '105258144#1' and edge '330644739' found.\n",
      "Warning: Mandatory edge '330644739' not reachable by vehicle 'h21_29611'.\n",
      "Warning: The vehicle 'h21_29611' has no valid route.\n",
      "Warning: No connection between edge '404690664' and edge '62023741' found.\n",
      "Warning: Mandatory edge '62023741' not reachable by vehicle 'h21_15275'.\n",
      "Warning: The vehicle 'h21_15275' has no valid route.\n",
      "Warning: No connection between edge '42720430#0' and edge '55262562' found.\n",
      "Warning: Mandatory edge '55262562' not reachable by vehicle 'h21_32643'.\n",
      "Warning: The vehicle 'h21_32643' has no valid route.\n",
      "Warning: No connection between edge '161048981#4' and edge '62023741' found.\n",
      "Warning: Mandatory edge '62023741' not reachable by vehicle 'h21_13932'.\n",
      "Warning: The vehicle 'h21_13932' has no valid route.\n",
      "Warning: No connection between edge '25300391' and edge '112885002#0' found.\n",
      "Warning: Mandatory edge '112885002#0' not reachable by vehicle 'h21_23223'.\n",
      "Warning: The vehicle 'h21_23223' has no valid route.\n"
     ]
    },
    {
     "name": "stdout",
     "output_type": "stream",
     "text": [
      "Success.\n",
      "[H21] tlsCycleAdaptation …\n",
      "[H21] tlsCoordinator …\n",
      "[H21] SUMO 75600→79200 …\n",
      "[H21] finished (state saved → /home/hoai-linh.dao/Works/EVCS/CEREMA-Mini/result/experiments/03-06-hourly-scenario-meso/states/state_00079200.xml.gz)\n",
      "\n",
      "[H22] duarouter …\n",
      "Reading up to time step: 79400.20\r"
     ]
    },
    {
     "name": "stderr",
     "output_type": "stream",
     "text": [
      "Warning: No connection between edge '41706167#1' and edge '510193683' found.\n",
      "Warning: Mandatory edge '510193683' not reachable by vehicle 'h22_15481'.\n",
      "Warning: The vehicle 'h22_15481' has no valid route.\n"
     ]
    },
    {
     "name": "stdout",
     "output_type": "stream",
     "text": [
      "Reading up to time step: 79800.20\r"
     ]
    },
    {
     "name": "stderr",
     "output_type": "stream",
     "text": [
      "Warning: No connection between edge '169754971' and edge '144160557#2' found.\n",
      "Warning: Mandatory edge '144160557#2' not reachable by vehicle 'h22_1047'.\n",
      "Warning: The vehicle 'h22_1047' has no valid route.\n",
      "Warning: No connection between edge '303225593#0' and edge '393286799#2' found.\n",
      "Warning: Mandatory edge '393286799#2' not reachable by vehicle 'h22_10598'.\n",
      "Warning: The vehicle 'h22_10598' has no valid route.\n",
      "Warning: No connection between edge '6311287#3' and edge '367820007' found.\n",
      "Warning: Mandatory edge '367820007' not reachable by vehicle 'h22_1473'.\n",
      "Warning: The vehicle 'h22_1473' has no valid route.\n"
     ]
    },
    {
     "name": "stdout",
     "output_type": "stream",
     "text": [
      "Reading up to time step: 80000.20\r"
     ]
    },
    {
     "name": "stderr",
     "output_type": "stream",
     "text": [
      "Warning: No connection between edge '1249423704' and edge '383315938' found.\n",
      "Warning: Mandatory edge '383315938' not reachable by vehicle 'h22_20739'.\n",
      "Warning: The vehicle 'h22_20739' has no valid route.\n",
      "Warning: No connection between edge '28088614#2' and edge '116158366#1' found.\n",
      "Warning: Mandatory edge '116158366#1' not reachable by vehicle 'h22_20803'.\n",
      "Warning: The vehicle 'h22_20803' has no valid route.\n"
     ]
    },
    {
     "name": "stdout",
     "output_type": "stream",
     "text": [
      "Reading up to time step: 80200.20\r"
     ]
    },
    {
     "name": "stderr",
     "output_type": "stream",
     "text": [
      "Warning: No connection between edge '203506538' and edge '146839521#1' found.\n",
      "Warning: Mandatory edge '146839521#1' not reachable by vehicle 'h22_16388'.\n",
      "Warning: The vehicle 'h22_16388' has no valid route.\n"
     ]
    },
    {
     "name": "stdout",
     "output_type": "stream",
     "text": [
      "Reading up to time step: 80400.20\r"
     ]
    },
    {
     "name": "stderr",
     "output_type": "stream",
     "text": [
      "Warning: No connection between edge '1138868534' and edge '281308645' found.\n",
      "Warning: Mandatory edge '281308645' not reachable by vehicle 'h22_2514'.\n",
      "Warning: The vehicle 'h22_2514' has no valid route.\n"
     ]
    },
    {
     "name": "stdout",
     "output_type": "stream",
     "text": [
      "Reading up to time step: 80600.20\r"
     ]
    },
    {
     "name": "stderr",
     "output_type": "stream",
     "text": [
      "Warning: No connection between edge '210412779' and edge '105211073#1' found.\n",
      "Warning: Mandatory edge '105211073#1' not reachable by vehicle 'h22_21076'.\n",
      "Warning: The vehicle 'h22_21076' has no valid route.\n",
      "Warning: No connection between edge '35162772#1' and edge '143962123#2' found.\n",
      "Warning: Mandatory edge '143962123#2' not reachable by vehicle 'h22_3363'.\n",
      "Warning: The vehicle 'h22_3363' has no valid route.\n"
     ]
    },
    {
     "name": "stdout",
     "output_type": "stream",
     "text": [
      "Reading up to time step: 80800.20\r"
     ]
    },
    {
     "name": "stderr",
     "output_type": "stream",
     "text": [
      "Warning: No connection between edge '156026392' and edge '61568758' found.\n",
      "Warning: Mandatory edge '61568758' not reachable by vehicle 'h22_23313'.\n",
      "Warning: The vehicle 'h22_23313' has no valid route.\n"
     ]
    },
    {
     "name": "stdout",
     "output_type": "stream",
     "text": [
      "Reading up to time step: 81000.20\r"
     ]
    },
    {
     "name": "stderr",
     "output_type": "stream",
     "text": [
      "Warning: No connection between edge '53347776#0' and edge '62023741' found.\n",
      "Warning: Mandatory edge '62023741' not reachable by vehicle 'h22_4018'.\n",
      "Warning: The vehicle 'h22_4018' has no valid route.\n",
      "Warning: No connection between edge '46988963#2' and edge '62023740' found.\n",
      "Warning: Mandatory edge '62023740' not reachable by vehicle 'h22_4087'.\n",
      "Warning: The vehicle 'h22_4087' has no valid route.\n",
      "Warning: No connection between edge '624358284#3' and edge '510193683' found.\n",
      "Warning: Mandatory edge '510193683' not reachable by vehicle 'h22_4109'.\n",
      "Warning: The vehicle 'h22_4109' has no valid route.\n",
      "Warning: No connection between edge '105140393#4' and edge '139292065' found.\n",
      "Warning: Mandatory edge '139292065' not reachable by vehicle 'h22_21351'.\n",
      "Warning: The vehicle 'h22_21351' has no valid route.\n",
      "Warning: No connection between edge '137342754' and edge '27638463#3' found.\n",
      "Warning: Mandatory edge '27638463#3' not reachable by vehicle 'h22_20148'.\n",
      "Warning: The vehicle 'h22_20148' has no valid route.\n",
      "Warning: No connection between edge '303225593#3' and edge '968470435#1' found.\n",
      "Warning: Mandatory edge '968470435#1' not reachable by vehicle 'h22_12353'.\n",
      "Warning: The vehicle 'h22_12353' has no valid route.\n"
     ]
    },
    {
     "name": "stdout",
     "output_type": "stream",
     "text": [
      "Reading up to time step: 81200.20\r"
     ]
    },
    {
     "name": "stderr",
     "output_type": "stream",
     "text": [
      "Warning: No connection between edge '94183863' and edge '134199911' found.\n",
      "Warning: Mandatory edge '134199911' not reachable by vehicle 'h22_12582'.\n",
      "Warning: The vehicle 'h22_12582' has no valid route.\n",
      "Warning: No connection between edge '176666473#1' and edge '1097309372' found.\n",
      "Warning: Mandatory edge '1097309372' not reachable by vehicle 'h22_17138'.\n",
      "Warning: The vehicle 'h22_17138' has no valid route.\n"
     ]
    },
    {
     "name": "stdout",
     "output_type": "stream",
     "text": [
      "Reading up to time step: 81400.20\r"
     ]
    },
    {
     "name": "stderr",
     "output_type": "stream",
     "text": [
      "Warning: No connection between edge '1155222631' and edge '135037571#4' found.\n",
      "Warning: Mandatory edge '135037571#4' not reachable by vehicle 'h22_17177'.\n",
      "Warning: The vehicle 'h22_17177' has no valid route.\n",
      "Warning: No connection between edge '365677373#3' and edge '386307421#1' found.\n",
      "Warning: Mandatory edge '386307421#1' not reachable by vehicle 'h22_5459'.\n",
      "Warning: The vehicle 'h22_5459' has no valid route.\n"
     ]
    },
    {
     "name": "stdout",
     "output_type": "stream",
     "text": [
      "Reading up to time step: 81800.20\r"
     ]
    },
    {
     "name": "stderr",
     "output_type": "stream",
     "text": [
      "Warning: No connection between edge '165250099' and edge '62023740' found.\n",
      "Warning: Mandatory edge '62023740' not reachable by vehicle 'h22_6004'.\n",
      "Warning: The vehicle 'h22_6004' has no valid route.\n",
      "Warning: No connection between edge '103261611#0' and edge '123661949#4' found.\n",
      "Warning: Mandatory edge '123661949#4' not reachable by vehicle 'h22_15398'.\n",
      "Warning: The vehicle 'h22_15398' has no valid route.\n",
      "Warning: No connection between edge '103267981#0' and edge '32118112#1' found.\n",
      "Warning: Mandatory edge '32118112#1' not reachable by vehicle 'h22_13353'.\n",
      "Warning: The vehicle 'h22_13353' has no valid route.\n"
     ]
    },
    {
     "name": "stdout",
     "output_type": "stream",
     "text": [
      "Reading up to time step: 82000.20\r"
     ]
    },
    {
     "name": "stderr",
     "output_type": "stream",
     "text": [
      "Warning: No connection between edge '150283176#0' and edge '367820004' found.\n",
      "Warning: Mandatory edge '367820004' not reachable by vehicle 'h22_6678'.\n",
      "Warning: The vehicle 'h22_6678' has no valid route.\n"
     ]
    },
    {
     "name": "stdout",
     "output_type": "stream",
     "text": [
      "Reading up to time step: 82200.20\r"
     ]
    },
    {
     "name": "stderr",
     "output_type": "stream",
     "text": [
      "Warning: No connection between edge '35156292' and edge '386307421#0' found.\n",
      "Warning: Mandatory edge '386307421#0' not reachable by vehicle 'h22_7246'.\n",
      "Warning: The vehicle 'h22_7246' has no valid route.\n"
     ]
    },
    {
     "name": "stdout",
     "output_type": "stream",
     "text": [
      "Reading up to time step: 82400.20\r"
     ]
    },
    {
     "name": "stderr",
     "output_type": "stream",
     "text": [
      "Warning: No connection between edge '653535541#3' and edge '143962120' found.\n",
      "Warning: Mandatory edge '143962120' not reachable by vehicle 'h22_7488'.\n",
      "Warning: The vehicle 'h22_7488' has no valid route.\n",
      "Warning: No connection between edge '876526152#0' and edge '116158366#0' found.\n",
      "Warning: Mandatory edge '116158366#0' not reachable by vehicle 'h22_22230'.\n",
      "Warning: The vehicle 'h22_22230' has no valid route.\n"
     ]
    },
    {
     "name": "stdout",
     "output_type": "stream",
     "text": [
      "Reading up to time step: 82600.20\r"
     ]
    },
    {
     "name": "stderr",
     "output_type": "stream",
     "text": [
      "Warning: No connection between edge '105258186' and edge '261166586#0' found.\n",
      "Warning: Mandatory edge '261166586#0' not reachable by vehicle 'h22_20165'.\n",
      "Warning: The vehicle 'h22_20165' has no valid route.\n"
     ]
    },
    {
     "name": "stdout",
     "output_type": "stream",
     "text": [
      "Success.up to time step: 82800.20\n",
      "[H22] tlsCycleAdaptation …\n",
      "[H22] tlsCoordinator …\n",
      "[H22] SUMO 79200→82800 …\n",
      "[H22] finished (state saved → /home/hoai-linh.dao/Works/EVCS/CEREMA-Mini/result/experiments/03-06-hourly-scenario-meso/states/state_00082800.xml.gz)\n",
      "\n",
      "[H23] duarouter …\n",
      "Reading up to time step: 83200.35\r"
     ]
    },
    {
     "name": "stderr",
     "output_type": "stream",
     "text": [
      "Warning: No connection between edge '162767523#8' and edge '510193683' found.\n",
      "Warning: Mandatory edge '510193683' not reachable by vehicle 'h23_549'.\n",
      "Warning: The vehicle 'h23_549' has no valid route.\n"
     ]
    },
    {
     "name": "stdout",
     "output_type": "stream",
     "text": [
      "Reading up to time step: 83400.35\r"
     ]
    },
    {
     "name": "stderr",
     "output_type": "stream",
     "text": [
      "Warning: No connection between edge '144634780#1' and edge '378355994#0' found.\n",
      "Warning: Mandatory edge '378355994#0' not reachable by vehicle 'h23_606'.\n",
      "Warning: The vehicle 'h23_606' has no valid route.\n",
      "Warning: No connection between edge '1065585360' and edge '1155222630' found.\n",
      "Warning: Mandatory edge '1155222630' not reachable by vehicle 'h23_13064'.\n",
      "Warning: The vehicle 'h23_13064' has no valid route.\n"
     ]
    },
    {
     "name": "stdout",
     "output_type": "stream",
     "text": [
      "Reading up to time step: 83600.35\r"
     ]
    },
    {
     "name": "stderr",
     "output_type": "stream",
     "text": [
      "Warning: No connection between edge '105258144#2' and edge '26557020#5' found.\n",
      "Warning: Mandatory edge '26557020#5' not reachable by vehicle 'h23_13503'.\n",
      "Warning: The vehicle 'h23_13503' has no valid route.\n"
     ]
    },
    {
     "name": "stdout",
     "output_type": "stream",
     "text": [
      "Reading up to time step: 83800.35\r"
     ]
    },
    {
     "name": "stderr",
     "output_type": "stream",
     "text": [
      "Warning: No connection between edge '103268024' and edge '68286509#3' found.\n",
      "Warning: Mandatory edge '68286509#3' not reachable by vehicle 'h23_6595'.\n",
      "Warning: The vehicle 'h23_6595' has no valid route.\n",
      "Warning: No connection between edge '24949964#1' and edge '899788866' found.\n",
      "Warning: Mandatory edge '899788866' not reachable by vehicle 'h23_10585'.\n",
      "Warning: The vehicle 'h23_10585' has no valid route.\n"
     ]
    },
    {
     "name": "stdout",
     "output_type": "stream",
     "text": [
      "Reading up to time step: 84000.35\r"
     ]
    },
    {
     "name": "stderr",
     "output_type": "stream",
     "text": [
      "Warning: No connection between edge '137342752' and edge '210416844' found.\n",
      "Warning: Mandatory edge '210416844' not reachable by vehicle 'h23_13665'.\n",
      "Warning: The vehicle 'h23_13665' has no valid route.\n",
      "Warning: No connection between edge '94183863' and edge '377158195' found.\n",
      "Warning: Mandatory edge '377158195' not reachable by vehicle 'h23_9560'.\n",
      "Warning: The vehicle 'h23_9560' has no valid route.\n"
     ]
    },
    {
     "name": "stdout",
     "output_type": "stream",
     "text": [
      "Reading up to time step: 84200.35\r"
     ]
    },
    {
     "name": "stderr",
     "output_type": "stream",
     "text": [
      "Warning: No connection between edge '210648062#1' and edge '1155222630' found.\n",
      "Warning: Mandatory edge '1155222630' not reachable by vehicle 'h23_10766'.\n",
      "Warning: The vehicle 'h23_10766' has no valid route.\n",
      "Warning: No connection between edge '178150848#5' and edge '62023728#0' found.\n",
      "Warning: Mandatory edge '62023728#0' not reachable by vehicle 'h23_2437'.\n",
      "Warning: The vehicle 'h23_2437' has no valid route.\n"
     ]
    },
    {
     "name": "stdout",
     "output_type": "stream",
     "text": [
      "Reading up to time step: 84600.35\r"
     ]
    },
    {
     "name": "stderr",
     "output_type": "stream",
     "text": [
      "Warning: No connection between edge '157688070#1' and edge '378355994#1' found.\n",
      "Warning: Mandatory edge '378355994#1' not reachable by vehicle 'h23_2491'.\n",
      "Warning: The vehicle 'h23_2491' has no valid route.\n",
      "Warning: No connection between edge '436233257#1' and edge '425204407' found.\n",
      "Warning: Mandatory edge '425204407' not reachable by vehicle 'h23_15489'.\n",
      "Warning: The vehicle 'h23_15489' has no valid route.\n"
     ]
    },
    {
     "name": "stdout",
     "output_type": "stream",
     "text": [
      "Reading up to time step: 84800.35\r"
     ]
    },
    {
     "name": "stderr",
     "output_type": "stream",
     "text": [
      "Warning: No connection between edge '683976845' and edge '1118638279' found.\n",
      "Warning: Mandatory edge '1118638279' not reachable by vehicle 'h23_7572'.\n",
      "Warning: The vehicle 'h23_7572' has no valid route.\n",
      "Warning: No connection between edge '434130076' and edge '378355994#2' found.\n",
      "Warning: Mandatory edge '378355994#2' not reachable by vehicle 'h23_2870'.\n",
      "Warning: The vehicle 'h23_2870' has no valid route.\n"
     ]
    },
    {
     "name": "stdout",
     "output_type": "stream",
     "text": [
      "Reading up to time step: 85000.35\r"
     ]
    },
    {
     "name": "stderr",
     "output_type": "stream",
     "text": [
      "Warning: No connection between edge '94183863' and edge '482446027#3' found.\n",
      "Warning: Mandatory edge '482446027#3' not reachable by vehicle 'h23_7891'.\n",
      "Warning: The vehicle 'h23_7891' has no valid route.\n",
      "Warning: No connection between edge '688357782#1' and edge '165945025' found.\n",
      "Warning: Mandatory edge '165945025' not reachable by vehicle 'h23_3157'.\n",
      "Warning: The vehicle 'h23_3157' has no valid route.\n"
     ]
    },
    {
     "name": "stdout",
     "output_type": "stream",
     "text": [
      "Reading up to time step: 85200.35\r"
     ]
    },
    {
     "name": "stderr",
     "output_type": "stream",
     "text": [
      "Warning: No connection between edge '1223495683' and edge '1252266889' found.\n",
      "Warning: Mandatory edge '1252266889' not reachable by vehicle 'h23_14478'.\n",
      "Warning: The vehicle 'h23_14478' has no valid route.\n"
     ]
    },
    {
     "name": "stdout",
     "output_type": "stream",
     "text": [
      "Reading up to time step: 85800.35\r"
     ]
    },
    {
     "name": "stderr",
     "output_type": "stream",
     "text": [
      "Warning: No connection between edge '793930821' and edge '430174366' found.\n",
      "Warning: Mandatory edge '430174366' not reachable by vehicle 'h23_4344'.\n",
      "Warning: The vehicle 'h23_4344' has no valid route.\n"
     ]
    },
    {
     "name": "stdout",
     "output_type": "stream",
     "text": [
      "Reading up to time step: 86000.35\r"
     ]
    },
    {
     "name": "stderr",
     "output_type": "stream",
     "text": [
      "Warning: No connection between edge '1249423704' and edge '135168721' found.\n",
      "Warning: Mandatory edge '135168721' not reachable by vehicle 'h23_14607'.\n",
      "Warning: The vehicle 'h23_14607' has no valid route.\n"
     ]
    },
    {
     "name": "stdout",
     "output_type": "stream",
     "text": [
      "Reading up to time step: 86200.35\r"
     ]
    },
    {
     "name": "stderr",
     "output_type": "stream",
     "text": [
      "Warning: No connection between edge '925261618' and edge '24257719#1' found.\n",
      "Warning: Mandatory edge '24257719#1' not reachable by vehicle 'h23_4583'.\n",
      "Warning: The vehicle 'h23_4583' has no valid route.\n",
      "Warning: No connection between edge '103267981#1' and edge '28510103#1' found.\n",
      "Warning: Mandatory edge '28510103#1' not reachable by vehicle 'h23_9061'.\n",
      "Warning: The vehicle 'h23_9061' has no valid route.\n",
      "Warning: No connection between edge '315640848' and edge '767313244' found.\n",
      "Warning: Mandatory edge '767313244' not reachable by vehicle 'h23_4764'.\n",
      "Warning: The vehicle 'h23_4764' has no valid route.\n",
      "Warning: No connection between edge '626118688' and edge '367820004' found.\n",
      "Warning: Mandatory edge '367820004' not reachable by vehicle 'h23_4844'.\n",
      "Warning: The vehicle 'h23_4844' has no valid route.\n"
     ]
    },
    {
     "name": "stdout",
     "output_type": "stream",
     "text": [
      "Success.up to time step: 86400.35\n",
      "[H23] tlsCycleAdaptation …\n",
      "[H23] tlsCoordinator …\n",
      "[H23] SUMO 82800→86400 …\n",
      "[H23] finished (state saved → /home/hoai-linh.dao/Works/EVCS/CEREMA-Mini/result/experiments/03-06-hourly-scenario-meso/states/state_00086400.xml.gz)\n",
      "\n",
      "All 24 hourly simulations finished\n"
     ]
    }
   ],
   "source": [
    "#!/usr/bin/env python3\n",
    "\"\"\"\n",
    "hourly_sumo_pipeline.py\n",
    "-----------------------\n",
    "Chạy 24 phiên mô phỏng SUMO, mỗi giờ một phiên, với khả năng resume.\n",
    "Mỗi artefact (trips, routes, TLS cycle, TLS offset, state, outputs) được\n",
    "lưu trữ và nếu đã tồn tại thì bỏ qua bước đó.\n",
    "\n",
    "Sửa lỗi liên quan đến TLS khi load state:\n",
    "  - Gom tất cả tlLogic từ 00..hour thành một file merged, để không có duplicate.\n",
    "  - Lưu state đúng vào thời điểm kết thúc mỗi giờ (3600, 7200, …).\n",
    "\"\"\"\n",
    "\n",
    "from __future__ import annotations\n",
    "\n",
    "import os\n",
    "import sys\n",
    "import subprocess\n",
    "from pathlib import Path\n",
    "from typing import Optional, Dict\n",
    "import xml.etree.ElementTree as ET\n",
    "\n",
    "# ---------------------------------------------------------------------------\n",
    "#  Project helpers và cấu hình\n",
    "# ---------------------------------------------------------------------------\n",
    "\n",
    "sys.path.append(\"/home/hoai-linh.dao/Works/EVCS/CEREMA-Mini/src\")\n",
    "\n",
    "from simulationHelpers import od2tripsForAllOLD  # noqa: E402\n",
    "from config import TLSCYCLEADAPTATION_PY, TLSCOORDINATOR_PY  # noqa: E402\n",
    "\n",
    "# ---------------------------------------------------------------------------\n",
    "#  Constants\n",
    "# ---------------------------------------------------------------------------\n",
    "\n",
    "THREADS = min(4, os.cpu_count() or 1)\n",
    "os.environ[\"OMP_NUM_THREADS\"] = str(THREADS)\n",
    "\n",
    "NET_XML = \"/home/hoai-linh.dao/Works/EVCS/CEREMA-Mini/result/net-creation/310525-AMP-test-func/connected-network.net.xml\"\n",
    "TAZ_XML = \"/home/hoai-linh.dao/Works/EVCS/CEREMA-Mini/result/net-creation/310525-AMP-test-func/taz.xml\"\n",
    "VTYPES_XML = \"/home/hoai-linh.dao/Works/EVCS/CEREMA-Mini/data/additional-files/vtypes/eidm-1.xml\"\n",
    "ODS_DIR = \"/home/hoai-linh.dao/Works/EVCS/CEREMA-Mini/data/processed-data/total_scenario/old-form-all\"\n",
    "\n",
    "SIM_DIR = Path(\"/home/hoai-linh.dao/Works/EVCS/CEREMA-Mini/result/experiments/03-06-hourly-scenario-meso\")\n",
    "TRIPS_DIR = SIM_DIR / \"trips\"\n",
    "ROUTES_DIR = SIM_DIR / \"routes\"\n",
    "TLS_DIR = SIM_DIR / \"tls\"\n",
    "OUTPUTS_DIR = SIM_DIR / \"outputs\"\n",
    "STATES_DIR = SIM_DIR / \"states\"\n",
    "LOGS_DIR = SIM_DIR / \"logs\"\n",
    "\n",
    "for p in (TRIPS_DIR, ROUTES_DIR, TLS_DIR, OUTPUTS_DIR, STATES_DIR, LOGS_DIR):\n",
    "    p.mkdir(parents=True, exist_ok=True)\n",
    "\n",
    "HOUR = 3600\n",
    "STEP_LENGTH = 1.0\n",
    "SEED = \"2005\"\n",
    "TIME_TO_TELEPORT = \"120\"\n",
    "PROGRAM_ID = \"a\"\n",
    "\n",
    "# ---------------------------------------------------------------------------\n",
    "#  Helper functions\n",
    "# ---------------------------------------------------------------------------\n",
    "\n",
    "def outputs_complete(tag: str) -> bool:\n",
    "    outdir = OUTPUTS_DIR / f\"hour_{tag}\"\n",
    "    files = [\n",
    "        outdir / \"summary.xml\",\n",
    "        outdir / \"tripinfo.xml\",\n",
    "        outdir / \"statistics.xml\",\n",
    "        outdir / \"vehRoutes.xml\",\n",
    "        outdir / \"laneChanges.xml\",\n",
    "        outdir / \"collisions.xml\",\n",
    "    ]\n",
    "    if not all(f.exists() and f.stat().st_size > 0 for f in files):\n",
    "        return False\n",
    "\n",
    "    try:\n",
    "        content = (outdir / \"statistics.xml\").read_text(encoding=\"utf-8\")\n",
    "    except Exception:\n",
    "        return False\n",
    "\n",
    "    remainder = content.split(\"-->\", maxsplit=1)[-1]\n",
    "    return \"<performance\" in remainder\n",
    "\n",
    "def state_path(end_time: int) -> Path:\n",
    "    return STATES_DIR / f\"state_{end_time:08d}.xml.gz\"\n",
    "\n",
    "\n",
    "def merge_tls_cycles(hour: int) -> Path:\n",
    "    \"\"\"\n",
    "    Gom tất cả tl_cycle_jj.add.xml từ j=0..hour thành một file merged, sao cho\n",
    "    mỗi <tlLogic id=\"X\"> chỉ xuất hiện lần cuối (giờ muộn nhất) trong merged file.\n",
    "    Lưu vào TLS_DIR/tls_cycle_merged_HH.add.xml.\n",
    "    \"\"\"\n",
    "    merged_path = TLS_DIR / f\"tls_cycle_merged_{hour:02d}.add.xml\"\n",
    "    if merged_path.exists() and merged_path.stat().st_size > 0:\n",
    "        return merged_path\n",
    "\n",
    "    # Dict id -> element (của tlLogic) cuối cùng\n",
    "    tl_dict: Dict[str, ET.Element] = {}\n",
    "    for j in range(hour + 1):\n",
    "        cycle_file = TLS_DIR / f\"tls_cycle_{j:02d}.add.xml\"\n",
    "        if not cycle_file.exists():\n",
    "            continue\n",
    "        try:\n",
    "            tree = ET.parse(cycle_file)\n",
    "        except Exception:\n",
    "            continue\n",
    "        root = tree.getroot()\n",
    "        for tl in root.findall(\".//tlLogic\"):\n",
    "            tl_id = tl.attrib.get(\"id\")\n",
    "            if tl_id:\n",
    "                # ghi đè (giữ tlLogic từ giờ muộn hơn)\n",
    "                tl_dict[tl_id] = tl\n",
    "\n",
    "    # Tạo root <additional> chứa tất cả tlLogic\n",
    "    additional = ET.Element(\"additional\")\n",
    "    for tl in tl_dict.values():\n",
    "        # append a deep copy để tránh sửa gốc\n",
    "        additional.append(ET.fromstring(ET.tostring(tl)))\n",
    "\n",
    "    tree = ET.ElementTree(additional)\n",
    "    tree.write(merged_path, encoding=\"utf-8\", xml_declaration=True)\n",
    "    return merged_path\n",
    "\n",
    "\n",
    "def tls_files_up_to(hour: int) -> str:\n",
    "    \"\"\"\n",
    "    Trả chuỗi comma-separated gồm:\n",
    "    - File tls_cycle_merged_HH.add.xml (merge từ 00..hour).\n",
    "    - Tất cả tls_coord_jj.add.xml từ j=0..hour.\n",
    "    \"\"\"\n",
    "    merged_cycle = merge_tls_cycles(hour)\n",
    "    coord_files = [str(TLS_DIR / f\"tls_coord_{j:02d}.add.xml\")\n",
    "                   for j in range(hour + 1)\n",
    "                   if (TLS_DIR / f\"tls_coord_{j:02d}.add.xml\").exists()]\n",
    "    return \",\".join([str(merged_cycle), *coord_files])\n",
    "\n",
    "# ---------------------------------------------------------------------------\n",
    "#  Generate trip files nếu missing\n",
    "# ---------------------------------------------------------------------------\n",
    "\n",
    "trip_files = sorted(TRIPS_DIR.glob(\"*.xml\"))\n",
    "if len(trip_files) < 24:\n",
    "    print(\"[INFO] generating trip files …\")\n",
    "    trip_FILES = sorted(od2tripsForAllOLD(TAZ_XML, TRIPS_DIR, ODS_DIR, \"car_eidm\"))\n",
    "    trip_files = trip_FILES\n",
    "\n",
    "if len(trip_files) != 24:\n",
    "    sys.exit(\"[ERROR] need exactly 24 trip files (one per hour)\")\n",
    "\n",
    "# ---------------------------------------------------------------------------\n",
    "#  Determine resume point\n",
    "# ---------------------------------------------------------------------------\n",
    "\n",
    "prev_state: Optional[Path] = None\n",
    "start_hour = 0\n",
    "for idx in reversed(range(24)):\n",
    "    if outputs_complete(f\"{idx:02d}\"):\n",
    "        start_hour = idx + 1\n",
    "        prev_state = state_path((idx + 1) * HOUR)\n",
    "        break\n",
    "print(f\"Resume from hour {start_hour:02d} (prev_state={prev_state})\")\n",
    "\n",
    "# ---------------------------------------------------------------------------\n",
    "#  Main loop\n",
    "# ---------------------------------------------------------------------------\n",
    "\n",
    "for hour_idx in range(start_hour, 24):\n",
    "    tag = f\"{hour_idx:02d}\"\n",
    "    begin = hour_idx * HOUR\n",
    "    end = (hour_idx + 1) * HOUR\n",
    "\n",
    "    # Nếu outputs đã đầy đủ, skip\n",
    "    if outputs_complete(tag):\n",
    "        print(f\"[H{tag}] outputs already complete – skip\")\n",
    "        prev_state = state_path(end)\n",
    "        continue\n",
    "\n",
    "    trips_xml = Path(trip_files[hour_idx])\n",
    "\n",
    "    # -------------------------------------------------------------------\n",
    "    #  1) Tạo hoặc reuse route file\n",
    "    # -------------------------------------------------------------------\n",
    "\n",
    "    route_xml = ROUTES_DIR / f\"route_{tag}.xml\"\n",
    "    if not route_xml.exists() or route_xml.stat().st_size == 0:\n",
    "        print(f\"[H{tag}] duarouter …\")\n",
    "        duarouter_log = LOGS_DIR / f\"duarouter_{tag}.log\"\n",
    "        cmd = [\n",
    "            \"duarouter\", \"-n\", NET_XML, \"-r\", str(trips_xml), \"-a\", VTYPES_XML,\n",
    "            \"-o\", str(route_xml), \"--log\", str(duarouter_log),\n",
    "            \"--exit-times\", \"--named-routes\", \"--route-length\", \"--write-costs\",\n",
    "            \"--routing-threads\", \"8\", \"--ignore-errors\", \"--seed\", SEED,\n",
    "        ]\n",
    "        subprocess.run(cmd, check=True)\n",
    "    else:\n",
    "        print(f\"[H{tag}] route ready – skip duarouter\")\n",
    "\n",
    "    # -------------------------------------------------------------------\n",
    "    #  2) Tạo hoặc reuse TLS cycle\n",
    "    # -------------------------------------------------------------------\n",
    "\n",
    "    tls_cycle = TLS_DIR / f\"tls_cycle_{tag}.add.xml\"\n",
    "    if not tls_cycle.exists() or tls_cycle.stat().st_size == 0:\n",
    "        print(f\"[H{tag}] tlsCycleAdaptation …\")\n",
    "        adapt_log = LOGS_DIR / f\"tls_adapt_{tag}.log\"\n",
    "        cmd = [\n",
    "            \"python3\", TLSCYCLEADAPTATION_PY,\n",
    "            \"-n\", NET_XML, \"-r\", str(route_xml), \"-b\", str(begin),\n",
    "            \"-o\", str(tls_cycle),\n",
    "            \"--min-cycle\", \"40\", \"--max-cycle\", \"120\",\n",
    "            \"--yellow-time\", \"3\", \"-p\", PROGRAM_ID, \"--verbose\",\n",
    "        ]\n",
    "        with adapt_log.open(\"w\") as log_f:\n",
    "            subprocess.run(cmd, stdout=log_f, stderr=subprocess.STDOUT, check=True)\n",
    "    else:\n",
    "        print(f\"[H{tag}] tls_cycle ready – skip adaptation\")\n",
    "\n",
    "    # -------------------------------------------------------------------\n",
    "    #  3) Tạo hoặc reuse TLS coord\n",
    "    # -------------------------------------------------------------------\n",
    "\n",
    "    tls_coord = TLS_DIR / f\"tls_coord_{tag}.add.xml\"\n",
    "    if not tls_coord.exists() or tls_coord.stat().st_size == 0:\n",
    "        print(f\"[H{tag}] tlsCoordinator …\")\n",
    "        coord_log = LOGS_DIR / f\"tls_coord_{tag}.log\"\n",
    "        cmd = [\n",
    "            \"python3\", TLSCOORDINATOR_PY,\n",
    "            \"-n\", NET_XML, \"-r\", str(route_xml),\n",
    "            \"-a\", str(tls_cycle), \"-o\", str(tls_coord),\n",
    "        ]\n",
    "        with coord_log.open(\"w\") as log_f:\n",
    "            subprocess.run(cmd, stdout=log_f, stderr=subprocess.STDOUT, check=True)\n",
    "    else:\n",
    "        print(f\"[H{tag}] tls_coord ready – skip coordination\")\n",
    "\n",
    "    # -------------------------------------------------------------------\n",
    "    #  4) Chạy SUMO cho giờ này\n",
    "    # -------------------------------------------------------------------\n",
    "\n",
    "    outdir = OUTPUTS_DIR / f\"hour_{tag}\"\n",
    "    outdir.mkdir(exist_ok=True)\n",
    "    summary_xml    = outdir / \"summary.xml\"\n",
    "    tripinfo_xml   = outdir / \"tripinfo.xml\"\n",
    "    statistics_xml = outdir / \"statistics.xml\"\n",
    "    vehroutes_xml  = outdir / \"vehRoutes.xml\"\n",
    "    lanechanges_xml= outdir / \"laneChanges.xml\"\n",
    "    collision_xml  = outdir / \"collisions.xml\"\n",
    "    edgedata_xml   = outdir / \"edgedata.xml\"\n",
    "\n",
    "    state_file     = state_path(end)\n",
    "\n",
    "    virtual_end = end + 1\n",
    "\n",
    "    sumo_cmd = [\n",
    "        \"sumo\",\n",
    "        \"--mesosim\", \"true\",                    \n",
    "        \"-n\", NET_XML,\n",
    "        \"-r\", str(route_xml),\n",
    "        \"--threads\", str(THREADS),\n",
    "        \"--additional-files\", tls_files_up_to(hour_idx),\n",
    "        \"--step-length\", str(STEP_LENGTH),\n",
    "        \"--begin\", str(begin),\n",
    "        \"--end\", str(virtual_end),\n",
    "        \"--summary-output\",   str(summary_xml),\n",
    "        \"--tripinfo-output\",  str(tripinfo_xml),\n",
    "        \"--statistic-output\", str(statistics_xml),\n",
    "        \"--vehroute-output\",  str(vehroutes_xml),\n",
    "        \"--lanechange-output\",str(lanechanges_xml),\n",
    "        \"--collision-output\", str(collision_xml),\n",
    "        \"\"\n",
    "        \"--time-to-teleport\", TIME_TO_TELEPORT,\n",
    "        \"--ignore-junction-blocker\", \"20\",\n",
    "        \"--ignore-route-errors\",\n",
    "        \"--no-step-log\", \"--duration-log.statistics\",\n",
    "        \"--save-state.times\", str(end),\n",
    "        \"--save-state.files\", str(state_file),\n",
    "        \"--xml-validation\", \"never\",\n",
    "    ]\n",
    "\n",
    "    if prev_state and prev_state.exists():\n",
    "        sumo_cmd += [\"--load-state\", str(prev_state)]\n",
    "\n",
    "    print(f\"[H{tag}] SUMO {begin}→{end} …\")\n",
    "    sim_log = LOGS_DIR / f\"sumo_{tag}.log\"\n",
    "    with sim_log.open(\"w\") as log_f:\n",
    "        subprocess.run(sumo_cmd, stdout=log_f, stderr=subprocess.STDOUT, check=True)\n",
    "    print(f\"[H{tag}] finished (state saved → {state_file})\\n\")\n",
    "\n",
    "    prev_state = state_file\n",
    "\n",
    "print(\"All 24 hourly simulations finished\")\n"
   ]
  }
 ],
 "metadata": {
  "kernelspec": {
   "display_name": "Python 3",
   "language": "python",
   "name": "python3"
  },
  "language_info": {
   "codemirror_mode": {
    "name": "ipython",
    "version": 3
   },
   "file_extension": ".py",
   "mimetype": "text/x-python",
   "name": "python",
   "nbconvert_exporter": "python",
   "pygments_lexer": "ipython3",
   "version": "3.10.16"
  }
 },
 "nbformat": 4,
 "nbformat_minor": 2
}
