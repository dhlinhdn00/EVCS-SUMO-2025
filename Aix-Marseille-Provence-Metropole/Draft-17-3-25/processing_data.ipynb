{
 "cells": [
  {
   "cell_type": "code",
   "execution_count": 1,
   "metadata": {},
   "outputs": [],
   "source": [
    "import json\n",
    "import requests\n",
    "import geojson\n",
    "from geojson2osm import geojson2osm"
   ]
  },
  {
   "cell_type": "code",
   "execution_count": 2,
   "metadata": {},
   "outputs": [],
   "source": [
    "# https://en.wikipedia.org/wiki/Aix-Marseille-Provence_Metropolis\n",
    "# https://www.banatic.interieur.gouv.fr/intercommunalite/200054807-metropole-d-aix-marseille-provence\n",
    "\n",
    "SIREN = \"200054807\""
   ]
  },
  {
   "cell_type": "code",
   "execution_count": 3,
   "metadata": {},
   "outputs": [
    {
     "name": "stdout",
     "output_type": "stream",
     "text": [
      "92\n"
     ]
    }
   ],
   "source": [
    "# https://geo.api.gouv.fr/decoupage-administratif\n",
    "url = f\"https://geo.api.gouv.fr/epcis/{SIREN}/communes\"\n",
    "geo_api_response = requests.get(url)\n",
    "\n",
    "if geo_api_response.status_code == 200:\n",
    "    geo_api_data = geo_api_response.json()\n",
    "    AMP_COMMUNES = {commune[\"nom\"].strip() for commune in geo_api_data}\n",
    "    AMP_COMMUNES_CODE = {commune[\"code\"].strip() for commune in geo_api_data}\n",
    "    print(len(AMP_COMMUNES))\n",
    "else:\n",
    "    print(\"Failed API\")\n",
    "    AMP_COMMUNES = set()\n",
    "    AMP_COMMUNES_CODE = set()"
   ]
  },
  {
   "cell_type": "code",
   "execution_count": 5,
   "metadata": {},
   "outputs": [],
   "source": [
    "def save_json_structure(input_file, output_file):\n",
    "\n",
    "    def get_structure(data, indent=0):\n",
    "        lines = []\n",
    "        space = \" \" * indent\n",
    "        if isinstance(data, dict):\n",
    "            for key, value in data.items():\n",
    "                lines.append(f\"{space}{key}: {type(value).__name__}\")\n",
    "                lines.extend(get_structure(value, indent + 2))\n",
    "        elif isinstance(data, list):\n",
    "            if data:\n",
    "                lines.append(f\"{space}List of {type(data[0]).__name__}\")\n",
    "                for item in data[:3]: \n",
    "                    lines.extend(get_structure(item, indent + 2))\n",
    "            else:\n",
    "                lines.append(f\"{space}Empty list\")\n",
    "        return lines\n",
    "\n",
    "    with open(input_file, \"r\", encoding=\"utf-8\") as f:\n",
    "        data = json.load(f)\n",
    "    \n",
    "    structure_str = \"\\n\".join(get_structure(data))\n",
    "    \n",
    "    with open(output_file, \"w\", encoding=\"utf-8\") as f:\n",
    "        f.write(structure_str)\n",
    "    \n",
    "    print(f\"Output file: {output_file}\")"
   ]
  },
  {
   "cell_type": "code",
   "execution_count": 6,
   "metadata": {},
   "outputs": [
    {
     "name": "stdout",
     "output_type": "stream",
     "text": [
      "Output file: geojson-file/structure_export.txt\n"
     ]
    }
   ],
   "source": [
    "save_json_structure(\"geojson-file/BouchesDeRhône.geojson\", \"geojson-file/structure_export.txt\")"
   ]
  },
  {
   "cell_type": "code",
   "execution_count": 7,
   "metadata": {},
   "outputs": [
    {
     "name": "stdout",
     "output_type": "stream",
     "text": [
      "92\n"
     ]
    }
   ],
   "source": [
    "file_list = [\"BouchesDeRhône.geojson\", \"Var.geojson\", \"Vacluse.geojson\"]\n",
    "file_list = [\"geojson-file/\" + file for file in file_list]\n",
    "merged_features = []\n",
    "\n",
    "for file_name in file_list:\n",
    "    with open(file_name, \"r\", encoding=\"utf-8\") as f:\n",
    "        data = json.load(f)\n",
    "        for feature in data.get(\"features\", []):\n",
    "            props = feature.get(\"properties\", {})\n",
    "            commune_name = props.get(\"name\", \"\").strip()\n",
    "            if commune_name in AMP_COMMUNES:\n",
    "                merged_features.append(feature)\n",
    "\n",
    "merged_geojson = {\n",
    "    \"type\": \"FeatureCollection\",\n",
    "    \"features\": merged_features\n",
    "}\n",
    "\n",
    "with open(\"geojson-file/AMP_merged.geojson\", \"w\", encoding=\"utf-8\") as f:\n",
    "    json.dump(merged_geojson, f, ensure_ascii=False, indent=2)\n",
    "\n",
    "unique_dict = {}\n",
    "for feature in merged_features:\n",
    "    props = feature.get(\"properties\", {})\n",
    "    insee_code = props.get(\"ref:INSEE\", \"\").strip()\n",
    "    admin_level = props.get(\"admin_level\", \"\").strip()\n",
    "    if insee_code and admin_level == \"8\":\n",
    "        if insee_code not in unique_dict:\n",
    "            unique_dict[insee_code] = feature\n",
    "        else:\n",
    "            pass\n",
    "\n",
    "AMP_data_dedup = {\n",
    "    \"type\": \"FeatureCollection\",\n",
    "    \"features\": list(unique_dict.values())\n",
    "}\n",
    "\n",
    "with open(\"geojson-file/AMP_final.geojson\", \"w\", encoding=\"utf-8\") as f:\n",
    "    json.dump(AMP_data_dedup, f, ensure_ascii=False, indent=2)\n",
    "\n",
    "print(len(AMP_data_dedup[\"features\"]))"
   ]
  },
  {
   "cell_type": "code",
   "execution_count": 8,
   "metadata": {},
   "outputs": [
    {
     "name": "stdout",
     "output_type": "stream",
     "text": [
      "Có lỗi khi chuyển đổi: list index out of range\n"
     ]
    }
   ],
   "source": [
    "# Đọc file GeoJSON\n",
    "with open(\"geojson-file/AMP_final.geojson\", \"r\", encoding=\"utf-8\") as f:\n",
    "    data = geojson.load(f)\n",
    "\n",
    "# Lọc bỏ những feature có geometry rỗng\n",
    "valid_features = []\n",
    "for feature in data.get(\"features\", []):\n",
    "    geom = feature.get(\"geometry\", {})\n",
    "    # Kiểm tra xem geometry có chứa \"coordinates\" và danh sách này không rỗng\n",
    "    if \"coordinates\" in geom and geom[\"coordinates\"]:\n",
    "        valid_features.append(feature)\n",
    "    else:\n",
    "        print(f\"Loại bỏ feature không hợp lệ: {feature.get('properties', {}).get('name', 'không rõ')}\")\n",
    "\n",
    "# Cập nhật lại dữ liệu GeoJSON với các feature hợp lệ\n",
    "data[\"features\"] = valid_features\n",
    "\n",
    "# Thử chuyển đổi\n",
    "try:\n",
    "    osm_data = geojson2osm(data)\n",
    "    with open(\"geojson-file/AMP_final.osm\", \"w\", encoding=\"utf-8\") as f:\n",
    "        f.write(osm_data)\n",
    "    print(\"Chuyển đổi thành công!\")\n",
    "except Exception as e:\n",
    "    print(\"Có lỗi khi chuyển đổi:\", e)\n"
   ]
  },
  {
   "cell_type": "code",
   "execution_count": null,
   "metadata": {},
   "outputs": [],
   "source": []
  }
 ],
 "metadata": {
  "kernelspec": {
   "display_name": "usr",
   "language": "python",
   "name": "python3"
  },
  "language_info": {
   "codemirror_mode": {
    "name": "ipython",
    "version": 3
   },
   "file_extension": ".py",
   "mimetype": "text/x-python",
   "name": "python",
   "nbconvert_exporter": "python",
   "pygments_lexer": "ipython3",
   "version": "3.9.21"
  }
 },
 "nbformat": 4,
 "nbformat_minor": 2
}
