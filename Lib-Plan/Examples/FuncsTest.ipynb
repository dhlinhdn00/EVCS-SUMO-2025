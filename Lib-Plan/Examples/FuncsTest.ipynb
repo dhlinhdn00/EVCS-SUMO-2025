{
 "cells": [
  {
   "cell_type": "markdown",
   "metadata": {},
   "source": [
    "# **SETUP**"
   ]
  },
  {
   "cell_type": "code",
   "execution_count": 1,
   "metadata": {},
   "outputs": [],
   "source": [
    "import os, sys\n",
    "import sumolib, traci\n",
    "#export LD_LIBRARY_PATH=~/Libs/libnsl\n",
    "#export SUMO_HOME=~/Envs/sumo-env/lib/python3.10/site-packages/sumo\n",
    "os.environ[\"LD_LIBRARY_PATH\"] = os.path.expanduser(\"~/Libs/libnsl\")\n",
    "os.environ[\"SUMO_HOME\"] = os.path.expanduser(\"~/Envs/sumo-env/lib/python3.10/site-packages/sumo\")\n",
    "sys.path.append(\"/home/hoai-linh.dao/Works/EVCS/Lib-Plan/\")\n",
    "from Vehicles.generateVtypesPassenger import generatePassengerVtypesXML\n",
    "from Nets.utils import cleanOSM, runAllEdgeChecks, fixOSM, createDisconnectedEdgesPoly"
   ]
  },
  {
   "cell_type": "markdown",
   "metadata": {},
   "source": [
    "# **cleanOSM + fixOSM** "
   ]
  },
  {
   "cell_type": "code",
   "execution_count": 17,
   "metadata": {},
   "outputs": [],
   "source": [
    "cleanOSM(\"/home/hoai-linh.dao/Works/EVCS/Lib-Plan/Examples/MiniTest/data/marseille.osm\", \"/home/hoai-linh.dao/Works/EVCS/Lib-Plan/Examples/MiniTest/data/cleaned-marseille.osm\")\n",
    "cleanOSM(\"/home/hoai-linh.dao/Works/EVCS/Lib-Plan/Examples/MiniTest/data/marseille.osm\", \"/home/hoai-linh.dao/Works/EVCS/Lib-Plan/Examples/MiniTest/data/only-fixed-marseille.osm\")"
   ]
  },
  {
   "cell_type": "code",
   "execution_count": 18,
   "metadata": {},
   "outputs": [
    {
     "name": "stdout",
     "output_type": "stream",
     "text": [
      "Warning: The referenced geometry information (ref='4248516314') is not known\n",
      "Warning: The referenced geometry information (ref='4278227041') is not known\n",
      "Warning: The referenced geometry information (ref='4248516241') is not known\n",
      "Warning: The referenced geometry information (ref='12301259714') is not known\n",
      "Warning: The referenced geometry information (ref='12431198532') is not known\n",
      "Warning: Value of key 'layer' is not numeric ('-1.5') in edge '421360605'.\n",
      "Warning: Value of key 'layer' is not numeric ('-1.5') in edge '421360613'.\n",
      "Warning: Value of key 'layer' is not numeric ('-1.5') in edge '421360614'.\n",
      "Warning: Value of key 'layer' is not numeric ('-1.5') in edge '421360618'.\n",
      "Warning: Value of key 'layer' is not numeric ('-1.5') in edge '421360626'.\n",
      "Warning: Discarding unknown compound 'cycleway.lane' in type 'cycleway.lane|highway.residential' (first occurrence for edge '6309507').\n",
      "Warning: Discarding unknown compound 'cycleway.opposite_lane' in type 'cycleway.opposite_lane|highway.residential' (first occurrence for edge '6309632').\n",
      "Warning: Discarding unknown compound 'cycleway.lane' in type 'cycleway.lane|highway.tertiary' (first occurrence for edge '6310412').\n",
      "Warning: Discarding unknown compound 'cycleway.track' in type 'cycleway.track|highway.tertiary' (first occurrence for edge '6311287').\n",
      "Warning: Discarding unknown compound 'cycleway.lane' in type 'cycleway.lane|highway.secondary' (first occurrence for edge '6311582').\n",
      "Warning: Discarding way '6311612' because it has only 1 node(s)\n",
      "Warning: Discarding way '6312953' because it has only 1 node(s)\n",
      "Warning: Discarding way '24828563' because it has only 1 node(s)\n",
      "Warning: Discarding way '24940366' because it has only 1 node(s)\n",
      "Warning: Discarding way '28117235' because it has only 1 node(s)\n",
      "Warning: Discarding unusable type 'highway.services' (first occurrence for edge '571031871').\n",
      "Warning: Discarding unusable type 'highway.elevator' (first occurrence for edge '903568042').\n",
      "Warning: Discarding unusable type 'highway.proposed' (first occurrence for edge '1324719115').\n",
      "Warning: Could not find corresponding edge or compatible lane for free-floating pt stop '410334473' (George). Thus, it will be removed!\n",
      "Warning: Could not find corresponding edge or compatible lane for free-floating pt stop '410334785' (Jean Martin). Thus, it will be removed!\n",
      "Warning: Could not find corresponding edge or compatible lane for free-floating pt stop '1886599699' (Camas). Thus, it will be removed!\n",
      "Warning: Could not find corresponding edge or compatible lane for free-floating pt stop '1921696067' (Camas). Thus, it will be removed!\n",
      "Warning: Could not find corresponding edge or compatible lane for free-floating pt stop '1921696070' (George). Thus, it will be removed!\n",
      "Warning: Ambiguity in turnarounds computation at junction '10057905830'.\n",
      "Warning: Ambiguity in turnarounds computation at junction '10069052313'.\n",
      "Warning: Ambiguity in turnarounds computation at junction '10076870834'.\n",
      "Warning: Ambiguity in turnarounds computation at junction '10076871004'.\n",
      "Warning: Ambiguity in turnarounds computation at junction '10199707137'.\n",
      "Warning: Found sharp turn with radius 6.74 at the start of edge '-1032722507'.\n",
      "Warning: Found sharp turn with radius 5.00 at the end of edge '-1035157690'.\n",
      "Warning: Found sharp turn with radius 5.91 at the start of edge '-1038361416#1'.\n",
      "Warning: Found sharp turn with radius 7.43 at the end of edge '-1038361416#2'.\n",
      "Warning: Found sharp turn with radius 8.47 at the end of edge '-1038865695#1'.\n",
      "Warning: Found angle of 104.04 degrees at edge '-114960011#0', segment 2.\n",
      "Warning: Found angle of 144.10 degrees at edge '-1266237207', segment 1.\n",
      "Warning: Found angle of 100.91 degrees at edge '-324012880#2', segment 0.\n",
      "Warning: Found angle of 107.90 degrees at edge '-40932488', segment 0.\n",
      "Warning: Found angle of 99.51 degrees at edge '-509374962#2', segment 0.\n",
      "Warning: Shape for junction '1065309041' has distance 25.55 to its given position.\n",
      "Warning: Shape for junction '1131651646' has distance 29.45 to its given position.\n",
      "Warning: Shape for junction '1147561610' has distance 36.52 to its given position.\n",
      "Warning: Shape for junction '1148226954' has distance 24.57 to its given position.\n",
      "Warning: Shape for junction '11989525087' has distance 35.53 to its given position.\n",
      "Warning: Converting invalid rail_crossing to priority junction '11473076032'.\n",
      "Warning: Converting invalid rail_crossing to priority junction '11473076033'.\n",
      "Warning: Converting invalid rail_crossing to priority junction '11473076034'.\n",
      "Warning: Converting invalid rail_crossing to priority junction '11473076041'.\n",
      "Warning: Converting invalid rail_crossing to priority junction '11473076043'.\n",
      "Warning: Lane '1020322598#0_0' is not connected from any incoming edge at junction '9410655643'.\n",
      "Warning: Edge '1020322598#1' is not connected to outgoing edges at junction '9410655644'.\n",
      "Warning: Lane '1020322600#0_0' is not connected from any incoming edge at junction '9410655645'.\n",
      "Warning: Edge '1020322600#1' is not connected to outgoing edges at junction '8754759712'.\n",
      "Warning: Lane '1200615233_0' is not connected from any incoming edge at junction '11132236888'.\n",
      "Warning: Lane '1343520615_0' is not connected from any incoming edge at junction '12431198525'.\n",
      "Warning: Edge '754837660#3' is not connected to outgoing edges at junction '7051393327'.\n",
      "Warning: Lane '905765404_0' is not connected from any incoming edge at junction '8411386891'.\n",
      "Warning: Edge '905765407#2' is not connected to outgoing edges at junction '8411386897'.\n",
      "Warning: Edge '905765416#2' is not connected to outgoing edges at junction '8411386892'.\n",
      "Warning: The traffic light '10721187366' does not control any links; it will not be build.\n",
      "Warning: Could not build program '0' for traffic light '10721187366'\n",
      "Warning: The traffic light '11486662183' does not control any links; it will not be build.\n",
      "Warning: Could not build program '0' for traffic light '11486662183'\n",
      "Warning: The traffic light '11500332116' does not control any links; it will not be build.\n",
      "Warning: Could not build program '0' for traffic light '11500332116'\n",
      "Warning: The traffic light '1448523083' does not control any links; it will not be build.\n",
      "Warning: Could not build program '0' for traffic light '1448523083'\n",
      "Warning: The traffic light '1632045791' does not control any links; it will not be build.\n",
      "Warning: Could not build program '0' for traffic light '1632045791'\n",
      "Warning: Minor green from edge '34427137' to edge '-27773582#8' exceeds 19.44m/s. Maybe a left-turn lane is missing.\n",
      "Warning: Minor green from edge '123733086#1' to edge '650770803' exceeds 19.44m/s. Maybe a left-turn lane is missing.\n",
      "Warning: Minor green from edge '436070544' to edge '27775450' exceeds 19.44m/s. Maybe a left-turn lane is missing.\n",
      "Warning: Minor green from edge '137084774#4' to edge '387834360' exceeds 19.44m/s. Maybe a left-turn lane is missing.\n",
      "Warning: Minor green from edge '-137084772#0' to edge '-144168988#2' exceeds 19.44m/s. Maybe a left-turn lane is missing.\n",
      "Warning: Speed of turning connection '1096996515_0->1096996514_0' reduced by 22.42 due to turning radius of 5.22 (length=8.97, angle=131.26).\n",
      "Warning: Speed of straight connection '477517498#7_0->1096996514_0' reduced by 19.15 due to turning radius of 13.54 (length=5.00, angle=37.47).\n",
      "Warning: Speed of straight connection '1096996520_0->-1057974393#5_0' reduced by 8.27 due to turning radius of 17.40 (length=4.39, angle=30.16).\n",
      "Warning: Speed of straight connection '164962724#0_0->164962724#1_0' reduced by 5.00 due to turning radius of 14.36 (length=8.57, angle=51.20).\n",
      "Warning: Speed of straight connection '150283116_0->150283092#0_0' reduced by 5.57 due to turning radius of 12.57 (length=2.15, angle=25.44).\n",
      "Warning: Intersecting left turns at junction '11782941212' from lane '1082045583#2_1' and lane '-1082045583#3_1' (increase junction radius to avoid this).\n",
      "Warning: Connection '108108787_0->99208483_0' is only 0.00m short.\n",
      "Warning: Intersecting left turns at junction '1711080711' from lane '435268532#3_0' and lane '-435268535#0_0' (increase junction radius to avoid this).\n",
      "Warning: Intersecting left turns at junction '1711817027' from lane '165279959_0' and lane '-159082449#2_0' (increase junction radius to avoid this).\n",
      "Warning: Intersecting left turns at junction '264485429' from lane '383247623#5_0' and lane '-24375965#0_0' (increase junction radius to avoid this).\n",
      "Warning: Intersecting left turns at junction '26517861' from lane '759037966_1' and lane '323014924_0' (increase junction radius to avoid this).\n",
      "Warning: Connection '1049691071_0->344375195_0' is only 0.06m short.\n",
      "Warning: Network contains very large coordinates and will probably flicker in the GUI. Check for outlying nodes and make sure the network is shifted to the coordinate origin\n",
      "Warning: 386 total messages of type: Ambiguity in turnarounds computation at junction '%'.\n",
      "Warning: 42 total messages of type: Converting invalid rail_crossing to priority junction '%'.\n",
      "Warning: 37 total messages of type: Could not build program '%' for traffic light '%'\n",
      "Warning: 7 total messages of type: Could not find corresponding edge or compatible lane for free-floating pt stop '%' (%). Thus, it will be removed!\n",
      "Warning: 33 total messages of type: Discarding unknown compound '%' in type '%' (first occurrence for edge '%').\n",
      "Warning: 569 total messages of type: Discarding way '%' because it has only % node(s)\n",
      "Warning: 10 total messages of type: Edge '%' is not connected to outgoing edges at junction '%'.\n",
      "Warning: 23 total messages of type: Found angle of % degrees at edge '%', segment %.\n",
      "Warning: 519 total messages of type: Found sharp turn with radius % at the % of edge '%'.\n",
      "Warning: 17 total messages of type: Intersecting left turns at junction '%' from lane '%' and lane '%' (increase junction radius to avoid this).\n",
      "Warning: 11 total messages of type: Lane '%' is not connected from any incoming edge at junction '%'.\n",
      "Warning: 22 total messages of type: Minor green from edge '%' to edge '%' exceeds %m/s. Maybe a left-turn lane is missing.\n",
      "Warning: 43 total messages of type: Shape for junction '%' has distance % to its given position.\n",
      "Warning: 1353 total messages of type: Speed of % connection '%' reduced by % due to turning radius of % (length=%, angle=%).\n",
      "Warning: 14038 total messages of type: The referenced geometry information (ref='%') is not known\n",
      "Warning: 37 total messages of type: The traffic light '%' does not control any links; it will not be build.\n",
      "Warning: 7 total messages of type: Value of key '%' is not numeric ('%') in edge '%'.\n",
      "Success.\n"
     ]
    }
   ],
   "source": [
    "! netconvert \\\n",
    "  --osm /home/hoai-linh.dao/Works/EVCS/Lib-Plan/Examples/MiniTest/data/only-fixed-marseille.osm \\\n",
    "  -o /home/hoai-linh.dao/Works/EVCS/Lib-Plan/Examples/MiniTest/data/only-fixed-marseille.net.xml \\\n",
    "  --offset.disable-normalization \\\n",
    "  --output.street-names true \\\n",
    "  --output.original-names true "
   ]
  },
  {
   "cell_type": "code",
   "execution_count": 13,
   "metadata": {},
   "outputs": [
    {
     "name": "stdout",
     "output_type": "stream",
     "text": [
      "Warning: The referenced geometry information (ref='4248516314') is not known\n",
      "Warning: The referenced geometry information (ref='4278227041') is not known\n",
      "Warning: The referenced geometry information (ref='4248516241') is not known\n",
      "Warning: The referenced geometry information (ref='12301259714') is not known\n",
      "Warning: The referenced geometry information (ref='12431198532') is not known\n",
      "Warning: Value of key 'layer' is not numeric ('-1.5') in edge '421360605'.\n",
      "Warning: Value of key 'layer' is not numeric ('-1.5') in edge '421360613'.\n",
      "Warning: Value of key 'layer' is not numeric ('-1.5') in edge '421360614'.\n",
      "Warning: Value of key 'layer' is not numeric ('-1.5') in edge '421360618'.\n",
      "Warning: Value of key 'layer' is not numeric ('-1.5') in edge '421360626'.\n",
      "Warning: Discarding unknown compound 'cycleway.lane' in type 'cycleway.lane|highway.residential' (first occurrence for edge '6309507').\n",
      "Warning: Discarding unknown compound 'cycleway.opposite_lane' in type 'cycleway.opposite_lane|highway.residential' (first occurrence for edge '6309632').\n",
      "Warning: Discarding unknown compound 'cycleway.lane' in type 'cycleway.lane|highway.tertiary' (first occurrence for edge '6310412').\n",
      "Warning: Discarding unknown compound 'cycleway.track' in type 'cycleway.track|highway.tertiary' (first occurrence for edge '6311287').\n",
      "Warning: Discarding unknown compound 'cycleway.lane' in type 'cycleway.lane|highway.secondary' (first occurrence for edge '6311582').\n",
      "Warning: Discarding way '6311612' because it has only 1 node(s)\n",
      "Warning: Discarding way '6312953' because it has only 1 node(s)\n",
      "Warning: Discarding way '24828563' because it has only 1 node(s)\n",
      "Warning: Discarding way '24940366' because it has only 1 node(s)\n",
      "Warning: Discarding way '28117235' because it has only 1 node(s)\n",
      "Warning: Discarding unusable type 'highway.services' (first occurrence for edge '571031871').\n",
      "Warning: Discarding unusable type 'highway.elevator' (first occurrence for edge '903568042').\n",
      "Warning: Discarding unusable type 'highway.proposed' (first occurrence for edge '1324719115').\n",
      "Warning: Could not find corresponding edge or compatible lane for free-floating pt stop '410334473' (George). Thus, it will be removed!\n",
      "Warning: Could not find corresponding edge or compatible lane for free-floating pt stop '410334785' (Jean Martin). Thus, it will be removed!\n",
      "Warning: Could not find corresponding edge or compatible lane for free-floating pt stop '1886599699' (Camas). Thus, it will be removed!\n",
      "Warning: Could not find corresponding edge or compatible lane for free-floating pt stop '1921696067' (Camas). Thus, it will be removed!\n",
      "Warning: Could not find corresponding edge or compatible lane for free-floating pt stop '1921696070' (George). Thus, it will be removed!\n",
      "Warning: Ambiguity in turnarounds computation at junction '10057905830'.\n",
      "Warning: Ambiguity in turnarounds computation at junction '10069052313'.\n",
      "Warning: Ambiguity in turnarounds computation at junction '10076870834'.\n",
      "Warning: Ambiguity in turnarounds computation at junction '10076871004'.\n",
      "Warning: Ambiguity in turnarounds computation at junction '10199707137'.\n",
      "Warning: Found sharp turn with radius 6.74 at the start of edge '-1032722507'.\n",
      "Warning: Found sharp turn with radius 5.00 at the end of edge '-1035157690'.\n",
      "Warning: Found sharp turn with radius 5.91 at the start of edge '-1038361416#1'.\n",
      "Warning: Found sharp turn with radius 7.43 at the end of edge '-1038361416#2'.\n",
      "Warning: Found sharp turn with radius 8.47 at the end of edge '-1038865695#1'.\n",
      "Warning: Found angle of 104.04 degrees at edge '-114960011#0', segment 2.\n",
      "Warning: Found angle of 144.10 degrees at edge '-1266237207', segment 1.\n",
      "Warning: Found angle of 100.91 degrees at edge '-324012880#2', segment 0.\n",
      "Warning: Found angle of 107.90 degrees at edge '-40932488', segment 0.\n",
      "Warning: Found angle of 99.51 degrees at edge '-509374962#2', segment 0.\n",
      "Warning: Shape for junction '1065309041' has distance 25.55 to its given position.\n",
      "Warning: Shape for junction '1131651646' has distance 29.45 to its given position.\n",
      "Warning: Shape for junction '1147561610' has distance 36.52 to its given position.\n",
      "Warning: Shape for junction '1148226954' has distance 24.57 to its given position.\n",
      "Warning: Shape for junction '11989525087' has distance 35.53 to its given position.\n",
      "Warning: Converting invalid rail_crossing to priority junction '11473076032'.\n",
      "Warning: Converting invalid rail_crossing to priority junction '11473076033'.\n",
      "Warning: Converting invalid rail_crossing to priority junction '11473076034'.\n",
      "Warning: Converting invalid rail_crossing to priority junction '11473076041'.\n",
      "Warning: Converting invalid rail_crossing to priority junction '11473076043'.\n",
      "Warning: Lane '1020322598#0_0' is not connected from any incoming edge at junction '9410655643'.\n",
      "Warning: Edge '1020322598#1' is not connected to outgoing edges at junction '9410655644'.\n",
      "Warning: Lane '1020322600#0_0' is not connected from any incoming edge at junction '9410655645'.\n",
      "Warning: Edge '1020322600#1' is not connected to outgoing edges at junction '8754759712'.\n",
      "Warning: Lane '1200615233_0' is not connected from any incoming edge at junction '11132236888'.\n",
      "Warning: Lane '1343520615_0' is not connected from any incoming edge at junction '12431198525'.\n",
      "Warning: Edge '754837660#3' is not connected to outgoing edges at junction '7051393327'.\n",
      "Warning: Lane '905765404_0' is not connected from any incoming edge at junction '8411386891'.\n",
      "Warning: Edge '905765407#2' is not connected to outgoing edges at junction '8411386897'.\n",
      "Warning: Edge '905765416#2' is not connected to outgoing edges at junction '8411386892'.\n",
      "Warning: The traffic light '10721187366' does not control any links; it will not be build.\n",
      "Warning: Could not build program '0' for traffic light '10721187366'\n",
      "Warning: The traffic light '11486662183' does not control any links; it will not be build.\n",
      "Warning: Could not build program '0' for traffic light '11486662183'\n",
      "Warning: The traffic light '11500332116' does not control any links; it will not be build.\n",
      "Warning: Could not build program '0' for traffic light '11500332116'\n",
      "Warning: The traffic light '1448523083' does not control any links; it will not be build.\n",
      "Warning: Could not build program '0' for traffic light '1448523083'\n",
      "Warning: The traffic light '1632045791' does not control any links; it will not be build.\n",
      "Warning: Could not build program '0' for traffic light '1632045791'\n",
      "Warning: Minor green from edge '34427137' to edge '-27773582#8' exceeds 19.44m/s. Maybe a left-turn lane is missing.\n",
      "Warning: Minor green from edge '123733086#1' to edge '650770803' exceeds 19.44m/s. Maybe a left-turn lane is missing.\n",
      "Warning: Minor green from edge '436070544' to edge '27775450' exceeds 19.44m/s. Maybe a left-turn lane is missing.\n",
      "Warning: Minor green from edge '137084774#4' to edge '387834360' exceeds 19.44m/s. Maybe a left-turn lane is missing.\n",
      "Warning: Minor green from edge '-137084772#0' to edge '-144168988#2' exceeds 19.44m/s. Maybe a left-turn lane is missing.\n",
      "Warning: Speed of turning connection '1096996515_0->1096996514_0' reduced by 22.42 due to turning radius of 5.22 (length=8.97, angle=131.26).\n",
      "Warning: Speed of straight connection '477517498#7_0->1096996514_0' reduced by 19.15 due to turning radius of 13.54 (length=5.00, angle=37.47).\n",
      "Warning: Speed of straight connection '1096996520_0->-1057974393#5_0' reduced by 8.27 due to turning radius of 17.40 (length=4.39, angle=30.16).\n",
      "Warning: Speed of straight connection '164962724#0_0->164962724#1_0' reduced by 5.00 due to turning radius of 14.36 (length=8.57, angle=51.20).\n",
      "Warning: Speed of straight connection '150283116_0->150283092#0_0' reduced by 5.57 due to turning radius of 12.57 (length=2.15, angle=25.44).\n",
      "Warning: Intersecting left turns at junction '11782941212' from lane '1082045583#2_1' and lane '-1082045583#3_1' (increase junction radius to avoid this).\n",
      "Warning: Connection '108108787_0->99208483_0' is only 0.00m short.\n",
      "Warning: Intersecting left turns at junction '1711080711' from lane '435268532#3_0' and lane '-435268535#0_0' (increase junction radius to avoid this).\n",
      "Warning: Intersecting left turns at junction '1711817027' from lane '165279959_0' and lane '-159082449#2_0' (increase junction radius to avoid this).\n",
      "Warning: Intersecting left turns at junction '264485429' from lane '383247623#5_0' and lane '-24375965#0_0' (increase junction radius to avoid this).\n",
      "Warning: Intersecting left turns at junction '26517861' from lane '759037966_1' and lane '323014924_0' (increase junction radius to avoid this).\n",
      "Warning: Connection '1049691071_0->344375195_0' is only 0.06m short.\n",
      "Warning: Network contains very large coordinates and will probably flicker in the GUI. Check for outlying nodes and make sure the network is shifted to the coordinate origin\n",
      "Warning: 386 total messages of type: Ambiguity in turnarounds computation at junction '%'.\n",
      "Warning: 42 total messages of type: Converting invalid rail_crossing to priority junction '%'.\n",
      "Warning: 37 total messages of type: Could not build program '%' for traffic light '%'\n",
      "Warning: 7 total messages of type: Could not find corresponding edge or compatible lane for free-floating pt stop '%' (%). Thus, it will be removed!\n",
      "Warning: 33 total messages of type: Discarding unknown compound '%' in type '%' (first occurrence for edge '%').\n",
      "Warning: 569 total messages of type: Discarding way '%' because it has only % node(s)\n",
      "Warning: 10 total messages of type: Edge '%' is not connected to outgoing edges at junction '%'.\n",
      "Warning: 23 total messages of type: Found angle of % degrees at edge '%', segment %.\n",
      "Warning: 519 total messages of type: Found sharp turn with radius % at the % of edge '%'.\n",
      "Warning: 17 total messages of type: Intersecting left turns at junction '%' from lane '%' and lane '%' (increase junction radius to avoid this).\n",
      "Warning: 11 total messages of type: Lane '%' is not connected from any incoming edge at junction '%'.\n",
      "Warning: 22 total messages of type: Minor green from edge '%' to edge '%' exceeds %m/s. Maybe a left-turn lane is missing.\n",
      "Warning: 43 total messages of type: Shape for junction '%' has distance % to its given position.\n",
      "Warning: 1353 total messages of type: Speed of % connection '%' reduced by % due to turning radius of % (length=%, angle=%).\n",
      "Warning: 14038 total messages of type: The referenced geometry information (ref='%') is not known\n",
      "Warning: 37 total messages of type: The traffic light '%' does not control any links; it will not be build.\n",
      "Warning: 7 total messages of type: Value of key '%' is not numeric ('%') in edge '%'.\n",
      "Success.\n"
     ]
    }
   ],
   "source": [
    "! netconvert \\\n",
    "  --osm /home/hoai-linh.dao/Works/EVCS/Lib-Plan/Examples/MiniTest/data/cleaned-marseille.osm \\\n",
    "  -o /home/hoai-linh.dao/Works/EVCS/Lib-Plan/Examples/MiniTest/data/cleaned-marseille.net.xml \\\n",
    "  --offset.disable-normalization \\\n",
    "  --output.street-names true \\\n",
    "  --output.original-names true "
   ]
  },
  {
   "cell_type": "markdown",
   "metadata": {},
   "source": [
    "# **AllEdgeChecks**"
   ]
  },
  {
   "cell_type": "code",
   "execution_count": 2,
   "metadata": {},
   "outputs": [
    {
     "name": "stdout",
     "output_type": "stream",
     "text": [
      "Found 5486 disconnected edges.\n",
      "Found 37298 edges shorter than 5.0 meters.\n",
      "Found 0 edges with zero lanes.\n",
      "Found 29620 edges with speed lower than 5.0 m/s.\n",
      "Found 32 edges with speed higher than 35.0 m/s.\n",
      "Total edges: 165304, Valid edges: 128006\n"
     ]
    },
    {
     "data": {
      "text/plain": [
       "{'disconnected_edges': 5486,\n",
       " 'short_edges': 37298,\n",
       " 'zero_lane_edges': 0,\n",
       " 'low_speed_edges': 29620,\n",
       " 'high_speed_edges': 32,\n",
       " 'total_edges': 165304,\n",
       " 'valid_edges': 128006}"
      ]
     },
     "execution_count": 2,
     "metadata": {},
     "output_type": "execute_result"
    }
   ],
   "source": [
    "runAllEdgeChecks(\"/home/hoai-linh.dao/Works/EVCS/Lib-Plan/Examples/MiniTest/data/fixed-marseille.net.xml\", verbose=False)"
   ]
  },
  {
   "cell_type": "code",
   "execution_count": 3,
   "metadata": {},
   "outputs": [
    {
     "name": "stdout",
     "output_type": "stream",
     "text": [
      "Found 5486 disconnected edges.\n",
      "Additional poly file saved to /home/hoai-linh.dao/Works/EVCS/Lib-Plan/Examples/MiniTest/data/disconnected_edges.poly.xml\n"
     ]
    }
   ],
   "source": [
    "createDisconnectedEdgesPoly(\"/home/hoai-linh.dao/Works/EVCS/Lib-Plan/Examples/MiniTest/data/fixed-marseille.net.xml\", \"/home/hoai-linh.dao/Works/EVCS/Lib-Plan/Examples/MiniTest/data/disconnected_edges.poly.xml\")"
   ]
  },
  {
   "cell_type": "markdown",
   "metadata": {},
   "source": [
    "# **generateVtypesPassenger**"
   ]
  },
  {
   "cell_type": "code",
   "execution_count": 10,
   "metadata": {},
   "outputs": [
    {
     "name": "stdout",
     "output_type": "stream",
     "text": [
      "Output written to /home/hoai-linh.dao/Works/EVCS/Lib-Plan/Sample-Configs/random_passenger_distribution.add.xml\n"
     ]
    }
   ],
   "source": [
    "! python /home/hoai-linh.dao/Envs/sumo-env/lib/python3.10/site-packages/sumo/tools/createVehTypeDistribution.py /home/hoai-linh.dao/Works/EVCS/Lib-Plan/Sample-Configs/vtypes-config.txt \\\n",
    "  --output-file /home/hoai-linh.dao/Works/EVCS/Lib-Plan/Sample-Configs/random_passenger_distribution.add.xml \\\n",
    "  --name carDist "
   ]
  },
  {
   "cell_type": "code",
   "execution_count": 2,
   "metadata": {},
   "outputs": [
    {
     "name": "stdout",
     "output_type": "stream",
     "text": [
      "✔  wrote /home/hoai-linh.dao/Works/EVCS/Lib-Plan/Sample-Configs/random_passenger_distribution.add.xml\n"
     ]
    }
   ],
   "source": [
    "! python /home/hoai-linh.dao/Works/EVCS/Lib-Plan/Vehicles/createVTypeDistributionWrapper.py /home/hoai-linh.dao/Works/EVCS/Lib-Plan/Sample-Configs/vtypes-config.txt \\\n",
    "  --output-file /home/hoai-linh.dao/Works/EVCS/Lib-Plan/Sample-Configs/random_passenger_distribution.add.xml \\\n",
    "  --name carDist \\\n",
    "  --size 100 \\\n",
    "  --decimal-places 2 \\\n",
    "  --resampling 50 \\\n",
    "  --seed 24\n"
   ]
  },
  {
   "cell_type": "markdown",
   "metadata": {},
   "source": [
    "# createVTypeDistributionWrapper"
   ]
  },
  {
   "cell_type": "code",
   "execution_count": 15,
   "metadata": {},
   "outputs": [],
   "source": [
    "! python /home/hoai-linh.dao/Works/EVCS/Lib-Plan/Vehicles/createVTypeDistributionWrapper.py /home/hoai-linh.dao/Works/EVCS/Lib-Plan/Sample-Configs/vtypes-config.txt \\\n",
    "  --evFile /home/hoai-linh.dao/Works/EVCS/AMP-Metropole/Task-3-Completion/data/ev_defination1.xml \\\n",
    "  --output-file /home/hoai-linh.dao/Works/EVCS/Lib-Plan/Sample-Configs/all_vehicle_types.add.xml \\\n",
    "  --name carDist \\\n",
    "  --size 100 \\\n",
    "  --decimal-places 2 \\\n",
    "  --resampling 50 \\\n",
    "  --seed 42\n"
   ]
  },
  {
   "cell_type": "code",
   "execution_count": 3,
   "metadata": {},
   "outputs": [],
   "source": [
    "from xml.dom import minidom\n",
    "\n",
    "doc1 = minidom.parse(\"/home/hoai-linh.dao/Works/EVCS/Lib-Plan/Sample-Configs/random_passenger_distribution.add.xml\")  # target file with <vTypeDistribution>\n",
    "doc2 = minidom.parse(\"/home/hoai-linh.dao/Works/EVCS/AMP-Metropole/Task-3-Completion/data/ev_defination1.xml\")  # source file with <vType> to merge\n",
    "\n",
    "dist_elem = doc1.getElementsByTagName(\"vTypeDistribution\")[0]\n",
    "\n",
    "ev_vtypes = doc2.getElementsByTagName(\"vType\")\n",
    "\n",
    "defaults = {\n",
    "    \"carFollowModel\": \"EIDM\",\n",
    "    \"tau\": 1.0,\n",
    "    \"speedDev\": 0.1,\n",
    "    \"length\": 4.0,\n",
    "    \"width\": 1.7,\n",
    "    \"height\": 1.4\n",
    "}\n",
    "\n",
    "for vtype in ev_vtypes:\n",
    "    for attr, val in defaults.items():\n",
    "        if not vtype.hasAttribute(attr):\n",
    "            vtype.setAttribute(attr, str(val))\n",
    "\n",
    "    imported = doc1.importNode(vtype, deep=True)\n",
    "    dist_elem.appendChild(imported)\n",
    "\n",
    "def prettify_no_blank_lines(elem):\n",
    "    raw = elem.toprettyxml(indent=\"  \")\n",
    "    return \"\\n\".join([line for line in raw.split(\"\\n\") if line.strip()])\n",
    "\n",
    "output_str = prettify_no_blank_lines(doc1)\n",
    "\n",
    "with open(\"/home/hoai-linh.dao/Works/EVCS/Lib-Plan/Sample-Configs/integrated-dist.add.xml\", \"w\") as f:\n",
    "    f.write(output_str)"
   ]
  },
  {
   "cell_type": "code",
   "execution_count": null,
   "metadata": {},
   "outputs": [],
   "source": []
  }
 ],
 "metadata": {
  "kernelspec": {
   "display_name": "Python 3",
   "language": "python",
   "name": "python3"
  },
  "language_info": {
   "codemirror_mode": {
    "name": "ipython",
    "version": 3
   },
   "file_extension": ".py",
   "mimetype": "text/x-python",
   "name": "python",
   "nbconvert_exporter": "python",
   "pygments_lexer": "ipython3",
   "version": "3.10.16"
  }
 },
 "nbformat": 4,
 "nbformat_minor": 2
}
